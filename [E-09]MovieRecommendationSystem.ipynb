{
 "cells": [
  {
   "cell_type": "markdown",
   "id": "serial-titanium",
   "metadata": {},
   "source": [
    "# [E-09] Movielens 영화 추천 실습"
   ]
  },
  {
   "cell_type": "markdown",
   "id": "sharp-print",
   "metadata": {},
   "source": [
    "## 1. 데이터 준비와 전처리"
   ]
  },
  {
   "cell_type": "code",
   "execution_count": 1,
   "id": "acceptable-gravity",
   "metadata": {},
   "outputs": [
    {
     "data": {
      "text/html": [
       "<div>\n",
       "<style scoped>\n",
       "    .dataframe tbody tr th:only-of-type {\n",
       "        vertical-align: middle;\n",
       "    }\n",
       "\n",
       "    .dataframe tbody tr th {\n",
       "        vertical-align: top;\n",
       "    }\n",
       "\n",
       "    .dataframe thead th {\n",
       "        text-align: right;\n",
       "    }\n",
       "</style>\n",
       "<table border=\"1\" class=\"dataframe\">\n",
       "  <thead>\n",
       "    <tr style=\"text-align: right;\">\n",
       "      <th></th>\n",
       "      <th>user_id</th>\n",
       "      <th>movie_id</th>\n",
       "      <th>rating</th>\n",
       "      <th>timestamp</th>\n",
       "    </tr>\n",
       "  </thead>\n",
       "  <tbody>\n",
       "    <tr>\n",
       "      <th>0</th>\n",
       "      <td>1</td>\n",
       "      <td>1193</td>\n",
       "      <td>5</td>\n",
       "      <td>978300760</td>\n",
       "    </tr>\n",
       "    <tr>\n",
       "      <th>1</th>\n",
       "      <td>1</td>\n",
       "      <td>661</td>\n",
       "      <td>3</td>\n",
       "      <td>978302109</td>\n",
       "    </tr>\n",
       "    <tr>\n",
       "      <th>2</th>\n",
       "      <td>1</td>\n",
       "      <td>914</td>\n",
       "      <td>3</td>\n",
       "      <td>978301968</td>\n",
       "    </tr>\n",
       "    <tr>\n",
       "      <th>3</th>\n",
       "      <td>1</td>\n",
       "      <td>3408</td>\n",
       "      <td>4</td>\n",
       "      <td>978300275</td>\n",
       "    </tr>\n",
       "    <tr>\n",
       "      <th>4</th>\n",
       "      <td>1</td>\n",
       "      <td>2355</td>\n",
       "      <td>5</td>\n",
       "      <td>978824291</td>\n",
       "    </tr>\n",
       "  </tbody>\n",
       "</table>\n",
       "</div>"
      ],
      "text/plain": [
       "   user_id  movie_id  rating  timestamp\n",
       "0        1      1193       5  978300760\n",
       "1        1       661       3  978302109\n",
       "2        1       914       3  978301968\n",
       "3        1      3408       4  978300275\n",
       "4        1      2355       5  978824291"
      ]
     },
     "execution_count": 1,
     "metadata": {},
     "output_type": "execute_result"
    }
   ],
   "source": [
    "import os\n",
    "import pandas as pd\n",
    "rating_file_path=os.getenv('HOME') + '/aiffel/recommendata_iu/data/ml-1m/ratings.dat'\n",
    "ratings_cols = ['user_id', 'movie_id', 'rating', 'timestamp']\n",
    "ratings = pd.read_csv(rating_file_path, sep='::', names=ratings_cols, engine='python', encoding = \"ISO-8859-1\")\n",
    "orginal_data_size = len(ratings)\n",
    "ratings.head()"
   ]
  },
  {
   "cell_type": "code",
   "execution_count": 2,
   "id": "cooperative-orlando",
   "metadata": {},
   "outputs": [
    {
     "name": "stdout",
     "output_type": "stream",
     "text": [
      "orginal_data_size: 1000209, filtered_data_size: 836478\n",
      "Ratio of Remaining Data is 83.63%\n"
     ]
    }
   ],
   "source": [
    "# 3점 이상만 남깁니다.\n",
    "ratings = ratings[ratings['rating']>=3]\n",
    "filtered_data_size = len(ratings)\n",
    "\n",
    "print(f'orginal_data_size: {orginal_data_size}, filtered_data_size: {filtered_data_size}')\n",
    "print(f'Ratio of Remaining Data is {filtered_data_size / orginal_data_size:.2%}')"
   ]
  },
  {
   "cell_type": "code",
   "execution_count": 3,
   "id": "gentle-warren",
   "metadata": {},
   "outputs": [],
   "source": [
    "# rating 컬럼의 이름을 count로 바꿉니다.\n",
    "ratings.rename(columns={'rating':'count'}, inplace=True)"
   ]
  },
  {
   "cell_type": "code",
   "execution_count": 4,
   "id": "circular-conjunction",
   "metadata": {},
   "outputs": [
    {
     "data": {
      "text/plain": [
       "0          5\n",
       "1          3\n",
       "2          3\n",
       "3          4\n",
       "4          5\n",
       "          ..\n",
       "1000203    3\n",
       "1000205    5\n",
       "1000206    5\n",
       "1000207    4\n",
       "1000208    4\n",
       "Name: count, Length: 836478, dtype: int64"
      ]
     },
     "execution_count": 4,
     "metadata": {},
     "output_type": "execute_result"
    }
   ],
   "source": [
    "ratings['count']"
   ]
  },
  {
   "cell_type": "code",
   "execution_count": 5,
   "id": "fifteen-accordance",
   "metadata": {
    "scrolled": true
   },
   "outputs": [
    {
     "data": {
      "text/html": [
       "<div>\n",
       "<style scoped>\n",
       "    .dataframe tbody tr th:only-of-type {\n",
       "        vertical-align: middle;\n",
       "    }\n",
       "\n",
       "    .dataframe tbody tr th {\n",
       "        vertical-align: top;\n",
       "    }\n",
       "\n",
       "    .dataframe thead th {\n",
       "        text-align: right;\n",
       "    }\n",
       "</style>\n",
       "<table border=\"1\" class=\"dataframe\">\n",
       "  <thead>\n",
       "    <tr style=\"text-align: right;\">\n",
       "      <th></th>\n",
       "      <th>movie_id</th>\n",
       "      <th>title</th>\n",
       "      <th>genre</th>\n",
       "    </tr>\n",
       "  </thead>\n",
       "  <tbody>\n",
       "    <tr>\n",
       "      <th>0</th>\n",
       "      <td>1</td>\n",
       "      <td>Toy Story (1995)</td>\n",
       "      <td>Animation|Children's|Comedy</td>\n",
       "    </tr>\n",
       "    <tr>\n",
       "      <th>1</th>\n",
       "      <td>2</td>\n",
       "      <td>Jumanji (1995)</td>\n",
       "      <td>Adventure|Children's|Fantasy</td>\n",
       "    </tr>\n",
       "    <tr>\n",
       "      <th>2</th>\n",
       "      <td>3</td>\n",
       "      <td>Grumpier Old Men (1995)</td>\n",
       "      <td>Comedy|Romance</td>\n",
       "    </tr>\n",
       "    <tr>\n",
       "      <th>3</th>\n",
       "      <td>4</td>\n",
       "      <td>Waiting to Exhale (1995)</td>\n",
       "      <td>Comedy|Drama</td>\n",
       "    </tr>\n",
       "    <tr>\n",
       "      <th>4</th>\n",
       "      <td>5</td>\n",
       "      <td>Father of the Bride Part II (1995)</td>\n",
       "      <td>Comedy</td>\n",
       "    </tr>\n",
       "  </tbody>\n",
       "</table>\n",
       "</div>"
      ],
      "text/plain": [
       "   movie_id                               title                         genre\n",
       "0         1                    Toy Story (1995)   Animation|Children's|Comedy\n",
       "1         2                      Jumanji (1995)  Adventure|Children's|Fantasy\n",
       "2         3             Grumpier Old Men (1995)                Comedy|Romance\n",
       "3         4            Waiting to Exhale (1995)                  Comedy|Drama\n",
       "4         5  Father of the Bride Part II (1995)                        Comedy"
      ]
     },
     "execution_count": 5,
     "metadata": {},
     "output_type": "execute_result"
    }
   ],
   "source": [
    "# 영화 제목을 보기 위해 메타 데이터를 읽어옵니다.\n",
    "movie_file_path=os.getenv('HOME') + '/aiffel/recommendata_iu/data/ml-1m/movies.dat'\n",
    "cols = ['movie_id', 'title', 'genre'] \n",
    "movies = pd.read_csv(movie_file_path, sep='::', names=cols, engine='python', encoding='ISO-8859-1')\n",
    "movies.head()"
   ]
  },
  {
   "cell_type": "markdown",
   "id": "charming-processing",
   "metadata": {},
   "source": [
    "## 2. 데이터 분석"
   ]
  },
  {
   "cell_type": "markdown",
   "id": "continued-filename",
   "metadata": {},
   "source": [
    "### 2.1 ratings에 있는 유니크한 영화 개수"
   ]
  },
  {
   "cell_type": "code",
   "execution_count": 6,
   "id": "destroyed-sellers",
   "metadata": {},
   "outputs": [
    {
     "data": {
      "text/plain": [
       "3628"
      ]
     },
     "execution_count": 6,
     "metadata": {},
     "output_type": "execute_result"
    }
   ],
   "source": [
    "ratings['movie_id'].nunique()"
   ]
  },
  {
   "cell_type": "markdown",
   "id": "structured-friendly",
   "metadata": {},
   "source": [
    "### 2.2 ratings에 있는 유니크한 사용자 수"
   ]
  },
  {
   "cell_type": "code",
   "execution_count": 7,
   "id": "built-interface",
   "metadata": {},
   "outputs": [
    {
     "data": {
      "text/plain": [
       "6039"
      ]
     },
     "execution_count": 7,
     "metadata": {},
     "output_type": "execute_result"
    }
   ],
   "source": [
    "ratings['user_id'].nunique()"
   ]
  },
  {
   "cell_type": "markdown",
   "id": "hydraulic-symphony",
   "metadata": {},
   "source": [
    "### 2.2 가장 인기 있는 영화 30개(인기순)"
   ]
  },
  {
   "cell_type": "code",
   "execution_count": 20,
   "id": "abandoned-wrapping",
   "metadata": {},
   "outputs": [],
   "source": [
    "movie_count = ratings.groupby('movie_id')['user_id'].count()\n",
    "best_movie = movie_count.sort_values(ascending=False).head(30)"
   ]
  },
  {
   "cell_type": "code",
   "execution_count": 21,
   "id": "naval-realtor",
   "metadata": {
    "scrolled": true
   },
   "outputs": [
    {
     "data": {
      "text/html": [
       "<div>\n",
       "<style scoped>\n",
       "    .dataframe tbody tr th:only-of-type {\n",
       "        vertical-align: middle;\n",
       "    }\n",
       "\n",
       "    .dataframe tbody tr th {\n",
       "        vertical-align: top;\n",
       "    }\n",
       "\n",
       "    .dataframe thead th {\n",
       "        text-align: right;\n",
       "    }\n",
       "</style>\n",
       "<table border=\"1\" class=\"dataframe\">\n",
       "  <thead>\n",
       "    <tr style=\"text-align: right;\">\n",
       "      <th></th>\n",
       "      <th>movie_id</th>\n",
       "      <th>user_id</th>\n",
       "      <th>title</th>\n",
       "      <th>genre</th>\n",
       "    </tr>\n",
       "  </thead>\n",
       "  <tbody>\n",
       "    <tr>\n",
       "      <th>0</th>\n",
       "      <td>2858</td>\n",
       "      <td>3211</td>\n",
       "      <td>American Beauty (1999)</td>\n",
       "      <td>Comedy|Drama</td>\n",
       "    </tr>\n",
       "    <tr>\n",
       "      <th>1</th>\n",
       "      <td>260</td>\n",
       "      <td>2910</td>\n",
       "      <td>Star Wars: Episode IV - A New Hope (1977)</td>\n",
       "      <td>Action|Adventure|Fantasy|Sci-Fi</td>\n",
       "    </tr>\n",
       "    <tr>\n",
       "      <th>2</th>\n",
       "      <td>1196</td>\n",
       "      <td>2885</td>\n",
       "      <td>Star Wars: Episode V - The Empire Strikes Back...</td>\n",
       "      <td>Action|Adventure|Drama|Sci-Fi|War</td>\n",
       "    </tr>\n",
       "    <tr>\n",
       "      <th>3</th>\n",
       "      <td>1210</td>\n",
       "      <td>2716</td>\n",
       "      <td>Star Wars: Episode VI - Return of the Jedi (1983)</td>\n",
       "      <td>Action|Adventure|Romance|Sci-Fi|War</td>\n",
       "    </tr>\n",
       "    <tr>\n",
       "      <th>4</th>\n",
       "      <td>2028</td>\n",
       "      <td>2561</td>\n",
       "      <td>Saving Private Ryan (1998)</td>\n",
       "      <td>Action|Drama|War</td>\n",
       "    </tr>\n",
       "    <tr>\n",
       "      <th>5</th>\n",
       "      <td>589</td>\n",
       "      <td>2509</td>\n",
       "      <td>Terminator 2: Judgment Day (1991)</td>\n",
       "      <td>Action|Sci-Fi|Thriller</td>\n",
       "    </tr>\n",
       "    <tr>\n",
       "      <th>6</th>\n",
       "      <td>593</td>\n",
       "      <td>2498</td>\n",
       "      <td>Silence of the Lambs, The (1991)</td>\n",
       "      <td>Drama|Thriller</td>\n",
       "    </tr>\n",
       "    <tr>\n",
       "      <th>7</th>\n",
       "      <td>1198</td>\n",
       "      <td>2473</td>\n",
       "      <td>Raiders of the Lost Ark (1981)</td>\n",
       "      <td>Action|Adventure</td>\n",
       "    </tr>\n",
       "    <tr>\n",
       "      <th>8</th>\n",
       "      <td>1270</td>\n",
       "      <td>2460</td>\n",
       "      <td>Back to the Future (1985)</td>\n",
       "      <td>Comedy|Sci-Fi</td>\n",
       "    </tr>\n",
       "    <tr>\n",
       "      <th>9</th>\n",
       "      <td>2571</td>\n",
       "      <td>2434</td>\n",
       "      <td>Matrix, The (1999)</td>\n",
       "      <td>Action|Sci-Fi|Thriller</td>\n",
       "    </tr>\n",
       "    <tr>\n",
       "      <th>10</th>\n",
       "      <td>480</td>\n",
       "      <td>2413</td>\n",
       "      <td>Jurassic Park (1993)</td>\n",
       "      <td>Action|Adventure|Sci-Fi</td>\n",
       "    </tr>\n",
       "    <tr>\n",
       "      <th>11</th>\n",
       "      <td>2762</td>\n",
       "      <td>2385</td>\n",
       "      <td>Sixth Sense, The (1999)</td>\n",
       "      <td>Thriller</td>\n",
       "    </tr>\n",
       "    <tr>\n",
       "      <th>12</th>\n",
       "      <td>608</td>\n",
       "      <td>2371</td>\n",
       "      <td>Fargo (1996)</td>\n",
       "      <td>Crime|Drama|Thriller</td>\n",
       "    </tr>\n",
       "    <tr>\n",
       "      <th>13</th>\n",
       "      <td>110</td>\n",
       "      <td>2314</td>\n",
       "      <td>Braveheart (1995)</td>\n",
       "      <td>Action|Drama|War</td>\n",
       "    </tr>\n",
       "    <tr>\n",
       "      <th>14</th>\n",
       "      <td>1580</td>\n",
       "      <td>2297</td>\n",
       "      <td>Men in Black (1997)</td>\n",
       "      <td>Action|Adventure|Comedy|Sci-Fi</td>\n",
       "    </tr>\n",
       "    <tr>\n",
       "      <th>15</th>\n",
       "      <td>527</td>\n",
       "      <td>2257</td>\n",
       "      <td>Schindler's List (1993)</td>\n",
       "      <td>Drama|War</td>\n",
       "    </tr>\n",
       "    <tr>\n",
       "      <th>16</th>\n",
       "      <td>1197</td>\n",
       "      <td>2252</td>\n",
       "      <td>Princess Bride, The (1987)</td>\n",
       "      <td>Action|Adventure|Comedy|Romance</td>\n",
       "    </tr>\n",
       "    <tr>\n",
       "      <th>17</th>\n",
       "      <td>2396</td>\n",
       "      <td>2213</td>\n",
       "      <td>Shakespeare in Love (1998)</td>\n",
       "      <td>Comedy|Romance</td>\n",
       "    </tr>\n",
       "    <tr>\n",
       "      <th>18</th>\n",
       "      <td>1617</td>\n",
       "      <td>2210</td>\n",
       "      <td>L.A. Confidential (1997)</td>\n",
       "      <td>Crime|Film-Noir|Mystery|Thriller</td>\n",
       "    </tr>\n",
       "    <tr>\n",
       "      <th>19</th>\n",
       "      <td>318</td>\n",
       "      <td>2194</td>\n",
       "      <td>Shawshank Redemption, The (1994)</td>\n",
       "      <td>Drama</td>\n",
       "    </tr>\n",
       "    <tr>\n",
       "      <th>20</th>\n",
       "      <td>858</td>\n",
       "      <td>2167</td>\n",
       "      <td>Godfather, The (1972)</td>\n",
       "      <td>Action|Crime|Drama</td>\n",
       "    </tr>\n",
       "    <tr>\n",
       "      <th>21</th>\n",
       "      <td>1265</td>\n",
       "      <td>2121</td>\n",
       "      <td>Groundhog Day (1993)</td>\n",
       "      <td>Comedy|Romance</td>\n",
       "    </tr>\n",
       "    <tr>\n",
       "      <th>22</th>\n",
       "      <td>1097</td>\n",
       "      <td>2102</td>\n",
       "      <td>E.T. the Extra-Terrestrial (1982)</td>\n",
       "      <td>Children's|Drama|Fantasy|Sci-Fi</td>\n",
       "    </tr>\n",
       "    <tr>\n",
       "      <th>23</th>\n",
       "      <td>2997</td>\n",
       "      <td>2066</td>\n",
       "      <td>Being John Malkovich (1999)</td>\n",
       "      <td>Comedy</td>\n",
       "    </tr>\n",
       "    <tr>\n",
       "      <th>24</th>\n",
       "      <td>2716</td>\n",
       "      <td>2051</td>\n",
       "      <td>Ghostbusters (1984)</td>\n",
       "      <td>Comedy|Horror</td>\n",
       "    </tr>\n",
       "    <tr>\n",
       "      <th>25</th>\n",
       "      <td>296</td>\n",
       "      <td>2030</td>\n",
       "      <td>Pulp Fiction (1994)</td>\n",
       "      <td>Crime|Drama</td>\n",
       "    </tr>\n",
       "    <tr>\n",
       "      <th>26</th>\n",
       "      <td>356</td>\n",
       "      <td>2022</td>\n",
       "      <td>Forrest Gump (1994)</td>\n",
       "      <td>Comedy|Romance|War</td>\n",
       "    </tr>\n",
       "    <tr>\n",
       "      <th>27</th>\n",
       "      <td>1240</td>\n",
       "      <td>2019</td>\n",
       "      <td>Terminator, The (1984)</td>\n",
       "      <td>Action|Sci-Fi|Thriller</td>\n",
       "    </tr>\n",
       "    <tr>\n",
       "      <th>28</th>\n",
       "      <td>1</td>\n",
       "      <td>2000</td>\n",
       "      <td>Toy Story (1995)</td>\n",
       "      <td>Animation|Children's|Comedy</td>\n",
       "    </tr>\n",
       "    <tr>\n",
       "      <th>29</th>\n",
       "      <td>457</td>\n",
       "      <td>1941</td>\n",
       "      <td>Fugitive, The (1993)</td>\n",
       "      <td>Action|Thriller</td>\n",
       "    </tr>\n",
       "  </tbody>\n",
       "</table>\n",
       "</div>"
      ],
      "text/plain": [
       "    movie_id  user_id                                              title  \\\n",
       "0       2858     3211                             American Beauty (1999)   \n",
       "1        260     2910          Star Wars: Episode IV - A New Hope (1977)   \n",
       "2       1196     2885  Star Wars: Episode V - The Empire Strikes Back...   \n",
       "3       1210     2716  Star Wars: Episode VI - Return of the Jedi (1983)   \n",
       "4       2028     2561                         Saving Private Ryan (1998)   \n",
       "5        589     2509                  Terminator 2: Judgment Day (1991)   \n",
       "6        593     2498                   Silence of the Lambs, The (1991)   \n",
       "7       1198     2473                     Raiders of the Lost Ark (1981)   \n",
       "8       1270     2460                          Back to the Future (1985)   \n",
       "9       2571     2434                                 Matrix, The (1999)   \n",
       "10       480     2413                               Jurassic Park (1993)   \n",
       "11      2762     2385                            Sixth Sense, The (1999)   \n",
       "12       608     2371                                       Fargo (1996)   \n",
       "13       110     2314                                  Braveheart (1995)   \n",
       "14      1580     2297                                Men in Black (1997)   \n",
       "15       527     2257                            Schindler's List (1993)   \n",
       "16      1197     2252                         Princess Bride, The (1987)   \n",
       "17      2396     2213                         Shakespeare in Love (1998)   \n",
       "18      1617     2210                           L.A. Confidential (1997)   \n",
       "19       318     2194                   Shawshank Redemption, The (1994)   \n",
       "20       858     2167                              Godfather, The (1972)   \n",
       "21      1265     2121                               Groundhog Day (1993)   \n",
       "22      1097     2102                  E.T. the Extra-Terrestrial (1982)   \n",
       "23      2997     2066                        Being John Malkovich (1999)   \n",
       "24      2716     2051                                Ghostbusters (1984)   \n",
       "25       296     2030                                Pulp Fiction (1994)   \n",
       "26       356     2022                                Forrest Gump (1994)   \n",
       "27      1240     2019                             Terminator, The (1984)   \n",
       "28         1     2000                                   Toy Story (1995)   \n",
       "29       457     1941                               Fugitive, The (1993)   \n",
       "\n",
       "                                  genre  \n",
       "0                          Comedy|Drama  \n",
       "1       Action|Adventure|Fantasy|Sci-Fi  \n",
       "2     Action|Adventure|Drama|Sci-Fi|War  \n",
       "3   Action|Adventure|Romance|Sci-Fi|War  \n",
       "4                      Action|Drama|War  \n",
       "5                Action|Sci-Fi|Thriller  \n",
       "6                        Drama|Thriller  \n",
       "7                      Action|Adventure  \n",
       "8                         Comedy|Sci-Fi  \n",
       "9                Action|Sci-Fi|Thriller  \n",
       "10              Action|Adventure|Sci-Fi  \n",
       "11                             Thriller  \n",
       "12                 Crime|Drama|Thriller  \n",
       "13                     Action|Drama|War  \n",
       "14       Action|Adventure|Comedy|Sci-Fi  \n",
       "15                            Drama|War  \n",
       "16      Action|Adventure|Comedy|Romance  \n",
       "17                       Comedy|Romance  \n",
       "18     Crime|Film-Noir|Mystery|Thriller  \n",
       "19                                Drama  \n",
       "20                   Action|Crime|Drama  \n",
       "21                       Comedy|Romance  \n",
       "22      Children's|Drama|Fantasy|Sci-Fi  \n",
       "23                               Comedy  \n",
       "24                        Comedy|Horror  \n",
       "25                          Crime|Drama  \n",
       "26                   Comedy|Romance|War  \n",
       "27               Action|Sci-Fi|Thriller  \n",
       "28          Animation|Children's|Comedy  \n",
       "29                      Action|Thriller  "
      ]
     },
     "execution_count": 21,
     "metadata": {},
     "output_type": "execute_result"
    }
   ],
   "source": [
    "best_movie = best_movie.reset_index()\n",
    "pd.merge(best_movie, movies)"
   ]
  },
  {
   "cell_type": "markdown",
   "id": "french-limit",
   "metadata": {},
   "source": [
    "## 3 데이터 전처리"
   ]
  },
  {
   "cell_type": "markdown",
   "id": "prostate-locator",
   "metadata": {},
   "source": [
    "### 3.1 데이터 합치기"
   ]
  },
  {
   "cell_type": "code",
   "execution_count": 53,
   "id": "limiting-helmet",
   "metadata": {},
   "outputs": [
    {
     "data": {
      "text/html": [
       "<div>\n",
       "<style scoped>\n",
       "    .dataframe tbody tr th:only-of-type {\n",
       "        vertical-align: middle;\n",
       "    }\n",
       "\n",
       "    .dataframe tbody tr th {\n",
       "        vertical-align: top;\n",
       "    }\n",
       "\n",
       "    .dataframe thead th {\n",
       "        text-align: right;\n",
       "    }\n",
       "</style>\n",
       "<table border=\"1\" class=\"dataframe\">\n",
       "  <thead>\n",
       "    <tr style=\"text-align: right;\">\n",
       "      <th></th>\n",
       "      <th>user_id</th>\n",
       "      <th>count</th>\n",
       "      <th>title</th>\n",
       "      <th>genre</th>\n",
       "    </tr>\n",
       "  </thead>\n",
       "  <tbody>\n",
       "    <tr>\n",
       "      <th>0</th>\n",
       "      <td>1</td>\n",
       "      <td>5</td>\n",
       "      <td>One Flew Over the Cuckoo's Nest (1975)</td>\n",
       "      <td>Drama</td>\n",
       "    </tr>\n",
       "    <tr>\n",
       "      <th>1</th>\n",
       "      <td>2</td>\n",
       "      <td>5</td>\n",
       "      <td>One Flew Over the Cuckoo's Nest (1975)</td>\n",
       "      <td>Drama</td>\n",
       "    </tr>\n",
       "    <tr>\n",
       "      <th>2</th>\n",
       "      <td>12</td>\n",
       "      <td>4</td>\n",
       "      <td>One Flew Over the Cuckoo's Nest (1975)</td>\n",
       "      <td>Drama</td>\n",
       "    </tr>\n",
       "    <tr>\n",
       "      <th>3</th>\n",
       "      <td>15</td>\n",
       "      <td>4</td>\n",
       "      <td>One Flew Over the Cuckoo's Nest (1975)</td>\n",
       "      <td>Drama</td>\n",
       "    </tr>\n",
       "    <tr>\n",
       "      <th>4</th>\n",
       "      <td>17</td>\n",
       "      <td>5</td>\n",
       "      <td>One Flew Over the Cuckoo's Nest (1975)</td>\n",
       "      <td>Drama</td>\n",
       "    </tr>\n",
       "    <tr>\n",
       "      <th>...</th>\n",
       "      <td>...</td>\n",
       "      <td>...</td>\n",
       "      <td>...</td>\n",
       "      <td>...</td>\n",
       "    </tr>\n",
       "    <tr>\n",
       "      <th>836473</th>\n",
       "      <td>5851</td>\n",
       "      <td>5</td>\n",
       "      <td>One Little Indian (1973)</td>\n",
       "      <td>Comedy|Drama|Western</td>\n",
       "    </tr>\n",
       "    <tr>\n",
       "      <th>836474</th>\n",
       "      <td>5854</td>\n",
       "      <td>4</td>\n",
       "      <td>Slaughterhouse (1987)</td>\n",
       "      <td>Horror</td>\n",
       "    </tr>\n",
       "    <tr>\n",
       "      <th>836475</th>\n",
       "      <td>5854</td>\n",
       "      <td>3</td>\n",
       "      <td>Promise, The (Versprechen, Das) (1994)</td>\n",
       "      <td>Romance</td>\n",
       "    </tr>\n",
       "    <tr>\n",
       "      <th>836476</th>\n",
       "      <td>5938</td>\n",
       "      <td>4</td>\n",
       "      <td>Five Wives, Three Secretaries and Me (1998)</td>\n",
       "      <td>Documentary</td>\n",
       "    </tr>\n",
       "    <tr>\n",
       "      <th>836477</th>\n",
       "      <td>5948</td>\n",
       "      <td>5</td>\n",
       "      <td>Identification of a Woman (Identificazione di ...</td>\n",
       "      <td>Drama</td>\n",
       "    </tr>\n",
       "  </tbody>\n",
       "</table>\n",
       "<p>836478 rows × 4 columns</p>\n",
       "</div>"
      ],
      "text/plain": [
       "        user_id  count                                              title  \\\n",
       "0             1      5             One Flew Over the Cuckoo's Nest (1975)   \n",
       "1             2      5             One Flew Over the Cuckoo's Nest (1975)   \n",
       "2            12      4             One Flew Over the Cuckoo's Nest (1975)   \n",
       "3            15      4             One Flew Over the Cuckoo's Nest (1975)   \n",
       "4            17      5             One Flew Over the Cuckoo's Nest (1975)   \n",
       "...         ...    ...                                                ...   \n",
       "836473     5851      5                           One Little Indian (1973)   \n",
       "836474     5854      4                              Slaughterhouse (1987)   \n",
       "836475     5854      3             Promise, The (Versprechen, Das) (1994)   \n",
       "836476     5938      4        Five Wives, Three Secretaries and Me (1998)   \n",
       "836477     5948      5  Identification of a Woman (Identificazione di ...   \n",
       "\n",
       "                       genre  \n",
       "0                      Drama  \n",
       "1                      Drama  \n",
       "2                      Drama  \n",
       "3                      Drama  \n",
       "4                      Drama  \n",
       "...                      ...  \n",
       "836473  Comedy|Drama|Western  \n",
       "836474                Horror  \n",
       "836475               Romance  \n",
       "836476           Documentary  \n",
       "836477                 Drama  \n",
       "\n",
       "[836478 rows x 4 columns]"
      ]
     },
     "execution_count": 53,
     "metadata": {},
     "output_type": "execute_result"
    }
   ],
   "source": [
    "data = pd.merge(ratings, movies)\n",
    "data = data.drop(['movie_id','timestamp'], axis=1)\n",
    "data"
   ]
  },
  {
   "cell_type": "markdown",
   "id": "metric-revolution",
   "metadata": {},
   "source": [
    "### 3.2 내가 선호하는 영화"
   ]
  },
  {
   "cell_type": "code",
   "execution_count": 54,
   "id": "welsh-lying",
   "metadata": {},
   "outputs": [
    {
     "data": {
      "text/html": [
       "<div>\n",
       "<style scoped>\n",
       "    .dataframe tbody tr th:only-of-type {\n",
       "        vertical-align: middle;\n",
       "    }\n",
       "\n",
       "    .dataframe tbody tr th {\n",
       "        vertical-align: top;\n",
       "    }\n",
       "\n",
       "    .dataframe thead th {\n",
       "        text-align: right;\n",
       "    }\n",
       "</style>\n",
       "<table border=\"1\" class=\"dataframe\">\n",
       "  <thead>\n",
       "    <tr style=\"text-align: right;\">\n",
       "      <th></th>\n",
       "      <th>user_id</th>\n",
       "      <th>count</th>\n",
       "      <th>title</th>\n",
       "      <th>genre</th>\n",
       "    </tr>\n",
       "  </thead>\n",
       "  <tbody>\n",
       "    <tr>\n",
       "      <th>836473</th>\n",
       "      <td>5851</td>\n",
       "      <td>5</td>\n",
       "      <td>One Little Indian (1973)</td>\n",
       "      <td>Comedy|Drama|Western</td>\n",
       "    </tr>\n",
       "    <tr>\n",
       "      <th>836474</th>\n",
       "      <td>5854</td>\n",
       "      <td>4</td>\n",
       "      <td>Slaughterhouse (1987)</td>\n",
       "      <td>Horror</td>\n",
       "    </tr>\n",
       "    <tr>\n",
       "      <th>836475</th>\n",
       "      <td>5854</td>\n",
       "      <td>3</td>\n",
       "      <td>Promise, The (Versprechen, Das) (1994)</td>\n",
       "      <td>Romance</td>\n",
       "    </tr>\n",
       "    <tr>\n",
       "      <th>836476</th>\n",
       "      <td>5938</td>\n",
       "      <td>4</td>\n",
       "      <td>Five Wives, Three Secretaries and Me (1998)</td>\n",
       "      <td>Documentary</td>\n",
       "    </tr>\n",
       "    <tr>\n",
       "      <th>836477</th>\n",
       "      <td>5948</td>\n",
       "      <td>5</td>\n",
       "      <td>Identification of a Woman (Identificazione di ...</td>\n",
       "      <td>Drama</td>\n",
       "    </tr>\n",
       "    <tr>\n",
       "      <th>0</th>\n",
       "      <td>mink</td>\n",
       "      <td>5</td>\n",
       "      <td>Toy Story (1995)</td>\n",
       "      <td>NaN</td>\n",
       "    </tr>\n",
       "    <tr>\n",
       "      <th>1</th>\n",
       "      <td>mink</td>\n",
       "      <td>5</td>\n",
       "      <td>Pretty Woman (1990)</td>\n",
       "      <td>NaN</td>\n",
       "    </tr>\n",
       "    <tr>\n",
       "      <th>2</th>\n",
       "      <td>mink</td>\n",
       "      <td>5</td>\n",
       "      <td>Notting Hill (1999)</td>\n",
       "      <td>NaN</td>\n",
       "    </tr>\n",
       "    <tr>\n",
       "      <th>3</th>\n",
       "      <td>mink</td>\n",
       "      <td>5</td>\n",
       "      <td>Breakfast at Tiffany's (1961)</td>\n",
       "      <td>NaN</td>\n",
       "    </tr>\n",
       "    <tr>\n",
       "      <th>4</th>\n",
       "      <td>mink</td>\n",
       "      <td>5</td>\n",
       "      <td>Ghost (1990)</td>\n",
       "      <td>NaN</td>\n",
       "    </tr>\n",
       "  </tbody>\n",
       "</table>\n",
       "</div>"
      ],
      "text/plain": [
       "       user_id  count                                              title  \\\n",
       "836473    5851      5                           One Little Indian (1973)   \n",
       "836474    5854      4                              Slaughterhouse (1987)   \n",
       "836475    5854      3             Promise, The (Versprechen, Das) (1994)   \n",
       "836476    5938      4        Five Wives, Three Secretaries and Me (1998)   \n",
       "836477    5948      5  Identification of a Woman (Identificazione di ...   \n",
       "0         mink      5                                   Toy Story (1995)   \n",
       "1         mink      5                                Pretty Woman (1990)   \n",
       "2         mink      5                                Notting Hill (1999)   \n",
       "3         mink      5                      Breakfast at Tiffany's (1961)   \n",
       "4         mink      5                                       Ghost (1990)   \n",
       "\n",
       "                       genre  \n",
       "836473  Comedy|Drama|Western  \n",
       "836474                Horror  \n",
       "836475               Romance  \n",
       "836476           Documentary  \n",
       "836477                 Drama  \n",
       "0                        NaN  \n",
       "1                        NaN  \n",
       "2                        NaN  \n",
       "3                        NaN  \n",
       "4                        NaN  "
      ]
     },
     "execution_count": 54,
     "metadata": {},
     "output_type": "execute_result"
    }
   ],
   "source": [
    "# 넣다보니 다 로맨스군요,, 이거 다 재미있습니다 \n",
    "my_favorite = ['Toy Story (1995)', 'Pretty Woman (1990)', 'Notting Hill (1999)', 'Breakfast at Tiffany\\'s (1961)', 'Ghost (1990)']\n",
    "\n",
    "# 'mink'이라는 user_id가 위 아티스트의 노래를 30회씩 들었다고 가정하겠습니다.\n",
    "my_playlist = pd.DataFrame({'user_id': ['mink']*5, 'title': my_favorite, 'count':[5]*5})\n",
    "\n",
    "if not data.isin({'user_id':['mink']})['user_id'].any():    # user_id에 'mink'이라는 데이터가 없다면\n",
    "    data = data.append(my_playlist)                          # 위에 임의로 만든 my_favorite 데이터를 추가해 줍니다. \n",
    "\n",
    "data.tail(10)       # 잘 추가되었는지 확인해 봅시다.\n"
   ]
  },
  {
   "cell_type": "code",
   "execution_count": 55,
   "id": "secure-irrigation",
   "metadata": {},
   "outputs": [],
   "source": [
    "# 고유한 유저, 아티스트를 찾아내는 코드\n",
    "user_unique = data['user_id'].unique()\n",
    "artist_unique = data['title'].unique()\n",
    "\n",
    "# 유저, 아티스트 indexing 하는 코드 idx는 index의 약자입니다.\n",
    "user_to_idx = {v:k for k,v in enumerate(user_unique)}\n",
    "movie_to_idx = {v:k for k,v in enumerate(artist_unique)}"
   ]
  },
  {
   "cell_type": "code",
   "execution_count": 56,
   "id": "saved-museum",
   "metadata": {},
   "outputs": [
    {
     "name": "stdout",
     "output_type": "stream",
     "text": [
      "6039\n",
      "336\n"
     ]
    }
   ],
   "source": [
    "# 인덱싱이 잘 되었는지 확인해 봅니다. \n",
    "print(user_to_idx['mink'])    # 358869명의 유저 중 마지막으로 추가된 유저이니 358868이 나와야 합니다. \n",
    "print(movie_to_idx['Pretty Woman (1990)'])"
   ]
  },
  {
   "cell_type": "code",
   "execution_count": 57,
   "id": "regulated-billy",
   "metadata": {},
   "outputs": [
    {
     "name": "stdout",
     "output_type": "stream",
     "text": [
      "user_id column indexing OK!!\n",
      "title column indexing OK!!\n"
     ]
    },
    {
     "data": {
      "text/html": [
       "<div>\n",
       "<style scoped>\n",
       "    .dataframe tbody tr th:only-of-type {\n",
       "        vertical-align: middle;\n",
       "    }\n",
       "\n",
       "    .dataframe tbody tr th {\n",
       "        vertical-align: top;\n",
       "    }\n",
       "\n",
       "    .dataframe thead th {\n",
       "        text-align: right;\n",
       "    }\n",
       "</style>\n",
       "<table border=\"1\" class=\"dataframe\">\n",
       "  <thead>\n",
       "    <tr style=\"text-align: right;\">\n",
       "      <th></th>\n",
       "      <th>user_id</th>\n",
       "      <th>count</th>\n",
       "      <th>title</th>\n",
       "      <th>genre</th>\n",
       "    </tr>\n",
       "  </thead>\n",
       "  <tbody>\n",
       "    <tr>\n",
       "      <th>0</th>\n",
       "      <td>0</td>\n",
       "      <td>5</td>\n",
       "      <td>0</td>\n",
       "      <td>Drama</td>\n",
       "    </tr>\n",
       "    <tr>\n",
       "      <th>1</th>\n",
       "      <td>1</td>\n",
       "      <td>5</td>\n",
       "      <td>0</td>\n",
       "      <td>Drama</td>\n",
       "    </tr>\n",
       "    <tr>\n",
       "      <th>2</th>\n",
       "      <td>2</td>\n",
       "      <td>4</td>\n",
       "      <td>0</td>\n",
       "      <td>Drama</td>\n",
       "    </tr>\n",
       "    <tr>\n",
       "      <th>3</th>\n",
       "      <td>3</td>\n",
       "      <td>4</td>\n",
       "      <td>0</td>\n",
       "      <td>Drama</td>\n",
       "    </tr>\n",
       "    <tr>\n",
       "      <th>4</th>\n",
       "      <td>4</td>\n",
       "      <td>5</td>\n",
       "      <td>0</td>\n",
       "      <td>Drama</td>\n",
       "    </tr>\n",
       "    <tr>\n",
       "      <th>...</th>\n",
       "      <td>...</td>\n",
       "      <td>...</td>\n",
       "      <td>...</td>\n",
       "      <td>...</td>\n",
       "    </tr>\n",
       "    <tr>\n",
       "      <th>0</th>\n",
       "      <td>6039</td>\n",
       "      <td>5</td>\n",
       "      <td>40</td>\n",
       "      <td>NaN</td>\n",
       "    </tr>\n",
       "    <tr>\n",
       "      <th>1</th>\n",
       "      <td>6039</td>\n",
       "      <td>5</td>\n",
       "      <td>336</td>\n",
       "      <td>NaN</td>\n",
       "    </tr>\n",
       "    <tr>\n",
       "      <th>2</th>\n",
       "      <td>6039</td>\n",
       "      <td>5</td>\n",
       "      <td>1151</td>\n",
       "      <td>NaN</td>\n",
       "    </tr>\n",
       "    <tr>\n",
       "      <th>3</th>\n",
       "      <td>6039</td>\n",
       "      <td>5</td>\n",
       "      <td>566</td>\n",
       "      <td>NaN</td>\n",
       "    </tr>\n",
       "    <tr>\n",
       "      <th>4</th>\n",
       "      <td>6039</td>\n",
       "      <td>5</td>\n",
       "      <td>508</td>\n",
       "      <td>NaN</td>\n",
       "    </tr>\n",
       "  </tbody>\n",
       "</table>\n",
       "<p>836483 rows × 4 columns</p>\n",
       "</div>"
      ],
      "text/plain": [
       "    user_id  count  title  genre\n",
       "0         0      5      0  Drama\n",
       "1         1      5      0  Drama\n",
       "2         2      4      0  Drama\n",
       "3         3      4      0  Drama\n",
       "4         4      5      0  Drama\n",
       "..      ...    ...    ...    ...\n",
       "0      6039      5     40    NaN\n",
       "1      6039      5    336    NaN\n",
       "2      6039      5   1151    NaN\n",
       "3      6039      5    566    NaN\n",
       "4      6039      5    508    NaN\n",
       "\n",
       "[836483 rows x 4 columns]"
      ]
     },
     "execution_count": 57,
     "metadata": {},
     "output_type": "execute_result"
    }
   ],
   "source": [
    "# indexing을 통해 데이터 컬럼 내 값을 바꾸는 코드\n",
    "# dictionary 자료형의 get 함수는 https://wikidocs.net/16 을 참고하세요.\n",
    "\n",
    "# user_to_idx.get을 통해 user_id 컬럼의 모든 값을 인덱싱한 Series를 구해 봅시다. \n",
    "# 혹시 정상적으로 인덱싱되지 않은 row가 있다면 인덱스가 NaN이 될 테니 dropna()로 제거합니다. \n",
    "temp_user_data = data['user_id'].map(user_to_idx.get).dropna()\n",
    "if len(temp_user_data) == len(data):   # 모든 row가 정상적으로 인덱싱되었다면\n",
    "    print('user_id column indexing OK!!')\n",
    "    data['user_id'] = temp_user_data   # data['user_id']을 인덱싱된 Series로 교체해 줍니다. \n",
    "else:\n",
    "    print('user_id column indexing Fail!!')\n",
    "\n",
    "# artist_to_idx을 통해 artist 컬럼도 동일한 방식으로 인덱싱해 줍니다. \n",
    "temp_movie_data = data['title'].map(movie_to_idx.get).dropna()\n",
    "if len(temp_movie_data) == len(data):\n",
    "    print('title column indexing OK!!')\n",
    "    data['title'] = temp_movie_data\n",
    "else:\n",
    "    print('title column indexing Fail!!')\n",
    "\n",
    "data"
   ]
  },
  {
   "cell_type": "markdown",
   "id": "false-norman",
   "metadata": {},
   "source": [
    "## 4. CSR matrix"
   ]
  },
  {
   "cell_type": "code",
   "execution_count": 58,
   "id": "reliable-communication",
   "metadata": {},
   "outputs": [
    {
     "data": {
      "text/plain": [
       "<6040x3628 sparse matrix of type '<class 'numpy.longlong'>'\n",
       "\twith 836483 stored elements in Compressed Sparse Row format>"
      ]
     },
     "execution_count": 58,
     "metadata": {},
     "output_type": "execute_result"
    }
   ],
   "source": [
    "from scipy.sparse import csr_matrix\n",
    "\n",
    "num_user = data['user_id'].nunique()\n",
    "num_title = data['title'].nunique()\n",
    "\n",
    "csr_data = csr_matrix((data['count'], (data.user_id, data.title)), shape=(num_user, num_title))\n",
    "csr_data"
   ]
  },
  {
   "cell_type": "markdown",
   "id": "durable-shade",
   "metadata": {},
   "source": [
    "## 5. 학습 시키기 (Training)"
   ]
  },
  {
   "cell_type": "code",
   "execution_count": 59,
   "id": "prescription-joining",
   "metadata": {},
   "outputs": [],
   "source": [
    "from implicit.als import AlternatingLeastSquares\n",
    "import os\n",
    "import numpy as np\n",
    "\n",
    "# implicit 라이브러리에서 권장하고 있는 부분입니다. 학습 내용과는 무관합니다.\n",
    "os.environ['OPENBLAS_NUM_THREADS']='1'\n",
    "os.environ['KMP_DUPLICATE_LIB_OK']='True'\n",
    "os.environ['MKL_NUM_THREADS']='1'"
   ]
  },
  {
   "cell_type": "code",
   "execution_count": 60,
   "id": "abroad-identity",
   "metadata": {},
   "outputs": [],
   "source": [
    "als_model = AlternatingLeastSquares(factors=100, regularization=0.01, use_gpu=False, iterations=15, dtype=np.float32)"
   ]
  },
  {
   "cell_type": "code",
   "execution_count": 61,
   "id": "acoustic-triangle",
   "metadata": {},
   "outputs": [
    {
     "data": {
      "text/plain": [
       "<3628x6040 sparse matrix of type '<class 'numpy.longlong'>'\n",
       "\twith 836483 stored elements in Compressed Sparse Column format>"
      ]
     },
     "execution_count": 61,
     "metadata": {},
     "output_type": "execute_result"
    }
   ],
   "source": [
    "# als 모델은 input으로 (item X user 꼴의 matrix를 받기 때문에 Transpose해줍니다.)\n",
    "csr_data_transpose = csr_data.T\n",
    "csr_data_transpose"
   ]
  },
  {
   "cell_type": "code",
   "execution_count": 62,
   "id": "secure-rocket",
   "metadata": {},
   "outputs": [
    {
     "data": {
      "application/vnd.jupyter.widget-view+json": {
       "model_id": "8980e821e06748dbad7113f718141a52",
       "version_major": 2,
       "version_minor": 0
      },
      "text/plain": [
       "  0%|          | 0/15 [00:00<?, ?it/s]"
      ]
     },
     "metadata": {},
     "output_type": "display_data"
    }
   ],
   "source": [
    "# 모델 훈련\n",
    "als_model.fit(csr_data_transpose)"
   ]
  },
  {
   "cell_type": "code",
   "execution_count": 63,
   "id": "quiet-kitty",
   "metadata": {},
   "outputs": [],
   "source": [
    "mink, PrettyWoman = user_to_idx['mink'], movie_to_idx['Pretty Woman (1990)']\n",
    "mink_vector, PrettyWoman_vector = als_model.user_factors[zimin], als_model.item_factors[black_eyed_peas]"
   ]
  },
  {
   "cell_type": "code",
   "execution_count": 64,
   "id": "ordered-vampire",
   "metadata": {},
   "outputs": [
    {
     "data": {
      "text/plain": [
       "array([ 0.5945224 , -0.03569415, -0.42311013, -0.11204351,  0.44031662,\n",
       "        0.4154035 ,  0.08935115,  1.2173897 , -0.86570483,  0.2347211 ,\n",
       "        0.2893125 , -0.70159197, -0.20880243, -0.21866286,  0.50983834,\n",
       "        0.28204244, -0.05481227,  0.09702431,  0.8913216 ,  0.03009138,\n",
       "       -0.03872857, -0.42032975, -0.01920801, -0.82574797, -0.7748136 ,\n",
       "        0.05667796, -0.2868886 , -0.10137396, -0.45040038,  0.206628  ,\n",
       "       -0.72492   ,  0.36847025, -1.0645248 ,  0.22535482,  0.5096727 ,\n",
       "       -0.4211971 ,  0.13075224,  0.11245179, -0.28694907,  1.0436443 ,\n",
       "       -0.500026  , -0.32849747, -0.12172833,  0.14642467, -0.23427612,\n",
       "       -0.98694986,  0.5600296 ,  0.25526416, -0.5742413 ,  0.3560149 ,\n",
       "       -0.07908549, -0.2887815 , -0.01380148,  0.35808843,  0.46262   ,\n",
       "        0.28610447,  0.17960714, -0.1980718 ,  0.56683534,  0.34751737,\n",
       "       -0.04391448, -0.8810737 ,  0.626443  , -0.0779124 ,  0.37787357,\n",
       "        0.12122978, -0.07306499,  0.13135213,  0.6429734 ,  0.7920598 ,\n",
       "       -0.76784396,  0.3112689 , -0.43072668,  0.75230587,  0.65758926,\n",
       "        0.44428322,  0.1743377 ,  0.55348414, -0.17697614,  0.27190462,\n",
       "       -0.0549502 , -0.14299385,  1.410322  , -0.46871778, -0.17107067,\n",
       "        0.5032344 , -0.7387279 , -0.5275648 , -0.32251084, -0.5900797 ,\n",
       "        0.5285742 ,  0.6813283 , -0.21751933, -0.09502196, -0.18655632,\n",
       "       -0.20046088,  0.4192943 ,  0.27797368, -1.2564256 , -0.211024  ],\n",
       "      dtype=float32)"
      ]
     },
     "execution_count": 64,
     "metadata": {},
     "output_type": "execute_result"
    }
   ],
   "source": [
    "mink_vector"
   ]
  },
  {
   "cell_type": "code",
   "execution_count": 65,
   "id": "viral-committee",
   "metadata": {},
   "outputs": [
    {
     "data": {
      "text/plain": [
       "array([ 0.0111395 ,  0.01676977,  0.00716284, -0.00844191,  0.0065935 ,\n",
       "        0.0253495 , -0.01861889,  0.03521147, -0.02149946, -0.00121376,\n",
       "       -0.00034977, -0.02197885,  0.00199578,  0.01402495,  0.00428218,\n",
       "        0.00781113,  0.02215931, -0.01250852,  0.00370657,  0.00603813,\n",
       "        0.00860093, -0.01357391,  0.0180407 , -0.00977964, -0.0274906 ,\n",
       "        0.0003307 , -0.00336456,  0.00335022,  0.00191691,  0.00318918,\n",
       "       -0.0027618 ,  0.01433651, -0.00343738,  0.00821603,  0.01928795,\n",
       "        0.00345864,  0.03451899, -0.00118674,  0.01171053,  0.02341322,\n",
       "       -0.00776284, -0.00949393, -0.00578183,  0.01700256,  0.00732155,\n",
       "       -0.01223066,  0.01968187,  0.01559715,  0.00403039,  0.0077716 ,\n",
       "        0.01450721, -0.00259867, -0.00213894,  0.00809579,  0.00604162,\n",
       "        0.01131814,  0.00019166,  0.00255294,  0.01633239, -0.00210829,\n",
       "        0.02230552, -0.00179425,  0.00950474, -0.00270013,  0.01472843,\n",
       "       -0.00352157, -0.00611226,  0.01129481,  0.03784478,  0.01550889,\n",
       "       -0.00299188,  0.02327599, -0.00264051,  0.03841975,  0.03195999,\n",
       "       -0.00437133,  0.00652379,  0.0227292 ,  0.00838491,  0.02010546,\n",
       "        0.00196741,  0.01304397,  0.02324331, -0.00694783,  0.01009652,\n",
       "        0.01409592, -0.02006265, -0.01035718,  0.00160633, -0.01428112,\n",
       "        0.01036816,  0.00064045, -0.02256903,  0.02110493, -0.02106503,\n",
       "       -0.0007699 ,  0.02208756,  0.01663054, -0.02533995,  0.0138037 ],\n",
       "      dtype=float32)"
      ]
     },
     "execution_count": 65,
     "metadata": {},
     "output_type": "execute_result"
    }
   ],
   "source": [
    "PrettyWoman_vector"
   ]
  },
  {
   "cell_type": "code",
   "execution_count": 66,
   "id": "rocky-experience",
   "metadata": {},
   "outputs": [
    {
     "data": {
      "text/plain": [
       "0.47841865"
      ]
     },
     "execution_count": 66,
     "metadata": {},
     "output_type": "execute_result"
    }
   ],
   "source": [
    "np.dot(mink_vector, PrettyWoman_vector)"
   ]
  },
  {
   "cell_type": "code",
   "execution_count": 67,
   "id": "scheduled-incentive",
   "metadata": {},
   "outputs": [
    {
     "data": {
      "text/plain": [
       "0.05679646"
      ]
     },
     "execution_count": 67,
     "metadata": {},
     "output_type": "execute_result"
    }
   ],
   "source": [
    "BaB = movie_to_idx['Beauty and the Beast (1991)']\n",
    "BaB_vector = als_model.item_factors[BaB]\n",
    "np.dot(mink_vector, BaB_vector)"
   ]
  },
  {
   "cell_type": "markdown",
   "id": "arbitrary-vault",
   "metadata": {},
   "source": [
    "## 6. 영화 추천"
   ]
  },
  {
   "cell_type": "code",
   "execution_count": 71,
   "id": "unlike-diagram",
   "metadata": {},
   "outputs": [],
   "source": [
    "idx_to_movie = {v:k for k,v in movie_to_idx.items()}\n",
    "\n",
    "def get_similar_artist(title: str):\n",
    "    movie_id = movie_to_idx[title]\n",
    "    similar_movie = als_model.similar_items(movie_id)\n",
    "    similar_movie = [idx_to_movie[i[0]] for i in similar_movie]\n",
    "    return similar_movie"
   ]
  },
  {
   "cell_type": "code",
   "execution_count": 72,
   "id": "automatic-scope",
   "metadata": {},
   "outputs": [
    {
     "data": {
      "text/plain": [
       "['Pretty Woman (1990)',\n",
       " 'Sleepless in Seattle (1993)',\n",
       " \"My Best Friend's Wedding (1997)\",\n",
       " \"You've Got Mail (1998)\",\n",
       " 'Ghost (1990)',\n",
       " 'Notting Hill (1999)',\n",
       " 'While You Were Sleeping (1995)',\n",
       " 'Truth About Cats & Dogs, The (1996)',\n",
       " 'Mrs. Doubtfire (1993)',\n",
       " 'Sabrina (1995)']"
      ]
     },
     "execution_count": 72,
     "metadata": {},
     "output_type": "execute_result"
    }
   ],
   "source": [
    "get_similar_artist('Pretty Woman (1990)')"
   ]
  },
  {
   "cell_type": "code",
   "execution_count": 77,
   "id": "isolated-increase",
   "metadata": {},
   "outputs": [
    {
     "data": {
      "text/plain": [
       "['Sleepless in Seattle (1993)',\n",
       " 'Forrest Gump (1994)',\n",
       " 'Toy Story 2 (1999)',\n",
       " \"You've Got Mail (1998)\",\n",
       " \"My Best Friend's Wedding (1997)\",\n",
       " 'Groundhog Day (1993)',\n",
       " 'Shakespeare in Love (1998)',\n",
       " 'Titanic (1997)',\n",
       " 'Four Weddings and a Funeral (1994)',\n",
       " 'Babe (1995)',\n",
       " 'Dave (1993)',\n",
       " 'American President, The (1995)',\n",
       " 'While You Were Sleeping (1995)',\n",
       " \"Bug's Life, A (1998)\",\n",
       " 'Wedding Singer, The (1998)',\n",
       " 'Clueless (1995)',\n",
       " 'Mrs. Doubtfire (1993)',\n",
       " 'Sabrina (1995)',\n",
       " 'Sixth Sense, The (1999)',\n",
       " 'Truth About Cats & Dogs, The (1996)']"
      ]
     },
     "execution_count": 77,
     "metadata": {},
     "output_type": "execute_result"
    }
   ],
   "source": [
    "user = user_to_idx['mink']\n",
    "# recommend에서는 user*item CSR Matrix를 받습니다.\n",
    "movie_recommended = als_model.recommend(user, csr_data, N=20, filter_already_liked_items=True)\n",
    "[idx_to_movie[i[0]] for i in movie_recommended]"
   ]
  },
  {
   "cell_type": "code",
   "execution_count": 76,
   "id": "stable-nothing",
   "metadata": {},
   "outputs": [
    {
     "data": {
      "text/plain": [
       "['Sleepless in Seattle (1993)',\n",
       " 'Forrest Gump (1994)',\n",
       " 'Toy Story 2 (1999)',\n",
       " \"You've Got Mail (1998)\",\n",
       " \"My Best Friend's Wedding (1997)\",\n",
       " 'Groundhog Day (1993)',\n",
       " 'Shakespeare in Love (1998)',\n",
       " 'Titanic (1997)',\n",
       " 'Four Weddings and a Funeral (1994)',\n",
       " 'Babe (1995)',\n",
       " 'Dave (1993)',\n",
       " 'American President, The (1995)',\n",
       " 'While You Were Sleeping (1995)',\n",
       " \"Bug's Life, A (1998)\",\n",
       " 'Wedding Singer, The (1998)',\n",
       " 'Clueless (1995)',\n",
       " 'Mrs. Doubtfire (1993)',\n",
       " 'Sabrina (1995)',\n",
       " 'Sixth Sense, The (1999)',\n",
       " 'Truth About Cats & Dogs, The (1996)']"
      ]
     },
     "execution_count": 76,
     "metadata": {},
     "output_type": "execute_result"
    }
   ],
   "source": []
  },
  {
   "cell_type": "code",
   "execution_count": null,
   "id": "micro-likelihood",
   "metadata": {},
   "outputs": [],
   "source": []
  }
 ],
 "metadata": {
  "kernelspec": {
   "display_name": "Python 3",
   "language": "python",
   "name": "python3"
  },
  "language_info": {
   "codemirror_mode": {
    "name": "ipython",
    "version": 3
   },
   "file_extension": ".py",
   "mimetype": "text/x-python",
   "name": "python",
   "nbconvert_exporter": "python",
   "pygments_lexer": "ipython3",
   "version": "3.7.9"
  }
 },
 "nbformat": 4,
 "nbformat_minor": 5
}
