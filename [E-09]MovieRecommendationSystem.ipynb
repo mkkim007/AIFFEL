{
 "cells": [
  {
   "cell_type": "markdown",
   "id": "martial-liechtenstein",
   "metadata": {},
   "source": [
    "# [E-09] Movielens 영화 추천 실습"
   ]
  },
  {
   "cell_type": "markdown",
   "id": "written-madagascar",
   "metadata": {},
   "source": [
    "## 1. 데이터 준비와 전처리"
   ]
  },
  {
   "cell_type": "code",
   "execution_count": 1,
   "id": "bigger-ozone",
   "metadata": {},
   "outputs": [
    {
     "data": {
      "text/html": [
       "<div>\n",
       "<style scoped>\n",
       "    .dataframe tbody tr th:only-of-type {\n",
       "        vertical-align: middle;\n",
       "    }\n",
       "\n",
       "    .dataframe tbody tr th {\n",
       "        vertical-align: top;\n",
       "    }\n",
       "\n",
       "    .dataframe thead th {\n",
       "        text-align: right;\n",
       "    }\n",
       "</style>\n",
       "<table border=\"1\" class=\"dataframe\">\n",
       "  <thead>\n",
       "    <tr style=\"text-align: right;\">\n",
       "      <th></th>\n",
       "      <th>user_id</th>\n",
       "      <th>movie_id</th>\n",
       "      <th>rating</th>\n",
       "      <th>timestamp</th>\n",
       "    </tr>\n",
       "  </thead>\n",
       "  <tbody>\n",
       "    <tr>\n",
       "      <th>0</th>\n",
       "      <td>1</td>\n",
       "      <td>1193</td>\n",
       "      <td>5</td>\n",
       "      <td>978300760</td>\n",
       "    </tr>\n",
       "    <tr>\n",
       "      <th>1</th>\n",
       "      <td>1</td>\n",
       "      <td>661</td>\n",
       "      <td>3</td>\n",
       "      <td>978302109</td>\n",
       "    </tr>\n",
       "    <tr>\n",
       "      <th>2</th>\n",
       "      <td>1</td>\n",
       "      <td>914</td>\n",
       "      <td>3</td>\n",
       "      <td>978301968</td>\n",
       "    </tr>\n",
       "    <tr>\n",
       "      <th>3</th>\n",
       "      <td>1</td>\n",
       "      <td>3408</td>\n",
       "      <td>4</td>\n",
       "      <td>978300275</td>\n",
       "    </tr>\n",
       "    <tr>\n",
       "      <th>4</th>\n",
       "      <td>1</td>\n",
       "      <td>2355</td>\n",
       "      <td>5</td>\n",
       "      <td>978824291</td>\n",
       "    </tr>\n",
       "  </tbody>\n",
       "</table>\n",
       "</div>"
      ],
      "text/plain": [
       "   user_id  movie_id  rating  timestamp\n",
       "0        1      1193       5  978300760\n",
       "1        1       661       3  978302109\n",
       "2        1       914       3  978301968\n",
       "3        1      3408       4  978300275\n",
       "4        1      2355       5  978824291"
      ]
     },
     "execution_count": 1,
     "metadata": {},
     "output_type": "execute_result"
    }
   ],
   "source": [
    "import os\n",
    "import pandas as pd\n",
    "rating_file_path=os.getenv('HOME') + '/aiffel/recommendata_iu/data/ml-1m/ratings.dat'\n",
    "ratings_cols = ['user_id', 'movie_id', 'rating', 'timestamp']\n",
    "ratings = pd.read_csv(rating_file_path, sep='::', names=ratings_cols, engine='python', encoding = \"ISO-8859-1\")\n",
    "orginal_data_size = len(ratings)\n",
    "ratings.head()"
   ]
  },
  {
   "cell_type": "code",
   "execution_count": 2,
   "id": "composed-audit",
   "metadata": {},
   "outputs": [
    {
     "name": "stdout",
     "output_type": "stream",
     "text": [
      "orginal_data_size: 1000209, filtered_data_size: 836478\n",
      "Ratio of Remaining Data is 83.63%\n"
     ]
    }
   ],
   "source": [
    "# 3점 이상만 남깁니다.\n",
    "ratings = ratings[ratings['rating']>=3]\n",
    "filtered_data_size = len(ratings)\n",
    "\n",
    "print(f'orginal_data_size: {orginal_data_size}, filtered_data_size: {filtered_data_size}')\n",
    "print(f'Ratio of Remaining Data is {filtered_data_size / orginal_data_size:.2%}')"
   ]
  },
  {
   "cell_type": "code",
   "execution_count": 3,
   "id": "least-indian",
   "metadata": {},
   "outputs": [],
   "source": [
    "# rating 컬럼의 이름을 count로 바꿉니다.\n",
    "ratings.rename(columns={'rating':'count'}, inplace=True)"
   ]
  },
  {
   "cell_type": "code",
   "execution_count": 4,
   "id": "sunset-discipline",
   "metadata": {},
   "outputs": [
    {
     "data": {
      "text/plain": [
       "0          5\n",
       "1          3\n",
       "2          3\n",
       "3          4\n",
       "4          5\n",
       "          ..\n",
       "1000203    3\n",
       "1000205    5\n",
       "1000206    5\n",
       "1000207    4\n",
       "1000208    4\n",
       "Name: count, Length: 836478, dtype: int64"
      ]
     },
     "execution_count": 4,
     "metadata": {},
     "output_type": "execute_result"
    }
   ],
   "source": [
    "ratings['count']"
   ]
  },
  {
   "cell_type": "code",
   "execution_count": 5,
   "id": "purple-receiver",
   "metadata": {
    "scrolled": true
   },
   "outputs": [
    {
     "data": {
      "text/html": [
       "<div>\n",
       "<style scoped>\n",
       "    .dataframe tbody tr th:only-of-type {\n",
       "        vertical-align: middle;\n",
       "    }\n",
       "\n",
       "    .dataframe tbody tr th {\n",
       "        vertical-align: top;\n",
       "    }\n",
       "\n",
       "    .dataframe thead th {\n",
       "        text-align: right;\n",
       "    }\n",
       "</style>\n",
       "<table border=\"1\" class=\"dataframe\">\n",
       "  <thead>\n",
       "    <tr style=\"text-align: right;\">\n",
       "      <th></th>\n",
       "      <th>movie_id</th>\n",
       "      <th>title</th>\n",
       "      <th>genre</th>\n",
       "    </tr>\n",
       "  </thead>\n",
       "  <tbody>\n",
       "    <tr>\n",
       "      <th>0</th>\n",
       "      <td>1</td>\n",
       "      <td>Toy Story (1995)</td>\n",
       "      <td>Animation|Children's|Comedy</td>\n",
       "    </tr>\n",
       "    <tr>\n",
       "      <th>1</th>\n",
       "      <td>2</td>\n",
       "      <td>Jumanji (1995)</td>\n",
       "      <td>Adventure|Children's|Fantasy</td>\n",
       "    </tr>\n",
       "    <tr>\n",
       "      <th>2</th>\n",
       "      <td>3</td>\n",
       "      <td>Grumpier Old Men (1995)</td>\n",
       "      <td>Comedy|Romance</td>\n",
       "    </tr>\n",
       "    <tr>\n",
       "      <th>3</th>\n",
       "      <td>4</td>\n",
       "      <td>Waiting to Exhale (1995)</td>\n",
       "      <td>Comedy|Drama</td>\n",
       "    </tr>\n",
       "    <tr>\n",
       "      <th>4</th>\n",
       "      <td>5</td>\n",
       "      <td>Father of the Bride Part II (1995)</td>\n",
       "      <td>Comedy</td>\n",
       "    </tr>\n",
       "  </tbody>\n",
       "</table>\n",
       "</div>"
      ],
      "text/plain": [
       "   movie_id                               title                         genre\n",
       "0         1                    Toy Story (1995)   Animation|Children's|Comedy\n",
       "1         2                      Jumanji (1995)  Adventure|Children's|Fantasy\n",
       "2         3             Grumpier Old Men (1995)                Comedy|Romance\n",
       "3         4            Waiting to Exhale (1995)                  Comedy|Drama\n",
       "4         5  Father of the Bride Part II (1995)                        Comedy"
      ]
     },
     "execution_count": 5,
     "metadata": {},
     "output_type": "execute_result"
    }
   ],
   "source": [
    "# 영화 제목을 보기 위해 메타 데이터를 읽어옵니다.\n",
    "movie_file_path=os.getenv('HOME') + '/aiffel/recommendata_iu/data/ml-1m/movies.dat'\n",
    "cols = ['movie_id', 'title', 'genre'] \n",
    "movies = pd.read_csv(movie_file_path, sep='::', names=cols, engine='python', encoding='ISO-8859-1')\n",
    "movies.head()"
   ]
  },
  {
   "cell_type": "markdown",
   "id": "compliant-pharmacy",
   "metadata": {},
   "source": [
    "## 2. 데이터 분석"
   ]
  },
  {
   "cell_type": "markdown",
   "id": "interstate-prison",
   "metadata": {},
   "source": [
    "### 2.1 ratings에 있는 유니크한 영화 개수"
   ]
  },
  {
   "cell_type": "code",
   "execution_count": 6,
   "id": "familiar-paper",
   "metadata": {},
   "outputs": [
    {
     "data": {
      "text/plain": [
       "3628"
      ]
     },
     "execution_count": 6,
     "metadata": {},
     "output_type": "execute_result"
    }
   ],
   "source": [
    "ratings['movie_id'].nunique()"
   ]
  },
  {
   "cell_type": "markdown",
   "id": "collect-present",
   "metadata": {},
   "source": [
    "### 2.2 ratings에 있는 유니크한 사용자 수"
   ]
  },
  {
   "cell_type": "code",
   "execution_count": 7,
   "id": "facial-trading",
   "metadata": {},
   "outputs": [
    {
     "data": {
      "text/plain": [
       "6039"
      ]
     },
     "execution_count": 7,
     "metadata": {},
     "output_type": "execute_result"
    }
   ],
   "source": [
    "ratings['user_id'].nunique()"
   ]
  },
  {
   "cell_type": "markdown",
   "id": "annual-injury",
   "metadata": {},
   "source": [
    "### 2.2 가장 인기 있는 영화 30개(인기순)"
   ]
  },
  {
   "cell_type": "code",
   "execution_count": 8,
   "id": "underlying-workshop",
   "metadata": {},
   "outputs": [],
   "source": [
    "movie_count = ratings.groupby('movie_id')['user_id'].count()\n",
    "best_movie = movie_count.sort_values(ascending=False).head(30)"
   ]
  },
  {
   "cell_type": "code",
   "execution_count": 9,
   "id": "sweet-omaha",
   "metadata": {
    "scrolled": true
   },
   "outputs": [
    {
     "data": {
      "text/html": [
       "<div>\n",
       "<style scoped>\n",
       "    .dataframe tbody tr th:only-of-type {\n",
       "        vertical-align: middle;\n",
       "    }\n",
       "\n",
       "    .dataframe tbody tr th {\n",
       "        vertical-align: top;\n",
       "    }\n",
       "\n",
       "    .dataframe thead th {\n",
       "        text-align: right;\n",
       "    }\n",
       "</style>\n",
       "<table border=\"1\" class=\"dataframe\">\n",
       "  <thead>\n",
       "    <tr style=\"text-align: right;\">\n",
       "      <th></th>\n",
       "      <th>movie_id</th>\n",
       "      <th>user_id</th>\n",
       "      <th>title</th>\n",
       "      <th>genre</th>\n",
       "    </tr>\n",
       "  </thead>\n",
       "  <tbody>\n",
       "    <tr>\n",
       "      <th>0</th>\n",
       "      <td>2858</td>\n",
       "      <td>3211</td>\n",
       "      <td>American Beauty (1999)</td>\n",
       "      <td>Comedy|Drama</td>\n",
       "    </tr>\n",
       "    <tr>\n",
       "      <th>1</th>\n",
       "      <td>260</td>\n",
       "      <td>2910</td>\n",
       "      <td>Star Wars: Episode IV - A New Hope (1977)</td>\n",
       "      <td>Action|Adventure|Fantasy|Sci-Fi</td>\n",
       "    </tr>\n",
       "    <tr>\n",
       "      <th>2</th>\n",
       "      <td>1196</td>\n",
       "      <td>2885</td>\n",
       "      <td>Star Wars: Episode V - The Empire Strikes Back...</td>\n",
       "      <td>Action|Adventure|Drama|Sci-Fi|War</td>\n",
       "    </tr>\n",
       "    <tr>\n",
       "      <th>3</th>\n",
       "      <td>1210</td>\n",
       "      <td>2716</td>\n",
       "      <td>Star Wars: Episode VI - Return of the Jedi (1983)</td>\n",
       "      <td>Action|Adventure|Romance|Sci-Fi|War</td>\n",
       "    </tr>\n",
       "    <tr>\n",
       "      <th>4</th>\n",
       "      <td>2028</td>\n",
       "      <td>2561</td>\n",
       "      <td>Saving Private Ryan (1998)</td>\n",
       "      <td>Action|Drama|War</td>\n",
       "    </tr>\n",
       "    <tr>\n",
       "      <th>5</th>\n",
       "      <td>589</td>\n",
       "      <td>2509</td>\n",
       "      <td>Terminator 2: Judgment Day (1991)</td>\n",
       "      <td>Action|Sci-Fi|Thriller</td>\n",
       "    </tr>\n",
       "    <tr>\n",
       "      <th>6</th>\n",
       "      <td>593</td>\n",
       "      <td>2498</td>\n",
       "      <td>Silence of the Lambs, The (1991)</td>\n",
       "      <td>Drama|Thriller</td>\n",
       "    </tr>\n",
       "    <tr>\n",
       "      <th>7</th>\n",
       "      <td>1198</td>\n",
       "      <td>2473</td>\n",
       "      <td>Raiders of the Lost Ark (1981)</td>\n",
       "      <td>Action|Adventure</td>\n",
       "    </tr>\n",
       "    <tr>\n",
       "      <th>8</th>\n",
       "      <td>1270</td>\n",
       "      <td>2460</td>\n",
       "      <td>Back to the Future (1985)</td>\n",
       "      <td>Comedy|Sci-Fi</td>\n",
       "    </tr>\n",
       "    <tr>\n",
       "      <th>9</th>\n",
       "      <td>2571</td>\n",
       "      <td>2434</td>\n",
       "      <td>Matrix, The (1999)</td>\n",
       "      <td>Action|Sci-Fi|Thriller</td>\n",
       "    </tr>\n",
       "    <tr>\n",
       "      <th>10</th>\n",
       "      <td>480</td>\n",
       "      <td>2413</td>\n",
       "      <td>Jurassic Park (1993)</td>\n",
       "      <td>Action|Adventure|Sci-Fi</td>\n",
       "    </tr>\n",
       "    <tr>\n",
       "      <th>11</th>\n",
       "      <td>2762</td>\n",
       "      <td>2385</td>\n",
       "      <td>Sixth Sense, The (1999)</td>\n",
       "      <td>Thriller</td>\n",
       "    </tr>\n",
       "    <tr>\n",
       "      <th>12</th>\n",
       "      <td>608</td>\n",
       "      <td>2371</td>\n",
       "      <td>Fargo (1996)</td>\n",
       "      <td>Crime|Drama|Thriller</td>\n",
       "    </tr>\n",
       "    <tr>\n",
       "      <th>13</th>\n",
       "      <td>110</td>\n",
       "      <td>2314</td>\n",
       "      <td>Braveheart (1995)</td>\n",
       "      <td>Action|Drama|War</td>\n",
       "    </tr>\n",
       "    <tr>\n",
       "      <th>14</th>\n",
       "      <td>1580</td>\n",
       "      <td>2297</td>\n",
       "      <td>Men in Black (1997)</td>\n",
       "      <td>Action|Adventure|Comedy|Sci-Fi</td>\n",
       "    </tr>\n",
       "    <tr>\n",
       "      <th>15</th>\n",
       "      <td>527</td>\n",
       "      <td>2257</td>\n",
       "      <td>Schindler's List (1993)</td>\n",
       "      <td>Drama|War</td>\n",
       "    </tr>\n",
       "    <tr>\n",
       "      <th>16</th>\n",
       "      <td>1197</td>\n",
       "      <td>2252</td>\n",
       "      <td>Princess Bride, The (1987)</td>\n",
       "      <td>Action|Adventure|Comedy|Romance</td>\n",
       "    </tr>\n",
       "    <tr>\n",
       "      <th>17</th>\n",
       "      <td>2396</td>\n",
       "      <td>2213</td>\n",
       "      <td>Shakespeare in Love (1998)</td>\n",
       "      <td>Comedy|Romance</td>\n",
       "    </tr>\n",
       "    <tr>\n",
       "      <th>18</th>\n",
       "      <td>1617</td>\n",
       "      <td>2210</td>\n",
       "      <td>L.A. Confidential (1997)</td>\n",
       "      <td>Crime|Film-Noir|Mystery|Thriller</td>\n",
       "    </tr>\n",
       "    <tr>\n",
       "      <th>19</th>\n",
       "      <td>318</td>\n",
       "      <td>2194</td>\n",
       "      <td>Shawshank Redemption, The (1994)</td>\n",
       "      <td>Drama</td>\n",
       "    </tr>\n",
       "    <tr>\n",
       "      <th>20</th>\n",
       "      <td>858</td>\n",
       "      <td>2167</td>\n",
       "      <td>Godfather, The (1972)</td>\n",
       "      <td>Action|Crime|Drama</td>\n",
       "    </tr>\n",
       "    <tr>\n",
       "      <th>21</th>\n",
       "      <td>1265</td>\n",
       "      <td>2121</td>\n",
       "      <td>Groundhog Day (1993)</td>\n",
       "      <td>Comedy|Romance</td>\n",
       "    </tr>\n",
       "    <tr>\n",
       "      <th>22</th>\n",
       "      <td>1097</td>\n",
       "      <td>2102</td>\n",
       "      <td>E.T. the Extra-Terrestrial (1982)</td>\n",
       "      <td>Children's|Drama|Fantasy|Sci-Fi</td>\n",
       "    </tr>\n",
       "    <tr>\n",
       "      <th>23</th>\n",
       "      <td>2997</td>\n",
       "      <td>2066</td>\n",
       "      <td>Being John Malkovich (1999)</td>\n",
       "      <td>Comedy</td>\n",
       "    </tr>\n",
       "    <tr>\n",
       "      <th>24</th>\n",
       "      <td>2716</td>\n",
       "      <td>2051</td>\n",
       "      <td>Ghostbusters (1984)</td>\n",
       "      <td>Comedy|Horror</td>\n",
       "    </tr>\n",
       "    <tr>\n",
       "      <th>25</th>\n",
       "      <td>296</td>\n",
       "      <td>2030</td>\n",
       "      <td>Pulp Fiction (1994)</td>\n",
       "      <td>Crime|Drama</td>\n",
       "    </tr>\n",
       "    <tr>\n",
       "      <th>26</th>\n",
       "      <td>356</td>\n",
       "      <td>2022</td>\n",
       "      <td>Forrest Gump (1994)</td>\n",
       "      <td>Comedy|Romance|War</td>\n",
       "    </tr>\n",
       "    <tr>\n",
       "      <th>27</th>\n",
       "      <td>1240</td>\n",
       "      <td>2019</td>\n",
       "      <td>Terminator, The (1984)</td>\n",
       "      <td>Action|Sci-Fi|Thriller</td>\n",
       "    </tr>\n",
       "    <tr>\n",
       "      <th>28</th>\n",
       "      <td>1</td>\n",
       "      <td>2000</td>\n",
       "      <td>Toy Story (1995)</td>\n",
       "      <td>Animation|Children's|Comedy</td>\n",
       "    </tr>\n",
       "    <tr>\n",
       "      <th>29</th>\n",
       "      <td>457</td>\n",
       "      <td>1941</td>\n",
       "      <td>Fugitive, The (1993)</td>\n",
       "      <td>Action|Thriller</td>\n",
       "    </tr>\n",
       "  </tbody>\n",
       "</table>\n",
       "</div>"
      ],
      "text/plain": [
       "    movie_id  user_id                                              title  \\\n",
       "0       2858     3211                             American Beauty (1999)   \n",
       "1        260     2910          Star Wars: Episode IV - A New Hope (1977)   \n",
       "2       1196     2885  Star Wars: Episode V - The Empire Strikes Back...   \n",
       "3       1210     2716  Star Wars: Episode VI - Return of the Jedi (1983)   \n",
       "4       2028     2561                         Saving Private Ryan (1998)   \n",
       "5        589     2509                  Terminator 2: Judgment Day (1991)   \n",
       "6        593     2498                   Silence of the Lambs, The (1991)   \n",
       "7       1198     2473                     Raiders of the Lost Ark (1981)   \n",
       "8       1270     2460                          Back to the Future (1985)   \n",
       "9       2571     2434                                 Matrix, The (1999)   \n",
       "10       480     2413                               Jurassic Park (1993)   \n",
       "11      2762     2385                            Sixth Sense, The (1999)   \n",
       "12       608     2371                                       Fargo (1996)   \n",
       "13       110     2314                                  Braveheart (1995)   \n",
       "14      1580     2297                                Men in Black (1997)   \n",
       "15       527     2257                            Schindler's List (1993)   \n",
       "16      1197     2252                         Princess Bride, The (1987)   \n",
       "17      2396     2213                         Shakespeare in Love (1998)   \n",
       "18      1617     2210                           L.A. Confidential (1997)   \n",
       "19       318     2194                   Shawshank Redemption, The (1994)   \n",
       "20       858     2167                              Godfather, The (1972)   \n",
       "21      1265     2121                               Groundhog Day (1993)   \n",
       "22      1097     2102                  E.T. the Extra-Terrestrial (1982)   \n",
       "23      2997     2066                        Being John Malkovich (1999)   \n",
       "24      2716     2051                                Ghostbusters (1984)   \n",
       "25       296     2030                                Pulp Fiction (1994)   \n",
       "26       356     2022                                Forrest Gump (1994)   \n",
       "27      1240     2019                             Terminator, The (1984)   \n",
       "28         1     2000                                   Toy Story (1995)   \n",
       "29       457     1941                               Fugitive, The (1993)   \n",
       "\n",
       "                                  genre  \n",
       "0                          Comedy|Drama  \n",
       "1       Action|Adventure|Fantasy|Sci-Fi  \n",
       "2     Action|Adventure|Drama|Sci-Fi|War  \n",
       "3   Action|Adventure|Romance|Sci-Fi|War  \n",
       "4                      Action|Drama|War  \n",
       "5                Action|Sci-Fi|Thriller  \n",
       "6                        Drama|Thriller  \n",
       "7                      Action|Adventure  \n",
       "8                         Comedy|Sci-Fi  \n",
       "9                Action|Sci-Fi|Thriller  \n",
       "10              Action|Adventure|Sci-Fi  \n",
       "11                             Thriller  \n",
       "12                 Crime|Drama|Thriller  \n",
       "13                     Action|Drama|War  \n",
       "14       Action|Adventure|Comedy|Sci-Fi  \n",
       "15                            Drama|War  \n",
       "16      Action|Adventure|Comedy|Romance  \n",
       "17                       Comedy|Romance  \n",
       "18     Crime|Film-Noir|Mystery|Thriller  \n",
       "19                                Drama  \n",
       "20                   Action|Crime|Drama  \n",
       "21                       Comedy|Romance  \n",
       "22      Children's|Drama|Fantasy|Sci-Fi  \n",
       "23                               Comedy  \n",
       "24                        Comedy|Horror  \n",
       "25                          Crime|Drama  \n",
       "26                   Comedy|Romance|War  \n",
       "27               Action|Sci-Fi|Thriller  \n",
       "28          Animation|Children's|Comedy  \n",
       "29                      Action|Thriller  "
      ]
     },
     "execution_count": 9,
     "metadata": {},
     "output_type": "execute_result"
    }
   ],
   "source": [
    "best_movie = best_movie.reset_index()\n",
    "pd.merge(best_movie, movies)"
   ]
  },
  {
   "cell_type": "markdown",
   "id": "incoming-nation",
   "metadata": {},
   "source": [
    "## 3 데이터 전처리"
   ]
  },
  {
   "cell_type": "markdown",
   "id": "connected-affairs",
   "metadata": {},
   "source": [
    "### 3.1 데이터 합치기"
   ]
  },
  {
   "cell_type": "code",
   "execution_count": 10,
   "id": "peripheral-beginning",
   "metadata": {},
   "outputs": [
    {
     "data": {
      "text/html": [
       "<div>\n",
       "<style scoped>\n",
       "    .dataframe tbody tr th:only-of-type {\n",
       "        vertical-align: middle;\n",
       "    }\n",
       "\n",
       "    .dataframe tbody tr th {\n",
       "        vertical-align: top;\n",
       "    }\n",
       "\n",
       "    .dataframe thead th {\n",
       "        text-align: right;\n",
       "    }\n",
       "</style>\n",
       "<table border=\"1\" class=\"dataframe\">\n",
       "  <thead>\n",
       "    <tr style=\"text-align: right;\">\n",
       "      <th></th>\n",
       "      <th>user_id</th>\n",
       "      <th>count</th>\n",
       "      <th>title</th>\n",
       "    </tr>\n",
       "  </thead>\n",
       "  <tbody>\n",
       "    <tr>\n",
       "      <th>0</th>\n",
       "      <td>1</td>\n",
       "      <td>5</td>\n",
       "      <td>One Flew Over the Cuckoo's Nest (1975)</td>\n",
       "    </tr>\n",
       "    <tr>\n",
       "      <th>1</th>\n",
       "      <td>2</td>\n",
       "      <td>5</td>\n",
       "      <td>One Flew Over the Cuckoo's Nest (1975)</td>\n",
       "    </tr>\n",
       "    <tr>\n",
       "      <th>2</th>\n",
       "      <td>12</td>\n",
       "      <td>4</td>\n",
       "      <td>One Flew Over the Cuckoo's Nest (1975)</td>\n",
       "    </tr>\n",
       "    <tr>\n",
       "      <th>3</th>\n",
       "      <td>15</td>\n",
       "      <td>4</td>\n",
       "      <td>One Flew Over the Cuckoo's Nest (1975)</td>\n",
       "    </tr>\n",
       "    <tr>\n",
       "      <th>4</th>\n",
       "      <td>17</td>\n",
       "      <td>5</td>\n",
       "      <td>One Flew Over the Cuckoo's Nest (1975)</td>\n",
       "    </tr>\n",
       "    <tr>\n",
       "      <th>...</th>\n",
       "      <td>...</td>\n",
       "      <td>...</td>\n",
       "      <td>...</td>\n",
       "    </tr>\n",
       "    <tr>\n",
       "      <th>836473</th>\n",
       "      <td>5851</td>\n",
       "      <td>5</td>\n",
       "      <td>One Little Indian (1973)</td>\n",
       "    </tr>\n",
       "    <tr>\n",
       "      <th>836474</th>\n",
       "      <td>5854</td>\n",
       "      <td>4</td>\n",
       "      <td>Slaughterhouse (1987)</td>\n",
       "    </tr>\n",
       "    <tr>\n",
       "      <th>836475</th>\n",
       "      <td>5854</td>\n",
       "      <td>3</td>\n",
       "      <td>Promise, The (Versprechen, Das) (1994)</td>\n",
       "    </tr>\n",
       "    <tr>\n",
       "      <th>836476</th>\n",
       "      <td>5938</td>\n",
       "      <td>4</td>\n",
       "      <td>Five Wives, Three Secretaries and Me (1998)</td>\n",
       "    </tr>\n",
       "    <tr>\n",
       "      <th>836477</th>\n",
       "      <td>5948</td>\n",
       "      <td>5</td>\n",
       "      <td>Identification of a Woman (Identificazione di ...</td>\n",
       "    </tr>\n",
       "  </tbody>\n",
       "</table>\n",
       "<p>836478 rows × 3 columns</p>\n",
       "</div>"
      ],
      "text/plain": [
       "        user_id  count                                              title\n",
       "0             1      5             One Flew Over the Cuckoo's Nest (1975)\n",
       "1             2      5             One Flew Over the Cuckoo's Nest (1975)\n",
       "2            12      4             One Flew Over the Cuckoo's Nest (1975)\n",
       "3            15      4             One Flew Over the Cuckoo's Nest (1975)\n",
       "4            17      5             One Flew Over the Cuckoo's Nest (1975)\n",
       "...         ...    ...                                                ...\n",
       "836473     5851      5                           One Little Indian (1973)\n",
       "836474     5854      4                              Slaughterhouse (1987)\n",
       "836475     5854      3             Promise, The (Versprechen, Das) (1994)\n",
       "836476     5938      4        Five Wives, Three Secretaries and Me (1998)\n",
       "836477     5948      5  Identification of a Woman (Identificazione di ...\n",
       "\n",
       "[836478 rows x 3 columns]"
      ]
     },
     "execution_count": 10,
     "metadata": {},
     "output_type": "execute_result"
    }
   ],
   "source": [
    "data = pd.merge(ratings, movies)\n",
    "data = data.drop(['movie_id','timestamp','genre'], axis=1)\n",
    "data"
   ]
  },
  {
   "cell_type": "markdown",
   "id": "cloudy-collaboration",
   "metadata": {},
   "source": [
    "### 3.2 내가 선호하는 영화"
   ]
  },
  {
   "cell_type": "code",
   "execution_count": 11,
   "id": "commercial-belarus",
   "metadata": {},
   "outputs": [
    {
     "data": {
      "text/html": [
       "<div>\n",
       "<style scoped>\n",
       "    .dataframe tbody tr th:only-of-type {\n",
       "        vertical-align: middle;\n",
       "    }\n",
       "\n",
       "    .dataframe tbody tr th {\n",
       "        vertical-align: top;\n",
       "    }\n",
       "\n",
       "    .dataframe thead th {\n",
       "        text-align: right;\n",
       "    }\n",
       "</style>\n",
       "<table border=\"1\" class=\"dataframe\">\n",
       "  <thead>\n",
       "    <tr style=\"text-align: right;\">\n",
       "      <th></th>\n",
       "      <th>user_id</th>\n",
       "      <th>count</th>\n",
       "      <th>title</th>\n",
       "    </tr>\n",
       "  </thead>\n",
       "  <tbody>\n",
       "    <tr>\n",
       "      <th>836473</th>\n",
       "      <td>5851</td>\n",
       "      <td>5</td>\n",
       "      <td>One Little Indian (1973)</td>\n",
       "    </tr>\n",
       "    <tr>\n",
       "      <th>836474</th>\n",
       "      <td>5854</td>\n",
       "      <td>4</td>\n",
       "      <td>Slaughterhouse (1987)</td>\n",
       "    </tr>\n",
       "    <tr>\n",
       "      <th>836475</th>\n",
       "      <td>5854</td>\n",
       "      <td>3</td>\n",
       "      <td>Promise, The (Versprechen, Das) (1994)</td>\n",
       "    </tr>\n",
       "    <tr>\n",
       "      <th>836476</th>\n",
       "      <td>5938</td>\n",
       "      <td>4</td>\n",
       "      <td>Five Wives, Three Secretaries and Me (1998)</td>\n",
       "    </tr>\n",
       "    <tr>\n",
       "      <th>836477</th>\n",
       "      <td>5948</td>\n",
       "      <td>5</td>\n",
       "      <td>Identification of a Woman (Identificazione di ...</td>\n",
       "    </tr>\n",
       "    <tr>\n",
       "      <th>0</th>\n",
       "      <td>mink</td>\n",
       "      <td>5</td>\n",
       "      <td>Toy Story (1995)</td>\n",
       "    </tr>\n",
       "    <tr>\n",
       "      <th>1</th>\n",
       "      <td>mink</td>\n",
       "      <td>5</td>\n",
       "      <td>Pretty Woman (1990)</td>\n",
       "    </tr>\n",
       "    <tr>\n",
       "      <th>2</th>\n",
       "      <td>mink</td>\n",
       "      <td>5</td>\n",
       "      <td>Notting Hill (1999)</td>\n",
       "    </tr>\n",
       "    <tr>\n",
       "      <th>3</th>\n",
       "      <td>mink</td>\n",
       "      <td>5</td>\n",
       "      <td>Breakfast at Tiffany's (1961)</td>\n",
       "    </tr>\n",
       "    <tr>\n",
       "      <th>4</th>\n",
       "      <td>mink</td>\n",
       "      <td>5</td>\n",
       "      <td>Ghost (1990)</td>\n",
       "    </tr>\n",
       "  </tbody>\n",
       "</table>\n",
       "</div>"
      ],
      "text/plain": [
       "       user_id  count                                              title\n",
       "836473    5851      5                           One Little Indian (1973)\n",
       "836474    5854      4                              Slaughterhouse (1987)\n",
       "836475    5854      3             Promise, The (Versprechen, Das) (1994)\n",
       "836476    5938      4        Five Wives, Three Secretaries and Me (1998)\n",
       "836477    5948      5  Identification of a Woman (Identificazione di ...\n",
       "0         mink      5                                   Toy Story (1995)\n",
       "1         mink      5                                Pretty Woman (1990)\n",
       "2         mink      5                                Notting Hill (1999)\n",
       "3         mink      5                      Breakfast at Tiffany's (1961)\n",
       "4         mink      5                                       Ghost (1990)"
      ]
     },
     "execution_count": 11,
     "metadata": {},
     "output_type": "execute_result"
    }
   ],
   "source": [
    "# 넣다보니 다 로맨스군요,, 이거 다 재미있습니다 \n",
    "my_favorite = ['Toy Story (1995)', 'Pretty Woman (1990)', 'Notting Hill (1999)', 'Breakfast at Tiffany\\'s (1961)', 'Ghost (1990)']\n",
    "\n",
    "# 'mink'이라는 user_id가 위 아티스트의 노래를 30회씩 들었다고 가정하겠습니다.\n",
    "my_playlist = pd.DataFrame({'user_id': ['mink']*5, 'title': my_favorite, 'count':[5]*5})\n",
    "\n",
    "if not data.isin({'user_id':['mink']})['user_id'].any():    # user_id에 'mink'이라는 데이터가 없다면\n",
    "    data = data.append(my_playlist)                          # 위에 임의로 만든 my_favorite 데이터를 추가해 줍니다. \n",
    "\n",
    "data.tail(10)       # 잘 추가되었는지 확인해 봅시다.\n"
   ]
  },
  {
   "cell_type": "code",
   "execution_count": 12,
   "id": "confirmed-breed",
   "metadata": {},
   "outputs": [],
   "source": [
    "# 고유한 유저, 아티스트를 찾아내는 코드\n",
    "user_unique = data['user_id'].unique()\n",
    "artist_unique = data['title'].unique()\n",
    "\n",
    "# 유저, 아티스트 indexing 하는 코드 idx는 index의 약자입니다.\n",
    "user_to_idx = {v:k for k,v in enumerate(user_unique)}\n",
    "movie_to_idx = {v:k for k,v in enumerate(artist_unique)}"
   ]
  },
  {
   "cell_type": "code",
   "execution_count": 13,
   "id": "victorian-empty",
   "metadata": {},
   "outputs": [
    {
     "name": "stdout",
     "output_type": "stream",
     "text": [
      "6039\n",
      "336\n"
     ]
    }
   ],
   "source": [
    "# 인덱싱이 잘 되었는지 확인해 봅니다. \n",
    "print(user_to_idx['mink'])    # 358869명의 유저 중 마지막으로 추가된 유저이니 358868이 나와야 합니다. \n",
    "print(movie_to_idx['Pretty Woman (1990)'])"
   ]
  },
  {
   "cell_type": "code",
   "execution_count": 14,
   "id": "sonic-offering",
   "metadata": {},
   "outputs": [
    {
     "name": "stdout",
     "output_type": "stream",
     "text": [
      "user_id column indexing OK!!\n",
      "title column indexing OK!!\n"
     ]
    },
    {
     "data": {
      "text/html": [
       "<div>\n",
       "<style scoped>\n",
       "    .dataframe tbody tr th:only-of-type {\n",
       "        vertical-align: middle;\n",
       "    }\n",
       "\n",
       "    .dataframe tbody tr th {\n",
       "        vertical-align: top;\n",
       "    }\n",
       "\n",
       "    .dataframe thead th {\n",
       "        text-align: right;\n",
       "    }\n",
       "</style>\n",
       "<table border=\"1\" class=\"dataframe\">\n",
       "  <thead>\n",
       "    <tr style=\"text-align: right;\">\n",
       "      <th></th>\n",
       "      <th>user_id</th>\n",
       "      <th>count</th>\n",
       "      <th>title</th>\n",
       "    </tr>\n",
       "  </thead>\n",
       "  <tbody>\n",
       "    <tr>\n",
       "      <th>0</th>\n",
       "      <td>0</td>\n",
       "      <td>5</td>\n",
       "      <td>0</td>\n",
       "    </tr>\n",
       "    <tr>\n",
       "      <th>1</th>\n",
       "      <td>1</td>\n",
       "      <td>5</td>\n",
       "      <td>0</td>\n",
       "    </tr>\n",
       "    <tr>\n",
       "      <th>2</th>\n",
       "      <td>2</td>\n",
       "      <td>4</td>\n",
       "      <td>0</td>\n",
       "    </tr>\n",
       "    <tr>\n",
       "      <th>3</th>\n",
       "      <td>3</td>\n",
       "      <td>4</td>\n",
       "      <td>0</td>\n",
       "    </tr>\n",
       "    <tr>\n",
       "      <th>4</th>\n",
       "      <td>4</td>\n",
       "      <td>5</td>\n",
       "      <td>0</td>\n",
       "    </tr>\n",
       "    <tr>\n",
       "      <th>...</th>\n",
       "      <td>...</td>\n",
       "      <td>...</td>\n",
       "      <td>...</td>\n",
       "    </tr>\n",
       "    <tr>\n",
       "      <th>0</th>\n",
       "      <td>6039</td>\n",
       "      <td>5</td>\n",
       "      <td>40</td>\n",
       "    </tr>\n",
       "    <tr>\n",
       "      <th>1</th>\n",
       "      <td>6039</td>\n",
       "      <td>5</td>\n",
       "      <td>336</td>\n",
       "    </tr>\n",
       "    <tr>\n",
       "      <th>2</th>\n",
       "      <td>6039</td>\n",
       "      <td>5</td>\n",
       "      <td>1151</td>\n",
       "    </tr>\n",
       "    <tr>\n",
       "      <th>3</th>\n",
       "      <td>6039</td>\n",
       "      <td>5</td>\n",
       "      <td>566</td>\n",
       "    </tr>\n",
       "    <tr>\n",
       "      <th>4</th>\n",
       "      <td>6039</td>\n",
       "      <td>5</td>\n",
       "      <td>508</td>\n",
       "    </tr>\n",
       "  </tbody>\n",
       "</table>\n",
       "<p>836483 rows × 3 columns</p>\n",
       "</div>"
      ],
      "text/plain": [
       "    user_id  count  title\n",
       "0         0      5      0\n",
       "1         1      5      0\n",
       "2         2      4      0\n",
       "3         3      4      0\n",
       "4         4      5      0\n",
       "..      ...    ...    ...\n",
       "0      6039      5     40\n",
       "1      6039      5    336\n",
       "2      6039      5   1151\n",
       "3      6039      5    566\n",
       "4      6039      5    508\n",
       "\n",
       "[836483 rows x 3 columns]"
      ]
     },
     "execution_count": 14,
     "metadata": {},
     "output_type": "execute_result"
    }
   ],
   "source": [
    "# indexing을 통해 데이터 컬럼 내 값을 바꾸는 코드\n",
    "# dictionary 자료형의 get 함수는 https://wikidocs.net/16 을 참고하세요.\n",
    "\n",
    "# user_to_idx.get을 통해 user_id 컬럼의 모든 값을 인덱싱한 Series를 구해 봅시다. \n",
    "# 혹시 정상적으로 인덱싱되지 않은 row가 있다면 인덱스가 NaN이 될 테니 dropna()로 제거합니다. \n",
    "temp_user_data = data['user_id'].map(user_to_idx.get).dropna()\n",
    "if len(temp_user_data) == len(data):   # 모든 row가 정상적으로 인덱싱되었다면\n",
    "    print('user_id column indexing OK!!')\n",
    "    data['user_id'] = temp_user_data   # data['user_id']을 인덱싱된 Series로 교체해 줍니다. \n",
    "else:\n",
    "    print('user_id column indexing Fail!!')\n",
    "\n",
    "# artist_to_idx을 통해 artist 컬럼도 동일한 방식으로 인덱싱해 줍니다. \n",
    "temp_movie_data = data['title'].map(movie_to_idx.get).dropna()\n",
    "if len(temp_movie_data) == len(data):\n",
    "    print('title column indexing OK!!')\n",
    "    data['title'] = temp_movie_data\n",
    "else:\n",
    "    print('title column indexing Fail!!')\n",
    "\n",
    "data"
   ]
  },
  {
   "cell_type": "markdown",
   "id": "wrong-notification",
   "metadata": {},
   "source": [
    "## 4. CSR(Compressed Sparse Row) matrix"
   ]
  },
  {
   "cell_type": "markdown",
   "id": "mental-lancaster",
   "metadata": {},
   "source": [
    "### 4.1 Sparse Matrix (희소 행렬)\n",
    "희소행렬 : 대부분의 값이 0으로 채워진 행렬 (<-> 밀집 행렬(Dense Matrix)\n",
    "![](https://img1.daumcdn.net/thumb/R1280x0/?scode=mtistory2&fname=https%3A%2F%2Fblog.kakaocdn.net%2Fdn%2FcFkDRL%2FbtqBUAYOqiE%2FMTeuu3LmXbaHeKce26OXz1%2Fimg.png)\n",
    "  \n",
    "  \n",
    "### 4.2 COO (Coordinate : 좌표) 형식  \n",
    "0이 아닌 데이터만 별도의 배열에 저장하고, 그데이터가 가리키는 행과 위치를 별도의 배열에 저장하는 방식\n",
    "\n",
    "\n",
    "### 4.3 CSR (Compressed Sparse Row) 형식\n",
    "가로의 순서대로 재정렬하는 방법으로 행에 관여하여 정리 압축하는 방식\n",
    "\n",
    "\n",
    "그 외의 희소행렬의 자료구조 저장법 https://ko.wikipedia.org/wiki/%ED%9D%AC%EC%86%8C%ED%96%89%EB%A0%AC"
   ]
  },
  {
   "cell_type": "code",
   "execution_count": 15,
   "id": "south-toilet",
   "metadata": {},
   "outputs": [
    {
     "data": {
      "text/plain": [
       "<6040x3628 sparse matrix of type '<class 'numpy.longlong'>'\n",
       "\twith 836483 stored elements in Compressed Sparse Row format>"
      ]
     },
     "execution_count": 15,
     "metadata": {},
     "output_type": "execute_result"
    }
   ],
   "source": [
    "from scipy.sparse import csr_matrix\n",
    "\n",
    "num_user = data['user_id'].nunique()\n",
    "num_title = data['title'].nunique()\n",
    "\n",
    "csr_data = csr_matrix((data['count'], (data.user_id, data.title)), shape=(num_user, num_title))\n",
    "csr_data"
   ]
  },
  {
   "cell_type": "markdown",
   "id": "traditional-infrared",
   "metadata": {},
   "source": [
    "(user_id + 나) x (영화 수) 로 잘 들어가 있다."
   ]
  },
  {
   "cell_type": "markdown",
   "id": "french-simpson",
   "metadata": {},
   "source": [
    "## 5. 학습 시키기 (Training)"
   ]
  },
  {
   "cell_type": "code",
   "execution_count": 16,
   "id": "distinct-glance",
   "metadata": {},
   "outputs": [],
   "source": [
    "from implicit.als import AlternatingLeastSquares\n",
    "import os\n",
    "import numpy as np\n",
    "\n",
    "# implicit 라이브러리에서 권장하고 있는 부분입니다. 학습 내용과는 무관합니다.\n",
    "os.environ['OPENBLAS_NUM_THREADS']='1'\n",
    "os.environ['KMP_DUPLICATE_LIB_OK']='True'\n",
    "os.environ['MKL_NUM_THREADS']='1'"
   ]
  },
  {
   "cell_type": "code",
   "execution_count": 17,
   "id": "invalid-marina",
   "metadata": {},
   "outputs": [],
   "source": [
    "als_model = AlternatingLeastSquares(factors=100, regularization=0.01, use_gpu=False, iterations=15, dtype=np.float32)"
   ]
  },
  {
   "cell_type": "code",
   "execution_count": 18,
   "id": "supported-correspondence",
   "metadata": {},
   "outputs": [
    {
     "data": {
      "text/plain": [
       "<3628x6040 sparse matrix of type '<class 'numpy.longlong'>'\n",
       "\twith 836483 stored elements in Compressed Sparse Column format>"
      ]
     },
     "execution_count": 18,
     "metadata": {},
     "output_type": "execute_result"
    }
   ],
   "source": [
    "# als 모델은 input으로 (item X user 꼴의 matrix를 받기 때문에 Transpose해줍니다.)\n",
    "csr_data_transpose = csr_data.T\n",
    "csr_data_transpose"
   ]
  },
  {
   "cell_type": "code",
   "execution_count": 19,
   "id": "roman-width",
   "metadata": {},
   "outputs": [
    {
     "data": {
      "application/vnd.jupyter.widget-view+json": {
       "model_id": "91c51bb6957f4e2082f269a562a261db",
       "version_major": 2,
       "version_minor": 0
      },
      "text/plain": [
       "  0%|          | 0/15 [00:00<?, ?it/s]"
      ]
     },
     "metadata": {},
     "output_type": "display_data"
    }
   ],
   "source": [
    "# 모델 훈련\n",
    "als_model.fit(csr_data_transpose)"
   ]
  },
  {
   "cell_type": "code",
   "execution_count": 20,
   "id": "studied-cleanup",
   "metadata": {},
   "outputs": [],
   "source": [
    "mink, PrettyWoman = user_to_idx['mink'], movie_to_idx['Pretty Woman (1990)']\n",
    "mink_vector, PrettyWoman_vector = als_model.user_factors[mink], als_model.item_factors[PrettyWoman]"
   ]
  },
  {
   "cell_type": "code",
   "execution_count": 21,
   "id": "asian-mercury",
   "metadata": {},
   "outputs": [
    {
     "data": {
      "text/plain": [
       "array([ 3.87676060e-01,  9.29304399e-03,  6.23047888e-01,  1.38213247e-01,\n",
       "        5.27078927e-01, -7.45494485e-01, -3.00575376e-01,  3.46557423e-02,\n",
       "       -7.44575500e-01,  8.06580722e-01,  1.65618718e-01,  7.04797924e-01,\n",
       "       -9.58043993e-01, -8.17972422e-03,  3.15427065e-01, -3.01445693e-01,\n",
       "       -6.89876020e-01, -1.09789439e-01,  4.20397252e-01, -3.68407637e-01,\n",
       "        2.80022174e-01, -2.22454235e-01,  2.33665347e-01,  4.78329420e-01,\n",
       "        1.49313495e-01, -1.18302129e-01, -2.61264712e-01, -1.52809203e-01,\n",
       "       -6.15323603e-01,  1.40007789e-04,  8.42610121e-01, -5.87403119e-01,\n",
       "       -7.85424411e-01,  1.00108366e-02,  3.60465527e-01,  6.05934739e-01,\n",
       "        7.53865182e-01, -1.03922594e+00,  3.51688087e-01, -4.66822326e-01,\n",
       "       -2.60634333e-01, -3.53901565e-01, -2.47884050e-01, -3.82355422e-01,\n",
       "       -2.49507964e-01, -1.13587596e-01,  6.24628365e-01, -1.62796468e-01,\n",
       "        1.92692831e-01,  1.04386711e+00,  8.28361452e-01, -4.35304970e-01,\n",
       "       -2.50178456e-01, -7.85370842e-02,  8.30574214e-01,  3.32220882e-01,\n",
       "       -4.51489031e-01,  1.01153362e+00,  9.43665028e-01, -1.78272635e-01,\n",
       "       -2.47011527e-01,  1.16509891e+00,  9.25881982e-01,  5.50741374e-01,\n",
       "       -2.27339208e-01,  2.28675276e-01, -5.47223330e-01, -4.65605587e-01,\n",
       "       -2.21276954e-02, -3.78682077e-01,  6.40547395e-01, -7.33145997e-02,\n",
       "        4.92382199e-01, -8.78353864e-02, -4.76647049e-01,  2.51655757e-01,\n",
       "        4.60271150e-01,  2.18232617e-01, -6.99460745e-01, -1.50482729e-01,\n",
       "        4.41766866e-02,  8.22930694e-01,  1.72845080e-01,  8.74002725e-02,\n",
       "        1.64423034e-01, -8.29935372e-01, -3.24399531e-01, -5.66402972e-01,\n",
       "       -6.19391918e-01, -3.06580424e-01,  2.40421463e-02, -4.81071323e-01,\n",
       "       -8.46258879e-01, -1.76144585e-01,  4.31566060e-01,  5.58045089e-01,\n",
       "       -1.65033877e-01,  3.60345453e-01, -4.93882775e-01, -3.57361361e-02],\n",
       "      dtype=float32)"
      ]
     },
     "execution_count": 21,
     "metadata": {},
     "output_type": "execute_result"
    }
   ],
   "source": [
    "mink_vector"
   ]
  },
  {
   "cell_type": "code",
   "execution_count": 22,
   "id": "northern-surgery",
   "metadata": {},
   "outputs": [
    {
     "data": {
      "text/plain": [
       "array([ 0.01454473,  0.00270258,  0.02041643,  0.02745439,  0.00144375,\n",
       "        0.00067697, -0.00202728, -0.00329987, -0.00759036,  0.00728766,\n",
       "       -0.00520682,  0.02193808, -0.00667134,  0.010587  ,  0.01410219,\n",
       "        0.00775932, -0.00700677,  0.01343374,  0.01421065, -0.00271833,\n",
       "       -0.00185864, -0.01371401,  0.00733077,  0.00602728, -0.00676426,\n",
       "       -0.00019197, -0.01457777,  0.01799463, -0.00874509,  0.00886609,\n",
       "        0.00972143, -0.01809237,  0.00397536,  0.0101153 ,  0.01104434,\n",
       "        0.03349006,  0.04218306, -0.00652647,  0.01354336,  0.00208092,\n",
       "        0.02608089, -0.0049196 ,  0.00647196, -0.00255887,  0.00890101,\n",
       "        0.00112414,  0.00550984,  0.00193407,  0.02752604,  0.04771416,\n",
       "        0.0275705 , -0.01040633,  0.00742405,  0.0132195 ,  0.00949218,\n",
       "        0.01296193,  0.00318249,  0.04052561,  0.02267224, -0.01423843,\n",
       "       -0.00710736,  0.01398131,  0.02536487,  0.01213174, -0.00138095,\n",
       "        0.02195136, -0.01612398,  0.00609826,  0.00039484,  0.00517404,\n",
       "        0.01478973, -0.00929865,  0.00724811, -0.01720734, -0.0030006 ,\n",
       "        0.00190199,  0.01873929,  0.02943082,  0.00869691, -0.00993199,\n",
       "       -0.00842136,  0.02287943,  0.00719196,  0.02269205,  0.01707868,\n",
       "       -0.01358428, -0.00464743, -0.02265021, -0.00620918,  0.01472898,\n",
       "       -0.00136079, -0.00342783, -0.00293906,  0.00633579,  0.03066278,\n",
       "        0.02417611,  0.01289269,  0.01451357, -0.01734548, -0.00984472],\n",
       "      dtype=float32)"
      ]
     },
     "execution_count": 22,
     "metadata": {},
     "output_type": "execute_result"
    }
   ],
   "source": [
    "PrettyWoman_vector"
   ]
  },
  {
   "cell_type": "markdown",
   "id": "robust-sustainability",
   "metadata": {},
   "source": [
    "### 내가 선호하는 5가지 영화 와 나의 선호도 "
   ]
  },
  {
   "cell_type": "code",
   "execution_count": 23,
   "id": "removed-stephen",
   "metadata": {},
   "outputs": [
    {
     "data": {
      "text/plain": [
       "0.4895228"
      ]
     },
     "execution_count": 23,
     "metadata": {},
     "output_type": "execute_result"
    }
   ],
   "source": [
    "np.dot(mink_vector, PrettyWoman_vector)"
   ]
  },
  {
   "cell_type": "markdown",
   "id": "presidential-finding",
   "metadata": {},
   "source": [
    "### 내가 선호하는 다른 영화 와 나의 선호도"
   ]
  },
  {
   "cell_type": "code",
   "execution_count": 24,
   "id": "completed-police",
   "metadata": {},
   "outputs": [
    {
     "data": {
      "text/plain": [
       "0.08806912"
      ]
     },
     "execution_count": 24,
     "metadata": {},
     "output_type": "execute_result"
    }
   ],
   "source": [
    "BaB = movie_to_idx['Beauty and the Beast (1991)']\n",
    "BaB_vector = als_model.item_factors[BaB]\n",
    "np.dot(mink_vector, BaB_vector)"
   ]
  },
  {
   "cell_type": "markdown",
   "id": "clean-south",
   "metadata": {},
   "source": [
    "내가 좋아하는 영화 장르가 하나 빼고 (하나만 애니메이션)이고 다 로맨스라서 실제로 좋아하는 미녀와 야수와는 많이 멀어 보인다,,ㅜ 미녀와 야수도 좋아하는 영화인데,, 확실히 내 선호 영화랑 좀 다른 느낌이하다."
   ]
  },
  {
   "cell_type": "markdown",
   "id": "sensitive-apparatus",
   "metadata": {},
   "source": [
    "## 6. 영화 추천"
   ]
  },
  {
   "cell_type": "code",
   "execution_count": 25,
   "id": "remarkable-festival",
   "metadata": {},
   "outputs": [],
   "source": [
    "idx_to_movie = {v:k for k,v in movie_to_idx.items()}\n",
    "\n",
    "def get_similar_movie(title: str):\n",
    "    movie_id = movie_to_idx[title]\n",
    "    similar_movie = als_model.similar_items(movie_id)\n",
    "    similar_movie = [idx_to_movie[i[0]] for i in similar_movie]\n",
    "    return similar_movie"
   ]
  },
  {
   "cell_type": "code",
   "execution_count": 26,
   "id": "republican-mathematics",
   "metadata": {},
   "outputs": [
    {
     "data": {
      "text/plain": [
       "['Pretty Woman (1990)',\n",
       " 'Sleepless in Seattle (1993)',\n",
       " \"My Best Friend's Wedding (1997)\",\n",
       " 'Ghost (1990)',\n",
       " \"You've Got Mail (1998)\",\n",
       " 'While You Were Sleeping (1995)',\n",
       " 'Notting Hill (1999)',\n",
       " 'Truth About Cats & Dogs, The (1996)',\n",
       " 'Sabrina (1995)',\n",
       " 'Mrs. Doubtfire (1993)']"
      ]
     },
     "execution_count": 26,
     "metadata": {},
     "output_type": "execute_result"
    }
   ],
   "source": [
    "get_similar_movie('Pretty Woman (1990)')"
   ]
  },
  {
   "cell_type": "code",
   "execution_count": 27,
   "id": "finished-grounds",
   "metadata": {
    "scrolled": true
   },
   "outputs": [
    {
     "data": {
      "text/plain": [
       "['Sleepless in Seattle (1993)',\n",
       " 'Toy Story 2 (1999)',\n",
       " \"You've Got Mail (1998)\",\n",
       " 'Forrest Gump (1994)',\n",
       " \"My Best Friend's Wedding (1997)\",\n",
       " \"Bug's Life, A (1998)\",\n",
       " 'Groundhog Day (1993)',\n",
       " 'While You Were Sleeping (1995)',\n",
       " 'Four Weddings and a Funeral (1994)',\n",
       " 'Dave (1993)',\n",
       " 'Babe (1995)',\n",
       " 'Shakespeare in Love (1998)',\n",
       " 'Sabrina (1995)',\n",
       " 'Tin Cup (1996)',\n",
       " 'Mrs. Doubtfire (1993)',\n",
       " 'American President, The (1995)',\n",
       " 'Truth About Cats & Dogs, The (1996)',\n",
       " 'Clueless (1995)',\n",
       " 'Birdcage, The (1996)',\n",
       " 'Wedding Singer, The (1998)']"
      ]
     },
     "execution_count": 27,
     "metadata": {},
     "output_type": "execute_result"
    }
   ],
   "source": [
    "user = user_to_idx['mink']\n",
    "# recommend에서는 user*item CSR Matrix를 받습니다.\n",
    "movie_recommended = als_model.recommend(user, csr_data, N=20, filter_already_liked_items=True)\n",
    "[idx_to_movie[i[0]] for i in movie_recommended]"
   ]
  },
  {
   "cell_type": "markdown",
   "id": "thrown-there",
   "metadata": {},
   "source": [
    "## 회고\n",
    "나는 옛날 외국 영화와 노래를 좋아한다. 놀랍게도 추천해준 영화중에 실제로 좋아하고 본 영화들도 있어서 신기했다.  \n",
    "이번에 추천 시스템에 대해 처음 접해 봤다.  \n",
    "이번 모델도 잘 이해 못했는데 08/18 심야극장 주제가 추천 시스템이라서 참여 했다가,, 위의 추천 시스템은 아주 아주 쉬운 단계라는 걸 알게 됐고,, 네이버에서 만든 추천 시스템은 엄청 어려웠다. 여러가지 모델을 직접 실험해보고 토너먼트 형식으로 올라가면서 자동으로 하이퍼파라미터도 조정되는게 신기했다.  \n",
    "처음으로 클라우드 주피터를 이용해봤는 데 익숙하지 않아서 불편하다.. 근데 데이터를 가져올때 바로 가져올 수 있는 점은 편리한 것 같다.\n",
    "\n"
   ]
  }
 ],
 "metadata": {
  "kernelspec": {
   "display_name": "Python 3",
   "language": "python",
   "name": "python3"
  },
  "language_info": {
   "codemirror_mode": {
    "name": "ipython",
    "version": 3
   },
   "file_extension": ".py",
   "mimetype": "text/x-python",
   "name": "python",
   "nbconvert_exporter": "python",
   "pygments_lexer": "ipython3",
   "version": "3.7.9"
  }
 },
 "nbformat": 4,
 "nbformat_minor": 5
}
