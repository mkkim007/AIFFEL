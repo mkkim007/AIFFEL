{
  "nbformat": 4,
  "nbformat_minor": 0,
  "metadata": {
    "colab": {
      "name": "Restaurant Visitor Forecasting 시각화.ipynb",
      "provenance": [],
      "collapsed_sections": [],
      "authorship_tag": "ABX9TyO80O0M9R1uwLgt1qAXAQfP",
      "include_colab_link": true
    },
    "kernelspec": {
      "name": "python3",
      "display_name": "Python 3"
    },
    "language_info": {
      "name": "python"
    }
  },
  "cells": [
    {
      "cell_type": "markdown",
      "metadata": {
        "id": "view-in-github",
        "colab_type": "text"
      },
      "source": [
        "<a href=\"https://colab.research.google.com/github/mkkim007/AIFFEL/blob/main/mkkim/Restaurant_Visitor_Forecasting_%EC%8B%9C%EA%B0%81%ED%99%94.ipynb\" target=\"_parent\"><img src=\"https://colab.research.google.com/assets/colab-badge.svg\" alt=\"Open In Colab\"/></a>"
      ]
    },
    {
      "cell_type": "code",
      "metadata": {
        "colab": {
          "base_uri": "https://localhost:8080/"
        },
        "id": "ijCPeRv27rTB",
        "outputId": "3e01277b-d1a6-467c-9f25-815bdaeedae7"
      },
      "source": [
        "from google.colab import drive\n",
        "drive.mount('/content/gdrive')"
      ],
      "execution_count": 1,
      "outputs": [
        {
          "output_type": "stream",
          "text": [
            "Mounted at /content/gdrive\n"
          ],
          "name": "stdout"
        }
      ]
    },
    {
      "cell_type": "code",
      "metadata": {
        "id": "NekCY9Og8w_c"
      },
      "source": [
        "!cp /content/gdrive/MyDrive/Data/recruit-restaurant-visitor-forecasting.zip /content/"
      ],
      "execution_count": 2,
      "outputs": []
    },
    {
      "cell_type": "code",
      "metadata": {
        "id": "Ot3WLGq481cQ"
      },
      "source": [
        "!unzip -qq /content/recruit-restaurant-visitor-forecasting.zip"
      ],
      "execution_count": 3,
      "outputs": []
    },
    {
      "cell_type": "code",
      "metadata": {
        "id": "3dupMdEK7fPB"
      },
      "source": [
        "import warnings\n",
        "warnings.filterwarnings(\"ignore\")\n",
        "\n",
        "import time\n",
        "import numpy as np\n",
        "import pandas as pd\n",
        "from dateutil.parser import parse\n",
        "import datetime\n",
        "from datetime import date, timedelta\n",
        "from sklearn.preprocessing import LabelEncoder\n",
        "\n",
        "import missingno as msno\n",
        "\n",
        "from sklearn.ensemble import GradientBoostingRegressor\n",
        "from sklearn.model_selection import KFold, cross_val_score\n",
        "import xgboost as xgb\n",
        "import lightgbm as lgb\n",
        "from scipy.stats import norm #Analysis \n",
        "from scipy import stats #Analysis \n",
        "import scipy as sp\n",
        "from sklearn.preprocessing import StandardScaler #Analysis \n",
        "import matplotlib.pyplot as plt\n",
        "import seaborn as sns\n",
        "import gc\n",
        "\n",
        "from sklearn.model_selection import KFold\n",
        "from sklearn.model_selection import train_test_split\n",
        "from sklearn.model_selection import cross_val_score , cross_validate"
      ],
      "execution_count": 137,
      "outputs": []
    },
    {
      "cell_type": "code",
      "metadata": {
        "id": "IrQcDai_xfmg"
      },
      "source": [
        "data_path = '../content/'\n",
        "air_reserve = pd.read_csv(data_path + 'air_reserve.csv.zip').rename(columns={'air_store_id':'store_id'})\n",
        "hpg_reserve = pd.read_csv(data_path + 'hpg_reserve.csv.zip').rename(columns={'hpg_store_id':'store_id'})\n",
        "air_store = pd.read_csv(data_path + 'air_store_info.csv.zip').rename(columns={'air_store_id':'store_id'})\n",
        "hpg_store = pd.read_csv(data_path + 'hpg_store_info.csv.zip').rename(columns={'hpg_store_id':'store_id'})\n",
        "air_visit = pd.read_csv(data_path + 'air_visit_data.csv.zip').rename(columns={'air_store_id':'store_id'})\n",
        "store_id_map = pd.read_csv(data_path + 'store_id_relation.csv.zip').set_index('hpg_store_id',drop=False)\n",
        "date_info = pd.read_csv(data_path + 'date_info.csv.zip').rename(columns={'calendar_date': 'visit_date'}).drop('day_of_week',axis=1)\n",
        "submission = pd.read_csv(data_path + 'sample_submission.csv.zip')"
      ],
      "execution_count": 138,
      "outputs": []
    },
    {
      "cell_type": "code",
      "metadata": {
        "id": "pYmSykvn0VNz"
      },
      "source": [
        "submission['visit_date'] = submission['id'].str[-10:]\n",
        "submission['store_id'] = submission['id'].str[:-11]\n",
        "air_reserve['visit_date'] = air_reserve['visit_datetime'].str[:10]\n",
        "air_reserve['reserve_date'] = air_reserve['reserve_datetime'].str[:10]\n",
        "air_reserve['dow'] = pd.to_datetime(air_reserve['visit_date']).dt.dayofweek\n",
        "hpg_reserve['visit_date'] = hpg_reserve['visit_datetime'].str[:10]\n",
        "hpg_reserve['reserve_date'] = hpg_reserve['reserve_datetime'].str[:10]\n",
        "hpg_reserve['dow'] = pd.to_datetime(hpg_reserve['visit_date']).dt.dayofweek\n",
        "air_visit['id'] = air_visit['store_id'] + '_' + air_visit['visit_date']\n",
        "hpg_reserve['store_id'] = hpg_reserve['store_id'].map(store_id_map['air_store_id']).fillna(hpg_reserve['store_id'])\n",
        "hpg_store['store_id'] = hpg_store['store_id'].map(store_id_map['air_store_id']).fillna(hpg_store['store_id'])\n",
        "hpg_store.rename(columns={'hpg_genre_name':'air_genre_name','hpg_area_name':'air_area_name'},inplace=True)\n",
        "data = pd.concat([air_visit, submission]).copy()\n",
        "data['dow'] = pd.to_datetime(data['visit_date']).dt.dayofweek\n",
        "date_info['holiday_flg2'] = pd.to_datetime(date_info['visit_date']).dt.dayofweek\n",
        "date_info['holiday_flg2'] = ((date_info['holiday_flg2']>4) | (date_info['holiday_flg']==1)).astype(int)\n",
        "\n",
        "air_store['air_area_name0'] = air_store['air_area_name'].apply(lambda x: x.split(' ')[0])\n",
        "\n",
        "lbl = LabelEncoder()\n",
        "air_store['air_genre_name'] = lbl.fit_transform(air_store['air_genre_name'])\n",
        "air_store['air_area_name0'] = lbl.fit_transform(air_store['air_area_name0'])\n",
        "\n",
        "data['visitors'] = np.log1p(data['visitors'])\n",
        "data = data.merge(air_store,on='store_id',how='left')\n",
        "data = data.merge(date_info[['visit_date','holiday_flg','holiday_flg2']], on=['visit_date'],how='left')"
      ],
      "execution_count": 139,
      "outputs": []
    },
    {
      "cell_type": "markdown",
      "metadata": {
        "id": "UB8DdwxgxESV"
      },
      "source": [
        "# 시각화"
      ]
    },
    {
      "cell_type": "code",
      "metadata": {
        "colab": {
          "base_uri": "https://localhost:8080/",
          "height": 394
        },
        "id": "MJyWmvcn0TVq",
        "outputId": "a583ca2a-29c3-4800-e8e2-0bd614f36264"
      },
      "source": [
        "data.tail()"
      ],
      "execution_count": 140,
      "outputs": [
        {
          "output_type": "execute_result",
          "data": {
            "text/html": [
              "<div>\n",
              "<style scoped>\n",
              "    .dataframe tbody tr th:only-of-type {\n",
              "        vertical-align: middle;\n",
              "    }\n",
              "\n",
              "    .dataframe tbody tr th {\n",
              "        vertical-align: top;\n",
              "    }\n",
              "\n",
              "    .dataframe thead th {\n",
              "        text-align: right;\n",
              "    }\n",
              "</style>\n",
              "<table border=\"1\" class=\"dataframe\">\n",
              "  <thead>\n",
              "    <tr style=\"text-align: right;\">\n",
              "      <th></th>\n",
              "      <th>store_id</th>\n",
              "      <th>visit_date</th>\n",
              "      <th>visitors</th>\n",
              "      <th>id</th>\n",
              "      <th>dow</th>\n",
              "      <th>air_genre_name</th>\n",
              "      <th>air_area_name</th>\n",
              "      <th>latitude</th>\n",
              "      <th>longitude</th>\n",
              "      <th>air_area_name0</th>\n",
              "      <th>holiday_flg</th>\n",
              "      <th>holiday_flg2</th>\n",
              "    </tr>\n",
              "  </thead>\n",
              "  <tbody>\n",
              "    <tr>\n",
              "      <th>284122</th>\n",
              "      <td>air_fff68b929994bfbd</td>\n",
              "      <td>2017-05-27</td>\n",
              "      <td>0.0</td>\n",
              "      <td>air_fff68b929994bfbd_2017-05-27</td>\n",
              "      <td>5</td>\n",
              "      <td>1</td>\n",
              "      <td>Tōkyō-to Nakano-ku Nakano</td>\n",
              "      <td>35.708146</td>\n",
              "      <td>139.666288</td>\n",
              "      <td>7</td>\n",
              "      <td>0</td>\n",
              "      <td>1</td>\n",
              "    </tr>\n",
              "    <tr>\n",
              "      <th>284123</th>\n",
              "      <td>air_fff68b929994bfbd</td>\n",
              "      <td>2017-05-28</td>\n",
              "      <td>0.0</td>\n",
              "      <td>air_fff68b929994bfbd_2017-05-28</td>\n",
              "      <td>6</td>\n",
              "      <td>1</td>\n",
              "      <td>Tōkyō-to Nakano-ku Nakano</td>\n",
              "      <td>35.708146</td>\n",
              "      <td>139.666288</td>\n",
              "      <td>7</td>\n",
              "      <td>0</td>\n",
              "      <td>1</td>\n",
              "    </tr>\n",
              "    <tr>\n",
              "      <th>284124</th>\n",
              "      <td>air_fff68b929994bfbd</td>\n",
              "      <td>2017-05-29</td>\n",
              "      <td>0.0</td>\n",
              "      <td>air_fff68b929994bfbd_2017-05-29</td>\n",
              "      <td>0</td>\n",
              "      <td>1</td>\n",
              "      <td>Tōkyō-to Nakano-ku Nakano</td>\n",
              "      <td>35.708146</td>\n",
              "      <td>139.666288</td>\n",
              "      <td>7</td>\n",
              "      <td>0</td>\n",
              "      <td>0</td>\n",
              "    </tr>\n",
              "    <tr>\n",
              "      <th>284125</th>\n",
              "      <td>air_fff68b929994bfbd</td>\n",
              "      <td>2017-05-30</td>\n",
              "      <td>0.0</td>\n",
              "      <td>air_fff68b929994bfbd_2017-05-30</td>\n",
              "      <td>1</td>\n",
              "      <td>1</td>\n",
              "      <td>Tōkyō-to Nakano-ku Nakano</td>\n",
              "      <td>35.708146</td>\n",
              "      <td>139.666288</td>\n",
              "      <td>7</td>\n",
              "      <td>0</td>\n",
              "      <td>0</td>\n",
              "    </tr>\n",
              "    <tr>\n",
              "      <th>284126</th>\n",
              "      <td>air_fff68b929994bfbd</td>\n",
              "      <td>2017-05-31</td>\n",
              "      <td>0.0</td>\n",
              "      <td>air_fff68b929994bfbd_2017-05-31</td>\n",
              "      <td>2</td>\n",
              "      <td>1</td>\n",
              "      <td>Tōkyō-to Nakano-ku Nakano</td>\n",
              "      <td>35.708146</td>\n",
              "      <td>139.666288</td>\n",
              "      <td>7</td>\n",
              "      <td>0</td>\n",
              "      <td>0</td>\n",
              "    </tr>\n",
              "  </tbody>\n",
              "</table>\n",
              "</div>"
            ],
            "text/plain": [
              "                    store_id  visit_date  ...  holiday_flg holiday_flg2\n",
              "284122  air_fff68b929994bfbd  2017-05-27  ...            0            1\n",
              "284123  air_fff68b929994bfbd  2017-05-28  ...            0            1\n",
              "284124  air_fff68b929994bfbd  2017-05-29  ...            0            0\n",
              "284125  air_fff68b929994bfbd  2017-05-30  ...            0            0\n",
              "284126  air_fff68b929994bfbd  2017-05-31  ...            0            0\n",
              "\n",
              "[5 rows x 12 columns]"
            ]
          },
          "metadata": {
            "tags": []
          },
          "execution_count": 140
        }
      ]
    },
    {
      "cell_type": "markdown",
      "metadata": {
        "id": "odrrpykyxRmu"
      },
      "source": [
        "##4.6"
      ]
    },
    {
      "cell_type": "code",
      "metadata": {
        "colab": {
          "base_uri": "https://localhost:8080/",
          "height": 111
        },
        "id": "eFHWyF5L3ugX",
        "outputId": "62f20a79-5257-4fb2-ab51-ab8faa63909c"
      },
      "source": [
        "train_size = len(air_visit)\n",
        "train = data[:train_size]\n",
        "grouped = data['visitors'].groupby(data['holiday_flg'])\n",
        "\n",
        "a=grouped.sum().reset_index()\n",
        "df=pd.DataFrame(a)\n",
        "df.head()"
      ],
      "execution_count": 148,
      "outputs": [
        {
          "output_type": "execute_result",
          "data": {
            "text/html": [
              "<div>\n",
              "<style scoped>\n",
              "    .dataframe tbody tr th:only-of-type {\n",
              "        vertical-align: middle;\n",
              "    }\n",
              "\n",
              "    .dataframe tbody tr th {\n",
              "        vertical-align: top;\n",
              "    }\n",
              "\n",
              "    .dataframe thead th {\n",
              "        text-align: right;\n",
              "    }\n",
              "</style>\n",
              "<table border=\"1\" class=\"dataframe\">\n",
              "  <thead>\n",
              "    <tr style=\"text-align: right;\">\n",
              "      <th></th>\n",
              "      <th>holiday_flg</th>\n",
              "      <th>visitors</th>\n",
              "    </tr>\n",
              "  </thead>\n",
              "  <tbody>\n",
              "    <tr>\n",
              "      <th>0</th>\n",
              "      <td>0</td>\n",
              "      <td>669516.008116</td>\n",
              "    </tr>\n",
              "    <tr>\n",
              "      <th>1</th>\n",
              "      <td>1</td>\n",
              "      <td>37089.341711</td>\n",
              "    </tr>\n",
              "  </tbody>\n",
              "</table>\n",
              "</div>"
            ],
            "text/plain": [
              "   holiday_flg       visitors\n",
              "0            0  669516.008116\n",
              "1            1   37089.341711"
            ]
          },
          "metadata": {
            "tags": []
          },
          "execution_count": 148
        }
      ]
    },
    {
      "cell_type": "code",
      "metadata": {
        "colab": {
          "base_uri": "https://localhost:8080/",
          "height": 301
        },
        "id": "YM3eWtSlw1d8",
        "outputId": "99073564-0fc3-4aba-c6fa-8077bb324938"
      },
      "source": [
        "train_size = len(air_visit)\n",
        "train = data[:train_size]\n",
        "df=train['visitors'].groupby(train['holiday_flg']).sum().reset_index()\n",
        "ax=sns.barplot(x='holiday_flg', y='visitors', data=df)\n",
        "ax.set_xticklabels(['True','False'], fontsize=10)\n"
      ],
      "execution_count": 153,
      "outputs": [
        {
          "output_type": "execute_result",
          "data": {
            "text/plain": [
              "[Text(0, 0, 'True'), Text(0, 0, 'False')]"
            ]
          },
          "metadata": {
            "tags": []
          },
          "execution_count": 153
        },
        {
          "output_type": "display_data",
          "data": {
            "image/png": "[encoded data removed]",
            "text/plain": [
              "<Figure size 432x288 with 1 Axes>"
            ]
          },
          "metadata": {
            "tags": [],
            "needs_background": "light"
          }
        }
      ]
    },
    {
      "cell_type": "code",
      "metadata": {
        "colab": {
          "base_uri": "https://localhost:8080/"
        },
        "id": "HETTfnRZDIq_",
        "outputId": "057505dd-72cf-43fa-c82f-3e92c387c55d"
      },
      "source": [
        "train['visitors']"
      ],
      "execution_count": 68,
      "outputs": [
        {
          "output_type": "execute_result",
          "data": {
            "text/plain": [
              "0         3.258097\n",
              "1         3.496508\n",
              "2         3.401197\n",
              "3         3.135494\n",
              "4         1.945910\n",
              "            ...   \n",
              "252103    1.945910\n",
              "252104    1.945910\n",
              "252105    2.079442\n",
              "252106    2.197225\n",
              "252107    1.791759\n",
              "Name: visitors, Length: 252108, dtype: float64"
            ]
          },
          "metadata": {
            "tags": []
          },
          "execution_count": 68
        }
      ]
    },
    {
      "cell_type": "code",
      "metadata": {
        "colab": {
          "base_uri": "https://localhost:8080/",
          "height": 394
        },
        "id": "WK0v-ktYBgVr",
        "outputId": "fb6f74c0-56e5-4cac-aa92-22d951c9e2e1"
      },
      "source": [
        "df1.head()"
      ],
      "execution_count": 60,
      "outputs": [
        {
          "output_type": "execute_result",
          "data": {
            "text/html": [
              "<div>\n",
              "<style scoped>\n",
              "    .dataframe tbody tr th:only-of-type {\n",
              "        vertical-align: middle;\n",
              "    }\n",
              "\n",
              "    .dataframe tbody tr th {\n",
              "        vertical-align: top;\n",
              "    }\n",
              "\n",
              "    .dataframe thead th {\n",
              "        text-align: right;\n",
              "    }\n",
              "</style>\n",
              "<table border=\"1\" class=\"dataframe\">\n",
              "  <thead>\n",
              "    <tr style=\"text-align: right;\">\n",
              "      <th></th>\n",
              "      <th>store_id</th>\n",
              "      <th>visit_date</th>\n",
              "      <th>visitors</th>\n",
              "      <th>id</th>\n",
              "      <th>dow</th>\n",
              "      <th>air_genre_name</th>\n",
              "      <th>air_area_name</th>\n",
              "      <th>latitude</th>\n",
              "      <th>longitude</th>\n",
              "      <th>air_area_name0</th>\n",
              "      <th>holiday_flg</th>\n",
              "      <th>holiday_flg2</th>\n",
              "    </tr>\n",
              "  </thead>\n",
              "  <tbody>\n",
              "    <tr>\n",
              "      <th>0</th>\n",
              "      <td>air_ba937bf13d40fb24</td>\n",
              "      <td>2016-01-13</td>\n",
              "      <td>3.258097</td>\n",
              "      <td>air_ba937bf13d40fb24_2016-01-13</td>\n",
              "      <td>2.0</td>\n",
              "      <td>4.0</td>\n",
              "      <td>Tōkyō-to Minato-ku Shibakōen</td>\n",
              "      <td>35.658068</td>\n",
              "      <td>139.751599</td>\n",
              "      <td>7.0</td>\n",
              "      <td>0.0</td>\n",
              "      <td>0.0</td>\n",
              "    </tr>\n",
              "    <tr>\n",
              "      <th>1</th>\n",
              "      <td>air_ba937bf13d40fb24</td>\n",
              "      <td>2016-01-14</td>\n",
              "      <td>3.496508</td>\n",
              "      <td>air_ba937bf13d40fb24_2016-01-14</td>\n",
              "      <td>3.0</td>\n",
              "      <td>4.0</td>\n",
              "      <td>Tōkyō-to Minato-ku Shibakōen</td>\n",
              "      <td>35.658068</td>\n",
              "      <td>139.751599</td>\n",
              "      <td>7.0</td>\n",
              "      <td>0.0</td>\n",
              "      <td>0.0</td>\n",
              "    </tr>\n",
              "    <tr>\n",
              "      <th>2</th>\n",
              "      <td>air_ba937bf13d40fb24</td>\n",
              "      <td>2016-01-15</td>\n",
              "      <td>3.401197</td>\n",
              "      <td>air_ba937bf13d40fb24_2016-01-15</td>\n",
              "      <td>4.0</td>\n",
              "      <td>4.0</td>\n",
              "      <td>Tōkyō-to Minato-ku Shibakōen</td>\n",
              "      <td>35.658068</td>\n",
              "      <td>139.751599</td>\n",
              "      <td>7.0</td>\n",
              "      <td>0.0</td>\n",
              "      <td>0.0</td>\n",
              "    </tr>\n",
              "    <tr>\n",
              "      <th>3</th>\n",
              "      <td>air_ba937bf13d40fb24</td>\n",
              "      <td>2016-01-16</td>\n",
              "      <td>3.135494</td>\n",
              "      <td>air_ba937bf13d40fb24_2016-01-16</td>\n",
              "      <td>5.0</td>\n",
              "      <td>4.0</td>\n",
              "      <td>Tōkyō-to Minato-ku Shibakōen</td>\n",
              "      <td>35.658068</td>\n",
              "      <td>139.751599</td>\n",
              "      <td>7.0</td>\n",
              "      <td>0.0</td>\n",
              "      <td>1.0</td>\n",
              "    </tr>\n",
              "    <tr>\n",
              "      <th>4</th>\n",
              "      <td>air_ba937bf13d40fb24</td>\n",
              "      <td>2016-01-18</td>\n",
              "      <td>1.945910</td>\n",
              "      <td>air_ba937bf13d40fb24_2016-01-18</td>\n",
              "      <td>0.0</td>\n",
              "      <td>4.0</td>\n",
              "      <td>Tōkyō-to Minato-ku Shibakōen</td>\n",
              "      <td>35.658068</td>\n",
              "      <td>139.751599</td>\n",
              "      <td>7.0</td>\n",
              "      <td>0.0</td>\n",
              "      <td>0.0</td>\n",
              "    </tr>\n",
              "  </tbody>\n",
              "</table>\n",
              "</div>"
            ],
            "text/plain": [
              "               store_id  visit_date  ...  holiday_flg holiday_flg2\n",
              "0  air_ba937bf13d40fb24  2016-01-13  ...          0.0          0.0\n",
              "1  air_ba937bf13d40fb24  2016-01-14  ...          0.0          0.0\n",
              "2  air_ba937bf13d40fb24  2016-01-15  ...          0.0          0.0\n",
              "3  air_ba937bf13d40fb24  2016-01-16  ...          0.0          1.0\n",
              "4  air_ba937bf13d40fb24  2016-01-18  ...          0.0          0.0\n",
              "\n",
              "[5 rows x 12 columns]"
            ]
          },
          "metadata": {
            "tags": []
          },
          "execution_count": 60
        }
      ]
    },
    {
      "cell_type": "code",
      "metadata": {
        "colab": {
          "base_uri": "https://localhost:8080/"
        },
        "id": "1JcCHz0sNG03",
        "outputId": "e8710a33-2402-4255-ebd8-b096224505f4"
      },
      "source": [
        "df=pd.to_datetime(train['visit_date'])\n",
        "df"
      ],
      "execution_count": 84,
      "outputs": [
        {
          "output_type": "execute_result",
          "data": {
            "text/plain": [
              "0        2016-01-13\n",
              "1        2016-01-14\n",
              "2        2016-01-15\n",
              "3        2016-01-16\n",
              "4        2016-01-18\n",
              "            ...    \n",
              "252103   2017-04-18\n",
              "252104   2017-04-19\n",
              "252105   2017-04-20\n",
              "252106   2017-04-21\n",
              "252107   2017-04-22\n",
              "Name: visit_date, Length: 252108, dtype: datetime64[ns]"
            ]
          },
          "metadata": {
            "tags": []
          },
          "execution_count": 84
        }
      ]
    },
    {
      "cell_type": "code",
      "metadata": {
        "colab": {
          "base_uri": "https://localhost:8080/"
        },
        "id": "rZTVHy37Q8e6",
        "outputId": "5f7cd149-010c-47d5-b130-10a82b0d9967"
      },
      "source": [
        "train['visit_date']"
      ],
      "execution_count": 93,
      "outputs": [
        {
          "output_type": "execute_result",
          "data": {
            "text/plain": [
              "0         2016-01-13\n",
              "1         2016-01-14\n",
              "2         2016-01-15\n",
              "3         2016-01-16\n",
              "4         2016-01-18\n",
              "             ...    \n",
              "252103    2017-04-18\n",
              "252104    2017-04-19\n",
              "252105    2017-04-20\n",
              "252106    2017-04-21\n",
              "252107    2017-04-22\n",
              "Name: visit_date, Length: 252108, dtype: object"
            ]
          },
          "metadata": {
            "tags": []
          },
          "execution_count": 93
        }
      ]
    },
    {
      "cell_type": "code",
      "metadata": {
        "colab": {
          "base_uri": "https://localhost:8080/",
          "height": 328
        },
        "id": "U6LQilHw90tm",
        "outputId": "34ff1af3-3355-4ceb-9b82-286d2bf60ffb"
      },
      "source": [
        "df=pd.to_datetime(data['visit_date'])\n",
        "df1=(df>=\"2016-04-15\") & (df<=\"2016-05-15\")\n",
        "\n",
        "df1=data[df1]\n",
        "df1 = df1.sort_values(by='visit_date' ,ascending=True)\n",
        "sns.scatterplot(x=\"visit_date\", y=\"holiday_flg\" ,data=df1)\n",
        "p=plt.xticks(rotation = 'vertical')\n",
        "\n",
        "degrees = 70\n",
        "p=plt.xticks(rotation=degrees)\n"
      ],
      "execution_count": 146,
      "outputs": [
        {
          "output_type": "display_data",
          "data": {
            "image/png": "[encoded data removed]",
            "text/plain": [
              "<Figure size 432x288 with 1 Axes>"
            ]
          },
          "metadata": {
            "tags": [],
            "needs_background": "light"
          }
        }
      ]
    },
    {
      "cell_type": "markdown",
      "metadata": {
        "id": "Mol4dbC5rzFh"
      },
      "source": [
        ""
      ]
    },
    {
      "cell_type": "code",
      "metadata": {
        "colab": {
          "base_uri": "https://localhost:8080/",
          "height": 490
        },
        "id": "Mf3c0ODhD9Uw",
        "outputId": "d1b54b5a-700a-481f-d062-c52497a83716"
      },
      "source": [
        "df=pd.to_datetime(data['visit_date'])\n",
        "df2=(df>=\"2017-04-15\") & (df<=\"2017-05-15\")\n",
        "\n",
        "df2=data[df2]\n",
        "\n",
        "sns.scatterplot(x=\"visit_date\", y=\"holiday_flg\"  ,data=df2)\n",
        "p=plt.xticks(rotation = 'vertical')\n",
        "\n",
        "degrees = 70\n",
        "p=plt.xticks(rotation=degrees)"
      ],
      "execution_count": 147,
      "outputs": [
        {
          "output_type": "stream",
          "text": [
            "24662\n",
            "                    store_id  visit_date  ...  holiday_flg holiday_flg2\n",
            "284122  air_fff68b929994bfbd  2017-05-27  ...            0            1\n",
            "284123  air_fff68b929994bfbd  2017-05-28  ...            0            1\n",
            "284124  air_fff68b929994bfbd  2017-05-29  ...            0            0\n",
            "284125  air_fff68b929994bfbd  2017-05-30  ...            0            0\n",
            "284126  air_fff68b929994bfbd  2017-05-31  ...            0            0\n",
            "\n",
            "[5 rows x 12 columns]\n"
          ],
          "name": "stdout"
        },
        {
          "output_type": "display_data",
          "data": {
            "image/png": "[encoded data removed]",
            "text/plain": [
              "<Figure size 432x288 with 1 Axes>"
            ]
          },
          "metadata": {
            "tags": [],
            "needs_background": "light"
          }
        }
      ]
    },
    {
      "cell_type": "markdown",
      "metadata": {
        "id": "iRXvm5t8ryhx"
      },
      "source": [
        ""
      ]
    },
    {
      "cell_type": "markdown",
      "metadata": {
        "id": "JQDrNj8dxXNk"
      },
      "source": [
        "## 5.2"
      ]
    },
    {
      "cell_type": "code",
      "metadata": {
        "colab": {
          "base_uri": "https://localhost:8080/",
          "height": 300
        },
        "id": "7vBbUyHCEzlM",
        "outputId": "a92dd3e4-d205-4c46-9dd6-1b05aa653ef8"
      },
      "source": [
        "ax=sns.boxplot(x=\"holiday_flg\", y=\"visitors\",  data=train)\n",
        "ax.set_xticklabels(['True','False'], fontsize=10)"
      ],
      "execution_count": 154,
      "outputs": [
        {
          "output_type": "execute_result",
          "data": {
            "text/plain": [
              "[Text(0, 0, 'True'), Text(0, 0, 'False')]"
            ]
          },
          "metadata": {
            "tags": []
          },
          "execution_count": 154
        },
        {
          "output_type": "display_data",
          "data": {
            "image/png": "[encoded data removed]",
            "text/plain": [
              "<Figure size 432x288 with 1 Axes>"
            ]
          },
          "metadata": {
            "tags": [],
            "needs_background": "light"
          }
        }
      ]
    },
    {
      "cell_type": "markdown",
      "metadata": {
        "id": "VevT_JG-rxy9"
      },
      "source": [
        ""
      ]
    },
    {
      "cell_type": "code",
      "metadata": {
        "colab": {
          "base_uri": "https://localhost:8080/"
        },
        "id": "g0RoG38Ki7fU",
        "outputId": "aa433f8c-d08f-40d3-e3cf-cb32242b086f"
      },
      "source": [
        "train.info()"
      ],
      "execution_count": 163,
      "outputs": [
        {
          "output_type": "stream",
          "text": [
            "<class 'pandas.core.frame.DataFrame'>\n",
            "Int64Index: 252108 entries, 0 to 252107\n",
            "Data columns (total 12 columns):\n",
            " #   Column          Non-Null Count   Dtype  \n",
            "---  ------          --------------   -----  \n",
            " 0   store_id        252108 non-null  object \n",
            " 1   visit_date      252108 non-null  object \n",
            " 2   visitors        252108 non-null  float64\n",
            " 3   id              252108 non-null  object \n",
            " 4   dow             252108 non-null  int64  \n",
            " 5   air_genre_name  252108 non-null  int64  \n",
            " 6   air_area_name   252108 non-null  object \n",
            " 7   latitude        252108 non-null  float64\n",
            " 8   longitude       252108 non-null  float64\n",
            " 9   air_area_name0  252108 non-null  int64  \n",
            " 10  holiday_flg     252108 non-null  int64  \n",
            " 11  holiday_flg2    252108 non-null  int64  \n",
            "dtypes: float64(3), int64(5), object(4)\n",
            "memory usage: 35.0+ MB\n"
          ],
          "name": "stdout"
        }
      ]
    },
    {
      "cell_type": "code",
      "metadata": {
        "colab": {
          "base_uri": "https://localhost:8080/",
          "height": 297
        },
        "id": "evtIkYzffmJX",
        "outputId": "56d47731-0d0c-4e7d-9d75-5d27dea307b1"
      },
      "source": [
        "\n",
        "\n",
        "\n",
        "df=train.copy()\n",
        "df1=train.groupby(['dow','holiday_flg'])['visitors'].mean().reset_index()\n",
        "df1.head()\n",
        "sns.scatterplot(x=\"dow\", y=\"visitors\", hue='holiday_flg' ,data=df1)\n"
      ],
      "execution_count": 170,
      "outputs": [
        {
          "output_type": "execute_result",
          "data": {
            "text/plain": [
              "<matplotlib.axes._subplots.AxesSubplot at 0x7f1a76970050>"
            ]
          },
          "metadata": {
            "tags": []
          },
          "execution_count": 170
        },
        {
          "output_type": "display_data",
          "data": {
            "image/png": "[encoded data removed]",
            "text/plain": [
              "<Figure size 432x288 with 1 Axes>"
            ]
          },
          "metadata": {
            "tags": [],
            "needs_background": "light"
          }
        }
      ]
    },
    {
      "cell_type": "markdown",
      "metadata": {
        "id": "qAlGc3surwyR"
      },
      "source": [
        ""
      ]
    }
  ]
}