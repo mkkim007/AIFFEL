{
  "nbformat": 4,
  "nbformat_minor": 0,
  "metadata": {
    "colab": {
      "name": "Restaurant Visitor Forecasting EDA train.ipynb",
      "provenance": [],
      "collapsed_sections": [],
      "authorship_tag": "ABX9TyNfKvzNML8oKtwmQNC/AmSA",
      "include_colab_link": true
    },
    "kernelspec": {
      "name": "python3",
      "display_name": "Python 3"
    },
    "language_info": {
      "name": "python"
    }
  },
  "cells": [
    {
      "cell_type": "markdown",
      "metadata": {
        "id": "view-in-github",
        "colab_type": "text"
      },
      "source": [
        "<a href=\"https://colab.research.google.com/github/mkkim007/AIFFEL/blob/main/mkkim/Restaurant_Visitor_Forecasting_EDA_train.ipynb\" target=\"_parent\"><img src=\"https://colab.research.google.com/assets/colab-badge.svg\" alt=\"Open In Colab\"/></a>"
      ]
    },
    {
      "cell_type": "code",
      "metadata": {
        "colab": {
          "base_uri": "https://localhost:8080/"
        },
        "id": "ijCPeRv27rTB",
        "outputId": "0cddbf39-02c6-44d1-d7fc-cfc1535556d4"
      },
      "source": [
        "from google.colab import drive\n",
        "drive.mount('/content/gdrive')"
      ],
      "execution_count": 1,
      "outputs": [
        {
          "output_type": "stream",
          "text": [
            "Mounted at /content/gdrive\n"
          ],
          "name": "stdout"
        }
      ]
    },
    {
      "cell_type": "code",
      "metadata": {
        "id": "NekCY9Og8w_c"
      },
      "source": [
        "!cp /content/gdrive/MyDrive/Data/recruit-restaurant-visitor-forecasting.zip /content/"
      ],
      "execution_count": 2,
      "outputs": []
    },
    {
      "cell_type": "code",
      "metadata": {
        "id": "Ot3WLGq481cQ"
      },
      "source": [
        "!unzip -qq /content/recruit-restaurant-visitor-forecasting.zip"
      ],
      "execution_count": 3,
      "outputs": []
    },
    {
      "cell_type": "code",
      "metadata": {
        "id": "3dupMdEK7fPB"
      },
      "source": [
        "import warnings\n",
        "warnings.filterwarnings(\"ignore\")\n",
        "\n",
        "import time\n",
        "import numpy as np\n",
        "import pandas as pd\n",
        "from dateutil.parser import parse\n",
        "import datetime\n",
        "from datetime import date, timedelta\n",
        "from sklearn.preprocessing import LabelEncoder\n",
        "\n",
        "import missingno as msno\n",
        "\n",
        "from sklearn.ensemble import GradientBoostingRegressor\n",
        "from sklearn.model_selection import KFold, cross_val_score\n",
        "import xgboost as xgb\n",
        "import lightgbm as lgb\n",
        "from scipy.stats import norm #Analysis \n",
        "from scipy import stats #Analysis \n",
        "import scipy as sp\n",
        "from sklearn.preprocessing import StandardScaler #Analysis \n",
        "import matplotlib.pyplot as plt\n",
        "import seaborn as sns\n",
        "import gc\n",
        "\n",
        "from sklearn.model_selection import KFold\n",
        "from sklearn.model_selection import train_test_split\n",
        "from sklearn.model_selection import cross_val_score , cross_validate"
      ],
      "execution_count": 1,
      "outputs": []
    },
    {
      "cell_type": "code",
      "metadata": {
        "id": "hVzaMMbVswqQ"
      },
      "source": [
        "data_path = '../content/'\n",
        "air_reserve = pd.read_csv(data_path + 'air_reserve.csv.zip').rename(columns={'air_store_id':'store_id'})\n",
        "hpg_reserve = pd.read_csv(data_path + 'hpg_reserve.csv.zip').rename(columns={'hpg_store_id':'store_id'})\n",
        "air_store = pd.read_csv(data_path + 'air_store_info.csv.zip').rename(columns={'air_store_id':'store_id'})\n",
        "hpg_store = pd.read_csv(data_path + 'hpg_store_info.csv.zip').rename(columns={'hpg_store_id':'store_id'})\n",
        "air_visit = pd.read_csv(data_path + 'air_visit_data.csv.zip').rename(columns={'air_store_id':'store_id'})\n",
        "store_id_map = pd.read_csv(data_path + 'store_id_relation.csv.zip').set_index('hpg_store_id',drop=False)\n",
        "date_info = pd.read_csv(data_path + 'date_info.csv.zip').rename(columns={'calendar_date': 'visit_date'}).drop('day_of_week',axis=1)\n",
        "submission = pd.read_csv(data_path + 'sample_submission.csv.zip')"
      ],
      "execution_count": 2,
      "outputs": []
    },
    {
      "cell_type": "code",
      "metadata": {
        "id": "7cy88jDDc3_f"
      },
      "source": [
        "submission['visit_date'] = submission['id'].str[-10:]\n",
        "submission['store_id'] = submission['id'].str[:-11]\n",
        "air_reserve['visit_date'] = air_reserve['visit_datetime'].str[:10]\n",
        "air_reserve['reserve_date'] = air_reserve['reserve_datetime'].str[:10]\n",
        "air_reserve['dow'] = pd.to_datetime(air_reserve['visit_date']).dt.dayofweek\n",
        "hpg_reserve['visit_date'] = hpg_reserve['visit_datetime'].str[:10]\n",
        "hpg_reserve['reserve_date'] = hpg_reserve['reserve_datetime'].str[:10]\n",
        "hpg_reserve['dow'] = pd.to_datetime(hpg_reserve['visit_date']).dt.dayofweek\n",
        "air_visit['id'] = air_visit['store_id'] + '_' + air_visit['visit_date']\n",
        "hpg_reserve['store_id'] = hpg_reserve['store_id'].map(store_id_map['air_store_id']).fillna(hpg_reserve['store_id'])\n",
        "hpg_store['store_id'] = hpg_store['store_id'].map(store_id_map['air_store_id']).fillna(hpg_store['store_id'])\n",
        "hpg_store.rename(columns={'hpg_genre_name':'air_genre_name','hpg_area_name':'air_area_name'},inplace=True)\n",
        "data = pd.concat([air_visit, submission]).copy()\n",
        "data['dow'] = pd.to_datetime(data['visit_date']).dt.dayofweek\n",
        "date_info['holiday_flg2'] = pd.to_datetime(date_info['visit_date']).dt.dayofweek\n",
        "date_info['holiday_flg2'] = ((date_info['holiday_flg2']>4) | (date_info['holiday_flg']==1)).astype(int)\n",
        "\n",
        "air_store['air_area_name0'] = air_store['air_area_name'].apply(lambda x: x.split(' ')[0])\n",
        "\n",
        "lbl = LabelEncoder()\n",
        "air_store['air_genre_name'] = lbl.fit_transform(air_store['air_genre_name'])\n",
        "air_store['air_area_name0'] = lbl.fit_transform(air_store['air_area_name0'])\n",
        "\n",
        "data['visitors'] = np.log1p(data['visitors'])\n",
        "data = data.merge(air_store,on='store_id',how='left')\n",
        "data = data.merge(date_info[['visit_date','holiday_flg','holiday_flg2']], on=['visit_date'],how='left')"
      ],
      "execution_count": 3,
      "outputs": []
    },
    {
      "cell_type": "code",
      "metadata": {
        "colab": {
          "base_uri": "https://localhost:8080/"
        },
        "id": "YUV_kZBuBbLL",
        "outputId": "bd37e22c-4f8c-451a-fd60-fc9a0e675a50"
      },
      "source": [
        "air_store['air_area_name1'] = air_store['air_area_name'].apply(lambda x: ' '.join(x.split(' ')[:2]))\n",
        "air_store['air_area_name1'] = lbl.fit_transform(air_store['air_area_name1'])\n",
        "len(pd.unique(air_store['air_area_name1']))"
      ],
      "execution_count": 4,
      "outputs": [
        {
          "output_type": "execute_result",
          "data": {
            "text/plain": [
              "55"
            ]
          },
          "metadata": {
            "tags": []
          },
          "execution_count": 4
        }
      ]
    },
    {
      "cell_type": "code",
      "metadata": {
        "id": "Lq7osMJyCx-q"
      },
      "source": [
        "air_store[['store_id','air_area_name1']]\n",
        "data = data.merge(air_store[['store_id','air_area_name1']],on='store_id',how='left')"
      ],
      "execution_count": 5,
      "outputs": []
    },
    {
      "cell_type": "code",
      "metadata": {
        "id": "1sJk_Gi5DdIi"
      },
      "source": [
        "data['month'] = pd.to_datetime(data['visit_date']).dt.month"
      ],
      "execution_count": 6,
      "outputs": []
    },
    {
      "cell_type": "code",
      "metadata": {
        "id": "z6GOIboHDhEp"
      },
      "source": [
        "data['expansion_after'] =((pd.to_datetime(data['visit_date']).dt.year >= 2016) | (pd.to_datetime(data['visit_date']).dt.month >= 7)).astype(int)\n"
      ],
      "execution_count": 7,
      "outputs": []
    },
    {
      "cell_type": "code",
      "metadata": {
        "colab": {
          "base_uri": "https://localhost:8080/",
          "height": 394
        },
        "id": "ubi-dvVx3VMy",
        "outputId": "ccd11e6c-4c39-4228-faa5-63638cb8c5f9"
      },
      "source": [
        "data.tail()"
      ],
      "execution_count": 8,
      "outputs": [
        {
          "output_type": "execute_result",
          "data": {
            "text/html": [
              "<div>\n",
              "<style scoped>\n",
              "    .dataframe tbody tr th:only-of-type {\n",
              "        vertical-align: middle;\n",
              "    }\n",
              "\n",
              "    .dataframe tbody tr th {\n",
              "        vertical-align: top;\n",
              "    }\n",
              "\n",
              "    .dataframe thead th {\n",
              "        text-align: right;\n",
              "    }\n",
              "</style>\n",
              "<table border=\"1\" class=\"dataframe\">\n",
              "  <thead>\n",
              "    <tr style=\"text-align: right;\">\n",
              "      <th></th>\n",
              "      <th>store_id</th>\n",
              "      <th>visit_date</th>\n",
              "      <th>visitors</th>\n",
              "      <th>id</th>\n",
              "      <th>dow</th>\n",
              "      <th>air_genre_name</th>\n",
              "      <th>air_area_name</th>\n",
              "      <th>latitude</th>\n",
              "      <th>longitude</th>\n",
              "      <th>air_area_name0</th>\n",
              "      <th>holiday_flg</th>\n",
              "      <th>holiday_flg2</th>\n",
              "      <th>air_area_name1</th>\n",
              "      <th>month</th>\n",
              "      <th>expansion_after</th>\n",
              "    </tr>\n",
              "  </thead>\n",
              "  <tbody>\n",
              "    <tr>\n",
              "      <th>284122</th>\n",
              "      <td>air_fff68b929994bfbd</td>\n",
              "      <td>2017-05-27</td>\n",
              "      <td>0.0</td>\n",
              "      <td>air_fff68b929994bfbd_2017-05-27</td>\n",
              "      <td>5</td>\n",
              "      <td>1</td>\n",
              "      <td>Tōkyō-to Nakano-ku Nakano</td>\n",
              "      <td>35.708146</td>\n",
              "      <td>139.666288</td>\n",
              "      <td>7</td>\n",
              "      <td>0</td>\n",
              "      <td>1</td>\n",
              "      <td>39</td>\n",
              "      <td>5</td>\n",
              "      <td>1</td>\n",
              "    </tr>\n",
              "    <tr>\n",
              "      <th>284123</th>\n",
              "      <td>air_fff68b929994bfbd</td>\n",
              "      <td>2017-05-28</td>\n",
              "      <td>0.0</td>\n",
              "      <td>air_fff68b929994bfbd_2017-05-28</td>\n",
              "      <td>6</td>\n",
              "      <td>1</td>\n",
              "      <td>Tōkyō-to Nakano-ku Nakano</td>\n",
              "      <td>35.708146</td>\n",
              "      <td>139.666288</td>\n",
              "      <td>7</td>\n",
              "      <td>0</td>\n",
              "      <td>1</td>\n",
              "      <td>39</td>\n",
              "      <td>5</td>\n",
              "      <td>1</td>\n",
              "    </tr>\n",
              "    <tr>\n",
              "      <th>284124</th>\n",
              "      <td>air_fff68b929994bfbd</td>\n",
              "      <td>2017-05-29</td>\n",
              "      <td>0.0</td>\n",
              "      <td>air_fff68b929994bfbd_2017-05-29</td>\n",
              "      <td>0</td>\n",
              "      <td>1</td>\n",
              "      <td>Tōkyō-to Nakano-ku Nakano</td>\n",
              "      <td>35.708146</td>\n",
              "      <td>139.666288</td>\n",
              "      <td>7</td>\n",
              "      <td>0</td>\n",
              "      <td>0</td>\n",
              "      <td>39</td>\n",
              "      <td>5</td>\n",
              "      <td>1</td>\n",
              "    </tr>\n",
              "    <tr>\n",
              "      <th>284125</th>\n",
              "      <td>air_fff68b929994bfbd</td>\n",
              "      <td>2017-05-30</td>\n",
              "      <td>0.0</td>\n",
              "      <td>air_fff68b929994bfbd_2017-05-30</td>\n",
              "      <td>1</td>\n",
              "      <td>1</td>\n",
              "      <td>Tōkyō-to Nakano-ku Nakano</td>\n",
              "      <td>35.708146</td>\n",
              "      <td>139.666288</td>\n",
              "      <td>7</td>\n",
              "      <td>0</td>\n",
              "      <td>0</td>\n",
              "      <td>39</td>\n",
              "      <td>5</td>\n",
              "      <td>1</td>\n",
              "    </tr>\n",
              "    <tr>\n",
              "      <th>284126</th>\n",
              "      <td>air_fff68b929994bfbd</td>\n",
              "      <td>2017-05-31</td>\n",
              "      <td>0.0</td>\n",
              "      <td>air_fff68b929994bfbd_2017-05-31</td>\n",
              "      <td>2</td>\n",
              "      <td>1</td>\n",
              "      <td>Tōkyō-to Nakano-ku Nakano</td>\n",
              "      <td>35.708146</td>\n",
              "      <td>139.666288</td>\n",
              "      <td>7</td>\n",
              "      <td>0</td>\n",
              "      <td>0</td>\n",
              "      <td>39</td>\n",
              "      <td>5</td>\n",
              "      <td>1</td>\n",
              "    </tr>\n",
              "  </tbody>\n",
              "</table>\n",
              "</div>"
            ],
            "text/plain": [
              "                    store_id  visit_date  ...  month expansion_after\n",
              "284122  air_fff68b929994bfbd  2017-05-27  ...      5               1\n",
              "284123  air_fff68b929994bfbd  2017-05-28  ...      5               1\n",
              "284124  air_fff68b929994bfbd  2017-05-29  ...      5               1\n",
              "284125  air_fff68b929994bfbd  2017-05-30  ...      5               1\n",
              "284126  air_fff68b929994bfbd  2017-05-31  ...      5               1\n",
              "\n",
              "[5 rows x 15 columns]"
            ]
          },
          "metadata": {
            "tags": []
          },
          "execution_count": 8
        }
      ]
    },
    {
      "cell_type": "markdown",
      "metadata": {
        "id": "LXt5eQ2Mrvt9"
      },
      "source": [
        "#1. data 정제하기  "
      ]
    },
    {
      "cell_type": "code",
      "metadata": {
        "id": "GOlpJ5l6FoIV"
      },
      "source": [
        "train_size = len(air_visit)\n",
        "test = data[train_size:]\n",
        "\n",
        "restaurant = data.drop(\"latitude\", axis=1).copy()\n",
        "restaurant.drop(\"longitude\", axis=1, inplace=True)\n",
        "restaurant.drop(\"visit_date\", axis=1, inplace=True)\n",
        "restaurant.drop(\"id\", axis=1, inplace=True)\n",
        "restaurant.drop(\"store_id\", axis=1, inplace=True)\n",
        "restaurant.drop(\"air_area_name\", axis=1, inplace=True)\n",
        "restaurant.drop(\"air_area_name0\", axis=1, inplace=True)\n",
        "\n",
        "\n",
        "train_data = restaurant[:train_size]\n",
        "test_data = restaurant[train_size:]\n",
        "\n",
        "\n",
        "\n",
        "y_train = train_data[\"visitors\"].copy()\n",
        "X_train=train_data.drop(\"visitors\", axis=1).copy() \n",
        "\n",
        "X_test = test_data.drop(\"visitors\", axis=1)\n",
        "\n"
      ],
      "execution_count": 16,
      "outputs": []
    },
    {
      "cell_type": "code",
      "metadata": {
        "colab": {
          "base_uri": "https://localhost:8080/",
          "height": 439
        },
        "id": "wT1AcEv9UXk6",
        "outputId": "ab6240b2-f519-45d6-b294-f46a6acd070c"
      },
      "source": [
        "X_train"
      ],
      "execution_count": 119,
      "outputs": [
        {
          "output_type": "execute_result",
          "data": {
            "text/html": [
              "<div>\n",
              "<style scoped>\n",
              "    .dataframe tbody tr th:only-of-type {\n",
              "        vertical-align: middle;\n",
              "    }\n",
              "\n",
              "    .dataframe tbody tr th {\n",
              "        vertical-align: top;\n",
              "    }\n",
              "\n",
              "    .dataframe thead th {\n",
              "        text-align: right;\n",
              "    }\n",
              "</style>\n",
              "<table border=\"1\" class=\"dataframe\">\n",
              "  <thead>\n",
              "    <tr style=\"text-align: right;\">\n",
              "      <th></th>\n",
              "      <th>dow</th>\n",
              "      <th>air_genre_name</th>\n",
              "      <th>holiday_flg</th>\n",
              "      <th>holiday_flg2</th>\n",
              "      <th>air_area_name1</th>\n",
              "      <th>month</th>\n",
              "      <th>expansion_after</th>\n",
              "    </tr>\n",
              "  </thead>\n",
              "  <tbody>\n",
              "    <tr>\n",
              "      <th>0</th>\n",
              "      <td>2</td>\n",
              "      <td>4</td>\n",
              "      <td>0</td>\n",
              "      <td>0</td>\n",
              "      <td>37</td>\n",
              "      <td>1</td>\n",
              "      <td>1</td>\n",
              "    </tr>\n",
              "    <tr>\n",
              "      <th>1</th>\n",
              "      <td>3</td>\n",
              "      <td>4</td>\n",
              "      <td>0</td>\n",
              "      <td>0</td>\n",
              "      <td>37</td>\n",
              "      <td>1</td>\n",
              "      <td>1</td>\n",
              "    </tr>\n",
              "    <tr>\n",
              "      <th>2</th>\n",
              "      <td>4</td>\n",
              "      <td>4</td>\n",
              "      <td>0</td>\n",
              "      <td>0</td>\n",
              "      <td>37</td>\n",
              "      <td>1</td>\n",
              "      <td>1</td>\n",
              "    </tr>\n",
              "    <tr>\n",
              "      <th>3</th>\n",
              "      <td>5</td>\n",
              "      <td>4</td>\n",
              "      <td>0</td>\n",
              "      <td>1</td>\n",
              "      <td>37</td>\n",
              "      <td>1</td>\n",
              "      <td>1</td>\n",
              "    </tr>\n",
              "    <tr>\n",
              "      <th>4</th>\n",
              "      <td>0</td>\n",
              "      <td>4</td>\n",
              "      <td>0</td>\n",
              "      <td>0</td>\n",
              "      <td>37</td>\n",
              "      <td>1</td>\n",
              "      <td>1</td>\n",
              "    </tr>\n",
              "    <tr>\n",
              "      <th>...</th>\n",
              "      <td>...</td>\n",
              "      <td>...</td>\n",
              "      <td>...</td>\n",
              "      <td>...</td>\n",
              "      <td>...</td>\n",
              "      <td>...</td>\n",
              "      <td>...</td>\n",
              "    </tr>\n",
              "    <tr>\n",
              "      <th>252103</th>\n",
              "      <td>1</td>\n",
              "      <td>11</td>\n",
              "      <td>0</td>\n",
              "      <td>0</td>\n",
              "      <td>42</td>\n",
              "      <td>4</td>\n",
              "      <td>1</td>\n",
              "    </tr>\n",
              "    <tr>\n",
              "      <th>252104</th>\n",
              "      <td>2</td>\n",
              "      <td>11</td>\n",
              "      <td>0</td>\n",
              "      <td>0</td>\n",
              "      <td>42</td>\n",
              "      <td>4</td>\n",
              "      <td>1</td>\n",
              "    </tr>\n",
              "    <tr>\n",
              "      <th>252105</th>\n",
              "      <td>3</td>\n",
              "      <td>11</td>\n",
              "      <td>0</td>\n",
              "      <td>0</td>\n",
              "      <td>42</td>\n",
              "      <td>4</td>\n",
              "      <td>1</td>\n",
              "    </tr>\n",
              "    <tr>\n",
              "      <th>252106</th>\n",
              "      <td>4</td>\n",
              "      <td>11</td>\n",
              "      <td>0</td>\n",
              "      <td>0</td>\n",
              "      <td>42</td>\n",
              "      <td>4</td>\n",
              "      <td>1</td>\n",
              "    </tr>\n",
              "    <tr>\n",
              "      <th>252107</th>\n",
              "      <td>5</td>\n",
              "      <td>11</td>\n",
              "      <td>0</td>\n",
              "      <td>1</td>\n",
              "      <td>42</td>\n",
              "      <td>4</td>\n",
              "      <td>1</td>\n",
              "    </tr>\n",
              "  </tbody>\n",
              "</table>\n",
              "<p>252108 rows × 7 columns</p>\n",
              "</div>"
            ],
            "text/plain": [
              "        dow  air_genre_name  ...  month  expansion_after\n",
              "0         2               4  ...      1                1\n",
              "1         3               4  ...      1                1\n",
              "2         4               4  ...      1                1\n",
              "3         5               4  ...      1                1\n",
              "4         0               4  ...      1                1\n",
              "...     ...             ...  ...    ...              ...\n",
              "252103    1              11  ...      4                1\n",
              "252104    2              11  ...      4                1\n",
              "252105    3              11  ...      4                1\n",
              "252106    4              11  ...      4                1\n",
              "252107    5              11  ...      4                1\n",
              "\n",
              "[252108 rows x 7 columns]"
            ]
          },
          "metadata": {
            "tags": []
          },
          "execution_count": 119
        }
      ]
    },
    {
      "cell_type": "markdown",
      "metadata": {
        "id": "lQXCJS3Tr_jD"
      },
      "source": [
        "# 2. Train "
      ]
    },
    {
      "cell_type": "markdown",
      "metadata": {
        "id": "88WAQ0FGspWq"
      },
      "source": [
        "## 2.1 Gradient Boosting"
      ]
    },
    {
      "cell_type": "code",
      "metadata": {
        "id": "qQl1H_kKr_DQ"
      },
      "source": [
        "from sklearn.ensemble import GradientBoostingRegressor\n",
        "GBR = GradientBoostingRegressor(learning_rate=0.2, random_state=3, n_estimators=200, subsample=0.8, max_depth =10)\n",
        "GBR.fit(X_train, y_train)\n",
        "\n",
        "predict=GBR.predict(X_test) # 0.7361"
      ],
      "execution_count": 146,
      "outputs": []
    },
    {
      "cell_type": "code",
      "metadata": {
        "colab": {
          "base_uri": "https://localhost:8080/"
        },
        "id": "0j664oYnuN12",
        "outputId": "b1fd7138-08af-4f56-b64b-56da6da460ce"
      },
      "source": [
        "print('교차 검증별 정확도:',np.round(scores, 4))\n",
        "print('평균 검증 정확도:', np.round(np.mean(scores), 4))"
      ],
      "execution_count": 121,
      "outputs": [
        {
          "output_type": "stream",
          "text": [
            "교차 검증별 정확도: [nan nan nan nan nan]\n",
            "평균 검증 정확도: nan\n"
          ],
          "name": "stdout"
        }
      ]
    },
    {
      "cell_type": "code",
      "metadata": {
        "id": "96sL8E4IzP8J"
      },
      "source": [
        "from sklearn.neighbors import KNeighborsRegressor\n",
        "KNR = KNeighborsRegressor(n_jobs=-1, n_neighbors=4)\n",
        "KNR.fit(X_train, y_train)\n",
        "\n",
        "predict=KNR.predict(X_test) # 0.82510"
      ],
      "execution_count": 131,
      "outputs": []
    },
    {
      "cell_type": "code",
      "metadata": {
        "colab": {
          "base_uri": "https://localhost:8080/"
        },
        "id": "OlRX2VdrGcae",
        "outputId": "cd171243-a9f3-4a96-f33c-f087501a9ae3"
      },
      "source": [
        "from xgboost import XGBRegressor\n",
        "XGB = XGBRegressor(learning_rate=0.2, random_state=3, n_estimators=280, subsample=0.8, \n",
        "                      colsample_bytree=0.8, max_depth =12)\n",
        "XGB.fit(X_train, y_train)\n",
        "predict=XGB.predict(X_test) # 0.7368"
      ],
      "execution_count": 135,
      "outputs": [
        {
          "output_type": "stream",
          "text": [
            "[05:35:59] WARNING: /workspace/src/objective/regression_obj.cu:152: reg:linear is now deprecated in favor of reg:squarederror.\n"
          ],
          "name": "stdout"
        }
      ]
    },
    {
      "cell_type": "code",
      "metadata": {
        "id": "IcPOvvJPNCN1"
      },
      "source": [
        "from sklearn.model_selection import cross_val_score, KFold\n",
        "scores = cross_val_score(dt_clf , data , label , scoring='accuracy',cv=3)"
      ],
      "execution_count": 96,
      "outputs": []
    },
    {
      "cell_type": "code",
      "metadata": {
        "id": "JbnfnkmdPua7"
      },
      "source": [
        "import lightgbm as lgb\n",
        "lgb_train = lgb.Dataset(X_train, y_train)\n",
        "test\n",
        "params = {\n",
        "    \n",
        "}\n",
        "params['learning_rate'] = 0.003\n",
        "params['boosting_type'] = 'gbdt'\n",
        "params['objective'] = 'regression'\n",
        "params['metric'] = 'mse'\n",
        "params['sub_feature'] = 0.5\n",
        "params['num_leaves'] = 10\n",
        "params['min_data'] = 50\n",
        "params['max_depth'] = 10\n",
        "gbm = lgb.train(params,lgb_train,2300)\n",
        "predict = gbm.predict(X_test)  #0.78211\n",
        "\n"
      ],
      "execution_count": 142,
      "outputs": []
    },
    {
      "cell_type": "markdown",
      "metadata": {
        "id": "5boPWKA7Ossj"
      },
      "source": [
        "# 그리드 서치"
      ]
    },
    {
      "cell_type": "code",
      "metadata": {
        "colab": {
          "base_uri": "https://localhost:8080/"
        },
        "id": "UzvImroeO0Vq",
        "outputId": "e17e5206-9007-4909-aac4-dbf2d5eb651a"
      },
      "source": [
        "from lightgbm import LGBMRegressor\n",
        "from sklearn.model_selection import GridSearchCV\n",
        "LGBM = LGBMRegressor()\n",
        "param_grid = {\n",
        "    'learning rate': [1,0.1, 0.001, 0.003],\n",
        "    'boosting_type': ['gbdt', 'rf'],\n",
        "    'max_bin' : [10, 100, 100],\n",
        "    'num_leaves': [10, 31, 127],\n",
        "    \n",
        "    \n",
        "}\n",
        "gbm = GridSearchCV(estimator=clf, param_grid=param_grid)\n",
        "gbm.fit(X_train, y_train)"
      ],
      "execution_count": 21,
      "outputs": [
        {
          "output_type": "execute_result",
          "data": {
            "text/plain": [
              "GridSearchCV(cv=None, error_score=nan,\n",
              "             estimator=LGBMRegressor(boosting_type='gbdt', class_weight=None,\n",
              "                                     colsample_bytree=1.0,\n",
              "                                     importance_type='split', learning_rate=0.1,\n",
              "                                     max_depth=-1, min_child_samples=20,\n",
              "                                     min_child_weight=0.001, min_split_gain=0.0,\n",
              "                                     n_estimators=100, n_jobs=-1, num_leaves=31,\n",
              "                                     objective=None, random_state=None,\n",
              "                                     reg_alpha=0.0, reg_lambda=0.0, silent=True,\n",
              "                                     subsample=1.0, subsample_for_bin=200000,\n",
              "                                     subsample_freq=0),\n",
              "             iid='deprecated', n_jobs=None,\n",
              "             param_grid={'boosting_type': ['gbdt', 'rf'],\n",
              "                         'learning rate': [0.1, 0.001, 0.003],\n",
              "                         'max_bin': [10, 100, 100],\n",
              "                         'num_leaves': [10, 31, 127]},\n",
              "             pre_dispatch='2*n_jobs', refit=True, return_train_score=False,\n",
              "             scoring=None, verbose=0)"
            ]
          },
          "metadata": {
            "tags": []
          },
          "execution_count": 21
        }
      ]
    },
    {
      "cell_type": "code",
      "metadata": {
        "colab": {
          "base_uri": "https://localhost:8080/"
        },
        "id": "ffFMj-hIKceD",
        "outputId": "1e704f5a-598e-475b-d8cd-0392a317cb51"
      },
      "source": [
        "print('best parameters : ', gbm.best_params_)\n",
        "print('best score : ', gbm.best_score_)"
      ],
      "execution_count": 22,
      "outputs": [
        {
          "output_type": "stream",
          "text": [
            "best parameters :  {'boosting_type': 'gbdt', 'learning rate': 0.1, 'max_bin': 10, 'num_leaves': 10}\n",
            "best score :  0.054162385346636824\n"
          ],
          "name": "stdout"
        }
      ]
    },
    {
      "cell_type": "code",
      "metadata": {
        "id": "0BIrRPxGLZ1B"
      },
      "source": [
        "LGBM=gbm.best_estimator_\n",
        "predict = gbm.predict(X_test)  #0.78389"
      ],
      "execution_count": 26,
      "outputs": []
    },
    {
      "cell_type": "markdown",
      "metadata": {
        "id": "JsCx3GcxuuFY"
      },
      "source": [
        "# 3. submission"
      ]
    },
    {
      "cell_type": "code",
      "metadata": {
        "colab": {
          "base_uri": "https://localhost:8080/"
        },
        "id": "g1fp4976wP7Q",
        "outputId": "4567e8d1-f98b-4398-b892-f2cce419df52"
      },
      "source": [
        "predict"
      ],
      "execution_count": 28,
      "outputs": [
        {
          "output_type": "execute_result",
          "data": {
            "text/plain": [
              "array([2.98269092, 2.7670509 , 2.84917391, ..., 2.04262467, 2.14783666,\n",
              "       2.18055248])"
            ]
          },
          "metadata": {
            "tags": []
          },
          "execution_count": 28
        }
      ]
    },
    {
      "cell_type": "code",
      "metadata": {
        "colab": {
          "base_uri": "https://localhost:8080/",
          "height": 779
        },
        "id": "UUbCNOrwutvt",
        "outputId": "0880129f-8957-4750-c7f9-6799d49d5ce6"
      },
      "source": [
        "test['visitors'] = predict\n",
        "test['visitors'] = np.expm1(test['visitors']).clip(lower=0.)\n",
        "test"
      ],
      "execution_count": 29,
      "outputs": [
        {
          "output_type": "execute_result",
          "data": {
            "text/html": [
              "<div>\n",
              "<style scoped>\n",
              "    .dataframe tbody tr th:only-of-type {\n",
              "        vertical-align: middle;\n",
              "    }\n",
              "\n",
              "    .dataframe tbody tr th {\n",
              "        vertical-align: top;\n",
              "    }\n",
              "\n",
              "    .dataframe thead th {\n",
              "        text-align: right;\n",
              "    }\n",
              "</style>\n",
              "<table border=\"1\" class=\"dataframe\">\n",
              "  <thead>\n",
              "    <tr style=\"text-align: right;\">\n",
              "      <th></th>\n",
              "      <th>store_id</th>\n",
              "      <th>visit_date</th>\n",
              "      <th>visitors</th>\n",
              "      <th>id</th>\n",
              "      <th>dow</th>\n",
              "      <th>air_genre_name</th>\n",
              "      <th>air_area_name</th>\n",
              "      <th>latitude</th>\n",
              "      <th>longitude</th>\n",
              "      <th>air_area_name0</th>\n",
              "      <th>holiday_flg</th>\n",
              "      <th>holiday_flg2</th>\n",
              "      <th>air_area_name1</th>\n",
              "      <th>month</th>\n",
              "      <th>expansion_after</th>\n",
              "    </tr>\n",
              "  </thead>\n",
              "  <tbody>\n",
              "    <tr>\n",
              "      <th>252108</th>\n",
              "      <td>air_00a91d42b08b08d9</td>\n",
              "      <td>2017-04-23</td>\n",
              "      <td>18.740866</td>\n",
              "      <td>air_00a91d42b08b08d9_2017-04-23</td>\n",
              "      <td>6</td>\n",
              "      <td>6</td>\n",
              "      <td>Tōkyō-to Chiyoda-ku Kudanminami</td>\n",
              "      <td>35.694003</td>\n",
              "      <td>139.753595</td>\n",
              "      <td>7</td>\n",
              "      <td>0</td>\n",
              "      <td>1</td>\n",
              "      <td>26</td>\n",
              "      <td>4</td>\n",
              "      <td>1</td>\n",
              "    </tr>\n",
              "    <tr>\n",
              "      <th>252109</th>\n",
              "      <td>air_00a91d42b08b08d9</td>\n",
              "      <td>2017-04-24</td>\n",
              "      <td>14.911640</td>\n",
              "      <td>air_00a91d42b08b08d9_2017-04-24</td>\n",
              "      <td>0</td>\n",
              "      <td>6</td>\n",
              "      <td>Tōkyō-to Chiyoda-ku Kudanminami</td>\n",
              "      <td>35.694003</td>\n",
              "      <td>139.753595</td>\n",
              "      <td>7</td>\n",
              "      <td>0</td>\n",
              "      <td>0</td>\n",
              "      <td>26</td>\n",
              "      <td>4</td>\n",
              "      <td>1</td>\n",
              "    </tr>\n",
              "    <tr>\n",
              "      <th>252110</th>\n",
              "      <td>air_00a91d42b08b08d9</td>\n",
              "      <td>2017-04-25</td>\n",
              "      <td>16.273506</td>\n",
              "      <td>air_00a91d42b08b08d9_2017-04-25</td>\n",
              "      <td>1</td>\n",
              "      <td>6</td>\n",
              "      <td>Tōkyō-to Chiyoda-ku Kudanminami</td>\n",
              "      <td>35.694003</td>\n",
              "      <td>139.753595</td>\n",
              "      <td>7</td>\n",
              "      <td>0</td>\n",
              "      <td>0</td>\n",
              "      <td>26</td>\n",
              "      <td>4</td>\n",
              "      <td>1</td>\n",
              "    </tr>\n",
              "    <tr>\n",
              "      <th>252111</th>\n",
              "      <td>air_00a91d42b08b08d9</td>\n",
              "      <td>2017-04-26</td>\n",
              "      <td>18.072686</td>\n",
              "      <td>air_00a91d42b08b08d9_2017-04-26</td>\n",
              "      <td>2</td>\n",
              "      <td>6</td>\n",
              "      <td>Tōkyō-to Chiyoda-ku Kudanminami</td>\n",
              "      <td>35.694003</td>\n",
              "      <td>139.753595</td>\n",
              "      <td>7</td>\n",
              "      <td>0</td>\n",
              "      <td>0</td>\n",
              "      <td>26</td>\n",
              "      <td>4</td>\n",
              "      <td>1</td>\n",
              "    </tr>\n",
              "    <tr>\n",
              "      <th>252112</th>\n",
              "      <td>air_00a91d42b08b08d9</td>\n",
              "      <td>2017-04-27</td>\n",
              "      <td>18.039348</td>\n",
              "      <td>air_00a91d42b08b08d9_2017-04-27</td>\n",
              "      <td>3</td>\n",
              "      <td>6</td>\n",
              "      <td>Tōkyō-to Chiyoda-ku Kudanminami</td>\n",
              "      <td>35.694003</td>\n",
              "      <td>139.753595</td>\n",
              "      <td>7</td>\n",
              "      <td>0</td>\n",
              "      <td>0</td>\n",
              "      <td>26</td>\n",
              "      <td>4</td>\n",
              "      <td>1</td>\n",
              "    </tr>\n",
              "    <tr>\n",
              "      <th>...</th>\n",
              "      <td>...</td>\n",
              "      <td>...</td>\n",
              "      <td>...</td>\n",
              "      <td>...</td>\n",
              "      <td>...</td>\n",
              "      <td>...</td>\n",
              "      <td>...</td>\n",
              "      <td>...</td>\n",
              "      <td>...</td>\n",
              "      <td>...</td>\n",
              "      <td>...</td>\n",
              "      <td>...</td>\n",
              "      <td>...</td>\n",
              "      <td>...</td>\n",
              "      <td>...</td>\n",
              "    </tr>\n",
              "    <tr>\n",
              "      <th>284122</th>\n",
              "      <td>air_fff68b929994bfbd</td>\n",
              "      <td>2017-05-27</td>\n",
              "      <td>12.096508</td>\n",
              "      <td>air_fff68b929994bfbd_2017-05-27</td>\n",
              "      <td>5</td>\n",
              "      <td>1</td>\n",
              "      <td>Tōkyō-to Nakano-ku Nakano</td>\n",
              "      <td>35.708146</td>\n",
              "      <td>139.666288</td>\n",
              "      <td>7</td>\n",
              "      <td>0</td>\n",
              "      <td>1</td>\n",
              "      <td>39</td>\n",
              "      <td>5</td>\n",
              "      <td>1</td>\n",
              "    </tr>\n",
              "    <tr>\n",
              "      <th>284123</th>\n",
              "      <td>air_fff68b929994bfbd</td>\n",
              "      <td>2017-05-28</td>\n",
              "      <td>10.328028</td>\n",
              "      <td>air_fff68b929994bfbd_2017-05-28</td>\n",
              "      <td>6</td>\n",
              "      <td>1</td>\n",
              "      <td>Tōkyō-to Nakano-ku Nakano</td>\n",
              "      <td>35.708146</td>\n",
              "      <td>139.666288</td>\n",
              "      <td>7</td>\n",
              "      <td>0</td>\n",
              "      <td>1</td>\n",
              "      <td>39</td>\n",
              "      <td>5</td>\n",
              "      <td>1</td>\n",
              "    </tr>\n",
              "    <tr>\n",
              "      <th>284124</th>\n",
              "      <td>air_fff68b929994bfbd</td>\n",
              "      <td>2017-05-29</td>\n",
              "      <td>6.710821</td>\n",
              "      <td>air_fff68b929994bfbd_2017-05-29</td>\n",
              "      <td>0</td>\n",
              "      <td>1</td>\n",
              "      <td>Tōkyō-to Nakano-ku Nakano</td>\n",
              "      <td>35.708146</td>\n",
              "      <td>139.666288</td>\n",
              "      <td>7</td>\n",
              "      <td>0</td>\n",
              "      <td>0</td>\n",
              "      <td>39</td>\n",
              "      <td>5</td>\n",
              "      <td>1</td>\n",
              "    </tr>\n",
              "    <tr>\n",
              "      <th>284125</th>\n",
              "      <td>air_fff68b929994bfbd</td>\n",
              "      <td>2017-05-30</td>\n",
              "      <td>7.566306</td>\n",
              "      <td>air_fff68b929994bfbd_2017-05-30</td>\n",
              "      <td>1</td>\n",
              "      <td>1</td>\n",
              "      <td>Tōkyō-to Nakano-ku Nakano</td>\n",
              "      <td>35.708146</td>\n",
              "      <td>139.666288</td>\n",
              "      <td>7</td>\n",
              "      <td>0</td>\n",
              "      <td>0</td>\n",
              "      <td>39</td>\n",
              "      <td>5</td>\n",
              "      <td>1</td>\n",
              "    </tr>\n",
              "    <tr>\n",
              "      <th>284126</th>\n",
              "      <td>air_fff68b929994bfbd</td>\n",
              "      <td>2017-05-31</td>\n",
              "      <td>7.851195</td>\n",
              "      <td>air_fff68b929994bfbd_2017-05-31</td>\n",
              "      <td>2</td>\n",
              "      <td>1</td>\n",
              "      <td>Tōkyō-to Nakano-ku Nakano</td>\n",
              "      <td>35.708146</td>\n",
              "      <td>139.666288</td>\n",
              "      <td>7</td>\n",
              "      <td>0</td>\n",
              "      <td>0</td>\n",
              "      <td>39</td>\n",
              "      <td>5</td>\n",
              "      <td>1</td>\n",
              "    </tr>\n",
              "  </tbody>\n",
              "</table>\n",
              "<p>32019 rows × 15 columns</p>\n",
              "</div>"
            ],
            "text/plain": [
              "                    store_id  visit_date  ...  month expansion_after\n",
              "252108  air_00a91d42b08b08d9  2017-04-23  ...      4               1\n",
              "252109  air_00a91d42b08b08d9  2017-04-24  ...      4               1\n",
              "252110  air_00a91d42b08b08d9  2017-04-25  ...      4               1\n",
              "252111  air_00a91d42b08b08d9  2017-04-26  ...      4               1\n",
              "252112  air_00a91d42b08b08d9  2017-04-27  ...      4               1\n",
              "...                      ...         ...  ...    ...             ...\n",
              "284122  air_fff68b929994bfbd  2017-05-27  ...      5               1\n",
              "284123  air_fff68b929994bfbd  2017-05-28  ...      5               1\n",
              "284124  air_fff68b929994bfbd  2017-05-29  ...      5               1\n",
              "284125  air_fff68b929994bfbd  2017-05-30  ...      5               1\n",
              "284126  air_fff68b929994bfbd  2017-05-31  ...      5               1\n",
              "\n",
              "[32019 rows x 15 columns]"
            ]
          },
          "metadata": {
            "tags": []
          },
          "execution_count": 29
        }
      ]
    },
    {
      "cell_type": "code",
      "metadata": {
        "id": "iJAnXHZzu45Q"
      },
      "source": [
        "sub = test[['id','visitors']].copy()\n",
        "sub.to_csv('submission.csv', index=False)"
      ],
      "execution_count": 30,
      "outputs": []
    },
    {
      "cell_type": "code",
      "metadata": {
        "id": "KEw2sfUPBlLk"
      },
      "source": [
        "import lightgbm as lgb\n",
        "def lightgbm(data):\n",
        "    train_size = len(air_visit)\n",
        "    test = data[train_size:]\n",
        "\n",
        "    restaurant = data.drop(\"latitude\", axis=1).copy()\n",
        "    restaurant.drop(\"longitude\", axis=1, inplace=True)\n",
        "    restaurant.drop(\"visit_date\", axis=1, inplace=True)\n",
        "    restaurant.drop(\"id\", axis=1, inplace=True)\n",
        "    restaurant.drop(\"store_id\", axis=1, inplace=True)\n",
        "    restaurant.drop(\"air_area_name\", axis=1, inplace=True)\n",
        "    restaurant.drop(\"air_area_name0\", axis=1, inplace=True)\n",
        "\n",
        "    train_data = restaurant[:train_size]\n",
        "    test_data = restaurant[train_size:]\n",
        "\n",
        "    y_train = train_data[\"visitors\"].copy()\n",
        "    X_train=train_data.drop(\"visitors\", axis=1).copy() \n",
        "\n",
        "    X_test = test_data.drop(\"visitors\", axis=1)\n",
        "    \n",
        "    lgb_train = lgb.Dataset(X_train, y_train)\n",
        "\n",
        "    params = {}\n",
        "    params['learning_rate'] = 0.003\n",
        "    params['boosting_type'] = 'gbdt'\n",
        "    params['objective'] = 'regression'\n",
        "    params['metric'] = 'mse'\n",
        "    params['sub_feature'] = 0.5\n",
        "    params['num_leaves'] = 10\n",
        "    params['min_data'] = 50\n",
        "    params['max_depth'] = 10\n",
        "    gbm = lgb.train(params,lgb_train,2300)\n",
        "    predict = gbm.predict(X_test)  #0.78211\n",
        "    test['visitors'] = predict\n",
        "    test['visitors'] = np.expm1(test['visitors']).clip(lower=0.)\n",
        "    sub = test[['id','visitors']].copy()\n",
        "    sub.to_csv('submission.csv', index=False)\n",
        "\n"
      ],
      "execution_count": 11,
      "outputs": []
    },
    {
      "cell_type": "code",
      "metadata": {
        "id": "DJMnyxZuHklG"
      },
      "source": [
        "lightgbm(data)"
      ],
      "execution_count": 12,
      "outputs": []
    }
  ]
}