{
  "nbformat": 4,
  "nbformat_minor": 0,
  "metadata": {
    "colab": {
      "name": "[E-06]MyFirstKaggle.ipynb",
      "private_outputs": true,
      "provenance": [],
      "authorship_tag": "ABX9TyMNmbosyrQRgv+DHK/sPuAv",
      "include_colab_link": true
    },
    "kernelspec": {
      "name": "python3",
      "display_name": "Python 3"
    },
    "language_info": {
      "name": "python"
    }
  },
  "cells": [
    {
      "cell_type": "markdown",
      "metadata": {
        "id": "view-in-github",
        "colab_type": "text"
      },
      "source": [
        "<a href=\"https://colab.research.google.com/github/mkkim007/AIFFEL/blob/main/%5BE_06%5DMyFirstKaggle.ipynb\" target=\"_parent\"><img src=\"https://colab.research.google.com/assets/colab-badge.svg\" alt=\"Open In Colab\"/></a>"
      ]
    },
    {
      "cell_type": "markdown",
      "metadata": {
        "id": "m7WNiaVpHr_0"
      },
      "source": [
        "# [E-06]나의 첫 번째 캐글 경진대회\n"
      ]
    },
    {
      "cell_type": "markdown",
      "metadata": {
        "id": "jplhfIGiLPS_"
      },
      "source": [
        "## 1. 어떤 대회인가요?"
      ]
    },
    {
      "cell_type": "markdown",
      "metadata": {
        "id": "Z1JKiWf8Jo1j"
      },
      "source": [
        "[캐글 코리아와 함께하는 2nd ML 대회 - House Price Prediction](https://www.kaggle.com/c/2019-2nd-ml-month-with-kakr)"
      ]
    },
    {
      "cell_type": "markdown",
      "metadata": {
        "id": "tBb_xN6sNA4j"
      },
      "source": [
        "RMSE\n",
        "이번 대회의 평가 방식은 Root Mean Squared Error 입니다.\n",
        "$${\\sqrt{ {1 \\over N} \\sum{(yt - y{pr})}^2}} $$"
      ]
    },
    {
      "cell_type": "code",
      "metadata": {
        "id": "ncJkAiB89hLx"
      },
      "source": [
        "!pip list | grep xgboost\n",
        "!pip list | grep lightgbm\n",
        "!pip list | grep missingno\n",
        "!pip list | grep scikit-learn"
      ],
      "execution_count": null,
      "outputs": []
    },
    {
      "cell_type": "code",
      "metadata": {
        "id": "tk-ngSDGOoIS"
      },
      "source": [
        "!conda install -c conda-forge xgboost=1.3.3\n",
        "!conda install -c conda-forge lightgbm=3.1.1 \n",
        "!conda install -c conda-forge missingno=0.4.2"
      ],
      "execution_count": null,
      "outputs": []
    },
    {
      "cell_type": "code",
      "metadata": {
        "id": "8gBETJt09R-q"
      },
      "source": [
        "!wget https://d3s0tskafalll9.cloudfront.net/media/documents/kaggle-kakr-housing-data.zip"
      ],
      "execution_count": null,
      "outputs": []
    },
    {
      "cell_type": "code",
      "metadata": {
        "id": "evZz6qIv-ORR"
      },
      "source": [
        "!unzip -qq '/content/kaggle-kakr-housing-data.zip'"
      ],
      "execution_count": null,
      "outputs": []
    },
    {
      "cell_type": "code",
      "metadata": {
        "id": "aH5mJzO7-nWl"
      },
      "source": [
        "ls /content/data"
      ],
      "execution_count": null,
      "outputs": []
    },
    {
      "cell_type": "code",
      "metadata": {
        "id": "bn8hhzxx-uz3"
      },
      "source": [
        "import warnings\n",
        "warnings.filterwarnings(\"ignore\")\n",
        "\n",
        "import os\n",
        "from os.path import join\n",
        "\n",
        "import pandas as pd\n",
        "import numpy as np\n",
        "\n",
        "import missingno as msno\n",
        "\n",
        "from sklearn.ensemble import GradientBoostingRegressor\n",
        "from sklearn.model_selection import KFold, cross_val_score\n",
        "import xgboost as xgb\n",
        "import lightgbm as lgb\n",
        "\n",
        "import matplotlib.pyplot as plt\n",
        "import seaborn as sns\n",
        "\n",
        "print('얍💢')"
      ],
      "execution_count": null,
      "outputs": []
    },
    {
      "cell_type": "code",
      "metadata": {
        "id": "H964iy-SFDdz"
      },
      "source": [
        "data_dir = '/content/data'\n",
        "\n",
        "train_data_path = join(data_dir, 'train.csv')\n",
        "sub_data_path = join(data_dir, 'test.csv')      # 테스트, 즉 submission 시 사용할 데이터 경로\n",
        "\n",
        "print(train_data_path)\n",
        "print(sub_data_path)"
      ],
      "execution_count": null,
      "outputs": []
    },
    {
      "cell_type": "code",
      "metadata": {
        "id": "4vmmZYglGNxu"
      },
      "source": [
        "data = pd.read_csv(train_data_path)\n",
        "sub = pd.read_csv(sub_data_path)\n",
        "print('train data dim : {}'.format(data.shape))\n",
        "print('sub data dim : {}'.format(sub.shape))"
      ],
      "execution_count": null,
      "outputs": []
    },
    {
      "cell_type": "code",
      "metadata": {
        "id": "4SBazZIuGXfX"
      },
      "source": [
        "y = data['price']\n",
        "del data['price']\n",
        "\n",
        "print(data.columns)"
      ],
      "execution_count": null,
      "outputs": []
    }
  ]
}