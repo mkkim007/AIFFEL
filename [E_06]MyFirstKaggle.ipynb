{
  "nbformat": 4,
  "nbformat_minor": 0,
  "metadata": {
    "colab": {
      "name": "[E-06]MyFirstKaggle.ipynb",
      "private_outputs": true,
      "provenance": [],
      "toc_visible": true,
      "authorship_tag": "ABX9TyM01edpZ4gn2t8Lm+mtSkI0",
      "include_colab_link": true
    },
    "kernelspec": {
      "name": "python3",
      "display_name": "Python 3"
    },
    "language_info": {
      "name": "python"
    }
  },
  "cells": [
    {
      "cell_type": "markdown",
      "metadata": {
        "id": "view-in-github",
        "colab_type": "text"
      },
      "source": [
        "<a href=\"https://colab.research.google.com/github/mkkim007/AIFFEL/blob/main/%5BE_06%5DMyFirstKaggle.ipynb\" target=\"_parent\"><img src=\"https://colab.research.google.com/assets/colab-badge.svg\" alt=\"Open In Colab\"/></a>"
      ]
    },
    {
      "cell_type": "markdown",
      "metadata": {
        "id": "m7WNiaVpHr_0"
      },
      "source": [
        "# [E-06]나의 첫 번째 캐글 경진대회\n"
      ]
    },
    {
      "cell_type": "markdown",
      "metadata": {
        "id": "jplhfIGiLPS_"
      },
      "source": [
        "## 0.시작하기전,,"
      ]
    },
    {
      "cell_type": "markdown",
      "metadata": {
        "id": "Z1JKiWf8Jo1j"
      },
      "source": [
        "[캐글 코리아와 함께하는 2nd ML 대회 - House Price Prediction](https://www.kaggle.com/c/2019-2nd-ml-month-with-kakr)"
      ]
    },
    {
      "cell_type": "markdown",
      "metadata": {
        "id": "tBb_xN6sNA4j"
      },
      "source": [
        "RMSE\n",
        "이번 대회의 평가 방식은 Root Mean Squared Error 입니다.\n",
        "$${\\sqrt{ {1 \\over N} \\sum{(yt - y{pr})}^2}} $$"
      ]
    },
    {
      "cell_type": "code",
      "metadata": {
        "id": "ncJkAiB89hLx"
      },
      "source": [
        "!pip list | grep xgboost\n",
        "!pip list | grep lightgbm\n",
        "!pip list | grep missingno\n",
        "!pip list | grep scikit-learn"
      ],
      "execution_count": null,
      "outputs": []
    },
    {
      "cell_type": "code",
      "metadata": {
        "id": "Ei1ck3vDYIw7"
      },
      "source": [
        "import matplotlib.pyplot as plt\n",
        "%matplotlib inline\n",
        "%config InlineBackend.figure_format = 'retina'"
      ],
      "execution_count": null,
      "outputs": []
    },
    {
      "cell_type": "code",
      "metadata": {
        "id": "8gBETJt09R-q"
      },
      "source": [
        "!wget https://d3s0tskafalll9.cloudfront.net/media/documents/kaggle-kakr-housing-data.zip"
      ],
      "execution_count": null,
      "outputs": []
    },
    {
      "cell_type": "code",
      "metadata": {
        "id": "evZz6qIv-ORR"
      },
      "source": [
        "!unzip -qq '/content/kaggle-kakr-housing-data.zip'"
      ],
      "execution_count": null,
      "outputs": []
    },
    {
      "cell_type": "code",
      "metadata": {
        "id": "aH5mJzO7-nWl"
      },
      "source": [
        "ls /content/data"
      ],
      "execution_count": null,
      "outputs": []
    },
    {
      "cell_type": "markdown",
      "metadata": {
        "id": "Vpe_nMkiS77t"
      },
      "source": [
        "## 1.데이터 및 라이브러리 준비하기"
      ]
    },
    {
      "cell_type": "markdown",
      "metadata": {
        "id": "pB5NFlykUBF-"
      },
      "source": [
        "###1.1필요한 라이브러리 import"
      ]
    },
    {
      "cell_type": "code",
      "metadata": {
        "id": "bn8hhzxx-uz3"
      },
      "source": [
        "import warnings\n",
        "warnings.filterwarnings(\"ignore\")\n",
        "\n",
        "import os\n",
        "from os.path import join\n",
        "\n",
        "import pandas as pd\n",
        "import numpy as np\n",
        "\n",
        "import missingno as msno\n",
        "\n",
        "from sklearn.ensemble import GradientBoostingRegressor\n",
        "from sklearn.model_selection import KFold, cross_val_score\n",
        "import xgboost as xgb\n",
        "import lightgbm as lgb\n",
        "from scipy.stats import norm #Analysis \n",
        "from scipy import stats #Analysis \n",
        "from sklearn.preprocessing import StandardScaler #Analysis \n",
        "import matplotlib.pyplot as plt\n",
        "import seaborn as sns\n",
        "import gc\n",
        "import warnings \n",
        "warnings.filterwarnings('ignore')"
      ],
      "execution_count": null,
      "outputs": []
    },
    {
      "cell_type": "markdown",
      "metadata": {
        "id": "dKcgGhiQT9Wm"
      },
      "source": [
        "###1.2 데이터 불러오기"
      ]
    },
    {
      "cell_type": "code",
      "metadata": {
        "id": "H964iy-SFDdz"
      },
      "source": [
        "data_dir = '/content/data'\n",
        "\n",
        "train_data_path = join(data_dir, 'train.csv')   \n",
        "sub_data_path = join(data_dir, 'test.csv')      # 테스트, 즉 submission 시 사용할 데이터 경로\n",
        "\n",
        "print(train_data_path)\n",
        "print(sub_data_path)"
      ],
      "execution_count": null,
      "outputs": []
    },
    {
      "cell_type": "code",
      "metadata": {
        "id": "4vmmZYglGNxu"
      },
      "source": [
        "data = pd.read_csv(train_data_path)\n",
        "sub = pd.read_csv(sub_data_path)\n",
        "print('train data dim : {}'.format(data.shape))\n",
        "print('sub data dim : {}'.format(sub.shape))"
      ],
      "execution_count": null,
      "outputs": []
    },
    {
      "cell_type": "markdown",
      "metadata": {
        "id": "oOGSvURrEZ2J"
      },
      "source": [
        "## 2.데이터 탐색 (EDA : Exploratory Data Analysis)"
      ]
    },
    {
      "cell_type": "markdown",
      "metadata": {
        "id": "Uk3kOMe2JblX"
      },
      "source": [
        "### 2.1 변수 "
      ]
    },
    {
      "cell_type": "markdown",
      "metadata": {
        "id": "YF22OF6hGO2L"
      },
      "source": [
        "- ID : 집을 구분하는 번호  \n",
        "- date : 집을 구매한 날짜\n",
        "- price : 집의 가격(Target variable)\n",
        "- bedrooms : 침실의 수\n",
        "- bathrooms : 화장실의 수\n",
        "- sqft_living : 주거 공간의 평방 피트(면적)\n",
        "- sqft_lot : 부지의 평방 피트(면적)\n",
        "- floors : 집의 층 수\n",
        "- waterfront : 집의 전방에 강이 흐르는지 유무 (a.k.a. 리버뷰)\n",
        "- view : Has been viewed\n",
        "- condition : 집의 전반적인 상태\n",
        "- grade : King County grading 시스템 기준으로 매긴 집의 등급\n",
        "- sqft_above : 지하실을 제외한 평방 피트(면적)\n",
        "- sqft_basement : 지하실의 평방 피트(면적)\n",
        "- yr_built : 지어진 년도\n",
        "- yr_renovated : 집을 재건축한 년도\n",
        "- zipcode : 우편번호\n",
        "- lat : 위도\n",
        "- long : 경도\n",
        "- sqft_living15 : 2015년 기준 주거 공간의 평방 피트(면적, 집을 재건축했다면, 변화가 있을 수 있음)\n",
        "- sqft_lot15 : 2015년 기준 주차 공간의 평방 피트(면적, 집을 재건축했다면, 변화가 있을 수 있음)"
      ]
    },
    {
      "cell_type": "code",
      "metadata": {
        "id": "jrYayjRiFYCC"
      },
      "source": [
        "data.head()"
      ],
      "execution_count": null,
      "outputs": []
    },
    {
      "cell_type": "code",
      "metadata": {
        "id": "BM1puHaZJB8M"
      },
      "source": [
        ""
      ],
      "execution_count": null,
      "outputs": []
    },
    {
      "cell_type": "markdown",
      "metadata": {
        "id": "BX_1CQPdYe-h"
      },
      "source": [
        "### 학습 데이터에서 라벨 제거하기"
      ]
    },
    {
      "cell_type": "code",
      "metadata": {
        "id": "4SBazZIuGXfX"
      },
      "source": [
        "y = data['price']\n",
        "del data['price']\n",
        "\n",
        "print(data.columns)"
      ],
      "execution_count": null,
      "outputs": []
    },
    {
      "cell_type": "markdown",
      "metadata": {
        "id": "V0sSplqbYnHg"
      },
      "source": [
        "#### 1.2.3 학습데이터와 테스트 데이터 합치기"
      ]
    },
    {
      "cell_type": "code",
      "metadata": {
        "id": "TuN9KWVvaoUU"
      },
      "source": [
        "train_len = len(data)\n",
        "data = pd.concat((data, sub), axis=0)\n",
        "\n",
        "print(len(data))"
      ],
      "execution_count": null,
      "outputs": []
    },
    {
      "cell_type": "code",
      "metadata": {
        "id": "D3Hq6p0fasNQ"
      },
      "source": [
        "data.head()"
      ],
      "execution_count": null,
      "outputs": []
    },
    {
      "cell_type": "code",
      "metadata": {
        "id": "GLG20IqMbxGs"
      },
      "source": [
        ""
      ],
      "execution_count": null,
      "outputs": []
    }
  ]
}