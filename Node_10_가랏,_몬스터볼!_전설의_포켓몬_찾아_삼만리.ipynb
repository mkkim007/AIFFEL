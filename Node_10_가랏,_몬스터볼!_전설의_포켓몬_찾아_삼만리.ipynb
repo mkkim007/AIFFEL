{
  "nbformat": 4,
  "nbformat_minor": 0,
  "metadata": {
    "colab": {
      "name": "Node 10 가랏, 몬스터볼! 전설의 포켓몬 찾아 삼만리.ipynb",
      "private_outputs": true,
      "provenance": [],
      "toc_visible": true,
      "mount_file_id": "12GXrMnSwYbrFOv6n6tj2ElEt0bpo4cN0",
      "authorship_tag": "ABX9TyO4hLG/l0m8yfjbXpv5gXko",
      "include_colab_link": true
    },
    "kernelspec": {
      "name": "python3",
      "display_name": "Python 3"
    },
    "language_info": {
      "name": "python"
    }
  },
  "cells": [
    {
      "cell_type": "markdown",
      "metadata": {
        "id": "view-in-github",
        "colab_type": "text"
      },
      "source": [
        "<a href=\"https://colab.research.google.com/github/mkkim007/AIFFEL/blob/main/Node_10_%EA%B0%80%EB%9E%8F%2C_%EB%AA%AC%EC%8A%A4%ED%84%B0%EB%B3%BC!_%EC%A0%84%EC%84%A4%EC%9D%98_%ED%8F%AC%EC%BC%93%EB%AA%AC_%EC%B0%BE%EC%95%84_%EC%82%BC%EB%A7%8C%EB%A6%AC.ipynb\" target=\"_parent\"><img src=\"https://colab.research.google.com/assets/colab-badge.svg\" alt=\"Open In Colab\"/></a>"
      ]
    },
    {
      "cell_type": "markdown",
      "metadata": {
        "id": "dIL97pgkLWC9"
      },
      "source": [
        "# 가랏, 몬스터볼! 전설의 포켓몬 찾아 삼만리"
      ]
    },
    {
      "cell_type": "markdown",
      "metadata": {
        "id": "u_ppVdT5N21i"
      },
      "source": [
        "## 데이터 불러오기"
      ]
    },
    {
      "cell_type": "markdown",
      "metadata": {
        "id": "mkFHF-jpN8sk"
      },
      "source": [
        "데이터를 불러오기 전 먼저 필요한 라이브러리를 불러온다.\n"
      ]
    },
    {
      "cell_type": "code",
      "metadata": {
        "id": "ncBxgEP0LFWm"
      },
      "source": [
        "import numpy as np\n",
        "import pandas as pd\n",
        "import seaborn as sns\n",
        "import matplotlib.pyplot as plt\n",
        "%matplotlib inline\n",
        "%config InlineBackend.figure_format = 'retina'\n",
        "print('슝=3')"
      ],
      "execution_count": null,
      "outputs": []
    },
    {
      "cell_type": "markdown",
      "metadata": {
        "id": "Er5SXM3WOIMp"
      },
      "source": [
        ""
      ]
    },
    {
      "cell_type": "code",
      "metadata": {
        "id": "uJVaVMOqLmZP"
      },
      "source": [
        "/content/drive/MyDrive/Data/Pokemon.csv"
      ],
      "execution_count": null,
      "outputs": []
    },
    {
      "cell_type": "markdown",
      "metadata": {
        "id": "NUi02vs6LnVJ"
      },
      "source": [
        "### ㅁㄹㅇㄴ"
      ]
    },
    {
      "cell_type": "markdown",
      "metadata": {
        "id": "e9sAd5chLha6"
      },
      "source": [
        "## 데이터 분석"
      ]
    },
    {
      "cell_type": "markdown",
      "metadata": {
        "id": "FoFlbxiwLj55"
      },
      "source": [
        ""
      ]
    }
  ]
}