{
 "cells": [
  {
   "cell_type": "markdown",
   "metadata": {
    "id": "Gw5LJFK5l8J_"
   },
   "source": [
    "# [E-10]뉴스 요약봇 만들기"
   ]
  },
  {
   "cell_type": "markdown",
   "metadata": {
    "id": "46nAAjo7mDWs"
   },
   "source": [
    "## 0. 텍스트 요약(Text Summarization)이란?\n",
    "텍스트 요약 : 긴 길이의 문서원문을 핵심 주제만으로 구성된 짧은 요약 문장들로 변환하는 것\n",
    "  \n",
    "- 추출적 요약(Extractive Summarization)  \n",
    ": 원문에서 문장들을 추출해서 요약하는 방식\n",
    "- 추상적 요약(Abstractive Summarization)  \n",
    ": 원문으로부터 내용이 요약된 새로운 문장을 생성해내는 방식\n"
   ]
  },
  {
   "cell_type": "markdown",
   "metadata": {
    "id": "-fpT-0DlnnQK"
   },
   "source": [
    "## 1. 데이터 준비하기"
   ]
  },
  {
   "cell_type": "code",
   "execution_count": 1,
   "metadata": {
    "colab": {
     "base_uri": "https://localhost:8080/"
    },
    "id": "ymoG_FfSo_qc",
    "outputId": "87235a4a-e9d6-4d61-911a-5e84902a30f9"
   },
   "outputs": [
    {
     "name": "stderr",
     "output_type": "stream",
     "text": [
      "[nltk_data] Downloading package stopwords to /aiffel/nltk_data...\n",
      "[nltk_data]   Package stopwords is already up-to-date!\n"
     ]
    }
   ],
   "source": [
    "import nltk\n",
    "nltk.download('stopwords')\n",
    "\n",
    "import numpy as np\n",
    "import pandas as pd\n",
    "import os\n",
    "import re\n",
    "import matplotlib.pyplot as plt\n",
    "from nltk.corpus import stopwords\n",
    "from bs4 import BeautifulSoup \n",
    "from tensorflow.keras.preprocessing.text import Tokenizer \n",
    "from tensorflow.keras.preprocessing.sequence import pad_sequences\n",
    "import urllib.request\n"
   ]
  },
  {
   "cell_type": "code",
   "execution_count": 62,
   "metadata": {
    "id": "d7HgI5Lro0jK"
   },
   "outputs": [],
   "source": [
    "import urllib.request\n",
    "urllib.request.urlretrieve(\"https://raw.githubusercontent.com/sunnysai12345/News_Summary/master/news_summary_more.csv\", filename=\"news_summary_more.csv\")\n",
    "data = pd.read_csv('news_summary_more.csv', encoding='iso-8859-1')"
   ]
  },
  {
   "cell_type": "markdown",
   "metadata": {
    "id": "nXbgGSZ5n5MR"
   },
   "source": [
    "## 2. 데이터 전처리하기"
   ]
  },
  {
   "cell_type": "markdown",
   "metadata": {
    "id": "WO0YbwWgodon"
   },
   "source": [
    "### 2.1 데이터 분석"
   ]
  },
  {
   "cell_type": "code",
   "execution_count": 63,
   "metadata": {
    "colab": {
     "base_uri": "https://localhost:8080/"
    },
    "id": "j9GSwKGRpSla",
    "outputId": "ea5120c5-fa17-4b13-89cb-7524313f28a5"
   },
   "outputs": [
    {
     "name": "stdout",
     "output_type": "stream",
     "text": [
      "전체 데이터 수 : 98401\n"
     ]
    }
   ],
   "source": [
    "print('전체 데이터 수 :', (len(data)))"
   ]
  },
  {
   "cell_type": "code",
   "execution_count": 64,
   "metadata": {
    "colab": {
     "base_uri": "https://localhost:8080/",
     "height": 359
    },
    "id": "0t6YYzuvpKmS",
    "outputId": "aa05ea18-5a14-4f05-81dd-2b05222858dc"
   },
   "outputs": [
    {
     "data": {
      "text/html": [
       "<div>\n",
       "<style scoped>\n",
       "    .dataframe tbody tr th:only-of-type {\n",
       "        vertical-align: middle;\n",
       "    }\n",
       "\n",
       "    .dataframe tbody tr th {\n",
       "        vertical-align: top;\n",
       "    }\n",
       "\n",
       "    .dataframe thead th {\n",
       "        text-align: right;\n",
       "    }\n",
       "</style>\n",
       "<table border=\"1\" class=\"dataframe\">\n",
       "  <thead>\n",
       "    <tr style=\"text-align: right;\">\n",
       "      <th></th>\n",
       "      <th>headlines</th>\n",
       "      <th>text</th>\n",
       "    </tr>\n",
       "  </thead>\n",
       "  <tbody>\n",
       "    <tr>\n",
       "      <th>9334</th>\n",
       "      <td>Maha drivers will lose licence for breaking tr...</td>\n",
       "      <td>In a move to combat the rise in road accidents...</td>\n",
       "    </tr>\n",
       "    <tr>\n",
       "      <th>12963</th>\n",
       "      <td>On-court coaching should be allowed: Serena Wi...</td>\n",
       "      <td>American tennis player Serena Williams' coach ...</td>\n",
       "    </tr>\n",
       "    <tr>\n",
       "      <th>60339</th>\n",
       "      <td>Yuva Sena chief proposes using plastic waste t...</td>\n",
       "      <td>Yuva Sena chief Aaditya Thackeray has asked th...</td>\n",
       "    </tr>\n",
       "    <tr>\n",
       "      <th>61137</th>\n",
       "      <td>No VIP treatment to Ram Rahim, inmates can't s...</td>\n",
       "      <td>Haryana MLA Krishan Lal Panwar dismissed repor...</td>\n",
       "    </tr>\n",
       "    <tr>\n",
       "      <th>10555</th>\n",
       "      <td>Trump signs order denying asylum to illegal mi...</td>\n",
       "      <td>US President Donald Trump on Friday signed an ...</td>\n",
       "    </tr>\n",
       "    <tr>\n",
       "      <th>85410</th>\n",
       "      <td>Competition is on: Katrina on dance video with...</td>\n",
       "      <td>Actress Katrina Kaif on Instagram shared a vid...</td>\n",
       "    </tr>\n",
       "    <tr>\n",
       "      <th>56338</th>\n",
       "      <td>US woman arrested for sending Bitcoin to aid I...</td>\n",
       "      <td>A woman in US' Long Island was arrested for al...</td>\n",
       "    </tr>\n",
       "    <tr>\n",
       "      <th>78348</th>\n",
       "      <td>Film on 1975 Emergency 'Indu Sarkar' hits the ...</td>\n",
       "      <td>'Indu Sarkar', which is based on 1975 Emergenc...</td>\n",
       "    </tr>\n",
       "    <tr>\n",
       "      <th>73478</th>\n",
       "      <td>Amole Gupte directorial 'Sniff' hits the theatres</td>\n",
       "      <td>Amole Gupte directorial 'Sniff', which release...</td>\n",
       "    </tr>\n",
       "    <tr>\n",
       "      <th>46765</th>\n",
       "      <td>Man posts woman's fake nude pics on social med...</td>\n",
       "      <td>A 26-year-old woman from Mumbai has filed an F...</td>\n",
       "    </tr>\n",
       "  </tbody>\n",
       "</table>\n",
       "</div>"
      ],
      "text/plain": [
       "                                               headlines  \\\n",
       "9334   Maha drivers will lose licence for breaking tr...   \n",
       "12963  On-court coaching should be allowed: Serena Wi...   \n",
       "60339  Yuva Sena chief proposes using plastic waste t...   \n",
       "61137  No VIP treatment to Ram Rahim, inmates can't s...   \n",
       "10555  Trump signs order denying asylum to illegal mi...   \n",
       "85410  Competition is on: Katrina on dance video with...   \n",
       "56338  US woman arrested for sending Bitcoin to aid I...   \n",
       "78348  Film on 1975 Emergency 'Indu Sarkar' hits the ...   \n",
       "73478  Amole Gupte directorial 'Sniff' hits the theatres   \n",
       "46765  Man posts woman's fake nude pics on social med...   \n",
       "\n",
       "                                                    text  \n",
       "9334   In a move to combat the rise in road accidents...  \n",
       "12963  American tennis player Serena Williams' coach ...  \n",
       "60339  Yuva Sena chief Aaditya Thackeray has asked th...  \n",
       "61137  Haryana MLA Krishan Lal Panwar dismissed repor...  \n",
       "10555  US President Donald Trump on Friday signed an ...  \n",
       "85410  Actress Katrina Kaif on Instagram shared a vid...  \n",
       "56338  A woman in US' Long Island was arrested for al...  \n",
       "78348  'Indu Sarkar', which is based on 1975 Emergenc...  \n",
       "73478  Amole Gupte directorial 'Sniff', which release...  \n",
       "46765  A 26-year-old woman from Mumbai has filed an F...  "
      ]
     },
     "execution_count": 64,
     "metadata": {},
     "output_type": "execute_result"
    }
   ],
   "source": [
    "data.sample(10)"
   ]
  },
  {
   "cell_type": "markdown",
   "metadata": {
    "id": "NYUcMdgkpynr"
   },
   "source": [
    "데이터는 총 98401개가 있고 `text`와 `headlines` 두가지 열로 구성되어져 있다.  \n",
    "`text`는 본문, `headlines`는 요약된 데이터이다. 이 두개로 추상적 요약을 할 수 있고, 추출적 요약을 하는 경우에는  `text`열만 사용해야한다."
   ]
  },
  {
   "cell_type": "markdown",
   "metadata": {
    "id": "y-t6DfJRoj2A"
   },
   "source": [
    "### 2.2 데이터 정제"
   ]
  },
  {
   "cell_type": "markdown",
   "metadata": {
    "id": "kZye2I52qcws"
   },
   "source": [
    "#### 2.2.1 중복 데이터 제거"
   ]
  },
  {
   "cell_type": "code",
   "execution_count": 65,
   "metadata": {
    "colab": {
     "base_uri": "https://localhost:8080/"
    },
    "id": "kk5ic-Lqpf__",
    "outputId": "5cdc1862-dfb4-4c5e-b3f1-f8b80de6e420"
   },
   "outputs": [
    {
     "name": "stdout",
     "output_type": "stream",
     "text": [
      "Text 열에서 중복을 배제한 유일한 데이터의 수 : 98360\n",
      "Headlines 열에서 중복을 배제한 유일한 데이터의 수 : 98280\n"
     ]
    }
   ],
   "source": [
    "print('Text 열에서 중복을 배제한 유일한 데이터의 수 :', data['text'].nunique())\n",
    "print('Headlines 열에서 중복을 배제한 유일한 데이터의 수 :', data['headlines'].nunique())"
   ]
  },
  {
   "cell_type": "markdown",
   "metadata": {
    "id": "a44gp0Jwqh1L"
   },
   "source": [
    "Text가 다르더라도 Headlines가 같을 수 있기 때문에 Headlines가 중복된 경우는 남겨두고 Text가 중복된 경우에만 제거를 해준다."
   ]
  },
  {
   "cell_type": "code",
   "execution_count": 66,
   "metadata": {
    "colab": {
     "base_uri": "https://localhost:8080/"
    },
    "id": "8wLaUxSMruFA",
    "outputId": "d7be7ce1-3146-41cc-eaea-72504a559a0e"
   },
   "outputs": [
    {
     "name": "stdout",
     "output_type": "stream",
     "text": [
      "전체 데이터수 : 98360\n"
     ]
    }
   ],
   "source": [
    "# inplace=True 를 설정하면 DataFrame 타입 값을 return 하지 않고 data 내부를 직접적으로 바꿉니다\n",
    "data.drop_duplicates(subset = ['text'], inplace=True)\n",
    "print('전체 데이터수 :', (len(data)))"
   ]
  },
  {
   "cell_type": "markdown",
   "metadata": {
    "id": "J1KZXi2SsMqU"
   },
   "source": [
    "#### 2.2.2 NULL 값이 존재하는 데이터 제거"
   ]
  },
  {
   "cell_type": "code",
   "execution_count": 67,
   "metadata": {
    "colab": {
     "base_uri": "https://localhost:8080/"
    },
    "id": "-2Qwr9MLsR3y",
    "outputId": "577fc7ef-8afa-4b59-ffd8-d6fe9324cb7f"
   },
   "outputs": [
    {
     "name": "stdout",
     "output_type": "stream",
     "text": [
      "headlines    0\n",
      "text         0\n",
      "dtype: int64\n"
     ]
    }
   ],
   "source": [
    "print(data.isnull().sum())"
   ]
  },
  {
   "cell_type": "markdown",
   "metadata": {
    "id": "KxJCRYuysU_5"
   },
   "source": [
    "다행이 NULL값인 데이터는 없다. 만약 있을 경우 `dropna()` 함수를 사용하면 쉽게 제거할 수 있다"
   ]
  },
  {
   "cell_type": "markdown",
   "metadata": {
    "id": "1M7YvdUzooFg"
   },
   "source": [
    "### 2.3 정규화와 불용어제거"
   ]
  },
  {
   "cell_type": "markdown",
   "metadata": {
    "id": "wdwBjylNtAF3"
   },
   "source": [
    "#### 2.3.1 텍스트 정규화(text normalization)"
   ]
  },
  {
   "cell_type": "code",
   "execution_count": 68,
   "metadata": {
    "colab": {
     "base_uri": "https://localhost:8080/"
    },
    "id": "KQhEftCAtFxO",
    "outputId": "49f740da-f497-4f21-d19d-eb0ced6fde8e"
   },
   "outputs": [
    {
     "name": "stdout",
     "output_type": "stream",
     "text": [
      "정규화 사전의 수:  120\n"
     ]
    }
   ],
   "source": [
    "contractions = {\"ain't\": \"is not\", \"aren't\": \"are not\",\"can't\": \"cannot\", \"'cause\": \"because\", \"could've\": \"could have\", \"couldn't\": \"could not\",\n",
    "                           \"didn't\": \"did not\",  \"doesn't\": \"does not\", \"don't\": \"do not\", \"hadn't\": \"had not\", \"hasn't\": \"has not\", \"haven't\": \"have not\",\n",
    "                           \"he'd\": \"he would\",\"he'll\": \"he will\", \"he's\": \"he is\", \"how'd\": \"how did\", \"how'd'y\": \"how do you\", \"how'll\": \"how will\", \"how's\": \"how is\",\n",
    "                           \"I'd\": \"I would\", \"I'd've\": \"I would have\", \"I'll\": \"I will\", \"I'll've\": \"I will have\",\"I'm\": \"I am\", \"I've\": \"I have\", \"i'd\": \"i would\",\n",
    "                           \"i'd've\": \"i would have\", \"i'll\": \"i will\",  \"i'll've\": \"i will have\",\"i'm\": \"i am\", \"i've\": \"i have\", \"isn't\": \"is not\", \"it'd\": \"it would\",\n",
    "                           \"it'd've\": \"it would have\", \"it'll\": \"it will\", \"it'll've\": \"it will have\",\"it's\": \"it is\", \"let's\": \"let us\", \"ma'am\": \"madam\",\n",
    "                           \"mayn't\": \"may not\", \"might've\": \"might have\",\"mightn't\": \"might not\",\"mightn't've\": \"might not have\", \"must've\": \"must have\",\n",
    "                           \"mustn't\": \"must not\", \"mustn't've\": \"must not have\", \"needn't\": \"need not\", \"needn't've\": \"need not have\",\"o'clock\": \"of the clock\",\n",
    "                           \"oughtn't\": \"ought not\", \"oughtn't've\": \"ought not have\", \"shan't\": \"shall not\", \"sha'n't\": \"shall not\", \"shan't've\": \"shall not have\",\n",
    "                           \"she'd\": \"she would\", \"she'd've\": \"she would have\", \"she'll\": \"she will\", \"she'll've\": \"she will have\", \"she's\": \"she is\",\n",
    "                           \"should've\": \"should have\", \"shouldn't\": \"should not\", \"shouldn't've\": \"should not have\", \"so've\": \"so have\",\"so's\": \"so as\",\n",
    "                           \"this's\": \"this is\",\"that'd\": \"that would\", \"that'd've\": \"that would have\", \"that's\": \"that is\", \"there'd\": \"there would\",\n",
    "                           \"there'd've\": \"there would have\", \"there's\": \"there is\", \"here's\": \"here is\",\"they'd\": \"they would\", \"they'd've\": \"they would have\",\n",
    "                           \"they'll\": \"they will\", \"they'll've\": \"they will have\", \"they're\": \"they are\", \"they've\": \"they have\", \"to've\": \"to have\",\n",
    "                           \"wasn't\": \"was not\", \"we'd\": \"we would\", \"we'd've\": \"we would have\", \"we'll\": \"we will\", \"we'll've\": \"we will have\", \"we're\": \"we are\",\n",
    "                           \"we've\": \"we have\", \"weren't\": \"were not\", \"what'll\": \"what will\", \"what'll've\": \"what will have\", \"what're\": \"what are\",\n",
    "                           \"what's\": \"what is\", \"what've\": \"what have\", \"when's\": \"when is\", \"when've\": \"when have\", \"where'd\": \"where did\", \"where's\": \"where is\",\n",
    "                           \"where've\": \"where have\", \"who'll\": \"who will\", \"who'll've\": \"who will have\", \"who's\": \"who is\", \"who've\": \"who have\",\n",
    "                           \"why's\": \"why is\", \"why've\": \"why have\", \"will've\": \"will have\", \"won't\": \"will not\", \"won't've\": \"will not have\",\n",
    "                           \"would've\": \"would have\", \"wouldn't\": \"would not\", \"wouldn't've\": \"would not have\", \"y'all\": \"you all\",\n",
    "                           \"y'all'd\": \"you all would\",\"y'all'd've\": \"you all would have\",\"y'all're\": \"you all are\",\"y'all've\": \"you all have\",\n",
    "                           \"you'd\": \"you would\", \"you'd've\": \"you would have\", \"you'll\": \"you will\", \"you'll've\": \"you will have\",\n",
    "                           \"you're\": \"you are\", \"you've\": \"you have\"}\n",
    "\n",
    "print(\"정규화 사전의 수: \", len(contractions))"
   ]
  },
  {
   "cell_type": "markdown",
   "metadata": {
    "id": "luzjgG2Fto8t"
   },
   "source": [
    "#### 2.3.2 불용어"
   ]
  },
  {
   "cell_type": "code",
   "execution_count": 69,
   "metadata": {
    "colab": {
     "base_uri": "https://localhost:8080/"
    },
    "id": "Zj676yhntQl_",
    "outputId": "4032e4bb-61c0-4114-9958-5c2fbeb7a007"
   },
   "outputs": [
    {
     "name": "stdout",
     "output_type": "stream",
     "text": [
      "불용어 개수 : 179\n",
      "['i', 'me', 'my', 'myself', 'we', 'our', 'ours', 'ourselves', 'you', \"you're\", \"you've\", \"you'll\", \"you'd\", 'your', 'yours', 'yourself', 'yourselves', 'he', 'him', 'his', 'himself', 'she', \"she's\", 'her', 'hers', 'herself', 'it', \"it's\", 'its', 'itself', 'they', 'them', 'their', 'theirs', 'themselves', 'what', 'which', 'who', 'whom', 'this', 'that', \"that'll\", 'these', 'those', 'am', 'is', 'are', 'was', 'were', 'be', 'been', 'being', 'have', 'has', 'had', 'having', 'do', 'does', 'did', 'doing', 'a', 'an', 'the', 'and', 'but', 'if', 'or', 'because', 'as', 'until', 'while', 'of', 'at', 'by', 'for', 'with', 'about', 'against', 'between', 'into', 'through', 'during', 'before', 'after', 'above', 'below', 'to', 'from', 'up', 'down', 'in', 'out', 'on', 'off', 'over', 'under', 'again', 'further', 'then', 'once', 'here', 'there', 'when', 'where', 'why', 'how', 'all', 'any', 'both', 'each', 'few', 'more', 'most', 'other', 'some', 'such', 'no', 'nor', 'not', 'only', 'own', 'same', 'so', 'than', 'too', 'very', 's', 't', 'can', 'will', 'just', 'don', \"don't\", 'should', \"should've\", 'now', 'd', 'll', 'm', 'o', 're', 've', 'y', 'ain', 'aren', \"aren't\", 'couldn', \"couldn't\", 'didn', \"didn't\", 'doesn', \"doesn't\", 'hadn', \"hadn't\", 'hasn', \"hasn't\", 'haven', \"haven't\", 'isn', \"isn't\", 'ma', 'mightn', \"mightn't\", 'mustn', \"mustn't\", 'needn', \"needn't\", 'shan', \"shan't\", 'shouldn', \"shouldn't\", 'wasn', \"wasn't\", 'weren', \"weren't\", 'won', \"won't\", 'wouldn', \"wouldn't\"]\n"
     ]
    }
   ],
   "source": [
    "print('불용어 개수 :', len(stopwords.words('english') ))\n",
    "print(stopwords.words('english'))"
   ]
  },
  {
   "cell_type": "markdown",
   "metadata": {
    "id": "c3UunuCItufk"
   },
   "source": [
    "#### 2.3.3 데이터 전처리 함수"
   ]
  },
  {
   "cell_type": "code",
   "execution_count": 70,
   "metadata": {
    "id": "4S46Q3ZetUId"
   },
   "outputs": [],
   "source": [
    "# 데이터 전처리 함수\n",
    "def preprocess_sentence(sentence, remove_stopwords=True):\n",
    "    sentence = sentence.lower() # 텍스트 소문자화\n",
    "    sentence = BeautifulSoup(sentence, \"lxml\").text # <br />, <a href = ...> 등의 html 태그 제거\n",
    "    sentence = re.sub(r'\\([^)]*\\)', '', sentence) # 괄호로 닫힌 문자열 (...) 제거 Ex) my husband (and myself!) for => my husband for\n",
    "    sentence = re.sub('\"','', sentence) # 쌍따옴표 \" 제거\n",
    "    sentence = ' '.join([contractions[t] if t in contractions else t for t in sentence.split(\" \")]) # 약어 정규화\n",
    "    sentence = re.sub(r\"'s\\b\",\"\", sentence) # 소유격 제거. Ex) roland's -> roland\n",
    "    sentence = re.sub(\"[^a-zA-Z]\", \" \", sentence) # 영어 외 문자(숫자, 특수문자 등) 공백으로 변환\n",
    "    sentence = re.sub('[m]{2,}', 'mm', sentence) # m이 3개 이상이면 2개로 변경. Ex) ummmmmmm yeah -> umm yeah\n",
    "    \n",
    "    # 불용어 제거 (Text)\n",
    "    if remove_stopwords:\n",
    "        tokens = ' '.join(word for word in sentence.split() if not word in stopwords.words('english') if len(word) > 1)\n",
    "    # 불용어 미제거 (Summary)\n",
    "    else:\n",
    "        tokens = ' '.join(word for word in sentence.split() if len(word) > 1)\n",
    "        \n",
    "    return tokens"
   ]
  },
  {
   "cell_type": "code",
   "execution_count": 71,
   "metadata": {
    "colab": {
     "base_uri": "https://localhost:8080/"
    },
    "id": "KWno57YntWMY",
    "outputId": "e055f4ad-652f-49e2-842c-9e9c9c0e2c29"
   },
   "outputs": [
    {
     "name": "stdout",
     "output_type": "stream",
     "text": [
      "everything bought great infact ordered twice third ordered wasfor mother father\n",
      "great way to start the day\n"
     ]
    }
   ],
   "source": [
    "temp_text = 'Everything I bought was great, infact I ordered twice and the third ordered was<br />for my mother and father.'\n",
    "temp_summary = 'Great way to start (or finish) the day!!!'\n",
    "\n",
    "print(preprocess_sentence(temp_text))\n",
    "print(preprocess_sentence(temp_summary, False))  # 불용어를 제거하지 않습니다."
   ]
  },
  {
   "cell_type": "markdown",
   "metadata": {
    "id": "qj3XcTpwuBBx"
   },
   "source": [
    "#### 2.3.4 멀티 프로세싱"
   ]
  },
  {
   "cell_type": "markdown",
   "metadata": {
    "id": "4ARsDxVMuD9P"
   },
   "source": [
    "싱글 프로세스로 실행하면 데이터 전처리하는데 꽤나 많은 시간이 소요된다.  \n",
    "멀티 프로세싱을 활용하여 별도의 프로세스를 생성한후 병렬처리하면 CPU수에 비례하여 획기적으로 소요 시간을 줄일 수 있다.  \n",
    "colab은 cpu 코어 수가 2라서 소요 시간이 많이 줄어 들지는 않는 것 같다..  \n",
    "그에비해 클라우드는 6개를 가지고 있어서 빠르게 되는 것을 확인할 수 있었다. (225.78298091888428,5.290556192398071)"
   ]
  },
  {
   "cell_type": "code",
   "execution_count": 72,
   "metadata": {
    "colab": {
     "base_uri": "https://localhost:8080/"
    },
    "id": "FUjv33zRtc67",
    "outputId": "c71c3be6-c471-4e71-c78c-1c8522710a23"
   },
   "outputs": [
    {
     "name": "stdout",
     "output_type": "stream",
     "text": [
      "6\n",
      "188.44237303733826  seconds\n",
      "['saurav kant alumnus upgrad iiit pg program machine learning artificial intelligence sr systems engineer infosys almost years work experience program upgrad degree career support helped transition data scientist tech mahindra salary hike upgrad online power learning powered lakh careers'\n",
      " 'kunal shah credit card bill payment platform cred gave users chance win free food swiggy one year pranav kaushik delhi techie bagged reward spending cred coins users get one cred coin per rupee bill paid used avail rewards brands like ixigo bookmyshow ubereats cult fit'\n",
      " 'new zealand defeated india wickets fourth odi hamilton thursday win first match five match odi series india lost international match rohit sharma captaincy consecutive victories dating back march match witnessed india getting seventh lowest total odi cricket history'\n",
      " ...\n",
      " 'according reports new version science fiction film matrix development michael jordan reportedly play lead role film screenwriter zak penn talks write script film reports added actor keanu reeves starred original film followed two sequels'\n",
      " 'new music video shows rapper snoop dogg aiming toy gun clown character parodying us president donald trump video also shows tv airing news conference headline ronald klump wants deport doggs airing live clown house video remixed version song lavender'\n",
      " 'madhesi morcha alliance seven political parties withdrawn support pm pushpa kamal dahal led nepal government failed meet seven day ultimatum fulfil demands including endorsement revised constitution amendment bill morcha seats parliament despite withdrawal support immediate threat government']\n",
      "6\n",
      "6.073500633239746  seconds\n",
      "['upgrad learner switches to career in ml al with salary hike'\n",
      " 'delhi techie wins free food from swiggy for one year on cred'\n",
      " 'new zealand end rohit sharma led india match winning streak' ...\n",
      " 'the matrix film to get reboot reports'\n",
      " 'snoop dogg aims gun at clown dressed as trump in new video'\n",
      " 'madhesi morcha withdraws support to nepalese government']\n"
     ]
    }
   ],
   "source": [
    "import multiprocessing as mp   # 멀티 프로세싱으로 전처리 속도를 획기적으로 줄여봅시다\n",
    "from multiprocessing import Pool\n",
    "import numpy as np\n",
    "import time\n",
    "from functools import partial  # map을 할 때 함수에 여러 인자를 넣어줄 수 있도록 합니다\n",
    "\n",
    "start = time.time()\n",
    "\n",
    "# num_cores 만큼 쪼개진 데이터를 전처리하여 반환합니다\n",
    "def appendTexts(sentences, remove_stopwords):\n",
    "  texts = []\n",
    "  for s in sentences:\n",
    "    texts += preprocess_sentence(s, remove_stopwords),\n",
    "  return texts\n",
    "\n",
    "def preprocess_data(data, remove_stopwords=True):\n",
    "  start_time = time.time()\n",
    "  num_cores = mp.cpu_count()  # 컴퓨터의 코어 수를 구합니다\n",
    "  print(num_cores)\n",
    "\n",
    "  text_data_split = np.array_split(data, num_cores)  # 코어 수만큼 데이터를 배분하여 병렬적으로 처리할 수 있게 합니다\n",
    "  pool = Pool(num_cores)\n",
    "\n",
    "  processed_data = np.concatenate(pool.map(partial(appendTexts, remove_stopwords=remove_stopwords), text_data_split))  # 각자 작업한 데이터를 하나로 합쳐줍니다\n",
    "  pool.close()\n",
    "  pool.join()\n",
    "  print(time.time() - start_time, \" seconds\")\n",
    "  return processed_data\n",
    "\n",
    "clean_text = preprocess_data(data['text'])  # 클라우드 기준으로 3~4분 정도 소요 됩니다\n",
    "print(clean_text)\n",
    "\n",
    "clean_summary = preprocess_data(data['headlines'], remove_stopwords=False) # 클라우드 기준 1분정도 소요됩니다.\n",
    "print(clean_summary)"
   ]
  },
  {
   "cell_type": "code",
   "execution_count": 73,
   "metadata": {
    "id": "gUbusW5Hv_e9"
   },
   "outputs": [],
   "source": [
    "data['text'] = clean_text\n",
    "data['headlines'] = clean_summary\n",
    "\n",
    "# 빈 값을 Null 값으로 변환\n",
    "data.replace('', np.nan, inplace=True)"
   ]
  },
  {
   "cell_type": "code",
   "execution_count": 74,
   "metadata": {
    "colab": {
     "base_uri": "https://localhost:8080/"
    },
    "id": "1VIFZoUdwGEd",
    "outputId": "0e32da95-1505-4502-fc78-23a427dac945"
   },
   "outputs": [
    {
     "data": {
      "text/plain": [
       "headlines    0\n",
       "text         0\n",
       "dtype: int64"
      ]
     },
     "execution_count": 74,
     "metadata": {},
     "output_type": "execute_result"
    }
   ],
   "source": [
    "data.isnull().sum()"
   ]
  },
  {
   "cell_type": "code",
   "execution_count": 15,
   "metadata": {
    "colab": {
     "base_uri": "https://localhost:8080/"
    },
    "id": "BEVrhuRMwGsd",
    "outputId": "22001da6-fb4d-4221-afb7-071da727dbb3"
   },
   "outputs": [
    {
     "name": "stdout",
     "output_type": "stream",
     "text": [
      "전체 샘플수 : 98360\n"
     ]
    }
   ],
   "source": [
    "data.dropna(axis=0, inplace=True)\n",
    "print('전체 샘플수 :', (len(data)))"
   ]
  },
  {
   "cell_type": "markdown",
   "metadata": {
    "id": "PyRo0rasougI"
   },
   "source": [
    "### 2.4 데이터 셋 분리"
   ]
  },
  {
   "cell_type": "markdown",
   "metadata": {},
   "source": [
    "#### 2.4.1 데이터 최대 길이 설정하기"
   ]
  },
  {
   "cell_type": "code",
   "execution_count": 16,
   "metadata": {
    "colab": {
     "base_uri": "https://localhost:8080/",
     "height": 961
    },
    "id": "BmtZreqCxupB",
    "outputId": "bf191066-9182-4ede-bf36-bf38adaa21c5"
   },
   "outputs": [
    {
     "name": "stdout",
     "output_type": "stream",
     "text": [
      "텍스트의 최소 길이 : 1\n",
      "텍스트의 최대 길이 : 60\n",
      "텍스트의 평균 길이 : 35.09968483123221\n",
      "요약의 최소 길이 : 1\n",
      "요약의 최대 길이 : 16\n",
      "요약의 평균 길이 : 9.299532330215534\n"
     ]
    },
    {
     "data": {
      "image/png": "[encoded data removed]",
      "text/plain": [
       "<Figure size 432x288 with 2 Axes>"
      ]
     },
     "metadata": {
      "needs_background": "light"
     },
     "output_type": "display_data"
    },
    {
     "data": {
      "image/png": "[encoded data removed]",
      "text/plain": [
       "<Figure size 432x288 with 1 Axes>"
      ]
     },
     "metadata": {
      "needs_background": "light"
     },
     "output_type": "display_data"
    },
    {
     "data": {
      "image/png": "[encoded data removed]",
      "text/plain": [
       "<Figure size 432x288 with 1 Axes>"
      ]
     },
     "metadata": {
      "needs_background": "light"
     },
     "output_type": "display_data"
    }
   ],
   "source": [
    "# 길이 분포 출력\n",
    "import matplotlib.pyplot as plt\n",
    "\n",
    "text_len = [len(s.split()) for s in data['text']]\n",
    "summary_len = [len(s.split()) for s in data['headlines']]\n",
    "\n",
    "print('텍스트의 최소 길이 : {}'.format(np.min(text_len)))\n",
    "print('텍스트의 최대 길이 : {}'.format(np.max(text_len)))\n",
    "print('텍스트의 평균 길이 : {}'.format(np.mean(text_len)))\n",
    "print('요약의 최소 길이 : {}'.format(np.min(summary_len)))\n",
    "print('요약의 최대 길이 : {}'.format(np.max(summary_len)))\n",
    "print('요약의 평균 길이 : {}'.format(np.mean(summary_len)))\n",
    "\n",
    "plt.subplot(1,2,1)\n",
    "plt.boxplot(summary_len)\n",
    "plt.title('headlines')\n",
    "plt.subplot(1,2,2)\n",
    "plt.boxplot(text_len)\n",
    "plt.title('text')\n",
    "plt.tight_layout()\n",
    "plt.show()\n",
    "\n",
    "plt.title('headlines')\n",
    "plt.hist(summary_len, bins = 40)\n",
    "plt.xlabel('length of samples')\n",
    "plt.ylabel('number of samples')\n",
    "plt.show()\n",
    "\n",
    "plt.title('text')\n",
    "plt.hist(text_len, bins = 40)\n",
    "plt.xlabel('length of samples')\n",
    "plt.ylabel('number of samples')\n",
    "plt.show()"
   ]
  },
  {
   "cell_type": "markdown",
   "metadata": {
    "id": "4IT_k5Na1UmU"
   },
   "source": [
    "Text의 경우 최소 길이는 1 최대 길이는 60이며, 평균 35정도이다.  \n",
    "Headlines의 경우 최소 길이는 1 최대 길이는 16이며, 평균 9 정도이다.  \n",
    "둘다 그래프의 모양이 정규분포로 띈다.  \n",
    "한 90%정돌 최대길이를 정하면 Text는 40, Headline은 11정도로 최대길이를 정해주었다."
   ]
  },
  {
   "cell_type": "code",
   "execution_count": 17,
   "metadata": {
    "id": "wrnsK4dQ3O3m"
   },
   "outputs": [],
   "source": [
    "text_max_len = 40\n",
    "summary_max_len = 11"
   ]
  },
  {
   "cell_type": "code",
   "execution_count": 18,
   "metadata": {
    "id": "xDmNN-Qw3VZU"
   },
   "outputs": [],
   "source": [
    "def below_threshold_len(max_len, nested_list):\n",
    "  cnt = 0\n",
    "  for s in nested_list:\n",
    "    if(len(s.split()) <= max_len):\n",
    "        cnt = cnt + 1\n",
    "  print('전체 샘플 중 길이가 %s 이하인 샘플의 비율: %s'%(max_len, (cnt / len(nested_list))))"
   ]
  },
  {
   "cell_type": "code",
   "execution_count": 19,
   "metadata": {
    "colab": {
     "base_uri": "https://localhost:8080/"
    },
    "id": "m_s57Hgs3YVj",
    "outputId": "15e37f30-f1a7-40cf-ba2c-a20c159c56a6"
   },
   "outputs": [
    {
     "name": "stdout",
     "output_type": "stream",
     "text": [
      "전체 샘플 중 길이가 40 이하인 샘플의 비율: 0.9238714924766165\n",
      "전체 샘플 중 길이가 11 이하인 샘플의 비율: 0.9449877999186661\n"
     ]
    }
   ],
   "source": [
    "below_threshold_len(text_max_len, data['text'])\n",
    "below_threshold_len(summary_max_len,  data['headlines'])"
   ]
  },
  {
   "cell_type": "code",
   "execution_count": 20,
   "metadata": {},
   "outputs": [
    {
     "name": "stdout",
     "output_type": "stream",
     "text": [
      "전체 샘플수 : 85843\n"
     ]
    }
   ],
   "source": [
    "data = data[data['text'].apply(lambda x: len(x.split()) <= text_max_len)]\n",
    "data = data[data['headlines'].apply(lambda x: len(x.split()) <= summary_max_len)]\n",
    "print('전체 샘플수 :', (len(data)))"
   ]
  },
  {
   "cell_type": "markdown",
   "metadata": {
    "id": "zZrR0Hot3kAZ"
   },
   "source": [
    "#### 2.4.2 시작 토큰과 종료 토큰 추가하기"
   ]
  },
  {
   "cell_type": "code",
   "execution_count": 21,
   "metadata": {
    "colab": {
     "base_uri": "https://localhost:8080/",
     "height": 289
    },
    "id": "neAW2TYF3jkh",
    "outputId": "fa548f4a-0865-4448-a370-0466e2a1bb70"
   },
   "outputs": [
    {
     "data": {
      "text/html": [
       "<div>\n",
       "<style scoped>\n",
       "    .dataframe tbody tr th:only-of-type {\n",
       "        vertical-align: middle;\n",
       "    }\n",
       "\n",
       "    .dataframe tbody tr th {\n",
       "        vertical-align: top;\n",
       "    }\n",
       "\n",
       "    .dataframe thead th {\n",
       "        text-align: right;\n",
       "    }\n",
       "</style>\n",
       "<table border=\"1\" class=\"dataframe\">\n",
       "  <thead>\n",
       "    <tr style=\"text-align: right;\">\n",
       "      <th></th>\n",
       "      <th>headlines</th>\n",
       "      <th>text</th>\n",
       "      <th>decoder_input</th>\n",
       "      <th>decoder_target</th>\n",
       "    </tr>\n",
       "  </thead>\n",
       "  <tbody>\n",
       "    <tr>\n",
       "      <th>0</th>\n",
       "      <td>upgrad learner switches to career in ml al wit...</td>\n",
       "      <td>saurav kant alumnus upgrad iiit pg program mac...</td>\n",
       "      <td>sostoken upgrad learner switches to career in ...</td>\n",
       "      <td>upgrad learner switches to career in ml al wit...</td>\n",
       "    </tr>\n",
       "    <tr>\n",
       "      <th>2</th>\n",
       "      <td>new zealand end rohit sharma led india match w...</td>\n",
       "      <td>new zealand defeated india wickets fourth odi ...</td>\n",
       "      <td>sostoken new zealand end rohit sharma led indi...</td>\n",
       "      <td>new zealand end rohit sharma led india match w...</td>\n",
       "    </tr>\n",
       "    <tr>\n",
       "      <th>3</th>\n",
       "      <td>aegon life iterm insurance plan helps customer...</td>\n",
       "      <td>aegon life iterm insurance plan customers enjo...</td>\n",
       "      <td>sostoken aegon life iterm insurance plan helps...</td>\n",
       "      <td>aegon life iterm insurance plan helps customer...</td>\n",
       "    </tr>\n",
       "    <tr>\n",
       "      <th>5</th>\n",
       "      <td>rahat fateh ali khan denies getting notice for...</td>\n",
       "      <td>pakistani singer rahat fateh ali khan denied r...</td>\n",
       "      <td>sostoken rahat fateh ali khan denies getting n...</td>\n",
       "      <td>rahat fateh ali khan denies getting notice for...</td>\n",
       "    </tr>\n",
       "    <tr>\n",
       "      <th>7</th>\n",
       "      <td>govt directs alok verma to join work day befor...</td>\n",
       "      <td>weeks ex cbi director alok verma told departme...</td>\n",
       "      <td>sostoken govt directs alok verma to join work ...</td>\n",
       "      <td>govt directs alok verma to join work day befor...</td>\n",
       "    </tr>\n",
       "  </tbody>\n",
       "</table>\n",
       "</div>"
      ],
      "text/plain": [
       "                                           headlines  \\\n",
       "0  upgrad learner switches to career in ml al wit...   \n",
       "2  new zealand end rohit sharma led india match w...   \n",
       "3  aegon life iterm insurance plan helps customer...   \n",
       "5  rahat fateh ali khan denies getting notice for...   \n",
       "7  govt directs alok verma to join work day befor...   \n",
       "\n",
       "                                                text  \\\n",
       "0  saurav kant alumnus upgrad iiit pg program mac...   \n",
       "2  new zealand defeated india wickets fourth odi ...   \n",
       "3  aegon life iterm insurance plan customers enjo...   \n",
       "5  pakistani singer rahat fateh ali khan denied r...   \n",
       "7  weeks ex cbi director alok verma told departme...   \n",
       "\n",
       "                                       decoder_input  \\\n",
       "0  sostoken upgrad learner switches to career in ...   \n",
       "2  sostoken new zealand end rohit sharma led indi...   \n",
       "3  sostoken aegon life iterm insurance plan helps...   \n",
       "5  sostoken rahat fateh ali khan denies getting n...   \n",
       "7  sostoken govt directs alok verma to join work ...   \n",
       "\n",
       "                                      decoder_target  \n",
       "0  upgrad learner switches to career in ml al wit...  \n",
       "2  new zealand end rohit sharma led india match w...  \n",
       "3  aegon life iterm insurance plan helps customer...  \n",
       "5  rahat fateh ali khan denies getting notice for...  \n",
       "7  govt directs alok verma to join work day befor...  "
      ]
     },
     "execution_count": 21,
     "metadata": {},
     "output_type": "execute_result"
    }
   ],
   "source": [
    "# 요약 데이터에는 시작 토큰과 종료 토큰을 추가한다.\n",
    "data['decoder_input'] = data['headlines'].apply(lambda x : 'sostoken '+ x)\n",
    "data['decoder_target'] = data['headlines'].apply(lambda x : x + ' eostoken')\n",
    "data.head()"
   ]
  },
  {
   "cell_type": "code",
   "execution_count": 22,
   "metadata": {
    "id": "dwEAZpMQ3veW"
   },
   "outputs": [],
   "source": [
    "encoder_input = np.array(data['text']) # 인코더의 입력\n",
    "decoder_input = np.array(data['decoder_input']) # 디코더의 입력\n",
    "decoder_target = np.array(data['decoder_target']) # 디코더의 레이블"
   ]
  },
  {
   "cell_type": "code",
   "execution_count": 23,
   "metadata": {
    "colab": {
     "base_uri": "https://localhost:8080/"
    },
    "id": "0OPXd2_s30Uy",
    "outputId": "f2ecd70f-eca1-443c-add5-0326534603f2"
   },
   "outputs": [
    {
     "name": "stdout",
     "output_type": "stream",
     "text": [
      "[73939 10989 72558 ... 45648 23900 72613]\n"
     ]
    }
   ],
   "source": [
    "indices = np.arange(encoder_input.shape[0])\n",
    "np.random.shuffle(indices)\n",
    "print(indices)"
   ]
  },
  {
   "cell_type": "code",
   "execution_count": 24,
   "metadata": {
    "id": "iuyu7QYw34-q"
   },
   "outputs": [],
   "source": [
    "encoder_input = encoder_input[indices]\n",
    "decoder_input = decoder_input[indices]\n",
    "decoder_target = decoder_target[indices]"
   ]
  },
  {
   "cell_type": "markdown",
   "metadata": {},
   "source": [
    "#### 2.4.3 데이터 셋 나누기"
   ]
  },
  {
   "cell_type": "code",
   "execution_count": 25,
   "metadata": {
    "colab": {
     "base_uri": "https://localhost:8080/"
    },
    "id": "dB_DrT4236mx",
    "outputId": "0f303c6f-9988-43d4-87c9-fdb48f8c361c"
   },
   "outputs": [
    {
     "name": "stdout",
     "output_type": "stream",
     "text": [
      "테스트 데이터의 수 : 17168\n"
     ]
    }
   ],
   "source": [
    "n_of_val = int(len(encoder_input)*0.2)\n",
    "print('테스트 데이터의 수 :', n_of_val)"
   ]
  },
  {
   "cell_type": "code",
   "execution_count": 26,
   "metadata": {
    "colab": {
     "base_uri": "https://localhost:8080/"
    },
    "id": "7UFZ6ISm3-af",
    "outputId": "075794ad-128e-4afa-891f-3f881241ca99"
   },
   "outputs": [
    {
     "name": "stdout",
     "output_type": "stream",
     "text": [
      "훈련 데이터의 개수 : 68675\n",
      "훈련 레이블의 개수 : 68675\n",
      "테스트 데이터의 개수 : 17168\n",
      "테스트 레이블의 개수 : 17168\n"
     ]
    }
   ],
   "source": [
    "encoder_input_train = encoder_input[:-n_of_val]\n",
    "decoder_input_train = decoder_input[:-n_of_val]\n",
    "decoder_target_train = decoder_target[:-n_of_val]\n",
    "\n",
    "encoder_input_test = encoder_input[-n_of_val:]\n",
    "decoder_input_test = decoder_input[-n_of_val:]\n",
    "decoder_target_test = decoder_target[-n_of_val:]\n",
    "\n",
    "print('훈련 데이터의 개수 :', len(encoder_input_train))\n",
    "print('훈련 레이블의 개수 :', len(decoder_input_train))\n",
    "print('테스트 데이터의 개수 :', len(encoder_input_test))\n",
    "print('테스트 레이블의 개수 :', len(decoder_input_test))"
   ]
  },
  {
   "cell_type": "markdown",
   "metadata": {
    "id": "Y1su0ggToxFJ"
   },
   "source": [
    "### 2.5 인코딩"
   ]
  },
  {
   "cell_type": "code",
   "execution_count": 27,
   "metadata": {
    "id": "lI4FDQCn4Apa"
   },
   "outputs": [],
   "source": [
    "src_tokenizer = Tokenizer() # 토크나이저 정의\n",
    "src_tokenizer.fit_on_texts(encoder_input_train) # 입력된 데이터로부터 단어 집합 생성"
   ]
  },
  {
   "cell_type": "code",
   "execution_count": 28,
   "metadata": {
    "colab": {
     "base_uri": "https://localhost:8080/"
    },
    "id": "CrM-Dum34B4I",
    "outputId": "5521a772-9ccd-4b35-f5da-620f32e61214"
   },
   "outputs": [
    {
     "name": "stdout",
     "output_type": "stream",
     "text": [
      "단어 집합(vocabulary)의 크기 : 64634\n",
      "등장 빈도가 6번 이하인 희귀 단어의 수: 44091\n",
      "단어 집합에서 희귀 단어를 제외시킬 경우의 단어 집합의 크기 20543\n",
      "단어 집합에서 희귀 단어의 비율: 68.21641860321193\n",
      "전체 등장 빈도에서 희귀 단어 등장 빈도 비율: 3.786939193296668\n"
     ]
    }
   ],
   "source": [
    "threshold = 7\n",
    "total_cnt = len(src_tokenizer.word_index) # 단어의 수\n",
    "rare_cnt = 0 # 등장 빈도수가 threshold보다 작은 단어의 개수를 카운트\n",
    "total_freq = 0 # 훈련 데이터의 전체 단어 빈도수 총 합\n",
    "rare_freq = 0 # 등장 빈도수가 threshold보다 작은 단어의 등장 빈도수의 총 합\n",
    "\n",
    "# 단어와 빈도수의 쌍(pair)을 key와 value로 받는다.\n",
    "for key, value in src_tokenizer.word_counts.items():\n",
    "    total_freq = total_freq + value\n",
    "\n",
    "    # 단어의 등장 빈도수가 threshold보다 작으면\n",
    "    if(value < threshold):\n",
    "        rare_cnt = rare_cnt + 1\n",
    "        rare_freq = rare_freq + value\n",
    "\n",
    "print('단어 집합(vocabulary)의 크기 :', total_cnt)\n",
    "print('등장 빈도가 %s번 이하인 희귀 단어의 수: %s'%(threshold - 1, rare_cnt))\n",
    "print('단어 집합에서 희귀 단어를 제외시킬 경우의 단어 집합의 크기 %s'%(total_cnt - rare_cnt))\n",
    "print(\"단어 집합에서 희귀 단어의 비율:\", (rare_cnt / total_cnt)*100)\n",
    "print(\"전체 등장 빈도에서 희귀 단어 등장 빈도 비율:\", (rare_freq / total_freq)*100)"
   ]
  },
  {
   "cell_type": "code",
   "execution_count": 29,
   "metadata": {
    "id": "j6CAHTSA4QOg"
   },
   "outputs": [],
   "source": [
    "src_vocab = 20000\n",
    "src_tokenizer = Tokenizer(num_words=src_vocab) # 단어 집합의 크기를 8,000으로 제한\n",
    "src_tokenizer.fit_on_texts(encoder_input_train) # 단어 집합 재생성."
   ]
  },
  {
   "cell_type": "code",
   "execution_count": 30,
   "metadata": {
    "colab": {
     "base_uri": "https://localhost:8080/"
    },
    "id": "0qoVW7nX6jnD",
    "outputId": "7286ef7e-66e8-4557-9a5d-00e6953f4606"
   },
   "outputs": [
    {
     "name": "stdout",
     "output_type": "stream",
     "text": [
      "[[4056, 4457, 3914, 582, 2098, 2451, 6862, 14758, 1865, 231, 1124, 5141, 16987, 1941, 441, 1679, 4257, 592, 2477, 7747, 16156, 2007, 315, 2116, 7748, 1534, 250, 2428, 7747, 9204, 2116, 1548, 315, 5784, 637], [26, 47, 15, 1230, 992, 68, 1, 1048, 1483, 642, 408, 747, 424, 188, 2067, 1148, 992, 1048, 787, 481, 6, 38, 89, 3732, 51, 234, 3675, 4057, 8023, 992, 1, 3566, 3182, 9, 424, 5785], [67, 127, 63, 2085, 2740, 2803, 2, 1040, 3888, 12, 1759, 67, 8493, 7480, 406, 81, 67, 7480, 5786, 299, 12, 10090, 237, 20, 63, 1, 1079, 1452, 7480, 406, 2, 385, 7480, 1075, 18015, 3091, 16]]\n"
     ]
    }
   ],
   "source": [
    "# 텍스트 시퀀스를 정수 시퀀스로 변환\n",
    "encoder_input_train = src_tokenizer.texts_to_sequences(encoder_input_train) \n",
    "encoder_input_test = src_tokenizer.texts_to_sequences(encoder_input_test)\n",
    "\n",
    "# 잘 진행되었는지 샘플 출력\n",
    "print(encoder_input_train[:3])"
   ]
  },
  {
   "cell_type": "code",
   "execution_count": 31,
   "metadata": {
    "id": "A2F91dWJ6tBt"
   },
   "outputs": [],
   "source": [
    "tar_tokenizer = Tokenizer()\n",
    "tar_tokenizer.fit_on_texts(decoder_input_train)"
   ]
  },
  {
   "cell_type": "code",
   "execution_count": 32,
   "metadata": {
    "colab": {
     "base_uri": "https://localhost:8080/"
    },
    "id": "G4k577VP6vos",
    "outputId": "5f698ad4-a4d6-43f2-e913-9c1ec458418d"
   },
   "outputs": [
    {
     "name": "stdout",
     "output_type": "stream",
     "text": [
      "단어 집합(vocabulary)의 크기 : 28489\n",
      "등장 빈도가 5번 이하인 희귀 단어의 수: 18762\n",
      "단어 집합에서 희귀 단어를 제외시킬 경우의 단어 집합의 크기 9727\n",
      "단어 집합에서 희귀 단어의 비율: 65.8569974376075\n",
      "전체 등장 빈도에서 희귀 단어 등장 빈도 비율: 5.171540992659748\n"
     ]
    }
   ],
   "source": [
    "threshold = 6\n",
    "total_cnt = len(tar_tokenizer.word_index) # 단어의 수\n",
    "rare_cnt = 0 # 등장 빈도수가 threshold보다 작은 단어의 개수를 카운트\n",
    "total_freq = 0 # 훈련 데이터의 전체 단어 빈도수 총 합\n",
    "rare_freq = 0 # 등장 빈도수가 threshold보다 작은 단어의 등장 빈도수의 총 합\n",
    "\n",
    "# 단어와 빈도수의 쌍(pair)을 key와 value로 받는다.\n",
    "for key, value in tar_tokenizer.word_counts.items():\n",
    "    total_freq = total_freq + value\n",
    "\n",
    "    # 단어의 등장 빈도수가 threshold보다 작으면\n",
    "    if(value < threshold):\n",
    "        rare_cnt = rare_cnt + 1\n",
    "        rare_freq = rare_freq + value\n",
    "\n",
    "print('단어 집합(vocabulary)의 크기 :', total_cnt)\n",
    "print('등장 빈도가 %s번 이하인 희귀 단어의 수: %s'%(threshold - 1, rare_cnt))\n",
    "print('단어 집합에서 희귀 단어를 제외시킬 경우의 단어 집합의 크기 %s'%(total_cnt - rare_cnt))\n",
    "print(\"단어 집합에서 희귀 단어의 비율:\", (rare_cnt / total_cnt)*100)\n",
    "print(\"전체 등장 빈도에서 희귀 단어 등장 빈도 비율:\", (rare_freq / total_freq)*100)"
   ]
  },
  {
   "cell_type": "code",
   "execution_count": 33,
   "metadata": {
    "colab": {
     "base_uri": "https://localhost:8080/"
    },
    "id": "Dx-Ldpx86y59",
    "outputId": "ffa11d93-ec2a-4ad4-a09a-c54b5bf0b635"
   },
   "outputs": [
    {
     "name": "stdout",
     "output_type": "stream",
     "text": [
      "input\n",
      "input  [[1, 2502, 2935, 3853, 792, 4, 582, 64], [1, 429, 3, 961, 97, 344, 2222, 933, 46, 988, 1830], [1, 42, 2992, 946, 3, 5383, 29, 884, 23, 8180], [1, 46, 35, 1062, 81, 4, 18, 562, 3154, 1300], [1, 21, 5384, 1962, 1142, 7, 1933, 5385, 3404, 16]]\n",
      "target\n",
      "decoder  [[2502, 2935, 3853, 792, 4, 582, 64, 2], [429, 3, 961, 97, 344, 2222, 933, 46, 988, 1830, 2], [42, 2992, 946, 3, 5383, 29, 884, 23, 8180, 2], [46, 35, 1062, 81, 4, 18, 562, 3154, 1300, 2], [21, 5384, 1962, 1142, 7, 1933, 5385, 3404, 16, 2]]\n"
     ]
    }
   ],
   "source": [
    "\n",
    "tar_vocab = 10000\n",
    "tar_tokenizer = Tokenizer(num_words = tar_vocab) \n",
    "tar_tokenizer.fit_on_texts(decoder_input_train)\n",
    "tar_tokenizer.fit_on_texts(decoder_target_train)\n",
    "\n",
    "# 텍스트 시퀀스를 정수 시퀀스로 변환\n",
    "decoder_input_train = tar_tokenizer.texts_to_sequences(decoder_input_train) \n",
    "decoder_target_train = tar_tokenizer.texts_to_sequences(decoder_target_train)\n",
    "decoder_input_test = tar_tokenizer.texts_to_sequences(decoder_input_test)\n",
    "decoder_target_test = tar_tokenizer.texts_to_sequences(decoder_target_test)\n",
    "\n",
    "#잘 변환되었는지 확인\n",
    "print('input')\n",
    "print('input ',decoder_input_train[:5])\n",
    "print('target')\n",
    "print('decoder ',decoder_target_train[:5])"
   ]
  },
  {
   "cell_type": "code",
   "execution_count": 34,
   "metadata": {
    "colab": {
     "base_uri": "https://localhost:8080/"
    },
    "id": "WFuoV33P61eF",
    "outputId": "30fca373-c9fe-42b2-ae42-27ab46baf613"
   },
   "outputs": [
    {
     "name": "stdout",
     "output_type": "stream",
     "text": [
      "삭제할 훈련 데이터의 개수 : 0\n",
      "삭제할 테스트 데이터의 개수 : 1\n",
      "훈련 데이터의 개수 : 68675\n",
      "훈련 레이블의 개수 : 68675\n",
      "테스트 데이터의 개수 : 17167\n",
      "테스트 레이블의 개수 : 17167\n"
     ]
    },
    {
     "name": "stderr",
     "output_type": "stream",
     "text": [
      "/opt/conda/lib/python3.7/site-packages/numpy/core/_asarray.py:83: VisibleDeprecationWarning: Creating an ndarray from ragged nested sequences (which is a list-or-tuple of lists-or-tuples-or ndarrays with different lengths or shapes) is deprecated. If you meant to do this, you must specify 'dtype=object' when creating the ndarray\n",
      "  return array(a, dtype, copy=False, order=order)\n"
     ]
    }
   ],
   "source": [
    "# 요약문의 길이가 1인 경우 삭제\n",
    "drop_train = [index for index, sentence in enumerate(decoder_input_train) if len(sentence) == 1]\n",
    "drop_test = [index for index, sentence in enumerate(decoder_input_test) if len(sentence) == 1]\n",
    "\n",
    "print('삭제할 훈련 데이터의 개수 :',len(drop_train))\n",
    "print('삭제할 테스트 데이터의 개수 :',len(drop_test))\n",
    "\n",
    "encoder_input_train = np.delete(encoder_input_train, drop_train, axis=0)\n",
    "decoder_input_train = np.delete(decoder_input_train, drop_train, axis=0)\n",
    "decoder_target_train = np.delete(decoder_target_train, drop_train, axis=0)\n",
    "\n",
    "encoder_input_test = np.delete(encoder_input_test, drop_test, axis=0)\n",
    "decoder_input_test = np.delete(decoder_input_test, drop_test, axis=0)\n",
    "decoder_target_test = np.delete(decoder_target_test, drop_test, axis=0)\n",
    "\n",
    "print('훈련 데이터의 개수 :',len(encoder_input_train))\n",
    "print('훈련 레이블의 개수 :',len(decoder_input_train))\n",
    "print('테스트 데이터의 개수 :',len(encoder_input_test))\n",
    "print('테스트 레이블의 개수 :',len(decoder_input_test))"
   ]
  },
  {
   "cell_type": "markdown",
   "metadata": {
    "id": "HdrXOYRr6-hf"
   },
   "source": [
    "#### 패딩"
   ]
  },
  {
   "cell_type": "code",
   "execution_count": 35,
   "metadata": {
    "id": "v9FNx-2r64j2"
   },
   "outputs": [],
   "source": [
    "encoder_input_train = pad_sequences(encoder_input_train, maxlen=text_max_len)\n",
    "encoder_input_test = pad_sequences(encoder_input_test, maxlen=text_max_len)\n",
    "decoder_input_train = pad_sequences(decoder_input_train, maxlen=summary_max_len)\n",
    "decoder_target_train = pad_sequences(decoder_target_train, maxlen=summary_max_len)\n",
    "decoder_input_test = pad_sequences(decoder_input_test, maxlen=summary_max_len)\n",
    "decoder_target_test = pad_sequences(decoder_target_test, maxlen=summary_max_len)"
   ]
  },
  {
   "cell_type": "markdown",
   "metadata": {
    "id": "vTYu_3oin-L7"
   },
   "source": [
    "## 3. 모델 설계하기"
   ]
  },
  {
   "cell_type": "code",
   "execution_count": 36,
   "metadata": {
    "colab": {
     "base_uri": "https://localhost:8080/"
    },
    "id": "-OJlewLR7HjD",
    "outputId": "6d2c3dcf-119b-4a73-da3d-45dacd74813b"
   },
   "outputs": [
    {
     "name": "stdout",
     "output_type": "stream",
     "text": [
      "WARNING:tensorflow:Layer lstm will not use cuDNN kernel since it doesn't meet the cuDNN kernel criteria. It will use generic GPU kernel as fallback when running on GPU\n",
      "WARNING:tensorflow:Layer lstm_1 will not use cuDNN kernel since it doesn't meet the cuDNN kernel criteria. It will use generic GPU kernel as fallback when running on GPU\n",
      "WARNING:tensorflow:Layer lstm_2 will not use cuDNN kernel since it doesn't meet the cuDNN kernel criteria. It will use generic GPU kernel as fallback when running on GPU\n"
     ]
    }
   ],
   "source": [
    "from tensorflow.keras.layers import Input, LSTM, Embedding, Dense, Concatenate\n",
    "from tensorflow.keras.models import Model\n",
    "from tensorflow.keras.callbacks import EarlyStopping, ModelCheckpoint\n",
    "\n",
    "\n",
    "# 인코더 설계 시작\n",
    "embedding_dim = 128\n",
    "hidden_size = 256\n",
    "\n",
    "# 인코더\n",
    "encoder_inputs = Input(shape=(text_max_len,))\n",
    "\n",
    "# 인코더의 임베딩 층\n",
    "enc_emb = Embedding(src_vocab, embedding_dim)(encoder_inputs)\n",
    "\n",
    "# 인코더의 LSTM 1\n",
    "encoder_lstm1 = LSTM(hidden_size, return_sequences=True, return_state=True ,dropout = 0.4, recurrent_dropout = 0.4)\n",
    "encoder_output1, state_h1, state_c1 = encoder_lstm1(enc_emb)\n",
    "\n",
    "# 인코더의 LSTM 2\n",
    "encoder_lstm2 = LSTM(hidden_size, return_sequences=True, return_state=True, dropout=0.4, recurrent_dropout=0.4)\n",
    "encoder_output2, state_h2, state_c2 = encoder_lstm2(encoder_output1)\n",
    "\n",
    "# 인코더의 LSTM 3\n",
    "encoder_lstm3 = LSTM(hidden_size, return_state=True, return_sequences=True, dropout=0.4, recurrent_dropout=0.4)\n",
    "encoder_outputs, state_h, state_c= encoder_lstm3(encoder_output2)"
   ]
  },
  {
   "cell_type": "code",
   "execution_count": 37,
   "metadata": {
    "colab": {
     "base_uri": "https://localhost:8080/"
    },
    "id": "2fK1ey-27IUQ",
    "outputId": "1bdce158-1bcc-41b8-c4b4-f63c31db8137"
   },
   "outputs": [
    {
     "name": "stdout",
     "output_type": "stream",
     "text": [
      "WARNING:tensorflow:Layer lstm_3 will not use cuDNN kernel since it doesn't meet the cuDNN kernel criteria. It will use generic GPU kernel as fallback when running on GPU\n"
     ]
    }
   ],
   "source": [
    "# 디코더 설계\n",
    "decoder_inputs = Input(shape=(None,))\n",
    "\n",
    "# 디코더의 임베딩 층\n",
    "dec_emb_layer = Embedding(tar_vocab, embedding_dim)\n",
    "dec_emb = dec_emb_layer(decoder_inputs)\n",
    "\n",
    "# 디코더의 LSTM\n",
    "decoder_lstm = LSTM(hidden_size, return_sequences=True, return_state=True, dropout=0.4, recurrent_dropout=0.2)\n",
    "decoder_outputs, _, _ = decoder_lstm(dec_emb, initial_state=[state_h, state_c])"
   ]
  },
  {
   "cell_type": "code",
   "execution_count": 38,
   "metadata": {
    "colab": {
     "base_uri": "https://localhost:8080/"
    },
    "id": "6I8EQL7O7LbU",
    "outputId": "fb8d6df4-f8ae-4967-c317-472a4f25b815"
   },
   "outputs": [
    {
     "name": "stdout",
     "output_type": "stream",
     "text": [
      "Model: \"model\"\n",
      "__________________________________________________________________________________________________\n",
      "Layer (type)                    Output Shape         Param #     Connected to                     \n",
      "==================================================================================================\n",
      "input_1 (InputLayer)            [(None, 40)]         0                                            \n",
      "__________________________________________________________________________________________________\n",
      "embedding (Embedding)           (None, 40, 128)      2560000     input_1[0][0]                    \n",
      "__________________________________________________________________________________________________\n",
      "lstm (LSTM)                     [(None, 40, 256), (N 394240      embedding[0][0]                  \n",
      "__________________________________________________________________________________________________\n",
      "input_2 (InputLayer)            [(None, None)]       0                                            \n",
      "__________________________________________________________________________________________________\n",
      "lstm_1 (LSTM)                   [(None, 40, 256), (N 525312      lstm[0][0]                       \n",
      "__________________________________________________________________________________________________\n",
      "embedding_1 (Embedding)         (None, None, 128)    1280000     input_2[0][0]                    \n",
      "__________________________________________________________________________________________________\n",
      "lstm_2 (LSTM)                   [(None, 40, 256), (N 525312      lstm_1[0][0]                     \n",
      "__________________________________________________________________________________________________\n",
      "lstm_3 (LSTM)                   [(None, None, 256),  394240      embedding_1[0][0]                \n",
      "                                                                 lstm_2[0][1]                     \n",
      "                                                                 lstm_2[0][2]                     \n",
      "__________________________________________________________________________________________________\n",
      "dense (Dense)                   (None, None, 10000)  2570000     lstm_3[0][0]                     \n",
      "==================================================================================================\n",
      "Total params: 8,249,104\n",
      "Trainable params: 8,249,104\n",
      "Non-trainable params: 0\n",
      "__________________________________________________________________________________________________\n"
     ]
    }
   ],
   "source": [
    "# 디코더의 출력층\n",
    "decoder_softmax_layer = Dense(tar_vocab, activation='softmax')\n",
    "decoder_softmax_outputs = decoder_softmax_layer(decoder_outputs) \n",
    "\n",
    "# 모델 정의\n",
    "model = Model([encoder_inputs, decoder_inputs], decoder_softmax_outputs)\n",
    "model.summary()"
   ]
  },
  {
   "cell_type": "code",
   "execution_count": 39,
   "metadata": {
    "id": "i4wZx7hK7MeS"
   },
   "outputs": [],
   "source": [
    "urllib.request.urlretrieve(\"https://raw.githubusercontent.com/thushv89/attention_keras/master/src/layers/attention.py\", filename=\"attention.py\")\n",
    "from attention import AttentionLayer"
   ]
  },
  {
   "cell_type": "code",
   "execution_count": 40,
   "metadata": {},
   "outputs": [
    {
     "name": "stdout",
     "output_type": "stream",
     "text": [
      "Model: \"model_1\"\n",
      "__________________________________________________________________________________________________\n",
      "Layer (type)                    Output Shape         Param #     Connected to                     \n",
      "==================================================================================================\n",
      "input_1 (InputLayer)            [(None, 40)]         0                                            \n",
      "__________________________________________________________________________________________________\n",
      "embedding (Embedding)           (None, 40, 128)      2560000     input_1[0][0]                    \n",
      "__________________________________________________________________________________________________\n",
      "lstm (LSTM)                     [(None, 40, 256), (N 394240      embedding[0][0]                  \n",
      "__________________________________________________________________________________________________\n",
      "input_2 (InputLayer)            [(None, None)]       0                                            \n",
      "__________________________________________________________________________________________________\n",
      "lstm_1 (LSTM)                   [(None, 40, 256), (N 525312      lstm[0][0]                       \n",
      "__________________________________________________________________________________________________\n",
      "embedding_1 (Embedding)         (None, None, 128)    1280000     input_2[0][0]                    \n",
      "__________________________________________________________________________________________________\n",
      "lstm_2 (LSTM)                   [(None, 40, 256), (N 525312      lstm_1[0][0]                     \n",
      "__________________________________________________________________________________________________\n",
      "lstm_3 (LSTM)                   [(None, None, 256),  394240      embedding_1[0][0]                \n",
      "                                                                 lstm_2[0][1]                     \n",
      "                                                                 lstm_2[0][2]                     \n",
      "__________________________________________________________________________________________________\n",
      "attention_layer (AttentionLayer ((None, None, 256),  131328      lstm_2[0][0]                     \n",
      "                                                                 lstm_3[0][0]                     \n",
      "__________________________________________________________________________________________________\n",
      "concat_layer (Concatenate)      (None, None, 512)    0           lstm_3[0][0]                     \n",
      "                                                                 attention_layer[0][0]            \n",
      "__________________________________________________________________________________________________\n",
      "dense_1 (Dense)                 (None, None, 10000)  5130000     concat_layer[0][0]               \n",
      "==================================================================================================\n",
      "Total params: 10,940,432\n",
      "Trainable params: 10,940,432\n",
      "Non-trainable params: 0\n",
      "__________________________________________________________________________________________________\n"
     ]
    }
   ],
   "source": [
    "# 어텐션 층(어텐션 함수)\n",
    "attn_layer = AttentionLayer(name='attention_layer')\n",
    "# 인코더와 디코더의 모든 time step의 hidden state를 어텐션 층에 전달하고 결과를 리턴\n",
    "attn_out, attn_states = attn_layer([encoder_outputs, decoder_outputs])\n",
    "\n",
    "# 어텐션의 결과와 디코더의 hidden state들을 연결\n",
    "decoder_concat_input = Concatenate(axis=-1, name='concat_layer')([decoder_outputs, attn_out])\n",
    "\n",
    "# 디코더의 출력층\n",
    "decoder_softmax_layer = Dense(tar_vocab, activation='softmax')\n",
    "decoder_softmax_outputs = decoder_softmax_layer(decoder_concat_input)\n",
    "\n",
    "# 모델 정의\n",
    "model = Model([encoder_inputs, decoder_inputs], decoder_softmax_outputs)\n",
    "model.summary()"
   ]
  },
  {
   "cell_type": "markdown",
   "metadata": {
    "id": "VRNRm2qeoNHu"
   },
   "source": [
    "## 4. 모델 훈련하기"
   ]
  },
  {
   "cell_type": "code",
   "execution_count": 41,
   "metadata": {
    "colab": {
     "base_uri": "https://localhost:8080/"
    },
    "id": "Q_rSkLup7aW1",
    "outputId": "26c6e248-2e88-491e-8abd-941cb7ff9cbe"
   },
   "outputs": [
    {
     "name": "stdout",
     "output_type": "stream",
     "text": [
      "Epoch 1/50\n",
      "269/269 [==============================] - 186s 650ms/step - loss: 6.3483 - val_loss: 5.6000\n",
      "Epoch 2/50\n",
      "269/269 [==============================] - 176s 653ms/step - loss: 5.6506 - val_loss: 5.4846\n",
      "Epoch 3/50\n",
      "269/269 [==============================] - 177s 658ms/step - loss: 5.5084 - val_loss: 5.3638\n",
      "Epoch 4/50\n",
      "269/269 [==============================] - 177s 658ms/step - loss: 5.3592 - val_loss: 5.4499\n",
      "Epoch 5/50\n",
      "269/269 [==============================] - 177s 660ms/step - loss: 5.0996 - val_loss: 4.8929\n",
      "Epoch 6/50\n",
      "269/269 [==============================] - 178s 663ms/step - loss: 4.8407 - val_loss: 4.7035\n",
      "Epoch 7/50\n",
      "269/269 [==============================] - 179s 665ms/step - loss: 4.6025 - val_loss: 4.5986\n",
      "Epoch 8/50\n",
      "269/269 [==============================] - 177s 658ms/step - loss: 4.4115 - val_loss: 4.4215\n",
      "Epoch 9/50\n",
      "269/269 [==============================] - 176s 656ms/step - loss: 4.2221 - val_loss: 4.3073\n",
      "Epoch 10/50\n",
      "269/269 [==============================] - 175s 652ms/step - loss: 4.0864 - val_loss: 4.2297\n",
      "Epoch 11/50\n",
      "269/269 [==============================] - 174s 648ms/step - loss: 3.9446 - val_loss: 4.1568\n",
      "Epoch 12/50\n",
      "269/269 [==============================] - 174s 647ms/step - loss: 3.8263 - val_loss: 4.1059\n",
      "Epoch 13/50\n",
      "269/269 [==============================] - 174s 648ms/step - loss: 3.7315 - val_loss: 4.0963\n",
      "Epoch 14/50\n",
      "269/269 [==============================] - 175s 650ms/step - loss: 3.6220 - val_loss: 4.0272\n",
      "Epoch 15/50\n",
      "269/269 [==============================] - 174s 647ms/step - loss: 3.5410 - val_loss: 3.9934\n",
      "Epoch 16/50\n",
      "269/269 [==============================] - 174s 648ms/step - loss: 3.4572 - val_loss: 3.9578\n",
      "Epoch 17/50\n",
      "269/269 [==============================] - 176s 653ms/step - loss: 3.3844 - val_loss: 3.9307\n",
      "Epoch 18/50\n",
      "269/269 [==============================] - 175s 652ms/step - loss: 3.3107 - val_loss: 3.9067\n",
      "Epoch 19/50\n",
      "269/269 [==============================] - 177s 657ms/step - loss: 3.2508 - val_loss: 3.8938\n",
      "Epoch 20/50\n",
      "269/269 [==============================] - 176s 654ms/step - loss: 3.1874 - val_loss: 3.8711\n",
      "Epoch 21/50\n",
      "269/269 [==============================] - 174s 649ms/step - loss: 3.1361 - val_loss: 3.8573\n",
      "Epoch 22/50\n",
      "269/269 [==============================] - 175s 652ms/step - loss: 3.0797 - val_loss: 3.8605\n",
      "Epoch 23/50\n",
      "269/269 [==============================] - 177s 657ms/step - loss: 3.0351 - val_loss: 3.8365\n",
      "Epoch 24/50\n",
      "269/269 [==============================] - 177s 657ms/step - loss: 2.9875 - val_loss: 3.8436\n",
      "Epoch 25/50\n",
      "269/269 [==============================] - 175s 650ms/step - loss: 2.9461 - val_loss: 3.8356\n",
      "Epoch 26/50\n",
      "269/269 [==============================] - 176s 654ms/step - loss: 2.9030 - val_loss: 3.8342\n",
      "Epoch 27/50\n",
      "269/269 [==============================] - 177s 658ms/step - loss: 2.8754 - val_loss: 3.8335\n",
      "Epoch 28/50\n",
      "269/269 [==============================] - 177s 657ms/step - loss: 2.8228 - val_loss: 3.8368\n",
      "Epoch 29/50\n",
      "269/269 [==============================] - 175s 652ms/step - loss: 2.7808 - val_loss: 3.8192\n",
      "Epoch 30/50\n",
      "269/269 [==============================] - 177s 657ms/step - loss: 2.7434 - val_loss: 3.8226\n",
      "Epoch 31/50\n",
      "269/269 [==============================] - 176s 656ms/step - loss: 2.7072 - val_loss: 3.8219\n",
      "Epoch 00031: early stopping\n"
     ]
    }
   ],
   "source": [
    "model.compile(optimizer='rmsprop', loss='sparse_categorical_crossentropy')\n",
    "es = EarlyStopping(monitor='val_loss', patience=2, verbose=1)\n",
    "history = model.fit(x=[encoder_input_train, decoder_input_train], y=decoder_target_train, \\\n",
    "          validation_data=([encoder_input_test, decoder_input_test], decoder_target_test), \\\n",
    "          batch_size=256, callbacks=[es], epochs=50)"
   ]
  },
  {
   "cell_type": "code",
   "execution_count": 42,
   "metadata": {
    "id": "yUGkYONZ7ciF"
   },
   "outputs": [
    {
     "data": {
      "image/png": "[encoded data removed]",
      "text/plain": [
       "<Figure size 432x288 with 1 Axes>"
      ]
     },
     "metadata": {
      "needs_background": "light"
     },
     "output_type": "display_data"
    }
   ],
   "source": [
    "plt.plot(history.history['loss'], label='train')\n",
    "plt.plot(history.history['val_loss'], label='test')\n",
    "plt.legend()\n",
    "plt.show()"
   ]
  },
  {
   "cell_type": "markdown",
   "metadata": {},
   "source": [
    "train 그래프만 보면 아주 적절하게 학습이 된것 같고, test와 train의 차이가 좀 나는 것을 보아 약간의 overfit된것 같다."
   ]
  },
  {
   "cell_type": "markdown",
   "metadata": {
    "id": "HFJN-VecoQMb"
   },
   "source": [
    "## 5. 인퍼런스 모델 구현하기"
   ]
  },
  {
   "cell_type": "code",
   "execution_count": 43,
   "metadata": {},
   "outputs": [],
   "source": [
    "src_index_to_word = src_tokenizer.index_word # 원문 단어 집합에서 정수 -> 단어를 얻음\n",
    "tar_word_to_index = tar_tokenizer.word_index # 요약 단어 집합에서 단어 -> 정수를 얻음\n",
    "tar_index_to_word = tar_tokenizer.index_word # 요약 단어 집합에서 정수 -> 단어를 얻음"
   ]
  },
  {
   "cell_type": "code",
   "execution_count": 44,
   "metadata": {},
   "outputs": [],
   "source": [
    "# 인코더 설계\n",
    "encoder_model = Model(inputs=encoder_inputs, outputs=[encoder_outputs, state_h, state_c])\n",
    "\n",
    "# 이전 시점의 상태들을 저장하는 텐서\n",
    "decoder_state_input_h = Input(shape=(hidden_size,))\n",
    "decoder_state_input_c = Input(shape=(hidden_size,))\n",
    "\n",
    "dec_emb2 = dec_emb_layer(decoder_inputs)\n",
    "\n",
    "# 문장의 다음 단어를 예측하기 위해서 초기 상태(initial_state)를 이전 시점의 상태로 사용. 이는 뒤의 함수 decode_sequence()에 구현\n",
    "# 훈련 과정에서와 달리 LSTM의 리턴하는 은닉 상태와 셀 상태인 state_h와 state_c를 버리지 않음.\n",
    "decoder_outputs2, state_h2, state_c2 = decoder_lstm(dec_emb2, initial_state=[decoder_state_input_h, decoder_state_input_c])"
   ]
  },
  {
   "cell_type": "code",
   "execution_count": 45,
   "metadata": {},
   "outputs": [],
   "source": [
    "# 어텐션 함수\n",
    "decoder_hidden_state_input = Input(shape=(text_max_len, hidden_size))\n",
    "attn_out_inf, attn_states_inf = attn_layer([decoder_hidden_state_input, decoder_outputs2])\n",
    "decoder_inf_concat = Concatenate(axis=-1, name='concat')([decoder_outputs2, attn_out_inf])\n",
    "\n",
    "# 디코더의 출력층\n",
    "decoder_outputs2 = decoder_softmax_layer(decoder_inf_concat) \n",
    "\n",
    "# 최종 디코더 모델\n",
    "decoder_model = Model(\n",
    "    [decoder_inputs] + [decoder_hidden_state_input,decoder_state_input_h, decoder_state_input_c],\n",
    "    [decoder_outputs2] + [state_h2, state_c2])"
   ]
  },
  {
   "cell_type": "code",
   "execution_count": 46,
   "metadata": {},
   "outputs": [],
   "source": [
    "def decode_sequence(input_seq):\n",
    "    # 입력으로부터 인코더의 상태를 얻음\n",
    "    e_out, e_h, e_c = encoder_model.predict(input_seq)\n",
    "\n",
    "     # <SOS>에 해당하는 토큰 생성\n",
    "    target_seq = np.zeros((1,1))\n",
    "    target_seq[0, 0] = tar_word_to_index['sostoken']\n",
    "\n",
    "    stop_condition = False\n",
    "    decoded_sentence = ''\n",
    "    while not stop_condition: # stop_condition이 True가 될 때까지 루프 반복\n",
    "\n",
    "        output_tokens, h, c = decoder_model.predict([target_seq] + [e_out, e_h, e_c])\n",
    "        sampled_token_index = np.argmax(output_tokens[0, -1, :])\n",
    "        sampled_token = tar_index_to_word[sampled_token_index]\n",
    "\n",
    "        if (sampled_token!='eostoken'):\n",
    "            decoded_sentence += ' '+sampled_token\n",
    "\n",
    "        #  <eos>에 도달하거나 최대 길이를 넘으면 중단.\n",
    "        if (sampled_token == 'eostoken'  or len(decoded_sentence.split()) >= (summary_max_len-1)):\n",
    "            stop_condition = True\n",
    "\n",
    "        # 길이가 1인 타겟 시퀀스를 업데이트\n",
    "        target_seq = np.zeros((1,1))\n",
    "        target_seq[0, 0] = sampled_token_index\n",
    "\n",
    "        # 상태를 업데이트 합니다.\n",
    "        e_h, e_c = h, c\n",
    "\n",
    "    return decoded_sentence"
   ]
  },
  {
   "cell_type": "markdown",
   "metadata": {
    "id": "_FVS-ROZoUCh"
   },
   "source": [
    "## 6. 모델 테스트 하기"
   ]
  },
  {
   "cell_type": "code",
   "execution_count": 47,
   "metadata": {},
   "outputs": [],
   "source": [
    "# 원문의 정수 시퀀스를 텍스트 시퀀스로 변환\n",
    "def seq2text(input_seq):\n",
    "    temp=''\n",
    "    for i in input_seq:\n",
    "        if (i!=0):\n",
    "            temp = temp + src_index_to_word[i]+' '\n",
    "    return temp\n",
    "\n",
    "# 요약문의 정수 시퀀스를 텍스트 시퀀스로 변환\n",
    "def seq2summary(input_seq):\n",
    "    temp=''\n",
    "    for i in input_seq:\n",
    "        if ((i!=0 and i!=tar_word_to_index['sostoken']) and i!=tar_word_to_index['eostoken']):\n",
    "            temp = temp + tar_index_to_word[i] + ' '\n",
    "    return temp"
   ]
  },
  {
   "cell_type": "code",
   "execution_count": 48,
   "metadata": {},
   "outputs": [
    {
     "name": "stdout",
     "output_type": "stream",
     "text": [
      "원문 : london based british museum recently tweeted asian names confusing careful using many responding question making information accessible wider range people session keeper asia jane portal museum apologised criticised twitter users \n",
      "실제 요약 : sometimes asian names can be british museum \n",
      "예측 요약 :  asian american athlete named in us for st time since\n",
      "\n",
      "\n",
      "원문 : joint team rajasthan ats chennai police tuesday detained suspected isis operator bazaar locality chennai tamil nadu year old suspected collecting sending funds recruiting youth terror group ats scanning detained man bank accounts check money flow terror links \n",
      "실제 요약 : rajasthan ats detains suspected isis operator from chennai \n",
      "예측 요약 :  police find policemen in kashmir to steal lakh in kashmir\n",
      "\n",
      "\n",
      "원문 : demise gd agrawal another activist sant rushed hospital th day fast conservation river ganga suffering dehydration sugar level hospital reportedly permitted take measures necessary save life including force feeding \n",
      "실제 요약 : yr old hospitalised on th day of fast for river ganga \n",
      "예측 요약 :  hospital collapses in tn after days due to hospital custody\n",
      "\n",
      "\n",
      "원문 : police constable sanjay ahir arrested allegedly assaulting indian cricketer ravindra jadeja wife vehicles collided gujarat jamnagar departmental inquiry ordered accused police said eyewitnesses claimed accused thrashed pulled hair altercation \n",
      "실제 요약 : police constable arrested for assaulting jadeja wife \n",
      "예측 요약 :  ex wife held for killing cricketer in bus in chennai\n",
      "\n",
      "\n",
      "원문 : samajwadi party leader azam khan said image pm narendra modi affected harassed muslims approach united nations narrate ordeal muslims follow holy quran continue obey till last breath whereas prime minister neither aware islam hinduism added \n",
      "실제 요약 : pm image will be affected if muslims approached un azam \n",
      "예측 요약 :  pm modi has no bharat on mulayam in ls polls\n",
      "\n",
      "\n",
      "원문 : second anniversary demonetisation thursday west bengal chief minister mamata banerjee tweeted government cheated nation big demonetisation scam ruined economy lives millions people punish called dark day added renowned economists common people experts agree \n",
      "실제 요약 : people will punish govt mamata on demonetisation years \n",
      "예측 요약 :  mamata banerjee has no place in history of mamata banerjee\n",
      "\n",
      "\n",
      "원문 : former censor board chief pahlaj nihalani claimed information broadcasting minister smriti irani responsible removal post think thrown clearing movie indu sarkar without cuts said day officially told minister replaced added \n",
      "실제 요약 : ex censor board chief blames smriti irani for his firing \n",
      "예측 요약 :  censor board chief pahlaj slams censor chief for not paying\n",
      "\n",
      "\n",
      "원문 : eight time olympic gold medallist usain bolt given dream becoming professional footballer failed agree contract australian side central coast mariners last year following trial adding moving different businesses bolt said sports life fun lasted added \n",
      "실제 요약 : usain bolt gives up football says his sports life is over \n",
      "예측 요약 :  bolt loses out of race due to finish final test\n",
      "\n",
      "\n",
      "원문 : actor tom known portraying harry potter films shared video playing guitar singing streets prague czech republic one recognised actor old town area city shoot upcoming film film also stars daisy ridley \n",
      "실제 요약 : harry potter actor sings on streets no one recognises him \n",
      "예측 요약 :  richa shares video of his singing singing show in film\n",
      "\n",
      "\n",
      "원문 : supreme court monday granted days interim bail bengaluru blast case accused abdul attend son marriage kerala august earlier july national investigation agency court rejected plea seeking bail serial blasts left people dead others injured \n",
      "실제 요약 : sc grants bail to luru blast accused for son marriage \n",
      "예측 요약 :  sc orders bail in jail for bail in abu murder\n",
      "\n",
      "\n",
      "원문 : scientists using nasa hubble space telescope claim discovered strongest evidence yet exoplanet atmosphere water top planet atmosphere heated hot enough metals scientists said planet named wasp times massive jupiter orbits host star days added \n",
      "실제 요약 : water atmosphere detected on an exoplanet \n",
      "예측 요약 :  nasa finds the sun to find sun in ocean sun\n",
      "\n",
      "\n",
      "원문 : ileana cruz responded fan asked faced criticism awkward body firstly awkward body type nobody yes criticised replied ileana added trying learn love try someone else \n",
      "실제 요약 : ileana responds to fan who called her body \n",
      "예측 요약 :  was told me to be breast on my life neha\n",
      "\n",
      "\n",
      "원문 : chris scott staff awarded man match efforts make play happen rain affected test match new zealand south africa ended december ensured overs play possible despite first third fourth days play abandoned without bowl bowled \n",
      "실제 요약 : were once awarded man of the match in test \n",
      "예측 요약 :  yr old australian player who was once awarded for months\n",
      "\n",
      "\n",
      "원문 : new videos indian army surgical strikes terrorists pakistan occupied kashmir emerged two days ahead second anniversary army operation video shows terrorists bunkers military installations blown army conducted surgical strikes seven terror intervening night september september \n",
      "실제 요약 : videos of surgical strikes emerge days ahead of anniversary \n",
      "예측 요약 :  what is the major jawans in india martyred in kashmir\n",
      "\n",
      "\n",
      "원문 : schoolchildren uttar pradesh allegedly made sit without food water hours event attended state minister jaiswal students seated noon event began pm meanwhile jaiswal said know children seated hours advance concerned teachers \n",
      "실제 요약 : kids made to sit hrs without food for up minister event \n",
      "예측 요약 :  up teacher tells students to avoid water at taj mahal\n",
      "\n",
      "\n",
      "원문 : punjab haryana high court said procedure court marriage must reflect mindset changed times secular nation promoting inter religion marriages court said ruling interfaith marriage case hindu muslim couple added haryana government court marriage check list largely violates couple right privacy \n",
      "실제 요약 : change mindset do not interfaith marriage hc \n",
      "예측 요약 :  court slams delhi govt for divorce to be good country\n",
      "\n",
      "\n",
      "원문 : johnny turned today used sell pens streets pune becoming actor also used perform different functions yesteryear actors like ashok kumar actor reportedly used get paid day public \n",
      "실제 요약 : sold pens on streets before becoming an actor \n",
      "예측 요약 :  beauty beauty sold for the time in the world auction\n",
      "\n",
      "\n",
      "원문 : australian cricketers steve smith david warner barred playing rajasthan royals sunrisers hyderabad respectively upcoming indian premier league season ipl commissioner rajeev shukla confirmed franchises allowed pick replacements ajinkya rahane lead rajasthan royals sunrisers hyderabad yet name replacement captain \n",
      "실제 요약 : david warner steve smith banned from playing in ipl \n",
      "예측 요약 :  warner to play ipl in ipl for ipl auction reports\n",
      "\n",
      "\n",
      "원문 : periodic table elements building blocks universe created big bang hydrogen one proton one electron element making element universe hydrogen believed element accounting visible universe \n",
      "실제 요약 : why is hydrogen the most in the universe \n",
      "예측 요약 :  man of comet found in the first time in years\n",
      "\n",
      "\n",
      "원문 : nawazuddin siddiqui ex girlfriend sunita sent legal notice revealing personal details relationship biography ordinary life memoir said despite nawazuddin claim withdrawing memoir book still circulation sunita also asked apology nawazuddin within hours demanded sum crore \n",
      "실제 요약 : nawazuddin ex sends him legal notice over his biography \n",
      "예측 요약 :  nawazuddin denies report of ex wife in law on report\n",
      "\n",
      "\n",
      "원문 : us judge dismissed shareholders lawsuit elon musk led tesla accusing carmaker misleading model vehicle production targets ruled tesla failed achieve production goals federal securities laws punish companies failing achieve targets plaintiffs given till september amend complaint \n",
      "실제 요약 : musk tesla wins lawsuit over model production targets \n",
      "예측 요약 :  tesla cars not charge musk on musk tesla cars report\n",
      "\n",
      "\n",
      "원문 : icici bank decided postpone annual general meeting month amidst independent enquiry conducted justice alleged cases bank ceo chanda kochhar held september instead august kochhar gone leave till inquiry allegations complete \n",
      "실제 요약 : icici bank postpones by month amid chanda kochhar row \n",
      "예측 요약 :  rbi to probe in months after rbi decision to jan\n",
      "\n",
      "\n",
      "원문 : us supreme court wednesday upheld travel ban exemption grandparents relatives us citizens comes donald trump administration challenged hawaiian court ruling termed grandparents cousins relatives close family members eligible exemption government defined close family members parents spouse fianc siblings \n",
      "실제 요약 : us sc allows travel ban exemption for citizens \n",
      "예측 요약 :  us court orders ban on travel to ban rohingya crisis\n",
      "\n",
      "\n",
      "원문 : according reports priyanka chopra opted sanjay leela bhansali biopic poet lyricist titled priyanka said co producing film bhansali reportedly want work abhishek bachchan film source claimed priyanka wanted work actor done period film \n",
      "실제 요약 : priyanka out of bhansali biopic on report \n",
      "예측 요약 :  priyanka to play bharat in bharat on bharat bharat report\n",
      "\n",
      "\n",
      "원문 : leader indonesian islamist organisation campaigned sending capital jakarta ethnic chinese christian governor prison blasphemy called campaign targeting wealth country ethnic chinese minority said ethnic chinese make less indonesia population control much wealth generous \n",
      "실제 요약 : chinese wealth next target indonesian islamist leader \n",
      "예측 요약 :  us navy recognition to be held in china for years\n",
      "\n",
      "\n",
      "원문 : ahead champions trophy final clash pakistan indian captain virat kohli urged team forget victory arch rivals group stage everyone aware kind talent day beat side world added kohli \n",
      "실제 요약 : forget group win over pak kohli warns team before final \n",
      "예측 요약 :  kohli once called me for the world cup final pak\n",
      "\n",
      "\n",
      "원문 : delhi lieutenant governor anil baijal directed chief secretary recover crore aam aadmi party days advertisements projecting arvind kejriwal violation supreme court guidelines comptroller auditor general earlier criticised aap government spending crore advertisements outside delhi saying beyond responsibility \n",
      "실제 요약 : aap must pay cr for ads kejriwal delhi \n",
      "예측 요약 :  aap leader asks aap to not be in delhi report\n",
      "\n",
      "\n",
      "원문 : priyanka chopra answering vogue questions series revealed always travels mandir asked americans indians said americans think everyone india arranged marriage indians speak language called indian said actress would nasa engineer \n",
      "실제 요약 : always travel with my mandir says priyanka chopra \n",
      "예측 요약 :  priyanka is the best in india priyanka on priyanka chopra\n",
      "\n",
      "\n",
      "원문 : trailer rishi kapoor taapsee pannu starrer mulk released taapsee seen role lawyer rishi plays man named murad ali mohammed mulk also stars neena gupta rajat kapoor written directed anubhav sinha film scheduled release august \n",
      "실제 요약 : trailer of rishi kapoor taapsee pannu mulk released \n",
      "예측 요약 :  trailer of big rishi starrer tamil remake of big out\n",
      "\n",
      "\n",
      "원문 : indian cricket team moved one spot third position fresh icc odi team rankings released monday south africa retained top spot team rankings australia one rating point ahead india second place notably india ranked first second tests respectively \n",
      "실제 요약 : india move to third spot in icc odi team rankings \n",
      "예측 요약 :  india top odi series in icc odi series in rankings\n",
      "\n",
      "\n",
      "원문 : south korean technology company samsung reportedly working wireless earphones compete apple airpods earphones powered samsung smart assistant could possibly launched galaxy note next month according reports earphones also believed feature noise cancelling technology \n",
      "실제 요약 : samsung making wireless earphones to rival airpods reports \n",
      "예측 요약 :  iphone to launch its own store for the first time\n",
      "\n",
      "\n",
      "원문 : government privatise ongc rather give away producing oil gas fields private firms company executives said would give government enough revenue meet disinvestment target bring efficient private sector management added notably government planning give away fields raise output \n",
      "실제 요약 : ongc do not sell off oil fields company officials \n",
      "예측 요약 :  govt to sell stake in coal for sale of startups\n",
      "\n",
      "\n",
      "원문 : ex australia spinner shane warne revealed became chelsea supporter encounter knife wielding chelsea fan london tube added fan asked team supported seeing big knife fan hand replied chelsea since scared support anyone else confessed \n",
      "실제 요약 : started supporting chelsea after fan scared me with knife warne \n",
      "예측 요약 :  ex england captain shot dead after his death in prison\n",
      "\n",
      "\n",
      "원문 : india ranked world sixth wealthiest nation total wealth trillion according report new world wealth us topped list total wealth nearly trillion followed china japan india best performer total wealth rose \n",
      "실제 요약 : india ranked th country in the world report \n",
      "예측 요약 :  india has the most wealth in the world in india\n",
      "\n",
      "\n",
      "원문 : presents online accounting software books built india claims help businesses transition gst easily books businesses record also file gst returns books full fledged accounting software priced rs year entire company \n",
      "실제 요약 : makes transition to gst easy for \n",
      "예측 요약 :  gst will not be reduced to in india in october\n",
      "\n",
      "\n",
      "원문 : former australian football captain tim plays side jamshedpur fc posted video playing cricket free time india video seen batting captioned little bit cricket day like cricket love earlier said virat kohli fan \n",
      "실제 요약 : former australia football captain plays cricket in india \n",
      "예측 요약 :  will not be allowed to watch england captain on odi\n",
      "\n",
      "\n",
      "원문 : rebel aiadmk mlas move supreme court madras high court order upholding disqualification face elections leader ttv dhinakaran said chief election commissioner op rawat said commission start making arrangements elections disqualified mlas fail challenge hc verdict within days \n",
      "실제 요약 : aiadmk rebel mlas will not challenge disqualification order \n",
      "예측 요약 :  ec moves ec seeking ec ban on evms in polls\n",
      "\n",
      "\n",
      "원문 : icici bank chairman chaturvedi said final decision chanda kochhar taken receiving report adding continues ceo ex sc judge probing conflict interest pro quo allegations kochhar videocon loan case kochhar leave till investigation completed \n",
      "실제 요약 : kochhar still ceo decision on her after probe report icici \n",
      "예측 요약 :  icici bank denies reports of icici ceo chanda kochhar exit\n",
      "\n",
      "\n",
      "원문 : following claims verbal spat kings xi punjab mentor virender sehwag owner preity zinta team issued statement said culture team encourages open frank debate statement read culture team open non debates aimed towards common goal continuous improvement \n",
      "실제 요약 : encourage open and debate kxip on preity sehwag spat \n",
      "예측 요약 :  yuvraj singh asks punjab to prove his name on twitter\n",
      "\n",
      "\n",
      "원문 : former indian cricketer mohammad kaif reportedly approached afghanistan cricket board post team head coach comes month decided renew contract current coach rajput kaif last played international game appointed captain cum mentor chhattisgarh team last year \n",
      "실제 요약 : mohammad kaif may become afghanistan head coach \n",
      "예측 요약 :  afghan captain captain applies for playing odis in india report\n",
      "\n",
      "\n",
      "원문 : us announced conducted second series test flights involving upgraded version gravity nuclear bombs first successful test march year test comes amid rising tensions us north korea latter missile programme threats strike us territory guam \n",
      "실제 요약 : us conducts successful flight test of nuclear bombs \n",
      "예측 요약 :  us successfully test fires in north korea test test test\n",
      "\n",
      "\n",
      "원문 : congress nationalist congress party accused maharashtra housing minister prakash mehta intervening allotment government land favour private real estate firm demanding probe called resignation state assembly comes probe launched mehta misleading slum rehabilitation body favour developer \n",
      "실제 요약 : maha housing minister accused of corruption by congress ncp \n",
      "예측 요약 :  cong leader seeks to quit as congress leader in months\n",
      "\n",
      "\n",
      "원문 : heath ledger new television documentary life late hollywood actor heath ledger known playing joker dark knight air may documentary reportedly ledger inner circle talking ledger found dead january age accidental overdose prescription medication \n",
      "실제 요약 : new documentary on late actor to air in may \n",
      "예측 요약 :  singer thanks for yrs after he was on his house\n",
      "\n",
      "\n",
      "원문 : venezuelan president nicol maduro asked pope francis support prevent invasion us also urged pope help establish respectful dialogue political rivals venezuela comes us president donald trump threatened use military option venezuela response political crisis country \n",
      "실제 요약 : venezuela prez asks pope francis to help prevent us invasion \n",
      "예측 요약 :  turkey prez urges eu to stop its own climate deal\n",
      "\n",
      "\n",
      "원문 : kim kardashian announced husband kanye west donated towards california wildfire relief efforts kardashian west along adidas west fashion company yeezy donated firefighters wildfire victims donated firefighter lost home fire \n",
      "실제 요약 : kim kanye donate over cr to california wildfire relief \n",
      "예측 요약 :  nasa releases video of milky way to find mars rover\n",
      "\n",
      "\n",
      "원문 : north korean leader kim jong un complained us russia visiting foreign minister sergey lavrov thursday move adjust political situation face us willing exchange detailed opinions leadership kim told lavrov comes amid uncertainty summit us north korean leaders \n",
      "실제 요약 : kim jong un complaints to russia over us \n",
      "예측 요약 :  us may hold meeting with kim jong un in uk\n",
      "\n",
      "\n",
      "원문 : video shows staffer thai zoo chained tiger stick make tourists pose photographs tiger gets day hundreds times day said man filmed video video slammed online zoo spokesperson said staffer transferred another job \n",
      "실제 요약 : tiger in thailand zoo to make it for photographs \n",
      "예측 요약 :  video shows tiger cub in viral video of swimming pool\n",
      "\n",
      "\n",
      "원문 : first time history aiims emergency services closed friday around nurses went mass casual leave demanding higher pay around surgeries postponed several patients forced visit hospitals nurses also threatened go indefinite strike march \n",
      "실제 요약 : aiims emergency closed for st time as nurses go on strike \n",
      "예측 요약 :  aiims to get st ever months after consuming cow slaughter\n",
      "\n",
      "\n",
      "원문 : police officer tamil nadu district admitted hospital attempted suicide allegedly verbally abused three superior officers duty also filmed suicide attempt could seen mixing substance water drinking video widely shared social media \n",
      "실제 요약 : trans police attempts suicide on video blames seniors of abuse \n",
      "예측 요약 :  ips officer shoots himself in hospital in tn cop suspended\n",
      "\n",
      "\n",
      "원문 : former indian captain mahendra singh dhoni slammed ball highest ever individual odi score wicketkeeper batting number three sri lanka october dhoni smashed fours sixes knock overtook ex australian wicketkeeper adam gilchrist scored zimbabwe century dhoni second odi hundred \n",
      "실제 요약 : dhoni is the highest odi score by wicketkeeper \n",
      "예측 요약 :  rohit sharma hits his sixes in his odi vs australia\n",
      "\n",
      "\n"
     ]
    }
   ],
   "source": [
    "for i in range(50, 100):\n",
    "    print(\"원문 :\", seq2text(encoder_input_test[i]))\n",
    "    print(\"실제 요약 :\", seq2summary(decoder_input_test[i]))\n",
    "    print(\"예측 요약 :\", decode_sequence(encoder_input_test[i].reshape(1, text_max_len)))\n",
    "    print(\"\\n\")"
   ]
  },
  {
   "cell_type": "markdown",
   "metadata": {
    "id": "NE_rm3B-oXKi"
   },
   "source": [
    "## 7. 추출적 요약 해보기"
   ]
  },
  {
   "cell_type": "code",
   "execution_count": 88,
   "metadata": {},
   "outputs": [],
   "source": [
    "for i, text in enumerate(data['text']):\n",
    "    a = text.split()\n",
    "    for j in range(1,len(a)) :\n",
    "        if(j%7==0):\n",
    "            a[j]+=\".\"\n",
    "    data['text'][i]=\" \".join(a)\n"
   ]
  },
  {
   "cell_type": "code",
   "execution_count": 89,
   "metadata": {},
   "outputs": [
    {
     "data": {
      "text/plain": [
       "'kunal shah credit card bill payment platform cred. gave users chance win free food swiggy. one year pranav kaushik delhi techie bagged. reward spending cred coins users get one. cred coin per rupee bill paid used. avail rewards brands like ixigo bookmyshow ubereats. cult fit'"
      ]
     },
     "execution_count": 89,
     "metadata": {},
     "output_type": "execute_result"
    }
   ],
   "source": [
    "data['text'][1]"
   ]
  },
  {
   "cell_type": "code",
   "execution_count": 90,
   "metadata": {},
   "outputs": [],
   "source": [
    "import requests\n",
    "from summa.summarizer import summarize"
   ]
  },
  {
   "cell_type": "code",
   "execution_count": 91,
   "metadata": {},
   "outputs": [],
   "source": [
    "data['summary'] = data['text'].apply(lambda x: summarize(x, ratio=0.5))"
   ]
  },
  {
   "cell_type": "code",
   "execution_count": 92,
   "metadata": {},
   "outputs": [
    {
     "name": "stdout",
     "output_type": "stream",
     "text": [
      "원문 : saurav kant alumnus upgrad iiit pg program machine. learning artificial intelligence sr systems engineer infosys. almost years work experience program upgrad degree. career support helped transition data scientist tech. mahindra salary hike upgrad online power learning. powered lakh careers\n",
      "실제 요약 : upgrad learner switches to career in ml al with salary hike\n",
      "추출 요약 : saurav kant alumnus upgrad iiit pg program machine.\n",
      "almost years work experience program upgrad degree.\n",
      "mahindra salary hike upgrad online power learning.\n",
      "\n",
      "\n",
      "원문 : kunal shah credit card bill payment platform cred. gave users chance win free food swiggy. one year pranav kaushik delhi techie bagged. reward spending cred coins users get one. cred coin per rupee bill paid used. avail rewards brands like ixigo bookmyshow ubereats. cult fit\n",
      "실제 요약 : delhi techie wins free food from swiggy for one year on cred\n",
      "추출 요약 : kunal shah credit card bill payment platform cred.\n",
      "reward spending cred coins users get one.\n",
      "cred coin per rupee bill paid used.\n",
      "\n",
      "\n",
      "원문 : new zealand defeated india wickets fourth odi hamilton. thursday win first match five match odi. series india lost international match rohit sharma. captaincy consecutive victories dating back march match. witnessed india getting seventh lowest total odi. cricket history\n",
      "실제 요약 : new zealand end rohit sharma led india match winning streak\n",
      "추출 요약 : thursday win first match five match odi.\n",
      "series india lost international match rohit sharma.\n",
      "witnessed india getting seventh lowest total odi.\n",
      "\n",
      "\n",
      "원문 : aegon life iterm insurance plan customers enjoy tax. benefits premiums paid save taxes plan provides. life cover age years also customers options. insure critical illnesses disability accidental death benefit. rider life cover age years\n",
      "실제 요약 : aegon life iterm insurance plan helps customers save tax\n",
      "추출 요약 : aegon life iterm insurance plan customers enjoy tax.\n",
      "life cover age years also customers options.\n",
      "\n",
      "\n",
      "원문 : speaking sexual harassment allegations rajkumar hirani sonam kapoor. said known hirani many years true metoo. movement get derailed metoo movement always believe. woman case need reserve judgment added hirani. accused assistant worked sanju\n",
      "실제 요약 : have known hirani for yrs what if metoo claims are not true sonam\n",
      "추출 요약 : said known hirani many years true metoo.\n",
      "woman case need reserve judgment added hirani.\n",
      "\n",
      "\n",
      "원문 : pakistani singer rahat fateh ali khan denied receiving. notice enforcement directorate allegedly smuggling foreign currency. india would better authorities would served notice. first publicised reads press release issued behalf. rahat statement called allegation bizarre\n",
      "실제 요약 : rahat fateh ali khan denies getting notice for smuggling currency\n",
      "추출 요약 : notice enforcement directorate allegedly smuggling foreign currency.\n",
      "rahat statement called allegation bizarre\n",
      "\n",
      "\n",
      "원문 : india recorded lowest odi total new zealand getting. runs overs fourth odi hamilton thursday seven. india batsmen dismissed single digit scores number. ten batsman yuzvendra chahal top scored india. previous lowest odi total new zealand\n",
      "실제 요약 : india get all out for their lowest odi total in new zealand\n",
      "추출 요약 : india recorded lowest odi total new zealand getting.\n",
      "previous lowest odi total new zealand\n",
      "\n",
      "\n",
      "원문 : weeks ex cbi director alok verma told department. personnel training consider retired home ministry asked. join work last day fixed tenure director. thursday ministry directed immediately join dg fire. services post transferred removal cbi chief\n",
      "실제 요약 : govt directs alok verma to join work day before his retirement\n",
      "추출 요약 : join work last day fixed tenure director.\n",
      "thursday ministry directed immediately join dg fire.\n",
      "\n",
      "\n",
      "원문 : andhra pradesh cm chandrababu naidu said met us. president bill clinton addressed mr clinton sir. modi junior politics addressed sir times satisfy. ego hope justice state added\n",
      "실제 요약 : called pm modi sir times to satisfy his ego andhra cm\n",
      "추출 요약 : president bill clinton addressed mr clinton sir.\n",
      "modi junior politics addressed sir times satisfy.\n",
      "\n",
      "\n",
      "원문 : congress candidate shafia zubair ramgarh assembly seat rajasthan. defeating bjp sukhwant singh margin votes bypoll. victory congress taken total seats member assembly. election ramgarh seat delayed due death sitting. mla bsp candidate laxman singh\n",
      "실제 요약 : cong wins ramgarh bypoll in rajasthan takes total to seats\n",
      "추출 요약 : congress candidate shafia zubair ramgarh assembly seat rajasthan.\n",
      "victory congress taken total seats member assembly.\n",
      "\n",
      "\n"
     ]
    }
   ],
   "source": [
    "# 실제 요약과 추출된 요약 비교\n",
    "for i in range(10):\n",
    "    print(\"원문 :\", data['text'][i])\n",
    "    print(\"실제 요약 :\", data['headlines'][i])\n",
    "    print(\"추출 요약 :\", data['summary'][i])\n",
    "    print(\"\\n\")"
   ]
  },
  {
   "cell_type": "markdown",
   "metadata": {},
   "source": [
    "## 회고\n",
    "- 추출적 요약은 문장 단위로 끊어서 중요도를 계산하는 기법이라 문장부호가 정제된 문단을 전부 한 문장으로 인식하여서 처음에는 전부 빈칸으로 나왔다. 그래서 임의로 7단어마다 .을 추가하여 문장이 완료된 것처럼 만들고 넣어주니 결과가 나오긴 하였다.\n",
    "- 임의로 7단어마다 . 추가하는 부분이 급하게 짠거라 별로 효율적이지 않은 것 같다. 양이 많은데 2중 for 문을 돌려서 오래걸렸다. 뭔가 좋은 방법이 있을 것같은데ㅜㅜ\n",
    "- 추출적 요약은 문장그대로 들고 왔기 때문에 문법완성도가 높아야하지만 내가 임의로 문장을 잘라줘서 좀 이상한 부분도 있다. 추상적요약은 문법완성도는 꽤 괜찮은 것 같지만 내용을 비교해보면 말도안되게 요약해 놓은 것도 있으며 같은 단어를 반복적으로 사용하는 양상이 있다.\n"
   ]
  }
 ],
 "metadata": {
  "accelerator": "GPU",
  "colab": {
   "name": "[E-10]NewsSummarize",
   "provenance": []
  },
  "kernelspec": {
   "display_name": "Python 3",
   "language": "python",
   "name": "python3"
  },
  "language_info": {
   "codemirror_mode": {
    "name": "ipython",
    "version": 3
   },
   "file_extension": ".py",
   "mimetype": "text/x-python",
   "name": "python",
   "nbconvert_exporter": "python",
   "pygments_lexer": "ipython3",
   "version": "3.7.9"
  }
 },
 "nbformat": 4,
 "nbformat_minor": 1
}
