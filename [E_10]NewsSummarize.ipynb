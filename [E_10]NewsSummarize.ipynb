{
  "nbformat": 4,
  "nbformat_minor": 0,
  "metadata": {
    "accelerator": "GPU",
    "colab": {
      "name": "[E_10]NewsSummarize.ipynb",
      "provenance": [],
      "include_colab_link": true
    },
    "kernelspec": {
      "display_name": "Python 3",
      "language": "python",
      "name": "python3"
    },
    "language_info": {
      "codemirror_mode": {
        "name": "ipython",
        "version": 3
      },
      "file_extension": ".py",
      "mimetype": "text/x-python",
      "name": "python",
      "nbconvert_exporter": "python",
      "pygments_lexer": "ipython3",
      "version": "3.7.9"
    }
  },
  "cells": [
    {
      "cell_type": "markdown",
      "metadata": {
        "id": "view-in-github",
        "colab_type": "text"
      },
      "source": [
        "<a href=\"https://colab.research.google.com/github/mkkim007/AIFFEL/blob/main/%5BE_10%5DNewsSummarize.ipynb\" target=\"_parent\"><img src=\"https://colab.research.google.com/assets/colab-badge.svg\" alt=\"Open In Colab\"/></a>"
      ]
    },
    {
      "cell_type": "markdown",
      "metadata": {
        "id": "Gw5LJFK5l8J_"
      },
      "source": [
        "# [E-10]뉴스 요약봇 만들기"
      ]
    },
    {
      "cell_type": "markdown",
      "metadata": {
        "id": "46nAAjo7mDWs"
      },
      "source": [
        "## 0. 텍스트 요약(Text Summarization)이란?\n",
        "텍스트 요약 : 긴 길이의 문서원문을 핵심 주제만으로 구성된 짧은 요약 문장들로 변환하는 것\n",
        "  \n",
        "- 추출적 요약(Extractive Summarization)  \n",
        ": 원문에서 문장들을 추출해서 요약하는 방식\n",
        "- 추상적 요약(Abstractive Summarization)  \n",
        ": 원문으로부터 내용이 요약된 새로운 문장을 생성해내는 방식\n"
      ]
    },
    {
      "cell_type": "markdown",
      "metadata": {
        "id": "-fpT-0DlnnQK"
      },
      "source": [
        "## 1. 데이터 준비하기"
      ]
    },
    {
      "cell_type": "code",
      "metadata": {
        "colab": {
          "base_uri": "https://localhost:8080/"
        },
        "id": "ymoG_FfSo_qc",
        "outputId": "87235a4a-e9d6-4d61-911a-5e84902a30f9"
      },
      "source": [
        "import nltk\n",
        "nltk.download('stopwords')\n",
        "\n",
        "import numpy as np\n",
        "import pandas as pd\n",
        "import os\n",
        "import re\n",
        "import matplotlib.pyplot as plt\n",
        "from nltk.corpus import stopwords\n",
        "from bs4 import BeautifulSoup \n",
        "from tensorflow.keras.preprocessing.text import Tokenizer \n",
        "from tensorflow.keras.preprocessing.sequence import pad_sequences\n",
        "import urllib.request\n"
      ],
      "execution_count": null,
      "outputs": [
        {
          "name": "stderr",
          "output_type": "stream",
          "text": [
            "[nltk_data] Downloading package stopwords to /aiffel/nltk_data...\n",
            "[nltk_data]   Unzipping corpora/stopwords.zip.\n"
          ]
        }
      ]
    },
    {
      "cell_type": "code",
      "metadata": {
        "id": "d7HgI5Lro0jK"
      },
      "source": [
        "import urllib.request\n",
        "urllib.request.urlretrieve(\"https://raw.githubusercontent.com/sunnysai12345/News_Summary/master/news_summary_more.csv\", filename=\"news_summary_more.csv\")\n",
        "data = pd.read_csv('news_summary_more.csv', encoding='iso-8859-1')"
      ],
      "execution_count": null,
      "outputs": []
    },
    {
      "cell_type": "markdown",
      "metadata": {
        "id": "nXbgGSZ5n5MR"
      },
      "source": [
        "## 2. 데이터 전처리하기"
      ]
    },
    {
      "cell_type": "markdown",
      "metadata": {
        "id": "WO0YbwWgodon"
      },
      "source": [
        "### 2.1 데이터 분석"
      ]
    },
    {
      "cell_type": "code",
      "metadata": {
        "colab": {
          "base_uri": "https://localhost:8080/"
        },
        "id": "j9GSwKGRpSla",
        "outputId": "ea5120c5-fa17-4b13-89cb-7524313f28a5"
      },
      "source": [
        "print('전체 데이터 수 :', (len(data)))"
      ],
      "execution_count": null,
      "outputs": [
        {
          "name": "stdout",
          "output_type": "stream",
          "text": [
            "전체 데이터 수 : 98401\n"
          ]
        }
      ]
    },
    {
      "cell_type": "code",
      "metadata": {
        "colab": {
          "base_uri": "https://localhost:8080/",
          "height": 359
        },
        "id": "0t6YYzuvpKmS",
        "outputId": "aa05ea18-5a14-4f05-81dd-2b05222858dc"
      },
      "source": [
        "data.sample(10)"
      ],
      "execution_count": null,
      "outputs": [
        {
          "data": {
            "text/html": [
              "<div>\n",
              "<style scoped>\n",
              "    .dataframe tbody tr th:only-of-type {\n",
              "        vertical-align: middle;\n",
              "    }\n",
              "\n",
              "    .dataframe tbody tr th {\n",
              "        vertical-align: top;\n",
              "    }\n",
              "\n",
              "    .dataframe thead th {\n",
              "        text-align: right;\n",
              "    }\n",
              "</style>\n",
              "<table border=\"1\" class=\"dataframe\">\n",
              "  <thead>\n",
              "    <tr style=\"text-align: right;\">\n",
              "      <th></th>\n",
              "      <th>headlines</th>\n",
              "      <th>text</th>\n",
              "    </tr>\n",
              "  </thead>\n",
              "  <tbody>\n",
              "    <tr>\n",
              "      <th>75731</th>\n",
              "      <td>RS records 80% productivity, LS 78% during Mon...</td>\n",
              "      <td>As the Monsoon Session concluded on Friday, th...</td>\n",
              "    </tr>\n",
              "    <tr>\n",
              "      <th>44746</th>\n",
              "      <td>European clocks lose 6 mins over power distrib...</td>\n",
              "      <td>Electric clocks across Europe are lagging near...</td>\n",
              "    </tr>\n",
              "    <tr>\n",
              "      <th>66524</th>\n",
              "      <td>Ã¢ÂÂ¹13,000 smart eyeshade to monitor users' ...</td>\n",
              "      <td>China-based startup Naptime has developed Ã¢Â...</td>\n",
              "    </tr>\n",
              "    <tr>\n",
              "      <th>82951</th>\n",
              "      <td>Facebook deletes 66,000 posts per week to curb...</td>\n",
              "      <td>Facebook has said it removes roughly 66,000 po...</td>\n",
              "    </tr>\n",
              "    <tr>\n",
              "      <th>9886</th>\n",
              "      <td>Don't think current Indian side is better than...</td>\n",
              "      <td>Ex-Australia captain Steve Waugh has said he's...</td>\n",
              "    </tr>\n",
              "    <tr>\n",
              "      <th>61321</th>\n",
              "      <td>Ex-Air India official booked for stealing Jati...</td>\n",
              "      <td>An FIR has been registered against Air India's...</td>\n",
              "    </tr>\n",
              "    <tr>\n",
              "      <th>43741</th>\n",
              "      <td>Centre increases max speed limit to 70 kmph on...</td>\n",
              "      <td>The Centre has increased the maximum speed lim...</td>\n",
              "    </tr>\n",
              "    <tr>\n",
              "      <th>2762</th>\n",
              "      <td>India allows Iran's Bank Pasargad to open bran...</td>\n",
              "      <td>The government has allowed Iran's Bank Pasarga...</td>\n",
              "    </tr>\n",
              "    <tr>\n",
              "      <th>40838</th>\n",
              "      <td>Pic of trespasser on Gujarat Speaker's chair s...</td>\n",
              "      <td>A photo showing a trespasser sitting on Gujara...</td>\n",
              "    </tr>\n",
              "    <tr>\n",
              "      <th>63668</th>\n",
              "      <td>India edition becomes highest-scoring FIFA U-1...</td>\n",
              "      <td>The recently concluded FIFA U-17 World Cup in ...</td>\n",
              "    </tr>\n",
              "  </tbody>\n",
              "</table>\n",
              "</div>"
            ],
            "text/plain": [
              "                                               headlines  \\\n",
              "75731  RS records 80% productivity, LS 78% during Mon...   \n",
              "44746  European clocks lose 6 mins over power distrib...   \n",
              "66524  Ã¢ÂÂ¹13,000 smart eyeshade to monitor users' ...   \n",
              "82951  Facebook deletes 66,000 posts per week to curb...   \n",
              "9886   Don't think current Indian side is better than...   \n",
              "61321  Ex-Air India official booked for stealing Jati...   \n",
              "43741  Centre increases max speed limit to 70 kmph on...   \n",
              "2762   India allows Iran's Bank Pasargad to open bran...   \n",
              "40838  Pic of trespasser on Gujarat Speaker's chair s...   \n",
              "63668  India edition becomes highest-scoring FIFA U-1...   \n",
              "\n",
              "                                                    text  \n",
              "75731  As the Monsoon Session concluded on Friday, th...  \n",
              "44746  Electric clocks across Europe are lagging near...  \n",
              "66524  China-based startup Naptime has developed Ã¢Â...  \n",
              "82951  Facebook has said it removes roughly 66,000 po...  \n",
              "9886   Ex-Australia captain Steve Waugh has said he's...  \n",
              "61321  An FIR has been registered against Air India's...  \n",
              "43741  The Centre has increased the maximum speed lim...  \n",
              "2762   The government has allowed Iran's Bank Pasarga...  \n",
              "40838  A photo showing a trespasser sitting on Gujara...  \n",
              "63668  The recently concluded FIFA U-17 World Cup in ...  "
            ]
          },
          "execution_count": 4,
          "metadata": {},
          "output_type": "execute_result"
        }
      ]
    },
    {
      "cell_type": "markdown",
      "metadata": {
        "id": "NYUcMdgkpynr"
      },
      "source": [
        "데이터는 총 98401개가 있고 `text`와 `headlines` 두가지 열로 구성되어져 있다.  \n",
        "`text`는 본문, `headlines`는 요약된 데이터이다. 이 두개로 추상적 요약을 할 수 있고, 추출적 요약을 하는 경우에는  `text`열만 사용해야한다."
      ]
    },
    {
      "cell_type": "markdown",
      "metadata": {
        "id": "y-t6DfJRoj2A"
      },
      "source": [
        "### 2.2 데이터 정제"
      ]
    },
    {
      "cell_type": "markdown",
      "metadata": {
        "id": "kZye2I52qcws"
      },
      "source": [
        "#### 2.2.1 중복 데이터 제거"
      ]
    },
    {
      "cell_type": "code",
      "metadata": {
        "colab": {
          "base_uri": "https://localhost:8080/"
        },
        "id": "kk5ic-Lqpf__",
        "outputId": "5cdc1862-dfb4-4c5e-b3f1-f8b80de6e420"
      },
      "source": [
        "print('Text 열에서 중복을 배제한 유일한 데이터의 수 :', data['text'].nunique())\n",
        "print('Headlines 열에서 중복을 배제한 유일한 데이터의 수 :', data['headlines'].nunique())"
      ],
      "execution_count": null,
      "outputs": [
        {
          "name": "stdout",
          "output_type": "stream",
          "text": [
            "Text 열에서 중복을 배제한 유일한 데이터의 수 : 98360\n",
            "Headlines 열에서 중복을 배제한 유일한 데이터의 수 : 98280\n"
          ]
        }
      ]
    },
    {
      "cell_type": "markdown",
      "metadata": {
        "id": "a44gp0Jwqh1L"
      },
      "source": [
        "Text가 다르더라도 Headlines가 같을 수 있기 때문에 Headlines가 중복된 경우는 남겨두고 Text가 중복된 경우에만 제거를 해준다."
      ]
    },
    {
      "cell_type": "code",
      "metadata": {
        "colab": {
          "base_uri": "https://localhost:8080/"
        },
        "id": "8wLaUxSMruFA",
        "outputId": "d7be7ce1-3146-41cc-eaea-72504a559a0e"
      },
      "source": [
        "# inplace=True 를 설정하면 DataFrame 타입 값을 return 하지 않고 data 내부를 직접적으로 바꿉니다\n",
        "data.drop_duplicates(subset = ['text'], inplace=True)\n",
        "print('전체 데이터수 :', (len(data)))"
      ],
      "execution_count": null,
      "outputs": [
        {
          "name": "stdout",
          "output_type": "stream",
          "text": [
            "전체 데이터수 : 98360\n"
          ]
        }
      ]
    },
    {
      "cell_type": "markdown",
      "metadata": {
        "id": "J1KZXi2SsMqU"
      },
      "source": [
        "#### 2.2.2 NULL 값이 존재하는 데이터 제거"
      ]
    },
    {
      "cell_type": "code",
      "metadata": {
        "colab": {
          "base_uri": "https://localhost:8080/"
        },
        "id": "-2Qwr9MLsR3y",
        "outputId": "577fc7ef-8afa-4b59-ffd8-d6fe9324cb7f"
      },
      "source": [
        "print(data.isnull().sum())"
      ],
      "execution_count": null,
      "outputs": [
        {
          "name": "stdout",
          "output_type": "stream",
          "text": [
            "headlines    0\n",
            "text         0\n",
            "dtype: int64\n"
          ]
        }
      ]
    },
    {
      "cell_type": "markdown",
      "metadata": {
        "id": "KxJCRYuysU_5"
      },
      "source": [
        "다행이 NULL값인 데이터는 없다. 만약 있을 경우 `dropna()` 함수를 사용하면 쉽게 제거할 수 있다"
      ]
    },
    {
      "cell_type": "markdown",
      "metadata": {
        "id": "1M7YvdUzooFg"
      },
      "source": [
        "### 2.3 정규화와 불용어제거"
      ]
    },
    {
      "cell_type": "markdown",
      "metadata": {
        "id": "wdwBjylNtAF3"
      },
      "source": [
        "#### 2.3.1 텍스트 정규화(text normalization)"
      ]
    },
    {
      "cell_type": "code",
      "metadata": {
        "colab": {
          "base_uri": "https://localhost:8080/"
        },
        "id": "KQhEftCAtFxO",
        "outputId": "49f740da-f497-4f21-d19d-eb0ced6fde8e"
      },
      "source": [
        "contractions = {\"ain't\": \"is not\", \"aren't\": \"are not\",\"can't\": \"cannot\", \"'cause\": \"because\", \"could've\": \"could have\", \"couldn't\": \"could not\",\n",
        "                           \"didn't\": \"did not\",  \"doesn't\": \"does not\", \"don't\": \"do not\", \"hadn't\": \"had not\", \"hasn't\": \"has not\", \"haven't\": \"have not\",\n",
        "                           \"he'd\": \"he would\",\"he'll\": \"he will\", \"he's\": \"he is\", \"how'd\": \"how did\", \"how'd'y\": \"how do you\", \"how'll\": \"how will\", \"how's\": \"how is\",\n",
        "                           \"I'd\": \"I would\", \"I'd've\": \"I would have\", \"I'll\": \"I will\", \"I'll've\": \"I will have\",\"I'm\": \"I am\", \"I've\": \"I have\", \"i'd\": \"i would\",\n",
        "                           \"i'd've\": \"i would have\", \"i'll\": \"i will\",  \"i'll've\": \"i will have\",\"i'm\": \"i am\", \"i've\": \"i have\", \"isn't\": \"is not\", \"it'd\": \"it would\",\n",
        "                           \"it'd've\": \"it would have\", \"it'll\": \"it will\", \"it'll've\": \"it will have\",\"it's\": \"it is\", \"let's\": \"let us\", \"ma'am\": \"madam\",\n",
        "                           \"mayn't\": \"may not\", \"might've\": \"might have\",\"mightn't\": \"might not\",\"mightn't've\": \"might not have\", \"must've\": \"must have\",\n",
        "                           \"mustn't\": \"must not\", \"mustn't've\": \"must not have\", \"needn't\": \"need not\", \"needn't've\": \"need not have\",\"o'clock\": \"of the clock\",\n",
        "                           \"oughtn't\": \"ought not\", \"oughtn't've\": \"ought not have\", \"shan't\": \"shall not\", \"sha'n't\": \"shall not\", \"shan't've\": \"shall not have\",\n",
        "                           \"she'd\": \"she would\", \"she'd've\": \"she would have\", \"she'll\": \"she will\", \"she'll've\": \"she will have\", \"she's\": \"she is\",\n",
        "                           \"should've\": \"should have\", \"shouldn't\": \"should not\", \"shouldn't've\": \"should not have\", \"so've\": \"so have\",\"so's\": \"so as\",\n",
        "                           \"this's\": \"this is\",\"that'd\": \"that would\", \"that'd've\": \"that would have\", \"that's\": \"that is\", \"there'd\": \"there would\",\n",
        "                           \"there'd've\": \"there would have\", \"there's\": \"there is\", \"here's\": \"here is\",\"they'd\": \"they would\", \"they'd've\": \"they would have\",\n",
        "                           \"they'll\": \"they will\", \"they'll've\": \"they will have\", \"they're\": \"they are\", \"they've\": \"they have\", \"to've\": \"to have\",\n",
        "                           \"wasn't\": \"was not\", \"we'd\": \"we would\", \"we'd've\": \"we would have\", \"we'll\": \"we will\", \"we'll've\": \"we will have\", \"we're\": \"we are\",\n",
        "                           \"we've\": \"we have\", \"weren't\": \"were not\", \"what'll\": \"what will\", \"what'll've\": \"what will have\", \"what're\": \"what are\",\n",
        "                           \"what's\": \"what is\", \"what've\": \"what have\", \"when's\": \"when is\", \"when've\": \"when have\", \"where'd\": \"where did\", \"where's\": \"where is\",\n",
        "                           \"where've\": \"where have\", \"who'll\": \"who will\", \"who'll've\": \"who will have\", \"who's\": \"who is\", \"who've\": \"who have\",\n",
        "                           \"why's\": \"why is\", \"why've\": \"why have\", \"will've\": \"will have\", \"won't\": \"will not\", \"won't've\": \"will not have\",\n",
        "                           \"would've\": \"would have\", \"wouldn't\": \"would not\", \"wouldn't've\": \"would not have\", \"y'all\": \"you all\",\n",
        "                           \"y'all'd\": \"you all would\",\"y'all'd've\": \"you all would have\",\"y'all're\": \"you all are\",\"y'all've\": \"you all have\",\n",
        "                           \"you'd\": \"you would\", \"you'd've\": \"you would have\", \"you'll\": \"you will\", \"you'll've\": \"you will have\",\n",
        "                           \"you're\": \"you are\", \"you've\": \"you have\"}\n",
        "\n",
        "print(\"정규화 사전의 수: \", len(contractions))"
      ],
      "execution_count": null,
      "outputs": [
        {
          "name": "stdout",
          "output_type": "stream",
          "text": [
            "정규화 사전의 수:  120\n"
          ]
        }
      ]
    },
    {
      "cell_type": "markdown",
      "metadata": {
        "id": "luzjgG2Fto8t"
      },
      "source": [
        "#### 2.3.2 불용어"
      ]
    },
    {
      "cell_type": "code",
      "metadata": {
        "colab": {
          "base_uri": "https://localhost:8080/"
        },
        "id": "Zj676yhntQl_",
        "outputId": "4032e4bb-61c0-4114-9958-5c2fbeb7a007"
      },
      "source": [
        "print('불용어 개수 :', len(stopwords.words('english') ))\n",
        "print(stopwords.words('english'))"
      ],
      "execution_count": null,
      "outputs": [
        {
          "name": "stdout",
          "output_type": "stream",
          "text": [
            "불용어 개수 : 179\n",
            "['i', 'me', 'my', 'myself', 'we', 'our', 'ours', 'ourselves', 'you', \"you're\", \"you've\", \"you'll\", \"you'd\", 'your', 'yours', 'yourself', 'yourselves', 'he', 'him', 'his', 'himself', 'she', \"she's\", 'her', 'hers', 'herself', 'it', \"it's\", 'its', 'itself', 'they', 'them', 'their', 'theirs', 'themselves', 'what', 'which', 'who', 'whom', 'this', 'that', \"that'll\", 'these', 'those', 'am', 'is', 'are', 'was', 'were', 'be', 'been', 'being', 'have', 'has', 'had', 'having', 'do', 'does', 'did', 'doing', 'a', 'an', 'the', 'and', 'but', 'if', 'or', 'because', 'as', 'until', 'while', 'of', 'at', 'by', 'for', 'with', 'about', 'against', 'between', 'into', 'through', 'during', 'before', 'after', 'above', 'below', 'to', 'from', 'up', 'down', 'in', 'out', 'on', 'off', 'over', 'under', 'again', 'further', 'then', 'once', 'here', 'there', 'when', 'where', 'why', 'how', 'all', 'any', 'both', 'each', 'few', 'more', 'most', 'other', 'some', 'such', 'no', 'nor', 'not', 'only', 'own', 'same', 'so', 'than', 'too', 'very', 's', 't', 'can', 'will', 'just', 'don', \"don't\", 'should', \"should've\", 'now', 'd', 'll', 'm', 'o', 're', 've', 'y', 'ain', 'aren', \"aren't\", 'couldn', \"couldn't\", 'didn', \"didn't\", 'doesn', \"doesn't\", 'hadn', \"hadn't\", 'hasn', \"hasn't\", 'haven', \"haven't\", 'isn', \"isn't\", 'ma', 'mightn', \"mightn't\", 'mustn', \"mustn't\", 'needn', \"needn't\", 'shan', \"shan't\", 'shouldn', \"shouldn't\", 'wasn', \"wasn't\", 'weren', \"weren't\", 'won', \"won't\", 'wouldn', \"wouldn't\"]\n"
          ]
        }
      ]
    },
    {
      "cell_type": "markdown",
      "metadata": {
        "id": "c3UunuCItufk"
      },
      "source": [
        "#### 2.3.3 데이터 전처리 함수"
      ]
    },
    {
      "cell_type": "code",
      "metadata": {
        "id": "4S46Q3ZetUId"
      },
      "source": [
        "# 데이터 전처리 함수\n",
        "def preprocess_sentence(sentence, remove_stopwords=True):\n",
        "    sentence = sentence.lower() # 텍스트 소문자화\n",
        "    sentence = BeautifulSoup(sentence, \"lxml\").text # <br />, <a href = ...> 등의 html 태그 제거\n",
        "    sentence = re.sub(r'\\([^)]*\\)', '', sentence) # 괄호로 닫힌 문자열 (...) 제거 Ex) my husband (and myself!) for => my husband for\n",
        "    sentence = re.sub('\"','', sentence) # 쌍따옴표 \" 제거\n",
        "    sentence = ' '.join([contractions[t] if t in contractions else t for t in sentence.split(\" \")]) # 약어 정규화\n",
        "    sentence = re.sub(r\"'s\\b\",\"\", sentence) # 소유격 제거. Ex) roland's -> roland\n",
        "    sentence = re.sub(\"[^a-zA-Z]\", \" \", sentence) # 영어 외 문자(숫자, 특수문자 등) 공백으로 변환\n",
        "    sentence = re.sub('[m]{2,}', 'mm', sentence) # m이 3개 이상이면 2개로 변경. Ex) ummmmmmm yeah -> umm yeah\n",
        "    \n",
        "    # 불용어 제거 (Text)\n",
        "    if remove_stopwords:\n",
        "        tokens = ' '.join(word for word in sentence.split() if not word in stopwords.words('english') if len(word) > 1)\n",
        "    # 불용어 미제거 (Summary)\n",
        "    else:\n",
        "        tokens = ' '.join(word for word in sentence.split() if len(word) > 1)\n",
        "    return tokens"
      ],
      "execution_count": null,
      "outputs": []
    },
    {
      "cell_type": "code",
      "metadata": {
        "colab": {
          "base_uri": "https://localhost:8080/"
        },
        "id": "KWno57YntWMY",
        "outputId": "e055f4ad-652f-49e2-842c-9e9c9c0e2c29"
      },
      "source": [
        "temp_text = 'Everything I bought was great, infact I ordered twice and the third ordered was<br />for my mother and father.'\n",
        "temp_summary = 'Great way to start (or finish) the day!!!'\n",
        "\n",
        "print(preprocess_sentence(temp_text))\n",
        "print(preprocess_sentence(temp_summary, False))  # 불용어를 제거하지 않습니다."
      ],
      "execution_count": null,
      "outputs": [
        {
          "name": "stdout",
          "output_type": "stream",
          "text": [
            "everything bought great infact ordered twice third ordered wasfor mother father\n",
            "great way to start the day\n"
          ]
        }
      ]
    },
    {
      "cell_type": "markdown",
      "metadata": {
        "id": "qj3XcTpwuBBx"
      },
      "source": [
        "#### 2.3.4 멀티 프로세싱"
      ]
    },
    {
      "cell_type": "markdown",
      "metadata": {
        "id": "4ARsDxVMuD9P"
      },
      "source": [
        "싱글 프로세스로 실행하면 데이터 전처리하는데 꽤나 많은 시간이 소요된다.  \n",
        "멀티 프로세싱을 활용하여 별도의 프로세스를 생성한후 병렬처리하면 CPU수에 비례하여 획기적으로 소요 시간을 줄일 수 있다.  \n",
        "colab은 cpu 코어 수가 2라서 소요 시간이 많이 줄어 들지는 않는 것 같다..  \n",
        "그에비해 클라우드는 6개를 가지고 있어서 빠르게 되는 것을 확인할 수 있었다. (225.78298091888428,5.290556192398071)"
      ]
    },
    {
      "cell_type": "code",
      "metadata": {
        "colab": {
          "base_uri": "https://localhost:8080/"
        },
        "id": "FUjv33zRtc67",
        "outputId": "c71c3be6-c471-4e71-c78c-1c8522710a23"
      },
      "source": [
        "import multiprocessing as mp   # 멀티 프로세싱으로 전처리 속도를 획기적으로 줄여봅시다\n",
        "from multiprocessing import Pool\n",
        "import numpy as np\n",
        "import time\n",
        "from functools import partial  # map을 할 때 함수에 여러 인자를 넣어줄 수 있도록 합니다\n",
        "\n",
        "start = time.time()\n",
        "\n",
        "# num_cores 만큼 쪼개진 데이터를 전처리하여 반환합니다\n",
        "def appendTexts(sentences, remove_stopwords):\n",
        "  texts = []\n",
        "  for s in sentences:\n",
        "    texts += preprocess_sentence(s, remove_stopwords),\n",
        "  return texts\n",
        "\n",
        "def preprocess_data(data, remove_stopwords=True):\n",
        "  start_time = time.time()\n",
        "  num_cores = mp.cpu_count()  # 컴퓨터의 코어 수를 구합니다\n",
        "  print(num_cores)\n",
        "\n",
        "  text_data_split = np.array_split(data, num_cores)  # 코어 수만큼 데이터를 배분하여 병렬적으로 처리할 수 있게 합니다\n",
        "  pool = Pool(num_cores)\n",
        "\n",
        "  processed_data = np.concatenate(pool.map(partial(appendTexts, remove_stopwords=remove_stopwords), text_data_split))  # 각자 작업한 데이터를 하나로 합쳐줍니다\n",
        "  pool.close()\n",
        "  pool.join()\n",
        "  print(time.time() - start_time, \" seconds\")\n",
        "  return processed_data\n",
        "\n",
        "clean_text = preprocess_data(data['text'])  # 클라우드 기준으로 3~4분 정도 소요 됩니다\n",
        "print(clean_text)\n",
        "\n",
        "clean_summary = preprocess_data(data['headlines'], remove_stopwords=False) # 클라우드 기준 1분정도 소요됩니다.\n",
        "print(clean_summary)"
      ],
      "execution_count": null,
      "outputs": [
        {
          "name": "stdout",
          "output_type": "stream",
          "text": [
            "6\n",
            "177.62775492668152  seconds\n",
            "['saurav kant alumnus upgrad iiit pg program machine learning artificial intelligence sr systems engineer infosys almost years work experience program upgrad degree career support helped transition data scientist tech mahindra salary hike upgrad online power learning powered lakh careers'\n",
            " 'kunal shah credit card bill payment platform cred gave users chance win free food swiggy one year pranav kaushik delhi techie bagged reward spending cred coins users get one cred coin per rupee bill paid used avail rewards brands like ixigo bookmyshow ubereats cult fit'\n",
            " 'new zealand defeated india wickets fourth odi hamilton thursday win first match five match odi series india lost international match rohit sharma captaincy consecutive victories dating back march match witnessed india getting seventh lowest total odi cricket history'\n",
            " ...\n",
            " 'according reports new version science fiction film matrix development michael jordan reportedly play lead role film screenwriter zak penn talks write script film reports added actor keanu reeves starred original film followed two sequels'\n",
            " 'new music video shows rapper snoop dogg aiming toy gun clown character parodying us president donald trump video also shows tv airing news conference headline ronald klump wants deport doggs airing live clown house video remixed version song lavender'\n",
            " 'madhesi morcha alliance seven political parties withdrawn support pm pushpa kamal dahal led nepal government failed meet seven day ultimatum fulfil demands including endorsement revised constitution amendment bill morcha seats parliament despite withdrawal support immediate threat government']\n",
            "6\n",
            "5.975733995437622  seconds\n",
            "['upgrad learner switches to career in ml al with salary hike'\n",
            " 'delhi techie wins free food from swiggy for one year on cred'\n",
            " 'new zealand end rohit sharma led india match winning streak' ...\n",
            " 'the matrix film to get reboot reports'\n",
            " 'snoop dogg aims gun at clown dressed as trump in new video'\n",
            " 'madhesi morcha withdraws support to nepalese government']\n"
          ]
        }
      ]
    },
    {
      "cell_type": "code",
      "metadata": {
        "id": "gUbusW5Hv_e9"
      },
      "source": [
        "data['text'] = clean_text\n",
        "data['headlines'] = clean_summary\n",
        "\n",
        "# 빈 값을 Null 값으로 변환\n",
        "data.replace('', np.nan, inplace=True)"
      ],
      "execution_count": null,
      "outputs": []
    },
    {
      "cell_type": "code",
      "metadata": {
        "colab": {
          "base_uri": "https://localhost:8080/"
        },
        "id": "1VIFZoUdwGEd",
        "outputId": "0e32da95-1505-4502-fc78-23a427dac945"
      },
      "source": [
        "data.isnull().sum()"
      ],
      "execution_count": null,
      "outputs": [
        {
          "data": {
            "text/plain": [
              "headlines    0\n",
              "text         0\n",
              "dtype: int64"
            ]
          },
          "execution_count": 14,
          "metadata": {},
          "output_type": "execute_result"
        }
      ]
    },
    {
      "cell_type": "code",
      "metadata": {
        "colab": {
          "base_uri": "https://localhost:8080/"
        },
        "id": "BEVrhuRMwGsd",
        "outputId": "22001da6-fb4d-4221-afb7-071da727dbb3"
      },
      "source": [
        "data.dropna(axis=0, inplace=True)\n",
        "print('전체 샘플수 :', (len(data)))"
      ],
      "execution_count": null,
      "outputs": [
        {
          "name": "stdout",
          "output_type": "stream",
          "text": [
            "전체 샘플수 : 98360\n"
          ]
        }
      ]
    },
    {
      "cell_type": "markdown",
      "metadata": {
        "id": "PyRo0rasougI"
      },
      "source": [
        "### 2.4 데이터 셋 분리"
      ]
    },
    {
      "cell_type": "code",
      "metadata": {
        "colab": {
          "base_uri": "https://localhost:8080/",
          "height": 961
        },
        "id": "BmtZreqCxupB",
        "outputId": "bf191066-9182-4ede-bf36-bf38adaa21c5"
      },
      "source": [
        "# 길이 분포 출력\n",
        "import matplotlib.pyplot as plt\n",
        "\n",
        "text_len = [len(s.split()) for s in data['text']]\n",
        "summary_len = [len(s.split()) for s in data['headlines']]\n",
        "\n",
        "print('텍스트의 최소 길이 : {}'.format(np.min(text_len)))\n",
        "print('텍스트의 최대 길이 : {}'.format(np.max(text_len)))\n",
        "print('텍스트의 평균 길이 : {}'.format(np.mean(text_len)))\n",
        "print('요약의 최소 길이 : {}'.format(np.min(summary_len)))\n",
        "print('요약의 최대 길이 : {}'.format(np.max(summary_len)))\n",
        "print('요약의 평균 길이 : {}'.format(np.mean(summary_len)))\n",
        "\n",
        "plt.subplot(1,2,1)\n",
        "plt.boxplot(summary_len)\n",
        "plt.title('headlines')\n",
        "plt.subplot(1,2,2)\n",
        "plt.boxplot(text_len)\n",
        "plt.title('text')\n",
        "plt.tight_layout()\n",
        "plt.show()\n",
        "\n",
        "plt.title('headlines')\n",
        "plt.hist(summary_len, bins = 40)\n",
        "plt.xlabel('length of samples')\n",
        "plt.ylabel('number of samples')\n",
        "plt.show()\n",
        "\n",
        "plt.title('text')\n",
        "plt.hist(text_len, bins = 40)\n",
        "plt.xlabel('length of samples')\n",
        "plt.ylabel('number of samples')\n",
        "plt.show()"
      ],
      "execution_count": null,
      "outputs": [
        {
          "name": "stdout",
          "output_type": "stream",
          "text": [
            "텍스트의 최소 길이 : 1\n",
            "텍스트의 최대 길이 : 60\n",
            "텍스트의 평균 길이 : 35.09968483123221\n",
            "요약의 최소 길이 : 1\n",
            "요약의 최대 길이 : 16\n",
            "요약의 평균 길이 : 9.299532330215534\n"
          ]
        },
        {
          "data": {
            "image/png": "[encoded data removed]",
            "text/plain": [
              "<Figure size 432x288 with 2 Axes>"
            ]
          },
          "metadata": {
            "needs_background": "light"
          },
          "output_type": "display_data"
        },
        {
          "data": {
            "image/png": "[encoded data removed]",
            "text/plain": [
              "<Figure size 432x288 with 1 Axes>"
            ]
          },
          "metadata": {
            "needs_background": "light"
          },
          "output_type": "display_data"
        },
        {
          "data": {
            "image/png": "[encoded data removed]",
            "text/plain": [
              "<Figure size 432x288 with 1 Axes>"
            ]
          },
          "metadata": {
            "needs_background": "light"
          },
          "output_type": "display_data"
        }
      ]
    },
    {
      "cell_type": "markdown",
      "metadata": {
        "id": "4IT_k5Na1UmU"
      },
      "source": [
        ""
      ]
    },
    {
      "cell_type": "code",
      "metadata": {
        "id": "wrnsK4dQ3O3m"
      },
      "source": [
        "text_max_len = 40\n",
        "summary_max_len = 11"
      ],
      "execution_count": null,
      "outputs": []
    },
    {
      "cell_type": "code",
      "metadata": {
        "id": "xDmNN-Qw3VZU"
      },
      "source": [
        "def below_threshold_len(max_len, nested_list):\n",
        "  cnt = 0\n",
        "  for s in nested_list:\n",
        "    if(len(s.split()) <= max_len):\n",
        "        cnt = cnt + 1\n",
        "  print('전체 샘플 중 길이가 %s 이하인 샘플의 비율: %s'%(max_len, (cnt / len(nested_list))))"
      ],
      "execution_count": null,
      "outputs": []
    },
    {
      "cell_type": "code",
      "metadata": {
        "colab": {
          "base_uri": "https://localhost:8080/"
        },
        "id": "m_s57Hgs3YVj",
        "outputId": "15e37f30-f1a7-40cf-ba2c-a20c159c56a6"
      },
      "source": [
        "below_threshold_len(text_max_len, data['text'])\n",
        "below_threshold_len(summary_max_len,  data['headlines'])"
      ],
      "execution_count": null,
      "outputs": [
        {
          "name": "stdout",
          "output_type": "stream",
          "text": [
            "전체 샘플 중 길이가 40 이하인 샘플의 비율: 0.9238714924766165\n",
            "전체 샘플 중 길이가 11 이하인 샘플의 비율: 0.9449877999186661\n"
          ]
        }
      ]
    },
    {
      "cell_type": "markdown",
      "metadata": {
        "id": "zZrR0Hot3kAZ"
      },
      "source": [
        "#### 시작 토큰과 종료 토큰 추가하기"
      ]
    },
    {
      "cell_type": "code",
      "metadata": {
        "colab": {
          "base_uri": "https://localhost:8080/",
          "height": 289
        },
        "id": "neAW2TYF3jkh",
        "outputId": "fa548f4a-0865-4448-a370-0466e2a1bb70"
      },
      "source": [
        "# 요약 데이터에는 시작 토큰과 종료 토큰을 추가한다.\n",
        "data['decoder_input'] = data['headlines'].apply(lambda x : 'sostoken '+ x)\n",
        "data['decoder_target'] = data['headlines'].apply(lambda x : x + ' eostoken')\n",
        "data.head()"
      ],
      "execution_count": null,
      "outputs": [
        {
          "data": {
            "text/html": [
              "<div>\n",
              "<style scoped>\n",
              "    .dataframe tbody tr th:only-of-type {\n",
              "        vertical-align: middle;\n",
              "    }\n",
              "\n",
              "    .dataframe tbody tr th {\n",
              "        vertical-align: top;\n",
              "    }\n",
              "\n",
              "    .dataframe thead th {\n",
              "        text-align: right;\n",
              "    }\n",
              "</style>\n",
              "<table border=\"1\" class=\"dataframe\">\n",
              "  <thead>\n",
              "    <tr style=\"text-align: right;\">\n",
              "      <th></th>\n",
              "      <th>headlines</th>\n",
              "      <th>text</th>\n",
              "      <th>decoder_input</th>\n",
              "      <th>decoder_target</th>\n",
              "    </tr>\n",
              "  </thead>\n",
              "  <tbody>\n",
              "    <tr>\n",
              "      <th>0</th>\n",
              "      <td>upgrad learner switches to career in ml al wit...</td>\n",
              "      <td>saurav kant alumnus upgrad iiit pg program mac...</td>\n",
              "      <td>sostoken upgrad learner switches to career in ...</td>\n",
              "      <td>upgrad learner switches to career in ml al wit...</td>\n",
              "    </tr>\n",
              "    <tr>\n",
              "      <th>1</th>\n",
              "      <td>delhi techie wins free food from swiggy for on...</td>\n",
              "      <td>kunal shah credit card bill payment platform c...</td>\n",
              "      <td>sostoken delhi techie wins free food from swig...</td>\n",
              "      <td>delhi techie wins free food from swiggy for on...</td>\n",
              "    </tr>\n",
              "    <tr>\n",
              "      <th>2</th>\n",
              "      <td>new zealand end rohit sharma led india match w...</td>\n",
              "      <td>new zealand defeated india wickets fourth odi ...</td>\n",
              "      <td>sostoken new zealand end rohit sharma led indi...</td>\n",
              "      <td>new zealand end rohit sharma led india match w...</td>\n",
              "    </tr>\n",
              "    <tr>\n",
              "      <th>3</th>\n",
              "      <td>aegon life iterm insurance plan helps customer...</td>\n",
              "      <td>aegon life iterm insurance plan customers enjo...</td>\n",
              "      <td>sostoken aegon life iterm insurance plan helps...</td>\n",
              "      <td>aegon life iterm insurance plan helps customer...</td>\n",
              "    </tr>\n",
              "    <tr>\n",
              "      <th>4</th>\n",
              "      <td>have known hirani for yrs what if metoo claims...</td>\n",
              "      <td>speaking sexual harassment allegations rajkuma...</td>\n",
              "      <td>sostoken have known hirani for yrs what if met...</td>\n",
              "      <td>have known hirani for yrs what if metoo claims...</td>\n",
              "    </tr>\n",
              "  </tbody>\n",
              "</table>\n",
              "</div>"
            ],
            "text/plain": [
              "                                           headlines  \\\n",
              "0  upgrad learner switches to career in ml al wit...   \n",
              "1  delhi techie wins free food from swiggy for on...   \n",
              "2  new zealand end rohit sharma led india match w...   \n",
              "3  aegon life iterm insurance plan helps customer...   \n",
              "4  have known hirani for yrs what if metoo claims...   \n",
              "\n",
              "                                                text  \\\n",
              "0  saurav kant alumnus upgrad iiit pg program mac...   \n",
              "1  kunal shah credit card bill payment platform c...   \n",
              "2  new zealand defeated india wickets fourth odi ...   \n",
              "3  aegon life iterm insurance plan customers enjo...   \n",
              "4  speaking sexual harassment allegations rajkuma...   \n",
              "\n",
              "                                       decoder_input  \\\n",
              "0  sostoken upgrad learner switches to career in ...   \n",
              "1  sostoken delhi techie wins free food from swig...   \n",
              "2  sostoken new zealand end rohit sharma led indi...   \n",
              "3  sostoken aegon life iterm insurance plan helps...   \n",
              "4  sostoken have known hirani for yrs what if met...   \n",
              "\n",
              "                                      decoder_target  \n",
              "0  upgrad learner switches to career in ml al wit...  \n",
              "1  delhi techie wins free food from swiggy for on...  \n",
              "2  new zealand end rohit sharma led india match w...  \n",
              "3  aegon life iterm insurance plan helps customer...  \n",
              "4  have known hirani for yrs what if metoo claims...  "
            ]
          },
          "execution_count": 20,
          "metadata": {},
          "output_type": "execute_result"
        }
      ]
    },
    {
      "cell_type": "code",
      "metadata": {
        "id": "dwEAZpMQ3veW"
      },
      "source": [
        "encoder_input = np.array(data['text']) # 인코더의 입력\n",
        "decoder_input = np.array(data['decoder_input']) # 디코더의 입력\n",
        "decoder_target = np.array(data['decoder_target']) # 디코더의 레이블"
      ],
      "execution_count": null,
      "outputs": []
    },
    {
      "cell_type": "code",
      "metadata": {
        "colab": {
          "base_uri": "https://localhost:8080/"
        },
        "id": "0OPXd2_s30Uy",
        "outputId": "f2ecd70f-eca1-443c-add5-0326534603f2"
      },
      "source": [
        "indices = np.arange(encoder_input.shape[0])\n",
        "np.random.shuffle(indices)\n",
        "print(indices)"
      ],
      "execution_count": null,
      "outputs": [
        {
          "name": "stdout",
          "output_type": "stream",
          "text": [
            "[64616 78779 90757 ... 22928 68894 85644]\n"
          ]
        }
      ]
    },
    {
      "cell_type": "code",
      "metadata": {
        "id": "iuyu7QYw34-q"
      },
      "source": [
        "encoder_input = encoder_input[indices]\n",
        "decoder_input = decoder_input[indices]\n",
        "decoder_target = decoder_target[indices]"
      ],
      "execution_count": null,
      "outputs": []
    },
    {
      "cell_type": "code",
      "metadata": {
        "colab": {
          "base_uri": "https://localhost:8080/"
        },
        "id": "dB_DrT4236mx",
        "outputId": "0f303c6f-9988-43d4-87c9-fdb48f8c361c"
      },
      "source": [
        "n_of_val = int(len(encoder_input)*0.2)\n",
        "print('테스트 데이터의 수 :', n_of_val)"
      ],
      "execution_count": null,
      "outputs": [
        {
          "name": "stdout",
          "output_type": "stream",
          "text": [
            "테스트 데이터의 수 : 19672\n"
          ]
        }
      ]
    },
    {
      "cell_type": "code",
      "metadata": {
        "colab": {
          "base_uri": "https://localhost:8080/"
        },
        "id": "7UFZ6ISm3-af",
        "outputId": "075794ad-128e-4afa-891f-3f881241ca99"
      },
      "source": [
        "encoder_input_train = encoder_input[:-n_of_val]\n",
        "decoder_input_train = decoder_input[:-n_of_val]\n",
        "decoder_target_train = decoder_target[:-n_of_val]\n",
        "\n",
        "encoder_input_test = encoder_input[-n_of_val:]\n",
        "decoder_input_test = decoder_input[-n_of_val:]\n",
        "decoder_target_test = decoder_target[-n_of_val:]\n",
        "\n",
        "print('훈련 데이터의 개수 :', len(encoder_input_train))\n",
        "print('훈련 레이블의 개수 :', len(decoder_input_train))\n",
        "print('테스트 데이터의 개수 :', len(encoder_input_test))\n",
        "print('테스트 레이블의 개수 :', len(decoder_input_test))"
      ],
      "execution_count": null,
      "outputs": [
        {
          "name": "stdout",
          "output_type": "stream",
          "text": [
            "훈련 데이터의 개수 : 78688\n",
            "훈련 레이블의 개수 : 78688\n",
            "테스트 데이터의 개수 : 19672\n",
            "테스트 레이블의 개수 : 19672\n"
          ]
        }
      ]
    },
    {
      "cell_type": "markdown",
      "metadata": {
        "id": "Y1su0ggToxFJ"
      },
      "source": [
        "### 2.5 인코딩"
      ]
    },
    {
      "cell_type": "code",
      "metadata": {
        "id": "lI4FDQCn4Apa"
      },
      "source": [
        "src_tokenizer = Tokenizer() # 토크나이저 정의\n",
        "src_tokenizer.fit_on_texts(encoder_input_train) # 입력된 데이터로부터 단어 집합 생성"
      ],
      "execution_count": null,
      "outputs": []
    },
    {
      "cell_type": "code",
      "metadata": {
        "colab": {
          "base_uri": "https://localhost:8080/"
        },
        "id": "CrM-Dum34B4I",
        "outputId": "5521a772-9ccd-4b35-f5da-620f32e61214"
      },
      "source": [
        "threshold = 7\n",
        "total_cnt = len(src_tokenizer.word_index) # 단어의 수\n",
        "rare_cnt = 0 # 등장 빈도수가 threshold보다 작은 단어의 개수를 카운트\n",
        "total_freq = 0 # 훈련 데이터의 전체 단어 빈도수 총 합\n",
        "rare_freq = 0 # 등장 빈도수가 threshold보다 작은 단어의 등장 빈도수의 총 합\n",
        "\n",
        "# 단어와 빈도수의 쌍(pair)을 key와 value로 받는다.\n",
        "for key, value in src_tokenizer.word_counts.items():\n",
        "    total_freq = total_freq + value\n",
        "\n",
        "    # 단어의 등장 빈도수가 threshold보다 작으면\n",
        "    if(value < threshold):\n",
        "        rare_cnt = rare_cnt + 1\n",
        "        rare_freq = rare_freq + value\n",
        "\n",
        "print('단어 집합(vocabulary)의 크기 :', total_cnt)\n",
        "print('등장 빈도가 %s번 이하인 희귀 단어의 수: %s'%(threshold - 1, rare_cnt))\n",
        "print('단어 집합에서 희귀 단어를 제외시킬 경우의 단어 집합의 크기 %s'%(total_cnt - rare_cnt))\n",
        "print(\"단어 집합에서 희귀 단어의 비율:\", (rare_cnt / total_cnt)*100)\n",
        "print(\"전체 등장 빈도에서 희귀 단어 등장 빈도 비율:\", (rare_freq / total_freq)*100)"
      ],
      "execution_count": null,
      "outputs": [
        {
          "name": "stdout",
          "output_type": "stream",
          "text": [
            "단어 집합(vocabulary)의 크기 : 69549\n",
            "등장 빈도가 6번 이하인 희귀 단어의 수: 47404\n",
            "단어 집합에서 희귀 단어를 제외시킬 경우의 단어 집합의 크기 22145\n",
            "단어 집합에서 희귀 단어의 비율: 68.15913959941912\n",
            "전체 등장 빈도에서 희귀 단어 등장 빈도 비율: 3.4957723001482246\n"
          ]
        }
      ]
    },
    {
      "cell_type": "code",
      "metadata": {
        "id": "j6CAHTSA4QOg"
      },
      "source": [
        "src_vocab = 20000\n",
        "src_tokenizer = Tokenizer(num_words=src_vocab) # 단어 집합의 크기를 8,000으로 제한\n",
        "src_tokenizer.fit_on_texts(encoder_input_train) # 단어 집합 재생성."
      ],
      "execution_count": null,
      "outputs": []
    },
    {
      "cell_type": "code",
      "metadata": {
        "colab": {
          "base_uri": "https://localhost:8080/"
        },
        "id": "0qoVW7nX6jnD",
        "outputId": "7286ef7e-66e8-4557-9a5d-00e6953f4606"
      },
      "source": [
        "# 텍스트 시퀀스를 정수 시퀀스로 변환\n",
        "encoder_input_train = src_tokenizer.texts_to_sequences(encoder_input_train) \n",
        "encoder_input_test = src_tokenizer.texts_to_sequences(encoder_input_test)\n",
        "\n",
        "# 잘 진행되었는지 샘플 출력\n",
        "print(encoder_input_train[:3])"
      ],
      "execution_count": null,
      "outputs": [
        {
          "name": "stdout",
          "output_type": "stream",
          "text": [
            "[[66, 362, 16, 1793, 1201, 6137, 362, 3380, 14, 5324, 7269, 5882, 12950, 618, 1363, 562, 2218, 987, 222, 7269, 895, 2404, 336, 2449, 737, 1201, 1955, 140, 2218, 618, 39, 2981, 12950], [151, 511, 89, 1, 1423, 5, 388, 888, 1309, 39, 140, 1580, 1677, 629, 388, 24, 13334, 178, 62, 171, 5, 455, 88, 151, 239, 1114], [545, 549, 693, 2693, 591, 8556, 792, 6073, 1077, 18, 2008, 11552, 10270, 4412, 198, 73, 2982, 598, 1669, 1012, 6073, 150, 198, 92, 549, 76, 1067, 8557, 4444, 2994, 349, 150, 360, 322, 415, 2352, 2769, 412, 549, 22, 1918, 961, 930, 1195]]\n"
          ]
        }
      ]
    },
    {
      "cell_type": "code",
      "metadata": {
        "id": "A2F91dWJ6tBt"
      },
      "source": [
        "tar_tokenizer = Tokenizer()\n",
        "tar_tokenizer.fit_on_texts(decoder_input_train)"
      ],
      "execution_count": null,
      "outputs": []
    },
    {
      "cell_type": "code",
      "metadata": {
        "colab": {
          "base_uri": "https://localhost:8080/"
        },
        "id": "G4k577VP6vos",
        "outputId": "5f698ad4-a4d6-43f2-e913-9c1ec458418d"
      },
      "source": [
        "threshold = 6\n",
        "total_cnt = len(tar_tokenizer.word_index) # 단어의 수\n",
        "rare_cnt = 0 # 등장 빈도수가 threshold보다 작은 단어의 개수를 카운트\n",
        "total_freq = 0 # 훈련 데이터의 전체 단어 빈도수 총 합\n",
        "rare_freq = 0 # 등장 빈도수가 threshold보다 작은 단어의 등장 빈도수의 총 합\n",
        "\n",
        "# 단어와 빈도수의 쌍(pair)을 key와 value로 받는다.\n",
        "for key, value in tar_tokenizer.word_counts.items():\n",
        "    total_freq = total_freq + value\n",
        "\n",
        "    # 단어의 등장 빈도수가 threshold보다 작으면\n",
        "    if(value < threshold):\n",
        "        rare_cnt = rare_cnt + 1\n",
        "        rare_freq = rare_freq + value\n",
        "\n",
        "print('단어 집합(vocabulary)의 크기 :', total_cnt)\n",
        "print('등장 빈도가 %s번 이하인 희귀 단어의 수: %s'%(threshold - 1, rare_cnt))\n",
        "print('단어 집합에서 희귀 단어를 제외시킬 경우의 단어 집합의 크기 %s'%(total_cnt - rare_cnt))\n",
        "print(\"단어 집합에서 희귀 단어의 비율:\", (rare_cnt / total_cnt)*100)\n",
        "print(\"전체 등장 빈도에서 희귀 단어 등장 빈도 비율:\", (rare_freq / total_freq)*100)"
      ],
      "execution_count": null,
      "outputs": [
        {
          "name": "stdout",
          "output_type": "stream",
          "text": [
            "단어 집합(vocabulary)의 크기 : 30057\n",
            "등장 빈도가 5번 이하인 희귀 단어의 수: 19655\n",
            "단어 집합에서 희귀 단어를 제외시킬 경우의 단어 집합의 크기 10402\n",
            "단어 집합에서 희귀 단어의 비율: 65.39242106664005\n",
            "전체 등장 빈도에서 희귀 단어 등장 빈도 비율: 4.663642610327272\n"
          ]
        }
      ]
    },
    {
      "cell_type": "code",
      "metadata": {
        "colab": {
          "base_uri": "https://localhost:8080/"
        },
        "id": "Dx-Ldpx86y59",
        "outputId": "ffa11d93-ec2a-4ad4-a09a-c54b5bf0b635"
      },
      "source": [
        "\n",
        "tar_vocab = 10000\n",
        "tar_tokenizer = Tokenizer(num_words = tar_vocab) \n",
        "tar_tokenizer.fit_on_texts(decoder_input_train)\n",
        "tar_tokenizer.fit_on_texts(decoder_target_train)\n",
        "\n",
        "# 텍스트 시퀀스를 정수 시퀀스로 변환\n",
        "decoder_input_train = tar_tokenizer.texts_to_sequences(decoder_input_train) \n",
        "decoder_target_train = tar_tokenizer.texts_to_sequences(decoder_target_train)\n",
        "decoder_input_test = tar_tokenizer.texts_to_sequences(decoder_input_test)\n",
        "decoder_target_test = tar_tokenizer.texts_to_sequences(decoder_target_test)\n",
        "\n",
        "#잘 변환되었는지 확인\n",
        "print('input')\n",
        "print('input ',decoder_input_train[:5])\n",
        "print('target')\n",
        "print('decoder ',decoder_target_train[:5])"
      ],
      "execution_count": null,
      "outputs": [
        {
          "name": "stdout",
          "output_type": "stream",
          "text": [
            "input\n",
            "input  [[1, 553, 16, 74, 2306, 933, 8799, 3, 1251], [1, 105, 60, 10, 1859, 12, 98, 164, 14, 785, 137, 116], [1, 232, 5668, 1206, 128, 3, 72, 587, 295, 4137, 179, 246], [1, 4399, 41, 2635, 12, 3247, 4138, 83], [1, 45, 5207, 4, 801, 43, 659, 1860, 4, 4267, 446, 6513]]\n",
            "target\n",
            "decoder  [[553, 16, 74, 2306, 933, 8799, 3, 1251, 2], [105, 60, 10, 1859, 12, 98, 164, 14, 785, 137, 116, 2], [232, 5668, 1206, 128, 3, 72, 587, 295, 4137, 179, 246, 2], [4399, 41, 2635, 12, 3247, 4138, 83, 2], [45, 5207, 4, 801, 43, 659, 1860, 4, 4267, 446, 6513, 2]]\n"
          ]
        }
      ]
    },
    {
      "cell_type": "code",
      "metadata": {
        "colab": {
          "base_uri": "https://localhost:8080/"
        },
        "id": "WFuoV33P61eF",
        "outputId": "30fca373-c9fe-42b2-ae42-27ab46baf613"
      },
      "source": [
        "# 요약문의 길이가 1인 경우 삭제\n",
        "drop_train = [index for index, sentence in enumerate(decoder_input_train) if len(sentence) == 1]\n",
        "drop_test = [index for index, sentence in enumerate(decoder_input_test) if len(sentence) == 1]\n",
        "\n",
        "print('삭제할 훈련 데이터의 개수 :',len(drop_train))\n",
        "print('삭제할 테스트 데이터의 개수 :',len(drop_test))\n",
        "\n",
        "encoder_input_train = np.delete(encoder_input_train, drop_train, axis=0)\n",
        "decoder_input_train = np.delete(decoder_input_train, drop_train, axis=0)\n",
        "decoder_target_train = np.delete(decoder_target_train, drop_train, axis=0)\n",
        "\n",
        "encoder_input_test = np.delete(encoder_input_test, drop_test, axis=0)\n",
        "decoder_input_test = np.delete(decoder_input_test, drop_test, axis=0)\n",
        "decoder_target_test = np.delete(decoder_target_test, drop_test, axis=0)\n",
        "\n",
        "print('훈련 데이터의 개수 :',len(encoder_input_train))\n",
        "print('훈련 레이블의 개수 :',len(decoder_input_train))\n",
        "print('테스트 데이터의 개수 :',len(encoder_input_test))\n",
        "print('테스트 레이블의 개수 :',len(decoder_input_test))"
      ],
      "execution_count": null,
      "outputs": [
        {
          "name": "stdout",
          "output_type": "stream",
          "text": [
            "삭제할 훈련 데이터의 개수 : 0\n",
            "삭제할 테스트 데이터의 개수 : 0\n",
            "훈련 데이터의 개수 : 78688\n",
            "훈련 레이블의 개수 : 78688\n",
            "테스트 데이터의 개수 : 19672\n",
            "테스트 레이블의 개수 : 19672\n"
          ]
        },
        {
          "name": "stderr",
          "output_type": "stream",
          "text": [
            "/opt/conda/lib/python3.7/site-packages/numpy/core/_asarray.py:83: VisibleDeprecationWarning: Creating an ndarray from ragged nested sequences (which is a list-or-tuple of lists-or-tuples-or ndarrays with different lengths or shapes) is deprecated. If you meant to do this, you must specify 'dtype=object' when creating the ndarray\n",
            "  return array(a, dtype, copy=False, order=order)\n"
          ]
        }
      ]
    },
    {
      "cell_type": "markdown",
      "metadata": {
        "id": "HdrXOYRr6-hf"
      },
      "source": [
        "#### 패딩"
      ]
    },
    {
      "cell_type": "code",
      "metadata": {
        "id": "v9FNx-2r64j2"
      },
      "source": [
        "encoder_input_train = pad_sequences(encoder_input_train, maxlen=text_max_len, padding='post')\n",
        "encoder_input_test = pad_sequences(encoder_input_test, maxlen=text_max_len, padding='post')\n",
        "decoder_input_train = pad_sequences(decoder_input_train, maxlen=summary_max_len, padding='post')\n",
        "decoder_target_train = pad_sequences(decoder_target_train, maxlen=summary_max_len, padding='post')\n",
        "decoder_input_test = pad_sequences(decoder_input_test, maxlen=summary_max_len, padding='post')\n",
        "decoder_target_test = pad_sequences(decoder_target_test, maxlen=summary_max_len, padding='post')"
      ],
      "execution_count": null,
      "outputs": []
    },
    {
      "cell_type": "markdown",
      "metadata": {
        "id": "vTYu_3oin-L7"
      },
      "source": [
        "## 3. 모델 설계하기"
      ]
    },
    {
      "cell_type": "code",
      "metadata": {
        "colab": {
          "base_uri": "https://localhost:8080/"
        },
        "id": "-OJlewLR7HjD",
        "outputId": "6d2c3dcf-119b-4a73-da3d-45dacd74813b"
      },
      "source": [
        "from tensorflow.keras.layers import Input, LSTM, Embedding, Dense, Concatenate\n",
        "from tensorflow.keras.models import Model\n",
        "from tensorflow.keras.callbacks import EarlyStopping, ModelCheckpoint\n",
        "\n",
        "\n",
        "# 인코더 설계 시작\n",
        "embedding_dim = 128\n",
        "hidden_size = 256\n",
        "\n",
        "# 인코더\n",
        "encoder_inputs = Input(shape=(text_max_len,))\n",
        "\n",
        "# 인코더의 임베딩 층\n",
        "enc_emb = Embedding(src_vocab, embedding_dim)(encoder_inputs)\n",
        "\n",
        "# 인코더의 LSTM 1\n",
        "encoder_lstm1 = LSTM(hidden_size, return_sequences=True, return_state=True ,dropout = 0.4, recurrent_dropout = 0.4)\n",
        "encoder_output1, state_h1, state_c1 = encoder_lstm1(enc_emb)\n",
        "\n",
        "# 인코더의 LSTM 2\n",
        "encoder_lstm2 = LSTM(hidden_size, return_sequences=True, return_state=True, dropout=0.4, recurrent_dropout=0.4)\n",
        "encoder_output2, state_h2, state_c2 = encoder_lstm2(encoder_output1)\n",
        "\n",
        "# 인코더의 LSTM 3\n",
        "encoder_lstm3 = LSTM(hidden_size, return_state=True, return_sequences=True, dropout=0.4, recurrent_dropout=0.4)\n",
        "encoder_outputs, state_h, state_c= encoder_lstm3(encoder_output2)"
      ],
      "execution_count": null,
      "outputs": [
        {
          "name": "stdout",
          "output_type": "stream",
          "text": [
            "WARNING:tensorflow:Layer lstm will not use cuDNN kernel since it doesn't meet the cuDNN kernel criteria. It will use generic GPU kernel as fallback when running on GPU\n",
            "WARNING:tensorflow:Layer lstm_1 will not use cuDNN kernel since it doesn't meet the cuDNN kernel criteria. It will use generic GPU kernel as fallback when running on GPU\n",
            "WARNING:tensorflow:Layer lstm_2 will not use cuDNN kernel since it doesn't meet the cuDNN kernel criteria. It will use generic GPU kernel as fallback when running on GPU\n"
          ]
        }
      ]
    },
    {
      "cell_type": "code",
      "metadata": {
        "colab": {
          "base_uri": "https://localhost:8080/"
        },
        "id": "2fK1ey-27IUQ",
        "outputId": "1bdce158-1bcc-41b8-c4b4-f63c31db8137"
      },
      "source": [
        "# 디코더 설계\n",
        "decoder_inputs = Input(shape=(None,))\n",
        "\n",
        "# 디코더의 임베딩 층\n",
        "dec_emb_layer = Embedding(tar_vocab, embedding_dim)\n",
        "dec_emb = dec_emb_layer(decoder_inputs)\n",
        "\n",
        "# 디코더의 LSTM\n",
        "decoder_lstm = LSTM(hidden_size, return_sequences=True, return_state=True, dropout=0.4, recurrent_dropout=0.2)\n",
        "decoder_outputs, _, _ = decoder_lstm(dec_emb, initial_state=[state_h, state_c])"
      ],
      "execution_count": null,
      "outputs": [
        {
          "name": "stdout",
          "output_type": "stream",
          "text": [
            "WARNING:tensorflow:Layer lstm_3 will not use cuDNN kernel since it doesn't meet the cuDNN kernel criteria. It will use generic GPU kernel as fallback when running on GPU\n"
          ]
        }
      ]
    },
    {
      "cell_type": "code",
      "metadata": {
        "colab": {
          "base_uri": "https://localhost:8080/"
        },
        "id": "6I8EQL7O7LbU",
        "outputId": "fb8d6df4-f8ae-4967-c317-472a4f25b815"
      },
      "source": [
        "# 디코더의 출력층\n",
        "decoder_softmax_layer = Dense(tar_vocab, activation='softmax')\n",
        "decoder_softmax_outputs = decoder_softmax_layer(decoder_outputs) \n",
        "\n",
        "# 모델 정의\n",
        "model = Model([encoder_inputs, decoder_inputs], decoder_softmax_outputs)\n",
        "model.summary()"
      ],
      "execution_count": null,
      "outputs": [
        {
          "name": "stdout",
          "output_type": "stream",
          "text": [
            "Model: \"model\"\n",
            "__________________________________________________________________________________________________\n",
            "Layer (type)                    Output Shape         Param #     Connected to                     \n",
            "==================================================================================================\n",
            "input_1 (InputLayer)            [(None, 40)]         0                                            \n",
            "__________________________________________________________________________________________________\n",
            "embedding (Embedding)           (None, 40, 128)      2560000     input_1[0][0]                    \n",
            "__________________________________________________________________________________________________\n",
            "lstm (LSTM)                     [(None, 40, 256), (N 394240      embedding[0][0]                  \n",
            "__________________________________________________________________________________________________\n",
            "input_2 (InputLayer)            [(None, None)]       0                                            \n",
            "__________________________________________________________________________________________________\n",
            "lstm_1 (LSTM)                   [(None, 40, 256), (N 525312      lstm[0][0]                       \n",
            "__________________________________________________________________________________________________\n",
            "embedding_1 (Embedding)         (None, None, 128)    1280000     input_2[0][0]                    \n",
            "__________________________________________________________________________________________________\n",
            "lstm_2 (LSTM)                   [(None, 40, 256), (N 525312      lstm_1[0][0]                     \n",
            "__________________________________________________________________________________________________\n",
            "lstm_3 (LSTM)                   [(None, None, 256),  394240      embedding_1[0][0]                \n",
            "                                                                 lstm_2[0][1]                     \n",
            "                                                                 lstm_2[0][2]                     \n",
            "__________________________________________________________________________________________________\n",
            "dense (Dense)                   (None, None, 10000)  2570000     lstm_3[0][0]                     \n",
            "==================================================================================================\n",
            "Total params: 8,249,104\n",
            "Trainable params: 8,249,104\n",
            "Non-trainable params: 0\n",
            "__________________________________________________________________________________________________\n"
          ]
        }
      ]
    },
    {
      "cell_type": "code",
      "metadata": {
        "id": "i4wZx7hK7MeS"
      },
      "source": [
        "urllib.request.urlretrieve(\"https://raw.githubusercontent.com/thushv89/attention_keras/master/src/layers/attention.py\", filename=\"attention.py\")\n",
        "from attention import AttentionLayer"
      ],
      "execution_count": null,
      "outputs": []
    },
    {
      "cell_type": "code",
      "metadata": {
        "id": "AdVBJoj4Tvbx",
        "outputId": "11e95744-06e6-4bb5-e9dc-40da4b8d6fd3"
      },
      "source": [
        "# 어텐션 층(어텐션 함수)\n",
        "attn_layer = AttentionLayer(name='attention_layer')\n",
        "# 인코더와 디코더의 모든 time step의 hidden state를 어텐션 층에 전달하고 결과를 리턴\n",
        "attn_out, attn_states = attn_layer([encoder_outputs, decoder_outputs])\n",
        "\n",
        "# 어텐션의 결과와 디코더의 hidden state들을 연결\n",
        "decoder_concat_input = Concatenate(axis=-1, name='concat_layer')([decoder_outputs, attn_out])\n",
        "\n",
        "# 디코더의 출력층\n",
        "decoder_softmax_layer = Dense(tar_vocab, activation='softmax')\n",
        "decoder_softmax_outputs = decoder_softmax_layer(decoder_concat_input)\n",
        "\n",
        "# 모델 정의\n",
        "model = Model([encoder_inputs, decoder_inputs], decoder_softmax_outputs)\n",
        "model.summary()"
      ],
      "execution_count": null,
      "outputs": [
        {
          "name": "stdout",
          "output_type": "stream",
          "text": [
            "Model: \"model_1\"\n",
            "__________________________________________________________________________________________________\n",
            "Layer (type)                    Output Shape         Param #     Connected to                     \n",
            "==================================================================================================\n",
            "input_1 (InputLayer)            [(None, 40)]         0                                            \n",
            "__________________________________________________________________________________________________\n",
            "embedding (Embedding)           (None, 40, 128)      2560000     input_1[0][0]                    \n",
            "__________________________________________________________________________________________________\n",
            "lstm (LSTM)                     [(None, 40, 256), (N 394240      embedding[0][0]                  \n",
            "__________________________________________________________________________________________________\n",
            "input_2 (InputLayer)            [(None, None)]       0                                            \n",
            "__________________________________________________________________________________________________\n",
            "lstm_1 (LSTM)                   [(None, 40, 256), (N 525312      lstm[0][0]                       \n",
            "__________________________________________________________________________________________________\n",
            "embedding_1 (Embedding)         (None, None, 128)    1280000     input_2[0][0]                    \n",
            "__________________________________________________________________________________________________\n",
            "lstm_2 (LSTM)                   [(None, 40, 256), (N 525312      lstm_1[0][0]                     \n",
            "__________________________________________________________________________________________________\n",
            "lstm_3 (LSTM)                   [(None, None, 256),  394240      embedding_1[0][0]                \n",
            "                                                                 lstm_2[0][1]                     \n",
            "                                                                 lstm_2[0][2]                     \n",
            "__________________________________________________________________________________________________\n",
            "attention_layer (AttentionLayer ((None, None, 256),  131328      lstm_2[0][0]                     \n",
            "                                                                 lstm_3[0][0]                     \n",
            "__________________________________________________________________________________________________\n",
            "concat_layer (Concatenate)      (None, None, 512)    0           lstm_3[0][0]                     \n",
            "                                                                 attention_layer[0][0]            \n",
            "__________________________________________________________________________________________________\n",
            "dense_1 (Dense)                 (None, None, 10000)  5130000     concat_layer[0][0]               \n",
            "==================================================================================================\n",
            "Total params: 10,940,432\n",
            "Trainable params: 10,940,432\n",
            "Non-trainable params: 0\n",
            "__________________________________________________________________________________________________\n"
          ]
        }
      ]
    },
    {
      "cell_type": "markdown",
      "metadata": {
        "id": "VRNRm2qeoNHu"
      },
      "source": [
        "## 4. 모델 훈련하기"
      ]
    },
    {
      "cell_type": "code",
      "metadata": {
        "colab": {
          "base_uri": "https://localhost:8080/"
        },
        "id": "Q_rSkLup7aW1",
        "outputId": "26c6e248-2e88-491e-8abd-941cb7ff9cbe"
      },
      "source": [
        "model.compile(optimizer='rmsprop', loss='sparse_categorical_crossentropy')\n",
        "es = EarlyStopping(monitor='val_loss', mode='min', patience=2, verbose=1)\n",
        "history = model.fit(x=[encoder_input_train, decoder_input_train], y=decoder_target_train, \\\n",
        "          validation_data=([encoder_input_test, decoder_input_test], decoder_target_test), \\\n",
        "          batch_size=256, callbacks=[es], epochs=50)"
      ],
      "execution_count": null,
      "outputs": [
        {
          "name": "stdout",
          "output_type": "stream",
          "text": [
            "Epoch 1/50\n",
            "308/308 [==============================] - 230s 711ms/step - loss: 6.3906 - val_loss: 5.6187\n",
            "Epoch 2/50\n",
            "308/308 [==============================] - 220s 716ms/step - loss: 5.5449 - val_loss: 5.1898\n",
            "Epoch 3/50\n",
            "308/308 [==============================] - 221s 717ms/step - loss: 5.1195 - val_loss: 4.8951\n",
            "Epoch 4/50\n",
            "308/308 [==============================] - 219s 712ms/step - loss: 4.7904 - val_loss: 4.6707\n",
            "Epoch 5/50\n",
            "308/308 [==============================] - 218s 708ms/step - loss: 4.5377 - val_loss: 4.5207\n",
            "Epoch 6/50\n",
            "308/308 [==============================] - 216s 703ms/step - loss: 4.3366 - val_loss: 4.3729\n",
            "Epoch 7/50\n",
            "308/308 [==============================] - 213s 692ms/step - loss: 4.1646 - val_loss: 4.2737\n",
            "Epoch 8/50\n",
            "308/308 [==============================] - 214s 695ms/step - loss: 4.0246 - val_loss: 4.1857\n",
            "Epoch 9/50\n",
            "308/308 [==============================] - 212s 689ms/step - loss: 3.8876 - val_loss: 4.1146\n",
            "Epoch 10/50\n",
            "308/308 [==============================] - 212s 687ms/step - loss: 3.7760 - val_loss: 4.0549\n",
            "Epoch 11/50\n",
            "308/308 [==============================] - 213s 690ms/step - loss: 3.6856 - val_loss: 4.0137\n",
            "Epoch 12/50\n",
            "308/308 [==============================] - 214s 694ms/step - loss: 3.5917 - val_loss: 3.9778\n",
            "Epoch 13/50\n",
            "308/308 [==============================] - 214s 694ms/step - loss: 3.5018 - val_loss: 3.9347\n",
            "Epoch 14/50\n",
            "308/308 [==============================] - 212s 689ms/step - loss: 3.4322 - val_loss: 3.9084\n",
            "Epoch 15/50\n",
            "308/308 [==============================] - 213s 693ms/step - loss: 3.3718 - val_loss: 3.8854\n",
            "Epoch 16/50\n",
            "308/308 [==============================] - 213s 693ms/step - loss: 3.3153 - val_loss: 3.8648\n",
            "Epoch 17/50\n",
            "308/308 [==============================] - 214s 694ms/step - loss: 3.2502 - val_loss: 3.8452\n",
            "Epoch 18/50\n",
            "308/308 [==============================] - 212s 689ms/step - loss: 3.1983 - val_loss: 3.8316\n",
            "Epoch 19/50\n",
            "308/308 [==============================] - 213s 692ms/step - loss: 3.1470 - val_loss: 3.8235\n",
            "Epoch 20/50\n",
            "308/308 [==============================] - 214s 694ms/step - loss: 3.1014 - val_loss: 3.8189\n",
            "Epoch 21/50\n",
            "308/308 [==============================] - 214s 694ms/step - loss: 3.0517 - val_loss: 3.8003\n",
            "Epoch 22/50\n",
            "308/308 [==============================] - 214s 694ms/step - loss: 3.0145 - val_loss: 3.7875\n",
            "Epoch 23/50\n",
            "308/308 [==============================] - 214s 694ms/step - loss: 2.9776 - val_loss: 3.7784\n",
            "Epoch 24/50\n",
            "308/308 [==============================] - 213s 692ms/step - loss: 2.9367 - val_loss: 3.7777\n",
            "Epoch 25/50\n",
            "308/308 [==============================] - 214s 694ms/step - loss: 2.9028 - val_loss: 3.7731\n",
            "Epoch 26/50\n",
            "308/308 [==============================] - 213s 692ms/step - loss: 2.8687 - val_loss: 3.7700\n",
            "Epoch 27/50\n",
            "308/308 [==============================] - 213s 693ms/step - loss: 2.8386 - val_loss: 3.7621\n",
            "Epoch 28/50\n",
            "308/308 [==============================] - 213s 693ms/step - loss: 2.8117 - val_loss: 3.7657\n",
            "Epoch 29/50\n",
            "308/308 [==============================] - 213s 693ms/step - loss: 2.7749 - val_loss: 3.7550\n",
            "Epoch 30/50\n",
            "308/308 [==============================] - 212s 690ms/step - loss: 2.7461 - val_loss: 3.7525\n",
            "Epoch 31/50\n",
            "308/308 [==============================] - 213s 693ms/step - loss: 2.7165 - val_loss: 3.7513\n",
            "Epoch 32/50\n",
            "308/308 [==============================] - 214s 693ms/step - loss: 2.6911 - val_loss: 3.7482\n",
            "Epoch 33/50\n",
            "308/308 [==============================] - 213s 691ms/step - loss: 2.6643 - val_loss: 3.7514\n",
            "Epoch 34/50\n",
            "308/308 [==============================] - 214s 694ms/step - loss: 2.6409 - val_loss: 3.7601\n",
            "Epoch 00034: early stopping\n"
          ]
        }
      ]
    },
    {
      "cell_type": "code",
      "metadata": {
        "id": "yUGkYONZ7ciF",
        "outputId": "37d7a380-b9da-4ba1-85af-cd7bfb2e8fb8"
      },
      "source": [
        "plt.plot(history.history['loss'], label='train')\n",
        "plt.plot(history.history['val_loss'], label='test')\n",
        "plt.legend()\n",
        "plt.show()"
      ],
      "execution_count": null,
      "outputs": [
        {
          "data": {
            "image/png": "[encoded data removed]",
            "text/plain": [
              "<Figure size 432x288 with 1 Axes>"
            ]
          },
          "metadata": {
            "needs_background": "light"
          },
          "output_type": "display_data"
        }
      ]
    },
    {
      "cell_type": "markdown",
      "metadata": {
        "id": "HFJN-VecoQMb"
      },
      "source": [
        "## 5. 인퍼런스 모델 구현하기"
      ]
    },
    {
      "cell_type": "code",
      "metadata": {
        "id": "wF4RkSB2Tvbx"
      },
      "source": [
        "src_index_to_word = src_tokenizer.index_word # 원문 단어 집합에서 정수 -> 단어를 얻음\n",
        "tar_word_to_index = tar_tokenizer.word_index # 요약 단어 집합에서 단어 -> 정수를 얻음\n",
        "tar_index_to_word = tar_tokenizer.index_word # 요약 단어 집합에서 정수 -> 단어를 얻음"
      ],
      "execution_count": null,
      "outputs": []
    },
    {
      "cell_type": "code",
      "metadata": {
        "id": "U3Sn1XKDTvbx"
      },
      "source": [
        "# 인코더 설계\n",
        "encoder_model = Model(inputs=encoder_inputs, outputs=[encoder_outputs, state_h, state_c])\n",
        "\n",
        "# 이전 시점의 상태들을 저장하는 텐서\n",
        "decoder_state_input_h = Input(shape=(hidden_size,))\n",
        "decoder_state_input_c = Input(shape=(hidden_size,))\n",
        "\n",
        "dec_emb2 = dec_emb_layer(decoder_inputs)\n",
        "\n",
        "# 문장의 다음 단어를 예측하기 위해서 초기 상태(initial_state)를 이전 시점의 상태로 사용. 이는 뒤의 함수 decode_sequence()에 구현\n",
        "# 훈련 과정에서와 달리 LSTM의 리턴하는 은닉 상태와 셀 상태인 state_h와 state_c를 버리지 않음.\n",
        "decoder_outputs2, state_h2, state_c2 = decoder_lstm(dec_emb2, initial_state=[decoder_state_input_h, decoder_state_input_c])"
      ],
      "execution_count": null,
      "outputs": []
    },
    {
      "cell_type": "code",
      "metadata": {
        "id": "R5nQiHNbTvbx"
      },
      "source": [
        "# 어텐션 함수\n",
        "decoder_hidden_state_input = Input(shape=(text_max_len, hidden_size))\n",
        "attn_out_inf, attn_states_inf = attn_layer([decoder_hidden_state_input, decoder_outputs2])\n",
        "decoder_inf_concat = Concatenate(axis=-1, name='concat')([decoder_outputs2, attn_out_inf])\n",
        "\n",
        "# 디코더의 출력층\n",
        "decoder_outputs2 = decoder_softmax_layer(decoder_inf_concat) \n",
        "\n",
        "# 최종 디코더 모델\n",
        "decoder_model = Model(\n",
        "    [decoder_inputs] + [decoder_hidden_state_input,decoder_state_input_h, decoder_state_input_c],\n",
        "    [decoder_outputs2] + [state_h2, state_c2])"
      ],
      "execution_count": null,
      "outputs": []
    },
    {
      "cell_type": "code",
      "metadata": {
        "id": "AQ4B2VPeTvby"
      },
      "source": [
        "def decode_sequence(input_seq):\n",
        "    # 입력으로부터 인코더의 상태를 얻음\n",
        "    e_out, e_h, e_c = encoder_model.predict(input_seq)\n",
        "\n",
        "     # <SOS>에 해당하는 토큰 생성\n",
        "    target_seq = np.zeros((1,1))\n",
        "    target_seq[0, 0] = tar_word_to_index['sostoken']\n",
        "\n",
        "    stop_condition = False\n",
        "    decoded_sentence = ''\n",
        "    while not stop_condition: # stop_condition이 True가 될 때까지 루프 반복\n",
        "\n",
        "        output_tokens, h, c = decoder_model.predict([target_seq] + [e_out, e_h, e_c])\n",
        "        sampled_token_index = np.argmax(output_tokens[0, -1, :])\n",
        "        sampled_token = tar_index_to_word[sampled_token_index]\n",
        "\n",
        "        if (sampled_token!='eostoken'):\n",
        "            decoded_sentence += ' '+sampled_token\n",
        "\n",
        "        #  <eos>에 도달하거나 최대 길이를 넘으면 중단.\n",
        "        if (sampled_token == 'eostoken'  or len(decoded_sentence.split()) >= (summary_max_len-1)):\n",
        "            stop_condition = True\n",
        "\n",
        "        # 길이가 1인 타겟 시퀀스를 업데이트\n",
        "        target_seq = np.zeros((1,1))\n",
        "        target_seq[0, 0] = sampled_token_index\n",
        "\n",
        "        # 상태를 업데이트 합니다.\n",
        "        e_h, e_c = h, c\n",
        "\n",
        "    return decoded_sentence"
      ],
      "execution_count": null,
      "outputs": []
    },
    {
      "cell_type": "markdown",
      "metadata": {
        "id": "_FVS-ROZoUCh"
      },
      "source": [
        "## 6. 모델 테스트 하기"
      ]
    },
    {
      "cell_type": "code",
      "metadata": {
        "id": "lRESuEbWTvby"
      },
      "source": [
        "# 원문의 정수 시퀀스를 텍스트 시퀀스로 변환\n",
        "def seq2text(input_seq):\n",
        "    temp=''\n",
        "    for i in input_seq:\n",
        "        if (i!=0):\n",
        "            temp = temp + src_index_to_word[i]+' '\n",
        "    return temp\n",
        "\n",
        "# 요약문의 정수 시퀀스를 텍스트 시퀀스로 변환\n",
        "def seq2summary(input_seq):\n",
        "    temp=''\n",
        "    for i in input_seq:\n",
        "        if ((i!=0 and i!=tar_word_to_index['sostoken']) and i!=tar_word_to_index['eostoken']):\n",
        "            temp = temp + tar_index_to_word[i] + ' '\n",
        "    return temp"
      ],
      "execution_count": null,
      "outputs": []
    },
    {
      "cell_type": "code",
      "metadata": {
        "id": "W382n9kUTvby",
        "outputId": "799d8ffe-bd55-43a0-802c-818e105589f7"
      },
      "source": [
        "for i in range(50, 100):\n",
        "    print(\"원문 :\", seq2text(encoder_input_test[i]))\n",
        "    print(\"실제 요약 :\", seq2summary(decoder_input_test[i]))\n",
        "    print(\"예측 요약 :\", decode_sequence(encoder_input_test[i].reshape(1, text_max_len)))\n",
        "    print(\"\\n\")"
      ],
      "execution_count": null,
      "outputs": [
        {
          "name": "stdout",
          "output_type": "stream",
          "text": [
            "원문 : real madrid forward cristiano ronaldo currently leading portugal cup russia mocked real madrid teammate james rodriguez new haircut james posted photograph new haircut ronaldo commented ugly hair portuguese ronaldo got hair shaved following real madrid champions league title \n",
            "실제 요약 : ronaldo mocks real madrid teammate new haircut \n",
            "예측 요약 :  ronaldo ronaldo messi celebration for ronaldo\n",
            "\n",
            "\n",
            "원문 : police said common ritual ward evil may caused fire broke meenakshi temple tamil nadu madurai friday upon examining cctv footage police believe ritual lighting smashing ground could sparked fire \n",
            "실제 요약 : at tn temple caused by ritual to ward off evil police \n",
            "예측 요약 :  people die at fire at temple in tamil nadu\n",
            "\n",
            "\n",
            "원문 : national investigation agency report stated september uri terror attack carried lashkar taiba jaish mohammed claimed army nia conclusion based coded matrix sheets recovered neutralised attackers notably attack claimed lives soldiers brigade \n",
            "실제 요약 : let not mohammad involved in uri attack nia \n",
            "예측 요약 :  terror claims responsibility for terror attack in kashmir\n",
            "\n",
            "\n",
            "원문 : idea cellular posted fourth straight quarterly loss crore september quarter profit crore period last year company said weak quarter marked high competition regulatory changes consolidation industry revenue per subscriber fell june quarter \n",
            "실제 요약 : idea posts fourth straight quarterly loss at crore \n",
            "예측 요약 :  idea profit rises to crore in march quarter\n",
            "\n",
            "\n",
            "원문 : us secret service vacated command post inside trump tower manhattan dispute president donald trump organisation regarding agency lease terms command post located trump tower unit one floor president apartment relocated trailer since july year \n",
            "실제 요약 : us secret service trump tower over dispute \n",
            "예측 요약 :  us billionaire trump son outside us\n",
            "\n",
            "\n",
            "원문 : attacking opposition lok sabha friday pm narendra modi speech said congress faith election commission judiciary rbi international agencies confidence nothing pm modi added stayed power long continue childish said \n",
            "실제 요약 : congress has no faith in ec judiciary rbi pm modi \n",
            "예측 요약 :  opposition pm modi is not sc\n",
            "\n",
            "\n",
            "원문 : indian space research organisation said launch india second lunar mission chandrayaan postponed october decision taken experts suggested running tests launch originally scheduled april isro first attempt launch rover south pole moon \n",
            "실제 요약 : india nd mission to the moon postponed to october \n",
            "예측 요약 :  isro to launch international mission for mission\n",
            "\n",
            "\n",
            "원문 : man reportedly threw acid year old woman mumbai thursday saying wanted teach lesson staring anger hatred accused lived neighbourhood woman attacked way public washroom woman received burn injuries back lips \n",
            "실제 요약 : mumbai man throws acid at woman for at him \n",
            "예측 요약 :  man arrested for raping woman to woman\n",
            "\n",
            "\n",
            "원문 : actor salman khan said would never able write life autobiography added think thing anyone write autobiography salman said book launch veteran actress asha parekh autobiography titled hit girl \n",
            "실제 요약 : be able to write about my life in book salman khan \n",
            "예측 요약 :  salman is my life salman khan\n",
            "\n",
            "\n",
            "원문 : swara bhasker revealed friend actress sonam kapoor postponed wedding anand ahuja swara could attend sonam astrologer picked date wedding date swara brother ishaan also getting married sonam even asked could convince parents get ishaan wedding date changed said swara \n",
            "실제 요약 : sonam postponed her wedding with anand for me says swara \n",
            "예측 요약 :  sonam kapoor to sonam kapoor for sonam wedding\n",
            "\n",
            "\n",
            "원문 : actor kamal haasan reacting threats beheading deepika padukone row padmavati tweeted want ms deepika head saved respect body even freedom deny added haasan wrote extremism debate adding wake india time think \n",
            "실제 요약 : want deepika head saved haasan on padmavati row \n",
            "예측 요약 :  you are not playing anti rajinikanth on padmavati row\n",
            "\n",
            "\n",
            "원문 : drive art gallery come highway abu dhabi dubai celebration uae innovation month organised louvre abu dhabi museum gallery showcases ten works along kilometre stretch driving past highway gallery people tune radio stations hear describing artworks \n",
            "실제 요약 : drive by art comes up on uae highway \n",
            "예측 요약 :  dubai to get its own runway at dubai airport\n",
            "\n",
            "\n",
            "원문 : goods services tax network information technology backbone india new tax regime capable handling lakh transactions every second amounting crore transactions month network handle users time every second chairman gst network navin kumar said \n",
            "실제 요약 : how many transactions can the gst network handle \n",
            "예측 요약 :  gst council to be under new year of august\n",
            "\n",
            "\n",
            "원문 : pm narendra modi launched amma scooter scheme tamil nadu chennai occasion late cm jayalalithaa th birth anniversary saturday scheme women annual income less lakh avail subsidy purchase two wheeler pm modi said glad launch jayalalithaa dream project \n",
            "실제 요약 : pm modi launches amma scooter scheme on jaya birth anniv \n",
            "예측 요약 :  pm modi launches scheme for tamil nadu cm\n",
            "\n",
            "\n",
            "원문 : delhi government sentence review board rejected early release plea sushil sharma serving life imprisonment killing wife trying dispose body burning also rejected plea santosh singh serving life imprisonment rape murder law student \n",
            "실제 요약 : case convict plea for early release rejected \n",
            "예측 요약 :  court to release plea against sanjay lankesh murder\n",
            "\n",
            "\n",
            "원문 : first iit delhi researchers developed silk based human hair growth may help screen drugs treating hair loss without animal tests researcher ghosh said differences amongst animals humans drastically limit success drugs prompted need model hair using human cells \n",
            "실제 요약 : iit makes silk based hair to avoid animal testing \n",
            "예측 요약 :  researchers create electricity for first time\n",
            "\n",
            "\n",
            "원문 : fortis healthcare board approved crore offer malaysia based ihh healthcare stake valuing fortis crore ihh also make mandatory open offer crore buy stake fortis existing shareholders ihh said long term would fortis hospitals chain \n",
            "실제 요약 : to acquire stake in fortis healthcare for cr \n",
            "예측 요약 :  fortis finance finance ministry acquires crore\n",
            "\n",
            "\n",
            "원문 : union minister state home affairs kiren rijiju shared picture india map made school ground arunachal pradesh class teachers students maintaining though partially damaged said rijiju try visit school children day teacher day added \n",
            "실제 요약 : shares pic of india map he made at school in class \n",
            "예측 요약 :  india to be made on school day of martyrs\n",
            "\n",
            "\n",
            "원문 : actor sushant singh rajput revealed quit college started theatre used get per play talking initial days acting career sushant added theatre tv thinking okay right one day successful \n",
            "실제 요약 : used to get per play sushant on his theatre days \n",
            "예측 요약 :  was not anurag on anurag kashyap super harassment\n",
            "\n",
            "\n",
            "원문 : general motors ceo mary topped fortune list powerful women third time row list features pepsico ceo indra nooyi ranked facebook coo sheryl sandberg ranked also features first ceo williams ranking women includes ceos controlling trillion market capitalisation \n",
            "실제 요약 : who are the most powerful women in business \n",
            "예측 요약 :  walmart ceo among world most powerful women\n",
            "\n",
            "\n",
            "원문 : microsoft pledged million next five years ai earth program company announced program announced july make ai accessible researchers solve environmental challenges microsoft also provide universities organisations advanced training put ai best use microsoft president brad smith said \n",
            "실제 요약 : microsoft pledges mn to ai for earth program \n",
            "예측 요약 :  microsoft to make million years after years\n",
            "\n",
            "\n",
            "원문 : taxi drivers istanbul turkey sued cab hailing startup uber accusing american company endangering livelihoods lawsuit drivers also accused uber running unlicensed taxi service country demanded ban app drivers also protested istanbul uber earlier week \n",
            "실제 요약 : taxi drivers sue uber seek ban on startup \n",
            "예측 요약 :  uber drivers sue uber for not paying drivers\n",
            "\n",
            "\n",
            "원문 : maharashtra stayed process buy land billion refinery state run oil companies building saudi aramco cm devendra fadnavis said thousands farmers refused surrender land fearing project could damage region known mangoes million tonnes per annum refinery complex would india biggest \n",
            "실제 요약 : maha puts land purchase for bn saudi refinery on hold \n",
            "예측 요약 :  maharashtra to buy billion along billion debt refinery\n",
            "\n",
            "\n",
            "원문 : cricketer politician navjot singh sidhu reached pakistan attend oath taking ceremony pakistan prime minister elect imran khan khan invited former indian cricketers sunil gavaskar kapil dev declined invitation attend ceremony build bridges break barriers unite people sidhu earlier said imran \n",
            "실제 요약 : navjot sidhu in pakistan to attend imran khan swearing in \n",
            "예측 요약 :  sidhu sidhu attend kartarpur event in pakistan\n",
            "\n",
            "\n",
            "원문 : delhi police arrested upsc aspirant allegedly kidnapping year old boy ransom recover money lost fake job racket police said demanded lakh caught gave away location also captured cctv camera near spot made ransom call \n",
            "실제 요약 : upsc aspirant kidnaps yr old to recover money lost to fraud \n",
            "예측 요약 :  delhi man arrested for raping minor boy for money\n",
            "\n",
            "\n",
            "원문 : maps directing tourists looking blue mountains australia dead end street minutes away nearby residents forced put sign saying blue mountains meanwhile google recently corrected error adding data found google maps come wide range sources including third party providers public sources \n",
            "실제 요약 : google maps mistakenly sends tourists to dead end street \n",
            "예측 요약 :  selfie like blue whale selfie location\n",
            "\n",
            "\n",
            "원문 : india new joint doctrine armed forces response terror provocations could form surgical strikes document released tuesday added option conduct strikes would covered sub conventional portion spectrum armed conflict notably india conducted surgical strikes pok last year uri attack \n",
            "실제 요약 : surgical strikes an option against terror acts new \n",
            "예측 요약 :  india ready to extend action against terrorists\n",
            "\n",
            "\n",
            "원문 : whatsapp thursday launched business app connecting users small businesses android app lets businesses set profiles add business description email address website currently launched indonesia italy mexico uk us however whatsapp said app roll globally coming weeks \n",
            "실제 요약 : whatsapp launches business app for android \n",
            "예측 요약 :  whatsapp launches feature to feature in app\n",
            "\n",
            "\n",
            "원문 : responding us senator sanders claims amazon poor working conditions company said senator making inaccurate misleading accusations amazon also said communication sanders office tour centers company asked employees share positive experiences working amazon sanders \n",
            "실제 요약 : amazon denies claims of poor work conditions as \n",
            "예측 요약 :  amazon is an company for an customers us\n",
            "\n",
            "\n",
            "원문 : south africa defeated india runs centurion test wednesday taking unassailable series lead ending india record streak nine consecutive series wins last time india lost test series australia defeated four match series last test start january johannesburg \n",
            "실제 요약 : india lose their first test series in years \n",
            "예측 요약 :  south africa beat south africa to win series\n",
            "\n",
            "\n",
            "원문 : vision fund may lead funding round around million gurugram based online grocery startup grofers participation german retail group metro ag reports suggested funding could raised pre money valuation million founded grofers counts tiger global russian billionaire yuri sequoia capital investors \n",
            "실제 요약 : softbank may lead million funding in grofers \n",
            "예측 요약 :  softbank leads mn funding funding in series funding\n",
            "\n",
            "\n",
            "원문 : islamic state member samata pleaded guilty several terrorism charges hid data including extremist blog usb operating system loaded onto conceal extremist data used extremist blog could closed deleted authorities \n",
            "실제 요약 : islamic state terrorist hid extremist data in \n",
            "예측 요약 :  isis attack on facebook\n",
            "\n",
            "\n",
            "원문 : maharashtra cm devendra fadnavis ordered suspend executive engineer maharashtra housing area development authority irregularities redevelopment goregaon ordered scrap project lodge criminal case builders undertaking project lost around crore owing irregularities \n",
            "실제 요약 : maha cm suspends official over in civic project \n",
            "예측 요약 :  maha cm orders probe into maharashtra to probe\n",
            "\n",
            "\n",
            "원문 : indian fast bowler jasprit bumrah hit first boundary international cricket second india australia odi th international match bumrah scored first international run th match went score unbeaten six balls highest odi score bumrah yet score run \n",
            "실제 요약 : bumrah hits his st boundary in th international match \n",
            "예측 요약 :  bumrah bowled his first ever odi figures in odis\n",
            "\n",
            "\n",
            "원문 : us secretary state rex tillerson wednesday condemned myanmar treatment rohingya muslim minority labelling actions ethnic cleansing provocation justify atrocities ensued said earlier month tillerson refused use term ethnic cleansing describing myanmar military action rakhine state \n",
            "실제 요약 : situation in myanmar ethnic cleansing of rohingyas us \n",
            "예측 요약 :  will be not fight with rohingya refugees us state secy\n",
            "\n",
            "\n",
            "원문 : ekta kapoor bringing reboot serial kasautii zindagii kay shared video instagram captioning ok announcing new anurag prerna shah rukh khan announcing new date show releases th september wrote ekta shah rukh seen discussing upcoming show video \n",
            "실제 요약 : srk are new anurag of kasautii jokes ekta \n",
            "예측 요약 :  ekta kapoor to appear together on koffee with karan reports\n",
            "\n",
            "\n",
            "원문 : officials wednesday said around people injured first day jallikattu festival tamil nadu nearly bulls similar number involved opening day festival madurai district collector natarajan said said nine people taken hospital minor injuries \n",
            "실제 요약 : people injured on day one of jallikattu festival in tn \n",
            "예측 요약 :  injured in tamil nadu festival after\n",
            "\n",
            "\n",
            "원문 : ankita raina become second indian woman sania mirza win medal women singles event asian games raina bronze medal losing world number zhang semi finals thursday mirza women singles silver medal edition bronze edition \n",
            "실제 요약 : ankita nd indian to win women singles tennis asiad medal \n",
            "예측 요약 :  indian women win gold medals at asian games\n",
            "\n",
            "\n",
            "원문 : prime minister narendra modi tuesday visited rajasthan launched road projects worth crore promising change face state modi said work make empty election promises comes ahead rajasthan assembly polls due \n",
            "실제 요약 : pm modi launches road projects worth crore in rajasthan \n",
            "예측 요약 :  pm modi inaugurates projects worth cr in up\n",
            "\n",
            "\n",
            "원문 : four day old baby leg amputated nurse allegedly forgot hair hours next child hospital china newborn suffered serious burns doctors leg save life two babies also room sustained minor burns december incident \n",
            "실제 요약 : newborn baby burnt leg after hair left on \n",
            "예측 요약 :  baby dies after being allowed to save baby in\n",
            "\n",
            "\n",
            "원문 : cag report last year called food served indian railways unfit human consumption national transporter decided use artificial intelligence system ensure food served many kitchens equipped eight cctv cameras track anomalies preparation packaging meals \n",
            "실제 요약 : railways to use ai system to ensure food on trains \n",
            "예측 요약 :  food safety system to be used in food safety study\n",
            "\n",
            "\n",
            "원문 : director christopher nolan film dunkirk released friday one greatest war movies ever made wrote hindustan times guardian wrote piece film making times india called first real contender best picture oscars film rated \n",
            "실제 요약 : christopher directorial hits the theatres \n",
            "예측 요약 :  superhero film avengers infinity war hits the theatres\n",
            "\n",
            "\n",
            "원문 : actress priyanka chopra hindustan times group chairperson featured powerful women entertainment media list forbes british american journalist editor anna artistic director media company topped list singers beyonc taylor swift author rowling also featured list \n",
            "실제 요약 : priyanka among most powerful women in entertainment media \n",
            "예측 요약 :  priyanka chopra named world most beautiful brand\n",
            "\n",
            "\n",
            "원문 : singer usha commenting metoo movement said quite sad whole thing blown proportion never thought people could something kind make big added usha said happened like many people involved hurt many ways \n",
            "실제 요약 : blown out of singer on metoo \n",
            "예측 요약 :  metoo is never knew about my career ago writer\n",
            "\n",
            "\n",
            "원문 : singer performing congress election rally karnataka allegedly told sing first line national song vande mataram due party president rahul gandhi tight schedule video surfaced online shows rahul pointing watch gesturing something party member person asks singer shorten song \n",
            "실제 요약 : singer told to vande mataram due to rahul schedule \n",
            "예측 요약 :  cong cong leader calls for singing vande mataram in taka\n",
            "\n",
            "\n",
            "원문 : canadian startup created watch mah battery pack charge smartphones face watch solar panel power bank batteries additionally link watch contains miniature power bank together fully recharge main battery \n",
            "실제 요약 : watch with smartphone battery pack made \n",
            "예측 요약 :  startup makes iphone with battery\n",
            "\n",
            "\n",
            "원문 : inmate jail thiruvananthapuram kerala returned jail three days escaping hungry find anything eat jail officials said might escaped scared would sent central prison phone recently seized \n",
            "실제 요약 : prisoner returns to jail for food three days after \n",
            "예측 요약 :  man who raped jail for yrs for raping citizenship\n",
            "\n",
            "\n",
            "원문 : iranian president hassan rouhani warned could drugs refugees attacks west us sanctions weaken iran ability deal rouhani called us sanctions economic terrorism us reimposed sanctions iran last month following withdrawal iran nuclear deal may \n",
            "실제 요약 : us sanctions may lead to of drugs refugees on west iran \n",
            "예측 요약 :  iran warns us of middle east iran sanctions\n",
            "\n",
            "\n",
            "원문 : onboard catering manager irctc area officer suspended least people hospitalised eating food mumbai bound tejas express sunday meanwhile irctc issued show cause notice caterer tejas express irctc official communication also assured strict action contractor found guilty \n",
            "실제 요약 : onboard manager suspended post tejas food poisoning \n",
            "예측 요약 :  passengers fall ill after falling from food food in mumbai\n",
            "\n",
            "\n",
            "원문 : islamabad chief commissioner declared former pakistan prime minister nawaz sharif private ward pakistan institute medical sciences sub jail private ward serve sub jail till time sharif kept medical treatment sharif shifted jail developing cardiac complications sunday \n",
            "실제 요약 : nawaz sharif hospital ward declared sub jail \n",
            "예측 요약 :  nawaz sharif sharif medical head to jail for medical treatment\n",
            "\n",
            "\n"
          ]
        }
      ]
    },
    {
      "cell_type": "markdown",
      "metadata": {
        "id": "NE_rm3B-oXKi"
      },
      "source": [
        "## 7. 추출적 요약 해보기"
      ]
    },
    {
      "cell_type": "code",
      "metadata": {
        "id": "5qrnb5jgTvby"
      },
      "source": [
        "import requests\n",
        "from summa.summarizer import summarize"
      ],
      "execution_count": null,
      "outputs": []
    },
    {
      "cell_type": "code",
      "metadata": {
        "id": "__nFH0F7Tvby"
      },
      "source": [
        "data['summary'] = data['text'].apply(lambda x: summarize(x, ratio=0.5))"
      ],
      "execution_count": null,
      "outputs": []
    },
    {
      "cell_type": "code",
      "metadata": {
        "id": "O4uMm1nDTvby",
        "outputId": "1fe4f4bf-ed3f-44dd-e6bc-6d3abf84e29f"
      },
      "source": [
        "# 실제 요약과 추출된 요약 비교\n",
        "for i in range(10):\n",
        "    print(\"원문 :\", data['text'][i])\n",
        "    print(\"실제 요약 :\", data['headlines'][i])\n",
        "    print(\"추출 요약 :\", data['summary'][i])\n",
        "    print(\"\\n\")"
      ],
      "execution_count": null,
      "outputs": [
        {
          "name": "stdout",
          "output_type": "stream",
          "text": [
            "원문 : saurav kant alumnus upgrad iiit pg program machine learning artificial intelligence sr systems engineer infosys almost years work experience program upgrad degree career support helped transition data scientist tech mahindra salary hike upgrad online power learning powered lakh careers\n",
            "실제 요약 : upgrad learner switches to career in ml al with salary hike\n",
            "추출 요약 : \n",
            "\n",
            "\n",
            "원문 : kunal shah credit card bill payment platform cred gave users chance win free food swiggy one year pranav kaushik delhi techie bagged reward spending cred coins users get one cred coin per rupee bill paid used avail rewards brands like ixigo bookmyshow ubereats cult fit\n",
            "실제 요약 : delhi techie wins free food from swiggy for one year on cred\n",
            "추출 요약 : \n",
            "\n",
            "\n",
            "원문 : new zealand defeated india wickets fourth odi hamilton thursday win first match five match odi series india lost international match rohit sharma captaincy consecutive victories dating back march match witnessed india getting seventh lowest total odi cricket history\n",
            "실제 요약 : new zealand end rohit sharma led india match winning streak\n",
            "추출 요약 : \n",
            "\n",
            "\n",
            "원문 : aegon life iterm insurance plan customers enjoy tax benefits premiums paid save taxes plan provides life cover age years also customers options insure critical illnesses disability accidental death benefit rider life cover age years\n",
            "실제 요약 : aegon life iterm insurance plan helps customers save tax\n",
            "추출 요약 : \n",
            "\n",
            "\n",
            "원문 : speaking sexual harassment allegations rajkumar hirani sonam kapoor said known hirani many years true metoo movement get derailed metoo movement always believe woman case need reserve judgment added hirani accused assistant worked sanju\n",
            "실제 요약 : have known hirani for yrs what if metoo claims are not true sonam\n",
            "추출 요약 : \n",
            "\n",
            "\n",
            "원문 : pakistani singer rahat fateh ali khan denied receiving notice enforcement directorate allegedly smuggling foreign currency india would better authorities would served notice first publicised reads press release issued behalf rahat statement called allegation bizarre\n",
            "실제 요약 : rahat fateh ali khan denies getting notice for smuggling currency\n",
            "추출 요약 : \n",
            "\n",
            "\n",
            "원문 : india recorded lowest odi total new zealand getting runs overs fourth odi hamilton thursday seven india batsmen dismissed single digit scores number ten batsman yuzvendra chahal top scored india previous lowest odi total new zealand\n",
            "실제 요약 : india get all out for their lowest odi total in new zealand\n",
            "추출 요약 : \n",
            "\n",
            "\n",
            "원문 : weeks ex cbi director alok verma told department personnel training consider retired home ministry asked join work last day fixed tenure director thursday ministry directed immediately join dg fire services post transferred removal cbi chief\n",
            "실제 요약 : govt directs alok verma to join work day before his retirement\n",
            "추출 요약 : \n",
            "\n",
            "\n",
            "원문 : andhra pradesh cm chandrababu naidu said met us president bill clinton addressed mr clinton sir modi junior politics addressed sir times satisfy ego hope justice state added\n",
            "실제 요약 : called pm modi sir times to satisfy his ego andhra cm\n",
            "추출 요약 : \n",
            "\n",
            "\n",
            "원문 : congress candidate shafia zubair ramgarh assembly seat rajasthan defeating bjp sukhwant singh margin votes bypoll victory congress taken total seats member assembly election ramgarh seat delayed due death sitting mla bsp candidate laxman singh\n",
            "실제 요약 : cong wins ramgarh bypoll in rajasthan takes total to seats\n",
            "추출 요약 : \n",
            "\n",
            "\n"
          ]
        }
      ]
    },
    {
      "cell_type": "markdown",
      "metadata": {
        "id": "9mCt7NSWTvby"
      },
      "source": [
        ""
      ]
    }
  ]
}