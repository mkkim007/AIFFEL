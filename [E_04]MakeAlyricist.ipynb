{
  "nbformat": 4,
  "nbformat_minor": 0,
  "metadata": {
    "colab": {
      "name": "[E-04]MakeAlyricist.ipynb",
      "provenance": [],
      "collapsed_sections": [],
      "toc_visible": true,
      "authorship_tag": "ABX9TyMwaIUoFSIBoXmLj1bykaAw",
      "include_colab_link": true
    },
    "kernelspec": {
      "name": "python3",
      "display_name": "Python 3"
    },
    "language_info": {
      "name": "python"
    },
    "accelerator": "GPU"
  },
  "cells": [
    {
      "cell_type": "markdown",
      "metadata": {
        "id": "view-in-github",
        "colab_type": "text"
      },
      "source": [
        "<a href=\"https://colab.research.google.com/github/mkkim007/AIFFEL/blob/main/%5BE_04%5DMakeAlyricist.ipynb\" target=\"_parent\"><img src=\"https://colab.research.google.com/assets/colab-badge.svg\" alt=\"Open In Colab\"/></a>"
      ]
    },
    {
      "cell_type": "markdown",
      "metadata": {
        "id": "-0rEZATqhTVM"
      },
      "source": [
        "# [E-04] 작사가 만들기 "
      ]
    },
    {
      "cell_type": "markdown",
      "metadata": {
        "id": "NvmbDuFMxdFR"
      },
      "source": [
        "![](https://d3s0tskafalll9.cloudfront.net/media/images/E-12-RNN2.max-800x600.png)"
      ]
    },
    {
      "cell_type": "markdown",
      "metadata": {
        "id": "4pq5fKCgvWxj"
      },
      "source": [
        "$n−1$개의 단어 시퀀스 $w_1, \\cdots, w_{n-1}$\n",
        "​\n",
        " 가 주어졌을 때, $n$번째 단어 $w_n$ \n",
        "​\n",
        "  으로 무엇이 올지를 예측하는 확률 모델을 언어 모델(Language Model) 이라고 부릅니다. "
      ]
    },
    {
      "cell_type": "code",
      "metadata": {
        "id": "uQKnqLK2pJaF"
      },
      "source": [
        "import os, re \n",
        "import glob\n",
        "import numpy as np\n",
        "import tensorflow as tf\n",
        "import matplotlib.pyplot as plt\n",
        "from sklearn.model_selection import train_test_split"
      ],
      "execution_count": 1,
      "outputs": []
    },
    {
      "cell_type": "markdown",
      "metadata": {
        "id": "QyPcGXA3xq3g"
      },
      "source": [
        "##1.데이터 준비하기"
      ]
    },
    {
      "cell_type": "markdown",
      "metadata": {
        "id": "iBUuDKxyhQqb"
      },
      "source": [
        "### 1.1구글 드라이브 연동"
      ]
    },
    {
      "cell_type": "code",
      "metadata": {
        "colab": {
          "base_uri": "https://localhost:8080/"
        },
        "id": "vhpuZ0Kugvmv",
        "outputId": "135c5d0f-cb6a-4f5e-ca6f-94fe36bdab1c"
      },
      "source": [
        "from google.colab import drive\n",
        "drive.mount('/content/gdrive')"
      ],
      "execution_count": 2,
      "outputs": [
        {
          "output_type": "stream",
          "text": [
            "Mounted at /content/gdrive\n"
          ],
          "name": "stdout"
        }
      ]
    },
    {
      "cell_type": "markdown",
      "metadata": {
        "id": "o6XTV-6eyboc"
      },
      "source": [
        "### 1.2 데이터 다운로드"
      ]
    },
    {
      "cell_type": "code",
      "metadata": {
        "id": "i2OrIr7kkAry"
      },
      "source": [
        "!mkdir -p lyricist/data/lyrics\n",
        "!cp /content/gdrive/MyDrive/Data/lyrics.zip /content/lyricist/data/\n",
        "!unzip -qq '/content/lyricist/data/lyrics.zip' -d /content/lyricist/data/lyrics"
      ],
      "execution_count": 3,
      "outputs": []
    },
    {
      "cell_type": "code",
      "metadata": {
        "colab": {
          "base_uri": "https://localhost:8080/"
        },
        "id": "ZpviW7YGlg1B",
        "outputId": "851925f0-3baa-4244-f5ad-755ed5920665"
      },
      "source": [
        "\n",
        "txt_file_path = '/content/lyricist/data/lyrics/*'\n",
        "\n",
        "txt_list = glob.glob(txt_file_path)\n",
        "\n",
        "raw_corpus = []\n",
        "\n",
        "# 여러개의 txt 파일을 모두 읽어서 raw_corpus 에 담습니다.\n",
        "for txt_file in txt_list:\n",
        "    with open(txt_file, \"r\") as f:\n",
        "        raw = f.read().splitlines()\n",
        "        raw_corpus.extend(raw)\n",
        "\n",
        "print(\"데이터 크기:\", len(raw_corpus))\n",
        "print(\"Examples:\\n\", raw_corpus[:3])"
      ],
      "execution_count": 4,
      "outputs": [
        {
          "output_type": "stream",
          "text": [
            "데이터 크기: 187088\n",
            "Examples:\n",
            " ['Just before our love got lost you said', 'I am as constant as a northern star\" and I said', 'Constantly in the darkness']\n"
          ],
          "name": "stdout"
        }
      ]
    },
    {
      "cell_type": "markdown",
      "metadata": {
        "id": "1ENRlMHDy8hV"
      },
      "source": [
        "###1.3 데이터 전처리"
      ]
    },
    {
      "cell_type": "markdown",
      "metadata": {
        "id": "oFLtvHnO0XgY"
      },
      "source": [
        "####1.3.1 정제와 정규화"
      ]
    },
    {
      "cell_type": "markdown",
      "metadata": {
        "id": "OSbkQ25A0zDB"
      },
      "source": [
        "- 정제 : 갖고있는 코퍼스로부터 노이즈를 제거한다  \n",
        "- 정규화 : 표현 방법이 다른 단어들을 통합시켜서 같은 단어로 만들어 준다.  \n"
      ]
    },
    {
      "cell_type": "code",
      "metadata": {
        "id": "Qk3afm0Dn68c",
        "colab": {
          "base_uri": "https://localhost:8080/"
        },
        "outputId": "83d61672-795c-48a4-994d-cdba055fc4dd"
      },
      "source": [
        "def preprocess_sentence(sentence):\n",
        "    #입력된 문장을\n",
        "    # 1. [Chorus] 같은 문장을 지웁니다\n",
        "    # 2. 소문자로 바꾸고, 양쪽 공백을 지웁니다\n",
        "    # 3. 특수문자 양쪽에 공백을 넣고\n",
        "    # 4. 여러개의 공백은 하나의 공백으로 바꿉니다\n",
        "    # 5. a-zA-Z?.!,¿가 아닌 모든 문자를 하나의 공백으로 바꿉니다\n",
        "    # 6. 다시 양쪽 공백을 지웁니다\n",
        "    # 7. 문장 시작에는 <start>, 끝에는 <end>를 추가합니다\n",
        "    \n",
        "    #sentence = re.sub(r'\\[[^)]*\\]',r'',sentence ) # 1\n",
        "    sentence = sentence.lower().strip() # 2\n",
        "    sentence = re.sub(r\"([?.!,¿])\", r\" \\1 \", sentence) # 3\n",
        "    sentence = re.sub(r'[\" \"]+', \" \", sentence) # 4\n",
        "    sentence = re.sub(r\"[^a-zA-Z?.!,¿]+\", \" \", sentence) # 5\n",
        "    sentence = sentence.strip() # 6\n",
        "    if sentence : \n",
        "      sentence = '<start> ' + sentence + ' <end>' # 7\n",
        "      return sentence\n",
        "\n",
        "\n",
        "print(preprocess_sentence(\"[Chorus]HiHi my name is mk~!~!\"))"
      ],
      "execution_count": 5,
      "outputs": [
        {
          "output_type": "stream",
          "text": [
            "<start> chorus hihi my name is mk ! ! <end>\n"
          ],
          "name": "stdout"
        }
      ]
    },
    {
      "cell_type": "code",
      "metadata": {
        "colab": {
          "base_uri": "https://localhost:8080/"
        },
        "id": "R_xibUYfoi31",
        "outputId": "5f535a8d-eef3-4307-af58-0d78f347e7a1"
      },
      "source": [
        "corpus = []\n",
        "for sentence in raw_corpus:\n",
        "    \n",
        "    if len(sentence) == 0: continue\n",
        "    \n",
        "    # 정제를 해주세요 \n",
        "    preprocessed_sentence = preprocess_sentence(sentence)\n",
        "\n",
        "    # 정제를 하고 났을때 그냥 빈 (<start><end>) sentence 들은 빼주세요! \n",
        "    if not preprocessed_sentence : continue\n",
        "    \n",
        "    #preprocessing 하고 나서 15개 이상인 것들만 담아 줬어요\n",
        "    if len(preprocessed_sentence.split(' ')) > 15 : continue\n",
        "    corpus.append(preprocessed_sentence)\n",
        "        \n",
        "# 정제된 결과를 10개만 확인해보죠\n",
        "corpus[:10]"
      ],
      "execution_count": 6,
      "outputs": [
        {
          "output_type": "execute_result",
          "data": {
            "text/plain": [
              "['<start> just before our love got lost you said <end>',\n",
              " '<start> i am as constant as a northern star and i said <end>',\n",
              " '<start> constantly in the darkness <end>',\n",
              " '<start> where s that at <end>',\n",
              " '<start> in the blue tv screen light <end>',\n",
              " '<start> i drew a map of canada <end>',\n",
              " '<start> oh canada <end>',\n",
              " '<start> you taste so bitter <end>',\n",
              " '<start> but you taste so sweet oh <end>',\n",
              " '<start> still be on my feet <end>']"
            ]
          },
          "metadata": {
            "tags": []
          },
          "execution_count": 6
        }
      ]
    },
    {
      "cell_type": "markdown",
      "metadata": {
        "id": "WArO0NDG54mx"
      },
      "source": [
        "####1.3.2 토큰화 및 패딩"
      ]
    },
    {
      "cell_type": "code",
      "metadata": {
        "colab": {
          "base_uri": "https://localhost:8080/"
        },
        "id": "qA0bchKMqdG9",
        "outputId": "3cbbb383-19fb-4692-8f18-4aa24ef2103b"
      },
      "source": [
        "def tokenize(corpus):\n",
        "    tokenizer = tf.keras.preprocessing.text.Tokenizer(\n",
        "        num_words= 12000,                  #단어장 크기는 12,000 이상!\n",
        "        filters=' ',\n",
        "        oov_token=\"<unk>\"\n",
        "    )\n",
        "    \n",
        "    # corpus를 이용해 tokenizer 내부의 단어장을 완성합니다\n",
        "    tokenizer.fit_on_texts(corpus)\n",
        "    # 준비한 tokenizer를 이용해 corpus를 Tensor로 변환합니다\n",
        "    tensor = tokenizer.texts_to_sequences(corpus)  \n",
        "    print(tensor) \n",
        "    # 입력 데이터의 시퀀스 길이를 일정하게 맞춰줍니다\n",
        "    # 만약 시퀀스가 짧다면 문장 뒤에 패딩을 붙여 길이를 맞춰줍니다.\n",
        "    # 문장 앞에 패딩을 붙여 길이를 맞추고 싶다면 padding='pre'를 사용합니다\n",
        "    tensor = tf.keras.preprocessing.sequence.pad_sequences(tensor, padding='post', maxlen=15)  \n",
        "\n",
        "    print(tensor,tokenizer)\n",
        "    return tensor, tokenizer\n",
        "\n",
        "tensor, tokenizer = tokenize(corpus)"
      ],
      "execution_count": 8,
      "outputs": [
        {
          "output_type": "stream",
          "text": [
            "IOPub data rate exceeded.\n",
            "The notebook server will temporarily stop sending output\n",
            "to the client in order to avoid crashing it.\n",
            "To change this limit, set the config variable\n",
            "`--NotebookApp.iopub_data_rate_limit`.\n",
            "\n",
            "Current values:\n",
            "NotebookApp.iopub_data_rate_limit=1000000.0 (bytes/sec)\n",
            "NotebookApp.rate_limit_window=3.0 (secs)\n",
            "\n"
          ],
          "name": "stderr"
        },
        {
          "output_type": "stream",
          "text": [
            "[[   2   32  173 ...    0    0    0]\n",
            " [   2    4  152 ...    3    0    0]\n",
            " [   2 3836   14 ...    0    0    0]\n",
            " ...\n",
            " [   2   42    6 ...    0    0    0]\n",
            " [   2   31    7 ...    0    0    0]\n",
            " [   2  301    1 ...    0    0    0]] <keras_preprocessing.text.Tokenizer object at 0x7fa669238410>\n"
          ],
          "name": "stdout"
        }
      ]
    },
    {
      "cell_type": "code",
      "metadata": {
        "colab": {
          "base_uri": "https://localhost:8080/"
        },
        "id": "yr7iac7aynmL",
        "outputId": "210f8745-8478-4e5f-b402-eddfab767e3a"
      },
      "source": [
        "tensor[0]\n",
        "tensor.shape"
      ],
      "execution_count": 9,
      "outputs": [
        {
          "output_type": "execute_result",
          "data": {
            "text/plain": [
              "(156174, 15)"
            ]
          },
          "metadata": {
            "tags": []
          },
          "execution_count": 9
        }
      ]
    },
    {
      "cell_type": "code",
      "metadata": {
        "colab": {
          "base_uri": "https://localhost:8080/"
        },
        "id": "2AI0L3Udu1VA",
        "outputId": "eadb284f-4ea8-437c-c8cc-95a9285a0079"
      },
      "source": [
        "for idx in tokenizer.index_word:\n",
        "    print(idx, \":\", tokenizer.index_word[idx])\n",
        "\n",
        "    if idx >= 10: break"
      ],
      "execution_count": 10,
      "outputs": [
        {
          "output_type": "stream",
          "text": [
            "1 : <unk>\n",
            "2 : <start>\n",
            "3 : <end>\n",
            "4 : i\n",
            "5 : ,\n",
            "6 : the\n",
            "7 : you\n",
            "8 : and\n",
            "9 : a\n",
            "10 : to\n"
          ],
          "name": "stdout"
        }
      ]
    },
    {
      "cell_type": "markdown",
      "metadata": {
        "id": "2ZG1QK6E63QB"
      },
      "source": [
        "####1.3.3 train data와 validation data 분리"
      ]
    },
    {
      "cell_type": "code",
      "metadata": {
        "colab": {
          "base_uri": "https://localhost:8080/"
        },
        "id": "Szts7Xa7CHxS",
        "outputId": "c1579cdd-8ca6-438b-9957-5eddf5b8a607"
      },
      "source": [
        "# tensor에서 마지막 토큰을 잘라내서 소스 문장을 생성합니다\n",
        "# 마지막 토큰은 <end>가 아니라 <pad>일 가능성이 높습니다.\n",
        "src_input = tensor[:, :-1]  \n",
        "# tensor에서 <start>를 잘라내서 타겟 문장을 생성합니다.\n",
        "tgt_input = tensor[:, 1:]    \n",
        "\n",
        "print(src_input[0])\n",
        "print(tgt_input[0])"
      ],
      "execution_count": 11,
      "outputs": [
        {
          "output_type": "stream",
          "text": [
            "[  2  32 173 149  36  37 319   7 117   3   0   0   0   0]\n",
            "[ 32 173 149  36  37 319   7 117   3   0   0   0   0   0]\n"
          ],
          "name": "stdout"
        }
      ]
    },
    {
      "cell_type": "code",
      "metadata": {
        "colab": {
          "base_uri": "https://localhost:8080/"
        },
        "id": "vB-S_4jyDtBl",
        "outputId": "81745bf7-7b8d-48dc-e679-30d57fcbab8a"
      },
      "source": [
        "BUFFER_SIZE = len(src_input)\n",
        "BATCH_SIZE = 256\n",
        "steps_per_epoch = len(src_input) // BATCH_SIZE\n",
        "\n",
        " # tokenizer가 구축한 단어사전 내 7000개와, 여기 포함되지 않은 0:<pad>를 포함하여 7001개\n",
        "VOCAB_SIZE = tokenizer.num_words + 1   \n",
        "\n",
        "# 준비한 데이터 소스로부터 데이터셋을 만듭니다\n",
        "# 데이터셋에 대해서는 아래 문서를 참고하세요\n",
        "# 자세히 알아둘수록 도움이 많이 되는 중요한 문서입니다\n",
        "# https://www.tensorflow.org/api_docs/python/tf/data/Dataset\n",
        "\n",
        "enc_train, enc_val, dec_train, dec_val = train_test_split(src_input, tgt_input,test_size=0.2, random_state=42)\n",
        "print(\"Source Train:\", enc_train.shape)\n",
        "print(\"Target Train:\", dec_train.shape)\n",
        "train_dataset = tf.data.Dataset.from_tensor_slices((enc_train, dec_train))\n",
        "train_dataset = train_dataset.shuffle(BUFFER_SIZE)\n",
        "train_dataset = train_dataset.batch(BATCH_SIZE, drop_remainder=True)\n",
        "\n",
        "\n",
        "# val_dataset = tf.data.Dataset.from_tensor_slices((enc_val, dec_val))\n",
        "# val_dataset = val_dataset.shuffle(BUFFER_SIZE)\n",
        "# val_dataset = val_dataset.batch(BATCH_SIZE, drop_remainder=True)\n",
        "\n"
      ],
      "execution_count": 12,
      "outputs": [
        {
          "output_type": "stream",
          "text": [
            "Source Train: (124939, 14)\n",
            "Target Train: (124939, 14)\n"
          ],
          "name": "stdout"
        }
      ]
    },
    {
      "cell_type": "markdown",
      "metadata": {
        "id": "CFFcs98p8bNx"
      },
      "source": [
        "## 2.학습시키기"
      ]
    },
    {
      "cell_type": "markdown",
      "metadata": {
        "id": "R4lhIAmB96DR"
      },
      "source": [
        "###2.2 모델 구성"
      ]
    },
    {
      "cell_type": "markdown",
      "metadata": {
        "id": "s5CrVJPw8z8j"
      },
      "source": [
        "val_loss < 2.2 라는 루브릭 기준을 위해,, 수많은 노력을 했습니다만,,, 젤 좋은건 그냥 기존의 모델에서 파라미터 조정,,,,"
      ]
    },
    {
      "cell_type": "code",
      "metadata": {
        "id": "17o5bvS1Kg11"
      },
      "source": [
        "class TextGenerator(tf.keras.Model):\n",
        "    def __init__(self, vocab_size, embedding_size, hidden_size):\n",
        "        super().__init__()\n",
        "        \n",
        "        self.embedding = tf.keras.layers.Embedding(vocab_size, embedding_size)\n",
        "        #self.bidirectional_1 = tf.keras.layers.Bidirectional(tf.keras.layers.LSTM(hidden_size,  return_sequences=True))\n",
        "        #self.bidirectional_2 = tf.keras.layers.Bidirectional(tf.keras.layers.LSTM(hidden_size//2,  return_sequences=True))\n",
        "        #self.linear_1 = tf.keras.layers.Dense(64, activation='relu')\n",
        "        \n",
        "        self.rnn_1 = tf.keras.layers.LSTM(hidden_size, return_sequences=True)\n",
        "        #self.dropout = tf.keras.layers.Dropout(0.3)\n",
        "        self.rnn_2 = tf.keras.layers.LSTM(hidden_size, return_sequences=True)\n",
        "        #self.rnn_3 = tf.keras.layers.LSTM(hidden_size, return_sequences=True)  #층을 추가해도 오히려 loss가 올라갔습니다 ㅜ\n",
        "        #self.dropout = tf.keras.layers.Dropout(0.5)\n",
        "        self.linear_2 = tf.keras.layers.Dense(vocab_size)\n",
        "        \n",
        "    def call(self, x):\n",
        "        out = self.embedding(x)\n",
        "        #out = self.bidirectional_1(out)\n",
        "        #out = self.bidirectional_2(out)\n",
        "        #out = self.linear_1(out)\n",
        "        out = self.rnn_1(out)\n",
        "        \n",
        "        #out = self.rnn_3(out)\n",
        "        #out = self.dropout(out)\n",
        "        out = self.rnn_2(out)\n",
        "        out = self.linear_2(out)\n",
        "        \n",
        "        #out = self.linear(out)\n",
        "        \n",
        "        return out\n",
        "    \n",
        "embedding_size = 2048\n",
        "hidden_size = 2048\n",
        "model = TextGenerator(tokenizer.num_words + 1, embedding_size , hidden_size)"
      ],
      "execution_count": 13,
      "outputs": []
    },
    {
      "cell_type": "markdown",
      "metadata": {
        "id": "s82sKsDe9CjG"
      },
      "source": [
        "`self.bidirecttional` 모델을 추가하면 `val_loss`가 1epoch 에 바로 1점대로 가버렸는데, overfiting 된 것인지 작사를 시키면 단어하나만 뱉었습니다.. 또 dropout도 사용해봤는데 시간만 오래걸리고 성능은 오히려 더 안좋았습니다. 그래서 원래 기존의 모델 lstm에서 파라미터 값들만 바꾸어 학습시켜주었습니다."
      ]
    },
    {
      "cell_type": "code",
      "metadata": {
        "colab": {
          "base_uri": "https://localhost:8080/"
        },
        "id": "VR0aeBVsy7Nt",
        "outputId": "8b4eee33-e4c1-4993-f068-d1cae20b051f"
      },
      "source": [
        "# 데이터셋에서 데이터 한 배치만 불러오는 방법입니다.\n",
        "for src_sample, tgt_sample in train_dataset.take(1): break\n",
        "\n",
        "# 한 배치만 불러온 데이터를 모델에 넣어봅니다\n",
        "model(src_sample)"
      ],
      "execution_count": 14,
      "outputs": [
        {
          "output_type": "execute_result",
          "data": {
            "text/plain": [
              "<tf.Tensor: shape=(256, 14, 7001), dtype=float32, numpy=\n",
              "array([[[-1.3354406e-03,  4.6626548e-04, -8.4370514e-04, ...,\n",
              "          2.7902934e-04,  5.2088246e-05,  3.5844478e-04],\n",
              "        [-1.4626409e-03,  7.7872974e-04, -1.0680066e-03, ...,\n",
              "          3.4858976e-04, -3.7736798e-04,  4.0633942e-04],\n",
              "        [-1.4769903e-03,  1.1813912e-04, -1.7113298e-03, ...,\n",
              "          1.1918668e-04, -5.9409480e-04, -3.9296446e-04],\n",
              "        ...,\n",
              "        [-2.5939785e-03,  1.4340694e-03,  5.5114408e-03, ...,\n",
              "         -1.4129772e-03, -1.1542095e-03, -3.3075789e-03],\n",
              "        [-2.5223803e-03,  2.6130304e-03,  6.3272896e-03, ...,\n",
              "         -2.1568174e-03, -1.6131357e-03, -3.3772443e-03],\n",
              "        [-2.4568266e-03,  3.7807995e-03,  7.0330449e-03, ...,\n",
              "         -2.8351520e-03, -2.1154424e-03, -3.5106316e-03]],\n",
              "\n",
              "       [[-1.3354406e-03,  4.6626548e-04, -8.4370514e-04, ...,\n",
              "          2.7902934e-04,  5.2088246e-05,  3.5844478e-04],\n",
              "        [-1.1529541e-03,  6.6739914e-04, -1.2093845e-03, ...,\n",
              "          6.1187096e-04,  5.2703609e-04,  6.8395020e-04],\n",
              "        [-5.9272064e-04,  3.5646834e-04, -1.9535916e-03, ...,\n",
              "          1.0049395e-03,  6.6685498e-05,  9.8770775e-04],\n",
              "        ...,\n",
              "        [ 3.7606440e-03, -5.3011454e-03,  3.9562960e-03, ...,\n",
              "          1.0333882e-03,  8.8179897e-04, -5.5189184e-06],\n",
              "        [ 2.9052068e-03, -5.3432290e-03,  3.6220576e-03, ...,\n",
              "          1.3742949e-03,  8.4915740e-04,  7.0368941e-04],\n",
              "        [ 1.6426693e-03, -4.6056737e-03,  3.0487769e-03, ...,\n",
              "          1.9228025e-03,  7.1160874e-04, -1.2634206e-04]],\n",
              "\n",
              "       [[-1.3354406e-03,  4.6626548e-04, -8.4370514e-04, ...,\n",
              "          2.7902934e-04,  5.2088246e-05,  3.5844478e-04],\n",
              "        [-3.0557662e-03,  4.0412697e-04, -1.1584199e-03, ...,\n",
              "          2.3332496e-04,  5.2302585e-05,  1.3450683e-04],\n",
              "        [-4.3966263e-03,  4.2069986e-04, -6.5256836e-04, ...,\n",
              "          5.4796477e-04,  4.9038397e-05, -3.4184432e-05],\n",
              "        ...,\n",
              "        [-1.1946568e-03,  1.4553119e-03,  1.2714403e-03, ...,\n",
              "         -3.2175251e-04, -1.9803676e-03, -2.2162466e-04],\n",
              "        [-1.2841303e-03,  1.9716478e-03,  2.0731897e-03, ...,\n",
              "         -9.5789670e-04, -2.3009656e-03, -6.0524582e-04],\n",
              "        [-1.4039543e-03,  2.6055865e-03,  2.9335441e-03, ...,\n",
              "         -1.6060102e-03, -2.6489068e-03, -1.0007068e-03]],\n",
              "\n",
              "       ...,\n",
              "\n",
              "       [[-1.3354406e-03,  4.6626548e-04, -8.4370514e-04, ...,\n",
              "          2.7902934e-04,  5.2088246e-05,  3.5844478e-04],\n",
              "        [-1.0553923e-03,  8.0945704e-04, -6.8698841e-04, ...,\n",
              "          1.2599153e-03, -1.4872776e-04,  3.9734013e-04],\n",
              "        [-7.0160854e-04,  6.0995889e-04, -9.7896380e-04, ...,\n",
              "          2.3463813e-03, -7.6492637e-04, -1.9440013e-04],\n",
              "        ...,\n",
              "        [-3.1501646e-03,  1.1500648e-03, -1.5019986e-04, ...,\n",
              "          2.5219340e-03, -9.8674349e-04,  3.0829069e-05],\n",
              "        [-3.3331057e-03,  1.5193535e-03, -4.0140733e-04, ...,\n",
              "          2.7605216e-03, -6.8726792e-04, -1.4514483e-03],\n",
              "        [-3.6185910e-03,  1.8741147e-03, -1.1908639e-04, ...,\n",
              "          2.2262891e-03, -7.1003765e-04, -2.1747281e-03]],\n",
              "\n",
              "       [[-1.3354406e-03,  4.6626548e-04, -8.4370514e-04, ...,\n",
              "          2.7902934e-04,  5.2088246e-05,  3.5844478e-04],\n",
              "        [-2.0450598e-03,  6.9471222e-04, -2.1598414e-03, ...,\n",
              "          2.4010018e-04, -4.9023732e-04,  5.8728072e-04],\n",
              "        [-1.9951805e-03,  1.3442771e-03, -2.6431815e-03, ...,\n",
              "          4.0027880e-04, -9.3323796e-04,  6.8458851e-04],\n",
              "        ...,\n",
              "        [-1.3075185e-03,  3.0488065e-03,  5.8469624e-04, ...,\n",
              "         -1.3686063e-03, -1.6152526e-03, -2.8781237e-03],\n",
              "        [-1.5891932e-03,  3.6484455e-03,  1.8030636e-03, ...,\n",
              "         -2.1364102e-03, -1.8565541e-03, -3.0777759e-03],\n",
              "        [-1.8004772e-03,  4.3197526e-03,  3.0116306e-03, ...,\n",
              "         -2.9106860e-03, -2.1430685e-03, -3.2215375e-03]],\n",
              "\n",
              "       [[-1.3354406e-03,  4.6626548e-04, -8.4370514e-04, ...,\n",
              "          2.7902934e-04,  5.2088246e-05,  3.5844478e-04],\n",
              "        [-2.5278861e-03, -1.1848864e-04, -7.9583359e-04, ...,\n",
              "         -1.2436930e-04, -2.2135512e-04,  2.9789432e-04],\n",
              "        [-3.0103382e-03, -1.1088925e-04, -9.8392868e-04, ...,\n",
              "         -7.6003530e-04, -3.2396792e-04,  1.1417454e-04],\n",
              "        ...,\n",
              "        [-4.6899128e-03,  1.2071694e-03, -7.7930681e-04, ...,\n",
              "         -1.6631117e-03, -1.1055132e-03, -2.9857862e-03],\n",
              "        [-4.7046179e-03,  2.2988142e-03,  6.9344009e-04, ...,\n",
              "         -2.7159057e-03, -1.6346220e-03, -3.3166273e-03],\n",
              "        [-4.5746919e-03,  3.4546650e-03,  2.1039913e-03, ...,\n",
              "         -3.6327976e-03, -2.1680933e-03, -3.5755669e-03]]], dtype=float32)>"
            ]
          },
          "metadata": {
            "tags": []
          },
          "execution_count": 14
        }
      ]
    },
    {
      "cell_type": "code",
      "metadata": {
        "colab": {
          "base_uri": "https://localhost:8080/"
        },
        "id": "OG21_TCubKZz",
        "outputId": "d09fb8ef-459b-47c3-dcfb-7245edcdd265"
      },
      "source": [
        "model.summary() "
      ],
      "execution_count": 15,
      "outputs": [
        {
          "output_type": "stream",
          "text": [
            "Model: \"text_generator\"\n",
            "_________________________________________________________________\n",
            "Layer (type)                 Output Shape              Param #   \n",
            "=================================================================\n",
            "embedding (Embedding)        multiple                  14338048  \n",
            "_________________________________________________________________\n",
            "lstm (LSTM)                  multiple                  33562624  \n",
            "_________________________________________________________________\n",
            "lstm_1 (LSTM)                multiple                  33562624  \n",
            "_________________________________________________________________\n",
            "dense (Dense)                multiple                  14345049  \n",
            "=================================================================\n",
            "Total params: 95,808,345\n",
            "Trainable params: 95,808,345\n",
            "Non-trainable params: 0\n",
            "_________________________________________________________________\n"
          ],
          "name": "stdout"
        }
      ]
    },
    {
      "cell_type": "markdown",
      "metadata": {
        "id": "5bEJl0iM-XKY"
      },
      "source": [
        "###2.2 모델 학습"
      ]
    },
    {
      "cell_type": "code",
      "metadata": {
        "colab": {
          "base_uri": "https://localhost:8080/"
        },
        "id": "1hR-yJgzLc0u",
        "outputId": "7c221024-f69d-4767-d8b3-48d60254a1bb"
      },
      "source": [
        "optimizer = tf.keras.optimizers.Adam()\n",
        "loss = tf.keras.losses.SparseCategoricalCrossentropy(\n",
        "    from_logits=True, reduction='none')\n",
        "\n",
        "model.compile(loss=loss, optimizer=optimizer,metrics=['accuracy'])\n",
        "history = model.fit(enc_train, dec_train, epochs=7, batch_size=256, validation_data=(enc_val, dec_val), verbose=1)\n"
      ],
      "execution_count": 16,
      "outputs": [
        {
          "output_type": "stream",
          "text": [
            "Epoch 1/7\n",
            "489/489 [==============================] - 518s 1s/step - loss: 3.0216 - accuracy: 0.5187 - val_loss: 2.7020 - val_accuracy: 0.5431\n",
            "Epoch 2/7\n",
            "489/489 [==============================] - 516s 1s/step - loss: 2.5271 - accuracy: 0.5581 - val_loss: 2.4653 - val_accuracy: 0.5677\n",
            "Epoch 3/7\n",
            "489/489 [==============================] - 509s 1s/step - loss: 2.2062 - accuracy: 0.5924 - val_loss: 2.2913 - val_accuracy: 0.5941\n",
            "Epoch 4/7\n",
            "489/489 [==============================] - 509s 1s/step - loss: 1.8854 - accuracy: 0.6361 - val_loss: 2.1641 - val_accuracy: 0.6183\n",
            "Epoch 5/7\n",
            "489/489 [==============================] - 509s 1s/step - loss: 1.5840 - accuracy: 0.6864 - val_loss: 2.0800 - val_accuracy: 0.6414\n",
            "Epoch 6/7\n",
            "489/489 [==============================] - 510s 1s/step - loss: 1.3348 - accuracy: 0.7343 - val_loss: 2.0424 - val_accuracy: 0.6582\n",
            "Epoch 7/7\n",
            "489/489 [==============================] - 510s 1s/step - loss: 1.1548 - accuracy: 0.7725 - val_loss: 2.0381 - val_accuracy: 0.6674\n"
          ],
          "name": "stdout"
        }
      ]
    },
    {
      "cell_type": "markdown",
      "metadata": {
        "id": "hrmuxBXc_QMz"
      },
      "source": [
        "data_set으로 묶어서 넣어주는 것보다 그냥 따로 넣어주는게 더 성능이 좋아서 따로 넣어 주었습니다."
      ]
    },
    {
      "cell_type": "markdown",
      "metadata": {
        "id": "Rv0rM_r0-zxc"
      },
      "source": [
        "##3.평가하기"
      ]
    },
    {
      "cell_type": "code",
      "metadata": {
        "id": "Wnmb-TX9L0_0"
      },
      "source": [
        "def generate_text(model, tokenizer, init_sentence=\"<start>\", max_len=20):\n",
        "    # 테스트를 위해서 입력받은 init_sentence도 텐서로 변환합니다\n",
        "    test_input = tokenizer.texts_to_sequences([init_sentence])\n",
        "    test_tensor = tf.convert_to_tensor(test_input, dtype=tf.int64)\n",
        "    end_token = tokenizer.word_index[\"<end>\"]\n",
        "\n",
        "    # 단어 하나씩 예측해 문장을 만듭니다\n",
        "    #    1. 입력받은 문장의 텐서를 입력합니다\n",
        "    #    2. 예측된 값 중 가장 높은 확률인 word index를 뽑아냅니다\n",
        "    #    3. 2에서 예측된 word index를 문장 뒤에 붙입니다\n",
        "    #    4. 모델이 <end>를 예측했거나, max_len에 도달했다면 문장 생성을 마칩니다\n",
        "    while True:\n",
        "        # 1\n",
        "        predict = model(test_tensor) \n",
        "        # 2\n",
        "        predict_word = tf.argmax(tf.nn.softmax(predict, axis=-1), axis=-1)[:, -1] \n",
        "        # 3 \n",
        "        test_tensor = tf.concat([test_tensor, tf.expand_dims(predict_word, axis=0)], axis=-1)\n",
        "        # 4\n",
        "        if predict_word.numpy()[0] == end_token: break\n",
        "        if test_tensor.shape[1] >= max_len: break\n",
        "\n",
        "    generated = \"\"\n",
        "    # tokenizer를 이용해 word index를 단어로 하나씩 변환합니다 \n",
        "    for word_index in test_tensor[0].numpy():\n",
        "        generated += tokenizer.index_word[word_index] + \" \"\n",
        "\n",
        "    return generated"
      ],
      "execution_count": 17,
      "outputs": []
    },
    {
      "cell_type": "code",
      "metadata": {
        "colab": {
          "base_uri": "https://localhost:8080/",
          "height": 35
        },
        "id": "9sClUfJTOsIj",
        "outputId": "166e1ec0-da73-40ab-c6c7-c0782479ca88"
      },
      "source": [
        "generate_text(model, tokenizer, init_sentence=\"<start> i\", max_len=20)"
      ],
      "execution_count": 18,
      "outputs": [
        {
          "output_type": "execute_result",
          "data": {
            "application/vnd.google.colaboratory.intrinsic+json": {
              "type": "string"
            },
            "text/plain": [
              "'<start> i m gonna be a little selfish boom , boom , baby <end> '"
            ]
          },
          "metadata": {
            "tags": []
          },
          "execution_count": 18
        }
      ]
    },
    {
      "cell_type": "code",
      "metadata": {
        "id": "qQC9xxUviVmn",
        "colab": {
          "base_uri": "https://localhost:8080/",
          "height": 35
        },
        "outputId": "9e3885df-8380-47bc-9c95-7e4023d8ff68"
      },
      "source": [
        "generate_text(model, tokenizer, init_sentence=\"<start> i wish\", max_len=20)"
      ],
      "execution_count": 19,
      "outputs": [
        {
          "output_type": "execute_result",
          "data": {
            "application/vnd.google.colaboratory.intrinsic+json": {
              "type": "string"
            },
            "text/plain": [
              "'<start> i wish there was a treaty <end> '"
            ]
          },
          "metadata": {
            "tags": []
          },
          "execution_count": 19
        }
      ]
    },
    {
      "cell_type": "code",
      "metadata": {
        "id": "1PJGKYq4beJw",
        "colab": {
          "base_uri": "https://localhost:8080/",
          "height": 35
        },
        "outputId": "98292a65-c7e2-457c-90da-f7f63ac5f8ba"
      },
      "source": [
        "generate_text(model, tokenizer, init_sentence=\"<start> who\", max_len=20)"
      ],
      "execution_count": 20,
      "outputs": [
        {
          "output_type": "execute_result",
          "data": {
            "application/vnd.google.colaboratory.intrinsic+json": {
              "type": "string"
            },
            "text/plain": [
              "'<start> who s that chick ? who s that chick ? <end> '"
            ]
          },
          "metadata": {
            "tags": []
          },
          "execution_count": 20
        }
      ]
    },
    {
      "cell_type": "code",
      "metadata": {
        "colab": {
          "base_uri": "https://localhost:8080/",
          "height": 35
        },
        "id": "F1N8TU9hbSzJ",
        "outputId": "3f0ca409-c03d-4637-8add-f932995b912a"
      },
      "source": [
        "generate_text(model, tokenizer, init_sentence=\"<start> when\", max_len=20)"
      ],
      "execution_count": 22,
      "outputs": [
        {
          "output_type": "execute_result",
          "data": {
            "application/vnd.google.colaboratory.intrinsic+json": {
              "type": "string"
            },
            "text/plain": [
              "'<start> when i m not around <end> '"
            ]
          },
          "metadata": {
            "tags": []
          },
          "execution_count": 22
        }
      ]
    },
    {
      "cell_type": "code",
      "metadata": {
        "colab": {
          "base_uri": "https://localhost:8080/",
          "height": 279
        },
        "id": "ZyQ3ZA9xpjOn",
        "outputId": "40edd5f0-2528-49ae-9755-5480f7d34e8a"
      },
      "source": [
        "def plot_graphs(history, metric):\n",
        "  plt.plot(history.history[metric])\n",
        "  plt.plot(history.history['val_'+metric], '')\n",
        "  plt.xlabel(\"Epochs\")\n",
        "  plt.ylabel(metric)\n",
        "  plt.legend([metric, 'val_'+metric])\n",
        "  plt.show()\n",
        "plot_graphs(history, 'loss')"
      ],
      "execution_count": null,
      "outputs": [
        {
          "output_type": "display_data",
          "data": {
            "image/png": "[encoded data removed]",
            "text/plain": [
              "<Figure size 432x288 with 1 Axes>"
            ]
          },
          "metadata": {
            "tags": [],
            "needs_background": "light"
          }
        }
      ]
    },
    {
      "cell_type": "markdown",
      "metadata": {
        "id": "Lgg2ucIu_b0W"
      },
      "source": [
        "--- "
      ]
    },
    {
      "cell_type": "markdown",
      "metadata": {
        "id": "cmzqucWh-75X"
      },
      "source": [
        "## 🤔회고록🤔"
      ]
    },
    {
      "cell_type": "markdown",
      "metadata": {
        "id": "0iT9CipEqE_z"
      },
      "source": [
        "- 루브릭... 2.2 누가 만든걸까요.. 2.2를위해서 힘을 너무 많이 뺐더닌 회고록에 쓸 힘이 남아있지않네요,,, 노드 제출후에 좀더 손을 봐야할 것 같습니다.\n",
        "- val_loss가 2.7, 2.6인 모델이 2.2인모델 보다 훨씬 문장도 잘 만듭니다. val_loss가 낮다고 절대 좋은 모델이 아니라고 생각했으나 선웅님께서 일반적으로는 참인 명제이며 문제 정의를 어떻게 하냐,,가 중요하다고 하셨습니다. \n",
        "- 아직 모델에서 파라미터(ex. embedding size)들이 어떤역할을 하는지 몰라서 너무 랜덤적으로 값을 넣어서 해봤습니다. \n",
        "- 랜덤적으로 넣고 돌리는데 한번 학습시키는데 한시간은 넘게 걸리니,,, 실험하는 데에만 너무 많은 시간을 써버렸습니다.\n",
        "- 딥러닝쪽은 항상 CV쪽만 했었는데 NLP를 해보니까 너무 어렵고 제길이 아니라는 것을 깨달았습니다. \n"
      ]
    },
    {
      "cell_type": "markdown",
      "metadata": {
        "id": "0Mu2A4HHBkOA"
      },
      "source": [
        "제가 시도한,, 많은,, 모델들중,, 모델의 summary,,, #은 valloss 값 입니다. "
      ]
    },
    {
      "cell_type": "code",
      "metadata": {
        "colab": {
          "base_uri": "https://localhost:8080/"
        },
        "id": "-s_2aN4LUmsy",
        "outputId": "3215cd5a-444f-4569-93b0-c67b4bdb7af5"
      },
      "source": [
        "model.summary() #2.4160"
      ],
      "execution_count": null,
      "outputs": [
        {
          "output_type": "stream",
          "text": [
            "Model: \"text_generator_1\"\n",
            "_________________________________________________________________\n",
            "Layer (type)                 Output Shape              Param #   \n",
            "=================================================================\n",
            "embedding_1 (Embedding)      multiple                  10240512  \n",
            "_________________________________________________________________\n",
            "lstm_1 (LSTM)                multiple                  6295552   \n",
            "_________________________________________________________________\n",
            "lstm_2 (LSTM)                multiple                  8392704   \n",
            "_________________________________________________________________\n",
            "dense_2 (Dense)              multiple                  20501025  \n",
            "=================================================================\n",
            "Total params: 45,429,793\n",
            "Trainable params: 45,429,793\n",
            "Non-trainable params: 0\n",
            "_________________________________________________________________\n"
          ],
          "name": "stdout"
        }
      ]
    },
    {
      "cell_type": "code",
      "metadata": {
        "colab": {
          "base_uri": "https://localhost:8080/"
        },
        "id": "PIxKvNUR5I4x",
        "outputId": "ce4b55e0-f0a5-4010-991a-539bb7c1f51e"
      },
      "source": [
        "model.summary() #2.5061"
      ],
      "execution_count": null,
      "outputs": [
        {
          "output_type": "stream",
          "text": [
            "Model: \"text_generator_11\"\n",
            "_________________________________________________________________\n",
            "Layer (type)                 Output Shape              Param #   \n",
            "=================================================================\n",
            "embedding_11 (Embedding)     multiple                  10240512  \n",
            "_________________________________________________________________\n",
            "lstm_18 (LSTM)               multiple                  6295552   \n",
            "_________________________________________________________________\n",
            "dropout_15 (Dropout)         multiple                  0         \n",
            "_________________________________________________________________\n",
            "dense_16 (Dense)             multiple                  20501025  \n",
            "=================================================================\n",
            "Total params: 37,037,089\n",
            "Trainable params: 37,037,089\n",
            "Non-trainable params: 0\n",
            "_________________________________________________________________\n"
          ],
          "name": "stdout"
        }
      ]
    },
    {
      "cell_type": "code",
      "metadata": {
        "colab": {
          "base_uri": "https://localhost:8080/"
        },
        "id": "Htbd4lzY3fgr",
        "outputId": "377e7c05-c8f9-4b5f-98f9-7275609d3c72"
      },
      "source": [
        "model.summary()     #2.4497"
      ],
      "execution_count": null,
      "outputs": [
        {
          "output_type": "stream",
          "text": [
            "Model: \"text_generator_10\"\n",
            "_________________________________________________________________\n",
            "Layer (type)                 Output Shape              Param #   \n",
            "=================================================================\n",
            "embedding_10 (Embedding)     multiple                  10240512  \n",
            "_________________________________________________________________\n",
            "lstm_17 (LSTM)               multiple                  6295552   \n",
            "_________________________________________________________________\n",
            "dense_15 (Dense)             multiple                  20501025  \n",
            "=================================================================\n",
            "Total params: 37,037,089\n",
            "Trainable params: 37,037,089\n",
            "Non-trainable params: 0\n",
            "_________________________________________________________________\n"
          ],
          "name": "stdout"
        }
      ]
    },
    {
      "cell_type": "code",
      "metadata": {
        "colab": {
          "base_uri": "https://localhost:8080/"
        },
        "id": "bmzAVAVcLL10",
        "outputId": "a4a23edb-db3c-4117-ab28-0d0c91e78499"
      },
      "source": [
        "model.summary()    #2.6248 "
      ],
      "execution_count": null,
      "outputs": [
        {
          "output_type": "stream",
          "text": [
            "Model: \"text_generator_1\"\n",
            "_________________________________________________________________\n",
            "Layer (type)                 Output Shape              Param #   \n",
            "=================================================================\n",
            "embedding_1 (Embedding)      multiple                  10240512  \n",
            "_________________________________________________________________\n",
            "lstm_2 (LSTM)                multiple                  6295552   \n",
            "_________________________________________________________________\n",
            "dropout_1 (Dropout)          multiple                  0         \n",
            "_________________________________________________________________\n",
            "lstm_3 (LSTM)                multiple                  8392704   \n",
            "_________________________________________________________________\n",
            "dropout_2 (Dropout)          multiple                  0         \n",
            "_________________________________________________________________\n",
            "dense_1 (Dense)              multiple                  20501025  \n",
            "=================================================================\n",
            "Total params: 45,429,793\n",
            "Trainable params: 45,429,793\n",
            "Non-trainable params: 0\n",
            "_________________________________________________________________\n"
          ],
          "name": "stdout"
        }
      ]
    }
  ]
}