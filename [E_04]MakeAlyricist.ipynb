{
  "nbformat": 4,
  "nbformat_minor": 0,
  "metadata": {
    "colab": {
      "name": "[E-04]MakeAlyricist.ipynb",
      "provenance": [],
      "collapsed_sections": [],
      "authorship_tag": "ABX9TyN7AGR575uNa+5Fliwx43eV",
      "include_colab_link": true
    },
    "kernelspec": {
      "name": "python3",
      "display_name": "Python 3"
    },
    "language_info": {
      "name": "python"
    },
    "accelerator": "GPU"
  },
  "cells": [
    {
      "cell_type": "markdown",
      "metadata": {
        "id": "view-in-github",
        "colab_type": "text"
      },
      "source": [
        "<a href=\"https://colab.research.google.com/github/mkkim007/AIFFEL/blob/main/%5BE_04%5DMakeAlyricist.ipynb\" target=\"_parent\"><img src=\"https://colab.research.google.com/assets/colab-badge.svg\" alt=\"Open In Colab\"/></a>"
      ]
    },
    {
      "cell_type": "markdown",
      "metadata": {
        "id": "-0rEZATqhTVM"
      },
      "source": [
        "# [E-04] 작사가 만들기 "
      ]
    },
    {
      "cell_type": "code",
      "metadata": {
        "id": "uQKnqLK2pJaF"
      },
      "source": [
        "import os, re \n",
        "import glob\n",
        "import numpy as np\n",
        "import tensorflow as tf\n",
        "import matplotlib.pyplot as plt\n",
        "from sklearn.model_selection import train_test_split"
      ],
      "execution_count": 1,
      "outputs": []
    },
    {
      "cell_type": "markdown",
      "metadata": {
        "id": "iBUuDKxyhQqb"
      },
      "source": [
        "구글 드라이브 연동"
      ]
    },
    {
      "cell_type": "code",
      "metadata": {
        "colab": {
          "base_uri": "https://localhost:8080/"
        },
        "id": "vhpuZ0Kugvmv",
        "outputId": "018c2f5d-ee8a-48a7-a974-d03276f9e511"
      },
      "source": [
        "from google.colab import drive\n",
        "drive.mount('/content/gdrive')"
      ],
      "execution_count": 2,
      "outputs": [
        {
          "output_type": "stream",
          "text": [
            "Mounted at /content/gdrive\n"
          ],
          "name": "stdout"
        }
      ]
    },
    {
      "cell_type": "code",
      "metadata": {
        "id": "i2OrIr7kkAry"
      },
      "source": [
        "!mkdir -p lyricist/data/lyrics\n",
        "!cp /content/gdrive/MyDrive/Data/lyrics.zip /content/lyricist/data/\n",
        "!unzip -qq '/content/lyricist/data/lyrics.zip' -d /content/lyricist/data/lyrics"
      ],
      "execution_count": 3,
      "outputs": []
    },
    {
      "cell_type": "code",
      "metadata": {
        "colab": {
          "base_uri": "https://localhost:8080/"
        },
        "id": "ZpviW7YGlg1B",
        "outputId": "bb6ecbfc-9ebc-41c9-e578-b359b0d26f74"
      },
      "source": [
        "\n",
        "txt_file_path = '/content/lyricist/data/lyrics/*'\n",
        "\n",
        "txt_list = glob.glob(txt_file_path)\n",
        "\n",
        "raw_corpus = []\n",
        "\n",
        "# 여러개의 txt 파일을 모두 읽어서 raw_corpus 에 담습니다.\n",
        "for txt_file in txt_list:\n",
        "    with open(txt_file, \"r\") as f:\n",
        "        raw = f.read().splitlines()\n",
        "        raw_corpus.extend(raw)\n",
        "\n",
        "print(\"데이터 크기:\", len(raw_corpus))\n",
        "print(\"Examples:\\n\", raw_corpus[:3])"
      ],
      "execution_count": 4,
      "outputs": [
        {
          "output_type": "stream",
          "text": [
            "데이터 크기: 187088\n",
            "Examples:\n",
            " ['Looking for some education', 'Made my way into the night', 'All that bullshit conversation']\n"
          ],
          "name": "stdout"
        }
      ]
    },
    {
      "cell_type": "code",
      "metadata": {
        "id": "Qk3afm0Dn68c",
        "colab": {
          "base_uri": "https://localhost:8080/"
        },
        "outputId": "daed9c6f-8560-4b06-c320-fdaeba2fb9d1"
      },
      "source": [
        "def preprocess_sentence(sentence):\n",
        "    #입력된 문장을\n",
        "    # 1. [Chorus] 같은 문장을 지웁니다\n",
        "    # 2. 소문자로 바꾸고, 양쪽 공백을 지웁니다\n",
        "    # 3. 특수문자 양쪽에 공백을 넣고\n",
        "    # 4. 여러개의 공백은 하나의 공백으로 바꿉니다\n",
        "    # 5. a-zA-Z?.!,¿가 아닌 모든 문자를 하나의 공백으로 바꿉니다\n",
        "    # 6. 다시 양쪽 공백을 지웁니다\n",
        "    # 7. 문장 시작에는 <start>, 끝에는 <end>를 추가합니다\n",
        "    \n",
        "    sentence = re.sub(r'\\[[^)]*\\]',r'',sentence ) # 1\n",
        "    sentence = sentence.lower().strip() # 2\n",
        "    sentence = re.sub(r\"([?.!,¿])\", r\" \\1 \", sentence) # 3\n",
        "    sentence = re.sub(r'[\" \"]+', \" \", sentence) # 4\n",
        "    sentence = re.sub(r\"[^a-zA-Z?.!,¿]+\", \" \", sentence) # 5\n",
        "    sentence = sentence.strip() # 6\n",
        "    if sentence : \n",
        "      sentence = '<start> ' + sentence + ' <end>' # 7\n",
        "      return sentence\n",
        "\n",
        "\n",
        "print(preprocess_sentence(\"[Chorus]HiHi my name is mk~!~!\"))"
      ],
      "execution_count": 5,
      "outputs": [
        {
          "output_type": "stream",
          "text": [
            "<start> hihi my name is mk ! ! <end>\n"
          ],
          "name": "stdout"
        }
      ]
    },
    {
      "cell_type": "code",
      "metadata": {
        "colab": {
          "base_uri": "https://localhost:8080/"
        },
        "id": "R_xibUYfoi31",
        "outputId": "cc917b03-2a25-4821-8622-fb5b453b9f08"
      },
      "source": [
        "corpus = []\n",
        "for sentence in raw_corpus:\n",
        "    \n",
        "    if len(sentence) == 0: continue\n",
        "    \n",
        "    # 정제를 해주세요 \n",
        "    preprocessed_sentence = preprocess_sentence(sentence)\n",
        "\n",
        "    # 정제를 하고 났을때 그냥 빈 (<start><end>) sentence 들은 빼주세요! \n",
        "    if not preprocessed_sentence : continue\n",
        "    \n",
        "    #preprocessing 하고 나서 15개 이상인 것들만 담아 줬어요\n",
        "    if len(preprocessed_sentence.split(' ')) > 15 : continue\n",
        "    corpus.append(preprocessed_sentence)\n",
        "        \n",
        "# 정제된 결과를 10개만 확인해보죠\n",
        "corpus[:10]"
      ],
      "execution_count": 6,
      "outputs": [
        {
          "output_type": "execute_result",
          "data": {
            "text/plain": [
              "['<start> looking for some education <end>',\n",
              " '<start> made my way into the night <end>',\n",
              " '<start> all that bullshit conversation <end>',\n",
              " '<start> i don t even wanna waste your time <end>',\n",
              " '<start> let s just say that maybe <end>',\n",
              " '<start> you could help me ease my mind <end>',\n",
              " '<start> if that s love in your eyes <end>',\n",
              " '<start> it s more than enough <end>',\n",
              " '<start> had some bad love <end>',\n",
              " '<start> ooh , ooh looking for some affirmation <end>']"
            ]
          },
          "metadata": {
            "tags": []
          },
          "execution_count": 6
        }
      ]
    },
    {
      "cell_type": "code",
      "metadata": {
        "colab": {
          "base_uri": "https://localhost:8080/"
        },
        "id": "qA0bchKMqdG9",
        "outputId": "21dc2931-9092-4c1a-a3cd-249a0e66fb0d"
      },
      "source": [
        "def tokenize(corpus):\n",
        "    tokenizer = tf.keras.preprocessing.text.Tokenizer(\n",
        "        num_words= 20000,                  #단어장 크기는 12,000 이상!\n",
        "        filters=' ',\n",
        "        oov_token=\"<unk>\"\n",
        "    )\n",
        "    # 토큰화 했을 때 토큰의 개수가 15개를 넘어가는 문장을 학습 데이터에서 제외하기\n",
        "    # corpus를 이용해 tokenizer 내부의 단어장을 완성합니다\n",
        "    tokenizer.fit_on_texts(corpus)\n",
        "    # 준비한 tokenizer를 이용해 corpus를 Tensor로 변환합니다\n",
        "    tensor = tokenizer.texts_to_sequences(corpus)  \n",
        "    print(tensor) \n",
        "    # 입력 데이터의 시퀀스 길이를 일정하게 맞춰줍니다\n",
        "    # 만약 시퀀스가 짧다면 문장 뒤에 패딩을 붙여 길이를 맞춰줍니다.\n",
        "    # 문장 앞에 패딩을 붙여 길이를 맞추고 싶다면 padding='pre'를 사용합니다\n",
        "    tensor = tf.keras.preprocessing.sequence.pad_sequences(tensor, padding='post', maxlen=15)  \n",
        "\n",
        "    print(tensor,tokenizer)\n",
        "    return tensor, tokenizer\n",
        "\n",
        "tensor, tokenizer = tokenize(corpus)"
      ],
      "execution_count": 7,
      "outputs": [
        {
          "output_type": "stream",
          "text": [
            "IOPub data rate exceeded.\n",
            "The notebook server will temporarily stop sending output\n",
            "to the client in order to avoid crashing it.\n",
            "To change this limit, set the config variable\n",
            "`--NotebookApp.iopub_data_rate_limit`.\n",
            "\n",
            "Current values:\n",
            "NotebookApp.iopub_data_rate_limit=1000000.0 (bytes/sec)\n",
            "NotebookApp.rate_limit_window=3.0 (secs)\n",
            "\n"
          ],
          "name": "stderr"
        },
        {
          "output_type": "stream",
          "text": [
            "[[  2 290  28 ...   0   0   0]\n",
            " [  2 219  13 ...   0   0   0]\n",
            " [  2  25  15 ...   0   0   0]\n",
            " ...\n",
            " [  2   6 458 ...  26 205   3]\n",
            " [  2   8  41 ...   0   0   0]\n",
            " [  2   4  92 ...   0   0   0]] <keras_preprocessing.text.Tokenizer object at 0x7f9a28667990>\n"
          ],
          "name": "stdout"
        }
      ]
    },
    {
      "cell_type": "code",
      "metadata": {
        "colab": {
          "base_uri": "https://localhost:8080/"
        },
        "id": "yr7iac7aynmL",
        "outputId": "d9b69420-9f6c-43bd-8afa-94726503e40e"
      },
      "source": [
        "tensor[0]\n",
        "tensor.shape"
      ],
      "execution_count": 8,
      "outputs": [
        {
          "output_type": "execute_result",
          "data": {
            "text/plain": [
              "(155717, 15)"
            ]
          },
          "metadata": {
            "tags": []
          },
          "execution_count": 8
        }
      ]
    },
    {
      "cell_type": "code",
      "metadata": {
        "colab": {
          "base_uri": "https://localhost:8080/"
        },
        "id": "2AI0L3Udu1VA",
        "outputId": "c0b44c89-ac2f-46d0-b1e6-8a020b925a0f"
      },
      "source": [
        "for idx in tokenizer.index_word:\n",
        "    print(idx, \":\", tokenizer.index_word[idx])\n",
        "\n",
        "    if idx >= 10: break"
      ],
      "execution_count": 9,
      "outputs": [
        {
          "output_type": "stream",
          "text": [
            "1 : <unk>\n",
            "2 : <start>\n",
            "3 : <end>\n",
            "4 : i\n",
            "5 : ,\n",
            "6 : the\n",
            "7 : you\n",
            "8 : and\n",
            "9 : a\n",
            "10 : to\n"
          ],
          "name": "stdout"
        }
      ]
    },
    {
      "cell_type": "code",
      "metadata": {
        "colab": {
          "base_uri": "https://localhost:8080/"
        },
        "id": "Szts7Xa7CHxS",
        "outputId": "da0f2f0a-6320-4ca8-9a96-a83fcee7068f"
      },
      "source": [
        "# tensor에서 마지막 토큰을 잘라내서 소스 문장을 생성합니다\n",
        "# 마지막 토큰은 <end>가 아니라 <pad>일 가능성이 높습니다.\n",
        "src_input = tensor[:, :-1]  \n",
        "# tensor에서 <start>를 잘라내서 타겟 문장을 생성합니다.\n",
        "tgt_input = tensor[:, 1:]    \n",
        "\n",
        "print(src_input[0])\n",
        "print(tgt_input[0])"
      ],
      "execution_count": 10,
      "outputs": [
        {
          "output_type": "stream",
          "text": [
            "[   2  290   28   94 4472    3    0    0    0    0    0    0    0    0]\n",
            "[ 290   28   94 4472    3    0    0    0    0    0    0    0    0    0]\n"
          ],
          "name": "stdout"
        }
      ]
    },
    {
      "cell_type": "code",
      "metadata": {
        "colab": {
          "base_uri": "https://localhost:8080/"
        },
        "id": "vB-S_4jyDtBl",
        "outputId": "0cb0a45d-20b3-4afc-a9df-dbede88ed387"
      },
      "source": [
        "BUFFER_SIZE = len(src_input)\n",
        "BATCH_SIZE = 256\n",
        "steps_per_epoch = len(src_input) // BATCH_SIZE\n",
        "\n",
        " # tokenizer가 구축한 단어사전 내 7000개와, 여기 포함되지 않은 0:<pad>를 포함하여 7001개\n",
        "VOCAB_SIZE = tokenizer.num_words + 1   \n",
        "\n",
        "# 준비한 데이터 소스로부터 데이터셋을 만듭니다\n",
        "# 데이터셋에 대해서는 아래 문서를 참고하세요\n",
        "# 자세히 알아둘수록 도움이 많이 되는 중요한 문서입니다\n",
        "# https://www.tensorflow.org/api_docs/python/tf/data/Dataset\n",
        "\n",
        "enc_train, enc_val, dec_train, dec_val = train_test_split(src_input, tgt_input,test_size=0.2, random_state=42)\n",
        "print(\"Source Train:\", enc_train.shape)\n",
        "print(\"Target Train:\", dec_train.shape)\n",
        "train_dataset = tf.data.Dataset.from_tensor_slices((enc_train, dec_train))\n",
        "train_dataset = train_dataset.shuffle(BUFFER_SIZE)\n",
        "train_dataset = train_dataset.batch(BATCH_SIZE, drop_remainder=True)\n",
        "\n",
        "\n",
        "val_dataset = tf.data.Dataset.from_tensor_slices((enc_val, dec_val))\n",
        "val_dataset = val_dataset.shuffle(BUFFER_SIZE)\n",
        "val_dataset = val_dataset.batch(BATCH_SIZE, drop_remainder=True)\n",
        "\n",
        "print(train_dataset)\n",
        "print(val_dataset)"
      ],
      "execution_count": 11,
      "outputs": [
        {
          "output_type": "stream",
          "text": [
            "Source Train: (124573, 14)\n",
            "Target Train: (124573, 14)\n",
            "<BatchDataset shapes: ((256, 14), (256, 14)), types: (tf.int32, tf.int32)>\n",
            "<BatchDataset shapes: ((256, 14), (256, 14)), types: (tf.int32, tf.int32)>\n"
          ],
          "name": "stdout"
        }
      ]
    },
    {
      "cell_type": "code",
      "metadata": {
        "id": "17o5bvS1Kg11"
      },
      "source": [
        "class TextGenerator(tf.keras.Model):\n",
        "    def __init__(self, vocab_size, embedding_size, hidden_size):\n",
        "        super().__init__()\n",
        "        \n",
        "        self.embedding = tf.keras.layers.Embedding(vocab_size, embedding_size)\n",
        "        #self.bidirectional_1 = tf.keras.layers.Bidirectional(tf.keras.layers.LSTM(hidden_size,  return_sequences=True))\n",
        "        #self.bidirectional_2 = tf.keras.layers.Bidirectional(tf.keras.layers.LSTM(hidden_size//2,  return_sequences=True))\n",
        "        #self.linear_1 = tf.keras.layers.Dense(64, activation='relu')\n",
        "        self.rnn_1 = tf.keras.layers.LSTM(hidden_size, return_sequences=True, stateful=True,\n",
        "                        recurrent_initializer='glorot_uniform')\n",
        "        #self.dropout_1 = tf.keras.layers.Dropout(0.5)\n",
        "        self.rnn_2 = tf.keras.layers.LSTM(hidden_size, return_sequences=True)\n",
        "        #self.dropout_2 = tf.keras.layers.Dropout(0.5)\n",
        "        self.linear_2 = tf.keras.layers.Dense(vocab_size)\n",
        "        \n",
        "    def call(self, x):\n",
        "        out = self.embedding(x)\n",
        "        #out = self.bidirectional_1(out)\n",
        "        #out = self.bidirectional_2(out)\n",
        "        #out = self.linear_1(out)\n",
        "        out = self.rnn_1(out)\n",
        "        #out = self.dropout_1(out)\n",
        "        out = self.rnn_2(out)\n",
        "        #out = self.dropout_2(out)\n",
        "        out = self.linear_2(out)\n",
        "\n",
        "        \n",
        "        return out\n",
        "    \n",
        "embedding_size = 512 #256\n",
        "hidden_size = 1024 #1024\n",
        "model = TextGenerator(tokenizer.num_words + 1, embedding_size , hidden_size)\n",
        "\n",
        "\n",
        "# "
      ],
      "execution_count": 22,
      "outputs": []
    },
    {
      "cell_type": "code",
      "metadata": {
        "colab": {
          "base_uri": "https://localhost:8080/"
        },
        "id": "VR0aeBVsy7Nt",
        "outputId": "d4761030-63a1-4d46-a2e1-645410f8a606"
      },
      "source": [
        "# 데이터셋에서 데이터 한 배치만 불러오는 방법입니다.\n",
        "# 지금은 동작 원리에 너무 빠져들지 마세요~\n",
        "for src_sample, tgt_sample in train_dataset.take(1): break\n",
        "\n",
        "# 한 배치만 불러온 데이터를 모델에 넣어봅니다\n",
        "model(src_sample)"
      ],
      "execution_count": 23,
      "outputs": [
        {
          "output_type": "execute_result",
          "data": {
            "text/plain": [
              "<tf.Tensor: shape=(256, 14, 20001), dtype=float32, numpy=\n",
              "array([[[-5.97928411e-05,  4.68720275e-04,  1.83206605e-04, ...,\n",
              "          7.63900971e-05,  1.61503442e-04,  1.70653308e-04],\n",
              "        [-4.44215257e-04,  9.06070170e-04,  2.61260284e-04, ...,\n",
              "          2.02253359e-04,  6.55150448e-04, -5.52685560e-05],\n",
              "        [-3.54783202e-04,  1.25219533e-03,  7.55967540e-06, ...,\n",
              "          4.50817053e-04,  8.54505168e-04, -2.16904111e-04],\n",
              "        ...,\n",
              "        [-6.71780494e-04, -1.19780586e-03, -1.42205763e-03, ...,\n",
              "          3.71088390e-04,  2.26000207e-04,  2.85110636e-05],\n",
              "        [-8.94619210e-04, -1.80343108e-03, -1.07517536e-03, ...,\n",
              "          3.57487821e-04,  2.79753236e-04,  1.97658635e-04],\n",
              "        [-1.12312334e-03, -2.36129877e-03, -7.69935374e-04, ...,\n",
              "          2.66625662e-04,  3.31013143e-04,  3.63632193e-04]],\n",
              "\n",
              "       [[-5.97928411e-05,  4.68720275e-04,  1.83206605e-04, ...,\n",
              "          7.63900971e-05,  1.61503442e-04,  1.70653308e-04],\n",
              "        [-1.46228384e-04,  1.03930943e-03,  4.85611585e-04, ...,\n",
              "         -8.63828463e-05,  6.98060961e-04,  6.76536729e-05],\n",
              "        [ 4.91098799e-05,  1.34318660e-03,  7.43790064e-04, ...,\n",
              "         -4.20417869e-04,  1.00053521e-03, -1.13416645e-04],\n",
              "        ...,\n",
              "        [-2.11044986e-04,  7.76965695e-04,  2.36900337e-03, ...,\n",
              "         -2.98117724e-04,  3.54996417e-04,  7.07747240e-04],\n",
              "        [-2.91326374e-04,  6.90391113e-04,  2.16596620e-03, ...,\n",
              "         -2.39587520e-04,  3.00091226e-04,  7.79143418e-04],\n",
              "        [-4.38418036e-04,  1.38381743e-04,  2.04443280e-03, ...,\n",
              "         -2.79125437e-04,  1.66721933e-04,  8.98985076e-04]],\n",
              "\n",
              "       [[-5.97928411e-05,  4.68720275e-04,  1.83206605e-04, ...,\n",
              "          7.63900971e-05,  1.61503442e-04,  1.70653308e-04],\n",
              "        [-9.71600821e-05,  6.83289836e-04,  5.08954035e-05, ...,\n",
              "         -1.92746375e-05,  1.03553160e-04,  2.22883595e-04],\n",
              "        [-1.97456073e-04,  8.91288277e-04, -5.02600560e-05, ...,\n",
              "         -9.91096313e-05,  6.59178040e-05,  2.74755585e-04],\n",
              "        ...,\n",
              "        [ 1.97859103e-04,  1.04119557e-04, -1.25278730e-03, ...,\n",
              "          1.04570924e-03,  1.42567896e-03, -7.84554984e-04],\n",
              "        [ 9.10084127e-05, -2.53537000e-05, -1.00986520e-03, ...,\n",
              "          1.24342053e-03,  1.46952632e-03, -7.30401312e-04],\n",
              "        [-1.43937039e-04, -3.48341215e-04, -6.08834205e-04, ...,\n",
              "          1.43852143e-03,  1.26415223e-03, -9.53182054e-04]],\n",
              "\n",
              "       ...,\n",
              "\n",
              "       [[-5.97928411e-05,  4.68720275e-04,  1.83206605e-04, ...,\n",
              "          7.63900971e-05,  1.61503442e-04,  1.70653308e-04],\n",
              "        [ 5.09582060e-05,  5.82896406e-04,  2.30177175e-04, ...,\n",
              "         -1.18747179e-04,  3.59516038e-04,  8.76445192e-05],\n",
              "        [ 5.02509531e-04,  7.04883656e-04,  1.30240020e-04, ...,\n",
              "         -2.65392562e-04,  3.84977146e-04,  6.99685552e-05],\n",
              "        ...,\n",
              "        [-1.77344598e-03, -3.76145286e-03,  5.76427410e-05, ...,\n",
              "         -4.26297891e-04,  4.78739676e-04,  3.63122934e-04],\n",
              "        [-2.05214228e-03, -4.05035773e-03, -2.77542385e-05, ...,\n",
              "         -7.07132334e-04,  4.13937727e-04,  4.26736020e-04],\n",
              "        [-2.30697240e-03, -4.24973667e-03, -1.41949262e-04, ...,\n",
              "         -1.00591488e-03,  3.45146109e-04,  4.63874050e-04]],\n",
              "\n",
              "       [[-5.97928411e-05,  4.68720275e-04,  1.83206605e-04, ...,\n",
              "          7.63900971e-05,  1.61503442e-04,  1.70653308e-04],\n",
              "        [-8.52973826e-05,  7.07819883e-04,  1.53476940e-04, ...,\n",
              "          2.59674009e-04,  3.28270980e-04,  1.92811262e-04],\n",
              "        [-8.01172791e-05,  1.16330187e-03, -9.41726321e-05, ...,\n",
              "          3.55458498e-04,  3.27158370e-04,  2.16091532e-04],\n",
              "        ...,\n",
              "        [-1.83010846e-03, -3.00647994e-03,  5.33754705e-04, ...,\n",
              "         -4.30550223e-04,  3.88664957e-05,  1.07804127e-03],\n",
              "        [-2.09831120e-03, -3.38262995e-03,  4.72705608e-04, ...,\n",
              "         -6.89078995e-04, -3.57105018e-05,  1.10215670e-03],\n",
              "        [-2.34614220e-03, -3.66904307e-03,  3.70822236e-04, ...,\n",
              "         -9.68836364e-04, -9.21832834e-05,  1.09728123e-03]],\n",
              "\n",
              "       [[-5.97928411e-05,  4.68720275e-04,  1.83206605e-04, ...,\n",
              "          7.63900971e-05,  1.61503442e-04,  1.70653308e-04],\n",
              "        [ 1.76998903e-04,  7.77683512e-04,  3.95653420e-04, ...,\n",
              "         -9.52166811e-05,  2.83455098e-04,  1.53736735e-04],\n",
              "        [ 4.20338212e-04,  5.11276943e-04,  3.93693015e-04, ...,\n",
              "          1.57268340e-04,  3.39963968e-04,  1.89305298e-04],\n",
              "        ...,\n",
              "        [-1.76738342e-03, -3.45439650e-03,  6.76633150e-04, ...,\n",
              "         -4.42920282e-04,  1.57122355e-04,  3.07893119e-04],\n",
              "        [-2.06591678e-03, -3.75205697e-03,  6.07344089e-04, ...,\n",
              "         -6.52021263e-04,  1.25408100e-04,  4.21604636e-04],\n",
              "        [-2.33799289e-03, -3.96530190e-03,  4.98570618e-04, ...,\n",
              "         -8.87141796e-04,  9.90798435e-05,  5.06114447e-04]]],\n",
              "      dtype=float32)>"
            ]
          },
          "metadata": {
            "tags": []
          },
          "execution_count": 23
        }
      ]
    },
    {
      "cell_type": "code",
      "metadata": {
        "colab": {
          "base_uri": "https://localhost:8080/"
        },
        "id": "-s_2aN4LUmsy",
        "outputId": "3215cd5a-444f-4569-93b0-c67b4bdb7af5"
      },
      "source": [
        "model.summary() #2.5061"
      ],
      "execution_count": 25,
      "outputs": [
        {
          "output_type": "stream",
          "text": [
            "Model: \"text_generator_1\"\n",
            "_________________________________________________________________\n",
            "Layer (type)                 Output Shape              Param #   \n",
            "=================================================================\n",
            "embedding_1 (Embedding)      multiple                  10240512  \n",
            "_________________________________________________________________\n",
            "lstm_1 (LSTM)                multiple                  6295552   \n",
            "_________________________________________________________________\n",
            "lstm_2 (LSTM)                multiple                  8392704   \n",
            "_________________________________________________________________\n",
            "dense_2 (Dense)              multiple                  20501025  \n",
            "=================================================================\n",
            "Total params: 45,429,793\n",
            "Trainable params: 45,429,793\n",
            "Non-trainable params: 0\n",
            "_________________________________________________________________\n"
          ],
          "name": "stdout"
        }
      ]
    },
    {
      "cell_type": "code",
      "metadata": {
        "colab": {
          "base_uri": "https://localhost:8080/"
        },
        "id": "1hR-yJgzLc0u",
        "outputId": "ad7b8bc3-ad25-48d2-8ab2-ca5099e7dd6b"
      },
      "source": [
        "\n",
        "optimizer = tf.keras.optimizers.Adam()\n",
        "loss = tf.keras.losses.SparseCategoricalCrossentropy(\n",
        "    from_logits=True, reduction='none')\n",
        "\n",
        "model.compile(loss=loss, optimizer=optimizer,metrics=['accuracy'])\n",
        "history = model.fit(train_dataset, epochs=10, validation_data=val_dataset)\n"
      ],
      "execution_count": 26,
      "outputs": [
        {
          "output_type": "stream",
          "text": [
            "Epoch 1/10\n",
            "486/486 [==============================] - 176s 357ms/step - loss: 3.3347 - accuracy: 0.5007 - val_loss: 3.0493 - val_accuracy: 0.5226\n",
            "Epoch 2/10\n",
            "486/486 [==============================] - 173s 356ms/step - loss: 2.9053 - accuracy: 0.5294 - val_loss: 2.8758 - val_accuracy: 0.5343\n",
            "Epoch 3/10\n",
            "486/486 [==============================] - 173s 356ms/step - loss: 2.6890 - accuracy: 0.5431 - val_loss: 2.7510 - val_accuracy: 0.5467\n",
            "Epoch 4/10\n",
            "486/486 [==============================] - 173s 356ms/step - loss: 2.5001 - accuracy: 0.5590 - val_loss: 2.6638 - val_accuracy: 0.5580\n",
            "Epoch 5/10\n",
            "486/486 [==============================] - 180s 371ms/step - loss: 2.3332 - accuracy: 0.5760 - val_loss: 2.5937 - val_accuracy: 0.5694\n",
            "Epoch 6/10\n",
            "486/486 [==============================] - 173s 356ms/step - loss: 2.1865 - accuracy: 0.5938 - val_loss: 2.5363 - val_accuracy: 0.5801\n",
            "Epoch 7/10\n",
            "486/486 [==============================] - 173s 355ms/step - loss: 2.0549 - accuracy: 0.6117 - val_loss: 2.4951 - val_accuracy: 0.5893\n",
            "Epoch 8/10\n",
            "486/486 [==============================] - 173s 356ms/step - loss: 1.9348 - accuracy: 0.6300 - val_loss: 2.4640 - val_accuracy: 0.5979\n",
            "Epoch 9/10\n",
            "486/486 [==============================] - 173s 355ms/step - loss: 1.8239 - accuracy: 0.6482 - val_loss: 2.4387 - val_accuracy: 0.6053\n",
            "Epoch 10/10\n",
            "486/486 [==============================] - 173s 355ms/step - loss: 1.7213 - accuracy: 0.6660 - val_loss: 2.4160 - val_accuracy: 0.6131\n"
          ],
          "name": "stdout"
        }
      ]
    },
    {
      "cell_type": "code",
      "metadata": {
        "id": "evtf_5gYz9SX"
      },
      "source": [
        "weights = model.get_layer('embedding').get_weights()[0]\n",
        "vocab = vectorize_layer.get_vocabulary()\n",
        "out_v = io.open('vectors.tsv', 'w', encoding='utf-8')\n",
        "out_m = io.open('metadata.tsv', 'w', encoding='utf-8')\n",
        "\n",
        "for index, word in enumerate(vocab):\n",
        "  if index == 0:\n",
        "    continue  # skip 0, it's padding.\n",
        "  vec = weights[index]\n",
        "  out_v.write('\\t'.join([str(x) for x in vec]) + \"\\n\")\n",
        "  out_m.write(word + \"\\n\")\n",
        "out_v.close()\n",
        "out_m.close()"
      ],
      "execution_count": null,
      "outputs": []
    },
    {
      "cell_type": "code",
      "metadata": {
        "id": "VezJBsan90TE"
      },
      "source": [
        ""
      ],
      "execution_count": null,
      "outputs": []
    },
    {
      "cell_type": "code",
      "metadata": {
        "id": "YlrwoaehErvz"
      },
      "source": [
        ""
      ],
      "execution_count": null,
      "outputs": []
    },
    {
      "cell_type": "code",
      "metadata": {
        "id": "N-Xj0lP4LjM4"
      },
      "source": [
        ""
      ],
      "execution_count": null,
      "outputs": []
    },
    {
      "cell_type": "code",
      "metadata": {
        "id": "7MPV5MTJSaqD"
      },
      "source": [
        ""
      ],
      "execution_count": null,
      "outputs": []
    },
    {
      "cell_type": "code",
      "metadata": {
        "id": "SOOQidQ3ZSG4"
      },
      "source": [
        ""
      ],
      "execution_count": null,
      "outputs": []
    },
    {
      "cell_type": "code",
      "metadata": {
        "id": "jGSODjNwgJj_"
      },
      "source": [
        ""
      ],
      "execution_count": null,
      "outputs": []
    },
    {
      "cell_type": "code",
      "metadata": {
        "id": "rBqbWVp2nBAq"
      },
      "source": [
        ""
      ],
      "execution_count": null,
      "outputs": []
    },
    {
      "cell_type": "code",
      "metadata": {
        "id": "1Z7YW4fdt4d8"
      },
      "source": [
        ""
      ],
      "execution_count": null,
      "outputs": []
    },
    {
      "cell_type": "code",
      "metadata": {
        "id": "Wnmb-TX9L0_0"
      },
      "source": [
        "def generate_text(model, tokenizer, init_sentence=\"<start>\", max_len=20):\n",
        "    # 테스트를 위해서 입력받은 init_sentence도 텐서로 변환합니다\n",
        "    test_input = tokenizer.texts_to_sequences([init_sentence])\n",
        "    test_tensor = tf.convert_to_tensor(test_input, dtype=tf.int64)\n",
        "    end_token = tokenizer.word_index[\"<end>\"]\n",
        "\n",
        "    # 단어 하나씩 예측해 문장을 만듭니다\n",
        "    #    1. 입력받은 문장의 텐서를 입력합니다\n",
        "    #    2. 예측된 값 중 가장 높은 확률인 word index를 뽑아냅니다\n",
        "    #    3. 2에서 예측된 word index를 문장 뒤에 붙입니다\n",
        "    #    4. 모델이 <end>를 예측했거나, max_len에 도달했다면 문장 생성을 마칩니다\n",
        "    while True:\n",
        "        # 1\n",
        "        predict = model(test_tensor) \n",
        "        # 2\n",
        "        predict_word = tf.argmax(tf.nn.softmax(predict, axis=-1), axis=-1)[:, -1] \n",
        "        # 3 \n",
        "        test_tensor = tf.concat([test_tensor, tf.expand_dims(predict_word, axis=0)], axis=-1)\n",
        "        # 4\n",
        "        if predict_word.numpy()[0] == end_token: break\n",
        "        if test_tensor.shape[1] >= max_len: break\n",
        "\n",
        "    generated = \"\"\n",
        "    # tokenizer를 이용해 word index를 단어로 하나씩 변환합니다 \n",
        "    for word_index in test_tensor[0].numpy():\n",
        "        generated += tokenizer.index_word[word_index] + \" \"\n",
        "\n",
        "    return generated"
      ],
      "execution_count": 16,
      "outputs": []
    },
    {
      "cell_type": "code",
      "metadata": {
        "colab": {
          "base_uri": "https://localhost:8080/",
          "height": 340
        },
        "id": "9sClUfJTOsIj",
        "outputId": "6e3cf4fb-972d-4d67-de64-6aff76b4ffd3"
      },
      "source": [
        "generate_text(model, tokenizer, init_sentence=\"<start> i love\", max_len=20)"
      ],
      "execution_count": 21,
      "outputs": [
        {
          "output_type": "error",
          "ename": "ValueError",
          "evalue": "ignored",
          "traceback": [
            "\u001b[0;31m---------------------------------------------------------------------------\u001b[0m",
            "\u001b[0;31mValueError\u001b[0m                                Traceback (most recent call last)",
            "\u001b[0;32m<ipython-input-21-c106459bfa00>\u001b[0m in \u001b[0;36m<module>\u001b[0;34m()\u001b[0m\n\u001b[0;32m----> 1\u001b[0;31m \u001b[0mgenerate_text\u001b[0m\u001b[0;34m(\u001b[0m\u001b[0mmodel\u001b[0m\u001b[0;34m,\u001b[0m \u001b[0mtokenizer\u001b[0m\u001b[0;34m,\u001b[0m \u001b[0minit_sentence\u001b[0m\u001b[0;34m=\u001b[0m\u001b[0;34m\"<start> i love\"\u001b[0m\u001b[0;34m,\u001b[0m \u001b[0mmax_len\u001b[0m\u001b[0;34m=\u001b[0m\u001b[0;36m20\u001b[0m\u001b[0;34m)\u001b[0m\u001b[0;34m\u001b[0m\u001b[0;34m\u001b[0m\u001b[0m\n\u001b[0m",
            "\u001b[0;32m<ipython-input-16-417ccd0379ee>\u001b[0m in \u001b[0;36mgenerate_text\u001b[0;34m(model, tokenizer, init_sentence, max_len)\u001b[0m\n\u001b[1;32m     12\u001b[0m     \u001b[0;32mwhile\u001b[0m \u001b[0;32mTrue\u001b[0m\u001b[0;34m:\u001b[0m\u001b[0;34m\u001b[0m\u001b[0;34m\u001b[0m\u001b[0m\n\u001b[1;32m     13\u001b[0m         \u001b[0;31m# 1\u001b[0m\u001b[0;34m\u001b[0m\u001b[0;34m\u001b[0m\u001b[0;34m\u001b[0m\u001b[0m\n\u001b[0;32m---> 14\u001b[0;31m         \u001b[0mpredict\u001b[0m \u001b[0;34m=\u001b[0m \u001b[0mmodel\u001b[0m\u001b[0;34m(\u001b[0m\u001b[0mtest_tensor\u001b[0m\u001b[0;34m)\u001b[0m\u001b[0;34m\u001b[0m\u001b[0;34m\u001b[0m\u001b[0m\n\u001b[0m\u001b[1;32m     15\u001b[0m         \u001b[0;31m# 2\u001b[0m\u001b[0;34m\u001b[0m\u001b[0;34m\u001b[0m\u001b[0;34m\u001b[0m\u001b[0m\n\u001b[1;32m     16\u001b[0m         \u001b[0mpredict_word\u001b[0m \u001b[0;34m=\u001b[0m \u001b[0mtf\u001b[0m\u001b[0;34m.\u001b[0m\u001b[0margmax\u001b[0m\u001b[0;34m(\u001b[0m\u001b[0mtf\u001b[0m\u001b[0;34m.\u001b[0m\u001b[0mnn\u001b[0m\u001b[0;34m.\u001b[0m\u001b[0msoftmax\u001b[0m\u001b[0;34m(\u001b[0m\u001b[0mpredict\u001b[0m\u001b[0;34m,\u001b[0m \u001b[0maxis\u001b[0m\u001b[0;34m=\u001b[0m\u001b[0;34m-\u001b[0m\u001b[0;36m1\u001b[0m\u001b[0;34m)\u001b[0m\u001b[0;34m,\u001b[0m \u001b[0maxis\u001b[0m\u001b[0;34m=\u001b[0m\u001b[0;34m-\u001b[0m\u001b[0;36m1\u001b[0m\u001b[0;34m)\u001b[0m\u001b[0;34m[\u001b[0m\u001b[0;34m:\u001b[0m\u001b[0;34m,\u001b[0m \u001b[0;34m-\u001b[0m\u001b[0;36m1\u001b[0m\u001b[0;34m]\u001b[0m\u001b[0;34m\u001b[0m\u001b[0;34m\u001b[0m\u001b[0m\n",
            "\u001b[0;32m/usr/local/lib/python3.7/dist-packages/tensorflow/python/keras/engine/base_layer.py\u001b[0m in \u001b[0;36m__call__\u001b[0;34m(self, *args, **kwargs)\u001b[0m\n\u001b[1;32m   1028\u001b[0m         with autocast_variable.enable_auto_cast_variables(\n\u001b[1;32m   1029\u001b[0m             self._compute_dtype_object):\n\u001b[0;32m-> 1030\u001b[0;31m           \u001b[0moutputs\u001b[0m \u001b[0;34m=\u001b[0m \u001b[0mcall_fn\u001b[0m\u001b[0;34m(\u001b[0m\u001b[0minputs\u001b[0m\u001b[0;34m,\u001b[0m \u001b[0;34m*\u001b[0m\u001b[0margs\u001b[0m\u001b[0;34m,\u001b[0m \u001b[0;34m**\u001b[0m\u001b[0mkwargs\u001b[0m\u001b[0;34m)\u001b[0m\u001b[0;34m\u001b[0m\u001b[0;34m\u001b[0m\u001b[0m\n\u001b[0m\u001b[1;32m   1031\u001b[0m \u001b[0;34m\u001b[0m\u001b[0m\n\u001b[1;32m   1032\u001b[0m         \u001b[0;32mif\u001b[0m \u001b[0mself\u001b[0m\u001b[0;34m.\u001b[0m\u001b[0m_activity_regularizer\u001b[0m\u001b[0;34m:\u001b[0m\u001b[0;34m\u001b[0m\u001b[0;34m\u001b[0m\u001b[0m\n",
            "\u001b[0;32m<ipython-input-12-b2f43067b58f>\u001b[0m in \u001b[0;36mcall\u001b[0;34m(self, x)\u001b[0m\n\u001b[1;32m     19\u001b[0m         \u001b[0;31m#out = self.bidirectional_2(out)\u001b[0m\u001b[0;34m\u001b[0m\u001b[0;34m\u001b[0m\u001b[0;34m\u001b[0m\u001b[0m\n\u001b[1;32m     20\u001b[0m         \u001b[0mout\u001b[0m \u001b[0;34m=\u001b[0m \u001b[0mself\u001b[0m\u001b[0;34m.\u001b[0m\u001b[0mlinear_1\u001b[0m\u001b[0;34m(\u001b[0m\u001b[0mout\u001b[0m\u001b[0;34m)\u001b[0m\u001b[0;34m\u001b[0m\u001b[0;34m\u001b[0m\u001b[0m\n\u001b[0;32m---> 21\u001b[0;31m         \u001b[0mout\u001b[0m \u001b[0;34m=\u001b[0m \u001b[0mself\u001b[0m\u001b[0;34m.\u001b[0m\u001b[0mrnn_1\u001b[0m\u001b[0;34m(\u001b[0m\u001b[0mout\u001b[0m\u001b[0;34m)\u001b[0m\u001b[0;34m\u001b[0m\u001b[0;34m\u001b[0m\u001b[0m\n\u001b[0m\u001b[1;32m     22\u001b[0m         \u001b[0mout\u001b[0m \u001b[0;34m=\u001b[0m \u001b[0mself\u001b[0m\u001b[0;34m.\u001b[0m\u001b[0mdropout_1\u001b[0m\u001b[0;34m(\u001b[0m\u001b[0mout\u001b[0m\u001b[0;34m)\u001b[0m\u001b[0;34m\u001b[0m\u001b[0;34m\u001b[0m\u001b[0m\n\u001b[1;32m     23\u001b[0m         \u001b[0;31m#out = self.rnn_2(out)\u001b[0m\u001b[0;34m\u001b[0m\u001b[0;34m\u001b[0m\u001b[0;34m\u001b[0m\u001b[0m\n",
            "\u001b[0;32m/usr/local/lib/python3.7/dist-packages/tensorflow/python/keras/layers/recurrent.py\u001b[0m in \u001b[0;36m__call__\u001b[0;34m(self, inputs, initial_state, constants, **kwargs)\u001b[0m\n\u001b[1;32m    666\u001b[0m \u001b[0;34m\u001b[0m\u001b[0m\n\u001b[1;32m    667\u001b[0m     \u001b[0;32mif\u001b[0m \u001b[0minitial_state\u001b[0m \u001b[0;32mis\u001b[0m \u001b[0;32mNone\u001b[0m \u001b[0;32mand\u001b[0m \u001b[0mconstants\u001b[0m \u001b[0;32mis\u001b[0m \u001b[0;32mNone\u001b[0m\u001b[0;34m:\u001b[0m\u001b[0;34m\u001b[0m\u001b[0;34m\u001b[0m\u001b[0m\n\u001b[0;32m--> 668\u001b[0;31m       \u001b[0;32mreturn\u001b[0m \u001b[0msuper\u001b[0m\u001b[0;34m(\u001b[0m\u001b[0mRNN\u001b[0m\u001b[0;34m,\u001b[0m \u001b[0mself\u001b[0m\u001b[0;34m)\u001b[0m\u001b[0;34m.\u001b[0m\u001b[0m__call__\u001b[0m\u001b[0;34m(\u001b[0m\u001b[0minputs\u001b[0m\u001b[0;34m,\u001b[0m \u001b[0;34m**\u001b[0m\u001b[0mkwargs\u001b[0m\u001b[0;34m)\u001b[0m\u001b[0;34m\u001b[0m\u001b[0;34m\u001b[0m\u001b[0m\n\u001b[0m\u001b[1;32m    669\u001b[0m \u001b[0;34m\u001b[0m\u001b[0m\n\u001b[1;32m    670\u001b[0m     \u001b[0;31m# If any of `initial_state` or `constants` are specified and are Keras\u001b[0m\u001b[0;34m\u001b[0m\u001b[0;34m\u001b[0m\u001b[0;34m\u001b[0m\u001b[0m\n",
            "\u001b[0;32m/usr/local/lib/python3.7/dist-packages/tensorflow/python/keras/engine/base_layer.py\u001b[0m in \u001b[0;36m__call__\u001b[0;34m(self, *args, **kwargs)\u001b[0m\n\u001b[1;32m   1011\u001b[0m         training=training_mode):\n\u001b[1;32m   1012\u001b[0m \u001b[0;34m\u001b[0m\u001b[0m\n\u001b[0;32m-> 1013\u001b[0;31m       \u001b[0minput_spec\u001b[0m\u001b[0;34m.\u001b[0m\u001b[0massert_input_compatibility\u001b[0m\u001b[0;34m(\u001b[0m\u001b[0mself\u001b[0m\u001b[0;34m.\u001b[0m\u001b[0minput_spec\u001b[0m\u001b[0;34m,\u001b[0m \u001b[0minputs\u001b[0m\u001b[0;34m,\u001b[0m \u001b[0mself\u001b[0m\u001b[0;34m.\u001b[0m\u001b[0mname\u001b[0m\u001b[0;34m)\u001b[0m\u001b[0;34m\u001b[0m\u001b[0;34m\u001b[0m\u001b[0m\n\u001b[0m\u001b[1;32m   1014\u001b[0m       \u001b[0;32mif\u001b[0m \u001b[0meager\u001b[0m\u001b[0;34m:\u001b[0m\u001b[0;34m\u001b[0m\u001b[0;34m\u001b[0m\u001b[0m\n\u001b[1;32m   1015\u001b[0m         \u001b[0mcall_fn\u001b[0m \u001b[0;34m=\u001b[0m \u001b[0mself\u001b[0m\u001b[0;34m.\u001b[0m\u001b[0mcall\u001b[0m\u001b[0;34m\u001b[0m\u001b[0;34m\u001b[0m\u001b[0m\n",
            "\u001b[0;32m/usr/local/lib/python3.7/dist-packages/tensorflow/python/keras/engine/input_spec.py\u001b[0m in \u001b[0;36massert_input_compatibility\u001b[0;34m(input_spec, inputs, layer_name)\u001b[0m\n\u001b[1;32m    268\u001b[0m                              \u001b[0;34m' is incompatible with layer '\u001b[0m \u001b[0;34m+\u001b[0m \u001b[0mlayer_name\u001b[0m \u001b[0;34m+\u001b[0m\u001b[0;34m\u001b[0m\u001b[0;34m\u001b[0m\u001b[0m\n\u001b[1;32m    269\u001b[0m                              \u001b[0;34m': expected shape='\u001b[0m \u001b[0;34m+\u001b[0m \u001b[0mstr\u001b[0m\u001b[0;34m(\u001b[0m\u001b[0mspec\u001b[0m\u001b[0;34m.\u001b[0m\u001b[0mshape\u001b[0m\u001b[0;34m)\u001b[0m \u001b[0;34m+\u001b[0m\u001b[0;34m\u001b[0m\u001b[0;34m\u001b[0m\u001b[0m\n\u001b[0;32m--> 270\u001b[0;31m                              ', found shape=' + display_shape(x.shape))\n\u001b[0m\u001b[1;32m    271\u001b[0m \u001b[0;34m\u001b[0m\u001b[0m\n\u001b[1;32m    272\u001b[0m \u001b[0;34m\u001b[0m\u001b[0m\n",
            "\u001b[0;31mValueError\u001b[0m: Input 0 is incompatible with layer lstm: expected shape=(256, None, 64), found shape=(1, 3, 64)"
          ]
        }
      ]
    },
    {
      "cell_type": "code",
      "metadata": {
        "id": "qQC9xxUviVmn"
      },
      "source": [
        ""
      ],
      "execution_count": null,
      "outputs": []
    },
    {
      "cell_type": "code",
      "metadata": {
        "id": "1PJGKYq4beJw"
      },
      "source": [
        ""
      ],
      "execution_count": null,
      "outputs": []
    },
    {
      "cell_type": "code",
      "metadata": {
        "colab": {
          "base_uri": "https://localhost:8080/",
          "height": 279
        },
        "id": "ZyQ3ZA9xpjOn",
        "outputId": "f2fd239b-e6d8-4230-8037-f1706aa00f6b"
      },
      "source": [
        "def plot_graphs(history, metric):\n",
        "  plt.plot(history.history[metric])\n",
        "  plt.plot(history.history['val_'+metric], '')\n",
        "  plt.xlabel(\"Epochs\")\n",
        "  plt.ylabel(metric)\n",
        "  plt.legend([metric, 'val_'+metric])\n",
        "  plt.show()\n",
        "plot_graphs(history, 'loss')"
      ],
      "execution_count": 19,
      "outputs": [
        {
          "output_type": "display_data",
          "data": {
            "image/png": "[encoded data removed]",
            "text/plain": [
              "<Figure size 432x288 with 1 Axes>"
            ]
          },
          "metadata": {
            "tags": [],
            "needs_background": "light"
          }
        }
      ]
    },
    {
      "cell_type": "code",
      "metadata": {
        "id": "p9vwUQca7GTf"
      },
      "source": [
        ""
      ],
      "execution_count": null,
      "outputs": []
    },
    {
      "cell_type": "code",
      "metadata": {
        "id": "fouUw0ljB9wr"
      },
      "source": [
        ""
      ],
      "execution_count": null,
      "outputs": []
    },
    {
      "cell_type": "code",
      "metadata": {
        "id": "n3DF_YAD0OHa"
      },
      "source": [
        ""
      ],
      "execution_count": null,
      "outputs": []
    },
    {
      "cell_type": "code",
      "metadata": {
        "id": "3fTq70GnWeCo"
      },
      "source": [
        "while True:pass"
      ],
      "execution_count": null,
      "outputs": []
    },
    {
      "cell_type": "markdown",
      "metadata": {
        "id": "0iT9CipEqE_z"
      },
      "source": [
        "*set의 원소는 iterator를 만들어서 next로 가져온다...\n",
        "set은 시퀀스 자료형 이아니기 때문에 인덱싱이 안된다~!~!"
      ]
    },
    {
      "cell_type": "code",
      "metadata": {
        "id": "QqWwSacdtWqT"
      },
      "source": [
        ""
      ],
      "execution_count": null,
      "outputs": []
    },
    {
      "cell_type": "code",
      "metadata": {
        "colab": {
          "base_uri": "https://localhost:8080/"
        },
        "id": "PIxKvNUR5I4x",
        "outputId": "ce4b55e0-f0a5-4010-991a-539bb7c1f51e"
      },
      "source": [
        "model.summary() #2.5061"
      ],
      "execution_count": 52,
      "outputs": [
        {
          "output_type": "stream",
          "text": [
            "Model: \"text_generator_11\"\n",
            "_________________________________________________________________\n",
            "Layer (type)                 Output Shape              Param #   \n",
            "=================================================================\n",
            "embedding_11 (Embedding)     multiple                  10240512  \n",
            "_________________________________________________________________\n",
            "lstm_18 (LSTM)               multiple                  6295552   \n",
            "_________________________________________________________________\n",
            "dropout_15 (Dropout)         multiple                  0         \n",
            "_________________________________________________________________\n",
            "dense_16 (Dense)             multiple                  20501025  \n",
            "=================================================================\n",
            "Total params: 37,037,089\n",
            "Trainable params: 37,037,089\n",
            "Non-trainable params: 0\n",
            "_________________________________________________________________\n"
          ],
          "name": "stdout"
        }
      ]
    },
    {
      "cell_type": "code",
      "metadata": {
        "colab": {
          "base_uri": "https://localhost:8080/"
        },
        "id": "Htbd4lzY3fgr",
        "outputId": "377e7c05-c8f9-4b5f-98f9-7275609d3c72"
      },
      "source": [
        "model.summary()     #2.4497"
      ],
      "execution_count": 48,
      "outputs": [
        {
          "output_type": "stream",
          "text": [
            "Model: \"text_generator_10\"\n",
            "_________________________________________________________________\n",
            "Layer (type)                 Output Shape              Param #   \n",
            "=================================================================\n",
            "embedding_10 (Embedding)     multiple                  10240512  \n",
            "_________________________________________________________________\n",
            "lstm_17 (LSTM)               multiple                  6295552   \n",
            "_________________________________________________________________\n",
            "dense_15 (Dense)             multiple                  20501025  \n",
            "=================================================================\n",
            "Total params: 37,037,089\n",
            "Trainable params: 37,037,089\n",
            "Non-trainable params: 0\n",
            "_________________________________________________________________\n"
          ],
          "name": "stdout"
        }
      ]
    },
    {
      "cell_type": "code",
      "metadata": {
        "colab": {
          "base_uri": "https://localhost:8080/"
        },
        "id": "bmzAVAVcLL10",
        "outputId": "a4a23edb-db3c-4117-ab28-0d0c91e78499"
      },
      "source": [
        "model.summary()    #2.6248 "
      ],
      "execution_count": 22,
      "outputs": [
        {
          "output_type": "stream",
          "text": [
            "Model: \"text_generator_1\"\n",
            "_________________________________________________________________\n",
            "Layer (type)                 Output Shape              Param #   \n",
            "=================================================================\n",
            "embedding_1 (Embedding)      multiple                  10240512  \n",
            "_________________________________________________________________\n",
            "lstm_2 (LSTM)                multiple                  6295552   \n",
            "_________________________________________________________________\n",
            "dropout_1 (Dropout)          multiple                  0         \n",
            "_________________________________________________________________\n",
            "lstm_3 (LSTM)                multiple                  8392704   \n",
            "_________________________________________________________________\n",
            "dropout_2 (Dropout)          multiple                  0         \n",
            "_________________________________________________________________\n",
            "dense_1 (Dense)              multiple                  20501025  \n",
            "=================================================================\n",
            "Total params: 45,429,793\n",
            "Trainable params: 45,429,793\n",
            "Non-trainable params: 0\n",
            "_________________________________________________________________\n"
          ],
          "name": "stdout"
        }
      ]
    }
  ]
}