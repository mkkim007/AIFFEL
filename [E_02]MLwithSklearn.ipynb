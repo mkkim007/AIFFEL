{
  "nbformat": 4,
  "nbformat_minor": 0,
  "metadata": {
    "colab": {
      "name": "[E-02]MLwithSklearn.ipynb",
      "provenance": [],
      "collapsed_sections": [],
      "toc_visible": true,
      "authorship_tag": "ABX9TyNtwI0Vt25qXvfodp+ay8Tr",
      "include_colab_link": true
    },
    "kernelspec": {
      "name": "python3",
      "display_name": "Python 3"
    },
    "language_info": {
      "name": "python"
    }
  },
  "cells": [
    {
      "cell_type": "markdown",
      "metadata": {
        "id": "view-in-github",
        "colab_type": "text"
      },
      "source": [
        "<a href=\"https://colab.research.google.com/github/mkkim007/AIFFEL/blob/main/%5BE_02%5DMLwithSklearn.ipynb\" target=\"_parent\"><img src=\"https://colab.research.google.com/assets/colab-badge.svg\" alt=\"Open In Colab\"/></a>"
      ]
    },
    {
      "cell_type": "markdown",
      "metadata": {
        "id": "qs3vcotRxJbY"
      },
      "source": [
        "# 시작하기전!"
      ]
    },
    {
      "cell_type": "markdown",
      "metadata": {
        "id": "ZZHuZ49G4mQ_"
      },
      "source": [
        "필요한 모듈 import하기"
      ]
    },
    {
      "cell_type": "code",
      "metadata": {
        "id": "LNqh9P8P1LnE"
      },
      "source": [
        "from sklearn.model_selection import train_test_split\n",
        "from sklearn.metrics import classification_report\n",
        "from sklearn.metrics import accuracy_score\n",
        "from sklearn.metrics import f1_score\n",
        "from sklearn.metrics import recall_score\n",
        "from sklearn.metrics import classification_report\n",
        "from sklearn.tree import DecisionTreeClassifier\n",
        "from sklearn.ensemble import RandomForestClassifier\n",
        "from sklearn import svm\n",
        "from sklearn.linear_model import SGDClassifier\n",
        "from sklearn.linear_model import LogisticRegression"
      ],
      "execution_count": 1,
      "outputs": []
    },
    {
      "cell_type": "markdown",
      "metadata": {
        "id": "DbJxA4xg4hJ4"
      },
      "source": [
        "\n",
        "# 🖌손글씨 분류(load_digits)\n",
        "\n"
      ]
    },
    {
      "cell_type": "markdown",
      "metadata": {
        "id": "JjVT28eW4gf8"
      },
      "source": [
        "## 1.데이터 준비, 데이터 이해하기"
      ]
    },
    {
      "cell_type": "code",
      "metadata": {
        "colab": {
          "base_uri": "https://localhost:8080/"
        },
        "id": "I3lo4fEEni1r",
        "outputId": "af7a7bc0-c894-46cd-f8f5-34c0348d7325"
      },
      "source": [
        "from sklearn.datasets import load_digits\n",
        "digits = load_digits()\n",
        "print(dir(digits))      # dir() : 객체가 어떤 변수와 메서드를 가지고 있는지 나열함\n",
        "print(type(digits))     # digit는 Bunch type (dictionary와 비슷!)\n",
        "print(digits.keys())    # digit의 key 출력"
      ],
      "execution_count": 2,
      "outputs": [
        {
          "output_type": "stream",
          "text": [
            "['DESCR', 'data', 'images', 'target', 'target_names']\n",
            "<class 'sklearn.utils.Bunch'>\n",
            "dict_keys(['data', 'target', 'target_names', 'images', 'DESCR'])\n"
          ],
          "name": "stdout"
        }
      ]
    },
    {
      "cell_type": "markdown",
      "metadata": {
        "id": "jxYUAWubI-Vp"
      },
      "source": [
        "다른 데이터들은 `feature_names` 있었는데 손글씨 데이터는 특징(꽃잎 개수, 길이 등)이 아니라 손글씨 그림(픽셀) 자체로 학습을 시키기 때문에 따로  feature의 이름이 없는 것 같습니다."
      ]
    },
    {
      "cell_type": "code",
      "metadata": {
        "colab": {
          "base_uri": "https://localhost:8080/"
        },
        "id": "cOY-EgDUoD7k",
        "outputId": "83cc4d06-e4dd-4a70-9999-5cbd0c8450b9"
      },
      "source": [
        "digits_data = digits.data   \n",
        "print(digits_data.shape)    # 데이터의 개수는 1797개, 이미지 사이즈가 8*8이기 때문에 64차원"
      ],
      "execution_count": 3,
      "outputs": [
        {
          "output_type": "stream",
          "text": [
            "(1797, 64)\n"
          ],
          "name": "stdout"
        }
      ]
    },
    {
      "cell_type": "code",
      "metadata": {
        "colab": {
          "base_uri": "https://localhost:8080/"
        },
        "id": "SmlzFwRsuQdb",
        "outputId": "ceaf1c6d-6c7f-43fa-905f-a1e27d500a2f"
      },
      "source": [
        "digits_label = digits.target\n",
        "print(digits_label.shape)   # 데이터 개수에 맞게 label 개수도 1797개\n",
        "print(digits_label)         # 0~9까지의 숫자(10개) label이 들어가 있다"
      ],
      "execution_count": 4,
      "outputs": [
        {
          "output_type": "stream",
          "text": [
            "(1797,)\n",
            "[0 1 2 ... 8 9 8]\n"
          ],
          "name": "stdout"
        }
      ]
    },
    {
      "cell_type": "code",
      "metadata": {
        "colab": {
          "base_uri": "https://localhost:8080/"
        },
        "id": "nQVrM5kh3wrK",
        "outputId": "2233c8b6-d5c7-4128-d0ef-e34c279819fd"
      },
      "source": [
        "print(digits.DESCR)         #그 외의 데이터정보들,,,"
      ],
      "execution_count": 5,
      "outputs": [
        {
          "output_type": "stream",
          "text": [
            ".. _digits_dataset:\n",
            "\n",
            "Optical recognition of handwritten digits dataset\n",
            "--------------------------------------------------\n",
            "\n",
            "**Data Set Characteristics:**\n",
            "\n",
            "    :Number of Instances: 5620\n",
            "    :Number of Attributes: 64\n",
            "    :Attribute Information: 8x8 image of integer pixels in the range 0..16.\n",
            "    :Missing Attribute Values: None\n",
            "    :Creator: E. Alpaydin (alpaydin '@' boun.edu.tr)\n",
            "    :Date: July; 1998\n",
            "\n",
            "This is a copy of the test set of the UCI ML hand-written digits datasets\n",
            "https://archive.ics.uci.edu/ml/datasets/Optical+Recognition+of+Handwritten+Digits\n",
            "\n",
            "The data set contains images of hand-written digits: 10 classes where\n",
            "each class refers to a digit.\n",
            "\n",
            "Preprocessing programs made available by NIST were used to extract\n",
            "normalized bitmaps of handwritten digits from a preprinted form. From a\n",
            "total of 43 people, 30 contributed to the training set and different 13\n",
            "to the test set. 32x32 bitmaps are divided into nonoverlapping blocks of\n",
            "4x4 and the number of on pixels are counted in each block. This generates\n",
            "an input matrix of 8x8 where each element is an integer in the range\n",
            "0..16. This reduces dimensionality and gives invariance to small\n",
            "distortions.\n",
            "\n",
            "For info on NIST preprocessing routines, see M. D. Garris, J. L. Blue, G.\n",
            "T. Candela, D. L. Dimmick, J. Geist, P. J. Grother, S. A. Janet, and C.\n",
            "L. Wilson, NIST Form-Based Handprint Recognition System, NISTIR 5469,\n",
            "1994.\n",
            "\n",
            ".. topic:: References\n",
            "\n",
            "  - C. Kaynak (1995) Methods of Combining Multiple Classifiers and Their\n",
            "    Applications to Handwritten Digit Recognition, MSc Thesis, Institute of\n",
            "    Graduate Studies in Science and Engineering, Bogazici University.\n",
            "  - E. Alpaydin, C. Kaynak (1998) Cascading Classifiers, Kybernetika.\n",
            "  - Ken Tang and Ponnuthurai N. Suganthan and Xi Yao and A. Kai Qin.\n",
            "    Linear dimensionalityreduction using relevance weighted LDA. School of\n",
            "    Electrical and Electronic Engineering Nanyang Technological University.\n",
            "    2005.\n",
            "  - Claudio Gentile. A New Approximate Maximal Margin Classification\n",
            "    Algorithm. NIPS. 2000.\n"
          ],
          "name": "stdout"
        }
      ]
    },
    {
      "cell_type": "markdown",
      "metadata": {
        "id": "7WQw1gJSFnSN"
      },
      "source": [
        "위에서는 데이터가 5520개가 있다고 하는데 왜 1797개가 있는 것일까요,,? 🤔"
      ]
    },
    {
      "cell_type": "markdown",
      "metadata": {
        "id": "OAP1kfx55xyJ"
      },
      "source": [
        "## 2.Train, Test 데이터 분리"
      ]
    },
    {
      "cell_type": "code",
      "metadata": {
        "colab": {
          "base_uri": "https://localhost:8080/"
        },
        "id": "Wz4kNOVD51bB",
        "outputId": "19e0a856-0b54-4452-faf8-b8e7bf5ed7ac"
      },
      "source": [
        "X_train, X_test, y_train, y_test = train_test_split(digits_data, \n",
        "                                                    digits_label, \n",
        "                                                    test_size=0.2, \n",
        "                                                    random_state=7)\n",
        "\n",
        "print('X_train 개수: ', len(X_train), ', X_test 개수: ', len(X_test))"
      ],
      "execution_count": 6,
      "outputs": [
        {
          "output_type": "stream",
          "text": [
            "X_train 개수:  1437 , X_test 개수:  360\n"
          ],
          "name": "stdout"
        }
      ]
    },
    {
      "cell_type": "markdown",
      "metadata": {
        "id": "no9ldJPN6Fap"
      },
      "source": [
        "## 3.학습 시키기\n",
        "이번 노드는 데이터 분석과 평가 지표가 중요한 부분이기 때문에 따로 `GridSearch`를 안했습니다!  \n",
        "\n",
        "~~Grid Search : 모델의 최고 좋은 성능을 보이는 하이퍼파라미터 찾는 방법~~ "
      ]
    },
    {
      "cell_type": "markdown",
      "metadata": {
        "id": "d1vpdXdE6LPJ"
      },
      "source": [
        "### 3.1. Decision Tree"
      ]
    },
    {
      "cell_type": "code",
      "metadata": {
        "colab": {
          "base_uri": "https://localhost:8080/"
        },
        "id": "MNVnqz5B6PYV",
        "outputId": "05d6be73-aa28-45da-9466-6965d0c2e994"
      },
      "source": [
        "decision_tree = DecisionTreeClassifier(random_state=32)\n",
        "decision_tree.fit(X_train, y_train)\n",
        "y_pred = decision_tree.predict(X_test)\n",
        "decision_tree_f1score = f1_score(y_test, y_pred, average = 'micro') # 평균내는 방법 = 'micro' \n",
        "print(classification_report(y_test, y_pred))"
      ],
      "execution_count": 7,
      "outputs": [
        {
          "output_type": "stream",
          "text": [
            "              precision    recall  f1-score   support\n",
            "\n",
            "           0       1.00      0.98      0.99        43\n",
            "           1       0.81      0.81      0.81        42\n",
            "           2       0.79      0.82      0.80        40\n",
            "           3       0.79      0.91      0.85        34\n",
            "           4       0.83      0.95      0.89        37\n",
            "           5       0.90      0.96      0.93        28\n",
            "           6       0.84      0.93      0.88        28\n",
            "           7       0.96      0.82      0.89        33\n",
            "           8       0.88      0.65      0.75        43\n",
            "           9       0.78      0.78      0.78        32\n",
            "\n",
            "    accuracy                           0.86       360\n",
            "   macro avg       0.86      0.86      0.86       360\n",
            "weighted avg       0.86      0.86      0.85       360\n",
            "\n"
          ],
          "name": "stdout"
        }
      ]
    },
    {
      "cell_type": "markdown",
      "metadata": {
        "id": "5TF7qAl36QKD"
      },
      "source": [
        "### 3.2. Random Forest"
      ]
    },
    {
      "cell_type": "code",
      "metadata": {
        "colab": {
          "base_uri": "https://localhost:8080/"
        },
        "id": "2ay7kNPf6TfU",
        "outputId": "0baa5e3e-952e-4d5c-9630-06f5b8b151fa"
      },
      "source": [
        "rfc_model = RandomForestClassifier(random_state=32)\n",
        "rfc_model.fit(X_train, y_train)\n",
        "y_pred = rfc_model.predict(X_test)\n",
        "rfc_f1score = f1_score(y_test, y_pred, average = 'micro')\n",
        "print(classification_report(y_test, y_pred))"
      ],
      "execution_count": 8,
      "outputs": [
        {
          "output_type": "stream",
          "text": [
            "              precision    recall  f1-score   support\n",
            "\n",
            "           0       1.00      0.98      0.99        43\n",
            "           1       0.93      1.00      0.97        42\n",
            "           2       1.00      1.00      1.00        40\n",
            "           3       1.00      1.00      1.00        34\n",
            "           4       0.93      1.00      0.96        37\n",
            "           5       0.90      0.96      0.93        28\n",
            "           6       1.00      0.96      0.98        28\n",
            "           7       0.94      0.97      0.96        33\n",
            "           8       1.00      0.84      0.91        43\n",
            "           9       0.94      0.94      0.94        32\n",
            "\n",
            "    accuracy                           0.96       360\n",
            "   macro avg       0.96      0.96      0.96       360\n",
            "weighted avg       0.97      0.96      0.96       360\n",
            "\n"
          ],
          "name": "stdout"
        }
      ]
    },
    {
      "cell_type": "markdown",
      "metadata": {
        "id": "--xwQ03Q6UDU"
      },
      "source": [
        "### 3.3. SVM"
      ]
    },
    {
      "cell_type": "code",
      "metadata": {
        "colab": {
          "base_uri": "https://localhost:8080/"
        },
        "id": "vPDbVXWp6XF0",
        "outputId": "e292a488-e550-4fdc-fb47-4ef2ae9819cf"
      },
      "source": [
        "svm_model = svm.SVC()\n",
        "svm_model.fit(X_train, y_train)\n",
        "y_pred = svm_model.predict(X_test)\n",
        "svm_f1score = f1_score(y_test, y_pred, average = 'micro')\n",
        "print(classification_report(y_test, y_pred))"
      ],
      "execution_count": 9,
      "outputs": [
        {
          "output_type": "stream",
          "text": [
            "              precision    recall  f1-score   support\n",
            "\n",
            "           0       1.00      1.00      1.00        43\n",
            "           1       0.95      1.00      0.98        42\n",
            "           2       1.00      1.00      1.00        40\n",
            "           3       1.00      1.00      1.00        34\n",
            "           4       1.00      1.00      1.00        37\n",
            "           5       0.93      1.00      0.97        28\n",
            "           6       1.00      1.00      1.00        28\n",
            "           7       1.00      1.00      1.00        33\n",
            "           8       1.00      0.93      0.96        43\n",
            "           9       1.00      0.97      0.98        32\n",
            "\n",
            "    accuracy                           0.99       360\n",
            "   macro avg       0.99      0.99      0.99       360\n",
            "weighted avg       0.99      0.99      0.99       360\n",
            "\n"
          ],
          "name": "stdout"
        }
      ]
    },
    {
      "cell_type": "markdown",
      "metadata": {
        "id": "_SDu-upH6XfY"
      },
      "source": [
        "### 3.4. SGD Classifier"
      ]
    },
    {
      "cell_type": "code",
      "metadata": {
        "colab": {
          "base_uri": "https://localhost:8080/"
        },
        "id": "Vfet2nAy6cj2",
        "outputId": "374ca37f-7346-4984-9264-831d452a22a8"
      },
      "source": [
        "sgd_model = SGDClassifier()\n",
        "sgd_model.fit(X_train, y_train)\n",
        "y_pred = sgd_model.predict(X_test)\n",
        "sgd_f1score = f1_score(y_test, y_pred, average = 'micro')\n",
        "print(classification_report(y_test, y_pred))"
      ],
      "execution_count": 10,
      "outputs": [
        {
          "output_type": "stream",
          "text": [
            "              precision    recall  f1-score   support\n",
            "\n",
            "           0       1.00      1.00      1.00        43\n",
            "           1       0.85      0.95      0.90        42\n",
            "           2       0.98      1.00      0.99        40\n",
            "           3       1.00      0.82      0.90        34\n",
            "           4       1.00      0.97      0.99        37\n",
            "           5       0.90      0.96      0.93        28\n",
            "           6       0.96      0.93      0.95        28\n",
            "           7       0.97      0.97      0.97        33\n",
            "           8       0.86      0.88      0.87        43\n",
            "           9       0.90      0.88      0.89        32\n",
            "\n",
            "    accuracy                           0.94       360\n",
            "   macro avg       0.94      0.94      0.94       360\n",
            "weighted avg       0.94      0.94      0.94       360\n",
            "\n"
          ],
          "name": "stdout"
        }
      ]
    },
    {
      "cell_type": "markdown",
      "metadata": {
        "id": "7DbPX_XG6c0c"
      },
      "source": [
        "### 3.5. Logistic Regression"
      ]
    },
    {
      "cell_type": "code",
      "metadata": {
        "colab": {
          "base_uri": "https://localhost:8080/"
        },
        "id": "ZqQrv9Ne6fwD",
        "outputId": "7232b10f-afe0-43a6-b390-f5db7feb1ddc"
      },
      "source": [
        "logistic_model = LogisticRegression()\n",
        "logistic_model.fit(X_train, y_train)\n",
        "y_pred = logistic_model.predict(X_test)\n",
        "logistic_f1score = f1_score(y_test, y_pred, average = 'micro')\n",
        "print(classification_report(y_test, y_pred))"
      ],
      "execution_count": 11,
      "outputs": [
        {
          "output_type": "stream",
          "text": [
            "              precision    recall  f1-score   support\n",
            "\n",
            "           0       1.00      1.00      1.00        43\n",
            "           1       0.95      0.95      0.95        42\n",
            "           2       0.98      1.00      0.99        40\n",
            "           3       0.94      0.97      0.96        34\n",
            "           4       0.97      1.00      0.99        37\n",
            "           5       0.82      0.96      0.89        28\n",
            "           6       1.00      0.96      0.98        28\n",
            "           7       0.97      0.97      0.97        33\n",
            "           8       0.92      0.81      0.86        43\n",
            "           9       0.97      0.91      0.94        32\n",
            "\n",
            "    accuracy                           0.95       360\n",
            "   macro avg       0.95      0.95      0.95       360\n",
            "weighted avg       0.95      0.95      0.95       360\n",
            "\n"
          ],
          "name": "stdout"
        },
        {
          "output_type": "stream",
          "text": [
            "/usr/local/lib/python3.7/dist-packages/sklearn/linear_model/_logistic.py:940: ConvergenceWarning: lbfgs failed to converge (status=1):\n",
            "STOP: TOTAL NO. of ITERATIONS REACHED LIMIT.\n",
            "\n",
            "Increase the number of iterations (max_iter) or scale the data as shown in:\n",
            "    https://scikit-learn.org/stable/modules/preprocessing.html\n",
            "Please also refer to the documentation for alternative solver options:\n",
            "    https://scikit-learn.org/stable/modules/linear_model.html#logistic-regression\n",
            "  extra_warning_msg=_LOGISTIC_SOLVER_CONVERGENCE_MSG)\n"
          ],
          "name": "stderr"
        }
      ]
    },
    {
      "cell_type": "markdown",
      "metadata": {
        "id": "ZuvUxsAfkC9F"
      },
      "source": [
        "max_iter 값을 키우거나 (Increase the number of iterations (max_iter) ) 데이터의 크기를 늘려라고 (scale the data) 경고가 뜹니다.  max_iter 을 5000으로 바꿔주게 되면 더 이상 경고가 뜨지 않습니다.  \n",
        "또 다른 방법으로는 아래와 같이 해줘도 됩니다!\n",
        "```python\n",
        "import warnings\n",
        "warnings.filterwarnings('ignore')\n",
        "```\n",
        "\n",
        "\n",
        "~~이 경고가 뜨는 이유는 데이터 전처리(정규화)가 잘 안되어있어서 그렇다고 합니다.~~\n",
        "\n",
        "\n"
      ]
    },
    {
      "cell_type": "code",
      "metadata": {
        "colab": {
          "base_uri": "https://localhost:8080/"
        },
        "id": "r0MCkOh4lWMK",
        "outputId": "f040df32-88cf-49f7-d1be-54aedd52a2d1"
      },
      "source": [
        "logistic_model = LogisticRegression(max_iter=5000)\n",
        "logistic_model.fit(X_train, y_train)\n",
        "y_pred = logistic_model.predict(X_test)\n",
        "logistic_f1score = f1_score(y_test, y_pred, average = 'micro')\n",
        "print(classification_report(y_test, y_pred))"
      ],
      "execution_count": 12,
      "outputs": [
        {
          "output_type": "stream",
          "text": [
            "              precision    recall  f1-score   support\n",
            "\n",
            "           0       1.00      1.00      1.00        43\n",
            "           1       0.95      0.95      0.95        42\n",
            "           2       0.98      1.00      0.99        40\n",
            "           3       0.94      0.97      0.96        34\n",
            "           4       1.00      1.00      1.00        37\n",
            "           5       0.79      0.96      0.87        28\n",
            "           6       1.00      0.96      0.98        28\n",
            "           7       0.97      0.97      0.97        33\n",
            "           8       0.92      0.84      0.88        43\n",
            "           9       0.97      0.88      0.92        32\n",
            "\n",
            "    accuracy                           0.95       360\n",
            "   macro avg       0.95      0.95      0.95       360\n",
            "weighted avg       0.96      0.95      0.95       360\n",
            "\n"
          ],
          "name": "stdout"
        }
      ]
    },
    {
      "cell_type": "markdown",
      "metadata": {
        "id": "LlqVYCCx9lrL"
      },
      "source": [
        "## 4.모델 평가"
      ]
    },
    {
      "cell_type": "markdown",
      "metadata": {
        "id": "xQXwBuih9lEv"
      },
      "source": [
        "![](https://2.bp.blogspot.com/-EvSXDotTOwc/XMfeOGZ-CVI/AAAAAAAAEiE/oePFfvhfOQM11dgRn9FkPxlegCXbgOF4QCLcBGAs/s1600/confusionMatrxiUpdated.jpg)\n",
        "\n",
        "[출처](https://https://manisha-sirsat.blogspot.com/2019/04/confusion-matrix.html)"
      ]
    },
    {
      "cell_type": "markdown",
      "metadata": {
        "id": "EW_LWTr7qpqF"
      },
      "source": [
        "위의 그림은 오차행렬(Confusion Matrix)입니다. 오차행렬에서는 TN(True Negative), FP(False Positive), FN(False Negative), TP(True Positive)로 총 네가지로 구분합니다.  \n",
        "이 4개의 값으로 다섯가지의 성능지표를 아래와 같이 표현합니다.  \n",
        "\n",
        "1. Precision = $\\frac {TP}{(TP+FP)}$  \n",
        "\n",
        "2. Negative Predictive Value = $\\frac {TN}{(TP+FP)}$  \n",
        "\n",
        "3. Sensitivity(Recall) = $\\frac {TP}{(TP+FN)}$  \n",
        "\n",
        "4. Specificity = $\\frac {TN}{(TN+FP)}$  \n",
        "\n",
        "5. Accuracy = $\\frac {TP+TN}{(TP+TP+FP+FN)}$  \n",
        "\n",
        "+$\\alpha$ F1Score = $\\frac{2}{\\frac{1}{Recall}+\\frac{1}{Precision}}$\n",
        "\n"
      ]
    },
    {
      "cell_type": "markdown",
      "metadata": {
        "id": "SUglI7z1IWGo"
      },
      "source": [
        "손글씨 분류는,,,\n",
        "- 1을 1로 잘 인식해야함 (TP가 높아야함)  \n",
        "- 1을 1로 인식 못하면 안됨 (FN가 낮아야함)\n",
        "- 2를 1로 인식하면 안됨 (FP가 낮아야함)\n",
        "- 2를 1이 아니라고 인식해야함 (TN이 높아야함)  \n",
        "\n",
        "음,,, 손글씨를 만약 인식하여 계산을 한다라고 생각을 하면 FP, FN 둘다 낮아야 하는 걸 고려해야 할 것 같습니다. 그래서 저는 f1score로 모델 성능 평가를 하기로 했습니다!  \n"
      ]
    },
    {
      "cell_type": "code",
      "metadata": {
        "colab": {
          "base_uri": "https://localhost:8080/"
        },
        "id": "KBNMQmuxx9zj",
        "outputId": "c497d334-aa7a-4ba5-f503-b22ffaee3bd4"
      },
      "source": [
        "print(\"Decision Tree : \", decision_tree_f1score)\n",
        "print(\"Random Forest : \", rfc_f1score)\n",
        "print(\"SVM : \", svm_f1score)\n",
        "print(\"SGD : \", sgd_f1score)\n",
        "print(\"Logistic Regression : \", logistic_f1score)"
      ],
      "execution_count": 13,
      "outputs": [
        {
          "output_type": "stream",
          "text": [
            "Decision Tree :  0.8555555555555555\n",
            "Random Forest :  0.9638888888888889\n",
            "SVM :  0.9888888888888889\n",
            "SGD :  0.9388888888888889\n",
            "Logistic Regression :  0.9527777777777777\n"
          ],
          "name": "stdout"
        }
      ]
    },
    {
      "cell_type": "markdown",
      "metadata": {
        "id": "ONhzy3zOPbpZ"
      },
      "source": [
        "성능이 대부분 잘나오는 것을 확인 할 수 있습니다.  \n",
        "젤 좋은 성능은 __SVM__이고 __DT__는 가장 안좋은 성능을 보여주고 있습니다."
      ]
    },
    {
      "cell_type": "markdown",
      "metadata": {
        "id": "ywaqgI9zCRnU"
      },
      "source": [
        "# +$\\alpha$ : 5개 모델 한번에 학습 시키기"
      ]
    },
    {
      "cell_type": "markdown",
      "metadata": {
        "id": "MwT4juaaytpc"
      },
      "source": [
        "와인과 유방암 유무,,둘다 데이터만 달라지기 때문에 5개의 모델을 한번에 학습 시키는 코드를 만들었습니다. ㅎㅎ,,"
      ]
    },
    {
      "cell_type": "code",
      "metadata": {
        "id": "i54V13eTCWsB"
      },
      "source": [
        "def five_model_train(x_train, y_train) : \n",
        "    decision_tree = DecisionTreeClassifier(random_state=32)\n",
        "    rfc_model = RandomForestClassifier(random_state=32)\n",
        "    svm_model = svm.SVC()\n",
        "    sgd_model = SGDClassifier()\n",
        "    logistic_model = LogisticRegression(max_iter=5000)\n",
        "\n",
        "    decision_tree.fit(X_train, y_train)\n",
        "    rfc_model.fit(X_train, y_train)\n",
        "    svm_model.fit(X_train, y_train)\n",
        "    sgd_model.fit(X_train, y_train)\n",
        "    logistic_model.fit(X_train, y_train)\n",
        "\n",
        "    y_pred_1 = decision_tree.predict(X_test)\n",
        "    y_pred_2 = rfc_model.predict(X_test)\n",
        "    y_pred_3 = svm_model.predict(X_test)\n",
        "    y_pred_4 = sgd_model.predict(X_test)\n",
        "    y_pred_5 = logistic_model.predict(X_test)\n",
        "\n",
        "    return y_pred_1, y_pred_2, y_pred_3, y_pred_4, y_pred_5\n",
        "    print(classification_report(y_test, y_pred))\n",
        "\n"
      ],
      "execution_count": 14,
      "outputs": []
    },
    {
      "cell_type": "markdown",
      "metadata": {
        "id": "bevkJIvujhyJ"
      },
      "source": [
        "---"
      ]
    },
    {
      "cell_type": "markdown",
      "metadata": {
        "id": "d3pVAFfa937p"
      },
      "source": [
        "# 🍷와인 분류(load_wine)"
      ]
    },
    {
      "cell_type": "markdown",
      "metadata": {
        "id": "DuXBwodM_oDo"
      },
      "source": [
        "## 1.데이터 준비, 데이터 이해하기"
      ]
    },
    {
      "cell_type": "code",
      "metadata": {
        "colab": {
          "base_uri": "https://localhost:8080/"
        },
        "id": "72fOxmV4xhZN",
        "outputId": "e83f8858-9782-4a6c-cddf-7e482835fda0"
      },
      "source": [
        "from sklearn.datasets import load_wine\n",
        "wine = load_wine()\n",
        "print(dir(wine))\n",
        "print(wine.keys())  "
      ],
      "execution_count": 7,
      "outputs": [
        {
          "output_type": "stream",
          "text": [
            "['DESCR', 'data', 'feature_names', 'target', 'target_names']\n",
            "dict_keys(['data', 'target', 'target_names', 'DESCR', 'feature_names'])\n"
          ],
          "name": "stdout"
        }
      ]
    },
    {
      "cell_type": "code",
      "metadata": {
        "colab": {
          "base_uri": "https://localhost:8080/"
        },
        "id": "VCRBWluexjBt",
        "outputId": "cc5eb8c1-bde0-4497-b919-bcc0baede002"
      },
      "source": [
        "wine_data = wine.data\n",
        "print(wine_data.shape)      # 총 178개의 데이터가 있으며 각각 13개의 특징이 있다 "
      ],
      "execution_count": 8,
      "outputs": [
        {
          "output_type": "stream",
          "text": [
            "(178, 13)\n"
          ],
          "name": "stdout"
        }
      ]
    },
    {
      "cell_type": "code",
      "metadata": {
        "colab": {
          "base_uri": "https://localhost:8080/"
        },
        "id": "Y8gId2QMxwNe",
        "outputId": "fbcd4ee2-ee03-4d7e-8d04-8b3283efb3fc"
      },
      "source": [
        "print(wine.feature_names)   # 데이터 특징의 이름들,,,"
      ],
      "execution_count": 9,
      "outputs": [
        {
          "output_type": "stream",
          "text": [
            "['alcohol', 'malic_acid', 'ash', 'alcalinity_of_ash', 'magnesium', 'total_phenols', 'flavanoids', 'nonflavanoid_phenols', 'proanthocyanins', 'color_intensity', 'hue', 'od280/od315_of_diluted_wines', 'proline']\n"
          ],
          "name": "stdout"
        }
      ]
    },
    {
      "cell_type": "markdown",
      "metadata": {
        "id": "WIyD4PKoviCv"
      },
      "source": [
        "와인에 대해서 잘 모르지만 위와 같은 13개의 특징으로 class 0, 1, 2으로 나누나 봅니다!"
      ]
    },
    {
      "cell_type": "code",
      "metadata": {
        "colab": {
          "base_uri": "https://localhost:8080/"
        },
        "id": "LhpDBHJVvrQq",
        "outputId": "44fca923-fce5-491a-a850-517ef35234b3"
      },
      "source": [
        "wine_label = wine.target            \n",
        "print(wine_label.shape)     # 데이터 개수에 맞게 label 개수도 128개\n",
        "wine_label                  # 3개의 클래스 값이 들어가 있다(0~2)"
      ],
      "execution_count": 10,
      "outputs": [
        {
          "output_type": "stream",
          "text": [
            "(178,)\n"
          ],
          "name": "stdout"
        },
        {
          "output_type": "execute_result",
          "data": {
            "text/plain": [
              "array([0, 0, 0, 0, 0, 0, 0, 0, 0, 0, 0, 0, 0, 0, 0, 0, 0, 0, 0, 0, 0, 0,\n",
              "       0, 0, 0, 0, 0, 0, 0, 0, 0, 0, 0, 0, 0, 0, 0, 0, 0, 0, 0, 0, 0, 0,\n",
              "       0, 0, 0, 0, 0, 0, 0, 0, 0, 0, 0, 0, 0, 0, 0, 1, 1, 1, 1, 1, 1, 1,\n",
              "       1, 1, 1, 1, 1, 1, 1, 1, 1, 1, 1, 1, 1, 1, 1, 1, 1, 1, 1, 1, 1, 1,\n",
              "       1, 1, 1, 1, 1, 1, 1, 1, 1, 1, 1, 1, 1, 1, 1, 1, 1, 1, 1, 1, 1, 1,\n",
              "       1, 1, 1, 1, 1, 1, 1, 1, 1, 1, 1, 1, 1, 1, 1, 1, 1, 1, 1, 1, 2, 2,\n",
              "       2, 2, 2, 2, 2, 2, 2, 2, 2, 2, 2, 2, 2, 2, 2, 2, 2, 2, 2, 2, 2, 2,\n",
              "       2, 2, 2, 2, 2, 2, 2, 2, 2, 2, 2, 2, 2, 2, 2, 2, 2, 2, 2, 2, 2, 2,\n",
              "       2, 2])"
            ]
          },
          "metadata": {
            "tags": []
          },
          "execution_count": 10
        }
      ]
    },
    {
      "cell_type": "code",
      "metadata": {
        "colab": {
          "base_uri": "https://localhost:8080/"
        },
        "id": "6Igie4YA-GTv",
        "outputId": "8d41313d-d940-42f7-f25d-0cf89ef6d58b"
      },
      "source": [
        "print(wine.DESCR)           #그외 다른 데이터 정보들,,"
      ],
      "execution_count": 18,
      "outputs": [
        {
          "output_type": "stream",
          "text": [
            "(178,)\n",
            ".. _wine_dataset:\n",
            "\n",
            "Wine recognition dataset\n",
            "------------------------\n",
            "\n",
            "**Data Set Characteristics:**\n",
            "\n",
            "    :Number of Instances: 178 (50 in each of three classes)\n",
            "    :Number of Attributes: 13 numeric, predictive attributes and the class\n",
            "    :Attribute Information:\n",
            " \t\t- Alcohol\n",
            " \t\t- Malic acid\n",
            " \t\t- Ash\n",
            "\t\t- Alcalinity of ash  \n",
            " \t\t- Magnesium\n",
            "\t\t- Total phenols\n",
            " \t\t- Flavanoids\n",
            " \t\t- Nonflavanoid phenols\n",
            " \t\t- Proanthocyanins\n",
            "\t\t- Color intensity\n",
            " \t\t- Hue\n",
            " \t\t- OD280/OD315 of diluted wines\n",
            " \t\t- Proline\n",
            "\n",
            "    - class:\n",
            "            - class_0\n",
            "            - class_1\n",
            "            - class_2\n",
            "\t\t\n",
            "    :Summary Statistics:\n",
            "    \n",
            "    ============================= ==== ===== ======= =====\n",
            "                                   Min   Max   Mean     SD\n",
            "    ============================= ==== ===== ======= =====\n",
            "    Alcohol:                      11.0  14.8    13.0   0.8\n",
            "    Malic Acid:                   0.74  5.80    2.34  1.12\n",
            "    Ash:                          1.36  3.23    2.36  0.27\n",
            "    Alcalinity of Ash:            10.6  30.0    19.5   3.3\n",
            "    Magnesium:                    70.0 162.0    99.7  14.3\n",
            "    Total Phenols:                0.98  3.88    2.29  0.63\n",
            "    Flavanoids:                   0.34  5.08    2.03  1.00\n",
            "    Nonflavanoid Phenols:         0.13  0.66    0.36  0.12\n",
            "    Proanthocyanins:              0.41  3.58    1.59  0.57\n",
            "    Colour Intensity:              1.3  13.0     5.1   2.3\n",
            "    Hue:                          0.48  1.71    0.96  0.23\n",
            "    OD280/OD315 of diluted wines: 1.27  4.00    2.61  0.71\n",
            "    Proline:                       278  1680     746   315\n",
            "    ============================= ==== ===== ======= =====\n",
            "\n",
            "    :Missing Attribute Values: None\n",
            "    :Class Distribution: class_0 (59), class_1 (71), class_2 (48)\n",
            "    :Creator: R.A. Fisher\n",
            "    :Donor: Michael Marshall (MARSHALL%PLU@io.arc.nasa.gov)\n",
            "    :Date: July, 1988\n",
            "\n",
            "This is a copy of UCI ML Wine recognition datasets.\n",
            "https://archive.ics.uci.edu/ml/machine-learning-databases/wine/wine.data\n",
            "\n",
            "The data is the results of a chemical analysis of wines grown in the same\n",
            "region in Italy by three different cultivators. There are thirteen different\n",
            "measurements taken for different constituents found in the three types of\n",
            "wine.\n",
            "\n",
            "Original Owners: \n",
            "\n",
            "Forina, M. et al, PARVUS - \n",
            "An Extendible Package for Data Exploration, Classification and Correlation. \n",
            "Institute of Pharmaceutical and Food Analysis and Technologies,\n",
            "Via Brigata Salerno, 16147 Genoa, Italy.\n",
            "\n",
            "Citation:\n",
            "\n",
            "Lichman, M. (2013). UCI Machine Learning Repository\n",
            "[https://archive.ics.uci.edu/ml]. Irvine, CA: University of California,\n",
            "School of Information and Computer Science. \n",
            "\n",
            ".. topic:: References\n",
            "\n",
            "  (1) S. Aeberhard, D. Coomans and O. de Vel, \n",
            "  Comparison of Classifiers in High Dimensional Settings, \n",
            "  Tech. Rep. no. 92-02, (1992), Dept. of Computer Science and Dept. of  \n",
            "  Mathematics and Statistics, James Cook University of North Queensland. \n",
            "  (Also submitted to Technometrics). \n",
            "\n",
            "  The data was used with many others for comparing various \n",
            "  classifiers. The classes are separable, though only RDA \n",
            "  has achieved 100% correct classification. \n",
            "  (RDA : 100%, QDA 99.4%, LDA 98.9%, 1NN 96.1% (z-transformed data)) \n",
            "  (All results using the leave-one-out technique) \n",
            "\n",
            "  (2) S. Aeberhard, D. Coomans and O. de Vel, \n",
            "  \"THE CLASSIFICATION PERFORMANCE OF RDA\" \n",
            "  Tech. Rep. no. 92-01, (1992), Dept. of Computer Science and Dept. of \n",
            "  Mathematics and Statistics, James Cook University of North Queensland. \n",
            "  (Also submitted to Journal of Chemometrics).\n",
            "\n"
          ],
          "name": "stdout"
        }
      ]
    },
    {
      "cell_type": "markdown",
      "metadata": {
        "id": "mm58QUJGwVzE"
      },
      "source": [
        "각 클래스 마다 50개 정도의 데이터가 들어있다고 하네요 근데 다른 데이터들에 비해서 데이터의 양이 조금 작은 것 같습니다"
      ]
    },
    {
      "cell_type": "markdown",
      "metadata": {
        "id": "tyaQJnzCAFO2"
      },
      "source": [
        "## 2.Train, Test 데이터 분리"
      ]
    },
    {
      "cell_type": "code",
      "metadata": {
        "colab": {
          "base_uri": "https://localhost:8080/"
        },
        "id": "BVwsjOtBcjKw",
        "outputId": "d6dca8c6-7e45-422a-e750-284ddf05007c"
      },
      "source": [
        "X_train, X_test, y_train, y_test = train_test_split(wine_data, \n",
        "                                                    wine_label, \n",
        "                                                    test_size=0.2, \n",
        "                                                    random_state=7)\n",
        "\n",
        "print('X_train 개수: ', len(X_train), ', X_test 개수: ', len(X_test))"
      ],
      "execution_count": 19,
      "outputs": [
        {
          "output_type": "stream",
          "text": [
            "X_train 개수:  142 , X_test 개수:  36\n"
          ],
          "name": "stdout"
        }
      ]
    },
    {
      "cell_type": "markdown",
      "metadata": {
        "id": "cU-7ua1i94jd"
      },
      "source": [
        "## 3.학습시키기"
      ]
    },
    {
      "cell_type": "code",
      "metadata": {
        "id": "6wduG1ntbKvi"
      },
      "source": [
        "y_pred_1, y_pred_2, y_pred_3, y_pred_4, y_pred_5 = five_model_train(X_train, y_train)"
      ],
      "execution_count": 20,
      "outputs": []
    },
    {
      "cell_type": "markdown",
      "metadata": {
        "id": "YVAx8T9uBs62"
      },
      "source": [
        "## 4.모델 평가"
      ]
    },
    {
      "cell_type": "markdown",
      "metadata": {
        "id": "HgOqXb1XeFon"
      },
      "source": [
        "wine 데이터는 FP, FN 둘 다 낮아야 좋을 것 같아서 모델의 성능 평가는 f1score로 모델 성능 평가를 하겠습니다."
      ]
    },
    {
      "cell_type": "code",
      "metadata": {
        "colab": {
          "base_uri": "https://localhost:8080/"
        },
        "id": "z54NQr8CmXKz",
        "outputId": "c38930c0-ab1b-4020-bd15-c8fefa128d7a"
      },
      "source": [
        "#평균 내는 방법\n",
        "#average : {‘micro’, ‘macro’, ‘samples’,’weighted’, ‘binary’} default = 'binary'\n",
        "print(\"Decision Tree : \", f1_score(y_test, y_pred_1, average = 'micro'))\n",
        "print(\"Random Forest : \", f1_score(y_test, y_pred_2, average = 'micro'))\n",
        "print(\"SVM : \", f1_score(y_test, y_pred_3, average = 'micro'))\n",
        "print(\"SGD : \", f1_score(y_test, y_pred_4, average = 'micro'))\n",
        "print(\"Logistic Regression : \", f1_score(y_test, y_pred_5, average = 'micro'))"
      ],
      "execution_count": 21,
      "outputs": [
        {
          "output_type": "stream",
          "text": [
            "Decision Tree :  0.9444444444444444\n",
            "Random Forest :  1.0\n",
            "SVM :  0.6111111111111112\n",
            "SGD :  0.5277777777777778\n",
            "Logistic Regression :  0.9722222222222222\n"
          ],
          "name": "stdout"
        }
      ]
    },
    {
      "cell_type": "markdown",
      "metadata": {
        "id": "iSIr-0U1NYwU"
      },
      "source": [
        "SVM, SGD의 모델이 너무 구리다... 성능을 높이고 싶어서 다음과 같은 시도를 했습니다.\n",
        "(젤 아래 쪽 목차를 참고해주세요~)\n",
        "\n",
        "+$\\alpha$ SVM 스케일링  \n",
        "\n",
        "+$\\alpha$ SGD\n"
      ]
    },
    {
      "cell_type": "markdown",
      "metadata": {
        "id": "HYTg41kalVtN"
      },
      "source": [
        "---"
      ]
    },
    {
      "cell_type": "markdown",
      "metadata": {
        "id": "mSUuIAiw947K"
      },
      "source": [
        "# 👩‍⚕️유방암 여부(load_breast_cancer)"
      ]
    },
    {
      "cell_type": "markdown",
      "metadata": {
        "id": "LDiuQ2b_B2b0"
      },
      "source": [
        "## 1.데이터 준비, 데이터 이해하기"
      ]
    },
    {
      "cell_type": "code",
      "metadata": {
        "colab": {
          "base_uri": "https://localhost:8080/"
        },
        "id": "8Mj6-TE4o1G8",
        "outputId": "16a50f7f-d275-48bd-c512-7b4577dea647"
      },
      "source": [
        "from sklearn.datasets import load_breast_cancer\n",
        "breast_cancer = load_breast_cancer()\n",
        "print(dir(breast_cancer))\n",
        "print(breast_cancer.keys())"
      ],
      "execution_count": 1,
      "outputs": [
        {
          "output_type": "stream",
          "text": [
            "['DESCR', 'data', 'feature_names', 'filename', 'target', 'target_names']\n",
            "dict_keys(['data', 'target', 'target_names', 'DESCR', 'feature_names', 'filename'])\n"
          ],
          "name": "stdout"
        }
      ]
    },
    {
      "cell_type": "code",
      "metadata": {
        "colab": {
          "base_uri": "https://localhost:8080/"
        },
        "id": "ZklYzADepArE",
        "outputId": "b0836377-2463-48f5-dea9-77640e5925eb"
      },
      "source": [
        "breast_cancer_data = breast_cancer.data\n",
        "print(breast_cancer_data.shape)     #총 569개의 데이터가 있으며 각각 30개의 특징이 있다 "
      ],
      "execution_count": 2,
      "outputs": [
        {
          "output_type": "stream",
          "text": [
            "(569, 30)\n"
          ],
          "name": "stdout"
        },
        {
          "output_type": "execute_result",
          "data": {
            "text/plain": [
              "array([1.799e+01, 1.038e+01, 1.228e+02, 1.001e+03, 1.184e-01, 2.776e-01,\n",
              "       3.001e-01, 1.471e-01, 2.419e-01, 7.871e-02, 1.095e+00, 9.053e-01,\n",
              "       8.589e+00, 1.534e+02, 6.399e-03, 4.904e-02, 5.373e-02, 1.587e-02,\n",
              "       3.003e-02, 6.193e-03, 2.538e+01, 1.733e+01, 1.846e+02, 2.019e+03,\n",
              "       1.622e-01, 6.656e-01, 7.119e-01, 2.654e-01, 4.601e-01, 1.189e-01])"
            ]
          },
          "metadata": {
            "tags": []
          },
          "execution_count": 2
        }
      ]
    },
    {
      "cell_type": "code",
      "metadata": {
        "colab": {
          "base_uri": "https://localhost:8080/"
        },
        "id": "O0-4eu_mpd4P",
        "outputId": "777de0c8-e000-46ee-bb1b-5fa2483d14b0"
      },
      "source": [
        "print(breast_cancer.feature_names) "
      ],
      "execution_count": 4,
      "outputs": [
        {
          "output_type": "stream",
          "text": [
            "['mean radius' 'mean texture' 'mean perimeter' 'mean area'\n",
            " 'mean smoothness' 'mean compactness' 'mean concavity'\n",
            " 'mean concave points' 'mean symmetry' 'mean fractal dimension'\n",
            " 'radius error' 'texture error' 'perimeter error' 'area error'\n",
            " 'smoothness error' 'compactness error' 'concavity error'\n",
            " 'concave points error' 'symmetry error' 'fractal dimension error'\n",
            " 'worst radius' 'worst texture' 'worst perimeter' 'worst area'\n",
            " 'worst smoothness' 'worst compactness' 'worst concavity'\n",
            " 'worst concave points' 'worst symmetry' 'worst fractal dimension']\n"
          ],
          "name": "stdout"
        }
      ]
    },
    {
      "cell_type": "code",
      "metadata": {
        "colab": {
          "base_uri": "https://localhost:8080/"
        },
        "id": "lEk_gEfEpYLX",
        "outputId": "1c5e65ef-5f38-4fa2-c568-482ea55fb8e6"
      },
      "source": [
        "breast_cancer_label = breast_cancer.target\n",
        "print(breast_cancer_label.shape)    # 데이터 개수에 맞게 label 개수도 1797개\n",
        "breast_cancer_label                 # 암인지 아닌지 0.1로 구분하고 있다."
      ],
      "execution_count": 5,
      "outputs": [
        {
          "output_type": "stream",
          "text": [
            "(569,)\n"
          ],
          "name": "stdout"
        },
        {
          "output_type": "execute_result",
          "data": {
            "text/plain": [
              "array([0, 0, 0, 0, 0, 0, 0, 0, 0, 0, 0, 0, 0, 0, 0, 0, 0, 0, 0, 1, 1, 1,\n",
              "       0, 0, 0, 0, 0, 0, 0, 0, 0, 0, 0, 0, 0, 0, 0, 1, 0, 0, 0, 0, 0, 0,\n",
              "       0, 0, 1, 0, 1, 1, 1, 1, 1, 0, 0, 1, 0, 0, 1, 1, 1, 1, 0, 1, 0, 0,\n",
              "       1, 1, 1, 1, 0, 1, 0, 0, 1, 0, 1, 0, 0, 1, 1, 1, 0, 0, 1, 0, 0, 0,\n",
              "       1, 1, 1, 0, 1, 1, 0, 0, 1, 1, 1, 0, 0, 1, 1, 1, 1, 0, 1, 1, 0, 1,\n",
              "       1, 1, 1, 1, 1, 1, 1, 0, 0, 0, 1, 0, 0, 1, 1, 1, 0, 0, 1, 0, 1, 0,\n",
              "       0, 1, 0, 0, 1, 1, 0, 1, 1, 0, 1, 1, 1, 1, 0, 1, 1, 1, 1, 1, 1, 1,\n",
              "       1, 1, 0, 1, 1, 1, 1, 0, 0, 1, 0, 1, 1, 0, 0, 1, 1, 0, 0, 1, 1, 1,\n",
              "       1, 0, 1, 1, 0, 0, 0, 1, 0, 1, 0, 1, 1, 1, 0, 1, 1, 0, 0, 1, 0, 0,\n",
              "       0, 0, 1, 0, 0, 0, 1, 0, 1, 0, 1, 1, 0, 1, 0, 0, 0, 0, 1, 1, 0, 0,\n",
              "       1, 1, 1, 0, 1, 1, 1, 1, 1, 0, 0, 1, 1, 0, 1, 1, 0, 0, 1, 0, 1, 1,\n",
              "       1, 1, 0, 1, 1, 1, 1, 1, 0, 1, 0, 0, 0, 0, 0, 0, 0, 0, 0, 0, 0, 0,\n",
              "       0, 0, 1, 1, 1, 1, 1, 1, 0, 1, 0, 1, 1, 0, 1, 1, 0, 1, 0, 0, 1, 1,\n",
              "       1, 1, 1, 1, 1, 1, 1, 1, 1, 1, 1, 0, 1, 1, 0, 1, 0, 1, 1, 1, 1, 1,\n",
              "       1, 1, 1, 1, 1, 1, 1, 1, 1, 0, 1, 1, 1, 0, 1, 0, 1, 1, 1, 1, 0, 0,\n",
              "       0, 1, 1, 1, 1, 0, 1, 0, 1, 0, 1, 1, 1, 0, 1, 1, 1, 1, 1, 1, 1, 0,\n",
              "       0, 0, 1, 1, 1, 1, 1, 1, 1, 1, 1, 1, 1, 0, 0, 1, 0, 0, 0, 1, 0, 0,\n",
              "       1, 1, 1, 1, 1, 0, 1, 1, 1, 1, 1, 0, 1, 1, 1, 0, 1, 1, 0, 0, 1, 1,\n",
              "       1, 1, 1, 1, 0, 1, 1, 1, 1, 1, 1, 1, 0, 1, 1, 1, 1, 1, 0, 1, 1, 0,\n",
              "       1, 1, 1, 1, 1, 1, 1, 1, 1, 1, 1, 1, 0, 1, 0, 0, 1, 0, 1, 1, 1, 1,\n",
              "       1, 0, 1, 1, 0, 1, 0, 1, 1, 0, 1, 0, 1, 1, 1, 1, 1, 1, 1, 1, 0, 0,\n",
              "       1, 1, 1, 1, 1, 1, 0, 1, 1, 1, 1, 1, 1, 1, 1, 1, 1, 0, 1, 1, 1, 1,\n",
              "       1, 1, 1, 0, 1, 0, 1, 1, 0, 1, 1, 1, 1, 1, 0, 0, 1, 0, 1, 0, 1, 1,\n",
              "       1, 1, 1, 0, 1, 1, 0, 1, 0, 1, 0, 0, 1, 1, 1, 0, 1, 1, 1, 1, 1, 1,\n",
              "       1, 1, 1, 1, 1, 0, 1, 0, 0, 1, 1, 1, 1, 1, 1, 1, 1, 1, 1, 1, 1, 1,\n",
              "       1, 1, 1, 1, 1, 1, 1, 1, 1, 1, 1, 1, 0, 0, 0, 0, 0, 0, 1])"
            ]
          },
          "metadata": {
            "tags": []
          },
          "execution_count": 5
        }
      ]
    },
    {
      "cell_type": "code",
      "metadata": {
        "colab": {
          "base_uri": "https://localhost:8080/"
        },
        "id": "olJwYp_rvX23",
        "outputId": "c2dae125-26e8-4204-a3c9-6ba29fd09b8a"
      },
      "source": [
        "print(breast_cancer.DESCR)"
      ],
      "execution_count": 22,
      "outputs": [
        {
          "output_type": "stream",
          "text": [
            "['DESCR', 'data', 'feature_names', 'filename', 'target', 'target_names']\n",
            "(569, 30)\n",
            "(569,)\n",
            ".. _breast_cancer_dataset:\n",
            "\n",
            "Breast cancer wisconsin (diagnostic) dataset\n",
            "--------------------------------------------\n",
            "\n",
            "**Data Set Characteristics:**\n",
            "\n",
            "    :Number of Instances: 569\n",
            "\n",
            "    :Number of Attributes: 30 numeric, predictive attributes and the class\n",
            "\n",
            "    :Attribute Information:\n",
            "        - radius (mean of distances from center to points on the perimeter)\n",
            "        - texture (standard deviation of gray-scale values)\n",
            "        - perimeter\n",
            "        - area\n",
            "        - smoothness (local variation in radius lengths)\n",
            "        - compactness (perimeter^2 / area - 1.0)\n",
            "        - concavity (severity of concave portions of the contour)\n",
            "        - concave points (number of concave portions of the contour)\n",
            "        - symmetry \n",
            "        - fractal dimension (\"coastline approximation\" - 1)\n",
            "\n",
            "        The mean, standard error, and \"worst\" or largest (mean of the three\n",
            "        largest values) of these features were computed for each image,\n",
            "        resulting in 30 features.  For instance, field 3 is Mean Radius, field\n",
            "        13 is Radius SE, field 23 is Worst Radius.\n",
            "\n",
            "        - class:\n",
            "                - WDBC-Malignant\n",
            "                - WDBC-Benign\n",
            "\n",
            "    :Summary Statistics:\n",
            "\n",
            "    ===================================== ====== ======\n",
            "                                           Min    Max\n",
            "    ===================================== ====== ======\n",
            "    radius (mean):                        6.981  28.11\n",
            "    texture (mean):                       9.71   39.28\n",
            "    perimeter (mean):                     43.79  188.5\n",
            "    area (mean):                          143.5  2501.0\n",
            "    smoothness (mean):                    0.053  0.163\n",
            "    compactness (mean):                   0.019  0.345\n",
            "    concavity (mean):                     0.0    0.427\n",
            "    concave points (mean):                0.0    0.201\n",
            "    symmetry (mean):                      0.106  0.304\n",
            "    fractal dimension (mean):             0.05   0.097\n",
            "    radius (standard error):              0.112  2.873\n",
            "    texture (standard error):             0.36   4.885\n",
            "    perimeter (standard error):           0.757  21.98\n",
            "    area (standard error):                6.802  542.2\n",
            "    smoothness (standard error):          0.002  0.031\n",
            "    compactness (standard error):         0.002  0.135\n",
            "    concavity (standard error):           0.0    0.396\n",
            "    concave points (standard error):      0.0    0.053\n",
            "    symmetry (standard error):            0.008  0.079\n",
            "    fractal dimension (standard error):   0.001  0.03\n",
            "    radius (worst):                       7.93   36.04\n",
            "    texture (worst):                      12.02  49.54\n",
            "    perimeter (worst):                    50.41  251.2\n",
            "    area (worst):                         185.2  4254.0\n",
            "    smoothness (worst):                   0.071  0.223\n",
            "    compactness (worst):                  0.027  1.058\n",
            "    concavity (worst):                    0.0    1.252\n",
            "    concave points (worst):               0.0    0.291\n",
            "    symmetry (worst):                     0.156  0.664\n",
            "    fractal dimension (worst):            0.055  0.208\n",
            "    ===================================== ====== ======\n",
            "\n",
            "    :Missing Attribute Values: None\n",
            "\n",
            "    :Class Distribution: 212 - Malignant, 357 - Benign\n",
            "\n",
            "    :Creator:  Dr. William H. Wolberg, W. Nick Street, Olvi L. Mangasarian\n",
            "\n",
            "    :Donor: Nick Street\n",
            "\n",
            "    :Date: November, 1995\n",
            "\n",
            "This is a copy of UCI ML Breast Cancer Wisconsin (Diagnostic) datasets.\n",
            "https://goo.gl/U2Uwz2\n",
            "\n",
            "Features are computed from a digitized image of a fine needle\n",
            "aspirate (FNA) of a breast mass.  They describe\n",
            "characteristics of the cell nuclei present in the image.\n",
            "\n",
            "Separating plane described above was obtained using\n",
            "Multisurface Method-Tree (MSM-T) [K. P. Bennett, \"Decision Tree\n",
            "Construction Via Linear Programming.\" Proceedings of the 4th\n",
            "Midwest Artificial Intelligence and Cognitive Science Society,\n",
            "pp. 97-101, 1992], a classification method which uses linear\n",
            "programming to construct a decision tree.  Relevant features\n",
            "were selected using an exhaustive search in the space of 1-4\n",
            "features and 1-3 separating planes.\n",
            "\n",
            "The actual linear program used to obtain the separating plane\n",
            "in the 3-dimensional space is that described in:\n",
            "[K. P. Bennett and O. L. Mangasarian: \"Robust Linear\n",
            "Programming Discrimination of Two Linearly Inseparable Sets\",\n",
            "Optimization Methods and Software 1, 1992, 23-34].\n",
            "\n",
            "This database is also available through the UW CS ftp server:\n",
            "\n",
            "ftp ftp.cs.wisc.edu\n",
            "cd math-prog/cpo-dataset/machine-learn/WDBC/\n",
            "\n",
            ".. topic:: References\n",
            "\n",
            "   - W.N. Street, W.H. Wolberg and O.L. Mangasarian. Nuclear feature extraction \n",
            "     for breast tumor diagnosis. IS&T/SPIE 1993 International Symposium on \n",
            "     Electronic Imaging: Science and Technology, volume 1905, pages 861-870,\n",
            "     San Jose, CA, 1993.\n",
            "   - O.L. Mangasarian, W.N. Street and W.H. Wolberg. Breast cancer diagnosis and \n",
            "     prognosis via linear programming. Operations Research, 43(4), pages 570-577, \n",
            "     July-August 1995.\n",
            "   - W.H. Wolberg, W.N. Street, and O.L. Mangasarian. Machine learning techniques\n",
            "     to diagnose breast cancer from fine-needle aspirates. Cancer Letters 77 (1994) \n",
            "     163-171.\n"
          ],
          "name": "stdout"
        }
      ]
    },
    {
      "cell_type": "markdown",
      "metadata": {
        "id": "cjACU3V-xphH"
      },
      "source": [
        "212개의 데이터가 악성(Malignancy)이고 357개의 데이터가 양성(Benign)입니다.  \n",
        "양성과 악성이 많이 헷갈리는데 악성이 암이라고 합니다!\n",
        "\n",
        "Dr. William H. Wolberg씨가 데이터를 만들었네요"
      ]
    },
    {
      "cell_type": "markdown",
      "metadata": {
        "id": "L600iopDB7Xo"
      },
      "source": [
        "## 2.Train, Test 데이터 분리"
      ]
    },
    {
      "cell_type": "code",
      "metadata": {
        "colab": {
          "base_uri": "https://localhost:8080/"
        },
        "id": "LKWHFHzhvYVE",
        "outputId": "d2e3b6d8-43dc-41e9-bc3f-b8190aa92aab"
      },
      "source": [
        "X_train, X_test, y_train, y_test = train_test_split(breast_cancer_data, \n",
        "                                                    breast_cancer_label, \n",
        "                                                    test_size=0.2, \n",
        "                                                    random_state=7)\n",
        "\n",
        "print('X_train 개수: ', len(X_train), ', X_test 개수: ', len(X_test))"
      ],
      "execution_count": 23,
      "outputs": [
        {
          "output_type": "stream",
          "text": [
            "X_train 개수:  455 , X_test 개수:  114\n"
          ],
          "name": "stdout"
        }
      ]
    },
    {
      "cell_type": "markdown",
      "metadata": {
        "id": "oiLo3wz7CAfk"
      },
      "source": [
        "## 3.학습 시키기"
      ]
    },
    {
      "cell_type": "code",
      "metadata": {
        "id": "axb45XFbvYzv"
      },
      "source": [
        "y_pred_1, y_pred_2, y_pred_3, y_pred_4, y_pred_5 = five_model_train(X_train, y_train)"
      ],
      "execution_count": 24,
      "outputs": []
    },
    {
      "cell_type": "markdown",
      "metadata": {
        "id": "RyLDuIRZCGnS"
      },
      "source": [
        "## 4.모델 평가"
      ]
    },
    {
      "cell_type": "markdown",
      "metadata": {
        "id": "lpLhT71n0Ddh"
      },
      "source": [
        "암을 진단하는 경우에는 환자가 환자가 아니라고 판단해버리면 안되기 때문에 (FT가 낮아야 한다) __recall__로 모델 성능 평가를 하겠습니다."
      ]
    },
    {
      "cell_type": "code",
      "metadata": {
        "colab": {
          "base_uri": "https://localhost:8080/"
        },
        "id": "u61tWCRFz-xT",
        "outputId": "1ab11469-cb15-4d03-d099-d2ce3a0ae96c"
      },
      "source": [
        "#average : {‘micro’, ‘macro’, ‘samples’,’weighted’, ‘binary’} default = 'binary'\n",
        "print(\"Decision Tree : \", recall_score(y_test, y_pred_1, average = 'micro'))\n",
        "print(\"Random Forest : \", recall_score(y_test, y_pred_2, average = 'micro'))\n",
        "print(\"SVM : \", recall_score(y_test, y_pred_3, average = 'micro'))\n",
        "print(\"SGD : \", recall_score(y_test, y_pred_4, average = 'micro'))\n",
        "print(\"Logistic Regression : \", recall_score(y_test, y_pred_5, average = 'micro'))"
      ],
      "execution_count": 25,
      "outputs": [
        {
          "output_type": "stream",
          "text": [
            "Decision Tree :  0.9122807017543859\n",
            "Random Forest :  1.0\n",
            "SVM :  0.9035087719298246\n",
            "SGD :  0.8947368421052632\n",
            "Logistic Regression :  0.9473684210526315\n"
          ],
          "name": "stdout"
        }
      ]
    },
    {
      "cell_type": "markdown",
      "metadata": {
        "id": "DVzr4U2Wy95f"
      },
      "source": [
        "성능이 대부분 잘나오는 것을 확인 할 수 있습니다.  \n",
        "젤 좋은 성능은 __RF__로 1이라는 아주 높은 성능을 보여주고 있습니다  \n",
        "SGD는 여기서도 젤 안좋은 성능을 보이고 있습니다."
      ]
    },
    {
      "cell_type": "markdown",
      "metadata": {
        "id": "tnlBTIY-lYUq"
      },
      "source": [
        "---"
      ]
    },
    {
      "cell_type": "markdown",
      "metadata": {
        "id": "C-iRqd8hztBj"
      },
      "source": [
        "와인데이터가 너무 작은 탓이엿을까 svm과 sgd의 성능이 매우 낮게 나왔습니다. 그래서 몇가지 시도를 해보고자 합니다!!"
      ]
    },
    {
      "cell_type": "markdown",
      "metadata": {
        "id": "BaY_upyat7DB"
      },
      "source": [
        "# +$\\alpha$ : SVM 스케일링\n",
        "SVM 스캐일링 \n"
      ]
    },
    {
      "cell_type": "code",
      "metadata": {
        "id": "ubxRbb-BNUIw"
      },
      "source": [
        "scaler = StandardScaler()\n",
        "X_train = scaler.fit_transform(X_train.astype(np.float64))\n",
        "X_test  = scaler.fit_transform(X_test.astype(np.float64))"
      ],
      "execution_count": 26,
      "outputs": []
    },
    {
      "cell_type": "markdown",
      "metadata": {
        "id": "1vV8tLIKRluO"
      },
      "source": [
        "# +$\\alpha$ : SGD\n",
        "SVM 스캐일링 \n"
      ]
    },
    {
      "cell_type": "code",
      "metadata": {
        "id": "P2_pYaIrRlGn"
      },
      "source": [
        ""
      ],
      "execution_count": null,
      "outputs": []
    },
    {
      "cell_type": "markdown",
      "metadata": {
        "id": "QVq5NM8flZf_"
      },
      "source": [
        "---"
      ]
    },
    {
      "cell_type": "markdown",
      "metadata": {
        "id": "_EUhOt57la-U"
      },
      "source": [
        "# 🤔회고록🤔\n",
        "- 기존에 있는 데이터 중에서 test를 하면 90%가 넘었지만 모델이 전혀 보지 못한 데이터들은 60%를 넘기는 것이 생각보다 너무 어려웠다.\n"
      ]
    }
  ]
}