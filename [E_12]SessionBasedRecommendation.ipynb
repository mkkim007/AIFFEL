{
 "cells": [
  {
   "cell_type": "markdown",
   "id": "laughing-trade",
   "metadata": {},
   "source": [
    "# [E-12 다음에 볼 영화 예측하기]"
   ]
  },
  {
   "cell_type": "markdown",
   "id": "owned-therapy",
   "metadata": {},
   "source": [
    "시간이 부족해서 깔끔하게 정리하지 못한점,, 미리 사과 드립니다."
   ]
  },
  {
   "cell_type": "markdown",
   "id": "impressed-asian",
   "metadata": {},
   "source": [
    "## 1. 데이터 불러오기"
   ]
  },
  {
   "cell_type": "code",
   "execution_count": 2,
   "id": "subject-palestinian",
   "metadata": {},
   "outputs": [],
   "source": [
    "import datetime as dt\n",
    "from pathlib import Path\n",
    "import os\n",
    "\n",
    "import numpy as np\n",
    "import pandas as pd\n",
    "import warnings\n",
    "\n",
    "warnings.filterwarnings('ignore')"
   ]
  },
  {
   "cell_type": "code",
   "execution_count": 27,
   "id": "aggregate-ecuador",
   "metadata": {},
   "outputs": [
    {
     "data": {
      "text/html": [
       "<div>\n",
       "<style scoped>\n",
       "    .dataframe tbody tr th:only-of-type {\n",
       "        vertical-align: middle;\n",
       "    }\n",
       "\n",
       "    .dataframe tbody tr th {\n",
       "        vertical-align: top;\n",
       "    }\n",
       "\n",
       "    .dataframe thead th {\n",
       "        text-align: right;\n",
       "    }\n",
       "</style>\n",
       "<table border=\"1\" class=\"dataframe\">\n",
       "  <thead>\n",
       "    <tr style=\"text-align: right;\">\n",
       "      <th></th>\n",
       "      <th>UserId</th>\n",
       "      <th>ItemId</th>\n",
       "      <th>Rating</th>\n",
       "      <th>Time</th>\n",
       "    </tr>\n",
       "  </thead>\n",
       "  <tbody>\n",
       "    <tr>\n",
       "      <th>31</th>\n",
       "      <td>1</td>\n",
       "      <td>3186</td>\n",
       "      <td>4</td>\n",
       "      <td>978300019</td>\n",
       "    </tr>\n",
       "    <tr>\n",
       "      <th>22</th>\n",
       "      <td>1</td>\n",
       "      <td>1270</td>\n",
       "      <td>5</td>\n",
       "      <td>978300055</td>\n",
       "    </tr>\n",
       "    <tr>\n",
       "      <th>27</th>\n",
       "      <td>1</td>\n",
       "      <td>1721</td>\n",
       "      <td>4</td>\n",
       "      <td>978300055</td>\n",
       "    </tr>\n",
       "    <tr>\n",
       "      <th>37</th>\n",
       "      <td>1</td>\n",
       "      <td>1022</td>\n",
       "      <td>5</td>\n",
       "      <td>978300055</td>\n",
       "    </tr>\n",
       "    <tr>\n",
       "      <th>24</th>\n",
       "      <td>1</td>\n",
       "      <td>2340</td>\n",
       "      <td>3</td>\n",
       "      <td>978300103</td>\n",
       "    </tr>\n",
       "    <tr>\n",
       "      <th>...</th>\n",
       "      <td>...</td>\n",
       "      <td>...</td>\n",
       "      <td>...</td>\n",
       "      <td>...</td>\n",
       "    </tr>\n",
       "    <tr>\n",
       "      <th>1000019</th>\n",
       "      <td>6040</td>\n",
       "      <td>2917</td>\n",
       "      <td>4</td>\n",
       "      <td>997454429</td>\n",
       "    </tr>\n",
       "    <tr>\n",
       "      <th>999988</th>\n",
       "      <td>6040</td>\n",
       "      <td>1921</td>\n",
       "      <td>4</td>\n",
       "      <td>997454464</td>\n",
       "    </tr>\n",
       "    <tr>\n",
       "      <th>1000172</th>\n",
       "      <td>6040</td>\n",
       "      <td>1784</td>\n",
       "      <td>3</td>\n",
       "      <td>997454464</td>\n",
       "    </tr>\n",
       "    <tr>\n",
       "      <th>1000167</th>\n",
       "      <td>6040</td>\n",
       "      <td>161</td>\n",
       "      <td>3</td>\n",
       "      <td>997454486</td>\n",
       "    </tr>\n",
       "    <tr>\n",
       "      <th>1000042</th>\n",
       "      <td>6040</td>\n",
       "      <td>1221</td>\n",
       "      <td>4</td>\n",
       "      <td>998315055</td>\n",
       "    </tr>\n",
       "  </tbody>\n",
       "</table>\n",
       "<p>1000209 rows × 4 columns</p>\n",
       "</div>"
      ],
      "text/plain": [
       "         UserId  ItemId  Rating       Time\n",
       "31            1    3186       4  978300019\n",
       "22            1    1270       5  978300055\n",
       "27            1    1721       4  978300055\n",
       "37            1    1022       5  978300055\n",
       "24            1    2340       3  978300103\n",
       "...         ...     ...     ...        ...\n",
       "1000019    6040    2917       4  997454429\n",
       "999988     6040    1921       4  997454464\n",
       "1000172    6040    1784       3  997454464\n",
       "1000167    6040     161       3  997454486\n",
       "1000042    6040    1221       4  998315055\n",
       "\n",
       "[1000209 rows x 4 columns]"
      ]
     },
     "execution_count": 27,
     "metadata": {},
     "output_type": "execute_result"
    }
   ],
   "source": [
    "data_path = Path(os.getenv('HOME')+'/aiffel/yoochoose/data/') \n",
    "train_path = data_path / 'ratings.dat'\n",
    "\n",
    "def load_data(data_path: Path, nrows=None):\n",
    "    data = pd.read_csv(data_path, sep='::', header=None, usecols=[0, 1, 2, 3], dtype={0: np.int32, 1: np.int32, 2: np.int32}, nrows=nrows)\n",
    "    data.columns = ['UserId', 'ItemId', 'Rating', 'Time']\n",
    "    return data\n",
    "\n",
    "data = load_data(train_path, None)\n",
    "data.sort_values(['UserId', 'Time'], inplace=True)  # data를 id와 시간 순서로 정렬해줍니다.\n",
    "data"
   ]
  },
  {
   "cell_type": "markdown",
   "id": "invalid-filename",
   "metadata": {},
   "source": [
    "추천 시스템을 구축할때 가장 먼저 확인해 볼 것은 유저수와 아이템 수이다."
   ]
  },
  {
   "cell_type": "code",
   "execution_count": 28,
   "id": "aggressive-citizen",
   "metadata": {},
   "outputs": [
    {
     "name": "stdout",
     "output_type": "stream",
     "text": [
      "6040 3706\n"
     ]
    }
   ],
   "source": [
    "print(data['UserId'].nunique(), data['ItemId'].nunique())"
   ]
  },
  {
   "cell_type": "markdown",
   "id": "regional-thomson",
   "metadata": {},
   "source": [
    "유저 수는 6040명, 아이템 숫자는 3706개이다."
   ]
  },
  {
   "cell_type": "markdown",
   "id": "limiting-france",
   "metadata": {},
   "source": [
    "## 2. 데이터 전처리"
   ]
  },
  {
   "cell_type": "markdown",
   "id": "creative-italy",
   "metadata": {},
   "source": [
    "### 2.1 Session ID\n",
    "#### shift()를 이용한 session id 정의"
   ]
  },
  {
   "cell_type": "code",
   "execution_count": 4,
   "id": "concrete-savings",
   "metadata": {},
   "outputs": [
    {
     "data": {
      "text/html": [
       "<div>\n",
       "<style scoped>\n",
       "    .dataframe tbody tr th:only-of-type {\n",
       "        vertical-align: middle;\n",
       "    }\n",
       "\n",
       "    .dataframe tbody tr th {\n",
       "        vertical-align: top;\n",
       "    }\n",
       "\n",
       "    .dataframe thead th {\n",
       "        text-align: right;\n",
       "    }\n",
       "</style>\n",
       "<table border=\"1\" class=\"dataframe\">\n",
       "  <thead>\n",
       "    <tr style=\"text-align: right;\">\n",
       "      <th></th>\n",
       "      <th>UserId</th>\n",
       "      <th>ItemId</th>\n",
       "      <th>Rating</th>\n",
       "      <th>Time</th>\n",
       "      <th>delta</th>\n",
       "    </tr>\n",
       "  </thead>\n",
       "  <tbody>\n",
       "    <tr>\n",
       "      <th>31</th>\n",
       "      <td>1</td>\n",
       "      <td>3186</td>\n",
       "      <td>4</td>\n",
       "      <td>2000-12-31 22:00:19</td>\n",
       "      <td>0 days 00:00:00</td>\n",
       "    </tr>\n",
       "    <tr>\n",
       "      <th>22</th>\n",
       "      <td>1</td>\n",
       "      <td>1270</td>\n",
       "      <td>5</td>\n",
       "      <td>2000-12-31 22:00:55</td>\n",
       "      <td>0 days 00:00:36</td>\n",
       "    </tr>\n",
       "    <tr>\n",
       "      <th>27</th>\n",
       "      <td>1</td>\n",
       "      <td>1721</td>\n",
       "      <td>4</td>\n",
       "      <td>2000-12-31 22:00:55</td>\n",
       "      <td>0 days 00:00:00</td>\n",
       "    </tr>\n",
       "    <tr>\n",
       "      <th>37</th>\n",
       "      <td>1</td>\n",
       "      <td>1022</td>\n",
       "      <td>5</td>\n",
       "      <td>2000-12-31 22:00:55</td>\n",
       "      <td>0 days 00:00:00</td>\n",
       "    </tr>\n",
       "    <tr>\n",
       "      <th>24</th>\n",
       "      <td>1</td>\n",
       "      <td>2340</td>\n",
       "      <td>3</td>\n",
       "      <td>2000-12-31 22:01:43</td>\n",
       "      <td>0 days 00:00:48</td>\n",
       "    </tr>\n",
       "    <tr>\n",
       "      <th>...</th>\n",
       "      <td>...</td>\n",
       "      <td>...</td>\n",
       "      <td>...</td>\n",
       "      <td>...</td>\n",
       "      <td>...</td>\n",
       "    </tr>\n",
       "    <tr>\n",
       "      <th>1000019</th>\n",
       "      <td>6040</td>\n",
       "      <td>2917</td>\n",
       "      <td>4</td>\n",
       "      <td>2001-08-10 14:40:29</td>\n",
       "      <td>0 days 00:00:31</td>\n",
       "    </tr>\n",
       "    <tr>\n",
       "      <th>999988</th>\n",
       "      <td>6040</td>\n",
       "      <td>1921</td>\n",
       "      <td>4</td>\n",
       "      <td>2001-08-10 14:41:04</td>\n",
       "      <td>0 days 00:00:35</td>\n",
       "    </tr>\n",
       "    <tr>\n",
       "      <th>1000172</th>\n",
       "      <td>6040</td>\n",
       "      <td>1784</td>\n",
       "      <td>3</td>\n",
       "      <td>2001-08-10 14:41:04</td>\n",
       "      <td>0 days 00:00:00</td>\n",
       "    </tr>\n",
       "    <tr>\n",
       "      <th>1000167</th>\n",
       "      <td>6040</td>\n",
       "      <td>161</td>\n",
       "      <td>3</td>\n",
       "      <td>2001-08-10 14:41:26</td>\n",
       "      <td>0 days 00:00:22</td>\n",
       "    </tr>\n",
       "    <tr>\n",
       "      <th>1000042</th>\n",
       "      <td>6040</td>\n",
       "      <td>1221</td>\n",
       "      <td>4</td>\n",
       "      <td>2001-08-20 13:44:15</td>\n",
       "      <td>9 days 23:02:49</td>\n",
       "    </tr>\n",
       "  </tbody>\n",
       "</table>\n",
       "<p>1000209 rows × 5 columns</p>\n",
       "</div>"
      ],
      "text/plain": [
       "         UserId  ItemId  Rating                Time           delta\n",
       "31            1    3186       4 2000-12-31 22:00:19 0 days 00:00:00\n",
       "22            1    1270       5 2000-12-31 22:00:55 0 days 00:00:36\n",
       "27            1    1721       4 2000-12-31 22:00:55 0 days 00:00:00\n",
       "37            1    1022       5 2000-12-31 22:00:55 0 days 00:00:00\n",
       "24            1    2340       3 2000-12-31 22:01:43 0 days 00:00:48\n",
       "...         ...     ...     ...                 ...             ...\n",
       "1000019    6040    2917       4 2001-08-10 14:40:29 0 days 00:00:31\n",
       "999988     6040    1921       4 2001-08-10 14:41:04 0 days 00:00:35\n",
       "1000172    6040    1784       3 2001-08-10 14:41:04 0 days 00:00:00\n",
       "1000167    6040     161       3 2001-08-10 14:41:26 0 days 00:00:22\n",
       "1000042    6040    1221       4 2001-08-20 13:44:15 9 days 23:02:49\n",
       "\n",
       "[1000209 rows x 5 columns]"
      ]
     },
     "execution_count": 4,
     "metadata": {},
     "output_type": "execute_result"
    }
   ],
   "source": [
    "from datetime import datetime\n",
    "data['Time'] = data['Time'].map(lambda x: datetime.fromtimestamp(x))\n",
    "data['delta'] = (data['Time'] - data['Time'].shift()).fillna(pd.Timedelta(seconds=0))\n",
    "data"
   ]
  },
  {
   "cell_type": "code",
   "execution_count": 24,
   "id": "numerous-circumstances",
   "metadata": {},
   "outputs": [],
   "source": [
    "from datetime import timedelta\n",
    "session_id = 0\n",
    "exuser = data.UserId[0]\n",
    "a = timedelta(minutes=30)\n",
    "\n",
    "def get_session_id(x) :\n",
    "    global session_id\n",
    "    global exuser \n",
    "    if (exuser != x['UserId']) or (x['delta'] > a):\n",
    "        session_id +=1\n",
    "    exuser = x['UserId']\n",
    "    return session_id"
   ]
  },
  {
   "cell_type": "code",
   "execution_count": 25,
   "id": "modern-amber",
   "metadata": {},
   "outputs": [
    {
     "data": {
      "text/html": [
       "<div>\n",
       "<style scoped>\n",
       "    .dataframe tbody tr th:only-of-type {\n",
       "        vertical-align: middle;\n",
       "    }\n",
       "\n",
       "    .dataframe tbody tr th {\n",
       "        vertical-align: top;\n",
       "    }\n",
       "\n",
       "    .dataframe thead th {\n",
       "        text-align: right;\n",
       "    }\n",
       "</style>\n",
       "<table border=\"1\" class=\"dataframe\">\n",
       "  <thead>\n",
       "    <tr style=\"text-align: right;\">\n",
       "      <th></th>\n",
       "      <th>UserId</th>\n",
       "      <th>ItemId</th>\n",
       "      <th>Rating</th>\n",
       "      <th>Time</th>\n",
       "      <th>delta</th>\n",
       "      <th>SessionId</th>\n",
       "    </tr>\n",
       "  </thead>\n",
       "  <tbody>\n",
       "    <tr>\n",
       "      <th>31</th>\n",
       "      <td>1</td>\n",
       "      <td>3186</td>\n",
       "      <td>4</td>\n",
       "      <td>2000-12-31 22:00:19</td>\n",
       "      <td>0 days 00:00:00</td>\n",
       "      <td>0</td>\n",
       "    </tr>\n",
       "    <tr>\n",
       "      <th>22</th>\n",
       "      <td>1</td>\n",
       "      <td>1270</td>\n",
       "      <td>5</td>\n",
       "      <td>2000-12-31 22:00:55</td>\n",
       "      <td>0 days 00:00:36</td>\n",
       "      <td>0</td>\n",
       "    </tr>\n",
       "    <tr>\n",
       "      <th>27</th>\n",
       "      <td>1</td>\n",
       "      <td>1721</td>\n",
       "      <td>4</td>\n",
       "      <td>2000-12-31 22:00:55</td>\n",
       "      <td>0 days 00:00:00</td>\n",
       "      <td>0</td>\n",
       "    </tr>\n",
       "    <tr>\n",
       "      <th>37</th>\n",
       "      <td>1</td>\n",
       "      <td>1022</td>\n",
       "      <td>5</td>\n",
       "      <td>2000-12-31 22:00:55</td>\n",
       "      <td>0 days 00:00:00</td>\n",
       "      <td>0</td>\n",
       "    </tr>\n",
       "    <tr>\n",
       "      <th>24</th>\n",
       "      <td>1</td>\n",
       "      <td>2340</td>\n",
       "      <td>3</td>\n",
       "      <td>2000-12-31 22:01:43</td>\n",
       "      <td>0 days 00:00:48</td>\n",
       "      <td>0</td>\n",
       "    </tr>\n",
       "    <tr>\n",
       "      <th>...</th>\n",
       "      <td>...</td>\n",
       "      <td>...</td>\n",
       "      <td>...</td>\n",
       "      <td>...</td>\n",
       "      <td>...</td>\n",
       "      <td>...</td>\n",
       "    </tr>\n",
       "    <tr>\n",
       "      <th>1000019</th>\n",
       "      <td>6040</td>\n",
       "      <td>2917</td>\n",
       "      <td>4</td>\n",
       "      <td>2001-08-10 14:40:29</td>\n",
       "      <td>0 days 00:00:31</td>\n",
       "      <td>25161</td>\n",
       "    </tr>\n",
       "    <tr>\n",
       "      <th>999988</th>\n",
       "      <td>6040</td>\n",
       "      <td>1921</td>\n",
       "      <td>4</td>\n",
       "      <td>2001-08-10 14:41:04</td>\n",
       "      <td>0 days 00:00:35</td>\n",
       "      <td>25161</td>\n",
       "    </tr>\n",
       "    <tr>\n",
       "      <th>1000172</th>\n",
       "      <td>6040</td>\n",
       "      <td>1784</td>\n",
       "      <td>3</td>\n",
       "      <td>2001-08-10 14:41:04</td>\n",
       "      <td>0 days 00:00:00</td>\n",
       "      <td>25161</td>\n",
       "    </tr>\n",
       "    <tr>\n",
       "      <th>1000167</th>\n",
       "      <td>6040</td>\n",
       "      <td>161</td>\n",
       "      <td>3</td>\n",
       "      <td>2001-08-10 14:41:26</td>\n",
       "      <td>0 days 00:00:22</td>\n",
       "      <td>25161</td>\n",
       "    </tr>\n",
       "    <tr>\n",
       "      <th>1000042</th>\n",
       "      <td>6040</td>\n",
       "      <td>1221</td>\n",
       "      <td>4</td>\n",
       "      <td>2001-08-20 13:44:15</td>\n",
       "      <td>9 days 23:02:49</td>\n",
       "      <td>25162</td>\n",
       "    </tr>\n",
       "  </tbody>\n",
       "</table>\n",
       "<p>1000209 rows × 6 columns</p>\n",
       "</div>"
      ],
      "text/plain": [
       "         UserId  ItemId  Rating                Time           delta  SessionId\n",
       "31            1    3186       4 2000-12-31 22:00:19 0 days 00:00:00          0\n",
       "22            1    1270       5 2000-12-31 22:00:55 0 days 00:00:36          0\n",
       "27            1    1721       4 2000-12-31 22:00:55 0 days 00:00:00          0\n",
       "37            1    1022       5 2000-12-31 22:00:55 0 days 00:00:00          0\n",
       "24            1    2340       3 2000-12-31 22:01:43 0 days 00:00:48          0\n",
       "...         ...     ...     ...                 ...             ...        ...\n",
       "1000019    6040    2917       4 2001-08-10 14:40:29 0 days 00:00:31      25161\n",
       "999988     6040    1921       4 2001-08-10 14:41:04 0 days 00:00:35      25161\n",
       "1000172    6040    1784       3 2001-08-10 14:41:04 0 days 00:00:00      25161\n",
       "1000167    6040     161       3 2001-08-10 14:41:26 0 days 00:00:22      25161\n",
       "1000042    6040    1221       4 2001-08-20 13:44:15 9 days 23:02:49      25162\n",
       "\n",
       "[1000209 rows x 6 columns]"
      ]
     },
     "execution_count": 25,
     "metadata": {},
     "output_type": "execute_result"
    }
   ],
   "source": [
    "data['SessionId'] = data.apply(get_session_id, axis=1)\n",
    "data"
   ]
  },
  {
   "cell_type": "markdown",
   "id": "outstanding-stylus",
   "metadata": {},
   "source": [
    "### 2.2 Session Length"
   ]
  },
  {
   "cell_type": "code",
   "execution_count": 26,
   "id": "demographic-packet",
   "metadata": {},
   "outputs": [
    {
     "data": {
      "text/plain": [
       "SessionId\n",
       "0         40\n",
       "1         13\n",
       "2        129\n",
       "3         51\n",
       "4         21\n",
       "        ... \n",
       "25158      7\n",
       "25159     14\n",
       "25160      1\n",
       "25161     21\n",
       "25162      1\n",
       "Length: 25163, dtype: int64"
      ]
     },
     "execution_count": 26,
     "metadata": {},
     "output_type": "execute_result"
    }
   ],
   "source": [
    "session_length = data.groupby('SessionId').size()\n",
    "session_length"
   ]
  },
  {
   "cell_type": "code",
   "execution_count": 27,
   "id": "indoor-ivory",
   "metadata": {
    "scrolled": false
   },
   "outputs": [
    {
     "data": {
      "text/plain": [
       "(6.0, 39.74919524698963)"
      ]
     },
     "execution_count": 27,
     "metadata": {},
     "output_type": "execute_result"
    }
   ],
   "source": [
    "session_length.median(), session_length.mean()"
   ]
  },
  {
   "cell_type": "code",
   "execution_count": 35,
   "id": "distinguished-shadow",
   "metadata": {},
   "outputs": [
    {
     "data": {
      "text/plain": [
       "(1, 1193)"
      ]
     },
     "execution_count": 35,
     "metadata": {},
     "output_type": "execute_result"
    }
   ],
   "source": [
    "session_length.min(), session_length.max()"
   ]
  },
  {
   "cell_type": "code",
   "execution_count": 36,
   "id": "prostate-official",
   "metadata": {},
   "outputs": [
    {
     "data": {
      "text/plain": [
       "764.3520000000135"
      ]
     },
     "execution_count": 36,
     "metadata": {},
     "output_type": "execute_result"
    }
   ],
   "source": [
    "session_length.quantile(0.999)"
   ]
  },
  {
   "cell_type": "markdown",
   "id": "marked-objective",
   "metadata": {},
   "source": [
    "평균 세션의 길이는 39 이고, 99.9% 세션은 길이가 764이하 이다.  \n",
    "그러나 최대 세션은 1193으로 아주 길다.. 한번 데이터를 살펴보자"
   ]
  },
  {
   "cell_type": "code",
   "execution_count": 37,
   "id": "alone-programmer",
   "metadata": {},
   "outputs": [
    {
     "data": {
      "text/html": [
       "<div>\n",
       "<style scoped>\n",
       "    .dataframe tbody tr th:only-of-type {\n",
       "        vertical-align: middle;\n",
       "    }\n",
       "\n",
       "    .dataframe tbody tr th {\n",
       "        vertical-align: top;\n",
       "    }\n",
       "\n",
       "    .dataframe thead th {\n",
       "        text-align: right;\n",
       "    }\n",
       "</style>\n",
       "<table border=\"1\" class=\"dataframe\">\n",
       "  <thead>\n",
       "    <tr style=\"text-align: right;\">\n",
       "      <th></th>\n",
       "      <th>UserId</th>\n",
       "      <th>ItemId</th>\n",
       "      <th>Rating</th>\n",
       "      <th>Time</th>\n",
       "      <th>delta</th>\n",
       "      <th>SessionId</th>\n",
       "    </tr>\n",
       "  </thead>\n",
       "  <tbody>\n",
       "    <tr>\n",
       "      <th>637775</th>\n",
       "      <td>3841</td>\n",
       "      <td>1480</td>\n",
       "      <td>3</td>\n",
       "      <td>2000-08-11 11:57:39</td>\n",
       "      <td>0 days 21:58:11</td>\n",
       "      <td>16445</td>\n",
       "    </tr>\n",
       "    <tr>\n",
       "      <th>637808</th>\n",
       "      <td>3841</td>\n",
       "      <td>969</td>\n",
       "      <td>5</td>\n",
       "      <td>2000-08-11 11:57:39</td>\n",
       "      <td>0 days 00:00:00</td>\n",
       "      <td>16445</td>\n",
       "    </tr>\n",
       "    <tr>\n",
       "      <th>638269</th>\n",
       "      <td>3841</td>\n",
       "      <td>858</td>\n",
       "      <td>5</td>\n",
       "      <td>2000-08-11 11:57:39</td>\n",
       "      <td>0 days 00:00:00</td>\n",
       "      <td>16445</td>\n",
       "    </tr>\n",
       "    <tr>\n",
       "      <th>638716</th>\n",
       "      <td>3841</td>\n",
       "      <td>2019</td>\n",
       "      <td>5</td>\n",
       "      <td>2000-08-11 11:57:39</td>\n",
       "      <td>0 days 00:00:00</td>\n",
       "      <td>16445</td>\n",
       "    </tr>\n",
       "    <tr>\n",
       "      <th>638733</th>\n",
       "      <td>3841</td>\n",
       "      <td>1221</td>\n",
       "      <td>5</td>\n",
       "      <td>2000-08-11 11:57:39</td>\n",
       "      <td>0 days 00:00:00</td>\n",
       "      <td>16445</td>\n",
       "    </tr>\n",
       "    <tr>\n",
       "      <th>...</th>\n",
       "      <td>...</td>\n",
       "      <td>...</td>\n",
       "      <td>...</td>\n",
       "      <td>...</td>\n",
       "      <td>...</td>\n",
       "      <td>...</td>\n",
       "    </tr>\n",
       "    <tr>\n",
       "      <th>638038</th>\n",
       "      <td>3841</td>\n",
       "      <td>3806</td>\n",
       "      <td>5</td>\n",
       "      <td>2000-08-11 14:23:11</td>\n",
       "      <td>0 days 00:00:00</td>\n",
       "      <td>16445</td>\n",
       "    </tr>\n",
       "    <tr>\n",
       "      <th>638243</th>\n",
       "      <td>3841</td>\n",
       "      <td>1379</td>\n",
       "      <td>2</td>\n",
       "      <td>2000-08-11 14:23:11</td>\n",
       "      <td>0 days 00:00:00</td>\n",
       "      <td>16445</td>\n",
       "    </tr>\n",
       "    <tr>\n",
       "      <th>638459</th>\n",
       "      <td>3841</td>\n",
       "      <td>1928</td>\n",
       "      <td>4</td>\n",
       "      <td>2000-08-11 14:23:11</td>\n",
       "      <td>0 days 00:00:00</td>\n",
       "      <td>16445</td>\n",
       "    </tr>\n",
       "    <tr>\n",
       "      <th>638710</th>\n",
       "      <td>3841</td>\n",
       "      <td>2016</td>\n",
       "      <td>3</td>\n",
       "      <td>2000-08-11 14:23:11</td>\n",
       "      <td>0 days 00:00:00</td>\n",
       "      <td>16445</td>\n",
       "    </tr>\n",
       "    <tr>\n",
       "      <th>638112</th>\n",
       "      <td>3841</td>\n",
       "      <td>487</td>\n",
       "      <td>3</td>\n",
       "      <td>2000-08-11 14:23:23</td>\n",
       "      <td>0 days 00:00:12</td>\n",
       "      <td>16445</td>\n",
       "    </tr>\n",
       "  </tbody>\n",
       "</table>\n",
       "<p>1193 rows × 6 columns</p>\n",
       "</div>"
      ],
      "text/plain": [
       "        UserId  ItemId  Rating                Time           delta  SessionId\n",
       "637775    3841    1480       3 2000-08-11 11:57:39 0 days 21:58:11      16445\n",
       "637808    3841     969       5 2000-08-11 11:57:39 0 days 00:00:00      16445\n",
       "638269    3841     858       5 2000-08-11 11:57:39 0 days 00:00:00      16445\n",
       "638716    3841    2019       5 2000-08-11 11:57:39 0 days 00:00:00      16445\n",
       "638733    3841    1221       5 2000-08-11 11:57:39 0 days 00:00:00      16445\n",
       "...        ...     ...     ...                 ...             ...        ...\n",
       "638038    3841    3806       5 2000-08-11 14:23:11 0 days 00:00:00      16445\n",
       "638243    3841    1379       2 2000-08-11 14:23:11 0 days 00:00:00      16445\n",
       "638459    3841    1928       4 2000-08-11 14:23:11 0 days 00:00:00      16445\n",
       "638710    3841    2016       3 2000-08-11 14:23:11 0 days 00:00:00      16445\n",
       "638112    3841     487       3 2000-08-11 14:23:23 0 days 00:00:12      16445\n",
       "\n",
       "[1193 rows x 6 columns]"
      ]
     },
     "execution_count": 37,
     "metadata": {},
     "output_type": "execute_result"
    }
   ],
   "source": [
    "long_session = session_length[session_length==1193].index[0]\n",
    "data[data['SessionId']==long_session]"
   ]
  },
  {
   "cell_type": "markdown",
   "id": "relevant-harvey",
   "metadata": {},
   "source": [
    "이 사람은 거의 2시간 반동안 엄첨 짧게 많은 것 클릭했다. 평점을 주는건데 이렇게 빠르게 많이 할 수있는가,,?  \n",
    "이상하다고 생각해서 너무 긴 세션은 없애 주기로한다. (cleansing)"
   ]
  },
  {
   "cell_type": "markdown",
   "id": "expressed-monkey",
   "metadata": {},
   "source": [
    "### 2.3 Session Time"
   ]
  },
  {
   "cell_type": "code",
   "execution_count": 38,
   "id": "operational-sphere",
   "metadata": {},
   "outputs": [
    {
     "name": "stdout",
     "output_type": "stream",
     "text": [
      "2000-04-25 23:05:32\n",
      "2003-02-28 17:49:50\n"
     ]
    }
   ],
   "source": [
    "oldest, latest = data['Time'].min(), data['Time'].max()\n",
    "print(oldest) \n",
    "print(latest)"
   ]
  },
  {
   "cell_type": "markdown",
   "id": "aware-marble",
   "metadata": {},
   "source": [
    "3년치 데이터가 있다! 그중 일년치 데이터만 써보자"
   ]
  },
  {
   "cell_type": "code",
   "execution_count": 40,
   "id": "abroad-marriage",
   "metadata": {},
   "outputs": [
    {
     "data": {
      "text/plain": [
       "pandas._libs.tslibs.timestamps.Timestamp"
      ]
     },
     "execution_count": 40,
     "metadata": {},
     "output_type": "execute_result"
    }
   ],
   "source": [
    "type(latest)"
   ]
  },
  {
   "cell_type": "code",
   "execution_count": 39,
   "id": "anonymous-klein",
   "metadata": {},
   "outputs": [
    {
     "data": {
      "text/html": [
       "<div>\n",
       "<style scoped>\n",
       "    .dataframe tbody tr th:only-of-type {\n",
       "        vertical-align: middle;\n",
       "    }\n",
       "\n",
       "    .dataframe tbody tr th {\n",
       "        vertical-align: top;\n",
       "    }\n",
       "\n",
       "    .dataframe thead th {\n",
       "        text-align: right;\n",
       "    }\n",
       "</style>\n",
       "<table border=\"1\" class=\"dataframe\">\n",
       "  <thead>\n",
       "    <tr style=\"text-align: right;\">\n",
       "      <th></th>\n",
       "      <th>UserId</th>\n",
       "      <th>ItemId</th>\n",
       "      <th>Rating</th>\n",
       "      <th>Time</th>\n",
       "      <th>delta</th>\n",
       "      <th>SessionId</th>\n",
       "    </tr>\n",
       "  </thead>\n",
       "  <tbody>\n",
       "    <tr>\n",
       "      <th>5170</th>\n",
       "      <td>36</td>\n",
       "      <td>1387</td>\n",
       "      <td>5</td>\n",
       "      <td>2002-03-12 03:46:59</td>\n",
       "      <td>37 days 00:05:22</td>\n",
       "      <td>85</td>\n",
       "    </tr>\n",
       "    <tr>\n",
       "      <th>5267</th>\n",
       "      <td>36</td>\n",
       "      <td>1201</td>\n",
       "      <td>4</td>\n",
       "      <td>2002-03-12 03:46:59</td>\n",
       "      <td>0 days 00:00:00</td>\n",
       "      <td>85</td>\n",
       "    </tr>\n",
       "    <tr>\n",
       "      <th>5122</th>\n",
       "      <td>36</td>\n",
       "      <td>1291</td>\n",
       "      <td>5</td>\n",
       "      <td>2002-03-12 03:47:16</td>\n",
       "      <td>0 days 00:00:17</td>\n",
       "      <td>85</td>\n",
       "    </tr>\n",
       "    <tr>\n",
       "      <th>5123</th>\n",
       "      <td>36</td>\n",
       "      <td>2167</td>\n",
       "      <td>5</td>\n",
       "      <td>2002-03-12 03:48:25</td>\n",
       "      <td>0 days 00:01:09</td>\n",
       "      <td>85</td>\n",
       "    </tr>\n",
       "    <tr>\n",
       "      <th>5290</th>\n",
       "      <td>36</td>\n",
       "      <td>2951</td>\n",
       "      <td>4</td>\n",
       "      <td>2002-03-12 03:48:25</td>\n",
       "      <td>0 days 00:00:00</td>\n",
       "      <td>85</td>\n",
       "    </tr>\n",
       "    <tr>\n",
       "      <th>...</th>\n",
       "      <td>...</td>\n",
       "      <td>...</td>\n",
       "      <td>...</td>\n",
       "      <td>...</td>\n",
       "      <td>...</td>\n",
       "      <td>...</td>\n",
       "    </tr>\n",
       "    <tr>\n",
       "      <th>992358</th>\n",
       "      <td>5996</td>\n",
       "      <td>3835</td>\n",
       "      <td>3</td>\n",
       "      <td>2002-04-29 20:46:24</td>\n",
       "      <td>0 days 00:13:12</td>\n",
       "      <td>25050</td>\n",
       "    </tr>\n",
       "    <tr>\n",
       "      <th>992279</th>\n",
       "      <td>5996</td>\n",
       "      <td>2422</td>\n",
       "      <td>3</td>\n",
       "      <td>2002-04-29 20:47:05</td>\n",
       "      <td>0 days 00:00:41</td>\n",
       "      <td>25050</td>\n",
       "    </tr>\n",
       "    <tr>\n",
       "      <th>992702</th>\n",
       "      <td>5996</td>\n",
       "      <td>168</td>\n",
       "      <td>3</td>\n",
       "      <td>2002-09-03 13:12:26</td>\n",
       "      <td>126 days 16:25:21</td>\n",
       "      <td>25051</td>\n",
       "    </tr>\n",
       "    <tr>\n",
       "      <th>992459</th>\n",
       "      <td>5996</td>\n",
       "      <td>339</td>\n",
       "      <td>4</td>\n",
       "      <td>2002-10-07 13:24:39</td>\n",
       "      <td>34 days 00:12:13</td>\n",
       "      <td>25052</td>\n",
       "    </tr>\n",
       "    <tr>\n",
       "      <th>992387</th>\n",
       "      <td>5996</td>\n",
       "      <td>3882</td>\n",
       "      <td>3</td>\n",
       "      <td>2002-11-04 16:55:55</td>\n",
       "      <td>28 days 03:31:16</td>\n",
       "      <td>25053</td>\n",
       "    </tr>\n",
       "  </tbody>\n",
       "</table>\n",
       "<p>21704 rows × 6 columns</p>\n",
       "</div>"
      ],
      "text/plain": [
       "        UserId  ItemId  Rating                Time             delta  \\\n",
       "5170        36    1387       5 2002-03-12 03:46:59  37 days 00:05:22   \n",
       "5267        36    1201       4 2002-03-12 03:46:59   0 days 00:00:00   \n",
       "5122        36    1291       5 2002-03-12 03:47:16   0 days 00:00:17   \n",
       "5123        36    2167       5 2002-03-12 03:48:25   0 days 00:01:09   \n",
       "5290        36    2951       4 2002-03-12 03:48:25   0 days 00:00:00   \n",
       "...        ...     ...     ...                 ...               ...   \n",
       "992358    5996    3835       3 2002-04-29 20:46:24   0 days 00:13:12   \n",
       "992279    5996    2422       3 2002-04-29 20:47:05   0 days 00:00:41   \n",
       "992702    5996     168       3 2002-09-03 13:12:26 126 days 16:25:21   \n",
       "992459    5996     339       4 2002-10-07 13:24:39  34 days 00:12:13   \n",
       "992387    5996    3882       3 2002-11-04 16:55:55  28 days 03:31:16   \n",
       "\n",
       "        SessionId  \n",
       "5170           85  \n",
       "5267           85  \n",
       "5122           85  \n",
       "5123           85  \n",
       "5290           85  \n",
       "...           ...  \n",
       "992358      25050  \n",
       "992279      25050  \n",
       "992702      25051  \n",
       "992459      25052  \n",
       "992387      25053  \n",
       "\n",
       "[21704 rows x 6 columns]"
      ]
     },
     "execution_count": 39,
     "metadata": {},
     "output_type": "execute_result"
    }
   ],
   "source": [
    "month_ago = latest - dt.timedelta(days=365)     # 최종 날짜로부터 365일 이전 날짜를 구한다.  \n",
    "data = data[data['Time'] > month_ago]   # 방금 구한 날짜 이후의 데이터만 모은다. \n",
    "data"
   ]
  },
  {
   "cell_type": "markdown",
   "id": "increased-jerusalem",
   "metadata": {},
   "source": [
    "### 2.4 Data Cleansing"
   ]
  },
  {
   "cell_type": "code",
   "execution_count": 45,
   "id": "generic-northern",
   "metadata": {},
   "outputs": [],
   "source": [
    "# short_session을 제거한 다음 unpopular item을 제거하면 다시 길이가 1인 session이 생길 수 있습니다.\n",
    "# 이를 위해 반복문을 통해 지속적으로 제거 합니다.\n",
    "# + 너무 긴 session도 제거 해주겠습니다.\n",
    "def cleanse_recursive(data: pd.DataFrame, shortest, logest, least_click) -> pd.DataFrame:\n",
    "    while True:\n",
    "        before_len = len(data)\n",
    "        data = cleanse_short_session(data, shortest)\n",
    "        data = cleanse_long_session(data, logest)\n",
    "        data = cleanse_unpopular_item(data, least_click)\n",
    "        after_len = len(data)\n",
    "        if before_len == after_len:\n",
    "            break\n",
    "    return data\n",
    "\n",
    "\n",
    "def cleanse_short_session(data: pd.DataFrame, shortest):\n",
    "    session_len = data.groupby('SessionId').size()\n",
    "    session_use = session_len[session_len >= shortest].index\n",
    "    data = data[data['SessionId'].isin(session_use)]\n",
    "    return data\n",
    "\n",
    "def cleanse_long_session(data: pd.DataFrame, logest):\n",
    "    session_len = data.groupby('SessionId').size()\n",
    "    session_use = session_len[session_len <= logest].index\n",
    "    data = data[data['SessionId'].isin(session_use)]\n",
    "    return data\n",
    "\n",
    "\n",
    "def cleanse_unpopular_item(data: pd.DataFrame, least_click):\n",
    "    item_popular = data.groupby('ItemId').size()\n",
    "    item_use = item_popular[item_popular >= least_click].index\n",
    "    data = data[data['ItemId'].isin(item_use)]\n",
    "    return data"
   ]
  },
  {
   "cell_type": "code",
   "execution_count": 46,
   "id": "future-celebration",
   "metadata": {},
   "outputs": [
    {
     "data": {
      "text/html": [
       "<div>\n",
       "<style scoped>\n",
       "    .dataframe tbody tr th:only-of-type {\n",
       "        vertical-align: middle;\n",
       "    }\n",
       "\n",
       "    .dataframe tbody tr th {\n",
       "        vertical-align: top;\n",
       "    }\n",
       "\n",
       "    .dataframe thead th {\n",
       "        text-align: right;\n",
       "    }\n",
       "</style>\n",
       "<table border=\"1\" class=\"dataframe\">\n",
       "  <thead>\n",
       "    <tr style=\"text-align: right;\">\n",
       "      <th></th>\n",
       "      <th>UserId</th>\n",
       "      <th>ItemId</th>\n",
       "      <th>Rating</th>\n",
       "      <th>Time</th>\n",
       "      <th>delta</th>\n",
       "      <th>SessionId</th>\n",
       "    </tr>\n",
       "  </thead>\n",
       "  <tbody>\n",
       "    <tr>\n",
       "      <th>5122</th>\n",
       "      <td>36</td>\n",
       "      <td>1291</td>\n",
       "      <td>5</td>\n",
       "      <td>2002-03-12 03:47:16</td>\n",
       "      <td>0 days 00:00:17</td>\n",
       "      <td>85</td>\n",
       "    </tr>\n",
       "    <tr>\n",
       "      <th>5359</th>\n",
       "      <td>36</td>\n",
       "      <td>2115</td>\n",
       "      <td>5</td>\n",
       "      <td>2002-03-12 03:48:25</td>\n",
       "      <td>0 days 00:00:00</td>\n",
       "      <td>85</td>\n",
       "    </tr>\n",
       "    <tr>\n",
       "      <th>5222</th>\n",
       "      <td>36</td>\n",
       "      <td>296</td>\n",
       "      <td>5</td>\n",
       "      <td>2002-12-22 08:16:59</td>\n",
       "      <td>0 days 00:05:34</td>\n",
       "      <td>88</td>\n",
       "    </tr>\n",
       "    <tr>\n",
       "      <th>5062</th>\n",
       "      <td>36</td>\n",
       "      <td>1266</td>\n",
       "      <td>5</td>\n",
       "      <td>2002-12-22 08:18:29</td>\n",
       "      <td>0 days 00:00:41</td>\n",
       "      <td>88</td>\n",
       "    </tr>\n",
       "    <tr>\n",
       "      <th>5076</th>\n",
       "      <td>36</td>\n",
       "      <td>595</td>\n",
       "      <td>4</td>\n",
       "      <td>2002-12-22 08:18:29</td>\n",
       "      <td>0 days 00:00:00</td>\n",
       "      <td>88</td>\n",
       "    </tr>\n",
       "    <tr>\n",
       "      <th>...</th>\n",
       "      <td>...</td>\n",
       "      <td>...</td>\n",
       "      <td>...</td>\n",
       "      <td>...</td>\n",
       "      <td>...</td>\n",
       "      <td>...</td>\n",
       "    </tr>\n",
       "    <tr>\n",
       "      <th>992246</th>\n",
       "      <td>5996</td>\n",
       "      <td>3039</td>\n",
       "      <td>4</td>\n",
       "      <td>2002-04-29 19:46:04</td>\n",
       "      <td>0 days 00:01:07</td>\n",
       "      <td>25050</td>\n",
       "    </tr>\n",
       "    <tr>\n",
       "      <th>992203</th>\n",
       "      <td>5996</td>\n",
       "      <td>3791</td>\n",
       "      <td>3</td>\n",
       "      <td>2002-04-29 19:58:39</td>\n",
       "      <td>0 days 00:00:25</td>\n",
       "      <td>25050</td>\n",
       "    </tr>\n",
       "    <tr>\n",
       "      <th>992571</th>\n",
       "      <td>5996</td>\n",
       "      <td>3247</td>\n",
       "      <td>4</td>\n",
       "      <td>2002-04-29 20:05:17</td>\n",
       "      <td>0 days 00:00:00</td>\n",
       "      <td>25050</td>\n",
       "    </tr>\n",
       "    <tr>\n",
       "      <th>992355</th>\n",
       "      <td>5996</td>\n",
       "      <td>3826</td>\n",
       "      <td>1</td>\n",
       "      <td>2002-04-29 20:10:17</td>\n",
       "      <td>0 days 00:00:45</td>\n",
       "      <td>25050</td>\n",
       "    </tr>\n",
       "    <tr>\n",
       "      <th>992583</th>\n",
       "      <td>5996</td>\n",
       "      <td>2616</td>\n",
       "      <td>3</td>\n",
       "      <td>2002-04-29 20:16:15</td>\n",
       "      <td>0 days 00:02:34</td>\n",
       "      <td>25050</td>\n",
       "    </tr>\n",
       "  </tbody>\n",
       "</table>\n",
       "<p>3922 rows × 6 columns</p>\n",
       "</div>"
      ],
      "text/plain": [
       "        UserId  ItemId  Rating                Time           delta  SessionId\n",
       "5122        36    1291       5 2002-03-12 03:47:16 0 days 00:00:17         85\n",
       "5359        36    2115       5 2002-03-12 03:48:25 0 days 00:00:00         85\n",
       "5222        36     296       5 2002-12-22 08:16:59 0 days 00:05:34         88\n",
       "5062        36    1266       5 2002-12-22 08:18:29 0 days 00:00:41         88\n",
       "5076        36     595       4 2002-12-22 08:18:29 0 days 00:00:00         88\n",
       "...        ...     ...     ...                 ...             ...        ...\n",
       "992246    5996    3039       4 2002-04-29 19:46:04 0 days 00:01:07      25050\n",
       "992203    5996    3791       3 2002-04-29 19:58:39 0 days 00:00:25      25050\n",
       "992571    5996    3247       4 2002-04-29 20:05:17 0 days 00:00:00      25050\n",
       "992355    5996    3826       1 2002-04-29 20:10:17 0 days 00:00:45      25050\n",
       "992583    5996    2616       3 2002-04-29 20:16:15 0 days 00:02:34      25050\n",
       "\n",
       "[3922 rows x 6 columns]"
      ]
     },
     "execution_count": 46,
     "metadata": {},
     "output_type": "execute_result"
    }
   ],
   "source": [
    "data = cleanse_recursive(data, shortest=2, logest=700, least_click=20) # 형준님, 진아님 감사합니다(least_click 올리기)\n",
    "data"
   ]
  },
  {
   "cell_type": "code",
   "execution_count": 47,
   "id": "current-delay",
   "metadata": {},
   "outputs": [
    {
     "data": {
      "text/plain": [
       "Int64Index([], dtype='int64', name='SessionId')"
      ]
     },
     "execution_count": 47,
     "metadata": {},
     "output_type": "execute_result"
    }
   ],
   "source": [
    "session_len = data.groupby('SessionId').size()\n",
    "session_len[(session_len > 700)].index\n"
   ]
  },
  {
   "cell_type": "markdown",
   "id": "short-heart",
   "metadata": {},
   "source": [
    "### 2.5 Train/Valid/Test split"
   ]
  },
  {
   "cell_type": "code",
   "execution_count": 48,
   "id": "shaped-nerve",
   "metadata": {},
   "outputs": [],
   "source": [
    "def split_by_date(data: pd.DataFrame, n_days: int):\n",
    "    final_time = data['Time'].max()\n",
    "    session_last_time = data.groupby('SessionId')['Time'].max()\n",
    "    session_in_train = session_last_time[session_last_time < final_time - dt.timedelta(n_days)].index\n",
    "    session_in_test = session_last_time[session_last_time >= final_time - dt.timedelta(n_days)].index\n",
    "\n",
    "    before_date = data[data['SessionId'].isin(session_in_train)]\n",
    "    after_date = data[data['SessionId'].isin(session_in_test)]\n",
    "    after_date = after_date[after_date['ItemId'].isin(before_date['ItemId'])]\n",
    "    return before_date, after_date"
   ]
  },
  {
   "cell_type": "code",
   "execution_count": 49,
   "id": "individual-mexico",
   "metadata": {},
   "outputs": [],
   "source": [
    "tr, test = split_by_date(data, n_days=30)\n",
    "tr, val = split_by_date(tr, n_days=70)"
   ]
  },
  {
   "cell_type": "code",
   "execution_count": 50,
   "id": "common-review",
   "metadata": {},
   "outputs": [],
   "source": [
    "# data에 대한 정보를 살펴봅니다.\n",
    "def stats_info(data: pd.DataFrame, status: str):\n",
    "    print(f'* {status} Set Stats Info\\n'\n",
    "          f'\\t Events: {len(data)}\\n'\n",
    "          f'\\t Sessions: {data[\"SessionId\"].nunique()}\\n'\n",
    "          f'\\t Items: {data[\"ItemId\"].nunique()}\\n'\n",
    "          f'\\t First Time : {data[\"Time\"].min()}\\n'\n",
    "          f'\\t Last Time : {data[\"Time\"].max()}\\n')"
   ]
  },
  {
   "cell_type": "code",
   "execution_count": 51,
   "id": "native-lloyd",
   "metadata": {},
   "outputs": [
    {
     "name": "stdout",
     "output_type": "stream",
     "text": [
      "* train Set Stats Info\n",
      "\t Events: 2856\n",
      "\t Sessions: 429\n",
      "\t Items: 153\n",
      "\t First Time : 2002-02-28 19:06:39\n",
      "\t Last Time : 2002-11-17 18:13:16\n",
      "\n",
      "* valid Set Stats Info\n",
      "\t Events: 713\n",
      "\t Sessions: 115\n",
      "\t Items: 152\n",
      "\t First Time : 2002-11-17 20:56:25\n",
      "\t Last Time : 2003-01-26 18:45:41\n",
      "\n",
      "* test Set Stats Info\n",
      "\t Events: 353\n",
      "\t Sessions: 34\n",
      "\t Items: 138\n",
      "\t First Time : 2003-01-28 18:41:15\n",
      "\t Last Time : 2003-02-27 18:15:10\n",
      "\n"
     ]
    }
   ],
   "source": [
    "stats_info(tr, 'train')\n",
    "stats_info(val, 'valid')\n",
    "stats_info(test, 'test')"
   ]
  },
  {
   "cell_type": "code",
   "execution_count": 52,
   "id": "stupid-luxembourg",
   "metadata": {},
   "outputs": [],
   "source": [
    "# train set에 없는 아이템이 val, test기간에 생길 수 있으므로 train data를 기준으로 인덱싱합니다.\n",
    "id2idx = {item_id : index for index, item_id in enumerate(tr['ItemId'].unique())}\n",
    "\n",
    "def indexing(df, id2idx):\n",
    "    df['item_idx'] = df['ItemId'].map(lambda x: id2idx.get(x, -1))  # id2idx에 없는 아이템은 모르는 값(-1) 처리 해줍니다.\n",
    "    return df\n",
    "\n",
    "tr = indexing(tr, id2idx)\n",
    "val = indexing(val, id2idx)\n",
    "test = indexing(test, id2idx)"
   ]
  },
  {
   "cell_type": "code",
   "execution_count": 53,
   "id": "stock-bulgarian",
   "metadata": {},
   "outputs": [],
   "source": [
    "save_path = data_path / 'processed'\n",
    "save_path.mkdir(parents=True, exist_ok=True)\n",
    "\n",
    "tr.to_pickle(save_path / 'train.pkl')\n",
    "val.to_pickle(save_path / 'valid.pkl')\n",
    "test.to_pickle(save_path / 'test.pkl')"
   ]
  },
  {
   "cell_type": "markdown",
   "id": "floating-survival",
   "metadata": {},
   "source": [
    "## 3. Data pipeline"
   ]
  },
  {
   "cell_type": "markdown",
   "id": "subsequent-fitting",
   "metadata": {},
   "source": [
    "### 3.1 Session-Parllel Mini-Batches "
   ]
  },
  {
   "cell_type": "markdown",
   "id": "naked-runner",
   "metadata": {},
   "source": [
    "Session의 길이는 매우 짧은 것 들이 대부분이지만 긴 것도 있다.  \n",
    "그래서 이 세션들을 데이터 샘플 하나로 보고 mini-batch를 구성하게 되면 젤 긴 세션의 연산이 끝날 때까지 짧은 세션들이 기다려야한다.  \n",
    "그래서 Session-Parlle Mini-Batches를 쓰는데, 이름처럼 Session이 끝날 때까지 기다리지 않고 병렬적으로 계산한다.  \n",
    "아래의 그림처럼 session2가 끝났다면 다음으로 session4가 시작한다.  \n",
    "이렇게 구성했을 때 mini-batch의 shape는 (3,1,1)이 되고 RNN cell의 ste가 1개로만 이루어 진다."
   ]
  },
  {
   "cell_type": "markdown",
   "id": "collective-grave",
   "metadata": {},
   "source": [
    "![](https://d3s0tskafalll9.cloudfront.net/media/images/input2.max-800x600.png)"
   ]
  },
  {
   "cell_type": "markdown",
   "id": "freelance-choice",
   "metadata": {},
   "source": [
    "### 3.2 Session Dataset"
   ]
  },
  {
   "cell_type": "code",
   "execution_count": 54,
   "id": "global-hollywood",
   "metadata": {},
   "outputs": [],
   "source": [
    "class SessionDataset:\n",
    "    \"\"\"Credit to yhs-968/pyGRU4REC.\"\"\"\n",
    "\n",
    "    def __init__(self, data):\n",
    "        self.df = data\n",
    "        self.click_offsets = self.get_click_offsets()\n",
    "        self.session_idx = np.arange(self.df['SessionId'].nunique())  # indexing to SessionId\n",
    "\n",
    "    def get_click_offsets(self):\n",
    "        \"\"\"\n",
    "        Return the indexes of the first click of each session IDs,\n",
    "        \"\"\"\n",
    "        offsets = np.zeros(self.df['SessionId'].nunique() + 1, dtype=np.int32)\n",
    "        offsets[1:] = self.df.groupby('SessionId').size().cumsum()\n",
    "        return offsets"
   ]
  },
  {
   "cell_type": "code",
   "execution_count": 55,
   "id": "single-architect",
   "metadata": {},
   "outputs": [
    {
     "data": {
      "text/html": [
       "<div>\n",
       "<style scoped>\n",
       "    .dataframe tbody tr th:only-of-type {\n",
       "        vertical-align: middle;\n",
       "    }\n",
       "\n",
       "    .dataframe tbody tr th {\n",
       "        vertical-align: top;\n",
       "    }\n",
       "\n",
       "    .dataframe thead th {\n",
       "        text-align: right;\n",
       "    }\n",
       "</style>\n",
       "<table border=\"1\" class=\"dataframe\">\n",
       "  <thead>\n",
       "    <tr style=\"text-align: right;\">\n",
       "      <th></th>\n",
       "      <th>UserId</th>\n",
       "      <th>ItemId</th>\n",
       "      <th>Rating</th>\n",
       "      <th>Time</th>\n",
       "      <th>delta</th>\n",
       "      <th>SessionId</th>\n",
       "      <th>item_idx</th>\n",
       "    </tr>\n",
       "  </thead>\n",
       "  <tbody>\n",
       "    <tr>\n",
       "      <th>5122</th>\n",
       "      <td>36</td>\n",
       "      <td>1291</td>\n",
       "      <td>5</td>\n",
       "      <td>2002-03-12 03:47:16</td>\n",
       "      <td>0 days 00:00:17</td>\n",
       "      <td>85</td>\n",
       "      <td>0</td>\n",
       "    </tr>\n",
       "    <tr>\n",
       "      <th>5359</th>\n",
       "      <td>36</td>\n",
       "      <td>2115</td>\n",
       "      <td>5</td>\n",
       "      <td>2002-03-12 03:48:25</td>\n",
       "      <td>0 days 00:00:00</td>\n",
       "      <td>85</td>\n",
       "      <td>1</td>\n",
       "    </tr>\n",
       "    <tr>\n",
       "      <th>9716</th>\n",
       "      <td>65</td>\n",
       "      <td>260</td>\n",
       "      <td>4</td>\n",
       "      <td>2002-05-27 02:58:29</td>\n",
       "      <td>40 days 22:46:43</td>\n",
       "      <td>153</td>\n",
       "      <td>2</td>\n",
       "    </tr>\n",
       "    <tr>\n",
       "      <th>9703</th>\n",
       "      <td>65</td>\n",
       "      <td>2628</td>\n",
       "      <td>4</td>\n",
       "      <td>2002-05-27 02:58:30</td>\n",
       "      <td>0 days 00:00:01</td>\n",
       "      <td>153</td>\n",
       "      <td>3</td>\n",
       "    </tr>\n",
       "    <tr>\n",
       "      <th>9745</th>\n",
       "      <td>65</td>\n",
       "      <td>1210</td>\n",
       "      <td>4</td>\n",
       "      <td>2002-05-27 02:58:30</td>\n",
       "      <td>0 days 00:00:00</td>\n",
       "      <td>153</td>\n",
       "      <td>4</td>\n",
       "    </tr>\n",
       "    <tr>\n",
       "      <th>13366</th>\n",
       "      <td>104</td>\n",
       "      <td>2858</td>\n",
       "      <td>5</td>\n",
       "      <td>2002-03-13 21:41:16</td>\n",
       "      <td>445 days 16:49:52</td>\n",
       "      <td>247</td>\n",
       "      <td>5</td>\n",
       "    </tr>\n",
       "    <tr>\n",
       "      <th>13330</th>\n",
       "      <td>104</td>\n",
       "      <td>2997</td>\n",
       "      <td>4</td>\n",
       "      <td>2002-03-13 21:41:40</td>\n",
       "      <td>0 days 00:00:13</td>\n",
       "      <td>247</td>\n",
       "      <td>6</td>\n",
       "    </tr>\n",
       "    <tr>\n",
       "      <th>18642</th>\n",
       "      <td>146</td>\n",
       "      <td>1639</td>\n",
       "      <td>4</td>\n",
       "      <td>2002-05-21 17:47:36</td>\n",
       "      <td>0 days 00:00:17</td>\n",
       "      <td>387</td>\n",
       "      <td>7</td>\n",
       "    </tr>\n",
       "    <tr>\n",
       "      <th>18588</th>\n",
       "      <td>146</td>\n",
       "      <td>780</td>\n",
       "      <td>3</td>\n",
       "      <td>2002-05-21 17:49:29</td>\n",
       "      <td>0 days 00:01:53</td>\n",
       "      <td>387</td>\n",
       "      <td>8</td>\n",
       "    </tr>\n",
       "    <tr>\n",
       "      <th>18820</th>\n",
       "      <td>146</td>\n",
       "      <td>1059</td>\n",
       "      <td>4</td>\n",
       "      <td>2002-05-21 17:55:55</td>\n",
       "      <td>0 days 00:00:00</td>\n",
       "      <td>387</td>\n",
       "      <td>9</td>\n",
       "    </tr>\n",
       "  </tbody>\n",
       "</table>\n",
       "</div>"
      ],
      "text/plain": [
       "       UserId  ItemId  Rating                Time             delta  \\\n",
       "5122       36    1291       5 2002-03-12 03:47:16   0 days 00:00:17   \n",
       "5359       36    2115       5 2002-03-12 03:48:25   0 days 00:00:00   \n",
       "9716       65     260       4 2002-05-27 02:58:29  40 days 22:46:43   \n",
       "9703       65    2628       4 2002-05-27 02:58:30   0 days 00:00:01   \n",
       "9745       65    1210       4 2002-05-27 02:58:30   0 days 00:00:00   \n",
       "13366     104    2858       5 2002-03-13 21:41:16 445 days 16:49:52   \n",
       "13330     104    2997       4 2002-03-13 21:41:40   0 days 00:00:13   \n",
       "18642     146    1639       4 2002-05-21 17:47:36   0 days 00:00:17   \n",
       "18588     146     780       3 2002-05-21 17:49:29   0 days 00:01:53   \n",
       "18820     146    1059       4 2002-05-21 17:55:55   0 days 00:00:00   \n",
       "\n",
       "       SessionId  item_idx  \n",
       "5122          85         0  \n",
       "5359          85         1  \n",
       "9716         153         2  \n",
       "9703         153         3  \n",
       "9745         153         4  \n",
       "13366        247         5  \n",
       "13330        247         6  \n",
       "18642        387         7  \n",
       "18588        387         8  \n",
       "18820        387         9  "
      ]
     },
     "execution_count": 55,
     "metadata": {},
     "output_type": "execute_result"
    }
   ],
   "source": [
    "tr_dataset = SessionDataset(tr)\n",
    "tr_dataset.df.head(10)"
   ]
  },
  {
   "cell_type": "code",
   "execution_count": 56,
   "id": "classified-riding",
   "metadata": {},
   "outputs": [
    {
     "data": {
      "text/plain": [
       "array([   0,    2,    5,    7,   16,   21,   23,   27,   33,   40,   45,\n",
       "         48,   51,   55,   72,   81,   92,   99,  111,  113,  115,  118,\n",
       "        120,  122,  125,  128,  139,  154,  159,  161,  163,  166,  189,\n",
       "        199,  202,  204,  207,  211,  231,  252,  255,  257,  289,  296,\n",
       "        316,  319,  321,  350,  352,  362,  365,  374,  376,  383,  394,\n",
       "        398,  402,  406,  410,  414,  424,  427,  435,  445,  449,  455,\n",
       "        478,  481,  483,  485,  487,  489,  491,  494,  499,  501,  504,\n",
       "        517,  521,  546,  597,  603,  607,  614,  616,  618,  624,  626,\n",
       "        632,  634,  637,  643,  645,  651,  653,  655,  657,  659,  661,\n",
       "        663,  665,  669,  672,  678,  682,  684,  697,  706,  718,  724,\n",
       "        726,  730,  737,  742,  744,  747,  749,  755,  758,  760,  762,\n",
       "        765,  780,  782,  784,  786,  789,  794,  797,  802,  806,  808,\n",
       "        810,  812,  816,  837,  839,  841,  845,  858,  870,  885,  887,\n",
       "        889,  893,  895,  897,  899,  903,  906,  914,  916,  920,  922,\n",
       "        925,  960,  966,  969,  971,  973,  976,  978,  980,  995,  998,\n",
       "       1000, 1002, 1004, 1006, 1011, 1015, 1019, 1022, 1028, 1036, 1045,\n",
       "       1051, 1056, 1058, 1060, 1066, 1069, 1072, 1074, 1086, 1090, 1093,\n",
       "       1098, 1103, 1114, 1125, 1139, 1141, 1147, 1154, 1161, 1166, 1179,\n",
       "       1181, 1183, 1193, 1195, 1197, 1199, 1211, 1215, 1220, 1230, 1232,\n",
       "       1235, 1237, 1239, 1245, 1253, 1262, 1265, 1275, 1277, 1307, 1310,\n",
       "       1331, 1339, 1341, 1344, 1348, 1354, 1356, 1359, 1376, 1380, 1382,\n",
       "       1427, 1429, 1431, 1433, 1435, 1438, 1446, 1450, 1452, 1454, 1468,\n",
       "       1477, 1482, 1500, 1502, 1506, 1510, 1512, 1516, 1520, 1522, 1524,\n",
       "       1526, 1536, 1560, 1566, 1572, 1592, 1612, 1615, 1632, 1640, 1652,\n",
       "       1658, 1662, 1670, 1673, 1682, 1684, 1691, 1695, 1736, 1741, 1743,\n",
       "       1752, 1770, 1772, 1784, 1795, 1798, 1801, 1819, 1828, 1840, 1842,\n",
       "       1844, 1846, 1850, 1852, 1858, 1885, 1889, 1920, 1925, 1936, 1940,\n",
       "       1952, 1962, 1979, 1983, 1988, 1994, 2004, 2009, 2023, 2031, 2033,\n",
       "       2035, 2039, 2046, 2052, 2054, 2062, 2064, 2083, 2085, 2090, 2109,\n",
       "       2112, 2121, 2124, 2127, 2130, 2132, 2136, 2146, 2152, 2165, 2176,\n",
       "       2178, 2181, 2204, 2209, 2246, 2248, 2253, 2286, 2302, 2304, 2307,\n",
       "       2309, 2312, 2327, 2340, 2343, 2353, 2364, 2367, 2375, 2379, 2381,\n",
       "       2406, 2408, 2410, 2412, 2414, 2424, 2430, 2433, 2436, 2440, 2443,\n",
       "       2447, 2480, 2485, 2499, 2522, 2527, 2529, 2532, 2544, 2547, 2550,\n",
       "       2554, 2556, 2559, 2562, 2564, 2577, 2579, 2587, 2595, 2597, 2602,\n",
       "       2625, 2627, 2633, 2635, 2638, 2640, 2642, 2662, 2664, 2669, 2671,\n",
       "       2674, 2676, 2684, 2687, 2690, 2692, 2697, 2699, 2701, 2705, 2708,\n",
       "       2711, 2713, 2716, 2728, 2734, 2751, 2753, 2762, 2770, 2780, 2782,\n",
       "       2787, 2792, 2794, 2813, 2815, 2817, 2819, 2823, 2830, 2833, 2847,\n",
       "       2856], dtype=int32)"
      ]
     },
     "execution_count": 56,
     "metadata": {},
     "output_type": "execute_result"
    }
   ],
   "source": [
    "tr_dataset.click_offsets"
   ]
  },
  {
   "cell_type": "code",
   "execution_count": 57,
   "id": "indian-garbage",
   "metadata": {},
   "outputs": [
    {
     "data": {
      "text/plain": [
       "array([  0,   1,   2,   3,   4,   5,   6,   7,   8,   9,  10,  11,  12,\n",
       "        13,  14,  15,  16,  17,  18,  19,  20,  21,  22,  23,  24,  25,\n",
       "        26,  27,  28,  29,  30,  31,  32,  33,  34,  35,  36,  37,  38,\n",
       "        39,  40,  41,  42,  43,  44,  45,  46,  47,  48,  49,  50,  51,\n",
       "        52,  53,  54,  55,  56,  57,  58,  59,  60,  61,  62,  63,  64,\n",
       "        65,  66,  67,  68,  69,  70,  71,  72,  73,  74,  75,  76,  77,\n",
       "        78,  79,  80,  81,  82,  83,  84,  85,  86,  87,  88,  89,  90,\n",
       "        91,  92,  93,  94,  95,  96,  97,  98,  99, 100, 101, 102, 103,\n",
       "       104, 105, 106, 107, 108, 109, 110, 111, 112, 113, 114, 115, 116,\n",
       "       117, 118, 119, 120, 121, 122, 123, 124, 125, 126, 127, 128, 129,\n",
       "       130, 131, 132, 133, 134, 135, 136, 137, 138, 139, 140, 141, 142,\n",
       "       143, 144, 145, 146, 147, 148, 149, 150, 151, 152, 153, 154, 155,\n",
       "       156, 157, 158, 159, 160, 161, 162, 163, 164, 165, 166, 167, 168,\n",
       "       169, 170, 171, 172, 173, 174, 175, 176, 177, 178, 179, 180, 181,\n",
       "       182, 183, 184, 185, 186, 187, 188, 189, 190, 191, 192, 193, 194,\n",
       "       195, 196, 197, 198, 199, 200, 201, 202, 203, 204, 205, 206, 207,\n",
       "       208, 209, 210, 211, 212, 213, 214, 215, 216, 217, 218, 219, 220,\n",
       "       221, 222, 223, 224, 225, 226, 227, 228, 229, 230, 231, 232, 233,\n",
       "       234, 235, 236, 237, 238, 239, 240, 241, 242, 243, 244, 245, 246,\n",
       "       247, 248, 249, 250, 251, 252, 253, 254, 255, 256, 257, 258, 259,\n",
       "       260, 261, 262, 263, 264, 265, 266, 267, 268, 269, 270, 271, 272,\n",
       "       273, 274, 275, 276, 277, 278, 279, 280, 281, 282, 283, 284, 285,\n",
       "       286, 287, 288, 289, 290, 291, 292, 293, 294, 295, 296, 297, 298,\n",
       "       299, 300, 301, 302, 303, 304, 305, 306, 307, 308, 309, 310, 311,\n",
       "       312, 313, 314, 315, 316, 317, 318, 319, 320, 321, 322, 323, 324,\n",
       "       325, 326, 327, 328, 329, 330, 331, 332, 333, 334, 335, 336, 337,\n",
       "       338, 339, 340, 341, 342, 343, 344, 345, 346, 347, 348, 349, 350,\n",
       "       351, 352, 353, 354, 355, 356, 357, 358, 359, 360, 361, 362, 363,\n",
       "       364, 365, 366, 367, 368, 369, 370, 371, 372, 373, 374, 375, 376,\n",
       "       377, 378, 379, 380, 381, 382, 383, 384, 385, 386, 387, 388, 389,\n",
       "       390, 391, 392, 393, 394, 395, 396, 397, 398, 399, 400, 401, 402,\n",
       "       403, 404, 405, 406, 407, 408, 409, 410, 411, 412, 413, 414, 415,\n",
       "       416, 417, 418, 419, 420, 421, 422, 423, 424, 425, 426, 427, 428])"
      ]
     },
     "execution_count": 57,
     "metadata": {},
     "output_type": "execute_result"
    }
   ],
   "source": [
    "tr_dataset.session_idx"
   ]
  },
  {
   "cell_type": "markdown",
   "id": "musical-abortion",
   "metadata": {},
   "source": [
    "### 3.2 Session Data Loader"
   ]
  },
  {
   "cell_type": "code",
   "execution_count": 58,
   "id": "bizarre-diary",
   "metadata": {},
   "outputs": [],
   "source": [
    "class SessionDataLoader:\n",
    "    \"\"\"Credit to yhs-968/pyGRU4REC.\"\"\"\n",
    "\n",
    "    def __init__(self, dataset: SessionDataset, batch_size=50):\n",
    "        self.dataset = dataset\n",
    "        self.batch_size = batch_size\n",
    "\n",
    "    def __iter__(self):\n",
    "        \"\"\" Returns the iterator for producing session-parallel training mini-batches.\n",
    "        Yields:\n",
    "            input (B,):  Item indices that will be encoded as one-hot vectors later.\n",
    "            target (B,): a Variable that stores the target item indices\n",
    "            masks: Numpy array indicating the positions of the sessions to be terminated\n",
    "        \"\"\"\n",
    "\n",
    "        start, end, mask, last_session, finished = self.initialize()  # initialize 메소드에서 확인해주세요.\n",
    "        \"\"\"\n",
    "        start : Index Where Session Start\n",
    "        end : Index Where Session End\n",
    "        mask : indicator for the sessions to be terminated\n",
    "        \"\"\"\n",
    "\n",
    "        while not finished:\n",
    "            min_len = (end - start).min() - 1  # Shortest Length Among Sessions\n",
    "            for i in range(min_len):\n",
    "                # Build inputs & targets\n",
    "                inp = self.dataset.df['item_idx'].values[start + i]\n",
    "                target = self.dataset.df['item_idx'].values[start + i + 1]\n",
    "                yield inp, target, mask\n",
    "\n",
    "            start, end, mask, last_session, finished = self.update_status(start, end, min_len, last_session, finished)\n",
    "\n",
    "    def initialize(self):\n",
    "        first_iters = np.arange(self.batch_size)    # 첫 배치에 사용할 세션 Index를 가져옵니다.\n",
    "        last_session = self.batch_size - 1    # 마지막으로 다루고 있는 세션 Index를 저장해둡니다.\n",
    "        start = self.dataset.click_offsets[self.dataset.session_idx[first_iters]]       # data 상에서 session이 시작된 위치를 가져옵니다.\n",
    "        end = self.dataset.click_offsets[self.dataset.session_idx[first_iters] + 1]  # session이 끝난 위치 바로 다음 위치를 가져옵니다.\n",
    "        mask = np.array([])   # session의 모든 아이템을 다 돌은 경우 mask에 추가해줄 것입니다.\n",
    "        finished = False         # data를 전부 돌았는지 기록하기 위한 변수입니다.\n",
    "        return start, end, mask, last_session, finished\n",
    "\n",
    "    def update_status(self, start: np.ndarray, end: np.ndarray, min_len: int, last_session: int, finished: bool):  \n",
    "        # 다음 배치 데이터를 생성하기 위해 상태를 update합니다.\n",
    "        \n",
    "        start += min_len   # __iter__에서 min_len 만큼 for문을 돌았으므로 start를 min_len 만큼 더해줍니다.\n",
    "        mask = np.arange(self.batch_size)[(end - start) == 1]  \n",
    "        # end는 다음 세션이 시작되는 위치인데 start와 한 칸 차이난다는 것은 session이 끝났다는 뜻입니다. mask에 기록해줍니다.\n",
    "\n",
    "        for i, idx in enumerate(mask, start=1):  # mask에 추가된 세션 개수만큼 새로운 세션을 돌것입니다.\n",
    "            new_session = last_session + i  \n",
    "            if new_session > self.dataset.session_idx[-1]:  # 만약 새로운 세션이 마지막 세션 index보다 크다면 모든 학습데이터를 돈 것입니다.\n",
    "                finished = True\n",
    "                break\n",
    "            # update the next starting/ending point\n",
    "            start[idx] = self.dataset.click_offsets[self.dataset.session_idx[new_session]]     # 종료된 세션 대신 새로운 세션의 시작점을 기록합니다.\n",
    "            end[idx] = self.dataset.click_offsets[self.dataset.session_idx[new_session] + 1]\n",
    "\n",
    "        last_session += len(mask)  # 마지막 세션의 위치를 기록해둡니다.\n",
    "        return start, end, mask, last_session, finished"
   ]
  },
  {
   "cell_type": "code",
   "execution_count": 59,
   "id": "unlike-mistress",
   "metadata": {},
   "outputs": [
    {
     "data": {
      "text/html": [
       "<div>\n",
       "<style scoped>\n",
       "    .dataframe tbody tr th:only-of-type {\n",
       "        vertical-align: middle;\n",
       "    }\n",
       "\n",
       "    .dataframe tbody tr th {\n",
       "        vertical-align: top;\n",
       "    }\n",
       "\n",
       "    .dataframe thead th {\n",
       "        text-align: right;\n",
       "    }\n",
       "</style>\n",
       "<table border=\"1\" class=\"dataframe\">\n",
       "  <thead>\n",
       "    <tr style=\"text-align: right;\">\n",
       "      <th></th>\n",
       "      <th>UserId</th>\n",
       "      <th>ItemId</th>\n",
       "      <th>Rating</th>\n",
       "      <th>Time</th>\n",
       "      <th>delta</th>\n",
       "      <th>SessionId</th>\n",
       "      <th>item_idx</th>\n",
       "    </tr>\n",
       "  </thead>\n",
       "  <tbody>\n",
       "    <tr>\n",
       "      <th>5122</th>\n",
       "      <td>36</td>\n",
       "      <td>1291</td>\n",
       "      <td>5</td>\n",
       "      <td>2002-03-12 03:47:16</td>\n",
       "      <td>0 days 00:00:17</td>\n",
       "      <td>85</td>\n",
       "      <td>0</td>\n",
       "    </tr>\n",
       "    <tr>\n",
       "      <th>5359</th>\n",
       "      <td>36</td>\n",
       "      <td>2115</td>\n",
       "      <td>5</td>\n",
       "      <td>2002-03-12 03:48:25</td>\n",
       "      <td>0 days 00:00:00</td>\n",
       "      <td>85</td>\n",
       "      <td>1</td>\n",
       "    </tr>\n",
       "    <tr>\n",
       "      <th>9716</th>\n",
       "      <td>65</td>\n",
       "      <td>260</td>\n",
       "      <td>4</td>\n",
       "      <td>2002-05-27 02:58:29</td>\n",
       "      <td>40 days 22:46:43</td>\n",
       "      <td>153</td>\n",
       "      <td>2</td>\n",
       "    </tr>\n",
       "    <tr>\n",
       "      <th>9703</th>\n",
       "      <td>65</td>\n",
       "      <td>2628</td>\n",
       "      <td>4</td>\n",
       "      <td>2002-05-27 02:58:30</td>\n",
       "      <td>0 days 00:00:01</td>\n",
       "      <td>153</td>\n",
       "      <td>3</td>\n",
       "    </tr>\n",
       "    <tr>\n",
       "      <th>9745</th>\n",
       "      <td>65</td>\n",
       "      <td>1210</td>\n",
       "      <td>4</td>\n",
       "      <td>2002-05-27 02:58:30</td>\n",
       "      <td>0 days 00:00:00</td>\n",
       "      <td>153</td>\n",
       "      <td>4</td>\n",
       "    </tr>\n",
       "    <tr>\n",
       "      <th>13366</th>\n",
       "      <td>104</td>\n",
       "      <td>2858</td>\n",
       "      <td>5</td>\n",
       "      <td>2002-03-13 21:41:16</td>\n",
       "      <td>445 days 16:49:52</td>\n",
       "      <td>247</td>\n",
       "      <td>5</td>\n",
       "    </tr>\n",
       "    <tr>\n",
       "      <th>13330</th>\n",
       "      <td>104</td>\n",
       "      <td>2997</td>\n",
       "      <td>4</td>\n",
       "      <td>2002-03-13 21:41:40</td>\n",
       "      <td>0 days 00:00:13</td>\n",
       "      <td>247</td>\n",
       "      <td>6</td>\n",
       "    </tr>\n",
       "    <tr>\n",
       "      <th>18642</th>\n",
       "      <td>146</td>\n",
       "      <td>1639</td>\n",
       "      <td>4</td>\n",
       "      <td>2002-05-21 17:47:36</td>\n",
       "      <td>0 days 00:00:17</td>\n",
       "      <td>387</td>\n",
       "      <td>7</td>\n",
       "    </tr>\n",
       "    <tr>\n",
       "      <th>18588</th>\n",
       "      <td>146</td>\n",
       "      <td>780</td>\n",
       "      <td>3</td>\n",
       "      <td>2002-05-21 17:49:29</td>\n",
       "      <td>0 days 00:01:53</td>\n",
       "      <td>387</td>\n",
       "      <td>8</td>\n",
       "    </tr>\n",
       "    <tr>\n",
       "      <th>18820</th>\n",
       "      <td>146</td>\n",
       "      <td>1059</td>\n",
       "      <td>4</td>\n",
       "      <td>2002-05-21 17:55:55</td>\n",
       "      <td>0 days 00:00:00</td>\n",
       "      <td>387</td>\n",
       "      <td>9</td>\n",
       "    </tr>\n",
       "    <tr>\n",
       "      <th>18841</th>\n",
       "      <td>146</td>\n",
       "      <td>539</td>\n",
       "      <td>2</td>\n",
       "      <td>2002-05-21 17:56:37</td>\n",
       "      <td>0 days 00:00:00</td>\n",
       "      <td>387</td>\n",
       "      <td>10</td>\n",
       "    </tr>\n",
       "    <tr>\n",
       "      <th>18660</th>\n",
       "      <td>146</td>\n",
       "      <td>1721</td>\n",
       "      <td>4</td>\n",
       "      <td>2002-05-21 17:56:54</td>\n",
       "      <td>0 days 00:00:17</td>\n",
       "      <td>387</td>\n",
       "      <td>11</td>\n",
       "    </tr>\n",
       "    <tr>\n",
       "      <th>18785</th>\n",
       "      <td>146</td>\n",
       "      <td>356</td>\n",
       "      <td>5</td>\n",
       "      <td>2002-05-21 17:57:11</td>\n",
       "      <td>0 days 00:00:00</td>\n",
       "      <td>387</td>\n",
       "      <td>12</td>\n",
       "    </tr>\n",
       "    <tr>\n",
       "      <th>18622</th>\n",
       "      <td>146</td>\n",
       "      <td>2424</td>\n",
       "      <td>4</td>\n",
       "      <td>2002-05-21 17:59:27</td>\n",
       "      <td>0 days 00:00:45</td>\n",
       "      <td>387</td>\n",
       "      <td>13</td>\n",
       "    </tr>\n",
       "    <tr>\n",
       "      <th>18513</th>\n",
       "      <td>146</td>\n",
       "      <td>597</td>\n",
       "      <td>4</td>\n",
       "      <td>2002-05-21 18:00:06</td>\n",
       "      <td>0 days 00:00:11</td>\n",
       "      <td>387</td>\n",
       "      <td>14</td>\n",
       "    </tr>\n",
       "  </tbody>\n",
       "</table>\n",
       "</div>"
      ],
      "text/plain": [
       "       UserId  ItemId  Rating                Time             delta  \\\n",
       "5122       36    1291       5 2002-03-12 03:47:16   0 days 00:00:17   \n",
       "5359       36    2115       5 2002-03-12 03:48:25   0 days 00:00:00   \n",
       "9716       65     260       4 2002-05-27 02:58:29  40 days 22:46:43   \n",
       "9703       65    2628       4 2002-05-27 02:58:30   0 days 00:00:01   \n",
       "9745       65    1210       4 2002-05-27 02:58:30   0 days 00:00:00   \n",
       "13366     104    2858       5 2002-03-13 21:41:16 445 days 16:49:52   \n",
       "13330     104    2997       4 2002-03-13 21:41:40   0 days 00:00:13   \n",
       "18642     146    1639       4 2002-05-21 17:47:36   0 days 00:00:17   \n",
       "18588     146     780       3 2002-05-21 17:49:29   0 days 00:01:53   \n",
       "18820     146    1059       4 2002-05-21 17:55:55   0 days 00:00:00   \n",
       "18841     146     539       2 2002-05-21 17:56:37   0 days 00:00:00   \n",
       "18660     146    1721       4 2002-05-21 17:56:54   0 days 00:00:17   \n",
       "18785     146     356       5 2002-05-21 17:57:11   0 days 00:00:00   \n",
       "18622     146    2424       4 2002-05-21 17:59:27   0 days 00:00:45   \n",
       "18513     146     597       4 2002-05-21 18:00:06   0 days 00:00:11   \n",
       "\n",
       "       SessionId  item_idx  \n",
       "5122          85         0  \n",
       "5359          85         1  \n",
       "9716         153         2  \n",
       "9703         153         3  \n",
       "9745         153         4  \n",
       "13366        247         5  \n",
       "13330        247         6  \n",
       "18642        387         7  \n",
       "18588        387         8  \n",
       "18820        387         9  \n",
       "18841        387        10  \n",
       "18660        387        11  \n",
       "18785        387        12  \n",
       "18622        387        13  \n",
       "18513        387        14  "
      ]
     },
     "execution_count": 59,
     "metadata": {},
     "output_type": "execute_result"
    }
   ],
   "source": [
    "tr_data_loader = SessionDataLoader(tr_dataset, batch_size=4)\n",
    "tr_dataset.df.head(15)"
   ]
  },
  {
   "cell_type": "code",
   "execution_count": 60,
   "id": "excellent-celebration",
   "metadata": {},
   "outputs": [],
   "source": [
    "iter_ex = iter(tr_data_loader)"
   ]
  },
  {
   "cell_type": "code",
   "execution_count": 61,
   "id": "therapeutic-asian",
   "metadata": {},
   "outputs": [
    {
     "name": "stdout",
     "output_type": "stream",
     "text": [
      "Model Input Item Idx are : [0 2 5 7]\n",
      "Label Item Idx are :       [1 3 6 8]\n",
      "Previous Masked Input Idx are []\n"
     ]
    }
   ],
   "source": [
    "inputs, labels, mask =  next(iter_ex)\n",
    "print(f'Model Input Item Idx are : {inputs}')\n",
    "print(f'Label Item Idx are : {\"\":5} {labels}')\n",
    "print(f'Previous Masked Input Idx are {mask}')"
   ]
  },
  {
   "cell_type": "markdown",
   "id": "editorial-specific",
   "metadata": {},
   "source": [
    "## 4. Modeling"
   ]
  },
  {
   "cell_type": "code",
   "execution_count": 62,
   "id": "blank-testimony",
   "metadata": {},
   "outputs": [],
   "source": [
    "def mrr_k(pred, truth: int, k: int):\n",
    "    indexing = np.where(pred[:k] == truth)[0]\n",
    "    if len(indexing) > 0:\n",
    "        return 1 / (indexing[0] + 1)\n",
    "    else:\n",
    "        return 0\n",
    "\n",
    "\n",
    "def recall_k(pred, truth: int, k: int) -> int:\n",
    "    answer = truth in pred[:k]\n",
    "    return int(answer)"
   ]
  },
  {
   "cell_type": "code",
   "execution_count": 63,
   "id": "going-puppy",
   "metadata": {},
   "outputs": [],
   "source": [
    "import numpy as np\n",
    "import tensorflow as tf\n",
    "from tensorflow.keras.layers import Input, Dense, Dropout, GRU\n",
    "from tensorflow.keras.losses import categorical_crossentropy\n",
    "from tensorflow.keras.models import Model\n",
    "from tensorflow.keras.optimizers import Adam\n",
    "from tensorflow.keras.utils import to_categorical\n",
    "from tqdm import tqdm"
   ]
  },
  {
   "cell_type": "code",
   "execution_count": 64,
   "id": "twenty-choir",
   "metadata": {},
   "outputs": [],
   "source": [
    "def create_model(args):\n",
    "    inputs = Input(batch_shape=(args.batch_size, 1, args.num_items))\n",
    "    gru, _ = GRU(args.hsz, stateful=True, return_state=True, name='GRU')(inputs)\n",
    "    dropout = Dropout(args.drop_rate)(gru)\n",
    "    predictions = Dense(args.num_items, activation='softmax')(dropout)\n",
    "    model = Model(inputs=inputs, outputs=[predictions])\n",
    "    model.compile(loss=categorical_crossentropy, optimizer=Adam(args.lr), metrics=['accuracy'])\n",
    "    model.summary()\n",
    "    return model"
   ]
  },
  {
   "cell_type": "code",
   "execution_count": 74,
   "id": "varying-familiar",
   "metadata": {},
   "outputs": [],
   "source": [
    "class Args:\n",
    "    def __init__(self, tr, val, test, batch_size, hsz, drop_rate, lr, epochs, k):\n",
    "        self.tr = tr\n",
    "        self.val = val\n",
    "        self.test = test\n",
    "        self.num_items = tr['ItemId'].nunique()\n",
    "        self.num_sessions = tr['SessionId'].nunique()\n",
    "        self.batch_size = batch_size\n",
    "        self.hsz = hsz\n",
    "        self.drop_rate = drop_rate\n",
    "        self.lr = lr\n",
    "        self.epochs = epochs\n",
    "        self.k = k\n",
    "\n",
    "args = Args(tr, val, test, batch_size=32, hsz=50, drop_rate=0.1, lr=0.001, epochs=30, k=20)"
   ]
  },
  {
   "cell_type": "code",
   "execution_count": 75,
   "id": "pediatric-soviet",
   "metadata": {},
   "outputs": [
    {
     "name": "stdout",
     "output_type": "stream",
     "text": [
      "Model: \"model_2\"\n",
      "_________________________________________________________________\n",
      "Layer (type)                 Output Shape              Param #   \n",
      "=================================================================\n",
      "input_3 (InputLayer)         [(32, 1, 153)]            0         \n",
      "_________________________________________________________________\n",
      "GRU (GRU)                    [(32, 50), (32, 50)]      30750     \n",
      "_________________________________________________________________\n",
      "dropout_2 (Dropout)          (32, 50)                  0         \n",
      "_________________________________________________________________\n",
      "dense_2 (Dense)              (32, 153)                 7803      \n",
      "=================================================================\n",
      "Total params: 38,553\n",
      "Trainable params: 38,553\n",
      "Non-trainable params: 0\n",
      "_________________________________________________________________\n"
     ]
    }
   ],
   "source": [
    "model = create_model(args)"
   ]
  },
  {
   "cell_type": "markdown",
   "id": "alternate-melbourne",
   "metadata": {},
   "source": [
    "## 5. Train"
   ]
  },
  {
   "cell_type": "code",
   "execution_count": 76,
   "id": "sealed-hollow",
   "metadata": {},
   "outputs": [],
   "source": [
    "# train 셋으로 학습하면서 valid 셋으로 검증합니다.\n",
    "def train_model(model, args):\n",
    "    train_dataset = SessionDataset(args.tr)\n",
    "    train_loader = SessionDataLoader(train_dataset, batch_size=args.batch_size)\n",
    "\n",
    "    for epoch in range(1, args.epochs + 1):\n",
    "        total_step = len(args.tr) - args.tr['SessionId'].nunique()\n",
    "        tr_loader = tqdm(train_loader, total=total_step // args.batch_size, desc='Train', mininterval=1)\n",
    "        for feat, target, mask in tr_loader:\n",
    "            reset_hidden_states(model, mask)  # 종료된 session은 hidden_state를 초기화합니다. 아래 메서드에서 확인해주세요.\n",
    "\n",
    "            input_ohe = to_categorical(feat, num_classes=args.num_items)\n",
    "            input_ohe = np.expand_dims(input_ohe, axis=1)\n",
    "            target_ohe = to_categorical(target, num_classes=args.num_items)\n",
    "\n",
    "            result = model.train_on_batch(input_ohe, target_ohe)\n",
    "            tr_loader.set_postfix(train_loss=result[0], accuracy = result[1])\n",
    "\n",
    "        val_recall, val_mrr = get_metrics(args.val, model, args, args.k)  # valid set에 대해 검증합니다.\n",
    "\n",
    "        print(f\"\\t - Recall@{args.k} epoch {epoch}: {val_recall:3f}\")\n",
    "        print(f\"\\t - MRR@{args.k}    epoch {epoch}: {val_mrr:3f}\\n\")\n",
    "\n",
    "\n",
    "def reset_hidden_states(model, mask):\n",
    "    gru_layer = model.get_layer(name='GRU')  # model에서 gru layer를 가져옵니다.\n",
    "    hidden_states = gru_layer.states[0].numpy()  # gru_layer의 parameter를 가져옵니다.\n",
    "    for elt in mask:  # mask된 인덱스 즉, 종료된 세션의 인덱스를 돌면서\n",
    "        hidden_states[elt, :] = 0  # parameter를 초기화 합니다.\n",
    "    gru_layer.reset_states(states=hidden_states)\n",
    "\n",
    "\n",
    "def get_metrics(data, model, args, k: int):  # valid셋과 test셋을 평가하는 코드입니다. \n",
    "                                             # train과 거의 같지만 mrr, recall을 구하는 라인이 있습니다.\n",
    "    dataset = SessionDataset(data)\n",
    "    loader = SessionDataLoader(dataset, batch_size=args.batch_size)\n",
    "    recall_list, mrr_list = [], []\n",
    "\n",
    "    total_step = len(data) - data['SessionId'].nunique()\n",
    "    for inputs, label, mask in tqdm(loader, total=total_step // args.batch_size, desc='Evaluation', mininterval=1):\n",
    "        reset_hidden_states(model, mask)\n",
    "        input_ohe = to_categorical(inputs, num_classes=args.num_items)\n",
    "        input_ohe = np.expand_dims(input_ohe, axis=1)\n",
    "\n",
    "        pred = model.predict(input_ohe, batch_size=args.batch_size)\n",
    "        pred_arg = tf.argsort(pred, direction='DESCENDING')  # softmax 값이 큰 순서대로 sorting 합니다.\n",
    "\n",
    "        length = len(inputs)\n",
    "        recall_list.extend([recall_k(pred_arg[i], label[i], k) for i in range(length)])\n",
    "        mrr_list.extend([mrr_k(pred_arg[i], label[i], k) for i in range(length)])\n",
    "\n",
    "    recall, mrr = np.mean(recall_list), np.mean(mrr_list)\n",
    "    return recall, mrr"
   ]
  },
  {
   "cell_type": "markdown",
   "id": "thirty-academy",
   "metadata": {},
   "source": [
    "성능 평가는 recall과 mrr을 이용한다.  \n",
    "recall은 우리가 많이 봤던 것이고 mrr은 무엇인가?!!  \n",
    "[MRR (mean reciprocal rank)](https://ang-love-chang.tistory.com/22)\n"
   ]
  },
  {
   "cell_type": "code",
   "execution_count": 77,
   "id": "exotic-complex",
   "metadata": {},
   "outputs": [
    {
     "name": "stderr",
     "output_type": "stream",
     "text": [
      "Train:  92%|█████████▏| 69/75 [00:01<00:00, 40.26it/s, accuracy=0, train_loss=5.02]    \n",
      "Evaluation:  61%|██████    | 11/18 [00:02<00:01,  4.18it/s]\n",
      "Train:   0%|          | 0/75 [00:00<?, ?it/s, accuracy=0, train_loss=5.01]     "
     ]
    },
    {
     "name": "stdout",
     "output_type": "stream",
     "text": [
      "\t - Recall@20 epoch 1: 0.161932\n",
      "\t - MRR@20    epoch 1: 0.032135\n",
      "\n"
     ]
    },
    {
     "name": "stderr",
     "output_type": "stream",
     "text": [
      "Train:  92%|█████████▏| 69/75 [00:00<00:00, 146.85it/s, accuracy=0.0312, train_loss=5.01]\n",
      "Evaluation:  61%|██████    | 11/18 [00:02<00:01,  4.81it/s]\n",
      "Train:   0%|          | 0/75 [00:00<?, ?it/s, accuracy=0.0312, train_loss=5]   "
     ]
    },
    {
     "name": "stdout",
     "output_type": "stream",
     "text": [
      "\t - Recall@20 epoch 2: 0.170455\n",
      "\t - MRR@20    epoch 2: 0.040201\n",
      "\n"
     ]
    },
    {
     "name": "stderr",
     "output_type": "stream",
     "text": [
      "Train:  92%|█████████▏| 69/75 [00:00<00:00, 147.62it/s, accuracy=0.0312, train_loss=4.98]\n",
      "Evaluation:  61%|██████    | 11/18 [00:02<00:01,  4.84it/s]\n",
      "Train:   0%|          | 0/75 [00:00<?, ?it/s, accuracy=0, train_loss=4.96]     "
     ]
    },
    {
     "name": "stdout",
     "output_type": "stream",
     "text": [
      "\t - Recall@20 epoch 3: 0.196023\n",
      "\t - MRR@20    epoch 3: 0.045551\n",
      "\n"
     ]
    },
    {
     "name": "stderr",
     "output_type": "stream",
     "text": [
      "Train:  92%|█████████▏| 69/75 [00:00<00:00, 146.38it/s, accuracy=0.0312, train_loss=4.95]\n",
      "Evaluation:  61%|██████    | 11/18 [00:02<00:01,  4.89it/s]\n",
      "Train:   0%|          | 0/75 [00:00<?, ?it/s, accuracy=0, train_loss=4.95]     "
     ]
    },
    {
     "name": "stdout",
     "output_type": "stream",
     "text": [
      "\t - Recall@20 epoch 4: 0.207386\n",
      "\t - MRR@20    epoch 4: 0.046711\n",
      "\n"
     ]
    },
    {
     "name": "stderr",
     "output_type": "stream",
     "text": [
      "Train:  92%|█████████▏| 69/75 [00:00<00:00, 147.54it/s, accuracy=0.0625, train_loss=4.9]\n",
      "Evaluation:  61%|██████    | 11/18 [00:02<00:01,  4.86it/s]\n",
      "Train:   0%|          | 0/75 [00:00<?, ?it/s, accuracy=0, train_loss=4.85]     "
     ]
    },
    {
     "name": "stdout",
     "output_type": "stream",
     "text": [
      "\t - Recall@20 epoch 5: 0.207386\n",
      "\t - MRR@20    epoch 5: 0.048600\n",
      "\n"
     ]
    },
    {
     "name": "stderr",
     "output_type": "stream",
     "text": [
      "Train:  92%|█████████▏| 69/75 [00:00<00:00, 144.97it/s, accuracy=0.0938, train_loss=4.85]\n",
      "Evaluation:  61%|██████    | 11/18 [00:02<00:01,  4.78it/s]\n",
      "Train:   0%|          | 0/75 [00:00<?, ?it/s, accuracy=0.0312, train_loss=4.92]"
     ]
    },
    {
     "name": "stdout",
     "output_type": "stream",
     "text": [
      "\t - Recall@20 epoch 6: 0.213068\n",
      "\t - MRR@20    epoch 6: 0.056622\n",
      "\n"
     ]
    },
    {
     "name": "stderr",
     "output_type": "stream",
     "text": [
      "Train:  92%|█████████▏| 69/75 [00:00<00:00, 141.14it/s, accuracy=0.0625, train_loss=4.76]\n",
      "Evaluation:  61%|██████    | 11/18 [00:02<00:01,  4.93it/s]\n",
      "Train:   0%|          | 0/75 [00:00<?, ?it/s, accuracy=0.0312, train_loss=4.82]"
     ]
    },
    {
     "name": "stdout",
     "output_type": "stream",
     "text": [
      "\t - Recall@20 epoch 7: 0.230114\n",
      "\t - MRR@20    epoch 7: 0.066727\n",
      "\n"
     ]
    },
    {
     "name": "stderr",
     "output_type": "stream",
     "text": [
      "Train:  92%|█████████▏| 69/75 [00:00<00:00, 141.14it/s, accuracy=0.125, train_loss=4.68]\n",
      "Evaluation:  61%|██████    | 11/18 [00:02<00:01,  5.00it/s]\n",
      "Train:   0%|          | 0/75 [00:00<?, ?it/s, accuracy=0.0938, train_loss=4.69]"
     ]
    },
    {
     "name": "stdout",
     "output_type": "stream",
     "text": [
      "\t - Recall@20 epoch 8: 0.238636\n",
      "\t - MRR@20    epoch 8: 0.075782\n",
      "\n"
     ]
    },
    {
     "name": "stderr",
     "output_type": "stream",
     "text": [
      "Train:  92%|█████████▏| 69/75 [00:00<00:00, 145.32it/s, accuracy=0.0938, train_loss=4.64]\n",
      "Evaluation:  61%|██████    | 11/18 [00:02<00:01,  5.00it/s]\n",
      "Train:   0%|          | 0/75 [00:00<?, ?it/s, accuracy=0.156, train_loss=4.64] "
     ]
    },
    {
     "name": "stdout",
     "output_type": "stream",
     "text": [
      "\t - Recall@20 epoch 9: 0.247159\n",
      "\t - MRR@20    epoch 9: 0.086378\n",
      "\n"
     ]
    },
    {
     "name": "stderr",
     "output_type": "stream",
     "text": [
      "Train:  92%|█████████▏| 69/75 [00:00<00:00, 149.43it/s, accuracy=0.0938, train_loss=4.6]\n",
      "Evaluation:  61%|██████    | 11/18 [00:02<00:01,  5.06it/s]\n",
      "Train:   0%|          | 0/75 [00:00<?, ?it/s, accuracy=0.0312, train_loss=4.58]"
     ]
    },
    {
     "name": "stdout",
     "output_type": "stream",
     "text": [
      "\t - Recall@20 epoch 10: 0.275568\n",
      "\t - MRR@20    epoch 10: 0.093556\n",
      "\n"
     ]
    },
    {
     "name": "stderr",
     "output_type": "stream",
     "text": [
      "Train:  92%|█████████▏| 69/75 [00:00<00:00, 143.32it/s, accuracy=0.0938, train_loss=4.5]\n",
      "Evaluation:  61%|██████    | 11/18 [00:02<00:01,  5.10it/s]\n",
      "Train:   0%|          | 0/75 [00:00<?, ?it/s, accuracy=0.0938, train_loss=4.53]"
     ]
    },
    {
     "name": "stdout",
     "output_type": "stream",
     "text": [
      "\t - Recall@20 epoch 11: 0.295455\n",
      "\t - MRR@20    epoch 11: 0.100099\n",
      "\n"
     ]
    },
    {
     "name": "stderr",
     "output_type": "stream",
     "text": [
      "Train:  92%|█████████▏| 69/75 [00:00<00:00, 147.29it/s, accuracy=0.125, train_loss=4.43]\n",
      "Evaluation:  61%|██████    | 11/18 [00:02<00:01,  5.15it/s]\n",
      "Train:   0%|          | 0/75 [00:00<?, ?it/s, accuracy=0.188, train_loss=4.22] "
     ]
    },
    {
     "name": "stdout",
     "output_type": "stream",
     "text": [
      "\t - Recall@20 epoch 12: 0.309659\n",
      "\t - MRR@20    epoch 12: 0.103875\n",
      "\n"
     ]
    },
    {
     "name": "stderr",
     "output_type": "stream",
     "text": [
      "Train:  92%|█████████▏| 69/75 [00:00<00:00, 146.98it/s, accuracy=0.0938, train_loss=4.39]\n",
      "Evaluation:  61%|██████    | 11/18 [00:02<00:01,  5.05it/s]\n",
      "Train:   0%|          | 0/75 [00:00<?, ?it/s, accuracy=0.0938, train_loss=4.38]"
     ]
    },
    {
     "name": "stdout",
     "output_type": "stream",
     "text": [
      "\t - Recall@20 epoch 13: 0.318182\n",
      "\t - MRR@20    epoch 13: 0.104565\n",
      "\n"
     ]
    },
    {
     "name": "stderr",
     "output_type": "stream",
     "text": [
      "Train:  92%|█████████▏| 69/75 [00:00<00:00, 145.80it/s, accuracy=0.125, train_loss=4.33]\n",
      "Evaluation:  61%|██████    | 11/18 [00:02<00:01,  5.21it/s]\n",
      "Train:   0%|          | 0/75 [00:00<?, ?it/s, accuracy=0.0625, train_loss=4.33]"
     ]
    },
    {
     "name": "stdout",
     "output_type": "stream",
     "text": [
      "\t - Recall@20 epoch 14: 0.318182\n",
      "\t - MRR@20    epoch 14: 0.105146\n",
      "\n"
     ]
    },
    {
     "name": "stderr",
     "output_type": "stream",
     "text": [
      "Train:  92%|█████████▏| 69/75 [00:00<00:00, 146.02it/s, accuracy=0.125, train_loss=4.24]\n",
      "Evaluation:  61%|██████    | 11/18 [00:02<00:01,  5.22it/s]\n",
      "Train:   0%|          | 0/75 [00:00<?, ?it/s, accuracy=0.25, train_loss=4.01]  "
     ]
    },
    {
     "name": "stdout",
     "output_type": "stream",
     "text": [
      "\t - Recall@20 epoch 15: 0.318182\n",
      "\t - MRR@20    epoch 15: 0.107244\n",
      "\n"
     ]
    },
    {
     "name": "stderr",
     "output_type": "stream",
     "text": [
      "Train:  92%|█████████▏| 69/75 [00:00<00:00, 149.15it/s, accuracy=0.0938, train_loss=4.13]\n",
      "Evaluation:  61%|██████    | 11/18 [00:02<00:01,  5.21it/s]\n",
      "Train:   0%|          | 0/75 [00:00<?, ?it/s, accuracy=0.0938, train_loss=4.26]"
     ]
    },
    {
     "name": "stdout",
     "output_type": "stream",
     "text": [
      "\t - Recall@20 epoch 16: 0.321023\n",
      "\t - MRR@20    epoch 16: 0.108762\n",
      "\n"
     ]
    },
    {
     "name": "stderr",
     "output_type": "stream",
     "text": [
      "Train:  92%|█████████▏| 69/75 [00:00<00:00, 141.35it/s, accuracy=0.156, train_loss=4.15]\n",
      "Evaluation:  61%|██████    | 11/18 [00:02<00:01,  5.26it/s]\n",
      "Train:   0%|          | 0/75 [00:00<?, ?it/s, accuracy=0.125, train_loss=4.11] "
     ]
    },
    {
     "name": "stdout",
     "output_type": "stream",
     "text": [
      "\t - Recall@20 epoch 17: 0.312500\n",
      "\t - MRR@20    epoch 17: 0.108560\n",
      "\n"
     ]
    },
    {
     "name": "stderr",
     "output_type": "stream",
     "text": [
      "Train:  92%|█████████▏| 69/75 [00:00<00:00, 148.04it/s, accuracy=0.0938, train_loss=4.06]\n",
      "Evaluation:  61%|██████    | 11/18 [00:02<00:01,  5.20it/s]\n",
      "Train:   0%|          | 0/75 [00:00<?, ?it/s, accuracy=0.0938, train_loss=4]   "
     ]
    },
    {
     "name": "stdout",
     "output_type": "stream",
     "text": [
      "\t - Recall@20 epoch 18: 0.323864\n",
      "\t - MRR@20    epoch 18: 0.113333\n",
      "\n"
     ]
    },
    {
     "name": "stderr",
     "output_type": "stream",
     "text": [
      "Train:  92%|█████████▏| 69/75 [00:00<00:00, 144.24it/s, accuracy=0.156, train_loss=3.97]\n",
      "Evaluation:  61%|██████    | 11/18 [00:02<00:01,  5.25it/s]\n",
      "Train:   0%|          | 0/75 [00:00<?, ?it/s, accuracy=0.156, train_loss=3.93] "
     ]
    },
    {
     "name": "stdout",
     "output_type": "stream",
     "text": [
      "\t - Recall@20 epoch 19: 0.332386\n",
      "\t - MRR@20    epoch 19: 0.113958\n",
      "\n"
     ]
    },
    {
     "name": "stderr",
     "output_type": "stream",
     "text": [
      "Train:  92%|█████████▏| 69/75 [00:00<00:00, 149.63it/s, accuracy=0.188, train_loss=3.85]\n",
      "Evaluation:  61%|██████    | 11/18 [00:02<00:01,  5.40it/s]\n",
      "Train:   0%|          | 0/75 [00:00<?, ?it/s, accuracy=0.156, train_loss=3.8]  "
     ]
    },
    {
     "name": "stdout",
     "output_type": "stream",
     "text": [
      "\t - Recall@20 epoch 20: 0.329545\n",
      "\t - MRR@20    epoch 20: 0.116094\n",
      "\n"
     ]
    },
    {
     "name": "stderr",
     "output_type": "stream",
     "text": [
      "Train:  92%|█████████▏| 69/75 [00:00<00:00, 135.77it/s, accuracy=0.188, train_loss=3.88]\n",
      "Evaluation:  61%|██████    | 11/18 [00:02<00:01,  5.29it/s]\n",
      "Train:   0%|          | 0/75 [00:00<?, ?it/s, accuracy=0.156, train_loss=3.79] "
     ]
    },
    {
     "name": "stdout",
     "output_type": "stream",
     "text": [
      "\t - Recall@20 epoch 21: 0.338068\n",
      "\t - MRR@20    epoch 21: 0.117035\n",
      "\n"
     ]
    },
    {
     "name": "stderr",
     "output_type": "stream",
     "text": [
      "Train:  92%|█████████▏| 69/75 [00:00<00:00, 148.71it/s, accuracy=0.219, train_loss=3.74]\n",
      "Evaluation:  61%|██████    | 11/18 [00:02<00:01,  5.32it/s]\n",
      "Train:   0%|          | 0/75 [00:00<?, ?it/s, accuracy=0.281, train_loss=3.52] "
     ]
    },
    {
     "name": "stdout",
     "output_type": "stream",
     "text": [
      "\t - Recall@20 epoch 22: 0.340909\n",
      "\t - MRR@20    epoch 22: 0.116006\n",
      "\n"
     ]
    },
    {
     "name": "stderr",
     "output_type": "stream",
     "text": [
      "Train:  92%|█████████▏| 69/75 [00:00<00:00, 147.53it/s, accuracy=0.188, train_loss=3.61]\n",
      "Evaluation:  61%|██████    | 11/18 [00:02<00:01,  5.19it/s]\n",
      "Train:   0%|          | 0/75 [00:00<?, ?it/s, accuracy=0.125, train_loss=3.57]"
     ]
    },
    {
     "name": "stdout",
     "output_type": "stream",
     "text": [
      "\t - Recall@20 epoch 23: 0.346591\n",
      "\t - MRR@20    epoch 23: 0.115511\n",
      "\n"
     ]
    },
    {
     "name": "stderr",
     "output_type": "stream",
     "text": [
      "Train:  92%|█████████▏| 69/75 [00:00<00:00, 147.34it/s, accuracy=0.188, train_loss=3.59]\n",
      "Evaluation:  61%|██████    | 11/18 [00:02<00:01,  5.21it/s]\n",
      "Train:   0%|          | 0/75 [00:00<?, ?it/s, accuracy=0.281, train_loss=3.37]"
     ]
    },
    {
     "name": "stdout",
     "output_type": "stream",
     "text": [
      "\t - Recall@20 epoch 24: 0.343750\n",
      "\t - MRR@20    epoch 24: 0.111652\n",
      "\n"
     ]
    },
    {
     "name": "stderr",
     "output_type": "stream",
     "text": [
      "Train:  92%|█████████▏| 69/75 [00:00<00:00, 144.92it/s, accuracy=0.219, train_loss=3.54]\n",
      "Evaluation:  61%|██████    | 11/18 [00:02<00:01,  5.21it/s]\n",
      "Train:   0%|          | 0/75 [00:00<?, ?it/s, accuracy=0.312, train_loss=3.08] "
     ]
    },
    {
     "name": "stdout",
     "output_type": "stream",
     "text": [
      "\t - Recall@20 epoch 25: 0.349432\n",
      "\t - MRR@20    epoch 25: 0.109983\n",
      "\n"
     ]
    },
    {
     "name": "stderr",
     "output_type": "stream",
     "text": [
      "Train:  92%|█████████▏| 69/75 [00:00<00:00, 146.99it/s, accuracy=0.312, train_loss=3.41]\n",
      "Evaluation:  61%|██████    | 11/18 [00:02<00:01,  5.24it/s]\n",
      "Train:   0%|          | 0/75 [00:00<?, ?it/s, accuracy=0.156, train_loss=3.36]"
     ]
    },
    {
     "name": "stdout",
     "output_type": "stream",
     "text": [
      "\t - Recall@20 epoch 26: 0.343750\n",
      "\t - MRR@20    epoch 26: 0.109518\n",
      "\n"
     ]
    },
    {
     "name": "stderr",
     "output_type": "stream",
     "text": [
      "Train:  92%|█████████▏| 69/75 [00:00<00:00, 146.67it/s, accuracy=0.281, train_loss=3.38]\n",
      "Evaluation:  61%|██████    | 11/18 [00:02<00:01,  5.29it/s]\n",
      "Train:   0%|          | 0/75 [00:00<?, ?it/s, accuracy=0.25, train_loss=3.34] "
     ]
    },
    {
     "name": "stdout",
     "output_type": "stream",
     "text": [
      "\t - Recall@20 epoch 27: 0.338068\n",
      "\t - MRR@20    epoch 27: 0.109983\n",
      "\n"
     ]
    },
    {
     "name": "stderr",
     "output_type": "stream",
     "text": [
      "Train:  92%|█████████▏| 69/75 [00:00<00:00, 145.10it/s, accuracy=0.281, train_loss=3.24]\n",
      "Evaluation:  61%|██████    | 11/18 [00:02<00:01,  5.25it/s]\n",
      "Train:   0%|          | 0/75 [00:00<?, ?it/s, accuracy=0.25, train_loss=3.19] "
     ]
    },
    {
     "name": "stdout",
     "output_type": "stream",
     "text": [
      "\t - Recall@20 epoch 28: 0.335227\n",
      "\t - MRR@20    epoch 28: 0.113343\n",
      "\n"
     ]
    },
    {
     "name": "stderr",
     "output_type": "stream",
     "text": [
      "Train:  92%|█████████▏| 69/75 [00:00<00:00, 147.83it/s, accuracy=0.281, train_loss=3.23]\n",
      "Evaluation:  61%|██████    | 11/18 [00:02<00:01,  5.29it/s]\n",
      "Train:   0%|          | 0/75 [00:00<?, ?it/s, accuracy=0.312, train_loss=3.04]"
     ]
    },
    {
     "name": "stdout",
     "output_type": "stream",
     "text": [
      "\t - Recall@20 epoch 29: 0.346591\n",
      "\t - MRR@20    epoch 29: 0.114317\n",
      "\n"
     ]
    },
    {
     "name": "stderr",
     "output_type": "stream",
     "text": [
      "Train:  92%|█████████▏| 69/75 [00:00<00:00, 146.83it/s, accuracy=0.281, train_loss=3.19]\n",
      "Evaluation:  61%|██████    | 11/18 [00:02<00:01,  5.18it/s]"
     ]
    },
    {
     "name": "stdout",
     "output_type": "stream",
     "text": [
      "\t - Recall@20 epoch 30: 0.349432\n",
      "\t - MRR@20    epoch 30: 0.117801\n",
      "\n"
     ]
    },
    {
     "name": "stderr",
     "output_type": "stream",
     "text": [
      "\n"
     ]
    }
   ],
   "source": [
    "# 학습 시간이 다소 오래 소요됩니다. (예상시간 1시간)\n",
    "train_model(model, args)"
   ]
  },
  {
   "cell_type": "markdown",
   "id": "light-wilderness",
   "metadata": {},
   "source": [
    "## 6. Test"
   ]
  },
  {
   "cell_type": "code",
   "execution_count": 78,
   "id": "early-james",
   "metadata": {},
   "outputs": [
    {
     "name": "stderr",
     "output_type": "stream",
     "text": [
      "Evaluation:  11%|█         | 1/9 [00:00<00:01,  4.78it/s]"
     ]
    },
    {
     "name": "stdout",
     "output_type": "stream",
     "text": [
      "\t - Recall@20: 0.281250\n",
      "\t - MRR@20: 0.093961\n",
      "\n"
     ]
    },
    {
     "name": "stderr",
     "output_type": "stream",
     "text": [
      "\n"
     ]
    }
   ],
   "source": [
    "\n",
    "def test_model(model, args, test):\n",
    "    test_recall, test_mrr = get_metrics(test, model, args, 20)\n",
    "    print(f\"\\t - Recall@{args.k}: {test_recall:3f}\")\n",
    "    print(f\"\\t - MRR@{args.k}: {test_mrr:3f}\\n\")\n",
    "\n",
    "test_model(model, args, test)"
   ]
  },
  {
   "cell_type": "markdown",
   "id": "contained-hopkins",
   "metadata": {},
   "source": [
    "## try 2 : 삼년치 데이터 다쓰기"
   ]
  },
  {
   "cell_type": "code",
   "execution_count": 81,
   "id": "specialized-blame",
   "metadata": {},
   "outputs": [
    {
     "name": "stdout",
     "output_type": "stream",
     "text": [
      "* train Set Stats Info\n",
      "\t Events: 938973\n",
      "\t Sessions: 16608\n",
      "\t Items: 2992\n",
      "\t First Time : 2000-04-25 23:05:32\n",
      "\t Last Time : 2002-03-04 19:17:26\n",
      "\n",
      "* valid Set Stats Info\n",
      "\t Events: 11211\n",
      "\t Sessions: 919\n",
      "\t Items: 2450\n",
      "\t First Time : 2002-03-04 20:36:36\n",
      "\t Last Time : 2002-08-31 20:38:06\n",
      "\n",
      "* test Set Stats Info\n",
      "\t Events: 8022\n",
      "\t Sessions: 612\n",
      "\t Items: 2161\n",
      "\t First Time : 2002-09-01 19:41:39\n",
      "\t Last Time : 2003-02-28 17:49:50\n",
      "\n"
     ]
    }
   ],
   "source": [
    "data_path = Path(os.getenv('HOME')+'/aiffel/yoochoose/data/') \n",
    "train_path = data_path / 'ratings.dat'\n",
    "\n",
    "data = load_data(train_path, None)\n",
    "data.sort_values(['UserId', 'Time'], inplace=True)  # data를 id와 시간 순서로 정렬해줍니다.\n",
    "data['Time'] = data['Time'].map(lambda x: datetime.fromtimestamp(x))\n",
    "data['delta'] = (data['Time'] - data['Time'].shift()).fillna(pd.Timedelta(seconds=0))\n",
    "data['SessionId'] = data.apply(get_session_id, axis=1)\n",
    "data = cleanse_recursive(data, shortest=2, logest=700, least_click=20) \n",
    "tr, test = split_by_date(data, n_days=180)   # 1년치가아니라 3년치 이기 때문에 바꿔 줘야 합니다.\n",
    "tr, val = split_by_date(tr, n_days=180)\n",
    "stats_info(tr, 'train')\n",
    "stats_info(val, 'valid')\n",
    "stats_info(test, 'test')"
   ]
  },
  {
   "cell_type": "code",
   "execution_count": 85,
   "id": "ahead-jurisdiction",
   "metadata": {},
   "outputs": [
    {
     "name": "stdout",
     "output_type": "stream",
     "text": [
      "Model Input Item Idx are : [ 0 40 53 65]\n",
      "Label Item Idx are :       [ 1 41 54 62]\n",
      "Previous Masked Input Idx are []\n"
     ]
    }
   ],
   "source": [
    "# train set에 없는 아이템이 val, test기간에 생길 수 있으므로 train data를 기준으로 인덱싱합니다.\n",
    "id2idx = {item_id : index for index, item_id in enumerate(tr['ItemId'].unique())}\n",
    "\n",
    "tr = indexing(tr, id2idx)\n",
    "val = indexing(val, id2idx)\n",
    "test = indexing(test, id2idx)\n",
    "\n",
    "save_path = data_path / 'processed'\n",
    "save_path.mkdir(parents=True, exist_ok=True)\n",
    "\n",
    "tr.to_pickle(save_path / 'train.pkl')\n",
    "val.to_pickle(save_path / 'valid.pkl')\n",
    "test.to_pickle(save_path / 'test.pkl')\n",
    "\n",
    "tr_dataset = SessionDataset(tr)\n",
    "\n",
    "tr_data_loader = SessionDataLoader(tr_dataset, batch_size=4)\n",
    "iter_ex = iter(tr_data_loader)\n",
    "inputs, labels, mask =  next(iter_ex)\n",
    "print(f'Model Input Item Idx are : {inputs}')\n",
    "print(f'Label Item Idx are : {\"\":5} {labels}')\n",
    "print(f'Previous Masked Input Idx are {mask}')"
   ]
  },
  {
   "cell_type": "code",
   "execution_count": 92,
   "id": "controlling-smell",
   "metadata": {},
   "outputs": [],
   "source": [
    "args = Args(tr, val, test, batch_size=512, hsz=50, drop_rate=0.1, lr=0.001, epochs=20, k=20)"
   ]
  },
  {
   "cell_type": "code",
   "execution_count": 93,
   "id": "blessed-temperature",
   "metadata": {},
   "outputs": [
    {
     "name": "stdout",
     "output_type": "stream",
     "text": [
      "Model: \"model_6\"\n",
      "_________________________________________________________________\n",
      "Layer (type)                 Output Shape              Param #   \n",
      "=================================================================\n",
      "input_7 (InputLayer)         [(512, 1, 2992)]          0         \n",
      "_________________________________________________________________\n",
      "GRU (GRU)                    [(512, 50), (512, 50)]    456600    \n",
      "_________________________________________________________________\n",
      "dropout_6 (Dropout)          (512, 50)                 0         \n",
      "_________________________________________________________________\n",
      "dense_6 (Dense)              (512, 2992)               152592    \n",
      "=================================================================\n",
      "Total params: 609,192\n",
      "Trainable params: 609,192\n",
      "Non-trainable params: 0\n",
      "_________________________________________________________________\n"
     ]
    }
   ],
   "source": [
    "model = create_model(args)"
   ]
  },
  {
   "cell_type": "code",
   "execution_count": 94,
   "id": "loaded-barrier",
   "metadata": {},
   "outputs": [
    {
     "name": "stderr",
     "output_type": "stream",
     "text": [
      "Train:  95%|█████████▍| 1710/1801 [00:55<00:02, 30.56it/s, accuracy=0.0117, train_loss=6.65] \n",
      "Evaluation:  20%|██        | 4/20 [00:11<00:46,  2.92s/it]\n",
      "Train:   0%|          | 0/1801 [00:00<?, ?it/s, accuracy=0.00391, train_loss=7.28]"
     ]
    },
    {
     "name": "stdout",
     "output_type": "stream",
     "text": [
      "\t - Recall@20 epoch 1: 0.042969\n",
      "\t - MRR@20    epoch 1: 0.013389\n",
      "\n"
     ]
    },
    {
     "name": "stderr",
     "output_type": "stream",
     "text": [
      "Train:  95%|█████████▍| 1710/1801 [00:55<00:02, 30.60it/s, accuracy=0.00781, train_loss=6.11]\n",
      "Evaluation:  20%|██        | 4/20 [00:11<00:45,  2.84s/it]\n",
      "Train:   0%|          | 0/1801 [00:00<?, ?it/s, accuracy=0.0176, train_loss=6.91]"
     ]
    },
    {
     "name": "stdout",
     "output_type": "stream",
     "text": [
      "\t - Recall@20 epoch 2: 0.077637\n",
      "\t - MRR@20    epoch 2: 0.021397\n",
      "\n"
     ]
    },
    {
     "name": "stderr",
     "output_type": "stream",
     "text": [
      "Train:  95%|█████████▍| 1710/1801 [00:55<00:02, 30.77it/s, accuracy=0.0234, train_loss=5.91] \n",
      "Evaluation:  20%|██        | 4/20 [00:11<00:44,  2.78s/it]\n",
      "Train:   0%|          | 0/1801 [00:00<?, ?it/s, accuracy=0.0234, train_loss=6.75]"
     ]
    },
    {
     "name": "stdout",
     "output_type": "stream",
     "text": [
      "\t - Recall@20 epoch 3: 0.083496\n",
      "\t - MRR@20    epoch 3: 0.025471\n",
      "\n"
     ]
    },
    {
     "name": "stderr",
     "output_type": "stream",
     "text": [
      "Train:  95%|█████████▍| 1710/1801 [00:55<00:02, 30.81it/s, accuracy=0.0352, train_loss=5.81] \n",
      "Evaluation:  20%|██        | 4/20 [00:11<00:44,  2.80s/it]\n",
      "Train:   0%|          | 0/1801 [00:00<?, ?it/s, accuracy=0.0254, train_loss=6.7] "
     ]
    },
    {
     "name": "stdout",
     "output_type": "stream",
     "text": [
      "\t - Recall@20 epoch 4: 0.089844\n",
      "\t - MRR@20    epoch 4: 0.027192\n",
      "\n"
     ]
    },
    {
     "name": "stderr",
     "output_type": "stream",
     "text": [
      "Train:  95%|█████████▍| 1710/1801 [00:55<00:02, 30.86it/s, accuracy=0.0332, train_loss=5.7] \n",
      "Evaluation:  20%|██        | 4/20 [00:11<00:44,  2.77s/it]\n",
      "Train:   0%|          | 0/1801 [00:00<?, ?it/s, accuracy=0.0195, train_loss=6.67]"
     ]
    },
    {
     "name": "stdout",
     "output_type": "stream",
     "text": [
      "\t - Recall@20 epoch 5: 0.099609\n",
      "\t - MRR@20    epoch 5: 0.029282\n",
      "\n"
     ]
    },
    {
     "name": "stderr",
     "output_type": "stream",
     "text": [
      "Train:  95%|█████████▍| 1710/1801 [00:56<00:03, 30.15it/s, accuracy=0.0391, train_loss=5.7] \n",
      "Evaluation:  20%|██        | 4/20 [00:11<00:44,  2.80s/it]\n",
      "Train:   0%|          | 0/1801 [00:00<?, ?it/s, accuracy=0.0234, train_loss=6.64]"
     ]
    },
    {
     "name": "stdout",
     "output_type": "stream",
     "text": [
      "\t - Recall@20 epoch 6: 0.101074\n",
      "\t - MRR@20    epoch 6: 0.031716\n",
      "\n"
     ]
    },
    {
     "name": "stderr",
     "output_type": "stream",
     "text": [
      "Train:  95%|█████████▍| 1710/1801 [00:55<00:02, 30.72it/s, accuracy=0.0469, train_loss=5.66]\n",
      "Evaluation:  20%|██        | 4/20 [00:11<00:44,  2.79s/it]\n",
      "Train:   0%|          | 0/1801 [00:00<?, ?it/s, accuracy=0.0293, train_loss=6.6] "
     ]
    },
    {
     "name": "stdout",
     "output_type": "stream",
     "text": [
      "\t - Recall@20 epoch 7: 0.101074\n",
      "\t - MRR@20    epoch 7: 0.032860\n",
      "\n"
     ]
    },
    {
     "name": "stderr",
     "output_type": "stream",
     "text": [
      "Train:  95%|█████████▍| 1710/1801 [00:55<00:02, 30.80it/s, accuracy=0.0371, train_loss=5.63]\n",
      "Evaluation:  20%|██        | 4/20 [00:11<00:44,  2.76s/it]\n",
      "Train:   0%|          | 0/1801 [00:00<?, ?it/s, accuracy=0.0234, train_loss=6.59]"
     ]
    },
    {
     "name": "stdout",
     "output_type": "stream",
     "text": [
      "\t - Recall@20 epoch 8: 0.102051\n",
      "\t - MRR@20    epoch 8: 0.033824\n",
      "\n"
     ]
    },
    {
     "name": "stderr",
     "output_type": "stream",
     "text": [
      "Train:  95%|█████████▍| 1710/1801 [00:55<00:02, 30.80it/s, accuracy=0.0332, train_loss=5.62]\n",
      "Evaluation:  20%|██        | 4/20 [00:11<00:44,  2.77s/it]\n",
      "Train:   0%|          | 0/1801 [00:00<?, ?it/s, accuracy=0.0312, train_loss=6.55]"
     ]
    },
    {
     "name": "stdout",
     "output_type": "stream",
     "text": [
      "\t - Recall@20 epoch 9: 0.101562\n",
      "\t - MRR@20    epoch 9: 0.033464\n",
      "\n"
     ]
    },
    {
     "name": "stderr",
     "output_type": "stream",
     "text": [
      "Train:  95%|█████████▍| 1710/1801 [00:55<00:02, 30.68it/s, accuracy=0.0371, train_loss=5.6] \n",
      "Evaluation:  20%|██        | 4/20 [00:10<00:43,  2.71s/it]\n",
      "Train:   0%|          | 0/1801 [00:00<?, ?it/s, accuracy=0.0352, train_loss=6.51]"
     ]
    },
    {
     "name": "stdout",
     "output_type": "stream",
     "text": [
      "\t - Recall@20 epoch 10: 0.101074\n",
      "\t - MRR@20    epoch 10: 0.034058\n",
      "\n"
     ]
    },
    {
     "name": "stderr",
     "output_type": "stream",
     "text": [
      "Train:  95%|█████████▍| 1710/1801 [00:56<00:02, 30.49it/s, accuracy=0.041, train_loss=5.58] \n",
      "Evaluation:  20%|██        | 4/20 [00:11<00:44,  2.80s/it]\n",
      "Train:   0%|          | 0/1801 [00:00<?, ?it/s, accuracy=0.0254, train_loss=6.52]"
     ]
    },
    {
     "name": "stdout",
     "output_type": "stream",
     "text": [
      "\t - Recall@20 epoch 11: 0.102539\n",
      "\t - MRR@20    epoch 11: 0.035001\n",
      "\n"
     ]
    },
    {
     "name": "stderr",
     "output_type": "stream",
     "text": [
      "Train:  95%|█████████▍| 1710/1801 [00:55<00:02, 30.80it/s, accuracy=0.041, train_loss=5.56] \n",
      "Evaluation:  20%|██        | 4/20 [00:11<00:44,  2.77s/it]\n",
      "Train:   0%|          | 0/1801 [00:00<?, ?it/s, accuracy=0.0332, train_loss=6.5] "
     ]
    },
    {
     "name": "stdout",
     "output_type": "stream",
     "text": [
      "\t - Recall@20 epoch 12: 0.100586\n",
      "\t - MRR@20    epoch 12: 0.035757\n",
      "\n"
     ]
    },
    {
     "name": "stderr",
     "output_type": "stream",
     "text": [
      "Train:  95%|█████████▍| 1710/1801 [00:55<00:02, 30.65it/s, accuracy=0.0469, train_loss=5.57]\n",
      "Evaluation:  20%|██        | 4/20 [00:11<00:44,  2.75s/it]\n",
      "Train:   0%|          | 0/1801 [00:00<?, ?it/s, accuracy=0.0371, train_loss=6.51]"
     ]
    },
    {
     "name": "stdout",
     "output_type": "stream",
     "text": [
      "\t - Recall@20 epoch 13: 0.103027\n",
      "\t - MRR@20    epoch 13: 0.034981\n",
      "\n"
     ]
    },
    {
     "name": "stderr",
     "output_type": "stream",
     "text": [
      "Train:  95%|█████████▍| 1710/1801 [00:55<00:02, 30.57it/s, accuracy=0.041, train_loss=5.52] \n",
      "Evaluation:  20%|██        | 4/20 [00:11<00:45,  2.81s/it]\n",
      "Train:   0%|          | 0/1801 [00:00<?, ?it/s, accuracy=0.0254, train_loss=6.47]"
     ]
    },
    {
     "name": "stdout",
     "output_type": "stream",
     "text": [
      "\t - Recall@20 epoch 14: 0.102051\n",
      "\t - MRR@20    epoch 14: 0.034591\n",
      "\n"
     ]
    },
    {
     "name": "stderr",
     "output_type": "stream",
     "text": [
      "Train:  95%|█████████▍| 1710/1801 [00:55<00:02, 30.76it/s, accuracy=0.0449, train_loss=5.51]\n",
      "Evaluation:  20%|██        | 4/20 [00:11<00:44,  2.80s/it]\n",
      "Train:   0%|          | 0/1801 [00:00<?, ?it/s, accuracy=0.0371, train_loss=6.47]"
     ]
    },
    {
     "name": "stdout",
     "output_type": "stream",
     "text": [
      "\t - Recall@20 epoch 15: 0.100586\n",
      "\t - MRR@20    epoch 15: 0.034123\n",
      "\n"
     ]
    },
    {
     "name": "stderr",
     "output_type": "stream",
     "text": [
      "Train:  95%|█████████▍| 1710/1801 [00:55<00:02, 30.65it/s, accuracy=0.0391, train_loss=5.54]\n",
      "Evaluation:  20%|██        | 4/20 [00:11<00:44,  2.80s/it]\n",
      "Train:   0%|          | 0/1801 [00:00<?, ?it/s, accuracy=0.043, train_loss=6.47] "
     ]
    },
    {
     "name": "stdout",
     "output_type": "stream",
     "text": [
      "\t - Recall@20 epoch 16: 0.099609\n",
      "\t - MRR@20    epoch 16: 0.033791\n",
      "\n"
     ]
    },
    {
     "name": "stderr",
     "output_type": "stream",
     "text": [
      "Train:  95%|█████████▍| 1710/1801 [00:55<00:02, 30.75it/s, accuracy=0.041, train_loss=5.54] \n",
      "Evaluation:  20%|██        | 4/20 [00:11<00:44,  2.80s/it]\n",
      "Train:   0%|          | 0/1801 [00:00<?, ?it/s, accuracy=0.0312, train_loss=6.47]"
     ]
    },
    {
     "name": "stdout",
     "output_type": "stream",
     "text": [
      "\t - Recall@20 epoch 17: 0.102051\n",
      "\t - MRR@20    epoch 17: 0.033999\n",
      "\n"
     ]
    },
    {
     "name": "stderr",
     "output_type": "stream",
     "text": [
      "Train:  95%|█████████▍| 1710/1801 [00:55<00:02, 30.76it/s, accuracy=0.043, train_loss=5.53] \n",
      "Evaluation:  20%|██        | 4/20 [00:11<00:44,  2.76s/it]\n",
      "Train:   0%|          | 0/1801 [00:00<?, ?it/s, accuracy=0.043, train_loss=6.22] "
     ]
    },
    {
     "name": "stdout",
     "output_type": "stream",
     "text": [
      "\t - Recall@20 epoch 18: 0.103027\n",
      "\t - MRR@20    epoch 18: 0.033905\n",
      "\n"
     ]
    },
    {
     "name": "stderr",
     "output_type": "stream",
     "text": [
      "Train:  95%|█████████▍| 1710/1801 [00:55<00:02, 30.68it/s, accuracy=0.0508, train_loss=5.52]\n",
      "Evaluation:  20%|██        | 4/20 [00:11<00:44,  2.79s/it]\n",
      "Train:   0%|          | 0/1801 [00:00<?, ?it/s, accuracy=0.041, train_loss=6.4]  "
     ]
    },
    {
     "name": "stdout",
     "output_type": "stream",
     "text": [
      "\t - Recall@20 epoch 19: 0.103027\n",
      "\t - MRR@20    epoch 19: 0.034181\n",
      "\n"
     ]
    },
    {
     "name": "stderr",
     "output_type": "stream",
     "text": [
      "Train:  95%|█████████▍| 1710/1801 [00:55<00:02, 30.80it/s, accuracy=0.0449, train_loss=5.51]\n",
      "Evaluation:  20%|██        | 4/20 [00:11<00:44,  2.80s/it]"
     ]
    },
    {
     "name": "stdout",
     "output_type": "stream",
     "text": [
      "\t - Recall@20 epoch 20: 0.104980\n",
      "\t - MRR@20    epoch 20: 0.034370\n",
      "\n"
     ]
    },
    {
     "name": "stderr",
     "output_type": "stream",
     "text": [
      "\n"
     ]
    }
   ],
   "source": [
    "train_model(model, args)"
   ]
  },
  {
   "cell_type": "code",
   "execution_count": 95,
   "id": "recognized-running",
   "metadata": {},
   "outputs": [
    {
     "name": "stderr",
     "output_type": "stream",
     "text": [
      "Evaluation:   7%|▋         | 1/14 [00:02<00:35,  2.73s/it]"
     ]
    },
    {
     "name": "stdout",
     "output_type": "stream",
     "text": [
      "\t - Recall@20: 0.099609\n",
      "\t - MRR@20: 0.035424\n",
      "\n"
     ]
    },
    {
     "name": "stderr",
     "output_type": "stream",
     "text": [
      "\n"
     ]
    }
   ],
   "source": [
    "test_model(model, args, test)"
   ]
  },
  {
   "cell_type": "markdown",
   "id": "dense-midnight",
   "metadata": {},
   "source": [
    "## try 3 :  2년치 데이터"
   ]
  },
  {
   "cell_type": "code",
   "execution_count": 96,
   "id": "informed-induction",
   "metadata": {},
   "outputs": [
    {
     "name": "stdout",
     "output_type": "stream",
     "text": [
      "* train Set Stats Info\n",
      "\t Events: 43989\n",
      "\t Sessions: 3470\n",
      "\t Items: 1123\n",
      "\t First Time : 2001-02-28 19:06:53\n",
      "\t Last Time : 2002-10-31 16:33:08\n",
      "\n",
      "* valid Set Stats Info\n",
      "\t Events: 2225\n",
      "\t Sessions: 173\n",
      "\t Items: 911\n",
      "\t First Time : 2002-11-01 02:56:19\n",
      "\t Last Time : 2002-12-30 16:48:39\n",
      "\n",
      "* test Set Stats Info\n",
      "\t Events: 2363\n",
      "\t Sessions: 191\n",
      "\t Items: 934\n",
      "\t First Time : 2002-12-30 18:21:02\n",
      "\t Last Time : 2003-02-28 17:49:08\n",
      "\n"
     ]
    }
   ],
   "source": [
    "data_path = Path(os.getenv('HOME')+'/aiffel/yoochoose/data/') \n",
    "train_path = data_path / 'ratings.dat'\n",
    "\n",
    "data = load_data(train_path, None)\n",
    "data.sort_values(['UserId', 'Time'], inplace=True)  # data를 id와 시간 순서로 정렬해줍니다.\n",
    "data['Time'] = data['Time'].map(lambda x: datetime.fromtimestamp(x))\n",
    "data['delta'] = (data['Time'] - data['Time'].shift()).fillna(pd.Timedelta(seconds=0))\n",
    "data['SessionId'] = data.apply(get_session_id, axis=1)\n",
    "month_ago = latest - dt.timedelta(days=730)     # 최종 날짜로부터 730일 이전 날짜를 구한다.  \n",
    "data = data[data['Time'] > month_ago]   # 방금 구한 날짜 이후의 데이터만 모은다. \n",
    "data = cleanse_recursive(data, shortest=2, logest=700, least_click=20) \n",
    "tr, test = split_by_date(data, n_days=60)   # 1년치가아니라 3년치 이기 때문에 바꿔 줘야 합니다.\n",
    "tr, val = split_by_date(tr, n_days=60)\n",
    "stats_info(tr, 'train')\n",
    "stats_info(val, 'valid')\n",
    "stats_info(test, 'test')"
   ]
  },
  {
   "cell_type": "code",
   "execution_count": 97,
   "id": "worse-level",
   "metadata": {},
   "outputs": [
    {
     "name": "stdout",
     "output_type": "stream",
     "text": [
      "Model Input Item Idx are : [ 0  2 12 21]\n",
      "Label Item Idx are :       [ 1  3 13 22]\n",
      "Previous Masked Input Idx are []\n"
     ]
    }
   ],
   "source": [
    "# train set에 없는 아이템이 val, test기간에 생길 수 있으므로 train data를 기준으로 인덱싱합니다.\n",
    "id2idx = {item_id : index for index, item_id in enumerate(tr['ItemId'].unique())}\n",
    "\n",
    "tr = indexing(tr, id2idx)\n",
    "val = indexing(val, id2idx)\n",
    "test = indexing(test, id2idx)\n",
    "\n",
    "save_path = data_path / 'processed'\n",
    "save_path.mkdir(parents=True, exist_ok=True)\n",
    "\n",
    "tr.to_pickle(save_path / 'train.pkl')\n",
    "val.to_pickle(save_path / 'valid.pkl')\n",
    "test.to_pickle(save_path / 'test.pkl')\n",
    "\n",
    "tr_dataset = SessionDataset(tr)\n",
    "\n",
    "tr_data_loader = SessionDataLoader(tr_dataset, batch_size=4)\n",
    "iter_ex = iter(tr_data_loader)\n",
    "inputs, labels, mask =  next(iter_ex)\n",
    "print(f'Model Input Item Idx are : {inputs}')\n",
    "print(f'Label Item Idx are : {\"\":5} {labels}')\n",
    "print(f'Previous Masked Input Idx are {mask}')"
   ]
  },
  {
   "cell_type": "code",
   "execution_count": 104,
   "id": "offshore-sustainability",
   "metadata": {},
   "outputs": [],
   "source": [
    "args = Args(tr, val, test, batch_size=128, hsz=50, drop_rate=0.1, lr=0.001, epochs=20, k=20)"
   ]
  },
  {
   "cell_type": "code",
   "execution_count": 105,
   "id": "creative-mechanism",
   "metadata": {},
   "outputs": [
    {
     "name": "stdout",
     "output_type": "stream",
     "text": [
      "Model: \"model_9\"\n",
      "_________________________________________________________________\n",
      "Layer (type)                 Output Shape              Param #   \n",
      "=================================================================\n",
      "input_10 (InputLayer)        [(128, 1, 1123)]          0         \n",
      "_________________________________________________________________\n",
      "GRU (GRU)                    [(128, 50), (128, 50)]    176250    \n",
      "_________________________________________________________________\n",
      "dropout_9 (Dropout)          (128, 50)                 0         \n",
      "_________________________________________________________________\n",
      "dense_9 (Dense)              (128, 1123)               57273     \n",
      "=================================================================\n",
      "Total params: 233,523\n",
      "Trainable params: 233,523\n",
      "Non-trainable params: 0\n",
      "_________________________________________________________________\n"
     ]
    }
   ],
   "source": [
    "model = create_model(args)"
   ]
  },
  {
   "cell_type": "code",
   "execution_count": 106,
   "id": "subtle-assistant",
   "metadata": {},
   "outputs": [
    {
     "name": "stderr",
     "output_type": "stream",
     "text": [
      "Train:  91%|█████████ | 288/316 [00:04<00:00, 71.68it/s, accuracy=0.00781, train_loss=6.98]\n",
      "Evaluation:  12%|█▎        | 2/16 [00:01<00:12,  1.14it/s]\n",
      "Train:   0%|          | 0/316 [00:00<?, ?it/s, accuracy=0, train_loss=6.86]      "
     ]
    },
    {
     "name": "stdout",
     "output_type": "stream",
     "text": [
      "\t - Recall@20 epoch 1: 0.054688\n",
      "\t - MRR@20    epoch 1: 0.008696\n",
      "\n"
     ]
    },
    {
     "name": "stderr",
     "output_type": "stream",
     "text": [
      "Train:  91%|█████████ | 288/316 [00:02<00:00, 100.39it/s, accuracy=0.00781, train_loss=6.86]\n",
      "Evaluation:  12%|█▎        | 2/16 [00:01<00:10,  1.35it/s]\n",
      "Train:   0%|          | 0/316 [00:00<?, ?it/s, accuracy=0.00781, train_loss=6.79]"
     ]
    },
    {
     "name": "stdout",
     "output_type": "stream",
     "text": [
      "\t - Recall@20 epoch 2: 0.058594\n",
      "\t - MRR@20    epoch 2: 0.010301\n",
      "\n"
     ]
    },
    {
     "name": "stderr",
     "output_type": "stream",
     "text": [
      "Train:  91%|█████████ | 288/316 [00:02<00:00, 102.95it/s, accuracy=0.00781, train_loss=6.77]\n",
      "Evaluation:  12%|█▎        | 2/16 [00:01<00:10,  1.34it/s]\n",
      "Train:   0%|          | 0/316 [00:00<?, ?it/s, accuracy=0.00781, train_loss=6.56]"
     ]
    },
    {
     "name": "stdout",
     "output_type": "stream",
     "text": [
      "\t - Recall@20 epoch 3: 0.042969\n",
      "\t - MRR@20    epoch 3: 0.008969\n",
      "\n"
     ]
    },
    {
     "name": "stderr",
     "output_type": "stream",
     "text": [
      "Train:  91%|█████████ | 288/316 [00:02<00:00, 100.87it/s, accuracy=0, train_loss=6.61]      \n",
      "Evaluation:  12%|█▎        | 2/16 [00:01<00:10,  1.34it/s]\n",
      "Train:   0%|          | 0/316 [00:00<?, ?it/s, accuracy=0.00781, train_loss=6.46]"
     ]
    },
    {
     "name": "stdout",
     "output_type": "stream",
     "text": [
      "\t - Recall@20 epoch 4: 0.050781\n",
      "\t - MRR@20    epoch 4: 0.013026\n",
      "\n"
     ]
    },
    {
     "name": "stderr",
     "output_type": "stream",
     "text": [
      "Train:  91%|█████████ | 288/316 [00:02<00:00, 101.41it/s, accuracy=0.0156, train_loss=6.5]  \n",
      "Evaluation:  12%|█▎        | 2/16 [00:01<00:10,  1.36it/s]\n",
      "Train:   0%|          | 0/316 [00:00<?, ?it/s, accuracy=0.00781, train_loss=6.31]"
     ]
    },
    {
     "name": "stdout",
     "output_type": "stream",
     "text": [
      "\t - Recall@20 epoch 5: 0.050781\n",
      "\t - MRR@20    epoch 5: 0.019698\n",
      "\n"
     ]
    },
    {
     "name": "stderr",
     "output_type": "stream",
     "text": [
      "Train:  91%|█████████ | 288/316 [00:02<00:00, 101.03it/s, accuracy=0.0234, train_loss=6.39] \n",
      "Evaluation:  12%|█▎        | 2/16 [00:01<00:10,  1.35it/s]\n",
      "Train:   0%|          | 0/316 [00:00<?, ?it/s, accuracy=0.00781, train_loss=6.17]"
     ]
    },
    {
     "name": "stdout",
     "output_type": "stream",
     "text": [
      "\t - Recall@20 epoch 6: 0.058594\n",
      "\t - MRR@20    epoch 6: 0.019796\n",
      "\n"
     ]
    },
    {
     "name": "stderr",
     "output_type": "stream",
     "text": [
      "Train:  91%|█████████ | 288/316 [00:02<00:00, 100.80it/s, accuracy=0.0234, train_loss=6.27] \n",
      "Evaluation:  12%|█▎        | 2/16 [00:01<00:10,  1.34it/s]\n",
      "Train:   0%|          | 0/316 [00:00<?, ?it/s, accuracy=0.0469, train_loss=6.04] "
     ]
    },
    {
     "name": "stdout",
     "output_type": "stream",
     "text": [
      "\t - Recall@20 epoch 7: 0.058594\n",
      "\t - MRR@20    epoch 7: 0.021504\n",
      "\n"
     ]
    },
    {
     "name": "stderr",
     "output_type": "stream",
     "text": [
      "Train:  91%|█████████ | 288/316 [00:02<00:00, 102.68it/s, accuracy=0.0312, train_loss=6.16] \n",
      "Evaluation:  12%|█▎        | 2/16 [00:01<00:10,  1.37it/s]\n",
      "Train:   0%|          | 0/316 [00:00<?, ?it/s, accuracy=0.0469, train_loss=5.93]"
     ]
    },
    {
     "name": "stdout",
     "output_type": "stream",
     "text": [
      "\t - Recall@20 epoch 8: 0.066406\n",
      "\t - MRR@20    epoch 8: 0.025292\n",
      "\n"
     ]
    },
    {
     "name": "stderr",
     "output_type": "stream",
     "text": [
      "Train:  91%|█████████ | 288/316 [00:02<00:00, 102.85it/s, accuracy=0.0469, train_loss=6.06] \n",
      "Evaluation:  12%|█▎        | 2/16 [00:01<00:10,  1.37it/s]\n",
      "Train:   0%|          | 0/316 [00:00<?, ?it/s, accuracy=0.0625, train_loss=5.8] "
     ]
    },
    {
     "name": "stdout",
     "output_type": "stream",
     "text": [
      "\t - Recall@20 epoch 9: 0.074219\n",
      "\t - MRR@20    epoch 9: 0.030446\n",
      "\n"
     ]
    },
    {
     "name": "stderr",
     "output_type": "stream",
     "text": [
      "Train:  91%|█████████ | 288/316 [00:02<00:00, 102.75it/s, accuracy=0.0391, train_loss=5.96] \n",
      "Evaluation:  12%|█▎        | 2/16 [00:01<00:09,  1.42it/s]\n",
      "Train:   0%|          | 0/316 [00:00<?, ?it/s, accuracy=0.0547, train_loss=5.7] "
     ]
    },
    {
     "name": "stdout",
     "output_type": "stream",
     "text": [
      "\t - Recall@20 epoch 10: 0.085938\n",
      "\t - MRR@20    epoch 10: 0.034238\n",
      "\n"
     ]
    },
    {
     "name": "stderr",
     "output_type": "stream",
     "text": [
      "Train:  91%|█████████ | 288/316 [00:02<00:00, 100.00it/s, accuracy=0.0703, train_loss=5.89]\n",
      "Evaluation:  12%|█▎        | 2/16 [00:01<00:09,  1.42it/s]\n",
      "Train:   0%|          | 0/316 [00:00<?, ?it/s, accuracy=0.0625, train_loss=5.62]"
     ]
    },
    {
     "name": "stdout",
     "output_type": "stream",
     "text": [
      "\t - Recall@20 epoch 11: 0.093750\n",
      "\t - MRR@20    epoch 11: 0.035674\n",
      "\n"
     ]
    },
    {
     "name": "stderr",
     "output_type": "stream",
     "text": [
      "Train:  91%|█████████ | 288/316 [00:02<00:00, 103.14it/s, accuracy=0.0625, train_loss=5.81] \n",
      "Evaluation:  12%|█▎        | 2/16 [00:01<00:09,  1.41it/s]\n",
      "Train:   0%|          | 0/316 [00:00<?, ?it/s, accuracy=0.0703, train_loss=5.48]"
     ]
    },
    {
     "name": "stdout",
     "output_type": "stream",
     "text": [
      "\t - Recall@20 epoch 12: 0.105469\n",
      "\t - MRR@20    epoch 12: 0.035661\n",
      "\n"
     ]
    },
    {
     "name": "stderr",
     "output_type": "stream",
     "text": [
      "Train:  91%|█████████ | 288/316 [00:02<00:00, 103.13it/s, accuracy=0.0547, train_loss=5.76] \n",
      "Evaluation:  12%|█▎        | 2/16 [00:01<00:10,  1.40it/s]\n",
      "Train:   0%|          | 0/316 [00:00<?, ?it/s, accuracy=0.0312, train_loss=5.61]"
     ]
    },
    {
     "name": "stdout",
     "output_type": "stream",
     "text": [
      "\t - Recall@20 epoch 13: 0.117188\n",
      "\t - MRR@20    epoch 13: 0.036524\n",
      "\n"
     ]
    },
    {
     "name": "stderr",
     "output_type": "stream",
     "text": [
      "Train:  91%|█████████ | 288/316 [00:02<00:00, 100.93it/s, accuracy=0.0547, train_loss=5.66] \n",
      "Evaluation:  12%|█▎        | 2/16 [00:01<00:09,  1.42it/s]\n",
      "Train:   0%|          | 0/316 [00:00<?, ?it/s, accuracy=0.0859, train_loss=5.25]"
     ]
    },
    {
     "name": "stdout",
     "output_type": "stream",
     "text": [
      "\t - Recall@20 epoch 14: 0.121094\n",
      "\t - MRR@20    epoch 14: 0.038202\n",
      "\n"
     ]
    },
    {
     "name": "stderr",
     "output_type": "stream",
     "text": [
      "Train:  91%|█████████ | 288/316 [00:02<00:00, 102.07it/s, accuracy=0.0938, train_loss=5.6]  \n",
      "Evaluation:  12%|█▎        | 2/16 [00:01<00:09,  1.40it/s]\n",
      "Train:   0%|          | 0/316 [00:00<?, ?it/s, accuracy=0.0234, train_loss=5.51]"
     ]
    },
    {
     "name": "stdout",
     "output_type": "stream",
     "text": [
      "\t - Recall@20 epoch 15: 0.132812\n",
      "\t - MRR@20    epoch 15: 0.038896\n",
      "\n"
     ]
    },
    {
     "name": "stderr",
     "output_type": "stream",
     "text": [
      "Train:  91%|█████████ | 288/316 [00:02<00:00, 102.55it/s, accuracy=0.0625, train_loss=5.53] \n",
      "Evaluation:  12%|█▎        | 2/16 [00:01<00:09,  1.42it/s]\n",
      "Train:   0%|          | 0/316 [00:00<?, ?it/s, accuracy=0.0859, train_loss=5.1] "
     ]
    },
    {
     "name": "stdout",
     "output_type": "stream",
     "text": [
      "\t - Recall@20 epoch 16: 0.128906\n",
      "\t - MRR@20    epoch 16: 0.041043\n",
      "\n"
     ]
    },
    {
     "name": "stderr",
     "output_type": "stream",
     "text": [
      "Train:  91%|█████████ | 288/316 [00:02<00:00, 102.54it/s, accuracy=0.0625, train_loss=5.49]\n",
      "Evaluation:  12%|█▎        | 2/16 [00:01<00:09,  1.46it/s]\n",
      "Train:   0%|          | 0/316 [00:00<?, ?it/s, accuracy=0.102, train_loss=5.06] "
     ]
    },
    {
     "name": "stdout",
     "output_type": "stream",
     "text": [
      "\t - Recall@20 epoch 17: 0.132812\n",
      "\t - MRR@20    epoch 17: 0.047354\n",
      "\n"
     ]
    },
    {
     "name": "stderr",
     "output_type": "stream",
     "text": [
      "Train:  91%|█████████ | 288/316 [00:02<00:00, 100.43it/s, accuracy=0.0938, train_loss=5.43]\n",
      "Evaluation:  12%|█▎        | 2/16 [00:01<00:09,  1.43it/s]\n",
      "Train:   0%|          | 0/316 [00:00<?, ?it/s, accuracy=0.0859, train_loss=5.07]"
     ]
    },
    {
     "name": "stdout",
     "output_type": "stream",
     "text": [
      "\t - Recall@20 epoch 18: 0.128906\n",
      "\t - MRR@20    epoch 18: 0.047217\n",
      "\n"
     ]
    },
    {
     "name": "stderr",
     "output_type": "stream",
     "text": [
      "Train:  91%|█████████ | 288/316 [00:02<00:00, 102.99it/s, accuracy=0.102, train_loss=5.38] \n",
      "Evaluation:  12%|█▎        | 2/16 [00:01<00:09,  1.42it/s]\n",
      "Train:   0%|          | 0/316 [00:00<?, ?it/s, accuracy=0.0938, train_loss=5.02]"
     ]
    },
    {
     "name": "stdout",
     "output_type": "stream",
     "text": [
      "\t - Recall@20 epoch 19: 0.128906\n",
      "\t - MRR@20    epoch 19: 0.046937\n",
      "\n"
     ]
    },
    {
     "name": "stderr",
     "output_type": "stream",
     "text": [
      "Train:  91%|█████████ | 288/316 [00:02<00:00, 101.43it/s, accuracy=0.0703, train_loss=5.35]\n",
      "Evaluation:  12%|█▎        | 2/16 [00:01<00:10,  1.39it/s]"
     ]
    },
    {
     "name": "stdout",
     "output_type": "stream",
     "text": [
      "\t - Recall@20 epoch 20: 0.125000\n",
      "\t - MRR@20    epoch 20: 0.047875\n",
      "\n"
     ]
    },
    {
     "name": "stderr",
     "output_type": "stream",
     "text": [
      "\n"
     ]
    }
   ],
   "source": [
    "train_model(model, args)"
   ]
  },
  {
   "cell_type": "code",
   "execution_count": 107,
   "id": "comic-mills",
   "metadata": {},
   "outputs": [
    {
     "name": "stderr",
     "output_type": "stream",
     "text": [
      "Evaluation:  12%|█▎        | 2/16 [00:01<00:10,  1.38it/s]"
     ]
    },
    {
     "name": "stdout",
     "output_type": "stream",
     "text": [
      "\t - Recall@20: 0.078125\n",
      "\t - MRR@20: 0.036244\n",
      "\n"
     ]
    },
    {
     "name": "stderr",
     "output_type": "stream",
     "text": [
      "\n"
     ]
    }
   ],
   "source": [
    "test_model(model, args, test)"
   ]
  },
  {
   "cell_type": "markdown",
   "id": "italian-sheffield",
   "metadata": {},
   "source": [
    "---\n",
    "# 회고"
   ]
  },
  {
   "cell_type": "markdown",
   "id": "velvet-america",
   "metadata": {},
   "source": [
    "- session을 직접 정의하는 부분이 재미가 있었다. session은 클라이언트 별로 서버에 저장되는 정보 인데 보톤 30분정도 유지 된다고 한다. 처음에는 그냥 같은 시간대만 모아가지고 했으나 뭔가 1초 단위 였기 때문에 성능이 매우 안좋았다. 그래서 시간을 위의 데이터와 시간 차를 구해서 30분 이상이면 새로운 세션아이디를 주는 것으로 처리하였다."
   ]
  },
  {
   "cell_type": "markdown",
   "id": "reverse-franchise",
   "metadata": {},
   "source": [
    "- 데이터를 1년치, 2년치, 3년치로 나눠서 한번 테스트를 해봤다   \n",
    "1년치 : recall - 0.281250    MRR - 0.093961  \n",
    "2년치 : recall - 0.099609    MRR - 0.035424   \n",
    "3년치 : recall - 0.078125    MRR - 0.036244"
   ]
  },
  {
   "cell_type": "markdown",
   "id": "appreciated-lender",
   "metadata": {},
   "source": [
    "- 가장 좋은 성능을 보인 것은 오히려 1년치 데이터 였다. 추천 시스템은 최근 데이터가 중요하다고 한다. 근데 영화는 뭔가 옛날 영화도 많이 찾아 본다고 생각해서 3년치로 데이터가 많으면 많을수록 좋을 거라고 생각했으나 1년치가 가장 좋은 성능을 보였다."
   ]
  },
  {
   "cell_type": "markdown",
   "id": "sustainable-disco",
   "metadata": {},
   "source": [
    "- least_click을 조금 올리는 것이 성능을 올린다고 한다!! ( 형준님 진아님 감사합니다)"
   ]
  },
  {
   "cell_type": "markdown",
   "id": "educated-seating",
   "metadata": {},
   "source": [
    "- apply 함수를 쓰는거에 처음엔 미숙해서 for문으로 하려다가 너무 오래 걸려서 공부를해서 사용했다,,, 아직 완벽하게 알지는 못하지만 그래도 다음번에도 또 잘 사용할 수 있을 것 같다"
   ]
  }
 ],
 "metadata": {
  "kernelspec": {
   "display_name": "Python 3",
   "language": "python",
   "name": "python3"
  },
  "language_info": {
   "codemirror_mode": {
    "name": "ipython",
    "version": 3
   },
   "file_extension": ".py",
   "mimetype": "text/x-python",
   "name": "python",
   "nbconvert_exporter": "python",
   "pygments_lexer": "ipython3",
   "version": "3.7.9"
  }
 },
 "nbformat": 4,
 "nbformat_minor": 5
}
