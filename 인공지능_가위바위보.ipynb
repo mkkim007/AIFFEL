{
  "nbformat": 4,
  "nbformat_minor": 0,
  "metadata": {
    "colab": {
      "name": "인공지능 가위바위보.ipynb",
      "provenance": [],
      "mount_file_id": "1B0Xjif9n9pLCBqGAyTrLHDVKjz4PecgG",
      "authorship_tag": "ABX9TyMw2yy8Jhluw2DXVIdAXR4X",
      "include_colab_link": true
    },
    "kernelspec": {
      "name": "python3",
      "display_name": "Python 3"
    },
    "language_info": {
      "name": "python"
    },
    "accelerator": "GPU"
  },
  "cells": [
    {
      "cell_type": "markdown",
      "metadata": {
        "id": "view-in-github",
        "colab_type": "text"
      },
      "source": [
        "<a href=\"https://colab.research.google.com/github/mkkim007/AIFFEL/blob/main/%EC%9D%B8%EA%B3%B5%EC%A7%80%EB%8A%A5_%EA%B0%80%EC%9C%84%EB%B0%94%EC%9C%84%EB%B3%B4.ipynb\" target=\"_parent\"><img src=\"https://colab.research.google.com/assets/colab-badge.svg\" alt=\"Open In Colab\"/></a>"
      ]
    },
    {
      "cell_type": "code",
      "metadata": {
        "colab": {
          "base_uri": "https://localhost:8080/"
        },
        "id": "ir_YFsz4QI5Q",
        "outputId": "78dd5281-68cb-4c7d-a9d1-022781a169f2"
      },
      "source": [
        "\n",
        "from google.colab import drive\n",
        "drive.mount('/content/gdrive')"
      ],
      "execution_count": 46,
      "outputs": [
        {
          "output_type": "stream",
          "text": [
            "Mounted at /content/gdrive\n"
          ],
          "name": "stdout"
        }
      ]
    },
    {
      "cell_type": "code",
      "metadata": {
        "id": "0cvMHzXbsHhr"
      },
      "source": [
        "from PIL import Image\n",
        "import matplotlib.pyplot as plt\n",
        "import os, glob\n",
        "import os\n",
        "import numpy as np\n",
        "import tensorflow as tf\n",
        "from tensorflow import keras\n",
        "\n",
        "from sklearn.model_selection import train_test_split"
      ],
      "execution_count": 47,
      "outputs": []
    },
    {
      "cell_type": "code",
      "metadata": {
        "id": "mt_yPStU8l8G"
      },
      "source": [
        "def resize_images(img_path):\n",
        "\timages=glob.glob(img_path + \"/*.jpg\")  \n",
        "    \n",
        "\tprint(len(images), \" images to be resized.\")\n",
        "\n",
        "    # 파일마다 모두 28x28 사이즈로 바꾸어 저장합니다.\n",
        "\ttarget_size=(28,28)\n",
        "\tfor img in images:\n",
        "\t\told_img=Image.open(img)\n",
        "\t\tnew_img=old_img.resize(target_size,Image.ANTIALIAS)\n",
        "\t\tnew_img.save(img, \"JPEG\")\n",
        "    \n",
        "\tprint(len(images), \" images resized.\")"
      ],
      "execution_count": 40,
      "outputs": []
    },
    {
      "cell_type": "code",
      "metadata": {
        "colab": {
          "base_uri": "https://localhost:8080/"
        },
        "id": "yAW9b8Td8ohn",
        "outputId": "94ae1c6e-9822-4532-f0c7-a27394443c45"
      },
      "source": [
        "image_dir_path = \"/content/gdrive/MyDrive/AIFFEL/DATA\"\n",
        "image_dir_path_s = image_dir_path + \"/scissor\"\n",
        "image_dir_path_r = image_dir_path + \"/rock\"\n",
        "image_dir_path_p  = image_dir_path + \"/paper\"\n",
        "\n",
        "resize_images(image_dir_path_s)\n",
        "print(\"가위 이미지 resize 완료!\")\n",
        "\n",
        "resize_images(image_dir_path_r)\n",
        "print(\"바위 이미지 resize 완료!\")\n",
        "\n",
        "resize_images(image_dir_path_p)\n",
        "print(\"보 이미지 resize 완료!\")\n",
        "\n"
      ],
      "execution_count": 48,
      "outputs": [
        {
          "output_type": "stream",
          "text": [
            "994  images to be resized.\n",
            "994  images resized.\n",
            "가위 이미지 resize 완료!\n",
            "1105  images to be resized.\n",
            "1105  images resized.\n",
            "바위 이미지 resize 완료!\n",
            "1108  images to be resized.\n",
            "1108  images resized.\n",
            "보 이미지 resize 완료!\n"
          ],
          "name": "stdout"
        }
      ]
    },
    {
      "cell_type": "code",
      "metadata": {
        "id": "lSz44B6Z0RFm"
      },
      "source": [
        "\n",
        "def load_data(img_path, number_of_data=300):  # 가위바위보 이미지 개수 총합에 주의하세요.\n",
        "    # 가위 : 0, 바위 : 1, 보 : 2\n",
        "    img_size=28\n",
        "    color=3\n",
        "    #이미지 데이터와 라벨(가위 : 0, 바위 : 1, 보 : 2) 데이터를 담을 행렬(matrix) 영역을 생성합니다.\n",
        "    imgs=np.zeros(number_of_data*img_size*img_size*color,dtype=np.int32).reshape(number_of_data,img_size,img_size,color)\n",
        "    labels=np.zeros(number_of_data,dtype=np.int32)\n",
        "\n",
        "    idx=0\n",
        "    for file in glob.iglob(img_path+'/scissor/*.jpg'):\n",
        "        img = np.array(Image.open(file),dtype=np.int32)\n",
        "        imgs[idx,:,:,:]=img    # 데이터 영역에 이미지 행렬을 복사\n",
        "        labels[idx]=0   # 가위 : 0\n",
        "        idx=idx+1\n",
        "\n",
        "    for file in glob.iglob(img_path+'/rock/*.jpg'):\n",
        "        img = np.array(Image.open(file),dtype=np.int32)\n",
        "        imgs[idx,:,:,:]=img    # 데이터 영역에 이미지 행렬을 복사\n",
        "        labels[idx]=1   # 바위 : 1\n",
        "        idx=idx+1  \n",
        "    \n",
        "    for file in glob.iglob(img_path+'/paper/*.jpg'):\n",
        "        img = np.array(Image.open(file),dtype=np.int32)\n",
        "        imgs[idx,:,:,:]=img    # 데이터 영역에 이미지 행렬을 복사\n",
        "        labels[idx]=2   # 보 : 2\n",
        "        idx=idx+1\n",
        "        \n",
        "    print(\"이미지 개수는\", idx,\"입니다.\")\n",
        "    return imgs, labels\n",
        "\n"
      ],
      "execution_count": 49,
      "outputs": []
    },
    {
      "cell_type": "code",
      "metadata": {
        "colab": {
          "base_uri": "https://localhost:8080/",
          "height": 373
        },
        "id": "52PBUJio8wNt",
        "outputId": "2336b652-58bf-455e-dc95-793dac89a2a9"
      },
      "source": [
        "image_dir_path = \"/content/gdrive/MyDrive/AIFFEL/DATA\"\n",
        "(X, y)=load_data(image_dir_path,3207)\n",
        "\n",
        "# 입력은 0~1 사이의 값으로 정규화\n",
        "X_norm = X/255.0 \n",
        "X_train, X_test, y_train, y_test = train_test_split(X_norm, y, test_size=0.2, random_state=42)\n",
        "\n",
        "print(\"X_train shape: {}\".format(X_train.shape))\n",
        "print(\"y_train shape: {}\".format(y_train.shape))\n",
        "print(\"X_test shape: {}\".format(X_test.shape))\n",
        "print(\"y_test shape: {}\".format(y_test.shape))\n",
        "plt.imshow(X_train[44],cmap=plt.cm.binary)"
      ],
      "execution_count": 54,
      "outputs": [
        {
          "output_type": "stream",
          "text": [
            "이미지 개수는 3207 입니다.\n",
            "X_train shape: (2565, 28, 28, 3)\n",
            "y_train shape: (2565,)\n",
            "X_test shape: (642, 28, 28, 3)\n",
            "y_test shape: (642,)\n"
          ],
          "name": "stdout"
        },
        {
          "output_type": "execute_result",
          "data": {
            "text/plain": [
              "<matplotlib.image.AxesImage at 0x7f4ce8016c50>"
            ]
          },
          "metadata": {
            "tags": []
          },
          "execution_count": 54
        },
        {
          "output_type": "display_data",
          "data": {
            "image/png": "[encoded data removed]",
            "text/plain": [
              "<Figure size 432x288 with 1 Axes>"
            ]
          },
          "metadata": {
            "tags": [],
            "needs_background": "light"
          }
        }
      ]
    },
    {
      "cell_type": "code",
      "metadata": {
        "colab": {
          "base_uri": "https://localhost:8080/"
        },
        "id": "ZppAsqX30R8J",
        "outputId": "286e7212-5dba-45bd-f0f2-eb3f44bab414"
      },
      "source": [
        "\n",
        "n_channel_1=16\n",
        "n_channel_2=32\n",
        "n_dense=32\n",
        "n_train_epoch=15\n",
        "\n",
        "model=keras.models.Sequential()\n",
        "\n",
        "model.add(keras.layers.Conv2D(n_channel_1, (3,3), activation='relu', input_shape=(28,28,3)))\n",
        "model.add(keras.layers.MaxPool2D(2,2))\n",
        "model.add(keras.layers.Conv2D(n_channel_2, (3,3), activation='relu'))\n",
        "model.add(keras.layers.MaxPooling2D((2,2)))\n",
        "model.add(keras.layers.Flatten())\n",
        "model.add(keras.layers.Dense(n_dense, activation='relu'))\n",
        "model.add(keras.layers.Dense(3, activation='softmax'))\n",
        "model.summary()"
      ],
      "execution_count": 55,
      "outputs": [
        {
          "output_type": "stream",
          "text": [
            "Model: \"sequential_2\"\n",
            "_________________________________________________________________\n",
            "Layer (type)                 Output Shape              Param #   \n",
            "=================================================================\n",
            "conv2d_4 (Conv2D)            (None, 26, 26, 16)        448       \n",
            "_________________________________________________________________\n",
            "max_pooling2d_4 (MaxPooling2 (None, 13, 13, 16)        0         \n",
            "_________________________________________________________________\n",
            "conv2d_5 (Conv2D)            (None, 11, 11, 32)        4640      \n",
            "_________________________________________________________________\n",
            "max_pooling2d_5 (MaxPooling2 (None, 5, 5, 32)          0         \n",
            "_________________________________________________________________\n",
            "flatten_2 (Flatten)          (None, 800)               0         \n",
            "_________________________________________________________________\n",
            "dense_4 (Dense)              (None, 32)                25632     \n",
            "_________________________________________________________________\n",
            "dense_5 (Dense)              (None, 3)                 99        \n",
            "=================================================================\n",
            "Total params: 30,819\n",
            "Trainable params: 30,819\n",
            "Non-trainable params: 0\n",
            "_________________________________________________________________\n"
          ],
          "name": "stdout"
        }
      ]
    },
    {
      "cell_type": "code",
      "metadata": {
        "colab": {
          "base_uri": "https://localhost:8080/"
        },
        "id": "s7i3Ttfp0UrD",
        "outputId": "1c635b3b-2133-4270-fb62-5cf97192876e"
      },
      "source": [
        "# model을 학습시키는 코드를 직접 작성해 보세요.\n",
        "# Hint! model.compile()과 model.fit()을 사용해 봅시다.\n",
        "model.compile(optimizer='adam',\n",
        "             loss='sparse_categorical_crossentropy',\n",
        "             metrics=['accuracy'])\n",
        "model.fit(X_train, y_train, epochs=n_train_epoch)"
      ],
      "execution_count": 56,
      "outputs": [
        {
          "output_type": "stream",
          "text": [
            "Epoch 1/15\n",
            "81/81 [==============================] - 1s 4ms/step - loss: 1.0648 - accuracy: 0.4550\n",
            "Epoch 2/15\n",
            "81/81 [==============================] - 0s 3ms/step - loss: 0.9311 - accuracy: 0.5809\n",
            "Epoch 3/15\n",
            "81/81 [==============================] - 0s 3ms/step - loss: 0.7335 - accuracy: 0.6982\n",
            "Epoch 4/15\n",
            "81/81 [==============================] - 0s 3ms/step - loss: 0.5918 - accuracy: 0.7595\n",
            "Epoch 5/15\n",
            "81/81 [==============================] - 0s 3ms/step - loss: 0.4637 - accuracy: 0.8285\n",
            "Epoch 6/15\n",
            "81/81 [==============================] - 0s 3ms/step - loss: 0.3991 - accuracy: 0.8464\n",
            "Epoch 7/15\n",
            "81/81 [==============================] - 0s 3ms/step - loss: 0.3512 - accuracy: 0.8635\n",
            "Epoch 8/15\n",
            "81/81 [==============================] - 0s 3ms/step - loss: 0.2664 - accuracy: 0.9057\n",
            "Epoch 9/15\n",
            "81/81 [==============================] - 0s 3ms/step - loss: 0.2203 - accuracy: 0.9212\n",
            "Epoch 10/15\n",
            "81/81 [==============================] - 0s 3ms/step - loss: 0.1962 - accuracy: 0.9302\n",
            "Epoch 11/15\n",
            "81/81 [==============================] - 0s 3ms/step - loss: 0.1624 - accuracy: 0.9462\n",
            "Epoch 12/15\n",
            "81/81 [==============================] - 0s 3ms/step - loss: 0.1449 - accuracy: 0.9540\n",
            "Epoch 13/15\n",
            "81/81 [==============================] - 0s 3ms/step - loss: 0.1289 - accuracy: 0.9556\n",
            "Epoch 14/15\n",
            "81/81 [==============================] - 0s 3ms/step - loss: 0.1176 - accuracy: 0.9579\n",
            "Epoch 15/15\n",
            "81/81 [==============================] - 0s 3ms/step - loss: 0.0970 - accuracy: 0.9696\n"
          ],
          "name": "stdout"
        },
        {
          "output_type": "execute_result",
          "data": {
            "text/plain": [
              "<tensorflow.python.keras.callbacks.History at 0x7f4ce264afd0>"
            ]
          },
          "metadata": {
            "tags": []
          },
          "execution_count": 56
        }
      ]
    },
    {
      "cell_type": "code",
      "metadata": {
        "colab": {
          "base_uri": "https://localhost:8080/"
        },
        "id": "feXMvDPZ0cAb",
        "outputId": "44c1c02d-9c83-4b00-a667-7692ad7857d4"
      },
      "source": [
        "# model을 학습시키는 코드를 직접 작성해 보세요.\n",
        "# Hint! model.evaluate()을 사용해 봅시다.\n",
        "test_loss, test_accuracy = model.evaluate(X_test, y_test, verbose=2)\n",
        "print(\"test_loss: {} \".format(test_loss))\n",
        "print(\"test_accuracy: {}\".format(test_accuracy))"
      ],
      "execution_count": 57,
      "outputs": [
        {
          "output_type": "stream",
          "text": [
            "21/21 - 0s - loss: 0.2109 - accuracy: 0.9283\n",
            "test_loss: 0.21086084842681885 \n",
            "test_accuracy: 0.9283488988876343\n"
          ],
          "name": "stdout"
        }
      ]
    }
  ]
}