{
  "nbformat": 4,
  "nbformat_minor": 0,
  "metadata": {
    "colab": {
      "name": "인공지능 가위바위보.ipynb",
      "provenance": [],
      "collapsed_sections": [
        "LS77T5vOxD6R",
        "eR6Vbwh83BWi",
        "R5zB2D2B3Fyn"
      ],
      "toc_visible": true,
      "authorship_tag": "ABX9TyMaKjvb4SJn4bVrTqj0b7BV",
      "include_colab_link": true
    },
    "kernelspec": {
      "name": "python3",
      "display_name": "Python 3"
    },
    "language_info": {
      "name": "python"
    },
    "accelerator": "GPU"
  },
  "cells": [
    {
      "cell_type": "markdown",
      "metadata": {
        "id": "view-in-github",
        "colab_type": "text"
      },
      "source": [
        "<a href=\"https://colab.research.google.com/github/mkkim007/AIFFEL/blob/main/%EC%9D%B8%EA%B3%B5%EC%A7%80%EB%8A%A5_%EA%B0%80%EC%9C%84%EB%B0%94%EC%9C%84%EB%B3%B4.ipynb\" target=\"_parent\"><img src=\"https://colab.research.google.com/assets/colab-badge.svg\" alt=\"Open In Colab\"/></a>"
      ]
    },
    {
      "cell_type": "markdown",
      "metadata": {
        "id": "dat3K6I8smrL"
      },
      "source": [
        "# 인공지능 가위바위보 "
      ]
    },
    {
      "cell_type": "markdown",
      "metadata": {
        "id": "LS77T5vOxD6R"
      },
      "source": [
        "## Import : 필요한 라이브러리 가져오기"
      ]
    },
    {
      "cell_type": "code",
      "metadata": {
        "id": "0cvMHzXbsHhr"
      },
      "source": [
        "from PIL import Image\n",
        "import matplotlib.pyplot as plt\n",
        "import os, glob\n",
        "import os\n",
        "import numpy as np\n",
        "import tensorflow as tf\n",
        "from tensorflow import keras\n",
        "import tensorflow_datasets as tfds\n",
        "\n",
        "from tensorflow.keras import layers\n",
        "from sklearn.model_selection import train_test_split"
      ],
      "execution_count": 1,
      "outputs": []
    },
    {
      "cell_type": "markdown",
      "metadata": {
        "id": "JpQ0nLuJsqUe"
      },
      "source": [
        "## Load the dataset : 데이터 불러오기"
      ]
    },
    {
      "cell_type": "markdown",
      "metadata": {
        "id": "uxCfRoCMzbLW"
      },
      "source": [
        "### 구글 드라이브 연동"
      ]
    },
    {
      "cell_type": "markdown",
      "metadata": {
        "id": "Ql3dk2-hs_QH"
      },
      "source": [
        "먼저 구글 드라이브를 연동 시킵니다."
      ]
    },
    {
      "cell_type": "code",
      "metadata": {
        "colab": {
          "base_uri": "https://localhost:8080/"
        },
        "id": "ir_YFsz4QI5Q",
        "outputId": "cfe4f005-a703-4bc6-df07-a7989791aac9"
      },
      "source": [
        "from google.colab import drive\n",
        "drive.mount('/content/gdrive')\n"
      ],
      "execution_count": 2,
      "outputs": [
        {
          "output_type": "stream",
          "text": [
            "Mounted at /content/gdrive\n"
          ],
          "name": "stdout"
        }
      ]
    },
    {
      "cell_type": "markdown",
      "metadata": {
        "id": "_WdDIrVrwBx8"
      },
      "source": [
        "구글 드라이브를 연동 시키면 아래와 같이 gdrive 폴더가 생깁니다.  \n",
        "저의 데이터들은 '/content/gdrive/MyDrive/Data/rock_scissor_paper'에 위치 하고 있습니다."
      ]
    },
    {
      "cell_type": "markdown",
      "metadata": {
        "id": "2oBFHXJ_vehj"
      },
      "source": [
        "![image.png](data:image/png;base64,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)"
      ]
    },
    {
      "cell_type": "markdown",
      "metadata": {
        "id": "Ou8JtdPewWNo"
      },
      "source": [
        "각각 불러와 압축을 풀어 줍시다."
      ]
    },
    {
      "cell_type": "code",
      "metadata": {
        "id": "Jofsj5xStFmj"
      },
      "source": [
        "!mkdir -p /content/paper\n",
        "!mkdir -p /content/rock\n",
        "!mkdir -p /content/scissor\n",
        "!unzip -qq '/content/gdrive/MyDrive/Data/rock_scissor_paper/rock/rocks_complete.zip' -d /content/rock\n",
        "!unzip -qq '/content/gdrive/MyDrive/Data/rock_scissor_paper/scissor/scissors_complete.zip' -d /content/scissor\n",
        "!unzip -qq '/content/gdrive/MyDrive/Data/rock_scissor_paper/paper/papers_complete.zip' -d /content/paper"
      ],
      "execution_count": 3,
      "outputs": []
    },
    {
      "cell_type": "markdown",
      "metadata": {
        "id": "uBkMKYy5wbxj"
      },
      "source": [
        "그럼 아래와 같이 데이터가 담긴 폴더가 생깁니다! 이렇게 하면 데이터에 접근할때 빠른 속도로 접근할 수 있습니다.\n",
        "\n",
        "![image.png](data:image/png;base64,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)"
      ]
    },
    {
      "cell_type": "markdown",
      "metadata": {
        "id": "URqPtNWMzjGd"
      },
      "source": [
        "### 데이터 불러오기"
      ]
    },
    {
      "cell_type": "markdown",
      "metadata": {
        "id": "bpCiE5qVxTnA"
      },
      "source": [
        "본격적인 데이터를 불러오는 코드를 작성합시다.\n",
        "아래의 코드는 **파일경로와 이미지 개수**를 입력하면 **이미지와 그에 따른 라벨**을 return 해줍니다."
      ]
    },
    {
      "cell_type": "code",
      "metadata": {
        "id": "lSz44B6Z0RFm"
      },
      "source": [
        "\n",
        "def load_data(img_path, number_of_data=300):  # 가위바위보 이미지 개수 총합에 주의하세요.\n",
        "    # 가위 : 0, 바위 : 1, 보 : 2\n",
        "    img_size=28\n",
        "    color=3\n",
        "    #이미지 데이터와 라벨(가위 : 0, 바위 : 1, 보 : 2) 데이터를 담을 행렬(matrix) 영역을 생성합니다.\n",
        "    imgs=np.zeros(number_of_data*img_size*img_size*color,dtype=np.int32).reshape(number_of_data,img_size,img_size,color)\n",
        "    labels=np.zeros(number_of_data,dtype=np.int32)\n",
        "\n",
        "    idx=0\n",
        "    for file in glob.iglob(img_path+'/scissor/*.jpg'):\n",
        "        img = np.array(Image.open(file),dtype=np.int32)\n",
        "        imgs[idx,:,:,:]=img    # 데이터 영역에 이미지 행렬을 복사\n",
        "        labels[idx]=0   # 가위 : 0\n",
        "        idx=idx+1\n",
        "\n",
        "    for file in glob.iglob(img_path+'/rock/*.jpg'):\n",
        "        img = np.array(Image.open(file),dtype=np.int32)\n",
        "        imgs[idx,:,:,:]=img    # 데이터 영역에 이미지 행렬을 복사\n",
        "        labels[idx]=1   # 바위 : 1\n",
        "        idx=idx+1  \n",
        "    \n",
        "    for file in glob.iglob(img_path+'/paper/*.jpg'):\n",
        "        img = np.array(Image.open(file),dtype=np.int32)\n",
        "        imgs[idx,:,:,:]=img    # 데이터 영역에 이미지 행렬을 복사\n",
        "        labels[idx]=2   # 보 : 2\n",
        "        idx=idx+1\n",
        "        \n",
        "    print(\"이미지 개수는\", idx,\"입니다.\")\n",
        "    return imgs, labels\n",
        "\n"
      ],
      "execution_count": 4,
      "outputs": []
    },
    {
      "cell_type": "markdown",
      "metadata": {
        "id": "V_JS7F_iz-VL"
      },
      "source": [
        "그 전에 저희 데이터의 size는 224 X 224 인데 모델(MNIST를 돌렸던,,,)에 입력으로 들어가는 size는 28 X 28이기 때문에 resize를 해줘야합니다."
      ]
    },
    {
      "cell_type": "markdown",
      "metadata": {
        "id": "AxHga0NkzIiw"
      },
      "source": [
        "## Preprocessing : 데이터 전처리"
      ]
    },
    {
      "cell_type": "markdown",
      "metadata": {
        "id": "mA6mYHaB0cgP"
      },
      "source": [
        "### Resize 하기"
      ]
    },
    {
      "cell_type": "code",
      "metadata": {
        "id": "mt_yPStU8l8G"
      },
      "source": [
        "def resize_images(img_path):\n",
        "\timages=glob.glob(img_path + \"/*.jpg\")  \n",
        "    \n",
        "\tprint(len(images), \" images to be resized.\")\n",
        "\n",
        "    # 파일마다 모두 28x28 사이즈로 바꾸어 저장합니다.\n",
        "\ttarget_size=(28,28)\n",
        "\tfor img in images:\n",
        "\t\told_img=Image.open(img)\n",
        "\t\tnew_img=old_img.resize(target_size,Image.ANTIALIAS)\n",
        "\t\tnew_img.save(img, \"JPEG\")\n",
        "    \n",
        "\tprint(len(images), \" images resized.\")"
      ],
      "execution_count": 5,
      "outputs": []
    },
    {
      "cell_type": "code",
      "metadata": {
        "colab": {
          "base_uri": "https://localhost:8080/"
        },
        "id": "yAW9b8Td8ohn",
        "outputId": "eb158292-b6bd-474b-f8df-5a7a62a6fc64"
      },
      "source": [
        "image_dir_path = \"/content\"\n",
        "image_dir_path_s = image_dir_path + \"/scissor\"\n",
        "image_dir_path_r = image_dir_path + \"/rock\"\n",
        "image_dir_path_p  = image_dir_path + \"/paper\"\n",
        "\n",
        "resize_images(image_dir_path_s)\n",
        "print(\"--가위 이미지 resize 완료!--\")\n",
        "\n",
        "resize_images(image_dir_path_r)\n",
        "print(\"--바위 이미지 resize 완료!--\")\n",
        "\n",
        "resize_images(image_dir_path_p)\n",
        "print(\"--보 이미지 resize 완료!--\")"
      ],
      "execution_count": 6,
      "outputs": [
        {
          "output_type": "stream",
          "text": [
            "994  images to be resized.\n",
            "994  images resized.\n",
            "--가위 이미지 resize 완료!--\n",
            "1105  images to be resized.\n",
            "1105  images resized.\n",
            "--바위 이미지 resize 완료!--\n",
            "1108  images to be resized.\n",
            "1108  images resized.\n",
            "--보 이미지 resize 완료!--\n"
          ],
          "name": "stdout"
        }
      ]
    },
    {
      "cell_type": "markdown",
      "metadata": {
        "id": "VNkkKRjM1jZl"
      },
      "source": [
        "### 정규화 하기"
      ]
    },
    {
      "cell_type": "markdown",
      "metadata": {
        "id": "FQR2t1Zo1nP_"
      },
      "source": [
        "이제 데이터를 불러와 0~1 사이의 값으로 정규화를 해줍니다."
      ]
    },
    {
      "cell_type": "code",
      "metadata": {
        "colab": {
          "base_uri": "https://localhost:8080/"
        },
        "id": "52PBUJio8wNt",
        "outputId": "20885073-a33c-4c74-d88b-a0bc02ae0285"
      },
      "source": [
        "#데이터 불러오기\n",
        "image_dir_path = \"/content\"\n",
        "(X, y)=load_data(image_dir_path,3207)\n",
        "\n",
        "# 입력은 0~1 사이의 값으로 정규화\n",
        "X_norm = X/255.0 \n",
        "X_train, X_test, y_train, y_test = train_test_split(X_norm, y, test_size=0.2, random_state=42)\n",
        "\n",
        "print(\"X_train shape: {}\".format(X_train.shape))\n",
        "print(\"y_train shape: {}\".format(y_train.shape))\n",
        "print(\"X_test shape: {}\".format(X_test.shape))\n",
        "print(\"y_test shape: {}\".format(y_test.shape))"
      ],
      "execution_count": 7,
      "outputs": [
        {
          "output_type": "stream",
          "text": [
            "이미지 개수는 3207 입니다.\n",
            "X_train shape: (2565, 28, 28, 3)\n",
            "y_train shape: (2565,)\n",
            "X_test shape: (642, 28, 28, 3)\n",
            "y_test shape: (642,)\n"
          ],
          "name": "stdout"
        }
      ]
    },
    {
      "cell_type": "markdown",
      "metadata": {
        "id": "TvC_8k9Q3gLt"
      },
      "source": [
        "잘 불러 왔는지 확인을 해봅시다!!"
      ]
    },
    {
      "cell_type": "code",
      "metadata": {
        "colab": {
          "base_uri": "https://localhost:8080/",
          "height": 283
        },
        "id": "lr-BW1o33i2p",
        "outputId": "02c986a7-a368-495a-8419-36a42063a180"
      },
      "source": [
        "plt.imshow(X_train[44],cmap=plt.cm.binary)"
      ],
      "execution_count": 8,
      "outputs": [
        {
          "output_type": "execute_result",
          "data": {
            "text/plain": [
              "<matplotlib.image.AxesImage at 0x7f529db69c90>"
            ]
          },
          "metadata": {
            "tags": []
          },
          "execution_count": 8
        },
        {
          "output_type": "display_data",
          "data": {
            "image/png": "[encoded data removed]",
            "text/plain": [
              "<Figure size 432x288 with 1 Axes>"
            ]
          },
          "metadata": {
            "tags": [],
            "needs_background": "light"
          }
        }
      ]
    },
    {
      "cell_type": "markdown",
      "metadata": {
        "id": "F57OO2G119WO"
      },
      "source": [
        "## Build the model : 모델 구성하기"
      ]
    },
    {
      "cell_type": "markdown",
      "metadata": {
        "id": "eR6Vbwh83BWi"
      },
      "source": [
        "### configuring the layers"
      ]
    },
    {
      "cell_type": "code",
      "metadata": {
        "colab": {
          "base_uri": "https://localhost:8080/"
        },
        "id": "ZppAsqX30R8J",
        "outputId": "0c32bdbc-0c5d-40f8-ec92-d0dfb37db08f"
      },
      "source": [
        "n_channel_1=16\n",
        "n_channel_2=32\n",
        "n_dense=32\n",
        "n_train_epoch=15\n",
        "\n",
        "model=keras.models.Sequential()\n",
        "model.add(keras.layers.Conv2D(n_channel_1, (3,3), activation='relu', input_shape=(28,28,3)))\n",
        "model.add(keras.layers.MaxPool2D(2,2))\n",
        "model.add(keras.layers.Conv2D(n_channel_2, (3,3), activation='relu'))\n",
        "model.add(keras.layers.MaxPooling2D((2,2)))\n",
        "model.add(keras.layers.Flatten())\n",
        "model.add(keras.layers.Dense(n_dense, activation='relu'))\n",
        "model.add(keras.layers.Dense(3, activation='softmax'))\n",
        "model.summary()"
      ],
      "execution_count": 9,
      "outputs": [
        {
          "output_type": "stream",
          "text": [
            "Model: \"sequential\"\n",
            "_________________________________________________________________\n",
            "Layer (type)                 Output Shape              Param #   \n",
            "=================================================================\n",
            "conv2d (Conv2D)              (None, 26, 26, 16)        448       \n",
            "_________________________________________________________________\n",
            "max_pooling2d (MaxPooling2D) (None, 13, 13, 16)        0         \n",
            "_________________________________________________________________\n",
            "conv2d_1 (Conv2D)            (None, 11, 11, 32)        4640      \n",
            "_________________________________________________________________\n",
            "max_pooling2d_1 (MaxPooling2 (None, 5, 5, 32)          0         \n",
            "_________________________________________________________________\n",
            "flatten (Flatten)            (None, 800)               0         \n",
            "_________________________________________________________________\n",
            "dense (Dense)                (None, 32)                25632     \n",
            "_________________________________________________________________\n",
            "dense_1 (Dense)              (None, 3)                 99        \n",
            "=================================================================\n",
            "Total params: 30,819\n",
            "Trainable params: 30,819\n",
            "Non-trainable params: 0\n",
            "_________________________________________________________________\n"
          ],
          "name": "stdout"
        }
      ]
    },
    {
      "cell_type": "markdown",
      "metadata": {
        "id": "R5zB2D2B3Fyn"
      },
      "source": [
        "### compiling the model"
      ]
    },
    {
      "cell_type": "code",
      "metadata": {
        "id": "s7i3Ttfp0UrD"
      },
      "source": [
        "model.compile(optimizer='adam',\n",
        "             loss='sparse_categorical_crossentropy',\n",
        "             metrics=['accuracy'])"
      ],
      "execution_count": 10,
      "outputs": []
    },
    {
      "cell_type": "markdown",
      "metadata": {
        "id": "J3umu5Ld3Lh3"
      },
      "source": [
        "## Train the model : 모델 학습시키기"
      ]
    },
    {
      "cell_type": "code",
      "metadata": {
        "colab": {
          "base_uri": "https://localhost:8080/"
        },
        "id": "1CS9iLG83UdB",
        "outputId": "b63a84dc-ad00-4de8-a3d6-abc953854790"
      },
      "source": [
        "model.fit(X_train, y_train, epochs=n_train_epoch)"
      ],
      "execution_count": 11,
      "outputs": [
        {
          "output_type": "stream",
          "text": [
            "Epoch 1/15\n",
            "81/81 [==============================] - 32s 4ms/step - loss: 1.0449 - accuracy: 0.4639\n",
            "Epoch 2/15\n",
            "81/81 [==============================] - 0s 3ms/step - loss: 0.8669 - accuracy: 0.6144\n",
            "Epoch 3/15\n",
            "81/81 [==============================] - 0s 3ms/step - loss: 0.6977 - accuracy: 0.7162\n",
            "Epoch 4/15\n",
            "81/81 [==============================] - 0s 3ms/step - loss: 0.5693 - accuracy: 0.7715\n",
            "Epoch 5/15\n",
            "81/81 [==============================] - 0s 3ms/step - loss: 0.4735 - accuracy: 0.8191\n",
            "Epoch 6/15\n",
            "81/81 [==============================] - 0s 3ms/step - loss: 0.4132 - accuracy: 0.8421\n",
            "Epoch 7/15\n",
            "81/81 [==============================] - 0s 3ms/step - loss: 0.3297 - accuracy: 0.8850\n",
            "Epoch 8/15\n",
            "81/81 [==============================] - 0s 3ms/step - loss: 0.2806 - accuracy: 0.8975\n",
            "Epoch 9/15\n",
            "81/81 [==============================] - 0s 3ms/step - loss: 0.2307 - accuracy: 0.9255\n",
            "Epoch 10/15\n",
            "81/81 [==============================] - 0s 3ms/step - loss: 0.1977 - accuracy: 0.9396\n",
            "Epoch 11/15\n",
            "81/81 [==============================] - 0s 3ms/step - loss: 0.1672 - accuracy: 0.9478\n",
            "Epoch 12/15\n",
            "81/81 [==============================] - 0s 3ms/step - loss: 0.1345 - accuracy: 0.9610\n",
            "Epoch 13/15\n",
            "81/81 [==============================] - 0s 3ms/step - loss: 0.1328 - accuracy: 0.9591\n",
            "Epoch 14/15\n",
            "81/81 [==============================] - 0s 3ms/step - loss: 0.1591 - accuracy: 0.9407\n",
            "Epoch 15/15\n",
            "81/81 [==============================] - 0s 3ms/step - loss: 0.0930 - accuracy: 0.9712\n"
          ],
          "name": "stdout"
        },
        {
          "output_type": "execute_result",
          "data": {
            "text/plain": [
              "<tensorflow.python.keras.callbacks.History at 0x7f5290140f50>"
            ]
          },
          "metadata": {
            "tags": []
          },
          "execution_count": 11
        }
      ]
    },
    {
      "cell_type": "markdown",
      "metadata": {
        "id": "nc5oOslk3VWl"
      },
      "source": [
        "## Evaluate accuracy : 정확도 측정하기"
      ]
    },
    {
      "cell_type": "code",
      "metadata": {
        "colab": {
          "base_uri": "https://localhost:8080/"
        },
        "id": "feXMvDPZ0cAb",
        "outputId": "fc966d95-60a2-4e7c-9487-c06b68d81278"
      },
      "source": [
        "# model을 학습시키는 코드를 직접 작성해 보세요.\n",
        "# Hint! model.evaluate()을 사용해 봅시다.\n",
        "test_loss, test_accuracy = model.evaluate(X_test, y_test, verbose=2)\n",
        "print(\"test_loss: {} \".format(test_loss))\n",
        "print(\"test_accuracy: {}\".format(test_accuracy))"
      ],
      "execution_count": 12,
      "outputs": [
        {
          "output_type": "stream",
          "text": [
            "21/21 - 0s - loss: 0.0993 - accuracy: 0.9673\n",
            "test_loss: 0.09930109232664108 \n",
            "test_accuracy: 0.9672897458076477\n"
          ],
          "name": "stdout"
        }
      ]
    },
    {
      "cell_type": "markdown",
      "metadata": {
        "id": "8NIBrHsP4SJ5"
      },
      "source": [
        "97%로 꽤나 높은 정확도를 보여주고 있습니다.   \n",
        "하지만 여기서 한번도 안보여준 데이터를 넣으면 어떻게 될까요?"
      ]
    },
    {
      "cell_type": "code",
      "metadata": {
        "id": "de_4Bd1vZHaG"
      },
      "source": [
        "!mkdir -p test/rock\n",
        "!mkdir -p test/scissor\n",
        "!mkdir -p test/paper\n",
        "\n",
        "!unzip -qq '/content/gdrive/MyDrive/Data/rock_scissor_paper/test/paper.zip' -d /content/test/paper\n",
        "!unzip -qq '/content/gdrive/MyDrive/Data/rock_scissor_paper/test/rock.zip' -d /content/test/rock\n",
        "!unzip -qq '/content/gdrive/MyDrive/Data/rock_scissor_paper/test/scissor.zip' -d /content/test/scissor"
      ],
      "execution_count": 13,
      "outputs": []
    },
    {
      "cell_type": "code",
      "metadata": {
        "colab": {
          "base_uri": "https://localhost:8080/"
        },
        "id": "Us0NlivToxT-",
        "outputId": "7568655a-bf26-4003-f739-adc876ec3313"
      },
      "source": [
        "\n",
        "\n",
        "image_dir_path = \"/content/test\"\n",
        "image_dir_path_s = image_dir_path + \"/scissor\"\n",
        "image_dir_path_r = image_dir_path + \"/rock\"\n",
        "image_dir_path_p  = image_dir_path + \"/paper\"\n",
        "\n",
        "resize_images(image_dir_path_s)\n",
        "print(\"--가위 이미지 resize 완료!--\")\n",
        "\n",
        "resize_images(image_dir_path_r)\n",
        "print(\"--바위 이미지 resize 완료!--\")\n",
        "\n",
        "resize_images(image_dir_path_p)\n",
        "print(\"--보 이미지 resize 완료!--\")\n",
        "\n",
        "\n",
        "image_dir_path = \"/content/test\"\n",
        "(x_test2, y_test2)=load_data(image_dir_path, number_of_data=359)\n",
        "x_test2_norm = x_test2/255.0   # 입력은 0~1 사이의 값으로 정규화\n"
      ],
      "execution_count": 14,
      "outputs": [
        {
          "output_type": "stream",
          "text": [
            "100  images to be resized.\n",
            "100  images resized.\n",
            "--가위 이미지 resize 완료!--\n",
            "100  images to be resized.\n",
            "100  images resized.\n",
            "--바위 이미지 resize 완료!--\n",
            "100  images to be resized.\n",
            "100  images resized.\n",
            "--보 이미지 resize 완료!--\n",
            "이미지 개수는 300 입니다.\n"
          ],
          "name": "stdout"
        }
      ]
    },
    {
      "cell_type": "code",
      "metadata": {
        "colab": {
          "base_uri": "https://localhost:8080/"
        },
        "id": "iRGcHIuxpznb",
        "outputId": "38ae265d-e10d-488f-9b0c-30430d0cd434"
      },
      "source": [
        "test_loss, test_accuracy = model.evaluate(x_test2_norm, y_test2, verbose=2)\n",
        "print(\"test_loss: {} \".format(test_loss))\n",
        "print(\"test_accuracy: {}\".format(test_accuracy))"
      ],
      "execution_count": 15,
      "outputs": [
        {
          "output_type": "stream",
          "text": [
            "12/12 - 0s - loss: 2.7336 - accuracy: 0.3148\n",
            "test_loss: 2.73356294631958 \n",
            "test_accuracy: 0.31476321816444397\n"
          ],
          "name": "stdout"
        }
      ]
    },
    {
      "cell_type": "markdown",
      "metadata": {
        "id": "TVQH1WiMp6Cr"
      },
      "source": [
        " 0.3로 매우 좋지 않은 성능을 보입니다 ㅜㅜ ~~거의 찍는 수준이군요 ㅋㅋ~~"
      ]
    },
    {
      "cell_type": "markdown",
      "metadata": {
        "id": "71uwLFI_sYKR"
      },
      "source": [
        "## 모델 개선하기"
      ]
    },
    {
      "cell_type": "code",
      "metadata": {
        "colab": {
          "base_uri": "https://localhost:8080/"
        },
        "id": "vRsa9jxEqM_D",
        "outputId": "bc7b7ce6-674c-4e54-b95b-1e3e32cb8728"
      },
      "source": [
        "n_channel_1=32\n",
        "n_channel_2=64\n",
        "n_channel_3=128\n",
        "n_dense=128\n",
        "n_train_epoch=15\n",
        "\n",
        "model2=keras.models.Sequential()\n",
        "model2.add(keras.layers.Conv2D(n_channel_1, (3,3), activation='relu', input_shape=(28,28,3)))\n",
        "model2.add(keras.layers.MaxPool2D(2,2))\n",
        "model2.add(keras.layers.Conv2D(n_channel_2, (3,3), activation='relu'))\n",
        "model2.add(keras.layers.MaxPooling2D((2,2)))\n",
        "model2.add(keras.layers.Conv2D(n_channel_3, (3,3), activation='relu'))\n",
        "model2.add(keras.layers.MaxPooling2D((2,2)))\n",
        "model2.add(keras.layers.Flatten())\n",
        "model2.add(keras.layers.Dense(n_dense, activation='relu'))\n",
        "model2.add(keras.layers.Dense(3, activation='softmax'))\n",
        "model2.summary()\n",
        "\n",
        "model2.compile(optimizer='adam',\n",
        "             loss='sparse_categorical_crossentropy',\n",
        "             metrics=['accuracy'])"
      ],
      "execution_count": 16,
      "outputs": [
        {
          "output_type": "stream",
          "text": [
            "Model: \"sequential_1\"\n",
            "_________________________________________________________________\n",
            "Layer (type)                 Output Shape              Param #   \n",
            "=================================================================\n",
            "conv2d_2 (Conv2D)            (None, 26, 26, 32)        896       \n",
            "_________________________________________________________________\n",
            "max_pooling2d_2 (MaxPooling2 (None, 13, 13, 32)        0         \n",
            "_________________________________________________________________\n",
            "conv2d_3 (Conv2D)            (None, 11, 11, 64)        18496     \n",
            "_________________________________________________________________\n",
            "max_pooling2d_3 (MaxPooling2 (None, 5, 5, 64)          0         \n",
            "_________________________________________________________________\n",
            "conv2d_4 (Conv2D)            (None, 3, 3, 128)         73856     \n",
            "_________________________________________________________________\n",
            "max_pooling2d_4 (MaxPooling2 (None, 1, 1, 128)         0         \n",
            "_________________________________________________________________\n",
            "flatten_1 (Flatten)          (None, 128)               0         \n",
            "_________________________________________________________________\n",
            "dense_2 (Dense)              (None, 128)               16512     \n",
            "_________________________________________________________________\n",
            "dense_3 (Dense)              (None, 3)                 387       \n",
            "=================================================================\n",
            "Total params: 110,147\n",
            "Trainable params: 110,147\n",
            "Non-trainable params: 0\n",
            "_________________________________________________________________\n"
          ],
          "name": "stdout"
        }
      ]
    },
    {
      "cell_type": "code",
      "metadata": {
        "colab": {
          "base_uri": "https://localhost:8080/"
        },
        "id": "0aPyQtTZs-7k",
        "outputId": "5ec1d2c0-40c2-4e3d-cd3c-e207f8b7a746"
      },
      "source": [
        "model2.fit(X_train, y_train, epochs=n_train_epoch)"
      ],
      "execution_count": 17,
      "outputs": [
        {
          "output_type": "stream",
          "text": [
            "Epoch 1/15\n",
            "81/81 [==============================] - 1s 5ms/step - loss: 1.0724 - accuracy: 0.4094\n",
            "Epoch 2/15\n",
            "81/81 [==============================] - 0s 3ms/step - loss: 0.8185 - accuracy: 0.6222\n",
            "Epoch 3/15\n",
            "81/81 [==============================] - 0s 3ms/step - loss: 0.5417 - accuracy: 0.7731\n",
            "Epoch 4/15\n",
            "81/81 [==============================] - 0s 3ms/step - loss: 0.3678 - accuracy: 0.8530\n",
            "Epoch 5/15\n",
            "81/81 [==============================] - 0s 3ms/step - loss: 0.2522 - accuracy: 0.9076\n",
            "Epoch 6/15\n",
            "81/81 [==============================] - 0s 3ms/step - loss: 0.2438 - accuracy: 0.9088\n",
            "Epoch 7/15\n",
            "81/81 [==============================] - 0s 3ms/step - loss: 0.1464 - accuracy: 0.9462\n",
            "Epoch 8/15\n",
            "81/81 [==============================] - 0s 3ms/step - loss: 0.2018 - accuracy: 0.9294\n",
            "Epoch 9/15\n",
            "81/81 [==============================] - 0s 3ms/step - loss: 0.1156 - accuracy: 0.9579\n",
            "Epoch 10/15\n",
            "81/81 [==============================] - 0s 3ms/step - loss: 0.0679 - accuracy: 0.9817\n",
            "Epoch 11/15\n",
            "81/81 [==============================] - 0s 3ms/step - loss: 0.1135 - accuracy: 0.9602\n",
            "Epoch 12/15\n",
            "81/81 [==============================] - 0s 3ms/step - loss: 0.2142 - accuracy: 0.9275\n",
            "Epoch 13/15\n",
            "81/81 [==============================] - 0s 3ms/step - loss: 0.0588 - accuracy: 0.9848\n",
            "Epoch 14/15\n",
            "81/81 [==============================] - 0s 3ms/step - loss: 0.0395 - accuracy: 0.9887\n",
            "Epoch 15/15\n",
            "81/81 [==============================] - 0s 3ms/step - loss: 0.0366 - accuracy: 0.9891\n"
          ],
          "name": "stdout"
        },
        {
          "output_type": "execute_result",
          "data": {
            "text/plain": [
              "<tensorflow.python.keras.callbacks.History at 0x7f529dae28d0>"
            ]
          },
          "metadata": {
            "tags": []
          },
          "execution_count": 17
        }
      ]
    },
    {
      "cell_type": "code",
      "metadata": {
        "colab": {
          "base_uri": "https://localhost:8080/"
        },
        "id": "nGdHh3HXtI_B",
        "outputId": "6603daee-ec05-4e00-e48e-cde9a2cd2794"
      },
      "source": [
        "test_loss, test_accuracy = model2.evaluate(x_test2_norm, y_test2, verbose=2)\n",
        "print(\"test_loss: {} \".format(test_loss))\n",
        "print(\"test_accuracy: {}\".format(test_accuracy))"
      ],
      "execution_count": 18,
      "outputs": [
        {
          "output_type": "stream",
          "text": [
            "12/12 - 0s - loss: 2.6090 - accuracy: 0.4457\n",
            "test_loss: 2.6089987754821777 \n",
            "test_accuracy: 0.44568246603012085\n"
          ],
          "name": "stdout"
        }
      ]
    },
    {
      "cell_type": "markdown",
      "metadata": {
        "id": "0U76QBA7LeBw"
      },
      "source": [
        "44%로 조금 올렸지만 우리의 목표는 60%,,,"
      ]
    },
    {
      "cell_type": "markdown",
      "metadata": {
        "id": "oFtdVn4J4bVx"
      },
      "source": [
        "## 데이터 추가하기"
      ]
    },
    {
      "cell_type": "markdown",
      "metadata": {
        "id": "s7R0A0i4Ln2o"
      },
      "source": [
        "그래서 양재 캠퍼스 분들 한테 받은 데이터를 추가해서 train을 돌립니다!!  "
      ]
    },
    {
      "cell_type": "code",
      "metadata": {
        "id": "fkCQFZ1mwcP6"
      },
      "source": [
        "!mkdir -p /content/add/paper\n",
        "!mkdir -p /content/add/rock\n",
        "!mkdir -p /content/add/scissor\n",
        "!unzip -qq '/content/gdrive/MyDrive/Data/rock_scissor_paper/rock/rocks_complete.zip' -d /content/add/rock\n",
        "!unzip -qq '/content/gdrive/MyDrive/Data/rock_scissor_paper/scissor/scissors_complete.zip' -d /content/add/scissor\n",
        "!unzip -qq '/content/gdrive/MyDrive/Data/rock_scissor_paper/paper/papers_complete.zip' -d /content/add/paper\n",
        "!unzip -qq '/content/gdrive/MyDrive/Data/rock_scissor_paper/add/paper/paper.zip' -d /content/add/paper\n",
        "!unzip -qq '/content/gdrive/MyDrive/Data/rock_scissor_paper/add/rock/rock.zip' -d /content/add/rock\n",
        "!unzip -qq '/content/gdrive/MyDrive/Data/rock_scissor_paper/add/scissor/scissor.zip' -d /content/add/scissor"
      ],
      "execution_count": 19,
      "outputs": []
    },
    {
      "cell_type": "code",
      "metadata": {
        "colab": {
          "base_uri": "https://localhost:8080/"
        },
        "id": "msq9bdn_NW3w",
        "outputId": "9dac2ce1-8948-427f-d930-a2cccb758cfb"
      },
      "source": [
        "image_dir_path = \"/content/add\"\n",
        "image_dir_path_s = image_dir_path + \"/scissor\"\n",
        "image_dir_path_r = image_dir_path + \"/rock\"\n",
        "image_dir_path_p  = image_dir_path + \"/paper\"\n",
        "\n",
        "resize_images(image_dir_path_s)\n",
        "print(\"--가위 이미지 resize 완료!--\")\n",
        "\n",
        "resize_images(image_dir_path_r)\n",
        "print(\"--바위 이미지 resize 완료!--\")\n",
        "\n",
        "resize_images(image_dir_path_p)\n",
        "print(\"--보 이미지 resize 완료!--\")"
      ],
      "execution_count": 20,
      "outputs": [
        {
          "output_type": "stream",
          "text": [
            "2421  images to be resized.\n",
            "2421  images resized.\n",
            "--가위 이미지 resize 완료!--\n",
            "2537  images to be resized.\n",
            "2537  images resized.\n",
            "--바위 이미지 resize 완료!--\n",
            "2535  images to be resized.\n",
            "2535  images resized.\n",
            "--보 이미지 resize 완료!--\n"
          ],
          "name": "stdout"
        }
      ]
    },
    {
      "cell_type": "code",
      "metadata": {
        "colab": {
          "base_uri": "https://localhost:8080/"
        },
        "id": "n1oq0bHw4f3m",
        "outputId": "36567b27-c4f9-4030-e456-a1b5e213b9da"
      },
      "source": [
        "\n",
        "\n",
        "\n",
        "#데이터 불러오기\n",
        "image_dir_path = \"/content/add\"\n",
        "(X, y)=load_data(image_dir_path,7493)\n",
        "\n",
        "# 입력은 0~1 사이의 값으로 정규화\n",
        "X_norm = X/255.0 \n",
        "X_train, X_test, y_train, y_test = train_test_split(X_norm, y, test_size=0.2, random_state=42)\n",
        "\n",
        "print(\"X_train shape: {}\".format(X_train.shape))\n",
        "print(\"y_train shape: {}\".format(y_train.shape))\n",
        "print(\"X_test shape: {}\".format(X_test.shape))\n",
        "print(\"y_test shape: {}\".format(y_test.shape))\n"
      ],
      "execution_count": 21,
      "outputs": [
        {
          "output_type": "stream",
          "text": [
            "이미지 개수는 7493 입니다.\n",
            "X_train shape: (5994, 28, 28, 3)\n",
            "y_train shape: (5994,)\n",
            "X_test shape: (1499, 28, 28, 3)\n",
            "y_test shape: (1499,)\n"
          ],
          "name": "stdout"
        }
      ]
    },
    {
      "cell_type": "markdown",
      "metadata": {
        "id": "bd4hEChBL9_A"
      },
      "source": [
        "모델도 조금 바꿔주었습니다 ㅎㅎ"
      ]
    },
    {
      "cell_type": "code",
      "metadata": {
        "colab": {
          "base_uri": "https://localhost:8080/"
        },
        "id": "Q5Ttxlwh-pde",
        "outputId": "ec5e5b33-cc48-4dd2-f079-22aab25a017f"
      },
      "source": [
        "n_channel_1=20 #32\n",
        "n_channel_2=40 #64\n",
        "n_channel_3=128\n",
        "n_dense=128\n",
        "n_train_epoch=15\n",
        "\n",
        "model2=keras.models.Sequential()\n",
        "model2.add(keras.layers.Conv2D(n_channel_1, (3,3), activation='relu', input_shape=(28,28,3)))\n",
        "model2.add(keras.layers.MaxPool2D(2,2))\n",
        "model2.add(keras.layers.Conv2D(n_channel_2, (3,3), activation='relu'))\n",
        "model2.add(keras.layers.MaxPooling2D((2,2)))\n",
        "model2.add(keras.layers.Conv2D(n_channel_3, (3,3), activation='relu'))\n",
        "model2.add(keras.layers.MaxPooling2D((2,2)))\n",
        "model2.add(keras.layers.Flatten())\n",
        "model2.add(keras.layers.Dense(n_dense, activation='relu'))\n",
        "model2.add(keras.layers.Dense(3, activation='softmax'))\n",
        "model2.summary()\n",
        "\n",
        "model2.compile(optimizer='adam',\n",
        "             loss='sparse_categorical_crossentropy',\n",
        "             metrics=['accuracy'])"
      ],
      "execution_count": 75,
      "outputs": [
        {
          "output_type": "stream",
          "text": [
            "Model: \"sequential_17\"\n",
            "_________________________________________________________________\n",
            "Layer (type)                 Output Shape              Param #   \n",
            "=================================================================\n",
            "conv2d_50 (Conv2D)           (None, 26, 26, 20)        560       \n",
            "_________________________________________________________________\n",
            "max_pooling2d_50 (MaxPooling (None, 13, 13, 20)        0         \n",
            "_________________________________________________________________\n",
            "conv2d_51 (Conv2D)           (None, 11, 11, 40)        7240      \n",
            "_________________________________________________________________\n",
            "max_pooling2d_51 (MaxPooling (None, 5, 5, 40)          0         \n",
            "_________________________________________________________________\n",
            "conv2d_52 (Conv2D)           (None, 3, 3, 128)         46208     \n",
            "_________________________________________________________________\n",
            "max_pooling2d_52 (MaxPooling (None, 1, 1, 128)         0         \n",
            "_________________________________________________________________\n",
            "flatten_17 (Flatten)         (None, 128)               0         \n",
            "_________________________________________________________________\n",
            "dense_34 (Dense)             (None, 128)               16512     \n",
            "_________________________________________________________________\n",
            "dense_35 (Dense)             (None, 3)                 387       \n",
            "=================================================================\n",
            "Total params: 70,907\n",
            "Trainable params: 70,907\n",
            "Non-trainable params: 0\n",
            "_________________________________________________________________\n"
          ],
          "name": "stdout"
        }
      ]
    },
    {
      "cell_type": "markdown",
      "metadata": {
        "id": "phYYhtWNMFzI"
      },
      "source": [
        "그리고 데이터 7493개를 모두 사용합니다 !!  \n",
        "(어짜피 test할 데이터는 따로 있어서 train과 test로 분류를 한 것 보다 모든 데이터를 쓰는게 더 좋을 것 같아 바꿨습니다)"
      ]
    },
    {
      "cell_type": "code",
      "metadata": {
        "colab": {
          "base_uri": "https://localhost:8080/"
        },
        "id": "wHXfKqVjJDyT",
        "outputId": "448d9cff-7f6f-44ca-ae25-98ab062a06cd"
      },
      "source": [
        "history = model2.fit(X_norm ,y , epochs=n_train_epoch)"
      ],
      "execution_count": 76,
      "outputs": [
        {
          "output_type": "stream",
          "text": [
            "Epoch 1/15\n",
            "235/235 [==============================] - 1s 4ms/step - loss: 0.9617 - accuracy: 0.4922\n",
            "Epoch 2/15\n",
            "235/235 [==============================] - 1s 4ms/step - loss: 0.4670 - accuracy: 0.8162\n",
            "Epoch 3/15\n",
            "235/235 [==============================] - 1s 4ms/step - loss: 0.2626 - accuracy: 0.9047\n",
            "Epoch 4/15\n",
            "235/235 [==============================] - 1s 4ms/step - loss: 0.1662 - accuracy: 0.9387\n",
            "Epoch 5/15\n",
            "235/235 [==============================] - 1s 4ms/step - loss: 0.0951 - accuracy: 0.9706\n",
            "Epoch 6/15\n",
            "235/235 [==============================] - 1s 4ms/step - loss: 0.0897 - accuracy: 0.9694\n",
            "Epoch 7/15\n",
            "235/235 [==============================] - 1s 4ms/step - loss: 0.0628 - accuracy: 0.9809\n",
            "Epoch 8/15\n",
            "235/235 [==============================] - 1s 4ms/step - loss: 0.0436 - accuracy: 0.9856\n",
            "Epoch 9/15\n",
            "235/235 [==============================] - 1s 4ms/step - loss: 0.0531 - accuracy: 0.9808\n",
            "Epoch 10/15\n",
            "235/235 [==============================] - 1s 4ms/step - loss: 0.0266 - accuracy: 0.9913\n",
            "Epoch 11/15\n",
            "235/235 [==============================] - 1s 4ms/step - loss: 0.0174 - accuracy: 0.9951\n",
            "Epoch 12/15\n",
            "235/235 [==============================] - 1s 4ms/step - loss: 0.1039 - accuracy: 0.9677\n",
            "Epoch 13/15\n",
            "235/235 [==============================] - 1s 4ms/step - loss: 0.0174 - accuracy: 0.9956\n",
            "Epoch 14/15\n",
            "235/235 [==============================] - 1s 4ms/step - loss: 0.0353 - accuracy: 0.9897\n",
            "Epoch 15/15\n",
            "235/235 [==============================] - 1s 4ms/step - loss: 0.0194 - accuracy: 0.9945\n"
          ],
          "name": "stdout"
        }
      ]
    },
    {
      "cell_type": "code",
      "metadata": {
        "colab": {
          "base_uri": "https://localhost:8080/"
        },
        "id": "jXSqP6Tz-us9",
        "outputId": "a98f21ef-f23c-4e6c-a50b-28bca1cbd642"
      },
      "source": [
        "test_loss, test_accuracy = model2.evaluate(x_test2_norm, y_test2, verbose=2)\n",
        "print(\"test_loss: {} \".format(test_loss))\n",
        "print(\"test_accuracy: {}\".format(test_accuracy))"
      ],
      "execution_count": 77,
      "outputs": [
        {
          "output_type": "stream",
          "text": [
            "12/12 - 0s - loss: 2.8284 - accuracy: 0.6045\n",
            "test_loss: 2.8283615112304688 \n",
            "test_accuracy: 0.6044568419456482\n"
          ],
          "name": "stdout"
        }
      ]
    },
    {
      "cell_type": "markdown",
      "metadata": {
        "id": "z88Ay4M7McWS"
      },
      "source": [
        "휴,,, 겨우,, 60퍼를 넘겼네요 😂\n",
        "\n"
      ]
    },
    {
      "cell_type": "markdown",
      "metadata": {
        "id": "wagJehTAMl4S"
      },
      "source": [
        "---\n",
        "# 🤔회고록🤔\n",
        "- 기존에 있는 데이터 중에서 test를 하면 90%가 넘었지만 모델이 전혀 보지 못한 데이터들은 60%를 넘기는 것이 생각보다 너무 어려웠다.\n",
        "- 모델의 성능이 안나온다면 모델의 구조를 바꾸거나 데이터 양을 늘리는 것을 시도하면 된다.\n",
        "- 근데 같은 모델을 컴파일만 했을 뿐인데 매번 성능이 다르게 나온다. 한 epoch당 학습할 235개의 데이터를 랜덤으로 뽑아서 그런 것일까? 사실 저 60퍼도 엄청나게 계속 연속적으로 돌려서 나온 것이다...\n",
        "- 데이터 증강을 위해 사진을 돌려도 보고 뒤집어도 봤는데 오히려 더 안좋은 성능이 나왔다 ㅜ "
      ]
    }
  ]
}