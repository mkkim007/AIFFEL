{
  "nbformat": 4,
  "nbformat_minor": 0,
  "metadata": {
    "colab": {
      "name": "인공지능 가위바위보.ipynb",
      "provenance": [],
      "mount_file_id": "1B0Xjif9n9pLCBqGAyTrLHDVKjz4PecgG",
      "authorship_tag": "ABX9TyNpGzLiDUrg1FT8zAasbK+n",
      "include_colab_link": true
    },
    "kernelspec": {
      "name": "python3",
      "display_name": "Python 3"
    },
    "language_info": {
      "name": "python"
    },
    "accelerator": "GPU"
  },
  "cells": [
    {
      "cell_type": "markdown",
      "metadata": {
        "id": "view-in-github",
        "colab_type": "text"
      },
      "source": [
        "<a href=\"https://colab.research.google.com/github/mkkim007/AIFFEL/blob/main/%EC%9D%B8%EA%B3%B5%EC%A7%80%EB%8A%A5_%EA%B0%80%EC%9C%84%EB%B0%94%EC%9C%84%EB%B3%B4.ipynb\" target=\"_parent\"><img src=\"https://colab.research.google.com/assets/colab-badge.svg\" alt=\"Open In Colab\"/></a>"
      ]
    },
    {
      "cell_type": "markdown",
      "metadata": {
        "id": "dat3K6I8smrL"
      },
      "source": [
        "# 인공지능 가위바위보 "
      ]
    },
    {
      "cell_type": "markdown",
      "metadata": {
        "id": "LS77T5vOxD6R"
      },
      "source": [
        "## Import : 필요한 라이브러리 가져오기"
      ]
    },
    {
      "cell_type": "code",
      "metadata": {
        "id": "0cvMHzXbsHhr"
      },
      "source": [
        "from PIL import Image\n",
        "import matplotlib.pyplot as plt\n",
        "import os, glob\n",
        "import os\n",
        "import numpy as np\n",
        "import tensorflow as tf\n",
        "from tensorflow import keras\n",
        "\n",
        "from sklearn.model_selection import train_test_split"
      ],
      "execution_count": 14,
      "outputs": []
    },
    {
      "cell_type": "markdown",
      "metadata": {
        "id": "JpQ0nLuJsqUe"
      },
      "source": [
        "## Load the dataset : 데이터 불러오기"
      ]
    },
    {
      "cell_type": "markdown",
      "metadata": {
        "id": "uxCfRoCMzbLW"
      },
      "source": [
        "### 구글 드라이브 연동"
      ]
    },
    {
      "cell_type": "markdown",
      "metadata": {
        "id": "Ql3dk2-hs_QH"
      },
      "source": [
        "먼저 구글 드라이브를 연동 시킵니다."
      ]
    },
    {
      "cell_type": "code",
      "metadata": {
        "colab": {
          "base_uri": "https://localhost:8080/"
        },
        "id": "ir_YFsz4QI5Q",
        "outputId": "8cb61b8a-b9d4-4b2d-fb98-762989488ca5"
      },
      "source": [
        "from google.colab import drive\n",
        "drive.mount('/content/gdrive')"
      ],
      "execution_count": 15,
      "outputs": [
        {
          "output_type": "stream",
          "text": [
            "Drive already mounted at /content/gdrive; to attempt to forcibly remount, call drive.mount(\"/content/gdrive\", force_remount=True).\n"
          ],
          "name": "stdout"
        }
      ]
    },
    {
      "cell_type": "markdown",
      "metadata": {
        "id": "_WdDIrVrwBx8"
      },
      "source": [
        "구글 드라이브를 연동 시키면 아래와 같이 gdrive 폴더가 생깁니다.  \n",
        "저의 데이터들은 '/content/gdrive/MyDrive/Data/rock_scissor_paper'에 위치 하고 있습니다."
      ]
    },
    {
      "cell_type": "markdown",
      "metadata": {
        "id": "2oBFHXJ_vehj"
      },
      "source": [
        "![image.png](data:image/png;base64,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)"
      ]
    },
    {
      "cell_type": "markdown",
      "metadata": {
        "id": "Ou8JtdPewWNo"
      },
      "source": [
        "각각 불러와 압축을 풀어 줍시다."
      ]
    },
    {
      "cell_type": "code",
      "metadata": {
        "id": "Jofsj5xStFmj"
      },
      "source": [
        "!unzip -qq '/content/gdrive/MyDrive/Data/rock_scissor_paper/rock/rocks_complete.zip'\n",
        "!unzip -qq '/content/gdrive/MyDrive/Data/rock_scissor_paper/scissor/scissors_complete.zip'\n",
        "!unzip -qq '/content/gdrive/MyDrive/Data/rock_scissor_paper/paper/papers_complete.zip'"
      ],
      "execution_count": 16,
      "outputs": []
    },
    {
      "cell_type": "markdown",
      "metadata": {
        "id": "uBkMKYy5wbxj"
      },
      "source": [
        "그럼 아래와 같이 데이터가 담긴 폴더가 생깁니다! 이렇게 하면 데이터에 접근할때 빠른 속도로 접근할 수 있습니다.\n",
        "\n",
        "![image.png](data:image/png;base64,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)"
      ]
    },
    {
      "cell_type": "markdown",
      "metadata": {
        "id": "miAzrihsy07Z"
      },
      "source": [
        "추가로 밑에 코드를 위해서 파일명도 바꿔주었습니다."
      ]
    },
    {
      "cell_type": "code",
      "metadata": {
        "id": "_NjKAhoZySoK"
      },
      "source": [
        "!mv papers_complete paper\n",
        "!mv rocks_complete rock\n",
        "!mv scissors_complete scissor"
      ],
      "execution_count": 17,
      "outputs": []
    },
    {
      "cell_type": "markdown",
      "metadata": {
        "id": "URqPtNWMzjGd"
      },
      "source": [
        "### 데이터 불러오기"
      ]
    },
    {
      "cell_type": "markdown",
      "metadata": {
        "id": "bpCiE5qVxTnA"
      },
      "source": [
        "본격적인 데이터를 불러오는 코드를 작성합시다.\n",
        "아래의 코드는 **파일경로와 이미지 개수**를 입력하면 **이미지와 그에 따른 라벨**을 return 해줍니다."
      ]
    },
    {
      "cell_type": "code",
      "metadata": {
        "id": "lSz44B6Z0RFm"
      },
      "source": [
        "\n",
        "def load_data(img_path, number_of_data=300):  # 가위바위보 이미지 개수 총합에 주의하세요.\n",
        "    # 가위 : 0, 바위 : 1, 보 : 2\n",
        "    img_size=28\n",
        "    color=3\n",
        "    #이미지 데이터와 라벨(가위 : 0, 바위 : 1, 보 : 2) 데이터를 담을 행렬(matrix) 영역을 생성합니다.\n",
        "    imgs=np.zeros(number_of_data*img_size*img_size*color,dtype=np.int32).reshape(number_of_data,img_size,img_size,color)\n",
        "    labels=np.zeros(number_of_data,dtype=np.int32)\n",
        "\n",
        "    idx=0\n",
        "    for file in glob.iglob(img_path+'/scissor/*.jpg'):\n",
        "        img = np.array(Image.open(file),dtype=np.int32)\n",
        "        imgs[idx,:,:,:]=img    # 데이터 영역에 이미지 행렬을 복사\n",
        "        labels[idx]=0   # 가위 : 0\n",
        "        idx=idx+1\n",
        "\n",
        "    for file in glob.iglob(img_path+'/rock/*.jpg'):\n",
        "        img = np.array(Image.open(file),dtype=np.int32)\n",
        "        imgs[idx,:,:,:]=img    # 데이터 영역에 이미지 행렬을 복사\n",
        "        labels[idx]=1   # 바위 : 1\n",
        "        idx=idx+1  \n",
        "    \n",
        "    for file in glob.iglob(img_path+'/paper/*.jpg'):\n",
        "        img = np.array(Image.open(file),dtype=np.int32)\n",
        "        imgs[idx,:,:,:]=img    # 데이터 영역에 이미지 행렬을 복사\n",
        "        labels[idx]=2   # 보 : 2\n",
        "        idx=idx+1\n",
        "        \n",
        "    print(\"이미지 개수는\", idx,\"입니다.\")\n",
        "    return imgs, labels\n",
        "\n"
      ],
      "execution_count": 18,
      "outputs": []
    },
    {
      "cell_type": "markdown",
      "metadata": {
        "id": "V_JS7F_iz-VL"
      },
      "source": [
        "그 전에 저희 데이터의 size는 224 X 224 인데 모델(MNIST를 돌렸던,,,)에 입력으로 들어가는 size는 28 X 28이기 때문에 resize를 해줘야합니다."
      ]
    },
    {
      "cell_type": "markdown",
      "metadata": {
        "id": "AxHga0NkzIiw"
      },
      "source": [
        "## Preprocessing : 데이터 전처리"
      ]
    },
    {
      "cell_type": "markdown",
      "metadata": {
        "id": "mA6mYHaB0cgP"
      },
      "source": [
        "### Resize 하기"
      ]
    },
    {
      "cell_type": "code",
      "metadata": {
        "id": "mt_yPStU8l8G"
      },
      "source": [
        "def resize_images(img_path):\n",
        "\timages=glob.glob(img_path + \"/*.jpg\")  \n",
        "    \n",
        "\tprint(len(images), \" images to be resized.\")\n",
        "\n",
        "    # 파일마다 모두 28x28 사이즈로 바꾸어 저장합니다.\n",
        "\ttarget_size=(28,28)\n",
        "\tfor img in images:\n",
        "\t\told_img=Image.open(img)\n",
        "\t\tnew_img=old_img.resize(target_size,Image.ANTIALIAS)\n",
        "\t\tnew_img.save(img, \"JPEG\")\n",
        "    \n",
        "\tprint(len(images), \" images resized.\")"
      ],
      "execution_count": 19,
      "outputs": []
    },
    {
      "cell_type": "code",
      "metadata": {
        "colab": {
          "base_uri": "https://localhost:8080/"
        },
        "id": "yAW9b8Td8ohn",
        "outputId": "7eaeb04d-47f3-4c60-d0d5-a1a0c4849686"
      },
      "source": [
        "image_dir_path = \"/content\"\n",
        "image_dir_path_s = image_dir_path + \"/scissor\"\n",
        "image_dir_path_r = image_dir_path + \"/rock\"\n",
        "image_dir_path_p  = image_dir_path + \"/paper\"\n",
        "\n",
        "resize_images(image_dir_path_s)\n",
        "print(\"--가위 이미지 resize 완료!--\")\n",
        "\n",
        "resize_images(image_dir_path_r)\n",
        "print(\"--바위 이미지 resize 완료!--\")\n",
        "\n",
        "resize_images(image_dir_path_p)\n",
        "print(\"--보 이미지 resize 완료!--\")"
      ],
      "execution_count": 20,
      "outputs": [
        {
          "output_type": "stream",
          "text": [
            "994  images to be resized.\n",
            "994  images resized.\n",
            "--가위 이미지 resize 완료!--\n",
            "1105  images to be resized.\n",
            "1105  images resized.\n",
            "--바위 이미지 resize 완료!--\n",
            "1108  images to be resized.\n",
            "1108  images resized.\n",
            "--보 이미지 resize 완료!--\n"
          ],
          "name": "stdout"
        }
      ]
    },
    {
      "cell_type": "markdown",
      "metadata": {
        "id": "VNkkKRjM1jZl"
      },
      "source": [
        "### 정규화 하기"
      ]
    },
    {
      "cell_type": "markdown",
      "metadata": {
        "id": "FQR2t1Zo1nP_"
      },
      "source": [
        "이제 데이터를 불러와 0~1 사이의 값으로 정규화를 해줍니다."
      ]
    },
    {
      "cell_type": "code",
      "metadata": {
        "colab": {
          "base_uri": "https://localhost:8080/"
        },
        "id": "52PBUJio8wNt",
        "outputId": "4606deb4-4a31-4eed-dee0-63a379fd1475"
      },
      "source": [
        "#데이터 불러오기\n",
        "image_dir_path = \"/content\"\n",
        "(X, y)=load_data(image_dir_path,3207)\n",
        "\n",
        "# 입력은 0~1 사이의 값으로 정규화\n",
        "X_norm = X/255.0 \n",
        "X_train, X_test, y_train, y_test = train_test_split(X_norm, y, test_size=0.2, random_state=42)\n",
        "\n",
        "print(\"X_train shape: {}\".format(X_train.shape))\n",
        "print(\"y_train shape: {}\".format(y_train.shape))\n",
        "print(\"X_test shape: {}\".format(X_test.shape))\n",
        "print(\"y_test shape: {}\".format(y_test.shape))"
      ],
      "execution_count": 21,
      "outputs": [
        {
          "output_type": "stream",
          "text": [
            "이미지 개수는 3207 입니다.\n",
            "X_train shape: (2565, 28, 28, 3)\n",
            "y_train shape: (2565,)\n",
            "X_test shape: (642, 28, 28, 3)\n",
            "y_test shape: (642,)\n"
          ],
          "name": "stdout"
        }
      ]
    },
    {
      "cell_type": "markdown",
      "metadata": {
        "id": "TvC_8k9Q3gLt"
      },
      "source": [
        "잘 불러 왔는지 확인을 해봅시다!!"
      ]
    },
    {
      "cell_type": "code",
      "metadata": {
        "colab": {
          "base_uri": "https://localhost:8080/",
          "height": 283
        },
        "id": "lr-BW1o33i2p",
        "outputId": "2026b5ed-10de-4e12-83f4-58b1d4d56d3c"
      },
      "source": [
        "plt.imshow(X_train[44],cmap=plt.cm.binary)"
      ],
      "execution_count": 22,
      "outputs": [
        {
          "output_type": "execute_result",
          "data": {
            "text/plain": [
              "<matplotlib.image.AxesImage at 0x7fd92e742750>"
            ]
          },
          "metadata": {
            "tags": []
          },
          "execution_count": 22
        },
        {
          "output_type": "display_data",
          "data": {
            "image/png": "[encoded data removed]",
            "text/plain": [
              "<Figure size 432x288 with 1 Axes>"
            ]
          },
          "metadata": {
            "tags": [],
            "needs_background": "light"
          }
        }
      ]
    },
    {
      "cell_type": "markdown",
      "metadata": {
        "id": "F57OO2G119WO"
      },
      "source": [
        "## Build the model : 모델 구성하기"
      ]
    },
    {
      "cell_type": "markdown",
      "metadata": {
        "id": "eR6Vbwh83BWi"
      },
      "source": [
        "### configuring the layers"
      ]
    },
    {
      "cell_type": "code",
      "metadata": {
        "colab": {
          "base_uri": "https://localhost:8080/"
        },
        "id": "ZppAsqX30R8J",
        "outputId": "d4919f67-8ff9-4ddf-d020-d071a441c464"
      },
      "source": [
        "n_channel_1=16\n",
        "n_channel_2=32\n",
        "n_dense=32\n",
        "n_train_epoch=15\n",
        "\n",
        "model=keras.models.Sequential()\n",
        "model.add(keras.layers.Conv2D(n_channel_1, (3,3), activation='relu', input_shape=(28,28,3)))\n",
        "model.add(keras.layers.MaxPool2D(2,2))\n",
        "model.add(keras.layers.Conv2D(n_channel_2, (3,3), activation='relu'))\n",
        "model.add(keras.layers.MaxPooling2D((2,2)))\n",
        "model.add(keras.layers.Flatten())\n",
        "model.add(keras.layers.Dense(n_dense, activation='relu'))\n",
        "model.add(keras.layers.Dense(3, activation='softmax'))\n",
        "model.summary()"
      ],
      "execution_count": 23,
      "outputs": [
        {
          "output_type": "stream",
          "text": [
            "Model: \"sequential\"\n",
            "_________________________________________________________________\n",
            "Layer (type)                 Output Shape              Param #   \n",
            "=================================================================\n",
            "conv2d (Conv2D)              (None, 26, 26, 16)        448       \n",
            "_________________________________________________________________\n",
            "max_pooling2d (MaxPooling2D) (None, 13, 13, 16)        0         \n",
            "_________________________________________________________________\n",
            "conv2d_1 (Conv2D)            (None, 11, 11, 32)        4640      \n",
            "_________________________________________________________________\n",
            "max_pooling2d_1 (MaxPooling2 (None, 5, 5, 32)          0         \n",
            "_________________________________________________________________\n",
            "flatten (Flatten)            (None, 800)               0         \n",
            "_________________________________________________________________\n",
            "dense (Dense)                (None, 32)                25632     \n",
            "_________________________________________________________________\n",
            "dense_1 (Dense)              (None, 3)                 99        \n",
            "=================================================================\n",
            "Total params: 30,819\n",
            "Trainable params: 30,819\n",
            "Non-trainable params: 0\n",
            "_________________________________________________________________\n"
          ],
          "name": "stdout"
        }
      ]
    },
    {
      "cell_type": "markdown",
      "metadata": {
        "id": "R5zB2D2B3Fyn"
      },
      "source": [
        "### compiling the model"
      ]
    },
    {
      "cell_type": "code",
      "metadata": {
        "id": "s7i3Ttfp0UrD"
      },
      "source": [
        "model.compile(optimizer='adam',\n",
        "             loss='sparse_categorical_crossentropy',\n",
        "             metrics=['accuracy'])"
      ],
      "execution_count": 24,
      "outputs": []
    },
    {
      "cell_type": "markdown",
      "metadata": {
        "id": "J3umu5Ld3Lh3"
      },
      "source": [
        "## Train the model : 모델 학습시키기"
      ]
    },
    {
      "cell_type": "code",
      "metadata": {
        "colab": {
          "base_uri": "https://localhost:8080/"
        },
        "id": "1CS9iLG83UdB",
        "outputId": "c005feeb-326c-40d5-9541-85baa2bb8e4a"
      },
      "source": [
        "model.fit(X_train, y_train, epochs=n_train_epoch)"
      ],
      "execution_count": 25,
      "outputs": [
        {
          "output_type": "stream",
          "text": [
            "Epoch 1/15\n",
            "81/81 [==============================] - 32s 4ms/step - loss: 1.0869 - accuracy: 0.3712\n",
            "Epoch 2/15\n",
            "81/81 [==============================] - 0s 3ms/step - loss: 0.9393 - accuracy: 0.5559\n",
            "Epoch 3/15\n",
            "81/81 [==============================] - 0s 3ms/step - loss: 0.7865 - accuracy: 0.6456\n",
            "Epoch 4/15\n",
            "81/81 [==============================] - 0s 3ms/step - loss: 0.6266 - accuracy: 0.7314\n",
            "Epoch 5/15\n",
            "81/81 [==============================] - 0s 3ms/step - loss: 0.5249 - accuracy: 0.8016\n",
            "Epoch 6/15\n",
            "81/81 [==============================] - 0s 3ms/step - loss: 0.4328 - accuracy: 0.8429\n",
            "Epoch 7/15\n",
            "81/81 [==============================] - 0s 3ms/step - loss: 0.3440 - accuracy: 0.8784\n",
            "Epoch 8/15\n",
            "81/81 [==============================] - 0s 3ms/step - loss: 0.2653 - accuracy: 0.9158\n",
            "Epoch 9/15\n",
            "81/81 [==============================] - 0s 3ms/step - loss: 0.2136 - accuracy: 0.9341\n",
            "Epoch 10/15\n",
            "81/81 [==============================] - 0s 3ms/step - loss: 0.1825 - accuracy: 0.9435\n",
            "Epoch 11/15\n",
            "81/81 [==============================] - 0s 3ms/step - loss: 0.1579 - accuracy: 0.9509\n",
            "Epoch 12/15\n",
            "81/81 [==============================] - 0s 3ms/step - loss: 0.1293 - accuracy: 0.9634\n",
            "Epoch 13/15\n",
            "81/81 [==============================] - 0s 3ms/step - loss: 0.1117 - accuracy: 0.9684\n",
            "Epoch 14/15\n",
            "81/81 [==============================] - 0s 3ms/step - loss: 0.0890 - accuracy: 0.9770\n",
            "Epoch 15/15\n",
            "81/81 [==============================] - 0s 3ms/step - loss: 0.0779 - accuracy: 0.9805\n"
          ],
          "name": "stdout"
        },
        {
          "output_type": "execute_result",
          "data": {
            "text/plain": [
              "<tensorflow.python.keras.callbacks.History at 0x7fd92e702950>"
            ]
          },
          "metadata": {
            "tags": []
          },
          "execution_count": 25
        }
      ]
    },
    {
      "cell_type": "markdown",
      "metadata": {
        "id": "nc5oOslk3VWl"
      },
      "source": [
        "## Evaluate accuracy : 정확도 측정하기"
      ]
    },
    {
      "cell_type": "code",
      "metadata": {
        "colab": {
          "base_uri": "https://localhost:8080/"
        },
        "id": "feXMvDPZ0cAb",
        "outputId": "d68ed188-1580-41c3-aedc-9eb4a75c2ea6"
      },
      "source": [
        "# model을 학습시키는 코드를 직접 작성해 보세요.\n",
        "# Hint! model.evaluate()을 사용해 봅시다.\n",
        "test_loss, test_accuracy = model.evaluate(X_test, y_test, verbose=2)\n",
        "print(\"test_loss: {} \".format(test_loss))\n",
        "print(\"test_accuracy: {}\".format(test_accuracy))"
      ],
      "execution_count": 26,
      "outputs": [
        {
          "output_type": "stream",
          "text": [
            "21/21 - 0s - loss: 0.1111 - accuracy: 0.9642\n",
            "test_loss: 0.11107531934976578 \n",
            "test_accuracy: 0.9641744494438171\n"
          ],
          "name": "stdout"
        }
      ]
    },
    {
      "cell_type": "markdown",
      "metadata": {
        "id": "8NIBrHsP4SJ5"
      },
      "source": [
        "96%로 꽤나 높은 정확도를 보여주고 있습니다.   \n",
        "하지만 여기서 한번도 안보여준 데이터를 넣으면 어떻게 될까요?"
      ]
    },
    {
      "cell_type": "code",
      "metadata": {
        "id": "6vyKPbov4qGA"
      },
      "source": [
        ""
      ],
      "execution_count": null,
      "outputs": []
    }
  ]
}